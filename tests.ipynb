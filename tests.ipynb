{
 "cells": [
  {
   "cell_type": "code",
   "execution_count": 1,
   "metadata": {},
   "outputs": [],
   "source": [
    "import numpy as np\n",
    "import networkx as nx\n",
    "import matplotlib.pylab as plt"
   ]
  },
  {
   "cell_type": "markdown",
   "metadata": {},
   "source": [
    "### Check for the first graph"
   ]
  },
  {
   "cell_type": "code",
   "execution_count": 72,
   "metadata": {},
   "outputs": [
    {
     "data": {
      "text/plain": [
       "array([[0., 1., 1., 0., 0., 1.],\n",
       "       [1., 0., 1., 0., 0., 0.],\n",
       "       [1., 1., 0., 0., 0., 0.],\n",
       "       [0., 0., 0., 0., 1., 1.],\n",
       "       [0., 0., 0., 1., 0., 1.],\n",
       "       [1., 0., 0., 1., 1., 0.]])"
      ]
     },
     "execution_count": 72,
     "metadata": {},
     "output_type": "execute_result"
    },
    {
     "data": {
      "image/png": "[encoded data removed]",
      "text/plain": [
       "<Figure size 200x200 with 1 Axes>"
      ]
     },
     "metadata": {},
     "output_type": "display_data"
    }
   ],
   "source": [
    "G = nx.Graph()\n",
    "fig, ax = plt.subplots(1, 1, sharey=True, figsize=(2, 2))\n",
    "\n",
    "# Resolution\n",
    "res = 1\n",
    "\n",
    "# Add edges to the graph (also adds nodes)\n",
    "G.add_edges_from([(0,1),(1,2),(0,2), (3,4),(4,5),(5,3), (5,0)])\n",
    "nx.draw(G, ax=ax)\n",
    "c1 = [0,1,2]\n",
    "c2 = [3,4,5]\n",
    "c = c1+c2\n",
    "A_ij = nx.to_numpy_array(G, nodelist=c)\n",
    "A_ij"
   ]
  },
  {
   "cell_type": "markdown",
   "metadata": {},
   "source": [
    "#### Samplers"
   ]
  },
  {
   "cell_type": "code",
   "execution_count": 80,
   "metadata": {},
   "outputs": [],
   "source": [
    "from samplers.regular.dqm_sampler import DQMSampler\n",
    "from samplers.regular.louvain_sampler import LouvainSampler\n",
    "from searchers.community_searcher import CommunitySearcher\n",
    "from samplers.regular.bayan_sampler import BayanSampler\n",
    "from samplers.regular.leiden import LeidenSampler\n",
    "\n",
    "\n",
    "bayan = BayanSampler(G)\n",
    "leiden = LeidenSampler(G)\n",
    "dqm = DQMSampler(G, 5)\n",
    "louvain = LouvainSampler(G, 1)\n",
    "\n",
    "bayan_searcher = CommunitySearcher(bayan)\n",
    "leiden_searcher = CommunitySearcher(leiden)\n",
    "dqm_searcher = CommunitySearcher(dqm)\n",
    "louvain_searcher = CommunitySearcher(louvain)"
   ]
  },
  {
   "cell_type": "code",
   "execution_count": 81,
   "metadata": {},
   "outputs": [],
   "source": [
    "bayan_results = bayan_searcher.community_search(return_list=False);"
   ]
  },
  {
   "cell_type": "code",
   "execution_count": 82,
   "metadata": {},
   "outputs": [
    {
     "data": {
      "text/plain": [
       "{'x0': 0, 'x1': 0, 'x2': 0, 'x3': 1, 'x4': 1, 'x5': 1}"
      ]
     },
     "execution_count": 82,
     "metadata": {},
     "output_type": "execute_result"
    }
   ],
   "source": [
    "bayan_results"
   ]
  },
  {
   "cell_type": "code",
   "execution_count": 83,
   "metadata": {},
   "outputs": [],
   "source": [
    "leiden_results = leiden_searcher.community_search(return_list=False)"
   ]
  },
  {
   "cell_type": "code",
   "execution_count": 84,
   "metadata": {},
   "outputs": [
    {
     "data": {
      "text/plain": [
       "{'x0': 0, 'x1': 0, 'x2': 0, 'x3': 1, 'x4': 1, 'x5': 1}"
      ]
     },
     "execution_count": 84,
     "metadata": {},
     "output_type": "execute_result"
    }
   ],
   "source": [
    "leiden_results"
   ]
  },
  {
   "cell_type": "code",
   "execution_count": 15,
   "metadata": {},
   "outputs": [],
   "source": [
    "dqm_results = dqm_searcher.community_search()"
   ]
  },
  {
   "cell_type": "code",
   "execution_count": 16,
   "metadata": {},
   "outputs": [
    {
     "data": {
      "text/plain": [
       "[[0, 1, 2], [3, 4, 5]]"
      ]
     },
     "execution_count": 16,
     "metadata": {},
     "output_type": "execute_result"
    }
   ],
   "source": [
    "dqm_results"
   ]
  },
  {
   "cell_type": "code",
   "execution_count": 17,
   "metadata": {},
   "outputs": [],
   "source": [
    "louvain_results = louvain_searcher.community_search()"
   ]
  },
  {
   "cell_type": "code",
   "execution_count": 19,
   "metadata": {},
   "outputs": [
    {
     "data": {
      "text/plain": [
       "[[0, 1, 2], [3, 4, 5]]"
      ]
     },
     "execution_count": 19,
     "metadata": {},
     "output_type": "execute_result"
    }
   ],
   "source": [
    "louvain_results"
   ]
  },
  {
   "cell_type": "code",
   "execution_count": 20,
   "metadata": {},
   "outputs": [],
   "source": [
    "from samplers.hierarchical.advantage_sampler import AdvantageSampler\n",
    "from searchers.hierarchical_community_searcher import HierarchicalCommunitySearcher\n",
    "\n",
    "advantage = AdvantageSampler(G, 5)\n",
    "searcher = HierarchicalCommunitySearcher(advantage)"
   ]
  },
  {
   "cell_type": "code",
   "execution_count": 21,
   "metadata": {},
   "outputs": [],
   "source": [
    "advantage_results = searcher.hierarchical_community_search()"
   ]
  },
  {
   "cell_type": "code",
   "execution_count": 22,
   "metadata": {},
   "outputs": [
    {
     "data": {
      "text/plain": [
       "[[3, 4, 5], [0, 1, 2]]"
      ]
     },
     "execution_count": 22,
     "metadata": {},
     "output_type": "execute_result"
    }
   ],
   "source": [
    "advantage_results"
   ]
  },
  {
   "cell_type": "code",
   "execution_count": 22,
   "metadata": {},
   "outputs": [
    {
     "name": "stdout",
     "output_type": "stream",
     "text": [
      "resolution: 0.10, result: [[0, 1, 2, 3, 4, 5]]\n",
      "\n",
      "resolution: 0.20, result: [[0, 1, 2, 3, 4, 5]]\n",
      "\n",
      "resolution: 0.30, result: [[0, 1, 2], [3, 4, 5]]\n",
      "\n",
      "resolution: 0.40, result: [[0, 1, 2], [3, 4, 5]]\n",
      "\n",
      "resolution: 0.50, result: [[0, 1, 2], [3, 4, 5]]\n",
      "\n",
      "resolution: 0.60, result: [[0, 1, 2], [3, 4, 5]]\n",
      "\n",
      "resolution: 0.70, result: [[0, 1, 2], [3, 4, 5]]\n",
      "\n",
      "resolution: 0.80, result: [[0, 1, 2], [3, 4, 5]]\n",
      "\n",
      "resolution: 0.90, result: [[0, 1, 2], [3, 4, 5]]\n",
      "\n",
      "resolution: 1.00, result: [[0, 1, 2], [3, 4, 5]]\n",
      "\n"
     ]
    }
   ],
   "source": [
    "from samplers.regular.louvain_sampler import LouvainSampler\n",
    "import numpy as np\n",
    "\n",
    "for resolution in np.linspace(0.1, 1, 10):\n",
    "    louvain = LouvainSampler(G, resolution=resolution)\n",
    "    louvain_searcher = CommunitySearcher(louvain)\n",
    "    result = louvain_searcher.community_search(verbosity=0)\n",
    "    print(f\"resolution: {resolution:.2f}, result: {result}\\n\")"
   ]
  },
  {
   "cell_type": "code",
   "execution_count": 28,
   "metadata": {},
   "outputs": [
    {
     "data": {
      "image/png": "[encoded data removed]",
      "text/plain": [
       "<Figure size 640x480 with 1 Axes>"
      ]
     },
     "metadata": {},
     "output_type": "display_data"
    }
   ],
   "source": [
    "A_ij_bis = np.zeros((12,12))\n",
    "A_ij_bis[:6,:6] = A_ij\n",
    "A_ij_bis[6:12,6:12] = A_ij\n",
    "A_ij_bis[6,5] = 1\n",
    "A_ij_bis[0,-1] = 1\n",
    "\n",
    "c1 = [0,1,2]\n",
    "c2 = [3,4,5]\n",
    "c3 = [6,7,8]\n",
    "c4 = [9,10,11]\n",
    "c = c1+c2+c3+c4\n",
    "G_bis = nx.from_numpy_array(A_ij_bis)\n",
    "nx.draw(G_bis)"
   ]
  },
  {
   "cell_type": "code",
   "execution_count": 35,
   "metadata": {},
   "outputs": [],
   "source": [
    "bayan = BayanSampler(G_bis)\n",
    "leiden = LeidenSampler(G_bis)\n",
    "dqm = DQMSampler(G_bis, 5, communities=4)\n",
    "louvain = LouvainSampler(G_bis, 1)\n",
    "\n",
    "bayan_searcher = CommunitySearcher(bayan)\n",
    "leiden_searcher = CommunitySearcher(leiden)\n",
    "dqm_searcher = CommunitySearcher(dqm)\n",
    "louvain_searcher = CommunitySearcher(louvain)"
   ]
  },
  {
   "cell_type": "code",
   "execution_count": 32,
   "metadata": {},
   "outputs": [
    {
     "data": {
      "text/plain": [
       "[[0, 1, 2], [3, 4, 5], [6, 7, 8], [9, 10, 11]]"
      ]
     },
     "execution_count": 32,
     "metadata": {},
     "output_type": "execute_result"
    }
   ],
   "source": [
    "bayan_results = bayan_searcher.community_search();\n",
    "bayan_results"
   ]
  },
  {
   "cell_type": "code",
   "execution_count": 33,
   "metadata": {},
   "outputs": [
    {
     "data": {
      "text/plain": [
       "[[0, 1, 2], [3, 4, 5], [6, 7, 8], [9, 10, 11]]"
      ]
     },
     "execution_count": 33,
     "metadata": {},
     "output_type": "execute_result"
    }
   ],
   "source": [
    "leiden_results = leiden_searcher.community_search()\n",
    "leiden_results"
   ]
  },
  {
   "cell_type": "code",
   "execution_count": 36,
   "metadata": {},
   "outputs": [
    {
     "data": {
      "text/plain": [
       "[[9, 10, 11], [0, 1, 2], [3, 4, 5], [6, 7, 8]]"
      ]
     },
     "execution_count": 36,
     "metadata": {},
     "output_type": "execute_result"
    }
   ],
   "source": [
    "dqm_results = dqm_searcher.community_search()\n",
    "dqm_results"
   ]
  },
  {
   "cell_type": "code",
   "execution_count": 37,
   "metadata": {},
   "outputs": [
    {
     "data": {
      "text/plain": [
       "[[0, 1, 2], [3, 4, 5], [8, 6, 7], [9, 10, 11]]"
      ]
     },
     "execution_count": 37,
     "metadata": {},
     "output_type": "execute_result"
    }
   ],
   "source": [
    "louvain_results = louvain_searcher.community_search()\n",
    "louvain_results"
   ]
  },
  {
   "cell_type": "code",
   "execution_count": 40,
   "metadata": {},
   "outputs": [],
   "source": [
    "advantage = AdvantageSampler(G_bis, 5)\n",
    "searcher = HierarchicalCommunitySearcher(advantage)"
   ]
  },
  {
   "cell_type": "code",
   "execution_count": 41,
   "metadata": {},
   "outputs": [
    {
     "data": {
      "text/plain": [
       "[[0, 1, 2], [9, 10, 11], [3, 4, 5], [6, 7, 8]]"
      ]
     },
     "execution_count": 41,
     "metadata": {},
     "output_type": "execute_result"
    }
   ],
   "source": [
    "advantage_results = searcher.hierarchical_community_search()\n",
    "advantage_results"
   ]
  },
  {
   "cell_type": "code",
   "execution_count": 42,
   "metadata": {},
   "outputs": [
    {
     "data": {
      "image/png": "[encoded data removed]",
      "text/plain": [
       "<Figure size 640x480 with 1 Axes>"
      ]
     },
     "metadata": {},
     "output_type": "display_data"
    }
   ],
   "source": [
    "A_ij_bis_bis = np.zeros((12,12))\n",
    "A_ij_bis_bis[:6,:6] = A_ij\n",
    "A_ij_bis_bis[6:12,6:12] = A_ij\n",
    "A_ij_bis_bis[6,5] = 1\n",
    "A_ij_bis_bis[5,6] = 1\n",
    "A_ij_bis_bis[0,-1] = 1\n",
    "A_ij_bis_bis[-1,0] = 1\n",
    "\n",
    "# Extra edge\n",
    "A_ij_bis_bis[0,3] = 1\n",
    "A_ij_bis_bis[3,0] = 1\n",
    "\n",
    "c1 = [0,1,2]\n",
    "c2 = [3,4,5]\n",
    "c3 = [6,7,8]\n",
    "c4 = [9,10,11]\n",
    "c = c1+c2+c3+c4\n",
    "G_bis_bis = nx.from_numpy_array(A_ij_bis_bis)\n",
    "nx.draw(G_bis_bis, with_labels = True)"
   ]
  },
  {
   "cell_type": "code",
   "execution_count": 71,
   "metadata": {},
   "outputs": [
    {
     "name": "stdout",
     "output_type": "stream",
     "text": [
      "resolution: 0.10, result: [[0, 1, 2, 3, 4, 5, 6, 7, 8, 9, 10, 11]], communities: [{0, 1, 2, 3, 4, 5, 6, 7, 8, 9, 10, 11}]\n",
      "\n",
      "modularity: 0.00\n",
      "\n",
      "resolution: 0.20, result: [[0, 1, 2, 3, 4, 5, 6, 7, 8, 9, 10, 11]], communities: [{0, 1, 2, 3, 4, 5, 6, 7, 8, 9, 10, 11}]\n",
      "\n",
      "modularity: 0.00\n",
      "\n",
      "resolution: 0.30, result: [[0, 1, 2, 3, 4, 5], [6, 7, 8, 9, 10, 11]], communities: [{0, 1, 2, 3, 4, 5}, {6, 7, 8, 9, 10, 11}]\n",
      "\n",
      "modularity: 0.38\n",
      "\n",
      "resolution: 0.40, result: [[0, 1, 2, 3, 4, 5], [6, 7, 8, 9, 10, 11]], communities: [{0, 1, 2, 3, 4, 5}, {6, 7, 8, 9, 10, 11}]\n",
      "\n",
      "modularity: 0.38\n",
      "\n",
      "resolution: 0.50, result: [[0, 1, 2, 3, 4, 5], [6, 7, 8, 9, 10, 11]], communities: [{0, 1, 2, 3, 4, 5}, {6, 7, 8, 9, 10, 11}]\n",
      "\n",
      "modularity: 0.38\n",
      "\n",
      "resolution: 0.60, result: [[0, 1, 2, 3, 4, 5], [8, 6, 7], [9, 10, 11]], communities: [{0, 1, 2, 3, 4, 5}, {8, 6, 7}, {9, 10, 11}]\n",
      "\n",
      "modularity: 0.43\n",
      "\n",
      "resolution: 0.70, result: [[0, 1, 2, 3, 4, 5], [8, 6, 7], [9, 10, 11]], communities: [{0, 1, 2, 3, 4, 5}, {8, 6, 7}, {9, 10, 11}]\n",
      "\n",
      "modularity: 0.43\n",
      "\n",
      "resolution: 0.80, result: [[0, 1, 2, 3, 4, 5], [8, 6, 7], [9, 10, 11]], communities: [{0, 1, 2, 3, 4, 5}, {8, 6, 7}, {9, 10, 11}]\n",
      "\n",
      "modularity: 0.43\n",
      "\n",
      "resolution: 0.90, result: [[0, 1, 2], [3, 4, 5], [8, 6, 7], [9, 10, 11]], communities: [{0, 1, 2}, {3, 4, 5}, {8, 6, 7}, {9, 10, 11}]\n",
      "\n",
      "modularity: 0.46\n",
      "\n",
      "resolution: 1.00, result: [[0, 1, 2], [3, 4, 5], [8, 6, 7], [9, 10, 11]], communities: [{0, 1, 2}, {3, 4, 5}, {8, 6, 7}, {9, 10, 11}]\n",
      "\n",
      "modularity: 0.46\n",
      "\n"
     ]
    }
   ],
   "source": [
    "from samplers.regular.louvain_sampler import LouvainSampler\n",
    "import numpy as np\n",
    "\n",
    "for resolution in np.linspace(0.1, 1, 10):\n",
    "    louvain = LouvainSampler(G_bis_bis, resolution=resolution)\n",
    "    louvain_searcher = CommunitySearcher(louvain)\n",
    "    result = louvain_searcher.community_search(verbosity=0)\n",
    "    communities = nx.community.louvain_communities(G=G_bis_bis, resolution=resolution)\n",
    "    print(f\"resolution: {resolution:.2f}, result: {result}, communities: {communities}\\n\")\n",
    "    modularity = nx.community.modularity(G_bis_bis, result)\n",
    "    print(f\"modularity: {modularity:.2f}\\n\")"
   ]
  },
  {
   "cell_type": "code",
   "execution_count": 85,
   "metadata": {},
   "outputs": [],
   "source": [
    "bayan = BayanSampler(G_bis_bis)\n",
    "leiden = LeidenSampler(G_bis_bis)\n",
    "dqm = DQMSampler(G_bis_bis, 5, communities=4)\n",
    "louvain = LouvainSampler(G_bis_bis, 1)\n",
    "\n",
    "bayan_searcher = CommunitySearcher(bayan)\n",
    "leiden_searcher = CommunitySearcher(leiden)\n",
    "dqm_searcher = CommunitySearcher(dqm)\n",
    "louvain_searcher = CommunitySearcher(louvain)"
   ]
  },
  {
   "cell_type": "code",
   "execution_count": 86,
   "metadata": {},
   "outputs": [
    {
     "data": {
      "text/plain": [
       "{'x0': 0,\n",
       " 'x1': 0,\n",
       " 'x2': 0,\n",
       " 'x3': 1,\n",
       " 'x4': 1,\n",
       " 'x5': 1,\n",
       " 'x6': 2,\n",
       " 'x7': 2,\n",
       " 'x8': 2,\n",
       " 'x9': 3,\n",
       " 'x10': 3,\n",
       " 'x11': 3}"
      ]
     },
     "execution_count": 86,
     "metadata": {},
     "output_type": "execute_result"
    }
   ],
   "source": [
    "bayan_results = bayan_searcher.community_search(return_list=False);\n",
    "bayan_results"
   ]
  },
  {
   "cell_type": "code",
   "execution_count": 93,
   "metadata": {},
   "outputs": [
    {
     "data": {
      "text/plain": [
       "str"
      ]
     },
     "execution_count": 93,
     "metadata": {},
     "output_type": "execute_result"
    }
   ],
   "source": [
    "type(list(bayan_results.keys())[0])"
   ]
  },
  {
   "cell_type": "code",
   "execution_count": 87,
   "metadata": {},
   "outputs": [
    {
     "data": {
      "text/plain": [
       "{'x0': 0,\n",
       " 'x1': 0,\n",
       " 'x2': 0,\n",
       " 'x3': 1,\n",
       " 'x4': 1,\n",
       " 'x5': 1,\n",
       " 'x6': 2,\n",
       " 'x7': 2,\n",
       " 'x8': 2,\n",
       " 'x9': 3,\n",
       " 'x10': 3,\n",
       " 'x11': 3}"
      ]
     },
     "execution_count": 87,
     "metadata": {},
     "output_type": "execute_result"
    }
   ],
   "source": [
    "leiden_results = leiden_searcher.community_search(return_list=False)\n",
    "leiden_results"
   ]
  },
  {
   "cell_type": "code",
   "execution_count": 46,
   "metadata": {},
   "outputs": [
    {
     "data": {
      "text/plain": [
       "[[6, 7, 8], [0, 1, 2], [9, 10, 11], [3, 4, 5]]"
      ]
     },
     "execution_count": 46,
     "metadata": {},
     "output_type": "execute_result"
    }
   ],
   "source": [
    "dqm_results = dqm_searcher.community_search()\n",
    "dqm_results"
   ]
  },
  {
   "cell_type": "code",
   "execution_count": 47,
   "metadata": {},
   "outputs": [
    {
     "data": {
      "text/plain": [
       "[[0, 1, 2], [3, 4, 5], [8, 6, 7], [9, 10, 11]]"
      ]
     },
     "execution_count": 47,
     "metadata": {},
     "output_type": "execute_result"
    }
   ],
   "source": [
    "louvain_results = louvain_searcher.community_search()\n",
    "louvain_results"
   ]
  },
  {
   "cell_type": "code",
   "execution_count": 48,
   "metadata": {},
   "outputs": [],
   "source": [
    "advantage = AdvantageSampler(G_bis_bis, 5)\n",
    "searcher = HierarchicalCommunitySearcher(advantage)"
   ]
  },
  {
   "cell_type": "code",
   "execution_count": 49,
   "metadata": {},
   "outputs": [
    {
     "data": {
      "text/plain": [
       "[[0, 1, 2], [3, 4, 5], [6, 7, 8], [9, 10, 11]]"
      ]
     },
     "execution_count": 49,
     "metadata": {},
     "output_type": "execute_result"
    }
   ],
   "source": [
    "advantage_results = searcher.hierarchical_community_search()\n",
    "advantage_results"
   ]
  }
 ],
 "metadata": {
  "kernelspec": {
   "display_name": "Python 3",
   "language": "python",
   "name": "python3"
  },
  "language_info": {
   "codemirror_mode": {
    "name": "ipython",
    "version": 3
   },
   "file_extension": ".py",
   "mimetype": "text/x-python",
   "name": "python",
   "nbconvert_exporter": "python",
   "pygments_lexer": "ipython3",
   "version": "3.10.11"
  }
 },
 "nbformat": 4,
 "nbformat_minor": 2
}
