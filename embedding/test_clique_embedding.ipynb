{
 "cells": [
  {
   "cell_type": "code",
   "execution_count": 1,
   "metadata": {},
   "outputs": [],
   "source": [
    "from QHyper.solvers.quantum_annealing.advantage import Advantage\n",
    "\n",
    "import numpy as np\n",
    "import networkx as nx\n",
    "from collections import defaultdict\n",
    "\n",
    "from QHyper.converter import Converter\n",
    "from QHyper.constraint import Polynomial\n",
    "\n",
    "from dwave.system import DWaveSampler, EmbeddingComposite\n",
    "from dimod import BinaryQuadraticModel\n",
    "from dimod.sampleset import SampleSet"
   ]
  },
  {
   "cell_type": "markdown",
   "metadata": {},
   "source": [
    "#### Load the biggest graph\n",
    "where the time differences shall be the biggest"
   ]
  },
  {
   "cell_type": "code",
   "execution_count": 2,
   "metadata": {},
   "outputs": [],
   "source": [
    "Graphs = np.load(\"networks/powerlaw_m=1_p=0.2/graphs.npy\", allow_pickle=True)\n",
    "G = Graphs[9]"
   ]
  },
  {
   "cell_type": "markdown",
   "metadata": {},
   "source": [
    "Prepare dirs"
   ]
  },
  {
   "cell_type": "code",
   "execution_count": 3,
   "metadata": {},
   "outputs": [],
   "source": [
    "import os\n",
    "\n",
    "\n",
    "dir = \"networks\"\n",
    "os.makedirs(os.path.dirname(dir+\"/\"), exist_ok=True)\n",
    "\n",
    "\n",
    "def make_dir(dir):\n",
    "    if not os.path.exists(dir):\n",
    "        os.mkdir(dir)"
   ]
  },
  {
   "cell_type": "code",
   "execution_count": 4,
   "metadata": {},
   "outputs": [],
   "source": [
    "# output folder\n",
    "dir =dir+\"/output\"\n",
    "os.makedirs(os.path.dirname(dir+\"/\"), exist_ok=True)"
   ]
  },
  {
   "cell_type": "code",
   "execution_count": 5,
   "metadata": {},
   "outputs": [
    {
     "data": {
      "text/plain": [
       "array([ 10.,  20.,  30.,  40.,  50.,  60.,  70.,  80.,  90., 100.])"
      ]
     },
     "execution_count": 5,
     "metadata": {},
     "output_type": "execute_result"
    }
   ],
   "source": [
    "import numpy as np\n",
    "\n",
    "\n",
    "MIN_NODES = 10\n",
    "MAX_NODES = 100\n",
    "\n",
    "num_nodes = np.linspace(MIN_NODES, MAX_NODES, MAX_NODES//MIN_NODES)\n",
    "num_nodes"
   ]
  },
  {
   "cell_type": "markdown",
   "metadata": {},
   "source": [
    "#### Advantage sampler with EmeddingComposite (standard)"
   ]
  },
  {
   "cell_type": "code",
   "execution_count": 6,
   "metadata": {},
   "outputs": [],
   "source": [
    "solver = \"adv\"\n",
    "make_dir(f\"{dir}/{solver}\")"
   ]
  },
  {
   "cell_type": "code",
   "execution_count": 7,
   "metadata": {},
   "outputs": [],
   "source": [
    "from Qommunity.samplers.hierarchical.advantage_sampler import AdvantageSampler\n",
    "from Qommunity.searchers.hierarchical_community_searcher.hierarchical_community_searcher import HierarchicalCommunitySearcher"
   ]
  },
  {
   "cell_type": "code",
   "execution_count": 15,
   "metadata": {},
   "outputs": [
    {
     "name": "stderr",
     "output_type": "stream",
     "text": [
      " 10%|█         | 1/10 [01:55<17:15, 115.07s/it]"
     ]
    },
    {
     "name": "stdout",
     "output_type": "stream",
     "text": [
      "0.7308437914498521\n"
     ]
    },
    {
     "name": "stderr",
     "output_type": "stream",
     "text": [
      " 20%|██        | 2/10 [04:38<19:08, 143.58s/it]"
     ]
    },
    {
     "name": "stdout",
     "output_type": "stream",
     "text": [
      "0.7075808590960107\n"
     ]
    },
    {
     "name": "stderr",
     "output_type": "stream",
     "text": [
      " 30%|███       | 3/10 [07:12<17:18, 148.39s/it]"
     ]
    },
    {
     "name": "stdout",
     "output_type": "stream",
     "text": [
      "0.7285481073359862\n"
     ]
    },
    {
     "name": "stderr",
     "output_type": "stream",
     "text": [
      " 40%|████      | 4/10 [09:51<15:15, 152.60s/it]"
     ]
    },
    {
     "name": "stdout",
     "output_type": "stream",
     "text": [
      "0.717426793184369\n"
     ]
    },
    {
     "name": "stderr",
     "output_type": "stream",
     "text": [
      " 50%|█████     | 5/10 [12:53<13:34, 162.93s/it]"
     ]
    },
    {
     "name": "stdout",
     "output_type": "stream",
     "text": [
      "0.7213549637792062\n"
     ]
    },
    {
     "name": "stderr",
     "output_type": "stream",
     "text": [
      " 60%|██████    | 6/10 [15:48<11:08, 167.23s/it]"
     ]
    },
    {
     "name": "stdout",
     "output_type": "stream",
     "text": [
      "0.7229364350576474\n"
     ]
    },
    {
     "name": "stderr",
     "output_type": "stream",
     "text": [
      " 70%|███████   | 7/10 [19:06<08:52, 177.39s/it]"
     ]
    },
    {
     "name": "stdout",
     "output_type": "stream",
     "text": [
      "0.7332415059687788\n"
     ]
    },
    {
     "name": "stderr",
     "output_type": "stream",
     "text": [
      " 80%|████████  | 8/10 [23:04<06:32, 196.42s/it]"
     ]
    },
    {
     "name": "stdout",
     "output_type": "stream",
     "text": [
      "0.7180899908172635\n"
     ]
    },
    {
     "name": "stderr",
     "output_type": "stream",
     "text": [
      " 90%|█████████ | 9/10 [26:36<03:21, 201.49s/it]"
     ]
    },
    {
     "name": "stdout",
     "output_type": "stream",
     "text": [
      "0.7421691664115906\n"
     ]
    },
    {
     "name": "stderr",
     "output_type": "stream",
     "text": [
      "100%|██████████| 10/10 [30:34<00:00, 183.47s/it]"
     ]
    },
    {
     "name": "stdout",
     "output_type": "stream",
     "text": [
      "0.7309458218549129\n"
     ]
    },
    {
     "name": "stderr",
     "output_type": "stream",
     "text": [
      "\n"
     ]
    }
   ],
   "source": [
    "from tqdm import tqdm\n",
    "\n",
    "\n",
    "N_RUNS = 10\n",
    "\n",
    "mods = np.zeros((N_RUNS))\n",
    "comms = np.empty((N_RUNS), dtype=object)\n",
    "\n",
    "mods_graph_N = np.zeros((N_RUNS))\n",
    "comms_graph_N = np.empty((N_RUNS), dtype=object)\n",
    "\n",
    "advantage = AdvantageSampler(G, num_reads=300)\n",
    "hierch_searcher = HierarchicalCommunitySearcher(advantage)\n",
    "\n",
    "current_net_size = int(G.number_of_nodes())\n",
    "\n",
    "for r in tqdm(range(N_RUNS)):\n",
    "    comms_res = hierch_searcher.hierarchical_community_search()\n",
    "    mod_score = nx.community.modularity(G, comms_res)\n",
    "    print(mod_score)\n",
    "    mods_graph_N[r] = mod_score\n",
    "    comms_graph_N[r] = comms_res\n",
    "\n",
    "    # For bigger graphs computations take time, so better save it up\n",
    "    # even for each run\n",
    "    try:\n",
    "        np.save(f\"{dir}/{solver}/{solver}-network_size_{current_net_size}\", mods_graph_N)\n",
    "        np.save(f\"{dir}/{solver}/{solver}-network_size_{current_net_size}_comms\", comms_graph_N)\n",
    "    except Exception as e:\n",
    "        print(f\"iter {i} run {r} npy saving failed:\\n{e}\")\n",
    "\n",
    "mods = mods_graph_N\n",
    "comms = comms_graph_N\n",
    "\n",
    "np.save(f\"{dir}/{solver}/{solver}-mods_final\", mods)\n",
    "np.save(f\"{dir}/{solver}/{solver}-comms_final\", comms)"
   ]
  },
  {
   "cell_type": "markdown",
   "metadata": {},
   "source": [
    "Time of 10 iterations of graph of size 100 -> 30:34"
   ]
  },
  {
   "cell_type": "markdown",
   "metadata": {},
   "source": [
    "#### Advantage sampler with FixedEmeddingComposite with clique embedding"
   ]
  },
  {
   "cell_type": "code",
   "execution_count": 6,
   "metadata": {},
   "outputs": [],
   "source": [
    "solver = \"adv_clique_embedding\"\n",
    "make_dir(f\"{dir}/{solver}\")"
   ]
  },
  {
   "cell_type": "markdown",
   "metadata": {},
   "source": [
    "Clear all previously stored caches"
   ]
  },
  {
   "cell_type": "code",
   "execution_count": 8,
   "metadata": {},
   "outputs": [],
   "source": [
    "from minorminer.busclique import busgraph_cache\n",
    "\n",
    "busgraph_cache.clear_all_caches()"
   ]
  },
  {
   "cell_type": "code",
   "execution_count": 7,
   "metadata": {},
   "outputs": [],
   "source": [
    "from Qommunity.samplers.hierarchical.advantage_sampler_clique_embedding import AdvantageSamplerCliqueEmbedding\n",
    "from Qommunity.searchers.hierarchical_community_searcher.hierarchical_community_searcher import HierarchicalCommunitySearcher"
   ]
  },
  {
   "cell_type": "code",
   "execution_count": 9,
   "metadata": {},
   "outputs": [
    {
     "name": "stdout",
     "output_type": "stream",
     "text": [
      "comm: 100 elapsed: 149.18013429641724\n"
     ]
    },
    {
     "name": "stderr",
     "output_type": "stream",
     "text": [
      "  0%|          | 0/10 [00:00<?, ?it/s]"
     ]
    },
    {
     "name": "stdout",
     "output_type": "stream",
     "text": [
      "comm: 100 elapsed: 0.14202308654785156\n",
      "comm: 54 elapsed: 0.11319494247436523\n",
      "comm: 30 elapsed: 0.1294546127319336\n",
      "comm: 24 elapsed: 0.12482571601867676\n",
      "comm: 21 elapsed: 0.10785365104675293\n",
      "comm: 3 elapsed: 0.20559358596801758\n",
      "comm: 6 elapsed: 0.42476463317871094\n",
      "comm: 3 elapsed: 0.20240044593811035\n",
      "comm: 3 elapsed: 0.22817754745483398\n",
      "comm: 24 elapsed: 0.19646978378295898\n",
      "comm: 12 elapsed: 0.15094208717346191\n",
      "comm: 7 elapsed: 0.2526118755340576\n",
      "comm: 5 elapsed: 0.5934267044067383\n",
      "comm: 12 elapsed: 0.16177129745483398\n",
      "comm: 6 elapsed: 0.1739974021911621\n",
      "comm: 6 elapsed: 0.14893150329589844\n",
      "comm: 5 elapsed: 0.18194103240966797\n",
      "comm: 46 elapsed: 0.20196080207824707\n",
      "comm: 26 elapsed: 0.15453600883483887\n",
      "comm: 5 elapsed: 0.18084359169006348\n",
      "comm: 21 elapsed: 0.1510148048400879\n",
      "comm: 4 elapsed: 0.15668749809265137\n",
      "comm: 17 elapsed: 0.16309475898742676\n",
      "comm: 4 elapsed: 0.2254323959350586\n",
      "comm: 13 elapsed: 0.16528820991516113\n",
      "comm: 20 elapsed: 0.27760887145996094\n",
      "comm: 9 elapsed: 0.16448354721069336\n",
      "comm: 8 elapsed: 0.17244338989257812\n",
      "comm: 11 elapsed: 0.1777362823486328\n"
     ]
    },
    {
     "name": "stderr",
     "output_type": "stream",
     "text": [
      " 10%|█         | 1/10 [00:48<07:14, 48.25s/it]"
     ]
    },
    {
     "name": "stdout",
     "output_type": "stream",
     "text": [
      "0.7284970921334558\n",
      "comm: 100 elapsed: 0.39829516410827637\n",
      "comm: 53 elapsed: 0.44321775436401367\n",
      "comm: 24 elapsed: 0.17559504508972168\n",
      "comm: 12 elapsed: 0.17530298233032227\n",
      "comm: 6 elapsed: 0.18807101249694824\n",
      "comm: 5 elapsed: 0.16643905639648438\n",
      "comm: 6 elapsed: 0.1692674160003662\n",
      "comm: 12 elapsed: 0.17169570922851562\n",
      "comm: 7 elapsed: 0.16972613334655762\n",
      "comm: 5 elapsed: 0.15020513534545898\n",
      "comm: 29 elapsed: 0.14836716651916504\n",
      "comm: 23 elapsed: 0.2859025001525879\n",
      "comm: 20 elapsed: 0.2289431095123291\n",
      "comm: 3 elapsed: 0.16842174530029297\n",
      "comm: 6 elapsed: 0.1717674732208252\n",
      "comm: 3 elapsed: 0.15079450607299805\n",
      "comm: 3 elapsed: 0.1532735824584961\n",
      "comm: 47 elapsed: 0.14154911041259766\n",
      "comm: 26 elapsed: 0.22613811492919922\n",
      "comm: 5 elapsed: 0.14932775497436523\n",
      "comm: 21 elapsed: 0.1362617015838623\n",
      "comm: 4 elapsed: 0.2280285358428955\n",
      "comm: 17 elapsed: 0.1391124725341797\n",
      "comm: 4 elapsed: 0.22115731239318848\n",
      "comm: 13 elapsed: 0.16356301307678223\n",
      "comm: 21 elapsed: 0.1776881217956543\n",
      "comm: 10 elapsed: 0.16405510902404785\n",
      "comm: 2 elapsed: 0.15432095527648926\n",
      "comm: 8 elapsed: 0.16788339614868164\n",
      "comm: 11 elapsed: 0.19324088096618652\n"
     ]
    },
    {
     "name": "stderr",
     "output_type": "stream",
     "text": [
      " 20%|██        | 2/10 [01:38<06:35, 49.45s/it]"
     ]
    },
    {
     "name": "stdout",
     "output_type": "stream",
     "text": [
      "0.7208448117539027\n",
      "comm: 100 elapsed: 0.17264890670776367\n",
      "comm: 49 elapsed: 0.16913914680480957\n",
      "comm: 27 elapsed: 0.19982528686523438\n",
      "comm: 22 elapsed: 0.21513867378234863\n",
      "comm: 4 elapsed: 0.18012094497680664\n",
      "comm: 18 elapsed: 0.21225452423095703\n",
      "comm: 14 elapsed: 0.2253406047821045\n",
      "comm: 4 elapsed: 0.22119688987731934\n",
      "comm: 5 elapsed: 0.18236255645751953\n",
      "comm: 22 elapsed: 0.19332432746887207\n",
      "comm: 7 elapsed: 0.2588927745819092\n",
      "comm: 15 elapsed: 0.17087054252624512\n",
      "comm: 8 elapsed: 0.24210119247436523\n",
      "comm: 7 elapsed: 0.24037432670593262\n",
      "comm: 51 elapsed: 0.1761152744293213\n",
      "comm: 31 elapsed: 0.17302894592285156\n",
      "comm: 22 elapsed: 0.17328095436096191\n",
      "comm: 9 elapsed: 0.18068623542785645\n",
      "comm: 6 elapsed: 0.19303035736083984\n",
      "comm: 3 elapsed: 0.1936807632446289\n",
      "comm: 3 elapsed: 0.18251824378967285\n",
      "comm: 3 elapsed: 0.16507291793823242\n",
      "comm: 20 elapsed: 0.20161771774291992\n",
      "comm: 10 elapsed: 0.13080930709838867\n",
      "comm: 6 elapsed: 0.16622400283813477\n",
      "comm: 4 elapsed: 0.2029404640197754\n",
      "comm: 10 elapsed: 0.17472314834594727\n",
      "comm: 5 elapsed: 0.14702486991882324\n",
      "comm: 5 elapsed: 0.19202208518981934\n"
     ]
    },
    {
     "name": "stderr",
     "output_type": "stream",
     "text": [
      " 30%|███       | 3/10 [02:28<05:47, 49.61s/it]"
     ]
    },
    {
     "name": "stdout",
     "output_type": "stream",
     "text": [
      "0.7403326191204981\n",
      "comm: 100 elapsed: 0.1398160457611084\n",
      "comm: 52 elapsed: 0.21293067932128906\n",
      "comm: 26 elapsed: 0.1884598731994629\n",
      "comm: 8 elapsed: 0.12930989265441895\n",
      "comm: 3 elapsed: 0.14218974113464355\n",
      "comm: 2 elapsed: 0.13077902793884277\n",
      "comm: 5 elapsed: 0.1513984203338623\n",
      "comm: 18 elapsed: 0.13095664978027344\n",
      "comm: 4 elapsed: 0.21191811561584473\n",
      "comm: 14 elapsed: 0.17666864395141602\n",
      "comm: 26 elapsed: 0.18375563621520996\n",
      "comm: 7 elapsed: 0.19656634330749512\n",
      "comm: 19 elapsed: 0.189561128616333\n",
      "comm: 8 elapsed: 2.0100300312042236\n",
      "comm: 11 elapsed: 0.1900331974029541\n",
      "comm: 48 elapsed: 0.16930103302001953\n",
      "comm: 29 elapsed: 0.19852924346923828\n",
      "comm: 23 elapsed: 0.1839587688446045\n",
      "comm: 20 elapsed: 0.1939094066619873\n",
      "comm: 3 elapsed: 0.25496363639831543\n",
      "comm: 6 elapsed: 0.1802365779876709\n",
      "comm: 3 elapsed: 0.22638678550720215\n",
      "comm: 3 elapsed: 0.243072509765625\n",
      "comm: 19 elapsed: 0.24009203910827637\n",
      "comm: 10 elapsed: 0.3536248207092285\n",
      "comm: 6 elapsed: 0.32622432708740234\n",
      "comm: 4 elapsed: 0.339893102645874\n",
      "comm: 9 elapsed: 0.33035898208618164\n",
      "comm: 4 elapsed: 0.263460636138916\n",
      "comm: 5 elapsed: 0.3329484462738037\n"
     ]
    },
    {
     "name": "stderr",
     "output_type": "stream",
     "text": [
      " 40%|████      | 4/10 [03:33<05:34, 55.74s/it]"
     ]
    },
    {
     "name": "stdout",
     "output_type": "stream",
     "text": [
      "0.7321191715131111\n",
      "comm: 100 elapsed: 0.3430500030517578\n",
      "comm: 49 elapsed: 0.21762943267822266\n",
      "comm: 25 elapsed: 0.22834300994873047\n",
      "comm: 5 elapsed: 0.27556920051574707\n",
      "comm: 20 elapsed: 0.20312213897705078\n",
      "comm: 4 elapsed: 0.3789811134338379\n",
      "comm: 16 elapsed: 0.32532453536987305\n",
      "comm: 24 elapsed: 0.21430563926696777\n",
      "comm: 11 elapsed: 0.21974921226501465\n",
      "comm: 13 elapsed: 0.2150866985321045\n",
      "comm: 5 elapsed: 0.307309627532959\n",
      "comm: 8 elapsed: 0.4093024730682373\n",
      "comm: 51 elapsed: 0.2309868335723877\n",
      "comm: 31 elapsed: 0.2951178550720215\n",
      "comm: 22 elapsed: 0.22515058517456055\n",
      "comm: 9 elapsed: 0.21787047386169434\n",
      "comm: 6 elapsed: 0.31589341163635254\n",
      "comm: 3 elapsed: 0.3391885757446289\n",
      "comm: 3 elapsed: 0.23688697814941406\n",
      "comm: 3 elapsed: 0.21277117729187012\n",
      "comm: 20 elapsed: 0.3054823875427246\n",
      "comm: 9 elapsed: 0.21584415435791016\n",
      "comm: 7 elapsed: 0.25029993057250977\n",
      "comm: 2 elapsed: 0.25870728492736816\n",
      "comm: 11 elapsed: 0.24837541580200195\n",
      "comm: 5 elapsed: 0.24294233322143555\n",
      "comm: 6 elapsed: 0.24320459365844727\n"
     ]
    },
    {
     "name": "stderr",
     "output_type": "stream",
     "text": [
      " 50%|█████     | 5/10 [06:24<08:05, 97.18s/it]"
     ]
    },
    {
     "name": "stdout",
     "output_type": "stream",
     "text": [
      "0.7275278032853791\n",
      "comm: 100 elapsed: 0.23164844512939453\n",
      "comm: 52 elapsed: 0.22945356369018555\n",
      "comm: 30 elapsed: 0.3745901584625244\n",
      "comm: 24 elapsed: 0.22060942649841309\n",
      "comm: 21 elapsed: 0.17150115966796875\n",
      "comm: 3 elapsed: 0.25539588928222656\n",
      "comm: 6 elapsed: 0.2648506164550781\n",
      "comm: 3 elapsed: 0.234633207321167\n",
      "comm: 3 elapsed: 0.25857090950012207\n",
      "comm: 22 elapsed: 0.22936582565307617\n",
      "comm: 11 elapsed: 0.24418139457702637\n",
      "comm: 5 elapsed: 0.24521303176879883\n",
      "comm: 6 elapsed: 0.23595261573791504\n",
      "comm: 11 elapsed: 0.25717926025390625\n",
      "comm: 7 elapsed: 0.258974552154541\n",
      "comm: 4 elapsed: 0.23905014991760254\n",
      "comm: 48 elapsed: 0.2718620300292969\n",
      "comm: 21 elapsed: 0.23909211158752441\n",
      "comm: 10 elapsed: 0.2747766971588135\n",
      "comm: 2 elapsed: 0.20712924003601074\n",
      "comm: 8 elapsed: 0.21437788009643555\n",
      "comm: 11 elapsed: 0.2545888423919678\n",
      "comm: 27 elapsed: 0.2285633087158203\n",
      "comm: 5 elapsed: 0.26234889030456543\n",
      "comm: 22 elapsed: 0.24883127212524414\n",
      "comm: 4 elapsed: 0.2483973503112793\n",
      "comm: 18 elapsed: 0.2487640380859375\n",
      "comm: 14 elapsed: 0.23451852798461914\n",
      "comm: 4 elapsed: 0.3199496269226074\n"
     ]
    },
    {
     "name": "stderr",
     "output_type": "stream",
     "text": [
      " 60%|██████    | 6/10 [07:33<05:50, 87.59s/it]"
     ]
    },
    {
     "name": "stdout",
     "output_type": "stream",
     "text": [
      "0.7274257728803184\n",
      "comm: 100 elapsed: 0.32123279571533203\n",
      "comm: 48 elapsed: 0.2012939453125\n",
      "comm: 26 elapsed: 0.1940453052520752\n",
      "comm: 5 elapsed: 0.2511410713195801\n",
      "comm: 21 elapsed: 0.24747872352600098\n",
      "comm: 4 elapsed: 0.21407818794250488\n",
      "comm: 17 elapsed: 0.1989727020263672\n",
      "comm: 4 elapsed: 0.26752519607543945\n",
      "comm: 13 elapsed: 0.20444583892822266\n",
      "comm: 22 elapsed: 0.254927396774292\n",
      "comm: 11 elapsed: 0.2608475685119629\n",
      "comm: 3 elapsed: 0.27187657356262207\n",
      "comm: 8 elapsed: 0.3130016326904297\n",
      "comm: 11 elapsed: 0.25438427925109863\n",
      "comm: 52 elapsed: 0.22017741203308105\n",
      "comm: 24 elapsed: 0.23849773406982422\n",
      "comm: 12 elapsed: 0.3662848472595215\n",
      "comm: 6 elapsed: 0.2653369903564453\n",
      "comm: 5 elapsed: 0.257274866104126\n",
      "comm: 6 elapsed: 0.24932861328125\n",
      "comm: 12 elapsed: 0.2605006694793701\n",
      "comm: 7 elapsed: 0.42740821838378906\n",
      "comm: 5 elapsed: 0.45903944969177246\n",
      "comm: 28 elapsed: 0.2665410041809082\n",
      "comm: 22 elapsed: 0.39627575874328613\n",
      "comm: 6 elapsed: 0.23528718948364258\n",
      "comm: 3 elapsed: 0.3037412166595459\n",
      "comm: 3 elapsed: 0.30310630798339844\n"
     ]
    },
    {
     "name": "stderr",
     "output_type": "stream",
     "text": [
      " 70%|███████   | 7/10 [08:25<03:47, 75.93s/it]"
     ]
    },
    {
     "name": "stdout",
     "output_type": "stream",
     "text": [
      "0.7360983573104785\n",
      "comm: 100 elapsed: 0.4033486843109131\n",
      "comm: 51 elapsed: 0.3126394748687744\n",
      "comm: 31 elapsed: 0.224761962890625\n",
      "comm: 8 elapsed: 0.2568230628967285\n",
      "comm: 3 elapsed: 0.35806727409362793\n",
      "comm: 5 elapsed: 0.3031010627746582\n",
      "comm: 23 elapsed: 0.23778891563415527\n",
      "comm: 20 elapsed: 0.2509949207305908\n",
      "comm: 3 elapsed: 0.24180197715759277\n",
      "comm: 20 elapsed: 0.38130664825439453\n",
      "comm: 9 elapsed: 0.31635475158691406\n",
      "comm: 7 elapsed: 0.30331993103027344\n",
      "comm: 2 elapsed: 0.2956655025482178\n",
      "comm: 11 elapsed: 0.27780604362487793\n",
      "comm: 5 elapsed: 0.28372764587402344\n",
      "comm: 6 elapsed: 0.3909304141998291\n",
      "comm: 49 elapsed: 0.2697606086730957\n",
      "comm: 27 elapsed: 0.2859787940979004\n",
      "comm: 5 elapsed: 0.47281575202941895\n",
      "comm: 22 elapsed: 0.31607532501220703\n",
      "comm: 4 elapsed: 0.3473043441772461\n",
      "comm: 18 elapsed: 0.29506468772888184\n",
      "comm: 14 elapsed: 0.35483837127685547\n",
      "comm: 4 elapsed: 0.6444299221038818\n",
      "comm: 22 elapsed: 0.6262428760528564\n",
      "comm: 5 elapsed: 0.34264254570007324\n",
      "comm: 2 elapsed: 0.29444146156311035\n",
      "comm: 3 elapsed: 0.44371676445007324\n",
      "comm: 17 elapsed: 0.2511165142059326\n",
      "comm: 8 elapsed: 0.3047976493835449\n",
      "comm: 9 elapsed: 0.4016077518463135\n"
     ]
    },
    {
     "name": "stderr",
     "output_type": "stream",
     "text": [
      " 80%|████████  | 8/10 [09:33<02:27, 73.50s/it]"
     ]
    },
    {
     "name": "stdout",
     "output_type": "stream",
     "text": [
      "0.7347719620446893\n",
      "comm: 100 elapsed: 0.40256285667419434\n",
      "comm: 50 elapsed: 0.388394832611084\n",
      "comm: 29 elapsed: 0.309112548828125\n",
      "comm: 23 elapsed: 0.3366086483001709\n",
      "comm: 20 elapsed: 0.29030919075012207\n",
      "comm: 3 elapsed: 0.35326313972473145\n",
      "comm: 6 elapsed: 0.3385124206542969\n",
      "comm: 3 elapsed: 0.33696508407592773\n",
      "comm: 3 elapsed: 0.3428668975830078\n",
      "comm: 21 elapsed: 0.3765990734100342\n",
      "comm: 11 elapsed: 0.27166056632995605\n",
      "comm: 5 elapsed: 0.2685434818267822\n",
      "comm: 4 elapsed: 0.40346217155456543\n",
      "comm: 6 elapsed: 0.3373703956604004\n",
      "comm: 10 elapsed: 0.2642695903778076\n",
      "comm: 5 elapsed: 0.39545440673828125\n",
      "comm: 5 elapsed: 0.3721811771392822\n",
      "comm: 50 elapsed: 0.3556993007659912\n",
      "comm: 24 elapsed: 0.3569905757904053\n",
      "comm: 6 elapsed: 0.37421464920043945\n",
      "comm: 5 elapsed: 0.34317660331726074\n",
      "comm: 18 elapsed: 0.3410074710845947\n",
      "comm: 14 elapsed: 0.38126683235168457\n",
      "comm: 4 elapsed: 0.3416128158569336\n",
      "comm: 26 elapsed: 0.3329169750213623\n",
      "comm: 7 elapsed: 0.3338899612426758\n",
      "comm: 19 elapsed: 0.3396286964416504\n",
      "comm: 8 elapsed: 0.3437769412994385\n",
      "comm: 11 elapsed: 0.47759485244750977\n"
     ]
    },
    {
     "name": "stderr",
     "output_type": "stream",
     "text": [
      " 90%|█████████ | 9/10 [10:36<01:10, 70.40s/it]"
     ]
    },
    {
     "name": "stdout",
     "output_type": "stream",
     "text": [
      "0.7318130802979288\n",
      "comm: 100 elapsed: 0.4065089225769043\n",
      "comm: 54 elapsed: 0.33191514015197754\n",
      "comm: 27 elapsed: 0.3356504440307617\n",
      "comm: 22 elapsed: 0.34037184715270996\n",
      "comm: 4 elapsed: 0.41834545135498047\n",
      "comm: 18 elapsed: 0.468930721282959\n",
      "comm: 14 elapsed: 0.5994784832000732\n",
      "comm: 4 elapsed: 0.5323982238769531\n",
      "comm: 5 elapsed: 0.466167688369751\n",
      "comm: 27 elapsed: 0.5242080688476562\n",
      "comm: 8 elapsed: 0.4615004062652588\n",
      "comm: 6 elapsed: 0.3947105407714844\n",
      "comm: 2 elapsed: 0.38393521308898926\n",
      "comm: 19 elapsed: 0.31831789016723633\n",
      "comm: 8 elapsed: 0.3442234992980957\n",
      "comm: 11 elapsed: 0.36658644676208496\n",
      "comm: 46 elapsed: 0.34314608573913574\n",
      "comm: 16 elapsed: 0.38835644721984863\n",
      "comm: 6 elapsed: 0.5361676216125488\n",
      "comm: 10 elapsed: 0.39650750160217285\n",
      "comm: 5 elapsed: 0.3709108829498291\n",
      "comm: 5 elapsed: 0.38314294815063477\n",
      "comm: 30 elapsed: 0.40004682540893555\n",
      "comm: 24 elapsed: 0.3843364715576172\n",
      "comm: 21 elapsed: 0.4232001304626465\n",
      "comm: 3 elapsed: 0.5272345542907715\n",
      "comm: 6 elapsed: 0.4149634838104248\n",
      "comm: 3 elapsed: 0.33715057373046875\n",
      "comm: 3 elapsed: 0.39287257194519043\n"
     ]
    },
    {
     "name": "stderr",
     "output_type": "stream",
     "text": [
      "100%|██████████| 10/10 [11:47<00:00, 70.77s/it]"
     ]
    },
    {
     "name": "stdout",
     "output_type": "stream",
     "text": [
      "0.7381389654116929\n"
     ]
    },
    {
     "name": "stderr",
     "output_type": "stream",
     "text": [
      "\n"
     ]
    }
   ],
   "source": [
    "from tqdm import tqdm\n",
    "\n",
    "\n",
    "N_RUNS = 10\n",
    "\n",
    "mods = np.zeros((N_RUNS))\n",
    "comms = np.empty((N_RUNS), dtype=object)\n",
    "\n",
    "mods_graph_N = np.zeros((N_RUNS))\n",
    "comms_graph_N = np.empty((N_RUNS), dtype=object)\n",
    "\n",
    "advantage = AdvantageSamplerCliqueEmbedding(G, num_reads=300)\n",
    "hierch_searcher = HierarchicalCommunitySearcher(advantage)\n",
    "\n",
    "current_net_size = int(G.number_of_nodes())\n",
    "\n",
    "for r in tqdm(range(N_RUNS)):\n",
    "    comms_res = hierch_searcher.hierarchical_community_search()\n",
    "    mod_score = nx.community.modularity(G, comms_res)\n",
    "    print(mod_score)\n",
    "    mods_graph_N[r] = mod_score\n",
    "    comms_graph_N[r] = comms_res\n",
    "\n",
    "    # For bigger graphs computations take time, so better save it up\n",
    "    # even for each run\n",
    "    try:\n",
    "        np.save(f\"{dir}/{solver}/{solver}-network_size_{current_net_size}\", mods_graph_N)\n",
    "        np.save(f\"{dir}/{solver}/{solver}-network_size_{current_net_size}_comms\", comms_graph_N)\n",
    "    except Exception as e:\n",
    "        print(f\"iter {i} run {r} npy saving failed:\\n{e}\")\n",
    "\n",
    "mods = mods_graph_N\n",
    "comms = comms_graph_N\n",
    "\n",
    "np.save(f\"{dir}/{solver}/{solver}-mods_final\", mods)\n",
    "np.save(f\"{dir}/{solver}/{solver}-comms_final\", comms)"
   ]
  },
  {
   "cell_type": "markdown",
   "metadata": {},
   "source": [
    "Time of 10 iterations of graph of size 100 -> 11:47 \\\n",
    "quite big time saving thanks to caching."
   ]
  },
  {
   "cell_type": "markdown",
   "metadata": {},
   "source": [
    "#### Results"
   ]
  },
  {
   "cell_type": "markdown",
   "metadata": {},
   "source": [
    "Quick leiden runs to be able to compare modularities"
   ]
  },
  {
   "cell_type": "code",
   "execution_count": 11,
   "metadata": {},
   "outputs": [
    {
     "data": {
      "text/plain": [
       "[0.7447199265381086,\n",
       " 0.7447199265381086,\n",
       " 0.7447199265381086,\n",
       " 0.7447199265381086,\n",
       " 0.7447199265381086,\n",
       " 0.7447199265381086,\n",
       " 0.7447199265381086,\n",
       " 0.7447199265381086,\n",
       " 0.7447199265381086,\n",
       " 0.7447199265381086]"
      ]
     },
     "execution_count": 11,
     "metadata": {},
     "output_type": "execute_result"
    }
   ],
   "source": [
    "from samplers.regular.leiden_sampler.leiden_sampler import LeidenSampler\n",
    "from searchers.community_searcher.community_searcher import CommunitySearcher\n",
    "\n",
    "\n",
    "N_RUNS = 10\n",
    "\n",
    "leiden = LeidenSampler(G)\n",
    "searcher = CommunitySearcher(leiden)\n",
    "\n",
    "mods_leiden = []\n",
    "for i in range(N_RUNS):\n",
    "    res = searcher.community_search()\n",
    "    mod = nx.community.modularity(G, res)\n",
    "    mods_leiden.append(mod)\n",
    "\n",
    "mods_leiden"
   ]
  },
  {
   "cell_type": "markdown",
   "metadata": {},
   "source": [
    "Modularities with clique embedding"
   ]
  },
  {
   "cell_type": "code",
   "execution_count": 24,
   "metadata": {},
   "outputs": [],
   "source": [
    "mods_cl = mods\n",
    "mods_adv = np.load(f\"{dir}/adv/adv-mods_final.npy\")"
   ]
  },
  {
   "cell_type": "code",
   "execution_count": 15,
   "metadata": {},
   "outputs": [
    {
     "name": "stdout",
     "output_type": "stream",
     "text": [
      "0.7317569635751455\n",
      "0.7403326191204981\n"
     ]
    }
   ],
   "source": [
    "print(np.mean(mods_cl))\n",
    "print(np.max(mods_cl))"
   ]
  },
  {
   "cell_type": "markdown",
   "metadata": {},
   "source": [
    "Modularities with standard embedding"
   ]
  },
  {
   "cell_type": "code",
   "execution_count": 16,
   "metadata": {},
   "outputs": [
    {
     "name": "stdout",
     "output_type": "stream",
     "text": [
      "0.7307621671258036\n",
      "0.7376798285889196\n"
     ]
    }
   ],
   "source": [
    "print(np.mean(mods_adv))\n",
    "print(np.max(mods_adv))"
   ]
  }
 ],
 "metadata": {
  "kernelspec": {
   "display_name": "Python 3",
   "language": "python",
   "name": "python3"
  },
  "language_info": {
   "codemirror_mode": {
    "name": "ipython",
    "version": 3
   },
   "file_extension": ".py",
   "mimetype": "text/x-python",
   "name": "python",
   "nbconvert_exporter": "python",
   "pygments_lexer": "ipython3",
   "version": "3.10.11"
  }
 },
 "nbformat": 4,
 "nbformat_minor": 2
}
