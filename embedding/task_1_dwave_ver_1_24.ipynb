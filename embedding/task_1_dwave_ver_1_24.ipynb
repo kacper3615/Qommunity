{
 "cells": [
  {
   "cell_type": "code",
   "execution_count": 6,
   "metadata": {},
   "outputs": [],
   "source": [
    "import numpy as np\n",
    "import networkx as nx\n",
    "from collections import defaultdict\n",
    "\n",
    "from QHyper.converter import Converter\n",
    "from QHyper.constraint import Polynomial\n",
    "\n",
    "from dwave.system import DWaveSampler\n",
    "from dimod import BinaryQuadraticModel\n",
    "\n",
    "from QHyper.problems.community_detection import CommunityDetectionProblem, Network"
   ]
  },
  {
   "cell_type": "markdown",
   "metadata": {},
   "source": [
    "Some util function from QHyper"
   ]
  },
  {
   "cell_type": "code",
   "execution_count": 3,
   "metadata": {},
   "outputs": [],
   "source": [
    "def convert_qubo_keys(qubo: Polynomial) -> tuple[dict[tuple, float], float]:\n",
    "    new_qubo = defaultdict(float)\n",
    "    offset = 0.0\n",
    "\n",
    "    qubo, offset = qubo.separate_const()\n",
    "    for k, v in qubo.terms.items():\n",
    "        if len(k) == 1:\n",
    "            new_key = (k[0], k[0])\n",
    "        elif len(k) > 2:\n",
    "            raise ValueError(\"Only supports quadratic model\")\n",
    "        else:\n",
    "            new_key = k\n",
    "\n",
    "        new_qubo[new_key] += v\n",
    "\n",
    "    return (new_qubo, offset)"
   ]
  },
  {
   "cell_type": "markdown",
   "metadata": {},
   "source": [
    "Load our biggest graph"
   ]
  },
  {
   "cell_type": "code",
   "execution_count": 4,
   "metadata": {},
   "outputs": [],
   "source": [
    "Graphs = np.load(\"networks/powerlaw_m=1_p=0.2/graphs.npy\", allow_pickle=True)\n",
    "G = Graphs[9]"
   ]
  },
  {
   "cell_type": "markdown",
   "metadata": {},
   "source": [
    "#### First let's find clique embedding for graph of 100 nodes\n",
    "We'll be checking cache'ing behaviour: https://docs.ocean.dwavesys.com/en/stable/docs_minorminer/source/reference/clique_embedding.html#minorminer.busclique.busgraph_cache"
   ]
  },
  {
   "cell_type": "code",
   "execution_count": 8,
   "metadata": {},
   "outputs": [],
   "source": [
    "sampler = DWaveSampler(solver=\"Advantage_system5.4\", region=\"eu-central-1\")"
   ]
  },
  {
   "cell_type": "code",
   "execution_count": 9,
   "metadata": {},
   "outputs": [],
   "source": [
    "network = Network(graph=G)\n",
    "problem = CommunityDetectionProblem(network_data=network, communities=2, one_hot_encoding=False)\n",
    "\n",
    "qubo = Converter.create_qubo(problem, [])\n",
    "qubo_terms, offset = convert_qubo_keys(qubo)\n",
    "bqm = BinaryQuadraticModel.from_qubo(qubo_terms, offset=offset)"
   ]
  },
  {
   "cell_type": "code",
   "execution_count": 10,
   "metadata": {},
   "outputs": [
    {
     "name": "stderr",
     "output_type": "stream",
     "text": [
      "C:\\Users\\basia\\AppData\\Local\\Temp\\ipykernel_59808\\3242365722.py:1: DeprecationWarning: BinaryQuadraticModel.to_networkx_graph() is deprecated since dimod 0.10.0 and will be removed in 0.12.0. Use dimod.to_networkx_graph() instead.\n",
      "  bqm_graph = bqm.to_networkx_graph()\n"
     ]
    }
   ],
   "source": [
    "bqm_graph = bqm.to_networkx_graph()"
   ]
  },
  {
   "cell_type": "code",
   "execution_count": 11,
   "metadata": {},
   "outputs": [],
   "source": [
    "from dwave.embedding.pegasus import find_clique_embedding"
   ]
  },
  {
   "cell_type": "markdown",
   "metadata": {},
   "source": [
    "Let's clear caches for safety"
   ]
  },
  {
   "cell_type": "code",
   "execution_count": 13,
   "metadata": {},
   "outputs": [],
   "source": [
    "from minorminer.busclique import busgraph_cache\n",
    "\n",
    "\n",
    "busgraph_cache.clear_all_caches()"
   ]
  },
  {
   "cell_type": "code",
   "execution_count": 14,
   "metadata": {},
   "outputs": [
    {
     "name": "stdout",
     "output_type": "stream",
     "text": [
      "CPU times: total: 1min 44s\n",
      "Wall time: 2min 19s\n"
     ]
    }
   ],
   "source": [
    "%time emb = find_clique_embedding(bqm_graph, target_graph=sampler.to_networkx_graph())"
   ]
  },
  {
   "cell_type": "code",
   "execution_count": 20,
   "metadata": {},
   "outputs": [
    {
     "data": {
      "text/plain": [
       "100"
      ]
     },
     "execution_count": 20,
     "metadata": {},
     "output_type": "execute_result"
    }
   ],
   "source": [
    "len(emb.keys())"
   ]
  },
  {
   "cell_type": "code",
   "execution_count": 21,
   "metadata": {},
   "outputs": [
    {
     "name": "stdout",
     "output_type": "stream",
     "text": [
      "CPU times: total: 0 ns\n",
      "Wall time: 69 ms\n"
     ]
    }
   ],
   "source": [
    "%time emb = find_clique_embedding(bqm_graph, target_graph=sampler.to_networkx_graph())"
   ]
  },
  {
   "cell_type": "code",
   "execution_count": 22,
   "metadata": {},
   "outputs": [
    {
     "name": "stdout",
     "output_type": "stream",
     "text": [
      "c0_cl len: 53\n",
      "c1_cl len: 47\n",
      "Sample modularity from FixedEmbeddingComposite: 0.4785225997347209\n"
     ]
    }
   ],
   "source": [
    "from dwave.system.composites import FixedEmbeddingComposite\n",
    "\n",
    "\n",
    "sample_cl = FixedEmbeddingComposite(sampler, embedding=emb).sample(bqm, num_reads=100)\n",
    "\n",
    "res_cl = sample_cl.first.sample\n",
    "\n",
    "c0_cl = sorted([int(k[1:]) for k, v in res_cl.items() if v == 0])\n",
    "c1_cl = sorted([int(k[1:]) for k, v in res_cl.items() if v == 1])\n",
    "\n",
    "print(\"c0_cl len:\", len(c0_cl))\n",
    "print(\"c1_cl len:\", len(c1_cl))\n",
    "\n",
    "print(\"Sample modularity from FixedEmbeddingComposite:\", nx.community.modularity(G, [c0_cl, c1_cl]))"
   ]
  },
  {
   "cell_type": "markdown",
   "metadata": {},
   "source": [
    "Sampling works."
   ]
  },
  {
   "cell_type": "markdown",
   "metadata": {},
   "source": [
    "#### Now let's take a subcommunity from that graph, subcommunity of 99 nodes:"
   ]
  },
  {
   "cell_type": "code",
   "execution_count": 23,
   "metadata": {},
   "outputs": [
    {
     "name": "stderr",
     "output_type": "stream",
     "text": [
      "C:\\Users\\basia\\AppData\\Local\\Temp\\ipykernel_59808\\176734912.py:8: DeprecationWarning: BinaryQuadraticModel.to_networkx_graph() is deprecated since dimod 0.10.0 and will be removed in 0.12.0. Use dimod.to_networkx_graph() instead.\n",
      "  bqm_graph = bqm.to_networkx_graph()\n"
     ]
    }
   ],
   "source": [
    "network = Network(graph=G, community=[*range(99)])\n",
    "problem = CommunityDetectionProblem(network_data=network, communities=2, one_hot_encoding=False)\n",
    "\n",
    "qubo = Converter.create_qubo(problem, [])\n",
    "qubo_terms, offset = convert_qubo_keys(qubo)\n",
    "bqm = BinaryQuadraticModel.from_qubo(qubo_terms, offset=offset)\n",
    "\n",
    "bqm_graph = bqm.to_networkx_graph()"
   ]
  },
  {
   "cell_type": "code",
   "execution_count": 24,
   "metadata": {},
   "outputs": [
    {
     "name": "stdout",
     "output_type": "stream",
     "text": [
      "CPU times: total: 46.9 ms\n",
      "Wall time: 80.5 ms\n"
     ]
    }
   ],
   "source": [
    "%time emb_2 = find_clique_embedding(bqm_graph, target_graph=sampler.to_networkx_graph())"
   ]
  },
  {
   "cell_type": "code",
   "execution_count": 25,
   "metadata": {},
   "outputs": [
    {
     "data": {
      "text/plain": [
       "99"
      ]
     },
     "execution_count": 25,
     "metadata": {},
     "output_type": "execute_result"
    }
   ],
   "source": [
    "len(emb_2.keys())"
   ]
  },
  {
   "cell_type": "markdown",
   "metadata": {},
   "source": [
    "As we can see from the time measured, the cached embedding was used to find embedding for these 99 nodes."
   ]
  },
  {
   "cell_type": "markdown",
   "metadata": {},
   "source": [
    "Now let's see the cache'ing behaviour of the cache'ing for a smaller graph (different graph, not subcommunity):"
   ]
  },
  {
   "cell_type": "code",
   "execution_count": 30,
   "metadata": {},
   "outputs": [
    {
     "name": "stderr",
     "output_type": "stream",
     "text": [
      "C:\\Users\\basia\\AppData\\Local\\Temp\\ipykernel_59808\\3945948250.py:9: DeprecationWarning: BinaryQuadraticModel.to_networkx_graph() is deprecated since dimod 0.10.0 and will be removed in 0.12.0. Use dimod.to_networkx_graph() instead.\n",
      "  bqm_graph = bqm.to_networkx_graph()\n"
     ]
    }
   ],
   "source": [
    "G_90 = Graphs[8]\n",
    "\n",
    "network = Network(graph=G_90)\n",
    "problem = CommunityDetectionProblem(network_data=network, communities=2, one_hot_encoding=False)\n",
    "\n",
    "qubo = Converter.create_qubo(problem, [])\n",
    "qubo_terms, offset = convert_qubo_keys(qubo)\n",
    "bqm = BinaryQuadraticModel.from_qubo(qubo_terms, offset=offset)\n",
    "bqm_graph = bqm.to_networkx_graph()"
   ]
  },
  {
   "cell_type": "code",
   "execution_count": 31,
   "metadata": {},
   "outputs": [
    {
     "name": "stdout",
     "output_type": "stream",
     "text": [
      "CPU times: total: 31.2 ms\n",
      "Wall time: 73.3 ms\n"
     ]
    }
   ],
   "source": [
    "%time emb_3 = find_clique_embedding(bqm_graph, target_graph=sampler.to_networkx_graph())"
   ]
  },
  {
   "cell_type": "markdown",
   "metadata": {},
   "source": [
    "It used cached embedding as well."
   ]
  },
  {
   "cell_type": "markdown",
   "metadata": {},
   "source": [
    "Ok, so now let's take a bigger graph, new one, of 150 nodes."
   ]
  },
  {
   "cell_type": "code",
   "execution_count": 32,
   "metadata": {},
   "outputs": [
    {
     "name": "stderr",
     "output_type": "stream",
     "text": [
      "C:\\Users\\basia\\AppData\\Local\\Temp\\ipykernel_59808\\1647688498.py:8: DeprecationWarning: BinaryQuadraticModel.to_networkx_graph() is deprecated since dimod 0.10.0 and will be removed in 0.12.0. Use dimod.to_networkx_graph() instead.\n",
      "  bqm_graph = bqm.to_networkx_graph()\n"
     ]
    }
   ],
   "source": [
    "G_150 = nx.powerlaw_cluster_graph(n=150, m=2, p=0.2)\n",
    "network = Network(graph=G_150)\n",
    "problem = CommunityDetectionProblem(network_data=network, communities=2, one_hot_encoding=False)\n",
    "\n",
    "qubo = Converter.create_qubo(problem, [])\n",
    "qubo_terms, offset = convert_qubo_keys(qubo)\n",
    "bqm = BinaryQuadraticModel.from_qubo(qubo_terms, offset=offset)\n",
    "bqm_graph = bqm.to_networkx_graph()"
   ]
  },
  {
   "cell_type": "code",
   "execution_count": 33,
   "metadata": {},
   "outputs": [
    {
     "name": "stdout",
     "output_type": "stream",
     "text": [
      "CPU times: total: 46.9 ms\n",
      "Wall time: 75.1 ms\n"
     ]
    }
   ],
   "source": [
    "%time emb_150 = find_clique_embedding(bqm_graph, target_graph=sampler.to_networkx_graph())"
   ]
  },
  {
   "cell_type": "markdown",
   "metadata": {},
   "source": [
    "It used cache as well."
   ]
  },
  {
   "cell_type": "code",
   "execution_count": 35,
   "metadata": {},
   "outputs": [
    {
     "data": {
      "text/plain": [
       "150"
      ]
     },
     "execution_count": 35,
     "metadata": {},
     "output_type": "execute_result"
    }
   ],
   "source": [
    "len(emb_150.keys())"
   ]
  },
  {
   "cell_type": "markdown",
   "metadata": {},
   "source": [
    "That's because find_clique_embedding uses busgraph_cache(target_graph).find_clique_embedding(nn) inside: \\\n",
    "https://docs.ocean.dwavesys.com/en/stable/docs_minorminer/source/reference/generated/minorminer.busclique.busgraph_cache.find_clique_embedding.html#minorminer.busclique.busgraph_cache.find_clique_embedding"
   ]
  },
  {
   "cell_type": "code",
   "execution_count": 53,
   "metadata": {},
   "outputs": [],
   "source": [
    "emb_cached_150 = busgraph_cache(sampler_graph).find_clique_embedding(['x'+str(i) for i in range(150)])"
   ]
  },
  {
   "cell_type": "code",
   "execution_count": 56,
   "metadata": {},
   "outputs": [
    {
     "data": {
      "text/plain": [
       "True"
      ]
     },
     "execution_count": 56,
     "metadata": {},
     "output_type": "execute_result"
    }
   ],
   "source": [
    "emb_cached_150 == emb_150"
   ]
  },
  {
   "cell_type": "markdown",
   "metadata": {},
   "source": [
    "So the embeddings are cached up to the size of:"
   ]
  },
  {
   "cell_type": "code",
   "execution_count": 36,
   "metadata": {},
   "outputs": [
    {
     "data": {
      "text/plain": [
       "dict_keys([0, 1, 2, 3, 4, 5, 6, 7, 8, 9, 10, 11, 12, 13, 14, 15, 16, 17, 18, 19, 20, 21, 22, 23, 24, 25, 26, 27, 28, 29, 30, 31, 32, 33, 34, 35, 36, 37, 38, 39, 40, 41, 42, 43, 44, 45, 46, 47, 48, 49, 50, 51, 52, 53, 54, 55, 56, 57, 58, 59, 60, 61, 62, 63, 64, 65, 66, 67, 68, 69, 70, 71, 72, 73, 74, 75, 76, 77, 78, 79, 80, 81, 82, 83, 84, 85, 86, 87, 88, 89, 90, 91, 92, 93, 94, 95, 96, 97, 98, 99, 100, 101, 102, 103, 104, 105, 106, 107, 108, 109, 110, 111, 112, 113, 114, 115, 116, 117, 118, 119, 120, 121, 122, 123, 124, 125, 126, 127, 128, 129, 130, 131, 132, 133, 134, 135, 136, 137, 138, 139, 140, 141, 142, 143, 144, 145, 146, 147, 148, 149, 150, 151, 152, 153, 154, 155, 156, 157, 158, 159, 160, 161, 162, 163, 164, 165, 166, 167, 168])"
      ]
     },
     "execution_count": 36,
     "metadata": {},
     "output_type": "execute_result"
    }
   ],
   "source": [
    "busgraph_cache(sampler_graph).largest_clique().keys()"
   ]
  },
  {
   "cell_type": "code",
   "execution_count": 37,
   "metadata": {},
   "outputs": [
    {
     "data": {
      "text/plain": [
       "169"
      ]
     },
     "execution_count": 37,
     "metadata": {},
     "output_type": "execute_result"
    }
   ],
   "source": [
    "len(busgraph_cache(sampler_graph).largest_clique().keys())"
   ]
  },
  {
   "cell_type": "markdown",
   "metadata": {},
   "source": [
    "#### Trying to extract info from the caching files"
   ]
  },
  {
   "cell_type": "code",
   "execution_count": 72,
   "metadata": {},
   "outputs": [
    {
     "name": "stdout",
     "output_type": "stream",
     "text": [
      "Cache directory: C:\\Users\\basia\\AppData\\Local\\dwave\\busclique_7\n",
      "Cache files in C:\\Users\\basia\\AppData\\Local\\dwave\\busclique_7: ['clique']\n",
      "Cache files in C:\\Users\\basia\\AppData\\Local\\dwave\\busclique_7\\clique: ['.lock', '.lru', 'pegasus_599a4b13e9291929']\n"
     ]
    }
   ],
   "source": [
    "import os\n",
    "from minorminer.busclique import busgraph_cache\n",
    "\n",
    "\n",
    "# From docs - this is where they are stored\n",
    "cache_dir = busgraph_cache.cache_rootdir()\n",
    "print(f\"Cache directory: {cache_dir}\")\n",
    "\n",
    "cache_files = os.listdir(cache_dir)\n",
    "print(f\"Cache files in {busgraph_cache.cache_rootdir()}:\", cache_files)\n",
    "\n",
    "# Inside the \"clique\" dir\n",
    "cache_dir += \"\\\\clique\"\n",
    "cache_files = os.listdir(cache_dir)\n",
    "print(f\"Cache files in {cache_dir}:\", cache_files)"
   ]
  },
  {
   "cell_type": "code",
   "execution_count": 84,
   "metadata": {},
   "outputs": [
    {
     "name": "stdout",
     "output_type": "stream",
     "text": [
      "C:\\Users\\basia\\AppData\\Local\\dwave\\busclique_7\\clique\\.lock\n"
     ]
    },
    {
     "ename": "EOFError",
     "evalue": "Ran out of input",
     "output_type": "error",
     "traceback": [
      "\u001b[1;31m---------------------------------------------------------------------------\u001b[0m",
      "\u001b[1;31mEOFError\u001b[0m                                  Traceback (most recent call last)",
      "Cell \u001b[1;32mIn[84], line 9\u001b[0m\n\u001b[0;32m      5\u001b[0m \u001b[38;5;28mprint\u001b[39m(lru_file_path)\n\u001b[0;32m      8\u001b[0m \u001b[38;5;28;01mwith\u001b[39;00m \u001b[38;5;28mopen\u001b[39m(lru_file_path, \u001b[38;5;124m'\u001b[39m\u001b[38;5;124mrb\u001b[39m\u001b[38;5;124m'\u001b[39m) \u001b[38;5;28;01mas\u001b[39;00m file:\n\u001b[1;32m----> 9\u001b[0m     cache_content \u001b[38;5;241m=\u001b[39m \u001b[43mpickle\u001b[49m\u001b[38;5;241;43m.\u001b[39;49m\u001b[43mload\u001b[49m\u001b[43m(\u001b[49m\u001b[43mfile\u001b[49m\u001b[43m)\u001b[49m\n\u001b[0;32m     12\u001b[0m \u001b[38;5;28mprint\u001b[39m(\u001b[38;5;28mtype\u001b[39m(cache_content))\n\u001b[0;32m     13\u001b[0m \u001b[38;5;28mprint\u001b[39m(\u001b[38;5;124m\"\u001b[39m\u001b[38;5;124mCache content:\u001b[39m\u001b[38;5;124m\"\u001b[39m, cache_content)\n",
      "\u001b[1;31mEOFError\u001b[0m: Ran out of input"
     ]
    }
   ],
   "source": [
    "import pickle\n",
    "\n",
    "\n",
    "lru_file_path = os.path.join(cache_dir, '.lock')\n",
    "print(lru_file_path)\n",
    "\n",
    "\n",
    "with open(lru_file_path, 'rb') as file:\n",
    "    cache_content = pickle.load(file)\n",
    "\n",
    "\n",
    "print(type(cache_content))\n",
    "print(\"Cache content:\", cache_content)"
   ]
  },
  {
   "cell_type": "markdown",
   "metadata": {},
   "source": [
    "Oops..."
   ]
  },
  {
   "cell_type": "code",
   "execution_count": 85,
   "metadata": {},
   "outputs": [
    {
     "name": "stdout",
     "output_type": "stream",
     "text": [
      "C:\\Users\\basia\\AppData\\Local\\dwave\\busclique_7\\clique\\.lru\n",
      "<class 'list'>\n",
      "Cache content: ['pegasus_599a4b13e9291929']\n"
     ]
    }
   ],
   "source": [
    "lru_file_path = os.path.join(cache_dir, '.lru')\n",
    "print(lru_file_path)\n",
    "\n",
    "\n",
    "with open(lru_file_path, 'rb') as file:\n",
    "    cache_content = pickle.load(file)\n",
    "\n",
    "print(type(cache_content))\n",
    "print(\"Cache content:\", cache_content)"
   ]
  },
  {
   "cell_type": "code",
   "execution_count": 86,
   "metadata": {},
   "outputs": [],
   "source": [
    "%%capture cap\n",
    "\n",
    "\n",
    "lru_file_path = os.path.join(cache_dir, 'pegasus_599a4b13e9291929')\n",
    "print(lru_file_path)\n",
    "\n",
    "\n",
    "with open(lru_file_path, 'rb') as file:\n",
    "    cache_content = pickle.load(file)\n",
    "\n",
    "print(\"Cache content:\", cache_content)\n",
    "\n",
    "with open('cache_file.txt', 'w') as file:\n",
    "    file.write(cap.stdout)\n",
    "\n",
    "print(type(cache_content))"
   ]
  }
 ],
 "metadata": {
  "kernelspec": {
   "display_name": "Python 3",
   "language": "python",
   "name": "python3"
  },
  "language_info": {
   "codemirror_mode": {
    "name": "ipython",
    "version": 3
   },
   "file_extension": ".py",
   "mimetype": "text/x-python",
   "name": "python",
   "nbconvert_exporter": "python",
   "pygments_lexer": "ipython3",
   "version": "3.10.11"
  }
 },
 "nbformat": 4,
 "nbformat_minor": 2
}
