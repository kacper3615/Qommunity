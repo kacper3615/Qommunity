{
 "cells": [
  {
   "cell_type": "code",
   "execution_count": 1,
   "metadata": {},
   "outputs": [],
   "source": [
    "from QHyper.solvers.quantum_annealing.advantage import Advantage\n",
    "\n",
    "import numpy as np\n",
    "import networkx as nx\n",
    "from collections import defaultdict\n",
    "\n",
    "from QHyper.converter import Converter\n",
    "from QHyper.constraint import Polynomial\n",
    "\n",
    "from dwave.system import DWaveSampler, EmbeddingComposite\n",
    "from dimod import BinaryQuadraticModel\n",
    "from dimod.sampleset import SampleSet"
   ]
  },
  {
   "cell_type": "markdown",
   "metadata": {},
   "source": [
    "Some util function from QHyper"
   ]
  },
  {
   "cell_type": "code",
   "execution_count": 2,
   "metadata": {},
   "outputs": [],
   "source": [
    "def convert_qubo_keys(qubo: Polynomial) -> tuple[dict[tuple, float], float]:\n",
    "    new_qubo = defaultdict(float)\n",
    "    offset = 0.0\n",
    "\n",
    "    qubo, offset = qubo.separate_const()\n",
    "    for k, v in qubo.terms.items():\n",
    "        if len(k) == 1:\n",
    "            new_key = (k[0], k[0])\n",
    "        elif len(k) > 2:\n",
    "            raise ValueError(\"Only supports quadratic model\")\n",
    "        else:\n",
    "            new_key = k\n",
    "\n",
    "        new_qubo[new_key] += v\n",
    "\n",
    "    return (new_qubo, offset)"
   ]
  },
  {
   "cell_type": "markdown",
   "metadata": {},
   "source": [
    "Load our biggest graph"
   ]
  },
  {
   "cell_type": "code",
   "execution_count": 3,
   "metadata": {},
   "outputs": [],
   "source": [
    "Graphs = np.load(\"networks/powerlaw_m=1_p=0.2/graphs.npy\", allow_pickle=True)\n",
    "G = Graphs[9]"
   ]
  },
  {
   "cell_type": "markdown",
   "metadata": {},
   "source": [
    "Simple binary clustering of this graph"
   ]
  },
  {
   "cell_type": "code",
   "execution_count": 4,
   "metadata": {},
   "outputs": [],
   "source": [
    "from QHyper.problems.community_detection import CommunityDetectionProblem, Network\n",
    "\n",
    "\n",
    "network = Network(graph=G)\n",
    "problem = CommunityDetectionProblem(network_data=network, communities=2, one_hot_encoding=False)"
   ]
  },
  {
   "cell_type": "markdown",
   "metadata": {},
   "source": [
    "Get the standard Advantage sampler and embedding composite"
   ]
  },
  {
   "cell_type": "code",
   "execution_count": 5,
   "metadata": {},
   "outputs": [],
   "source": [
    "sampler = DWaveSampler(solver=\"Advantage_system5.4\", region=\"eu-central-1\")\n",
    "embedding_composite = EmbeddingComposite(sampler)"
   ]
  },
  {
   "cell_type": "code",
   "execution_count": 6,
   "metadata": {},
   "outputs": [],
   "source": [
    "qubo = Converter.create_qubo(problem, [])\n",
    "qubo_terms, offset = convert_qubo_keys(qubo)\n",
    "bqm = BinaryQuadraticModel.from_qubo(qubo_terms, offset=offset)"
   ]
  },
  {
   "cell_type": "code",
   "execution_count": 7,
   "metadata": {},
   "outputs": [
    {
     "name": "stdout",
     "output_type": "stream",
     "text": [
      "CPU times: total: 1min 9s\n",
      "Wall time: 1min 38s\n"
     ]
    }
   ],
   "source": [
    "%time sampleset = EmbeddingComposite(sampler).sample(bqm, num_reads=100)"
   ]
  },
  {
   "cell_type": "code",
   "execution_count": 8,
   "metadata": {},
   "outputs": [
    {
     "name": "stdout",
     "output_type": "stream",
     "text": [
      "c0 len: 47\n",
      "c1 len: 53\n",
      "Q:  0.45913682277318646\n"
     ]
    }
   ],
   "source": [
    "res = sampleset.first.sample\n",
    "\n",
    "c0 = sorted([int(k[1:]) for k, v in res.items() if v == 0])\n",
    "c1 = sorted([int(k[1:]) for k, v in res.items() if v == 1])\n",
    "\n",
    "# Some simple intuition on the results\n",
    "print(\"c0 len:\", len(c0))\n",
    "print(\"c1 len:\", len(c1))\n",
    "print(\"Q: \", nx.community.modularity(G, [c0, c1]))"
   ]
  },
  {
   "cell_type": "markdown",
   "metadata": {},
   "source": [
    "Each time the .sample method is called on the sampler, a new embedding is calculated.\\\n",
    "Previously calculated embeddings can be extracted from the sampleset info."
   ]
  },
  {
   "cell_type": "code",
   "execution_count": 12,
   "metadata": {},
   "outputs": [],
   "source": [
    "sampleset = embedding_composite.sample(\n",
    "    bqm, num_reads=100, return_embedding=True\n",
    ")"
   ]
  },
  {
   "cell_type": "code",
   "execution_count": 13,
   "metadata": {},
   "outputs": [
    {
     "data": {
      "text/plain": [
       "{'x1': (4430,\n",
       "  4429,\n",
       "  1821,\n",
       "  4428,\n",
       "  4427,\n",
       "  4431,\n",
       "  4432,\n",
       "  4433,\n",
       "  4434,\n",
       "  1823,\n",
       "  1822,\n",
       "  4089,\n",
       "  4359),\n",
       " 'x0': (1328, 1329, 1327, 1330, 1326, 4942, 4943, 1331, 1325, 1324),\n",
       " 'x2': (4024, 4023, 775, 771, 772, 4027, 4025, 773, 4026, 4028, 774),\n",
       " 'x3': (1478,\n",
       "  3635,\n",
       "  1477,\n",
       "  1476,\n",
       "  1475,\n",
       "  1474,\n",
       "  3698,\n",
       "  1479,\n",
       "  1480,\n",
       "  1481,\n",
       "  1482,\n",
       "  3637,\n",
       "  3636,\n",
       "  1023,\n",
       "  1024),\n",
       " 'x4': (1507,\n",
       "  1506,\n",
       "  1505,\n",
       "  1508,\n",
       "  1509,\n",
       "  1510,\n",
       "  1511,\n",
       "  1504,\n",
       "  3952,\n",
       "  3953,\n",
       "  1503,\n",
       "  1512),\n",
       " 'x5': (1164,\n",
       "  1165,\n",
       "  4971,\n",
       "  1256,\n",
       "  5001,\n",
       "  5002,\n",
       "  1163,\n",
       "  1162,\n",
       "  1161,\n",
       "  5003,\n",
       "  1160,\n",
       "  4895),\n",
       " 'x6': (4325,\n",
       "  4321,\n",
       "  4326,\n",
       "  4327,\n",
       "  4328,\n",
       "  4329,\n",
       "  4324,\n",
       "  4323,\n",
       "  4322,\n",
       "  517,\n",
       "  516,\n",
       "  518,\n",
       "  519),\n",
       " 'x7': (4235, 4236, 4237, 4238, 4234, 4233, 577, 4232, 4239, 576, 578),\n",
       " 'x8': (4443,\n",
       "  848,\n",
       "  4534,\n",
       "  4535,\n",
       "  4536,\n",
       "  4537,\n",
       "  4538,\n",
       "  4442,\n",
       "  4441,\n",
       "  4440,\n",
       "  4444,\n",
       "  398,\n",
       "  397,\n",
       "  396),\n",
       " 'x9': (1418, 1417, 1419, 1420, 1416, 1415, 4582, 4583, 4581, 4580, 4579),\n",
       " 'x10': (4085, 4086, 4087, 4088, 4084, 4083, 846, 847, 4082, 4081),\n",
       " 'x11': (4593, 4594, 4595, 4596, 4597, 4598, 594, 593, 592, 591, 579, 4599),\n",
       " 'x12': (4564,\n",
       "  4565,\n",
       "  4566,\n",
       "  4567,\n",
       "  4568,\n",
       "  4563,\n",
       "  4562,\n",
       "  488,\n",
       "  487,\n",
       "  486,\n",
       "  1253,\n",
       "  4382,\n",
       "  442,\n",
       "  4569),\n",
       " 'x13': (1613,\n",
       "  1614,\n",
       "  1615,\n",
       "  1616,\n",
       "  1612,\n",
       "  1611,\n",
       "  1610,\n",
       "  1609,\n",
       "  1617,\n",
       "  3878,\n",
       "  4838,\n",
       "  5093,\n",
       "  5092,\n",
       "  3728,\n",
       "  4988),\n",
       " 'x14': (4070, 4069, 4068, 4067, 4071, 4072, 4073, 681, 4074),\n",
       " 'x15': (1583,\n",
       "  1582,\n",
       "  1581,\n",
       "  1584,\n",
       "  1585,\n",
       "  1586,\n",
       "  1580,\n",
       "  1579,\n",
       "  3833,\n",
       "  3832,\n",
       "  3831,\n",
       "  3830,\n",
       "  1587,\n",
       "  1069),\n",
       " 'x16': (1010, 3965, 3966, 1011, 1012, 1013, 1014, 3964, 3967, 1015, 3968),\n",
       " 'x17': (1537, 1536, 1535, 1534, 1538, 1539, 1540, 1541, 3772),\n",
       " 'x18': (1313,\n",
       "  1314,\n",
       "  1315,\n",
       "  1316,\n",
       "  1317,\n",
       "  1312,\n",
       "  1311,\n",
       "  1310,\n",
       "  3877,\n",
       "  1309,\n",
       "  3667,\n",
       "  3668,\n",
       "  1533),\n",
       " 'x19': (1105,\n",
       "  1104,\n",
       "  1103,\n",
       "  1102,\n",
       "  1101,\n",
       "  1106,\n",
       "  1107,\n",
       "  4865,\n",
       "  5165,\n",
       "  5166,\n",
       "  4925,\n",
       "  5167,\n",
       "  5168),\n",
       " 'x20': (1193, 1192, 1194, 1195, 4896, 4897, 1191, 1190, 1196, 4898),\n",
       " 'x21': (1269,\n",
       "  1268,\n",
       "  1267,\n",
       "  1266,\n",
       "  1270,\n",
       "  1271,\n",
       "  1265,\n",
       "  4836,\n",
       "  4837,\n",
       "  1272,\n",
       "  5241,\n",
       "  5242,\n",
       "  5243,\n",
       "  3876),\n",
       " 'x22': (1645,\n",
       "  1644,\n",
       "  1643,\n",
       "  1642,\n",
       "  1641,\n",
       "  1646,\n",
       "  1647,\n",
       "  5213,\n",
       "  5212,\n",
       "  1640,\n",
       "  1639,\n",
       "  3803,\n",
       "  1422),\n",
       " 'x23': (1117,\n",
       "  1116,\n",
       "  1115,\n",
       "  3861,\n",
       "  3862,\n",
       "  1118,\n",
       "  4445,\n",
       "  1119,\n",
       "  3863,\n",
       "  1120,\n",
       "  1121,\n",
       "  1625,\n",
       "  1122,\n",
       "  4446),\n",
       " 'x24': (1568,\n",
       "  1567,\n",
       "  1566,\n",
       "  1565,\n",
       "  1564,\n",
       "  1569,\n",
       "  1570,\n",
       "  1571,\n",
       "  1572,\n",
       "  3713,\n",
       "  3712,\n",
       "  3711,\n",
       "  1368,\n",
       "  1173,\n",
       "  1174,\n",
       "  1338),\n",
       " 'x25': (4743, 4744, 639, 638, 4745, 4746, 4747, 4748, 637, 636, 635, 624),\n",
       " 'x26': (4009, 815, 816, 817, 4008, 818, 4010, 4011, 4012, 4013, 819),\n",
       " 'x27': (3994, 860, 861, 862, 3993, 3995, 3996, 3997, 3992, 863, 3998),\n",
       " 'x28': (1150,\n",
       "  1149,\n",
       "  1148,\n",
       "  1151,\n",
       "  4956,\n",
       "  5151,\n",
       "  5152,\n",
       "  5153,\n",
       "  1147,\n",
       "  1146,\n",
       "  1145,\n",
       "  5075,\n",
       "  1144),\n",
       " 'x29': (4624,\n",
       "  621,\n",
       "  4623,\n",
       "  4622,\n",
       "  623,\n",
       "  622,\n",
       "  4625,\n",
       "  4626,\n",
       "  4628,\n",
       "  4627,\n",
       "  620,\n",
       "  1749,\n",
       "  1750,\n",
       "  4629,\n",
       "  1883,\n",
       "  4524),\n",
       " 'x30': (4668, 4669, 714, 713, 712, 711, 4670, 4671, 4672, 4673, 710, 715),\n",
       " 'x31': (995,\n",
       "  3983,\n",
       "  996,\n",
       "  3980,\n",
       "  3979,\n",
       "  3978,\n",
       "  3981,\n",
       "  3982,\n",
       "  997,\n",
       "  998,\n",
       "  999,\n",
       "  1000,\n",
       "  4955),\n",
       " 'x32': (4115,\n",
       "  4114,\n",
       "  4113,\n",
       "  4112,\n",
       "  4116,\n",
       "  533,\n",
       "  4117,\n",
       "  4118,\n",
       "  4111,\n",
       "  531,\n",
       "  532,\n",
       "  4119,\n",
       "  534,\n",
       "  4757),\n",
       " 'x33': (292,\n",
       "  4340,\n",
       "  4341,\n",
       "  4342,\n",
       "  4343,\n",
       "  1657,\n",
       "  4344,\n",
       "  4339,\n",
       "  4338,\n",
       "  4337,\n",
       "  4336,\n",
       "  1656),\n",
       " 'x34': (1209,\n",
       "  1210,\n",
       "  4926,\n",
       "  4927,\n",
       "  1206,\n",
       "  1208,\n",
       "  1207,\n",
       "  4928,\n",
       "  1205,\n",
       "  1211,\n",
       "  4985,\n",
       "  4984),\n",
       " 'x35': (1056,\n",
       "  3906,\n",
       "  1057,\n",
       "  1055,\n",
       "  3905,\n",
       "  3907,\n",
       "  3908,\n",
       "  1058,\n",
       "  1059,\n",
       "  1280,\n",
       "  1060,\n",
       "  4835,\n",
       "  4834,\n",
       "  4833,\n",
       "  1061),\n",
       " 'x36': (4039, 921, 922, 923, 4038, 4037, 4040, 4041, 4042, 4043, 924, 925),\n",
       " 'x37': (4803, 789, 788, 787, 4804, 4805, 4806, 786, 4807, 4808, 760, 785),\n",
       " 'x38': (1089,\n",
       "  1088,\n",
       "  1087,\n",
       "  1086,\n",
       "  1090,\n",
       "  1091,\n",
       "  5060,\n",
       "  5061,\n",
       "  5062,\n",
       "  5063,\n",
       "  1085,\n",
       "  1092),\n",
       " 'x39': (4638, 4637, 608, 607, 606, 4639, 4640, 4641, 4642, 4643, 605),\n",
       " 'x40': (4309,\n",
       "  4308,\n",
       "  4307,\n",
       "  547,\n",
       "  4310,\n",
       "  4306,\n",
       "  427,\n",
       "  352,\n",
       "  4311,\n",
       "  4312,\n",
       "  4313,\n",
       "  546,\n",
       "  4314,\n",
       "  1837,\n",
       "  548,\n",
       "  549),\n",
       " 'x41': (4999,\n",
       "  4998,\n",
       "  731,\n",
       "  730,\n",
       "  729,\n",
       "  728,\n",
       "  1421,\n",
       "  727,\n",
       "  5106,\n",
       "  726,\n",
       "  1031,\n",
       "  5105,\n",
       "  5107,\n",
       "  5108,\n",
       "  941),\n",
       " 'x42': (4698,\n",
       "  4699,\n",
       "  4700,\n",
       "  4701,\n",
       "  4697,\n",
       "  474,\n",
       "  473,\n",
       "  472,\n",
       "  471,\n",
       "  564,\n",
       "  563,\n",
       "  864,\n",
       "  470,\n",
       "  4702,\n",
       "  4703),\n",
       " 'x43': (1221,\n",
       "  1220,\n",
       "  3892,\n",
       "  3891,\n",
       "  1224,\n",
       "  3890,\n",
       "  1222,\n",
       "  1223,\n",
       "  3893,\n",
       "  1225,\n",
       "  1226,\n",
       "  1100),\n",
       " 'x44': (4475, 4474, 4473, 938, 937, 4477, 4478, 936, 4476, 939, 4472),\n",
       " 'x45': (1403,\n",
       "  1404,\n",
       "  1405,\n",
       "  1402,\n",
       "  4868,\n",
       "  1401,\n",
       "  1406,\n",
       "  1407,\n",
       "  1400,\n",
       "  4867,\n",
       "  1399,\n",
       "  5031,\n",
       "  1286),\n",
       " 'x46': (1553, 1554, 1555, 1556, 5077, 5078, 1552, 1551, 1550, 1549, 5076),\n",
       " 'x47': (5044,\n",
       "  5045,\n",
       "  836,\n",
       "  835,\n",
       "  834,\n",
       "  833,\n",
       "  832,\n",
       "  831,\n",
       "  830,\n",
       "  5046,\n",
       "  1166,\n",
       "  5136,\n",
       "  5137,\n",
       "  5138),\n",
       " 'x48': (4653,\n",
       "  4654,\n",
       "  4655,\n",
       "  4656,\n",
       "  4652,\n",
       "  698,\n",
       "  4657,\n",
       "  697,\n",
       "  4651,\n",
       "  699,\n",
       "  4658,\n",
       "  696,\n",
       "  695),\n",
       " 'x49': (880, 4849, 4850, 4851, 4852, 4853, 875, 881, 879, 878, 877, 876),\n",
       " 'x50': (4387,\n",
       "  4386,\n",
       "  4388,\n",
       "  4389,\n",
       "  1658,\n",
       "  1659,\n",
       "  1792,\n",
       "  1791,\n",
       "  4385,\n",
       "  4384,\n",
       "  4383,\n",
       "  4299),\n",
       " 'x51': (1597,\n",
       "  3816,\n",
       "  1596,\n",
       "  1598,\n",
       "  1599,\n",
       "  1600,\n",
       "  1595,\n",
       "  1601,\n",
       "  1594,\n",
       "  3818,\n",
       "  1602,\n",
       "  3817,\n",
       "  5198,\n",
       "  1234),\n",
       " 'x52': (1040,\n",
       "  1041,\n",
       "  1042,\n",
       "  1043,\n",
       "  1044,\n",
       "  3904,\n",
       "  1045,\n",
       "  3919,\n",
       "  3920,\n",
       "  3921,\n",
       "  3922,\n",
       "  1046,\n",
       "  3923,\n",
       "  5014,\n",
       "  1189),\n",
       " 'x53': (4280, 4279, 4278, 4277, 4281, 4282, 4283, 4276, 1731, 4284, 1730),\n",
       " 'x54': (4683,\n",
       "  759,\n",
       "  758,\n",
       "  4686,\n",
       "  4684,\n",
       "  4685,\n",
       "  4687,\n",
       "  4682,\n",
       "  4688,\n",
       "  504,\n",
       "  503,\n",
       "  502,\n",
       "  501,\n",
       "  500),\n",
       " 'x55': (4145,\n",
       "  4146,\n",
       "  4147,\n",
       "  4143,\n",
       "  4148,\n",
       "  4149,\n",
       "  1686,\n",
       "  4144,\n",
       "  4142,\n",
       "  4141,\n",
       "  276,\n",
       "  277,\n",
       "  1685,\n",
       "  278,\n",
       "  4606,\n",
       "  4290,\n",
       "  354,\n",
       "  4696),\n",
       " 'x56': (4160, 4161, 4159, 4158, 4157, 456, 4164, 4162, 4163, 4156, 455),\n",
       " 'x57': (4490, 4491, 4492, 4489, 953, 952, 4488, 951, 4487, 954, 4493),\n",
       " 'x58': (1239,\n",
       "  1238,\n",
       "  1237,\n",
       "  4940,\n",
       "  1236,\n",
       "  1240,\n",
       "  1241,\n",
       "  1242,\n",
       "  1235,\n",
       "  4986,\n",
       "  4987,\n",
       "  4941,\n",
       "  5121,\n",
       "  5122,\n",
       "  5123),\n",
       " 'x59': (4174, 321, 4175, 4173, 4172, 4171, 4176, 4177, 4178, 4179),\n",
       " 'x60': (4401, 4400, 1776, 4402, 4403, 4404, 4399, 4398, 4397, 4405, 1777),\n",
       " 'x61': (1298, 1299, 1297, 1296, 1295, 1300, 1301, 4957, 4958, 1302, 1294),\n",
       " 'x62': (4879,\n",
       "  910,\n",
       "  909,\n",
       "  908,\n",
       "  850,\n",
       "  907,\n",
       "  4880,\n",
       "  4881,\n",
       "  4882,\n",
       "  4883,\n",
       "  906,\n",
       "  940,\n",
       "  905,\n",
       "  851),\n",
       " 'x63': (4819, 895, 894, 893, 892, 891, 4820, 4821, 4818, 4822, 4823, 890),\n",
       " 'x64': (1180, 5018, 1179, 1178, 1177, 1176, 1181, 5015, 5016, 5017, 1175),\n",
       " 'x65': (4522, 4523, 4521, 4520, 4519, 4518, 1673, 1672, 1671, 4517),\n",
       " 'x66': (4221, 4220, 4219, 4218, 4222, 4223, 4217, 4216, 4224, 336),\n",
       " 'x67': (1341,\n",
       "  1340,\n",
       "  3951,\n",
       "  1342,\n",
       "  1343,\n",
       "  1344,\n",
       "  1345,\n",
       "  1346,\n",
       "  1339,\n",
       "  3756,\n",
       "  3758,\n",
       "  3757),\n",
       " 'x68': (1448, 1449, 1450, 1451, 1447, 1446, 5032, 1452, 1445, 3847),\n",
       " 'x69': (4773, 4777, 745, 744, 743, 742, 4774, 4775, 4776, 4778, 741),\n",
       " 'x70': (4250, 4251, 4252, 4249, 4248, 4253, 4254, 4247, 441, 440),\n",
       " 'x71': (4713, 4714, 654, 653, 652, 4715, 650, 4716, 4717, 4718, 651),\n",
       " 'x72': (1494,\n",
       "  1495,\n",
       "  1496,\n",
       "  1497,\n",
       "  1493,\n",
       "  1492,\n",
       "  1491,\n",
       "  1490,\n",
       "  1489,\n",
       "  5182,\n",
       "  5181,\n",
       "  5180),\n",
       " 'x73': (1372,\n",
       "  1373,\n",
       "  1374,\n",
       "  1375,\n",
       "  1376,\n",
       "  1371,\n",
       "  1370,\n",
       "  1369,\n",
       "  3802,\n",
       "  3771,\n",
       "  1249,\n",
       "  1250),\n",
       " 'x74': (984, 4790, 4791, 4792, 4793, 983, 982, 981, 980, 985, 986),\n",
       " 'x75': (4372, 4371, 4373, 1687, 1252, 1251, 4370, 4369, 1688, 4368, 1689),\n",
       " 'x76': (970, 969, 968, 967, 966, 4909, 4910, 4911, 4912, 4913, 965, 971),\n",
       " 'x77': (1074,\n",
       "  1075,\n",
       "  1076,\n",
       "  5090,\n",
       "  5091,\n",
       "  1073,\n",
       "  1072,\n",
       "  1071,\n",
       "  1070,\n",
       "  1287,\n",
       "  5196,\n",
       "  5197,\n",
       "  5211,\n",
       "  1377,\n",
       "  1542),\n",
       " 'x78': (4553,\n",
       "  4552,\n",
       "  4551,\n",
       "  4554,\n",
       "  1748,\n",
       "  1747,\n",
       "  1718,\n",
       "  1717,\n",
       "  1746,\n",
       "  1674,\n",
       "  4550,\n",
       "  4549,\n",
       "  4548),\n",
       " 'x79': (1523, 1522, 1521, 1520, 1519, 1524, 1525, 1526, 4447, 1518, 1527),\n",
       " 'x80': (1463,\n",
       "  1462,\n",
       "  1461,\n",
       "  1464,\n",
       "  1465,\n",
       "  1466,\n",
       "  1460,\n",
       "  1467,\n",
       "  1459,\n",
       "  3742,\n",
       "  3743,\n",
       "  5227,\n",
       "  5226,\n",
       "  5225,\n",
       "  5228,\n",
       "  1347),\n",
       " 'x81': (1358,\n",
       "  1357,\n",
       "  1356,\n",
       "  1355,\n",
       "  1354,\n",
       "  1359,\n",
       "  1360,\n",
       "  1361,\n",
       "  4972,\n",
       "  1353,\n",
       "  4973,\n",
       "  1362),\n",
       " 'x82': (4357, 4356, 4358, 1702, 1701, 1703, 4355, 4354, 4353, 1700, 4352),\n",
       " 'x83': (1389, 1388, 1387, 1390, 1391, 5047, 1386, 1392, 1385, 1384, 5048),\n",
       " 'x84': (4265,\n",
       "  4266,\n",
       "  4267,\n",
       "  4268,\n",
       "  4264,\n",
       "  4263,\n",
       "  4262,\n",
       "  1716,\n",
       "  4261,\n",
       "  4269,\n",
       "  426,\n",
       "  1715),\n",
       " 'x85': (4728, 4729, 4730, 804, 803, 802, 801, 800, 4731, 4732, 4733, 684),\n",
       " 'x86': (756, 4099, 4095, 4098, 4097, 4100, 4101, 4102, 4103, 4096, 4104, 757),\n",
       " 'x87': (4607,\n",
       "  4608,\n",
       "  4609,\n",
       "  4610,\n",
       "  4611,\n",
       "  4612,\n",
       "  4613,\n",
       "  414,\n",
       "  413,\n",
       "  412,\n",
       "  411,\n",
       "  4614,\n",
       "  428,\n",
       "  458,\n",
       "  849,\n",
       "  3991),\n",
       " 'x88': (4758, 669, 668, 4759, 4760, 4761, 4762, 4763, 667, 666, 665),\n",
       " 'x89': (4461,\n",
       "  4462,\n",
       "  4463,\n",
       "  1732,\n",
       "  1763,\n",
       "  4460,\n",
       "  4459,\n",
       "  4458,\n",
       "  1733,\n",
       "  1762,\n",
       "  4457,\n",
       "  1761),\n",
       " 'x90': (4294,\n",
       "  4295,\n",
       "  4297,\n",
       "  4293,\n",
       "  4296,\n",
       "  4292,\n",
       "  4291,\n",
       "  4298,\n",
       "  381,\n",
       "  562,\n",
       "  457,\n",
       "  382,\n",
       "  4066),\n",
       " 'x91': (4506, 1281, 4507, 1283, 1282, 4505, 4504, 4508, 1284, 4503),\n",
       " 'x92': (4414, 4418, 4417, 4416, 4415, 1628, 1627, 1626, 1629, 1630, 4413),\n",
       " 'x93': (1134,\n",
       "  1133,\n",
       "  1132,\n",
       "  1131,\n",
       "  3815,\n",
       "  1130,\n",
       "  1129,\n",
       "  3786,\n",
       "  1135,\n",
       "  1136,\n",
       "  3785,\n",
       "  3787,\n",
       "  1137,\n",
       "  3788,\n",
       "  1444,\n",
       "  5000),\n",
       " 'x94': (4205,\n",
       "  1942,\n",
       "  4206,\n",
       "  4207,\n",
       "  4208,\n",
       "  4209,\n",
       "  4204,\n",
       "  4210,\n",
       "  4203,\n",
       "  4202,\n",
       "  4201,\n",
       "  1941,\n",
       "  4060),\n",
       " 'x95': (4129,\n",
       "  4130,\n",
       "  4131,\n",
       "  4132,\n",
       "  4133,\n",
       "  4134,\n",
       "  4128,\n",
       "  561,\n",
       "  4127,\n",
       "  4126,\n",
       "  1896,\n",
       "  351,\n",
       "  1897),\n",
       " 'x96': (4053, 4054, 4055, 4056, 4057, 4058, 4059, 4052, 4051),\n",
       " 'x97': (1432, 1433, 1434, 1435, 1431, 1430, 1429, 3727, 1436, 1437),\n",
       " 'x98': (4190,\n",
       "  4191,\n",
       "  4192,\n",
       "  4189,\n",
       "  4188,\n",
       "  4193,\n",
       "  4194,\n",
       "  4187,\n",
       "  1809,\n",
       "  4186,\n",
       "  1807,\n",
       "  1806,\n",
       "  1808,\n",
       "  4419,\n",
       "  4689),\n",
       " 'x99': (1025,\n",
       "  3934,\n",
       "  1026,\n",
       "  1027,\n",
       "  3935,\n",
       "  3936,\n",
       "  3937,\n",
       "  3933,\n",
       "  3932,\n",
       "  3938,\n",
       "  1028,\n",
       "  1029,\n",
       "  1030)}"
      ]
     },
     "execution_count": 13,
     "metadata": {},
     "output_type": "execute_result"
    }
   ],
   "source": [
    "embedding_from_sampleset = sampleset.info[\"embedding_context\"][\"embedding\"]\n",
    "embedding_from_sampleset"
   ]
  },
  {
   "cell_type": "markdown",
   "metadata": {},
   "source": [
    "Let's find embedding the same way it is done automatically in EmbeddingComposite class \\\n",
    "(code extracted from the EmbeddingComposite class)"
   ]
  },
  {
   "cell_type": "code",
   "execution_count": 14,
   "metadata": {},
   "outputs": [],
   "source": [
    "import minorminer\n",
    "import dimod\n",
    "\n",
    "\n",
    "# Extracted from EmbeddingComposite class sourcecode\n",
    "find_embedding=minorminer.find_embedding\n",
    "child_structure_search = dimod.child_structure_dfs"
   ]
  },
  {
   "cell_type": "code",
   "execution_count": 15,
   "metadata": {},
   "outputs": [],
   "source": [
    "# Extracted from EmbeddincComposite class sourcecode\n",
    "\n",
    "# apply the embedding to the given problem to map it to the child sampler\n",
    "target_structure = child_structure_search(sampler)\n",
    "__, target_edgelist, target_adjacency = target_structure\n",
    "\n",
    "# add self-loops to edgelist to handle singleton variables\n",
    "source_edgelist = list(bqm.quadratic) + [(v, v) for v in bqm.linear]"
   ]
  },
  {
   "cell_type": "code",
   "execution_count": 16,
   "metadata": {},
   "outputs": [
    {
     "name": "stdout",
     "output_type": "stream",
     "text": [
      "CPU times: total: 1min 25s\n",
      "Wall time: 1min 47s\n"
     ]
    }
   ],
   "source": [
    "%time embedding_calculated = find_embedding(source_edgelist, target_edgelist)"
   ]
  },
  {
   "cell_type": "code",
   "execution_count": 18,
   "metadata": {},
   "outputs": [
    {
     "data": {
      "text/plain": [
       "[4188,\n",
       " 4463,\n",
       " 4189,\n",
       " 1748,\n",
       " 1749,\n",
       " 1750,\n",
       " 1751,\n",
       " 1752,\n",
       " 1753,\n",
       " 4462,\n",
       " 1493,\n",
       " 1492,\n",
       " 4192,\n",
       " 4191,\n",
       " 4190,\n",
       " 1418,\n",
       " 1754]"
      ]
     },
     "execution_count": 18,
     "metadata": {},
     "output_type": "execute_result"
    }
   ],
   "source": [
    "embedding_calculated[\"x3\"]"
   ]
  },
  {
   "cell_type": "code",
   "execution_count": 19,
   "metadata": {},
   "outputs": [
    {
     "data": {
      "text/plain": [
       "(1478,\n",
       " 3635,\n",
       " 1477,\n",
       " 1476,\n",
       " 1475,\n",
       " 1474,\n",
       " 3698,\n",
       " 1479,\n",
       " 1480,\n",
       " 1481,\n",
       " 1482,\n",
       " 3637,\n",
       " 3636,\n",
       " 1023,\n",
       " 1024)"
      ]
     },
     "execution_count": 19,
     "metadata": {},
     "output_type": "execute_result"
    }
   ],
   "source": [
    "embedding_from_sampleset[\"x3\"]"
   ]
  },
  {
   "cell_type": "markdown",
   "metadata": {},
   "source": [
    "The minorminer.find_embedding default method is heuristic, \\\n",
    "I'll set a seed to see if the embedding we calculate aside with find_embedding is same as the embedding calculated automatically with EmbeddingComposite"
   ]
  },
  {
   "cell_type": "code",
   "execution_count": 20,
   "metadata": {},
   "outputs": [],
   "source": [
    "sampleset_with_random_seed = embedding_composite.sample(\n",
    "    bqm, num_reads=100, return_embedding=True, embedding_parameters={\"random_seed\": 10}\n",
    ")"
   ]
  },
  {
   "cell_type": "code",
   "execution_count": 21,
   "metadata": {},
   "outputs": [],
   "source": [
    "embedding_calculated_rs = find_embedding(source_edgelist, target_edgelist, random_seed=10)"
   ]
  },
  {
   "cell_type": "code",
   "execution_count": 22,
   "metadata": {},
   "outputs": [],
   "source": [
    "embedding_from_sampleset_rs = sampleset_with_random_seed.info[\"embedding_context\"][\"embedding\"]"
   ]
  },
  {
   "cell_type": "markdown",
   "metadata": {},
   "source": [
    "No surprise, they're the same:"
   ]
  },
  {
   "cell_type": "code",
   "execution_count": 23,
   "metadata": {},
   "outputs": [
    {
     "data": {
      "text/plain": [
       "True"
      ]
     },
     "execution_count": 23,
     "metadata": {},
     "output_type": "execute_result"
    }
   ],
   "source": [
    "sorted(embedding_calculated_rs) == sorted(embedding_from_sampleset_rs)"
   ]
  },
  {
   "cell_type": "markdown",
   "metadata": {},
   "source": [
    "Let's put the calculated embedding to FixedEmbeddingComposite"
   ]
  },
  {
   "cell_type": "code",
   "execution_count": 24,
   "metadata": {},
   "outputs": [],
   "source": [
    "from dwave.system.composites import FixedEmbeddingComposite\n",
    "\n",
    "\n",
    "fixed_embedding_composite = FixedEmbeddingComposite(sampler, embedding=embedding_calculated_rs)"
   ]
  },
  {
   "cell_type": "markdown",
   "metadata": {},
   "source": [
    "Let's sample from it"
   ]
  },
  {
   "cell_type": "code",
   "execution_count": 25,
   "metadata": {},
   "outputs": [
    {
     "name": "stdout",
     "output_type": "stream",
     "text": [
      "CPU times: total: 46.9 ms\n",
      "Wall time: 121 ms\n"
     ]
    }
   ],
   "source": [
    "%time sampleset_fe = fixed_embedding_composite.sample(bqm, num_reads=100, return_embedding=True)"
   ]
  },
  {
   "cell_type": "code",
   "execution_count": 26,
   "metadata": {},
   "outputs": [
    {
     "name": "stdout",
     "output_type": "stream",
     "text": [
      "c0_fe len: 48\n",
      "c1_fe len: 52\n",
      "Sample modularity from EmbeddingComposite: 0.45913682277318646\n",
      "Sample modularity from FixedEmbeddingComposite: 0.4393429241914091\n"
     ]
    }
   ],
   "source": [
    "res_fe = sampleset_fe.first.sample\n",
    "\n",
    "# Again, some simple results intuition\n",
    "c0_fe = sorted([int(k[1:]) for k, v in res_fe.items() if v == 0])\n",
    "c1_fe = sorted([int(k[1:]) for k, v in res_fe.items() if v == 1])\n",
    "\n",
    "print(\"c0_fe len:\", len(c0_fe))\n",
    "print(\"c1_fe len:\", len(c1_fe))\n",
    "print(\"Sample modularity from EmbeddingComposite:\", nx.community.modularity(G, [c0, c1]))\n",
    "print(\"Sample modularity from FixedEmbeddingComposite:\", nx.community.modularity(G, [c0_fe, c1_fe]))"
   ]
  },
  {
   "cell_type": "markdown",
   "metadata": {},
   "source": [
    "Let's see how much time can be saved when we do minorminer.find_embedding parallelly"
   ]
  },
  {
   "cell_type": "code",
   "execution_count": 28,
   "metadata": {},
   "outputs": [
    {
     "name": "stdout",
     "output_type": "stream",
     "text": [
      "CPU times: total: 46.9 ms\n",
      "Wall time: 4min 55s\n"
     ]
    }
   ],
   "source": [
    "from joblib import Parallel, delayed\n",
    "\n",
    "\n",
    "N_RUNS = 8\n",
    "n_jobs = 8\n",
    "\n",
    "%time embeddings = Parallel(n_jobs=n_jobs)(delayed(find_embedding)(source_edgelist, target_edgelist, random_seed=10) for _ in range(N_RUNS))"
   ]
  },
  {
   "cell_type": "code",
   "execution_count": 29,
   "metadata": {},
   "outputs": [
    {
     "name": "stdout",
     "output_type": "stream",
     "text": [
      "CPU times: total: 8min 54s\n",
      "Wall time: 20min 43s\n"
     ]
    }
   ],
   "source": [
    "def run_standard_loop():\n",
    "    embeddings_2 = []\n",
    "\n",
    "    for _ in range(N_RUNS):\n",
    "        emb = find_embedding(source_edgelist, target_edgelist, random_seed=10)\n",
    "        embeddings_2.append(emb)\n",
    "\n",
    "%time run_standard_loop()"
   ]
  },
  {
   "cell_type": "markdown",
   "metadata": {},
   "source": [
    "Ineed some time can be saved by paralellizing embedding calculations."
   ]
  },
  {
   "cell_type": "markdown",
   "metadata": {},
   "source": [
    "Let's now imagine we go down in hierarchy (hierarchical search) \\\n",
    "and see how time needed to find embedding scales with subgraphs of smaller sizes.\\\n",
    "Let's divide c0:"
   ]
  },
  {
   "cell_type": "code",
   "execution_count": 30,
   "metadata": {},
   "outputs": [],
   "source": [
    "problem_c0 = CommunityDetectionProblem(network_data=Network(graph=G, community=c0), communities=2, one_hot_encoding=False)\n",
    "qubo_c0 = Converter.create_qubo(problem_c0, [])\n",
    "qubo_terms_c0, offset_c0 = convert_qubo_keys(qubo_c0)\n",
    "bqm_c0 = BinaryQuadraticModel.from_qubo(qubo_terms_c0, offset=offset_c0)"
   ]
  },
  {
   "cell_type": "code",
   "execution_count": 31,
   "metadata": {},
   "outputs": [
    {
     "name": "stdout",
     "output_type": "stream",
     "text": [
      "CPU times: total: 62.5 ms\n",
      "Wall time: 16.8 s\n"
     ]
    }
   ],
   "source": [
    "source_edgelist_c0 = list(bqm_c0.quadratic) + [(v, v) for v in bqm_c0.linear]\n",
    "%time embeddings_c0 = Parallel(n_jobs=n_jobs)(delayed(find_embedding)(source_edgelist_c0, target_edgelist, random_seed=10) for _ in range(N_RUNS))"
   ]
  },
  {
   "cell_type": "code",
   "execution_count": 32,
   "metadata": {},
   "outputs": [
    {
     "name": "stdout",
     "output_type": "stream",
     "text": [
      "CPU times: total: 35 s\n",
      "Wall time: 1min 21s\n"
     ]
    }
   ],
   "source": [
    "def run_standard_loop():\n",
    "    embeddings_2_c0 = []\n",
    "    for _ in range(N_RUNS):\n",
    "        emb = find_embedding(source_edgelist_c0, target_edgelist, random_seed=10)\n",
    "        embeddings_2_c0.append(emb)\n",
    "\n",
    "%time run_standard_loop()"
   ]
  },
  {
   "cell_type": "markdown",
   "metadata": {},
   "source": [
    "_____________"
   ]
  },
  {
   "cell_type": "markdown",
   "metadata": {},
   "source": [
    "___________"
   ]
  },
  {
   "cell_type": "markdown",
   "metadata": {},
   "source": [
    "Last example to show sampling with a fixed embedding is quick (bqm for the full graph of 100 nodes):"
   ]
  },
  {
   "cell_type": "code",
   "execution_count": 33,
   "metadata": {},
   "outputs": [
    {
     "name": "stdout",
     "output_type": "stream",
     "text": [
      "CPU times: total: 1.17 s\n",
      "Wall time: 29.3 s\n"
     ]
    }
   ],
   "source": [
    "def sample_fe():\n",
    "    sample = FixedEmbeddingComposite(sampler, embedding=embedding_calculated_rs).sample(bqm, num_reads=100)\n",
    "    return sample.first.sample\n",
    "\n",
    "def sample_fe_loop():\n",
    "    results = []\n",
    "    for _ in range(N_RUNS):\n",
    "        results.append(sample_fe())\n",
    "    # return results\n",
    "\n",
    "%time sample_fe_loop()"
   ]
  },
  {
   "cell_type": "markdown",
   "metadata": {},
   "source": [
    "_____________"
   ]
  },
  {
   "cell_type": "markdown",
   "metadata": {},
   "source": [
    "_____________"
   ]
  },
  {
   "cell_type": "markdown",
   "metadata": {},
   "source": [
    "Comparison with dwave.embedding.pegasus find_clique_embedding"
   ]
  },
  {
   "cell_type": "code",
   "execution_count": 8,
   "metadata": {},
   "outputs": [],
   "source": [
    "from dwave.embedding.pegasus import find_clique_embedding\n",
    "import dwave_networkx as dnx"
   ]
  },
  {
   "cell_type": "code",
   "execution_count": 9,
   "metadata": {},
   "outputs": [
    {
     "name": "stderr",
     "output_type": "stream",
     "text": [
      "C:\\Users\\basia\\AppData\\Local\\Temp\\ipykernel_22728\\3242365722.py:1: DeprecationWarning: BinaryQuadraticModel.to_networkx_graph() is deprecated since dimod 0.10.0 and will be removed in 0.12.0. Use dimod.to_networkx_graph() instead.\n",
      "  bqm_graph = bqm.to_networkx_graph()\n"
     ]
    }
   ],
   "source": [
    "bqm_graph = bqm.to_networkx_graph()"
   ]
  },
  {
   "cell_type": "code",
   "execution_count": 10,
   "metadata": {},
   "outputs": [],
   "source": [
    "from minorminer.busclique import busgraph_cache\n",
    "\n",
    "busgraph_cache.clear_all_caches()"
   ]
  },
  {
   "cell_type": "code",
   "execution_count": 11,
   "metadata": {},
   "outputs": [
    {
     "name": "stdout",
     "output_type": "stream",
     "text": [
      "CPU times: total: 1min 41s\n",
      "Wall time: 2min 24s\n"
     ]
    }
   ],
   "source": [
    "%time emb = find_clique_embedding(bqm_graph, target_graph=sampler.to_networkx_graph())"
   ]
  },
  {
   "cell_type": "markdown",
   "metadata": {},
   "source": [
    "Embeddings already calculated are cached with busgraph_cache:"
   ]
  },
  {
   "cell_type": "code",
   "execution_count": 12,
   "metadata": {},
   "outputs": [
    {
     "name": "stdout",
     "output_type": "stream",
     "text": [
      "CPU times: total: 31.2 ms\n",
      "Wall time: 85.5 ms\n"
     ]
    }
   ],
   "source": [
    "%time emb = find_clique_embedding(bqm_graph, target_graph=sampler.to_networkx_graph())"
   ]
  },
  {
   "cell_type": "code",
   "execution_count": 17,
   "metadata": {},
   "outputs": [
    {
     "name": "stdout",
     "output_type": "stream",
     "text": [
      "c0_cl len: 49\n",
      "c1_cl len: 51\n",
      "Sample modularity from FixedEmbeddingComposite: 0.4696969696969697\n"
     ]
    }
   ],
   "source": [
    "from dwave.system.composites import FixedEmbeddingComposite\n",
    "\n",
    "\n",
    "sample_cl = FixedEmbeddingComposite(sampler, embedding=emb).sample(bqm, num_reads=100)\n",
    "\n",
    "res_cl = sample_cl.first.sample\n",
    "\n",
    "c0_cl = sorted([int(k[1:]) for k, v in res_cl.items() if v == 0])\n",
    "c1_cl = sorted([int(k[1:]) for k, v in res_cl.items() if v == 1])\n",
    "\n",
    "print(\"c0_cl len:\", len(c0_cl))\n",
    "print(\"c1_cl len:\", len(c1_cl))\n",
    "# print(\"Sample modularity from EmbeddingComposite:\", nx.community.modularity(G, [c0, c1]))\n",
    "print(\"Sample modularity from FixedEmbeddingComposite:\", nx.community.modularity(G, [c0_cl, c1_cl]))"
   ]
  }
 ],
 "metadata": {
  "kernelspec": {
   "display_name": "Python 3",
   "language": "python",
   "name": "python3"
  },
  "language_info": {
   "codemirror_mode": {
    "name": "ipython",
    "version": 3
   },
   "file_extension": ".py",
   "mimetype": "text/x-python",
   "name": "python",
   "nbconvert_exporter": "python",
   "pygments_lexer": "ipython3",
   "version": "3.10.11"
  }
 },
 "nbformat": 4,
 "nbformat_minor": 2
}
