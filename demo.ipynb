{
 "cells": [
  {
   "cell_type": "markdown",
   "metadata": {},
   "source": [
    "# How to use Qommunity?"
   ]
  },
  {
   "cell_type": "markdown",
   "metadata": {},
   "source": [
    "## 1. Create graph instance using networkx"
   ]
  },
  {
   "cell_type": "code",
   "execution_count": 1,
   "metadata": {},
   "outputs": [],
   "source": [
    "import networkx as nx\n",
    "\n",
    "G = nx.karate_club_graph()"
   ]
  },
  {
   "cell_type": "markdown",
   "metadata": {},
   "source": [
    "## 2. Create sampler what you want to use and pass it to CommunitySearcher instance\n",
    "At this moment Advantage, Louvain and DQM are available (more will be added soon)\\\n",
    "In this example we'll use Advantage Solver. Pass the graph and maximal time for solver (and optionally other parameters)"
   ]
  },
  {
   "cell_type": "code",
   "execution_count": 2,
   "metadata": {},
   "outputs": [],
   "source": [
    "from samplers.advantage_sampler import AdvantageSampler\n",
    "from community_searcher import CommunitySearcher\n",
    "\n",
    "advantage = AdvantageSampler(G, 5)\n",
    "searcher = CommunitySearcher(advantage)"
   ]
  },
  {
   "cell_type": "markdown",
   "metadata": {},
   "source": [
    "## 3. Use community_search() or hierarchical_community_search() method\n",
    "At this moment every solver can use both methods, it will be changed soon\\\n",
    "Pass verbosity level:\n",
    "* 0 - no terminal logs\n",
    "* 1 - start/end logs\n",
    "* 2 - show every division, start/end logs"
   ]
  },
  {
   "cell_type": "markdown",
   "metadata": {},
   "source": [
    "### community_search()\n",
    "Divide community only once"
   ]
  },
  {
   "cell_type": "code",
   "execution_count": 3,
   "metadata": {},
   "outputs": [
    {
     "name": "stdout",
     "output_type": "stream",
     "text": [
      "Starting community detection\n",
      "===========================================\n",
      "Calculations for graph with 34\n",
      "===========================================\n",
      "Base community:\n",
      "[0, 1, 2, 3, 4, 5, 6, 7, 8, 9, 10, 11, 12, 13, 14, 15, 16, 17, 18, 19, 20, 21, 22, 23, 24, 25, 26, 27, 28, 29, 30, 31, 32, 33]\n",
      "Community division:\n",
      "[0, 1, 3, 4, 5, 6, 7, 10, 11, 12, 13, 16, 17, 19, 21]\n",
      "[2, 8, 9, 14, 15, 18, 20, 22, 23, 24, 25, 26, 27, 28, 29, 30, 31, 32, 33]\n",
      "===========================================\n",
      "\n",
      "Stopping community detection\n"
     ]
    },
    {
     "data": {
      "text/plain": [
       "[[0, 1, 3, 4, 5, 6, 7, 10, 11, 12, 13, 16, 17, 19, 21],\n",
       " [2, 8, 9, 14, 15, 18, 20, 22, 23, 24, 25, 26, 27, 28, 29, 30, 31, 32, 33]]"
      ]
     },
     "execution_count": 3,
     "metadata": {},
     "output_type": "execute_result"
    }
   ],
   "source": [
    "searcher.community_search(verbosity=2)"
   ]
  },
  {
   "cell_type": "markdown",
   "metadata": {},
   "source": [
    "### hierarchical_community_search()\n",
    "Divide community hierarchically\n",
    "Set max_depth parameter to tell how deep can CommunitySearcher go"
   ]
  },
  {
   "cell_type": "code",
   "execution_count": 5,
   "metadata": {},
   "outputs": [
    {
     "name": "stdout",
     "output_type": "stream",
     "text": [
      "Starting community detection\n",
      "===========================================\n",
      "Calculations for graph with 34 nodes, level of recursion: 1\n",
      "===========================================\n",
      "Base community:\n",
      "[0, 1, 2, 3, 4, 5, 6, 7, 8, 9, 10, 11, 12, 13, 14, 15, 16, 17, 18, 19, 20, 21, 22, 23, 24, 25, 26, 27, 28, 29, 30, 31, 32, 33]\n",
      "Community division:\n",
      "[8, 14, 15, 18, 20, 22, 23, 26, 29, 30, 32, 33]\n",
      "[0, 1, 2, 3, 4, 5, 6, 7, 9, 10, 11, 12, 13, 16, 17, 19, 21, 24, 25, 27, 28, 31]\n",
      "===========================================\n",
      "\n",
      "===========================================\n",
      "Calculations for graph with 12 nodes, level of recursion: 2\n",
      "===========================================\n",
      "Base community:\n",
      "[8, 14, 15, 18, 20, 22, 23, 26, 29, 30, 32, 33]\n",
      "Community division:\n",
      "[]\n",
      "[8, 14, 15, 18, 20, 22, 23, 26, 29, 30, 32, 33]\n",
      "===========================================\n",
      "\n",
      "===========================================\n",
      "Calculations for graph with 22 nodes, level of recursion: 2\n",
      "===========================================\n",
      "Base community:\n",
      "[0, 1, 2, 3, 4, 5, 6, 7, 9, 10, 11, 12, 13, 16, 17, 19, 21, 24, 25, 27, 28, 31]\n",
      "Community division:\n",
      "[4, 5, 6, 10, 16, 24, 25, 27, 28, 31]\n",
      "[0, 1, 2, 3, 7, 9, 11, 12, 13, 17, 19, 21]\n",
      "===========================================\n",
      "\n",
      "===========================================\n",
      "Calculations for graph with 10 nodes, level of recursion: 3\n",
      "===========================================\n",
      "Base community:\n",
      "[4, 5, 6, 10, 16, 24, 25, 27, 28, 31]\n",
      "Community division:\n",
      "[24, 25, 27, 28, 31]\n",
      "[4, 5, 6, 10, 16]\n",
      "===========================================\n",
      "\n",
      "===========================================\n",
      "Calculations for graph with 5 nodes, level of recursion: 4\n",
      "===========================================\n",
      "Base community:\n",
      "[24, 25, 27, 28, 31]\n",
      "Community division:\n",
      "[]\n",
      "[24, 25, 27, 28, 31]\n",
      "===========================================\n",
      "\n",
      "===========================================\n",
      "Calculations for graph with 5 nodes, level of recursion: 4\n",
      "===========================================\n",
      "Base community:\n",
      "[4, 5, 6, 10, 16]\n",
      "Community division:\n",
      "[4, 5, 6, 10, 16]\n",
      "[]\n",
      "===========================================\n",
      "\n",
      "===========================================\n",
      "Calculations for graph with 12 nodes, level of recursion: 3\n",
      "===========================================\n",
      "Base community:\n",
      "[0, 1, 2, 3, 7, 9, 11, 12, 13, 17, 19, 21]\n",
      "Community division:\n",
      "[0, 1, 2, 3, 7, 9, 11, 12, 13, 17, 19, 21]\n",
      "[]\n",
      "===========================================\n",
      "\n",
      "Stopping community detection\n",
      "Result: \n",
      "[[8, 14, 15, 18, 20, 22, 23, 26, 29, 30, 32, 33], [24, 25, 27, 28, 31], [4, 5, 6, 10, 16], [0, 1, 2, 3, 7, 9, 11, 12, 13, 17, 19, 21]]\n"
     ]
    },
    {
     "data": {
      "text/plain": [
       "[[8, 14, 15, 18, 20, 22, 23, 26, 29, 30, 32, 33],\n",
       " [24, 25, 27, 28, 31],\n",
       " [4, 5, 6, 10, 16],\n",
       " [0, 1, 2, 3, 7, 9, 11, 12, 13, 17, 19, 21]]"
      ]
     },
     "execution_count": 5,
     "metadata": {},
     "output_type": "execute_result"
    }
   ],
   "source": [
    "searcher.hierarchical_community_search(verbosity=2)"
   ]
  },
  {
   "cell_type": "markdown",
   "metadata": {},
   "source": [
    "Voila! Here is your division!"
   ]
  }
 ],
 "metadata": {
  "kernelspec": {
   "display_name": "Python 3",
   "language": "python",
   "name": "python3"
  },
  "language_info": {
   "codemirror_mode": {
    "name": "ipython",
    "version": 3
   },
   "file_extension": ".py",
   "mimetype": "text/x-python",
   "name": "python",
   "nbconvert_exporter": "python",
   "pygments_lexer": "ipython3",
   "version": "3.10.4"
  }
 },
 "nbformat": 4,
 "nbformat_minor": 2
}
