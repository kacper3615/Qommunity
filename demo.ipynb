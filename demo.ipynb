{
 "cells": [
  {
   "cell_type": "markdown",
   "metadata": {},
   "source": [
    "# How to use Qommunity?"
   ]
  },
  {
   "cell_type": "markdown",
   "metadata": {},
   "source": [
    "## 1. Create graph instance using networkx"
   ]
  },
  {
   "cell_type": "code",
   "execution_count": 2,
   "metadata": {},
   "outputs": [],
   "source": [
    "import networkx as nx\n",
    "\n",
    "G = nx.karate_club_graph()"
   ]
  },
  {
   "cell_type": "markdown",
   "metadata": {},
   "source": [
    "## 2. Create sampler what you want to use and pass it to CommunitySearcher instance\n",
    "At this moment Advantage, Louvain and DQM are available (more will be added soon)\\\n",
    "In this example we'll use Advantage Solver. Pass the graph and maximal time for solver (and optionally other parameters)"
   ]
  },
  {
   "cell_type": "code",
   "execution_count": 3,
   "metadata": {},
   "outputs": [],
   "source": [
    "from Qommunity.samplers.hierarchical.advantage_sampler import AdvantageSampler\n",
    "from Qommunity.searchers.hierarchical_searcher.hierarchical_searcher import (\n",
    "    HierarchicalSearcher,\n",
    ")\n",
    "\n",
    "advantage = AdvantageSampler(G)\n",
    "searcher = HierarchicalSearcher(advantage)"
   ]
  },
  {
   "cell_type": "markdown",
   "metadata": {},
   "source": [
    "## 3. Use community_search() or hierarchical_community_search() method\n",
    "At this moment every solver can use both methods, it will be changed soon\\\n",
    "Pass verbosity level:\n",
    "* 0 - no terminal logs\n",
    "* 1 - start/end logs\n",
    "* 2 - show every division, start/end logs"
   ]
  },
  {
   "cell_type": "markdown",
   "metadata": {},
   "source": [
    "### single_community_search()\n",
    "Divide community only once"
   ]
  },
  {
   "cell_type": "code",
   "execution_count": 4,
   "metadata": {},
   "outputs": [
    {
     "name": "stdout",
     "output_type": "stream",
     "text": [
      "Starting community detection\n",
      "===========================================\n",
      "Calculations for graph with 34 nodes in community\n",
      "===========================================\n",
      "Base community:\n",
      "[0, 1, 2, 3, 4, 5, 6, 7, 8, 9, 10, 11, 12, 13, 14, 15, 16, 17, 18, 19, 20, 21, 22, 23, 24, 25, 26, 27, 28, 29, 30, 31, 32, 33]\n",
      "Community division:\n",
      "[0, 1, 2, 3, 4, 5, 6, 7, 10, 11, 12, 13, 16, 17, 19, 21]\n",
      "[8, 9, 14, 15, 18, 20, 22, 23, 24, 25, 26, 27, 28, 29, 30, 31, 32, 33]\n",
      "===========================================\n",
      "\n",
      "Stopping community detection\n"
     ]
    },
    {
     "data": {
      "text/plain": [
       "[[0, 1, 2, 3, 4, 5, 6, 7, 10, 11, 12, 13, 16, 17, 19, 21],\n",
       " [8, 9, 14, 15, 18, 20, 22, 23, 24, 25, 26, 27, 28, 29, 30, 31, 32, 33]]"
      ]
     },
     "execution_count": 4,
     "metadata": {},
     "output_type": "execute_result"
    }
   ],
   "source": [
    "searcher.single_community_search(verbosity=2)"
   ]
  },
  {
   "cell_type": "markdown",
   "metadata": {},
   "source": [
    "### hierarchical_community_search()\n",
    "Divide community hierarchically\n",
    "Set max_depth parameter to tell how deep can CommunitySearcher go"
   ]
  },
  {
   "cell_type": "code",
   "execution_count": 5,
   "metadata": {},
   "outputs": [
    {
     "name": "stdout",
     "output_type": "stream",
     "text": [
      "Starting community detection\n",
      "===========================================\n",
      "Calculations for graph with 34 nodes, level of recursion: 1\n",
      "===========================================\n",
      "Base community:\n",
      "[0, 1, 2, 3, 4, 5, 6, 7, 8, 9, 10, 11, 12, 13, 14, 15, 16, 17, 18, 19, 20, 21, 22, 23, 24, 25, 26, 27, 28, 29, 30, 31, 32, 33]\n",
      "Community division:\n",
      "[0, 1, 2, 3, 4, 5, 6, 7, 10, 11, 12, 13, 16, 17, 19, 21]\n",
      "[8, 9, 14, 15, 18, 20, 22, 23, 24, 25, 26, 27, 28, 29, 30, 31, 32, 33]\n",
      "===========================================\n",
      "===========================================\n",
      "Calculations for graph with 16 nodes, level of recursion: 2\n",
      "===========================================\n",
      "Base community:\n",
      "[0, 1, 2, 3, 4, 5, 6, 7, 10, 11, 12, 13, 16, 17, 19, 21]\n",
      "Community division:\n",
      "[0, 1, 2, 3, 7, 11, 12, 13, 17, 19, 21]\n",
      "[4, 5, 6, 10, 16]\n",
      "===========================================\n",
      "===========================================\n",
      "Calculations for graph with 11 nodes, level of recursion: 3\n",
      "===========================================\n",
      "Base community:\n",
      "[0, 1, 2, 3, 7, 11, 12, 13, 17, 19, 21]\n",
      "Community division:\n",
      "[]\n",
      "[0, 1, 2, 3, 7, 11, 12, 13, 17, 19, 21]\n",
      "===========================================\n",
      "===========================================\n",
      "Calculations for graph with 5 nodes, level of recursion: 3\n",
      "===========================================\n",
      "Base community:\n",
      "[4, 5, 6, 10, 16]\n",
      "Community division:\n",
      "[]\n",
      "[4, 5, 6, 10, 16]\n",
      "===========================================\n",
      "===========================================\n",
      "Calculations for graph with 18 nodes, level of recursion: 2\n",
      "===========================================\n",
      "Base community:\n",
      "[8, 9, 14, 15, 18, 20, 22, 23, 24, 25, 26, 27, 28, 29, 30, 31, 32, 33]\n",
      "Community division:\n",
      "[8, 9, 14, 15, 18, 20, 22, 26, 29, 30, 32, 33]\n",
      "[23, 24, 25, 27, 28, 31]\n",
      "===========================================\n",
      "===========================================\n",
      "Calculations for graph with 12 nodes, level of recursion: 3\n",
      "===========================================\n",
      "Base community:\n",
      "[8, 9, 14, 15, 18, 20, 22, 26, 29, 30, 32, 33]\n",
      "Community division:\n",
      "[8, 9, 14, 15, 18, 20, 22, 26, 29, 30, 32, 33]\n",
      "[]\n",
      "===========================================\n",
      "===========================================\n",
      "Calculations for graph with 6 nodes, level of recursion: 3\n",
      "===========================================\n",
      "Base community:\n",
      "[23, 24, 25, 27, 28, 31]\n",
      "Community division:\n",
      "[23, 24, 25, 27, 28, 31]\n",
      "[]\n",
      "===========================================\n",
      "Stopping community detection\n",
      "Result: \n",
      "[[0, 1, 2, 3, 7, 11, 12, 13, 17, 19, 21], [4, 5, 6, 10, 16], [8, 9, 14, 15, 18, 20, 22, 26, 29, 30, 32, 33], [23, 24, 25, 27, 28, 31]]\n"
     ]
    },
    {
     "data": {
      "text/plain": [
       "[[0, 1, 2, 3, 7, 11, 12, 13, 17, 19, 21],\n",
       " [4, 5, 6, 10, 16],\n",
       " [8, 9, 14, 15, 18, 20, 22, 26, 29, 30, 32, 33],\n",
       " [23, 24, 25, 27, 28, 31]]"
      ]
     },
     "execution_count": 5,
     "metadata": {},
     "output_type": "execute_result"
    }
   ],
   "source": [
    "searcher.hierarchical_community_search(verbosity=2)"
   ]
  },
  {
   "cell_type": "markdown",
   "metadata": {},
   "source": [
    "Voila! Here is your division!"
   ]
  },
  {
   "cell_type": "markdown",
   "metadata": {},
   "source": [
    "## Regular searcher example"
   ]
  },
  {
   "cell_type": "code",
   "execution_count": 6,
   "metadata": {},
   "outputs": [],
   "source": [
    "from Qommunity.samplers.regular.dqm_sampler import DQMSampler\n",
    "from Qommunity.samplers.regular.louvain_sampler import LouvainSampler\n",
    "from Qommunity.searchers.regular_searcher.regular_searcher import RegularSearcher\n",
    "\n",
    "dqm = DQMSampler(G, 5, 4)\n",
    "louvain = LouvainSampler(G, 1)\n",
    "\n",
    "dqm_searcher = RegularSearcher(dqm)\n",
    "louvain_searcher = RegularSearcher(louvain)"
   ]
  },
  {
   "cell_type": "code",
   "execution_count": 7,
   "metadata": {},
   "outputs": [
    {
     "name": "stdout",
     "output_type": "stream",
     "text": [
      "Starting community detection\n",
      "===========================================\n",
      "Calculations for graph with 34 nodes in community\n",
      "===========================================\n",
      "Base community:\n",
      "[0, 1, 2, 3, 4, 5, 6, 7, 8, 9, 10, 11, 12, 13, 14, 15, 16, 17, 18, 19, 20, 21, 22, 23, 24, 25, 26, 27, 28, 29, 30, 31, 32, 33]\n",
      "Community division:\n",
      "[23, 24, 25, 27, 28, 31]\n",
      "[0, 1, 2, 3, 7, 11, 12, 13, 17, 19, 21]\n",
      "[4, 5, 6, 10, 16]\n",
      "[8, 9, 14, 15, 18, 20, 22, 26, 29, 30, 32, 33]\n",
      "===========================================\n",
      "Stopping community detection\n"
     ]
    },
    {
     "data": {
      "text/plain": [
       "[[23, 24, 25, 27, 28, 31],\n",
       " [0, 1, 2, 3, 7, 11, 12, 13, 17, 19, 21],\n",
       " [4, 5, 6, 10, 16],\n",
       " [8, 9, 14, 15, 18, 20, 22, 26, 29, 30, 32, 33]]"
      ]
     },
     "execution_count": 7,
     "metadata": {},
     "output_type": "execute_result"
    }
   ],
   "source": [
    "dqm_searcher.community_search(2)"
   ]
  },
  {
   "cell_type": "code",
   "execution_count": 8,
   "metadata": {},
   "outputs": [
    {
     "name": "stdout",
     "output_type": "stream",
     "text": [
      "Starting community detection\n",
      "===========================================\n",
      "Calculations for graph with 34 nodes in community\n",
      "===========================================\n",
      "Base community:\n",
      "[0, 1, 2, 3, 4, 5, 6, 7, 8, 9, 10, 11, 12, 13, 14, 15, 16, 17, 18, 19, 20, 21, 22, 23, 24, 25, 26, 27, 28, 29, 30, 31, 32, 33]\n",
      "Community division:\n",
      "['s0', 's1', 's2', 's3', 's7', 's11', 's12', 's13', 's17', 's19', 's21']\n",
      "['s4', 's5', 's6', 's10', 's16']\n",
      "['s23', 's24', 's25', 's27', 's28', 's31']\n",
      "['s8', 's9', 's14', 's15', 's18', 's20', 's22', 's26', 's29', 's30', 's32', 's33']\n",
      "===========================================\n",
      "Stopping community detection\n"
     ]
    },
    {
     "data": {
      "text/plain": [
       "{'s0': 0,\n",
       " 's1': 0,\n",
       " 's2': 0,\n",
       " 's3': 0,\n",
       " 's4': 1,\n",
       " 's5': 1,\n",
       " 's6': 1,\n",
       " 's7': 0,\n",
       " 's8': 3,\n",
       " 's9': 3,\n",
       " 's10': 1,\n",
       " 's11': 0,\n",
       " 's12': 0,\n",
       " 's13': 0,\n",
       " 's14': 3,\n",
       " 's15': 3,\n",
       " 's16': 1,\n",
       " 's17': 0,\n",
       " 's18': 3,\n",
       " 's19': 0,\n",
       " 's20': 3,\n",
       " 's21': 0,\n",
       " 's22': 3,\n",
       " 's23': 2,\n",
       " 's24': 2,\n",
       " 's25': 2,\n",
       " 's26': 3,\n",
       " 's27': 2,\n",
       " 's28': 2,\n",
       " 's29': 3,\n",
       " 's30': 3,\n",
       " 's31': 2,\n",
       " 's32': 3,\n",
       " 's33': 3}"
      ]
     },
     "execution_count": 8,
     "metadata": {},
     "output_type": "execute_result"
    }
   ],
   "source": [
    "dqm_searcher.community_search(2, return_list=False)"
   ]
  },
  {
   "cell_type": "code",
   "execution_count": 9,
   "metadata": {},
   "outputs": [
    {
     "name": "stdout",
     "output_type": "stream",
     "text": [
      "Starting community detection\n",
      "===========================================\n",
      "Calculations for graph with 34 nodes in community\n",
      "===========================================\n",
      "Base community:\n",
      "[0, 1, 2, 3, 4, 5, 6, 7, 8, 9, 10, 11, 12, 13, 14, 15, 16, 17, 18, 19, 20, 21, 22, 23, 24, 25, 26, 27, 28, 29, 30, 31, 32, 33]\n",
      "Community division:\n",
      "[0, 1, 2, 3, 7, 11, 12, 13, 17, 19, 21]\n",
      "[16, 4, 5, 6, 10]\n",
      "[8, 9, 14, 15, 18, 20, 22, 23, 24, 25, 26, 27, 28, 29, 30, 31, 32, 33]\n",
      "===========================================\n",
      "Stopping community detection\n"
     ]
    },
    {
     "data": {
      "text/plain": [
       "[[0, 1, 2, 3, 7, 11, 12, 13, 17, 19, 21],\n",
       " [16, 4, 5, 6, 10],\n",
       " [8, 9, 14, 15, 18, 20, 22, 23, 24, 25, 26, 27, 28, 29, 30, 31, 32, 33]]"
      ]
     },
     "execution_count": 9,
     "metadata": {},
     "output_type": "execute_result"
    }
   ],
   "source": [
    "louvain_searcher.community_search(2)"
   ]
  },
  {
   "cell_type": "code",
   "execution_count": 10,
   "metadata": {},
   "outputs": [
    {
     "name": "stdout",
     "output_type": "stream",
     "text": [
      "Starting community detection\n",
      "===========================================\n",
      "Calculations for graph with 34 nodes in community\n",
      "===========================================\n",
      "Base community:\n",
      "[0, 1, 2, 3, 4, 5, 6, 7, 8, 9, 10, 11, 12, 13, 14, 15, 16, 17, 18, 19, 20, 21, 22, 23, 24, 25, 26, 27, 28, 29, 30, 31, 32, 33]\n",
      "Community division:\n",
      "['x0', 'x1', 'x2', 'x3', 'x7', 'x11', 'x12', 'x13', 'x17', 'x19', 'x21']\n",
      "['x16', 'x4', 'x5', 'x6', 'x10']\n",
      "['x24', 'x25', 'x28', 'x31']\n",
      "['x32', 'x33', 'x8', 'x9', 'x14', 'x15', 'x18', 'x20', 'x22', 'x23', 'x26', 'x27', 'x29', 'x30']\n",
      "===========================================\n",
      "Stopping community detection\n"
     ]
    },
    {
     "data": {
      "text/plain": [
       "{'x0': 0,\n",
       " 'x1': 0,\n",
       " 'x2': 0,\n",
       " 'x3': 0,\n",
       " 'x7': 0,\n",
       " 'x11': 0,\n",
       " 'x12': 0,\n",
       " 'x13': 0,\n",
       " 'x17': 0,\n",
       " 'x19': 0,\n",
       " 'x21': 0,\n",
       " 'x16': 1,\n",
       " 'x4': 1,\n",
       " 'x5': 1,\n",
       " 'x6': 1,\n",
       " 'x10': 1,\n",
       " 'x24': 2,\n",
       " 'x25': 2,\n",
       " 'x28': 2,\n",
       " 'x31': 2,\n",
       " 'x32': 3,\n",
       " 'x33': 3,\n",
       " 'x8': 3,\n",
       " 'x9': 3,\n",
       " 'x14': 3,\n",
       " 'x15': 3,\n",
       " 'x18': 3,\n",
       " 'x20': 3,\n",
       " 'x22': 3,\n",
       " 'x23': 3,\n",
       " 'x26': 3,\n",
       " 'x27': 3,\n",
       " 'x29': 3,\n",
       " 'x30': 3}"
      ]
     },
     "execution_count": 10,
     "metadata": {},
     "output_type": "execute_result"
    }
   ],
   "source": [
    "louvain_searcher.community_search(2, return_list=False)"
   ]
  }
 ],
 "metadata": {
  "kernelspec": {
   "display_name": "Python 3",
   "language": "python",
   "name": "python3"
  },
  "language_info": {
   "codemirror_mode": {
    "name": "ipython",
    "version": 3
   },
   "file_extension": ".py",
   "mimetype": "text/x-python",
   "name": "python",
   "nbconvert_exporter": "python",
   "pygments_lexer": "ipython3",
   "version": "3.11.1"
  }
 },
 "nbformat": 4,
 "nbformat_minor": 2
}
