{
 "cells": [
  {
   "cell_type": "markdown",
   "metadata": {},
   "source": [
    "# How to use Qommunity?"
   ]
  },
  {
   "cell_type": "markdown",
   "metadata": {},
   "source": [
    "## 1. Create graph instance using networkx"
   ]
  },
  {
   "cell_type": "code",
   "execution_count": 2,
   "metadata": {},
   "outputs": [],
   "source": [
    "import networkx as nx\n",
    "\n",
    "G = nx.karate_club_graph()"
   ]
  },
  {
   "cell_type": "markdown",
   "metadata": {},
   "source": [
    "## 2. Create sampler what you want to use and pass it to CommunitySearcher instance\n",
    "At this moment Advantage, Louvain and DQM are available (more will be added soon)\\\n",
    "In this example we'll use Advantage Solver. Pass the graph and maximal time for solver (and optionally other parameters)"
   ]
  },
  {
   "cell_type": "code",
   "execution_count": 3,
   "metadata": {},
   "outputs": [],
   "source": [
    "from samplers.hierarchical.advantage_sampler import AdvantageSampler\n",
    "from searchers.hierarchical_community_searcher import HierarchicalCommunitySearcher\n",
    "\n",
    "advantage = AdvantageSampler(G, 5)\n",
    "searcher = HierarchicalCommunitySearcher(advantage)"
   ]
  },
  {
   "cell_type": "markdown",
   "metadata": {},
   "source": [
    "## 3. Use community_search() or hierarchical_community_search() method\n",
    "At this moment every solver can use both methods, it will be changed soon\\\n",
    "Pass verbosity level:\n",
    "* 0 - no terminal logs\n",
    "* 1 - start/end logs\n",
    "* 2 - show every division, start/end logs"
   ]
  },
  {
   "cell_type": "markdown",
   "metadata": {},
   "source": [
    "### single_community_search()\n",
    "Divide community only once"
   ]
  },
  {
   "cell_type": "code",
   "execution_count": 4,
   "metadata": {},
   "outputs": [
    {
     "name": "stdout",
     "output_type": "stream",
     "text": [
      "Starting community detection\n",
      "===========================================\n",
      "Calculations for graph with 34 nodes in community\n",
      "===========================================\n",
      "Base community:\n",
      "[0, 1, 2, 3, 4, 5, 6, 7, 8, 9, 10, 11, 12, 13, 14, 15, 16, 17, 18, 19, 20, 21, 22, 23, 24, 25, 26, 27, 28, 29, 30, 31, 32, 33]\n",
      "Community division:\n",
      "[0, 1, 2, 3, 4, 5, 6, 7, 10, 11, 12, 13, 16, 17, 21]\n",
      "[8, 9, 14, 15, 18, 19, 20, 22, 23, 24, 25, 26, 27, 28, 29, 30, 31, 32, 33]\n",
      "===========================================\n",
      "\n",
      "Stopping community detection\n"
     ]
    },
    {
     "data": {
      "text/plain": [
       "[[0, 1, 2, 3, 4, 5, 6, 7, 10, 11, 12, 13, 16, 17, 21],\n",
       " [8, 9, 14, 15, 18, 19, 20, 22, 23, 24, 25, 26, 27, 28, 29, 30, 31, 32, 33]]"
      ]
     },
     "execution_count": 4,
     "metadata": {},
     "output_type": "execute_result"
    }
   ],
   "source": [
    "searcher.single_community_search(verbosity=2)"
   ]
  },
  {
   "cell_type": "markdown",
   "metadata": {},
   "source": [
    "### hierarchical_community_search()\n",
    "Divide community hierarchically\n",
    "Set max_depth parameter to tell how deep can CommunitySearcher go"
   ]
  },
  {
   "cell_type": "code",
   "execution_count": 5,
   "metadata": {},
   "outputs": [
    {
     "name": "stdout",
     "output_type": "stream",
     "text": [
      "Starting community detection\n",
      "===========================================\n",
      "Calculations for graph with 34 nodes, level of recursion: 1\n",
      "===========================================\n",
      "Base community:\n",
      "[0, 1, 2, 3, 4, 5, 6, 7, 8, 9, 10, 11, 12, 13, 14, 15, 16, 17, 18, 19, 20, 21, 22, 23, 24, 25, 26, 27, 28, 29, 30, 31, 32, 33]\n",
      "Community division:\n",
      "[0, 1, 2, 3, 4, 5, 6, 7, 8, 10, 11, 12, 13, 16, 17, 19, 21]\n",
      "[9, 14, 15, 18, 20, 22, 23, 24, 25, 26, 27, 28, 29, 30, 31, 32, 33]\n",
      "===========================================\n",
      "\n",
      "===========================================\n",
      "Calculations for graph with 17 nodes, level of recursion: 2\n",
      "===========================================\n",
      "Base community:\n",
      "[0, 1, 2, 3, 4, 5, 6, 7, 8, 10, 11, 12, 13, 16, 17, 19, 21]\n",
      "Community division:\n",
      "[4, 5, 6, 10, 11, 16]\n",
      "[0, 1, 2, 3, 7, 8, 12, 13, 17, 19, 21]\n",
      "===========================================\n",
      "\n",
      "===========================================\n",
      "Calculations for graph with 6 nodes, level of recursion: 3\n",
      "===========================================\n",
      "Base community:\n",
      "[4, 5, 6, 10, 11, 16]\n",
      "Community division:\n",
      "[]\n",
      "[4, 5, 6, 10, 11, 16]\n",
      "===========================================\n",
      "\n",
      "===========================================\n",
      "Calculations for graph with 11 nodes, level of recursion: 3\n",
      "===========================================\n",
      "Base community:\n",
      "[0, 1, 2, 3, 7, 8, 12, 13, 17, 19, 21]\n",
      "Community division:\n",
      "[]\n",
      "[0, 1, 2, 3, 7, 8, 12, 13, 17, 19, 21]\n",
      "===========================================\n",
      "\n",
      "===========================================\n",
      "Calculations for graph with 17 nodes, level of recursion: 2\n",
      "===========================================\n",
      "Base community:\n",
      "[9, 14, 15, 18, 20, 22, 23, 24, 25, 26, 27, 28, 29, 30, 31, 32, 33]\n",
      "Community division:\n",
      "[24, 25, 27, 28, 31]\n",
      "[9, 14, 15, 18, 20, 22, 23, 26, 29, 30, 32, 33]\n",
      "===========================================\n",
      "\n",
      "===========================================\n",
      "Calculations for graph with 5 nodes, level of recursion: 3\n",
      "===========================================\n",
      "Base community:\n",
      "[24, 25, 27, 28, 31]\n",
      "Community division:\n",
      "[]\n",
      "[24, 25, 27, 28, 31]\n",
      "===========================================\n",
      "\n",
      "===========================================\n",
      "Calculations for graph with 12 nodes, level of recursion: 3\n",
      "===========================================\n",
      "Base community:\n",
      "[9, 14, 15, 18, 20, 22, 23, 26, 29, 30, 32, 33]\n",
      "Community division:\n",
      "[]\n",
      "[9, 14, 15, 18, 20, 22, 23, 26, 29, 30, 32, 33]\n",
      "===========================================\n",
      "\n",
      "Stopping community detection\n",
      "Result: \n",
      "[[4, 5, 6, 10, 11, 16], [0, 1, 2, 3, 7, 8, 12, 13, 17, 19, 21], [24, 25, 27, 28, 31], [9, 14, 15, 18, 20, 22, 23, 26, 29, 30, 32, 33]]\n"
     ]
    },
    {
     "data": {
      "text/plain": [
       "[[4, 5, 6, 10, 11, 16],\n",
       " [0, 1, 2, 3, 7, 8, 12, 13, 17, 19, 21],\n",
       " [24, 25, 27, 28, 31],\n",
       " [9, 14, 15, 18, 20, 22, 23, 26, 29, 30, 32, 33]]"
      ]
     },
     "execution_count": 5,
     "metadata": {},
     "output_type": "execute_result"
    }
   ],
   "source": [
    "searcher.hierarchical_community_search(verbosity=2)"
   ]
  },
  {
   "cell_type": "markdown",
   "metadata": {},
   "source": [
    "Voila! Here is your division!"
   ]
  },
  {
   "cell_type": "markdown",
   "metadata": {},
   "source": [
    "## Regular searcher example"
   ]
  },
  {
   "cell_type": "code",
   "execution_count": 6,
   "metadata": {},
   "outputs": [],
   "source": [
    "from samplers.regular.dqm_sampler import DQMSampler\n",
    "from samplers.regular.louvain_sampler import LouvainSampler\n",
    "from searchers.community_searcher import CommunitySearcher\n",
    "\n",
    "dqm = DQMSampler(G, 5, 4)\n",
    "louvain = LouvainSampler(G)\n",
    "\n",
    "dqm_searcher = CommunitySearcher(dqm)\n",
    "louvain_searcher = CommunitySearcher(louvain)"
   ]
  },
  {
   "cell_type": "code",
   "execution_count": 7,
   "metadata": {},
   "outputs": [
    {
     "name": "stdout",
     "output_type": "stream",
     "text": [
      "Starting community detection\n",
      "===========================================\n",
      "Calculations for graph with 34 nodes in community\n",
      "===========================================\n",
      "Base community:\n",
      "[0, 1, 2, 3, 4, 5, 6, 7, 8, 9, 10, 11, 12, 13, 14, 15, 16, 17, 18, 19, 20, 21, 22, 23, 24, 25, 26, 27, 28, 29, 30, 31, 32, 33]\n",
      "Community division:\n",
      "['x0', 'x1', 'x9', 'x10', 'x17', 'x18', 'x21', 'x26']\n",
      "['x7', 'x11', 'x12', 'x16', 'x22', 'x23', 'x29', 'x30', 'x32']\n",
      "['x2', 'x20', 'x25', 'x27', 'x31', 'x33']\n",
      "['x3', 'x4', 'x5', 'x6', 'x8', 'x13', 'x14', 'x15', 'x19', 'x24', 'x28']\n",
      "===========================================\n",
      "Stopping community detection\n"
     ]
    },
    {
     "data": {
      "text/plain": [
       "[['x0', 'x1', 'x9', 'x10', 'x17', 'x18', 'x21', 'x26'],\n",
       " ['x7', 'x11', 'x12', 'x16', 'x22', 'x23', 'x29', 'x30', 'x32'],\n",
       " ['x2', 'x20', 'x25', 'x27', 'x31', 'x33'],\n",
       " ['x3', 'x4', 'x5', 'x6', 'x8', 'x13', 'x14', 'x15', 'x19', 'x24', 'x28']]"
      ]
     },
     "execution_count": 7,
     "metadata": {},
     "output_type": "execute_result"
    }
   ],
   "source": [
    "dqm_searcher.community_search(2)"
   ]
  },
  {
   "cell_type": "code",
   "execution_count": 9,
   "metadata": {},
   "outputs": [
    {
     "name": "stdout",
     "output_type": "stream",
     "text": [
      "Starting community detection\n",
      "===========================================\n",
      "Calculations for graph with 34 nodes in community\n",
      "===========================================\n",
      "Base community:\n",
      "[0, 1, 2, 3, 4, 5, 6, 7, 8, 9, 10, 11, 12, 13, 14, 15, 16, 17, 18, 19, 20, 21, 22, 23, 24, 25, 26, 27, 28, 29, 30, 31, 32, 33]\n",
      "Community division:\n",
      "[0, 1, 2, 3, 7, 11, 12, 13, 17, 19, 21]\n",
      "[16, 4, 5, 6, 10]\n",
      "[32, 33, 8, 9, 14, 15, 18, 20, 22, 23, 26, 27, 29, 30]\n",
      "[24, 25, 28, 31]\n",
      "===========================================\n",
      "Stopping community detection\n"
     ]
    },
    {
     "data": {
      "text/plain": [
       "[[0, 1, 2, 3, 7, 11, 12, 13, 17, 19, 21],\n",
       " [16, 4, 5, 6, 10],\n",
       " [32, 33, 8, 9, 14, 15, 18, 20, 22, 23, 26, 27, 29, 30],\n",
       " [24, 25, 28, 31]]"
      ]
     },
     "execution_count": 9,
     "metadata": {},
     "output_type": "execute_result"
    }
   ],
   "source": [
    "louvain_searcher.community_search(2)"
   ]
  }
 ],
 "metadata": {
  "kernelspec": {
   "display_name": "Python 3",
   "language": "python",
   "name": "python3"
  },
  "language_info": {
   "codemirror_mode": {
    "name": "ipython",
    "version": 3
   },
   "file_extension": ".py",
   "mimetype": "text/x-python",
   "name": "python",
   "nbconvert_exporter": "python",
   "pygments_lexer": "ipython3",
   "version": "3.10.4"
  }
 },
 "nbformat": 4,
 "nbformat_minor": 2
}
