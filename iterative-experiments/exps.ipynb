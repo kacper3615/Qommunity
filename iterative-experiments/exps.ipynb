{
 "cells": [
  {
   "cell_type": "code",
   "execution_count": 1,
   "metadata": {},
   "outputs": [],
   "source": [
    "from iterative_searcher.iterative_searcher import IterativeSearcher\n",
    "from Qommunity.samplers.hierarchical.advantage_sampler import AdvantageSampler\n",
    "from Qommunity.searchers.hierarchical_community_searcher import HierarchicalCommunitySearcher\n",
    "\n",
    "import networkx as nx\n",
    "import numpy as np"
   ]
  },
  {
   "cell_type": "code",
   "execution_count": 2,
   "metadata": {},
   "outputs": [],
   "source": [
    "import os\n",
    "\n",
    "\n",
    "dir = \"networks\"\n",
    "os.makedirs(os.path.dirname(dir+\"/\"), exist_ok=True)\n",
    "\n",
    "\n",
    "def make_dir(dir):\n",
    "    if not os.path.exists(dir):\n",
    "        os.mkdir(dir)"
   ]
  },
  {
   "cell_type": "code",
   "execution_count": 3,
   "metadata": {},
   "outputs": [],
   "source": [
    "m = 1\n",
    "p = 0.2"
   ]
  },
  {
   "cell_type": "code",
   "execution_count": 4,
   "metadata": {},
   "outputs": [],
   "source": [
    "dir = f\"networks/powerlaw_m={m}_p={p}\"\n",
    "os.makedirs(os.path.dirname(dir+\"/\"), exist_ok=True)"
   ]
  },
  {
   "cell_type": "code",
   "execution_count": 5,
   "metadata": {},
   "outputs": [
    {
     "data": {
      "text/plain": [
       "array([ 10.,  20.,  30.,  40.,  50.,  60.,  70.,  80.,  90., 100.])"
      ]
     },
     "execution_count": 5,
     "metadata": {},
     "output_type": "execute_result"
    }
   ],
   "source": [
    "import numpy as np\n",
    "\n",
    "\n",
    "MIN_NODES = 10\n",
    "MAX_NODES = 100\n",
    "\n",
    "num_nodes = np.linspace(MIN_NODES, MAX_NODES, MAX_NODES//MIN_NODES)\n",
    "num_nodes"
   ]
  },
  {
   "cell_type": "code",
   "execution_count": 6,
   "metadata": {},
   "outputs": [],
   "source": [
    "import numpy as np\n",
    "import networkx as nx\n",
    "\n",
    "\n",
    "try:\n",
    "    Graphs = np.load(f\"{dir}/graphs.npy\", allow_pickle=True)\n",
    "except:\n",
    "    Graphs = np.empty(shape=(len(num_nodes),), dtype=object)\n",
    "    for i, n in enumerate(num_nodes):\n",
    "        Graphs[i] = nx.powerlaw_cluster_graph(n=n, m=m, p=p)\n",
    "    np.save(f\"{dir}/graphs.npy\", Graphs)"
   ]
  },
  {
   "cell_type": "code",
   "execution_count": 7,
   "metadata": {},
   "outputs": [],
   "source": [
    "# output folder\n",
    "dir =dir+\"/output\"\n",
    "os.makedirs(os.path.dirname(dir+\"/\"), exist_ok=True)"
   ]
  },
  {
   "cell_type": "markdown",
   "metadata": {},
   "source": [
    "Advantage"
   ]
  },
  {
   "cell_type": "code",
   "execution_count": 8,
   "metadata": {},
   "outputs": [],
   "source": [
    "solver = \"adv\"\n",
    "make_dir(f\"{dir}/{solver}\")"
   ]
  },
  {
   "cell_type": "code",
   "execution_count": 19,
   "metadata": {},
   "outputs": [
    {
     "name": "stderr",
     "output_type": "stream",
     "text": [
      "100%|██████████| 25/25 [01:35<00:00,  3.82s/it]\n",
      "100%|██████████| 25/25 [03:10<00:00,  7.63s/it]\n",
      "100%|██████████| 25/25 [08:11<00:00, 19.68s/it]\n",
      "100%|██████████| 25/25 [17:43<00:00, 42.52s/it]\n",
      "100%|██████████| 25/25 [39:53<00:00, 95.73s/it] \n",
      "100%|██████████| 25/25 [46:19<00:00, 111.18s/it]\n",
      "100%|██████████| 25/25 [1:29:46<00:00, 215.47s/it]\n",
      " 84%|████████▍ | 21/25 [1:26:44<16:43, 250.94s/it]Exception ignored in: <bound method IPythonKernel._clean_thread_parent_frames of <ipykernel.ipkernel.IPythonKernel object at 0x00000202BC39D7B0>>\n",
      "Traceback (most recent call last):\n",
      "  File \"C:\\Users\\basia\\AppData\\Roaming\\Python\\Python310\\site-packages\\ipykernel\\ipkernel.py\", line 785, in _clean_thread_parent_frames\n",
      "    active_threads = {thread.ident for thread in threading.enumerate()}\n",
      "  File \"C:\\Users\\basia\\AppData\\Roaming\\Python\\Python310\\site-packages\\ipykernel\\ipkernel.py\", line 785, in <setcomp>\n",
      "    active_threads = {thread.ident for thread in threading.enumerate()}\n",
      "MemoryError: \n",
      "Exception ignored in: <bound method IPythonKernel._clean_thread_parent_frames of <ipykernel.ipkernel.IPythonKernel object at 0x00000202BC39D7B0>>\n",
      "Traceback (most recent call last):\n",
      "  File \"C:\\Users\\basia\\AppData\\Roaming\\Python\\Python310\\site-packages\\ipykernel\\ipkernel.py\", line 785, in _clean_thread_parent_frames\n",
      "    active_threads = {thread.ident for thread in threading.enumerate()}\n",
      "  File \"C:\\Users\\basia\\AppData\\Roaming\\Python\\Python310\\site-packages\\ipykernel\\ipkernel.py\", line 785, in <setcomp>\n",
      "    active_threads = {thread.ident for thread in threading.enumerate()}\n",
      "MemoryError: \n",
      "Exception ignored in: <bound method IPythonKernel._clean_thread_parent_frames of <ipykernel.ipkernel.IPythonKernel object at 0x00000202BC39D7B0>>\n",
      "Traceback (most recent call last):\n",
      "  File \"C:\\Users\\basia\\AppData\\Roaming\\Python\\Python310\\site-packages\\ipykernel\\ipkernel.py\", line 785, in _clean_thread_parent_frames\n",
      "    active_threads = {thread.ident for thread in threading.enumerate()}\n",
      "  File \"C:\\Users\\basia\\AppData\\Roaming\\Python\\Python310\\site-packages\\ipykernel\\ipkernel.py\", line 785, in <setcomp>\n",
      "    active_threads = {thread.ident for thread in threading.enumerate()}\n",
      "MemoryError: \n",
      "Exception ignored in: <bound method IPythonKernel._clean_thread_parent_frames of <ipykernel.ipkernel.IPythonKernel object at 0x00000202BC39D7B0>>\n",
      "Traceback (most recent call last):\n",
      "  File \"C:\\Users\\basia\\AppData\\Roaming\\Python\\Python310\\site-packages\\ipykernel\\ipkernel.py\", line 785, in _clean_thread_parent_frames\n",
      "    active_threads = {thread.ident for thread in threading.enumerate()}\n",
      "  File \"C:\\Users\\basia\\AppData\\Roaming\\Python\\Python310\\site-packages\\ipykernel\\ipkernel.py\", line 785, in <setcomp>\n",
      "    active_threads = {thread.ident for thread in threading.enumerate()}\n",
      "MemoryError: \n",
      "Exception ignored in: <bound method IPythonKernel._clean_thread_parent_frames of <ipykernel.ipkernel.IPythonKernel object at 0x00000202BC39D7B0>>\n",
      "Traceback (most recent call last):\n",
      "  File \"C:\\Users\\basia\\AppData\\Roaming\\Python\\Python310\\site-packages\\ipykernel\\ipkernel.py\", line 785, in _clean_thread_parent_frames\n",
      "    active_threads = {thread.ident for thread in threading.enumerate()}\n",
      "  File \"C:\\Users\\basia\\AppData\\Roaming\\Python\\Python310\\site-packages\\ipykernel\\ipkernel.py\", line 785, in <setcomp>\n",
      "    active_threads = {thread.ident for thread in threading.enumerate()}\n",
      "MemoryError: \n",
      "Exception ignored in: <bound method IPythonKernel._clean_thread_parent_frames of <ipykernel.ipkernel.IPythonKernel object at 0x00000202BC39D7B0>>\n",
      "Traceback (most recent call last):\n",
      "  File \"C:\\Users\\basia\\AppData\\Roaming\\Python\\Python310\\site-packages\\ipykernel\\ipkernel.py\", line 785, in _clean_thread_parent_frames\n",
      "    active_threads = {thread.ident for thread in threading.enumerate()}\n",
      "  File \"C:\\Users\\basia\\AppData\\Roaming\\Python\\Python310\\site-packages\\ipykernel\\ipkernel.py\", line 785, in <setcomp>\n",
      "    active_threads = {thread.ident for thread in threading.enumerate()}\n",
      "MemoryError: \n",
      "Exception ignored in: <bound method IPythonKernel._clean_thread_parent_frames of <ipykernel.ipkernel.IPythonKernel object at 0x00000202BC39D7B0>>\n",
      "Traceback (most recent call last):\n",
      "  File \"C:\\Users\\basia\\AppData\\Roaming\\Python\\Python310\\site-packages\\ipykernel\\ipkernel.py\", line 785, in _clean_thread_parent_frames\n",
      "    active_threads = {thread.ident for thread in threading.enumerate()}\n",
      "  File \"C:\\Users\\basia\\AppData\\Roaming\\Python\\Python310\\site-packages\\ipykernel\\ipkernel.py\", line 785, in <setcomp>\n",
      "    active_threads = {thread.ident for thread in threading.enumerate()}\n",
      "MemoryError: \n",
      "Exception ignored in: <bound method IPythonKernel._clean_thread_parent_frames of <ipykernel.ipkernel.IPythonKernel object at 0x00000202BC39D7B0>>\n",
      "Traceback (most recent call last):\n",
      "  File \"C:\\Users\\basia\\AppData\\Roaming\\Python\\Python310\\site-packages\\ipykernel\\ipkernel.py\", line 785, in _clean_thread_parent_frames\n",
      "    active_threads = {thread.ident for thread in threading.enumerate()}\n",
      "  File \"C:\\Users\\basia\\AppData\\Roaming\\Python\\Python310\\site-packages\\ipykernel\\ipkernel.py\", line 785, in <setcomp>\n",
      "    active_threads = {thread.ident for thread in threading.enumerate()}\n",
      "MemoryError: \n",
      "Exception ignored in: <bound method IPythonKernel._clean_thread_parent_frames of <ipykernel.ipkernel.IPythonKernel object at 0x00000202BC39D7B0>>\n",
      "Traceback (most recent call last):\n",
      "  File \"C:\\Users\\basia\\AppData\\Roaming\\Python\\Python310\\site-packages\\ipykernel\\ipkernel.py\", line 785, in _clean_thread_parent_frames\n",
      "    active_threads = {thread.ident for thread in threading.enumerate()}\n",
      "  File \"C:\\Users\\basia\\AppData\\Roaming\\Python\\Python310\\site-packages\\ipykernel\\ipkernel.py\", line 785, in <setcomp>\n",
      "    active_threads = {thread.ident for thread in threading.enumerate()}\n",
      "MemoryError: \n",
      "Exception ignored in: <bound method IPythonKernel._clean_thread_parent_frames of <ipykernel.ipkernel.IPythonKernel object at 0x00000202BC39D7B0>>\n",
      "Traceback (most recent call last):\n",
      "  File \"C:\\Users\\basia\\AppData\\Roaming\\Python\\Python310\\site-packages\\ipykernel\\ipkernel.py\", line 785, in _clean_thread_parent_frames\n",
      "    active_threads = {thread.ident for thread in threading.enumerate()}\n",
      "  File \"C:\\Users\\basia\\AppData\\Roaming\\Python\\Python310\\site-packages\\ipykernel\\ipkernel.py\", line 785, in <setcomp>\n",
      "    active_threads = {thread.ident for thread in threading.enumerate()}\n",
      "MemoryError: \n",
      "Exception ignored in: <bound method IPythonKernel._clean_thread_parent_frames of <ipykernel.ipkernel.IPythonKernel object at 0x00000202BC39D7B0>>\n",
      "Traceback (most recent call last):\n",
      "  File \"C:\\Users\\basia\\AppData\\Roaming\\Python\\Python310\\site-packages\\ipykernel\\ipkernel.py\", line 785, in _clean_thread_parent_frames\n",
      "    active_threads = {thread.ident for thread in threading.enumerate()}\n",
      "  File \"C:\\Users\\basia\\AppData\\Roaming\\Python\\Python310\\site-packages\\ipykernel\\ipkernel.py\", line 785, in <setcomp>\n",
      "    active_threads = {thread.ident for thread in threading.enumerate()}\n",
      "MemoryError: \n"
     ]
    }
   ],
   "source": [
    "num_runs = 25\n",
    "\n",
    "mods = np.zeros((num_nodes.shape[0], num_runs))\n",
    "comms = np.empty((num_nodes.shape[0], num_runs), dtype=object)\n",
    "times = np.zeros((num_nodes.shape[0], num_runs))\n",
    "\n",
    "for i, G in enumerate(Graphs):\n",
    "    adv_sampler = AdvantageSampler(G, num_reads=100, use_clique_embedding=True)\n",
    "    searcher = HierarchicalCommunitySearcher(adv_sampler)\n",
    "    iterative_searcher = IterativeSearcher(searcher)\n",
    "\n",
    "    saving_path = f\"{dir}/{solver}/{solver}-network_size_{G.number_of_nodes()}\"\n",
    "    communities, modularities, times_elapsed = iterative_searcher.run(num_runs=num_runs, saving_path=saving_path)\n",
    "\n",
    "    try:\n",
    "        comms[i] = communities\n",
    "        mods[i] = modularities\n",
    "        times[i] = times_elapsed\n",
    "    except Exception as e:\n",
    "        print(e)\n",
    "\n",
    "np.save(f\"{dir}/{solver}/{solver}-mods_final\", mods)\n",
    "np.save(f\"{dir}/{solver}/{solver}-comms_final\", comms)\n",
    "np.save(f\"{dir}/{solver}/{solver}-times\", times)"
   ]
  },
  {
   "cell_type": "code",
   "execution_count": 10,
   "metadata": {},
   "outputs": [
    {
     "name": "stdout",
     "output_type": "stream",
     "text": [
      "80\n",
      "90\n",
      "100\n"
     ]
    }
   ],
   "source": [
    "for g in Graphs[7:]:\n",
    "    print(g.number_of_nodes())"
   ]
  },
  {
   "cell_type": "markdown",
   "metadata": {},
   "source": [
    "### Finish it up - nodes 80 (to continue), 90 and 100\n",
    "This time I added measuring time"
   ]
  },
  {
   "cell_type": "code",
   "execution_count": 11,
   "metadata": {},
   "outputs": [
    {
     "name": "stderr",
     "output_type": "stream",
     "text": [
      "100%|██████████| 25/25 [13:59<00:00, 33.57s/it]\n",
      "100%|██████████| 25/25 [38:01<00:00, 91.28s/it] \n",
      "100%|██████████| 25/25 [1:12:24<00:00, 173.79s/it]\n"
     ]
    }
   ],
   "source": [
    "num_runs = 25\n",
    "\n",
    "start_idx = 7\n",
    "\n",
    "mods = np.zeros((num_nodes[start_idx:].shape[0], num_runs))\n",
    "comms = np.empty((num_nodes[start_idx:].shape[0], num_runs), dtype=object)\n",
    "times = np.zeros((num_nodes[start_idx:].shape[0], num_runs))\n",
    "\n",
    "for i, G in enumerate(Graphs[start_idx:]):\n",
    "    adv_sampler = AdvantageSampler(G, num_reads=100, use_clique_embedding=True)\n",
    "    searcher = HierarchicalCommunitySearcher(adv_sampler)\n",
    "    iterative_searcher = IterativeSearcher(searcher)\n",
    "\n",
    "    saving_path = f\"{dir}/{solver}/{solver}-network_size_{G.number_of_nodes()}\"\n",
    "    communities, modularities, times_elapsed = iterative_searcher.run(num_runs=num_runs, saving_path=saving_path)\n",
    "\n",
    "    try:\n",
    "        comms[i] = communities\n",
    "        mods[i] = modularities\n",
    "        times[i] = times_elapsed\n",
    "    except Exception as e:\n",
    "        print(e)\n",
    "\n",
    "np.save(f\"{dir}/{solver}/{solver}-mods_final\", mods)\n",
    "np.save(f\"{dir}/{solver}/{solver}-comms_final\", comms)\n",
    "np.save(f\"{dir}/{solver}/{solver}-times\", times)"
   ]
  },
  {
   "cell_type": "code",
   "execution_count": null,
   "metadata": {},
   "outputs": [],
   "source": []
  },
  {
   "cell_type": "code",
   "execution_count": null,
   "metadata": {},
   "outputs": [],
   "source": []
  },
  {
   "cell_type": "code",
   "execution_count": 12,
   "metadata": {},
   "outputs": [],
   "source": [
    "import numpy as np"
   ]
  },
  {
   "cell_type": "code",
   "execution_count": 17,
   "metadata": {},
   "outputs": [],
   "source": [
    "comms_adv_clique = [np.load(f\"{dir}/{solver}/{solver}-network_size_{n}_comms.npy\", allow_pickle=True) for n in range(10, 110, 10)]\n",
    "mods_adv_clique = [np.load(f\"{dir}/{solver}/{solver}-network_size_{n}.npy\") for n in range(10, 110, 10)]"
   ]
  },
  {
   "cell_type": "code",
   "execution_count": 18,
   "metadata": {},
   "outputs": [
    {
     "data": {
      "text/plain": [
       "[array([0.36419753, 0.36419753, 0.36419753, 0.36419753, 0.36419753,\n",
       "        0.36419753, 0.36419753, 0.36419753, 0.36419753, 0.36419753,\n",
       "        0.36419753, 0.36419753, 0.36419753, 0.36419753, 0.36419753,\n",
       "        0.36419753, 0.36419753, 0.36419753, 0.36419753, 0.36419753,\n",
       "        0.36419753, 0.36419753, 0.36419753, 0.36419753, 0.36419753]),\n",
       " array([0.5, 0.5, 0.5, 0.5, 0.5, 0.5, 0.5, 0.5, 0.5, 0.5, 0.5, 0.5, 0.5,\n",
       "        0.5, 0.5, 0.5, 0.5, 0.5, 0.5, 0.5, 0.5, 0.5, 0.5, 0.5, 0.5]),\n",
       " array([0.59096314, 0.59096314, 0.59096314, 0.59096314, 0.59096314,\n",
       "        0.59096314, 0.59096314, 0.59096314, 0.59096314, 0.59096314,\n",
       "        0.59096314, 0.59096314, 0.59096314, 0.59096314, 0.59096314,\n",
       "        0.59096314, 0.59096314, 0.59096314, 0.59096314, 0.59096314,\n",
       "        0.59096314, 0.59096314, 0.59096314, 0.59096314, 0.59096314]),\n",
       " array([0.68014464, 0.66896778, 0.68014464, 0.68014464, 0.68014464,\n",
       "        0.68014464, 0.68014464, 0.68014464, 0.68014464, 0.68014464,\n",
       "        0.68014464, 0.68014464, 0.68014464, 0.66896778, 0.68014464,\n",
       "        0.68014464, 0.66896778, 0.68014464, 0.68014464, 0.68014464,\n",
       "        0.66896778, 0.68014464, 0.66896778, 0.68014464, 0.68014464]),\n",
       " array([0.69950021, 0.69950021, 0.69950021, 0.69950021, 0.69950021,\n",
       "        0.69950021, 0.69950021, 0.69950021, 0.69950021, 0.69950021,\n",
       "        0.69950021, 0.69950021, 0.69950021, 0.69950021, 0.69950021,\n",
       "        0.69950021, 0.69950021, 0.69950021, 0.69950021, 0.69950021,\n",
       "        0.69950021, 0.69950021, 0.69950021, 0.69950021, 0.69950021]),\n",
       " array([0.73369721, 0.73369721, 0.73369721, 0.73369721, 0.73369721,\n",
       "        0.73369721, 0.73369721, 0.73369721, 0.73369721, 0.73369721,\n",
       "        0.73369721, 0.73369721, 0.73369721, 0.73369721, 0.73369721,\n",
       "        0.73369721, 0.73369721, 0.73369721, 0.73369721, 0.73369721,\n",
       "        0.73369721, 0.73369721, 0.73369721, 0.73369721, 0.73369721]),\n",
       " array([0.72075194, 0.72075194, 0.72075194, 0.72075194, 0.72075194,\n",
       "        0.72075194, 0.72075194, 0.72075194, 0.72075194, 0.72075194,\n",
       "        0.72075194, 0.72075194, 0.72075194, 0.72075194, 0.72075194,\n",
       "        0.72075194, 0.72075194, 0.72075194, 0.72075194, 0.72075194,\n",
       "        0.72075194, 0.72075194, 0.72075194, 0.72075194, 0.71445075]),\n",
       " array([0.7507611 , 0.7507611 , 0.7507611 , 0.7507611 , 0.74146771,\n",
       "        0.7497196 , 0.74050633, 0.7455536 , 0.7507611 , 0.7507611 ,\n",
       "        0.74146771, 0.7507611 , 0.7497196 , 0.7507611 , 0.7507611 ,\n",
       "        0.74315014, 0.73906425, 0.74074668, 0.7476366 , 0.7507611 ,\n",
       "        0.7507611 , 0.7476366 , 0.7476366 , 0.7507611 , 0.7507611 ]),\n",
       " array([0.79251357, 0.7839288 , 0.7820351 , 0.78411817, 0.79251357,\n",
       "        0.79251357, 0.78266633, 0.77357657, 0.79251357, 0.7820351 ,\n",
       "        0.79251357, 0.78235071, 0.79251357, 0.78235071, 0.78266633,\n",
       "        0.7839288 , 0.78235071, 0.79251357, 0.79251357, 0.79251357,\n",
       "        0.78216134, 0.79251357, 0.78304507, 0.79251357, 0.78279258]),\n",
       " array([0.78262422, 0.78150189, 0.78823589, 0.77951229, 0.78854199,\n",
       "        0.78262422, 0.78716458, 0.79282726, 0.7798694 , 0.78711356,\n",
       "        0.78252219, 0.79354148, 0.7775227 , 0.77874707, 0.78721559,\n",
       "        0.78303234, 0.78823589, 0.79190899, 0.77364555, 0.78803183,\n",
       "        0.79650036, 0.79190899, 0.78466483, 0.78854199, 0.79048056])]"
      ]
     },
     "execution_count": 18,
     "metadata": {},
     "output_type": "execute_result"
    }
   ],
   "source": [
    "mods_adv_clique"
   ]
  },
  {
   "cell_type": "code",
   "execution_count": 19,
   "metadata": {},
   "outputs": [
    {
     "data": {
      "text/plain": [
       "array([0.36419753, 0.5       , 0.59096314, 0.68014464, 0.69950021,\n",
       "       0.73369721, 0.72075194, 0.7507611 , 0.79251357, 0.79650036])"
      ]
     },
     "execution_count": 19,
     "metadata": {},
     "output_type": "execute_result"
    }
   ],
   "source": [
    "np.array(mods_adv_clique).max(axis=-1)"
   ]
  },
  {
   "cell_type": "markdown",
   "metadata": {},
   "source": [
    "Leiden"
   ]
  },
  {
   "cell_type": "code",
   "execution_count": 22,
   "metadata": {},
   "outputs": [],
   "source": [
    "solver = \"leiden\"\n",
    "make_dir(f\"{dir}/{solver}\")"
   ]
  },
  {
   "cell_type": "code",
   "execution_count": 23,
   "metadata": {},
   "outputs": [],
   "source": [
    "from Qommunity.samplers.regular.leiden_sampler import LeidenSampler\n",
    "from Qommunity.searchers.community_searcher.community_searcher import CommunitySearcher"
   ]
  },
  {
   "cell_type": "code",
   "execution_count": 27,
   "metadata": {},
   "outputs": [
    {
     "name": "stderr",
     "output_type": "stream",
     "text": [
      "100%|██████████| 100/100 [00:00<00:00, 488.03it/s]\n",
      "100%|██████████| 100/100 [00:00<00:00, 533.03it/s]\n",
      "100%|██████████| 100/100 [00:00<00:00, 519.11it/s]\n",
      "100%|██████████| 100/100 [00:00<00:00, 423.45it/s]\n",
      "100%|██████████| 100/100 [00:00<00:00, 375.24it/s]\n",
      "100%|██████████| 100/100 [00:00<00:00, 314.17it/s]\n",
      "100%|██████████| 100/100 [00:00<00:00, 368.63it/s]\n",
      "100%|██████████| 100/100 [00:00<00:00, 337.05it/s]\n",
      "100%|██████████| 100/100 [00:00<00:00, 311.10it/s]\n",
      "100%|██████████| 100/100 [00:00<00:00, 298.70it/s]\n"
     ]
    }
   ],
   "source": [
    "num_runs = 100\n",
    "\n",
    "mods = np.zeros((num_nodes.shape[0], num_runs))\n",
    "comms = np.empty((num_nodes.shape[0], num_runs), dtype=object)\n",
    "times = np.zeros((num_nodes.shape[0], num_runs))\n",
    "\n",
    "for i, G in enumerate(Graphs):\n",
    "    leiden_sampler = LeidenSampler(G)\n",
    "    searcher = CommunitySearcher(leiden_sampler)\n",
    "    iterative_searcher = IterativeSearcher(searcher)\n",
    "\n",
    "    saving_path = f\"{dir}/{solver}/{solver}-network_size_{G.number_of_nodes()}\"\n",
    "    communities, modularities, times_elapsed = iterative_searcher.run(num_runs=num_runs, saving_path=saving_path)\n",
    "\n",
    "    try:\n",
    "        comms[i] = communities\n",
    "        mods[i] = modularities\n",
    "        times[i] = times_elapsed\n",
    "    except Exception as e:\n",
    "        print(e)\n",
    "\n",
    "np.save(f\"{dir}/{solver}/{solver}-mods_final\", mods)\n",
    "np.save(f\"{dir}/{solver}/{solver}-comms_final\", comms)\n",
    "np.save(f\"{dir}/{solver}/{solver}-times\", times)"
   ]
  },
  {
   "cell_type": "code",
   "execution_count": 27,
   "metadata": {},
   "outputs": [],
   "source": [
    "comms_leiden = [np.load(f\"{dir}/{solver}/{solver}-network_size_{n}_comms.npy\", allow_pickle=True) for n in range(10, 110, 10)]\n",
    "mods_leiden = [np.load(f\"{dir}/{solver}/{solver}-network_size_{n}.npy\") for n in range(10, 110, 10)]"
   ]
  },
  {
   "cell_type": "code",
   "execution_count": null,
   "metadata": {},
   "outputs": [],
   "source": []
  },
  {
   "cell_type": "code",
   "execution_count": 28,
   "metadata": {},
   "outputs": [
    {
     "data": {
      "text/plain": [
       "array([0.36419753, 0.5       , 0.59096314, 0.68014464, 0.70116618,\n",
       "       0.73369721, 0.72075194, 0.7507611 , 0.79251357, 0.79650036])"
      ]
     },
     "execution_count": 28,
     "metadata": {},
     "output_type": "execute_result"
    }
   ],
   "source": [
    "maxes_leiden = np.array(mods_leiden).max(axis=-1)\n",
    "maxes_leiden"
   ]
  },
  {
   "cell_type": "code",
   "execution_count": 25,
   "metadata": {},
   "outputs": [
    {
     "data": {
      "text/plain": [
       "array([0.36419753, 0.5       , 0.59096314, 0.68014464, 0.69950021,\n",
       "       0.73369721, 0.72075194, 0.7507611 , 0.79251357, 0.79650036])"
      ]
     },
     "execution_count": 25,
     "metadata": {},
     "output_type": "execute_result"
    }
   ],
   "source": [
    "maxes_adv_clique = np.array(mods_adv_clique).max(axis=-1)\n",
    "maxes_adv_clique"
   ]
  },
  {
   "cell_type": "code",
   "execution_count": 29,
   "metadata": {},
   "outputs": [
    {
     "name": "stdout",
     "output_type": "stream",
     "text": [
      "0.36419753086419754 0.36419753086419754\n",
      "0.4999999999999999 0.49999999999999994\n",
      "0.5909631391200951 0.5909631391200951\n",
      "0.6801446416831032 0.6801446416831032\n",
      "0.7011661807580175 0.699500208246564\n",
      "0.7336972134444125 0.7336972134444126\n",
      "0.7207519428691451 0.7207519428691452\n",
      "0.7507610959782086 0.7507610959782087\n",
      "0.7925135715187477 0.7925135715187477\n",
      "0.7965003571064178 0.7965003571064178\n"
     ]
    }
   ],
   "source": [
    "for lei, adv in zip(maxes_leiden, maxes_adv_clique):\n",
    "    print(lei, adv)"
   ]
  },
  {
   "cell_type": "code",
   "execution_count": 47,
   "metadata": {},
   "outputs": [
    {
     "data": {
      "text/plain": [
       "array([4], dtype=int64)"
      ]
     },
     "execution_count": 47,
     "metadata": {},
     "output_type": "execute_result"
    }
   ],
   "source": [
    "np.where(np.isclose(maxes_leiden, maxes_adv_clique)==False)[0]"
   ]
  },
  {
   "cell_type": "code",
   "execution_count": 48,
   "metadata": {},
   "outputs": [
    {
     "data": {
      "text/plain": [
       "0.7011661807580175"
      ]
     },
     "execution_count": 48,
     "metadata": {},
     "output_type": "execute_result"
    }
   ],
   "source": [
    "maxes_leiden[4]"
   ]
  },
  {
   "cell_type": "code",
   "execution_count": 49,
   "metadata": {},
   "outputs": [
    {
     "data": {
      "text/plain": [
       "0.699500208246564"
      ]
     },
     "execution_count": 49,
     "metadata": {},
     "output_type": "execute_result"
    }
   ],
   "source": [
    "maxes_adv_clique[4]"
   ]
  },
  {
   "cell_type": "code",
   "execution_count": 50,
   "metadata": {},
   "outputs": [
    {
     "data": {
      "text/plain": [
       "array([0.36419753, 0.5       , 0.59096314, 0.68014464, 0.69950021,\n",
       "       0.73369721, 0.72075194, 0.7507611 , 0.79251357, 0.79650036])"
      ]
     },
     "execution_count": 50,
     "metadata": {},
     "output_type": "execute_result"
    }
   ],
   "source": [
    "maxes_adv_clique"
   ]
  },
  {
   "cell_type": "code",
   "execution_count": 51,
   "metadata": {},
   "outputs": [],
   "source": [
    "import matplotlib.pyplot as plt"
   ]
  },
  {
   "cell_type": "code",
   "execution_count": 58,
   "metadata": {},
   "outputs": [
    {
     "data": {
      "text/plain": [
       "<matplotlib.collections.PathCollection at 0x14d0e841540>"
      ]
     },
     "execution_count": 58,
     "metadata": {},
     "output_type": "execute_result"
    },
    {
     "data": {
      "image/png": "[encoded data removed]",
      "text/plain": [
       "<Figure size 640x480 with 1 Axes>"
      ]
     },
     "metadata": {},
     "output_type": "display_data"
    }
   ],
   "source": [
    "plt.scatter(num_nodes, maxes_adv_clique)\n",
    "plt.scatter(num_nodes, maxes_leiden)\n",
    "# plt.plot()"
   ]
  },
  {
   "cell_type": "code",
   "execution_count": null,
   "metadata": {},
   "outputs": [],
   "source": []
  },
  {
   "cell_type": "code",
   "execution_count": 62,
   "metadata": {},
   "outputs": [
    {
     "data": {
      "text/plain": [
       "(5.0, 110.0)"
      ]
     },
     "execution_count": 62,
     "metadata": {},
     "output_type": "execute_result"
    },
    {
     "data": {
      "image/png": "[encoded data removed]",
      "text/plain": [
       "<Figure size 1500x400 with 3 Axes>"
      ]
     },
     "metadata": {},
     "output_type": "display_data"
    }
   ],
   "source": [
    "from matplotlib import pyplot as plt\n",
    "\n",
    "\n",
    "fig, ax = plt.subplots(1,3,figsize=(15,4))\n",
    "ax[0].plot(num_nodes, np.array(mods_leiden).max(axis=-1), '-', label=\"Leiden\", linewidth=5, color='gold')\n",
    "ax[0].plot(num_nodes, np.array(mods_adv_clique).max(axis=-1), '-o', label=\"Adv (50 runs)\", linewidth=0.5, color='black')\n",
    "ax[0].legend(frameon=False)\n",
    "ax[0].spines[[\"top\",\"right\"]].set_visible(False)\n",
    "ax[0].set_xlabel(\"N - number of graph nodes\");\n",
    "ax[0].set_ylabel(\"Max Q\");\n",
    "ax[0].set_xlim([-5+num_nodes[0],num_nodes[-1]+10])\n",
    "\n",
    "ax[1].plot(num_nodes, np.array(mods_leiden).mean(axis=-1), '-', linewidth=5, color='gold')\n",
    "ax[1].plot(num_nodes, np.array(mods_adv_clique).mean(axis=-1), '-o', linewidth=0.5, color='black')\n",
    "ax[1].spines[[\"top\",\"right\"]].set_visible(False)\n",
    "ax[1].set_xlabel(\"N - number of graph nodes\");\n",
    "ax[1].set_ylabel(\"Mean Q\");\n",
    "ax[1].set_xlim([-5+num_nodes[0],num_nodes[-1]+10])\n",
    "\n",
    "ax[2].plot(num_nodes, np.array(mods_leiden).min(axis=-1), '-', linewidth=5, color='gold')\n",
    "ax[2].plot(num_nodes, np.array(mods_adv_clique).min(axis=-1), '-o', linewidth=0.5, color='black')\n",
    "ax[2].spines[[\"top\",\"right\"]].set_visible(False)\n",
    "ax[2].set_xlabel(\"N - number of graph nodes\");\n",
    "ax[2].set_ylabel(\"Min Q\");\n",
    "ax[2].set_xlim([-5+num_nodes[0],num_nodes[-1]+10])"
   ]
  }
 ],
 "metadata": {
  "kernelspec": {
   "display_name": "qomm_env",
   "language": "python",
   "name": "python3"
  },
  "language_info": {
   "codemirror_mode": {
    "name": "ipython",
    "version": 3
   },
   "file_extension": ".py",
   "mimetype": "text/x-python",
   "name": "python",
   "nbconvert_exporter": "python",
   "pygments_lexer": "ipython3",
   "version": "3.10.14"
  }
 },
 "nbformat": 4,
 "nbformat_minor": 2
}
