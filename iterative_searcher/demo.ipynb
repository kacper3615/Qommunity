{
 "cells": [
  {
   "cell_type": "code",
   "execution_count": 8,
   "metadata": {},
   "outputs": [],
   "source": [
    "from iterative_searcher import IterativeSearcher\n",
    "\n",
    "from Qommunity.samplers.hierarchical.advantage_sampler import AdvantageSampler\n",
    "from Qommunity.searchers.hierarchical_community_searcher import (\n",
    "    HierarchicalCommunitySearcher,\n",
    ")\n",
    "\n",
    "import networkx as nx\n",
    "import numpy as np"
   ]
  },
  {
   "cell_type": "code",
   "execution_count": 2,
   "metadata": {},
   "outputs": [],
   "source": [
    "import os\n",
    "\n",
    "\n",
    "dir = f\"output/\"\n",
    "os.makedirs(os.path.dirname(dir), exist_ok=True)"
   ]
  },
  {
   "cell_type": "code",
   "execution_count": 3,
   "metadata": {},
   "outputs": [],
   "source": [
    "G = nx.karate_club_graph()"
   ]
  },
  {
   "cell_type": "markdown",
   "metadata": {},
   "source": [
    "### Hierarchical"
   ]
  },
  {
   "cell_type": "markdown",
   "metadata": {},
   "source": [
    "#### Basic usage"
   ]
  },
  {
   "cell_type": "markdown",
   "metadata": {},
   "source": [
    "- Example of Advantage sampler usage with clique embedding:"
   ]
  },
  {
   "cell_type": "code",
   "execution_count": 4,
   "metadata": {},
   "outputs": [],
   "source": [
    "adv_sampler = AdvantageSampler(G, num_reads=100, use_clique_embedding=True)\n",
    "iterative_searcher = IterativeSearcher(adv_sampler)"
   ]
  },
  {
   "cell_type": "code",
   "execution_count": 5,
   "metadata": {},
   "outputs": [
    {
     "name": "stderr",
     "output_type": "stream",
     "text": [
      "100%|██████████| 5/5 [00:53<00:00, 10.76s/it]"
     ]
    },
    {
     "name": "stdout",
     "output_type": "stream",
     "text": [
      "CPU times: total: 6.16 s\n",
      "Wall time: 53.8 s\n"
     ]
    },
    {
     "name": "stderr",
     "output_type": "stream",
     "text": [
      "\n"
     ]
    }
   ],
   "source": [
    "%time communities, modularities, times = iterative_searcher.run(num_runs=5, saving_path=dir+\"/adv-karate\")"
   ]
  },
  {
   "cell_type": "code",
   "execution_count": 6,
   "metadata": {},
   "outputs": [
    {
     "data": {
      "text/plain": [
       "array([list([[23, 24, 25, 27, 28, 31], [8, 14, 15, 18, 20, 22, 26, 29, 30, 32, 33], [4, 5, 6, 10, 16], [0, 1, 2, 3, 7, 9, 11, 12, 13, 17, 19, 21]]),\n",
       "       list([[23, 24, 25, 27, 28, 31], [8, 14, 15, 18, 20, 22, 26, 29, 30, 32, 33], [4, 5, 6, 10, 16], [0, 1, 2, 3, 7, 9, 11, 12, 13, 17, 19, 21]]),\n",
       "       list([[23, 24, 25, 27, 28, 31], [8, 14, 15, 18, 20, 22, 26, 29, 30, 32, 33], [4, 5, 6, 10, 16], [0, 1, 2, 3, 7, 9, 11, 12, 13, 17, 19, 21]]),\n",
       "       list([[23, 24, 25, 27, 28, 31], [8, 14, 15, 18, 20, 22, 26, 29, 30, 32, 33], [4, 5, 6, 10, 16], [0, 1, 2, 3, 7, 9, 11, 12, 13, 17, 19, 21]]),\n",
       "       list([[23, 24, 25, 27, 28, 31], [8, 14, 15, 18, 20, 22, 26, 29, 30, 32, 33], [4, 5, 6, 10, 16], [0, 1, 2, 3, 7, 9, 11, 12, 13, 17, 19, 21]])],\n",
       "      dtype=object)"
      ]
     },
     "execution_count": 6,
     "metadata": {},
     "output_type": "execute_result"
    }
   ],
   "source": [
    "communities"
   ]
  },
  {
   "cell_type": "code",
   "execution_count": 7,
   "metadata": {},
   "outputs": [
    {
     "data": {
      "text/plain": [
       "array([0.44018103, 0.44018103, 0.44018103, 0.44018103, 0.44018103])"
      ]
     },
     "execution_count": 7,
     "metadata": {},
     "output_type": "execute_result"
    }
   ],
   "source": [
    "modularities"
   ]
  },
  {
   "cell_type": "code",
   "execution_count": 8,
   "metadata": {},
   "outputs": [
    {
     "data": {
      "text/plain": [
       "array([10.81358671, 10.74970031, 10.52897   , 10.99395394, 10.71682978])"
      ]
     },
     "execution_count": 8,
     "metadata": {},
     "output_type": "execute_result"
    }
   ],
   "source": [
    "times"
   ]
  },
  {
   "cell_type": "markdown",
   "metadata": {},
   "source": [
    "- Example of Advantage sampler usage without standard embedding approach:"
   ]
  },
  {
   "cell_type": "code",
   "execution_count": 9,
   "metadata": {},
   "outputs": [],
   "source": [
    "adv_sampler = AdvantageSampler(G, num_reads=100, use_clique_embedding=False)\n",
    "iterative_searcher = IterativeSearcher(adv_sampler)"
   ]
  },
  {
   "cell_type": "code",
   "execution_count": 10,
   "metadata": {},
   "outputs": [
    {
     "name": "stderr",
     "output_type": "stream",
     "text": [
      "100%|██████████| 5/5 [01:08<00:00, 13.77s/it]"
     ]
    },
    {
     "name": "stdout",
     "output_type": "stream",
     "text": [
      "CPU times: total: 20.2 s\n",
      "Wall time: 1min 8s\n"
     ]
    },
    {
     "name": "stderr",
     "output_type": "stream",
     "text": [
      "\n"
     ]
    }
   ],
   "source": [
    "%time communities, modularities, times = iterative_searcher.run(num_runs=5, saving_path=dir+\"/adv-karate-2\")"
   ]
  },
  {
   "cell_type": "code",
   "execution_count": 11,
   "metadata": {},
   "outputs": [
    {
     "data": {
      "text/plain": [
       "array([list([[23, 24, 25, 27, 28, 31], [8, 14, 15, 18, 20, 22, 26, 29, 30, 32, 33], [4, 5, 6, 10, 16], [0, 1, 2, 3, 7, 9, 11, 12, 13, 17, 19, 21]]),\n",
       "       list([[23, 24, 25, 27, 28, 31], [8, 14, 15, 18, 20, 22, 26, 29, 30, 32, 33], [4, 5, 6, 10, 16], [0, 1, 2, 3, 7, 9, 11, 12, 13, 17, 19, 21]]),\n",
       "       list([[23, 24, 25, 27, 28, 31], [8, 14, 15, 18, 20, 22, 26, 29, 30, 32, 33], [4, 5, 6, 10, 16], [0, 1, 2, 3, 7, 9, 11, 12, 13, 17, 19, 21]]),\n",
       "       list([[23, 24, 25, 27, 28, 31], [8, 14, 15, 18, 20, 22, 26, 29, 30, 32, 33], [4, 5, 6, 10, 16], [0, 1, 2, 3, 7, 9, 11, 12, 13, 17, 19, 21]]),\n",
       "       list([[23, 24, 25, 27, 28, 31], [8, 14, 15, 18, 20, 22, 26, 29, 30, 32, 33], [4, 5, 6, 10, 16], [0, 1, 2, 3, 7, 9, 11, 12, 13, 17, 19, 21]])],\n",
       "      dtype=object)"
      ]
     },
     "execution_count": 11,
     "metadata": {},
     "output_type": "execute_result"
    }
   ],
   "source": [
    "communities"
   ]
  },
  {
   "cell_type": "code",
   "execution_count": 12,
   "metadata": {},
   "outputs": [
    {
     "data": {
      "text/plain": [
       "array([0.44018103, 0.44018103, 0.44018103, 0.44018103, 0.44018103])"
      ]
     },
     "execution_count": 12,
     "metadata": {},
     "output_type": "execute_result"
    }
   ],
   "source": [
    "modularities"
   ]
  },
  {
   "cell_type": "code",
   "execution_count": 13,
   "metadata": {},
   "outputs": [
    {
     "data": {
      "text/plain": [
       "array([14.0335393 , 10.7783637 , 14.70217466, 14.35772491, 14.95646453])"
      ]
     },
     "execution_count": 13,
     "metadata": {},
     "output_type": "execute_result"
    }
   ],
   "source": [
    "times"
   ]
  },
  {
   "cell_type": "markdown",
   "metadata": {},
   "source": [
    "#### Extended sampleset info\n",
    "- contains communities, modularities, times, division trees and division modularities"
   ]
  },
  {
   "cell_type": "code",
   "execution_count": 14,
   "metadata": {},
   "outputs": [
    {
     "name": "stderr",
     "output_type": "stream",
     "text": [
      "100%|██████████| 5/5 [01:03<00:00, 12.74s/it]\n"
     ]
    }
   ],
   "source": [
    "sampleset = iterative_searcher.run_with_sampleset_info(\n",
    "    num_runs=5, save_results=False\n",
    ")"
   ]
  },
  {
   "cell_type": "code",
   "execution_count": 15,
   "metadata": {},
   "outputs": [
    {
     "data": {
      "text/plain": [
       "rec.array([(list([[23, 24, 25, 27, 28, 31], [8, 14, 15, 18, 20, 22, 26, 29, 30, 32, 33], [4, 5, 6, 10, 16], [0, 1, 2, 3, 7, 9, 11, 12, 13, 17, 19, 21]]), 0.44018103, 12.31159449, list([[[0, 1, 2, 3, 4, 5, 6, 7, 8, 9, 10, 11, 12, 13, 14, 15, 16, 17, 18, 19, 20, 21, 22, 23, 24, 25, 26, 27, 28, 29, 30, 31, 32, 33]], [[8, 14, 15, 18, 20, 22, 23, 24, 25, 26, 27, 28, 29, 30, 31, 32, 33], [0, 1, 2, 3, 4, 5, 6, 7, 9, 10, 11, 12, 13, 16, 17, 19, 21]], [[23, 24, 25, 27, 28, 31], [8, 14, 15, 18, 20, 22, 26, 29, 30, 32, 33], [4, 5, 6, 10, 16], [0, 1, 2, 3, 7, 9, 11, 12, 13, 17, 19, 21]]]), list([0.0, 0.3998332115215232, 0.44018103109012197])),\n",
       "           (list([[23, 24, 25, 27, 28, 31], [8, 14, 15, 18, 20, 22, 26, 29, 30, 32, 33], [4, 5, 6, 10, 16], [0, 1, 2, 3, 7, 9, 11, 12, 13, 17, 19, 21]]), 0.44018103, 10.77648926, list([[[0, 1, 2, 3, 4, 5, 6, 7, 8, 9, 10, 11, 12, 13, 14, 15, 16, 17, 18, 19, 20, 21, 22, 23, 24, 25, 26, 27, 28, 29, 30, 31, 32, 33]], [[8, 14, 15, 18, 20, 22, 23, 24, 25, 26, 27, 28, 29, 30, 31, 32, 33], [0, 1, 2, 3, 4, 5, 6, 7, 9, 10, 11, 12, 13, 16, 17, 19, 21]], [[23, 24, 25, 27, 28, 31], [8, 14, 15, 18, 20, 22, 26, 29, 30, 32, 33], [4, 5, 6, 10, 16], [0, 1, 2, 3, 7, 9, 11, 12, 13, 17, 19, 21]]]), list([0.0, 0.3998332115215232, 0.44018103109012197])),\n",
       "           (list([[4, 5, 6, 10, 16], [0, 1, 2, 3, 7, 9, 11, 12, 13, 17, 19, 21], [23, 24, 25, 27, 28, 31], [8, 14, 15, 18, 20, 22, 26, 29, 30, 32, 33]]), 0.44018103, 14.07307673, list([[[0, 1, 2, 3, 4, 5, 6, 7, 8, 9, 10, 11, 12, 13, 14, 15, 16, 17, 18, 19, 20, 21, 22, 23, 24, 25, 26, 27, 28, 29, 30, 31, 32, 33]], [[0, 1, 2, 3, 4, 5, 6, 7, 9, 10, 11, 12, 13, 16, 17, 19, 21], [8, 14, 15, 18, 20, 22, 23, 24, 25, 26, 27, 28, 29, 30, 31, 32, 33]], [[4, 5, 6, 10, 16], [0, 1, 2, 3, 7, 9, 11, 12, 13, 17, 19, 21], [23, 24, 25, 27, 28, 31], [8, 14, 15, 18, 20, 22, 26, 29, 30, 32, 33]]]), list([0.0, 0.3998332115215232, 0.440181031090122])),\n",
       "           (list([[23, 24, 25, 27, 28, 31], [8, 14, 15, 18, 20, 22, 26, 29, 30, 32, 33], [4, 5, 6, 10, 16], [0, 1, 2, 3, 7, 9, 11, 12, 13, 17, 19, 21]]), 0.44018103, 12.51093316, list([[[0, 1, 2, 3, 4, 5, 6, 7, 8, 9, 10, 11, 12, 13, 14, 15, 16, 17, 18, 19, 20, 21, 22, 23, 24, 25, 26, 27, 28, 29, 30, 31, 32, 33]], [[8, 14, 15, 18, 20, 22, 23, 24, 25, 26, 27, 28, 29, 30, 31, 32, 33], [0, 1, 2, 3, 4, 5, 6, 7, 9, 10, 11, 12, 13, 16, 17, 19, 21]], [[23, 24, 25, 27, 28, 31], [8, 14, 15, 18, 20, 22, 26, 29, 30, 32, 33], [4, 5, 6, 10, 16], [0, 1, 2, 3, 7, 9, 11, 12, 13, 17, 19, 21]]]), list([0.0, 0.3998332115215232, 0.44018103109012197])),\n",
       "           (list([[23, 24, 25, 27, 28, 31], [8, 14, 15, 18, 20, 22, 26, 29, 30, 32, 33], [4, 5, 6, 10, 16], [0, 1, 2, 3, 7, 9, 11, 12, 13, 17, 19, 21]]), 0.44018103, 13.99912524, list([[[0, 1, 2, 3, 4, 5, 6, 7, 8, 9, 10, 11, 12, 13, 14, 15, 16, 17, 18, 19, 20, 21, 22, 23, 24, 25, 26, 27, 28, 29, 30, 31, 32, 33]], [[8, 14, 15, 18, 20, 22, 23, 24, 25, 26, 27, 28, 29, 30, 31, 32, 33], [0, 1, 2, 3, 4, 5, 6, 7, 9, 10, 11, 12, 13, 16, 17, 19, 21]], [[23, 24, 25, 27, 28, 31], [8, 14, 15, 18, 20, 22, 26, 29, 30, 32, 33], [4, 5, 6, 10, 16], [0, 1, 2, 3, 7, 9, 11, 12, 13, 17, 19, 21]]]), list([0.0, 0.3998332115215232, 0.44018103109012197]))],\n",
       "          dtype=[('communities', 'O'), ('modularity', '<f8'), ('time', '<f8'), ('division_tree', 'O'), ('division_modularities', 'O')])"
      ]
     },
     "execution_count": 15,
     "metadata": {},
     "output_type": "execute_result"
    }
   ],
   "source": [
    "sampleset"
   ]
  },
  {
   "cell_type": "code",
   "execution_count": 16,
   "metadata": {},
   "outputs": [
    {
     "data": {
      "text/plain": [
       "array([list([[23, 24, 25, 27, 28, 31], [8, 14, 15, 18, 20, 22, 26, 29, 30, 32, 33], [4, 5, 6, 10, 16], [0, 1, 2, 3, 7, 9, 11, 12, 13, 17, 19, 21]]),\n",
       "       list([[23, 24, 25, 27, 28, 31], [8, 14, 15, 18, 20, 22, 26, 29, 30, 32, 33], [4, 5, 6, 10, 16], [0, 1, 2, 3, 7, 9, 11, 12, 13, 17, 19, 21]]),\n",
       "       list([[4, 5, 6, 10, 16], [0, 1, 2, 3, 7, 9, 11, 12, 13, 17, 19, 21], [23, 24, 25, 27, 28, 31], [8, 14, 15, 18, 20, 22, 26, 29, 30, 32, 33]]),\n",
       "       list([[23, 24, 25, 27, 28, 31], [8, 14, 15, 18, 20, 22, 26, 29, 30, 32, 33], [4, 5, 6, 10, 16], [0, 1, 2, 3, 7, 9, 11, 12, 13, 17, 19, 21]]),\n",
       "       list([[23, 24, 25, 27, 28, 31], [8, 14, 15, 18, 20, 22, 26, 29, 30, 32, 33], [4, 5, 6, 10, 16], [0, 1, 2, 3, 7, 9, 11, 12, 13, 17, 19, 21]])],\n",
       "      dtype=object)"
      ]
     },
     "execution_count": 16,
     "metadata": {},
     "output_type": "execute_result"
    }
   ],
   "source": [
    "sampleset.communities"
   ]
  },
  {
   "cell_type": "code",
   "execution_count": 17,
   "metadata": {},
   "outputs": [
    {
     "data": {
      "text/plain": [
       "array([0.44018103, 0.44018103, 0.44018103, 0.44018103, 0.44018103])"
      ]
     },
     "execution_count": 17,
     "metadata": {},
     "output_type": "execute_result"
    }
   ],
   "source": [
    "sampleset.modularity"
   ]
  },
  {
   "cell_type": "code",
   "execution_count": 18,
   "metadata": {},
   "outputs": [
    {
     "data": {
      "text/plain": [
       "array([12.31159449, 10.77648926, 14.07307673, 12.51093316, 13.99912524])"
      ]
     },
     "execution_count": 18,
     "metadata": {},
     "output_type": "execute_result"
    }
   ],
   "source": [
    "sampleset.time"
   ]
  },
  {
   "cell_type": "code",
   "execution_count": 19,
   "metadata": {},
   "outputs": [
    {
     "data": {
      "text/plain": [
       "array([list([0.0, 0.3998332115215232, 0.44018103109012197]),\n",
       "       list([0.0, 0.3998332115215232, 0.44018103109012197]),\n",
       "       list([0.0, 0.3998332115215232, 0.440181031090122]),\n",
       "       list([0.0, 0.3998332115215232, 0.44018103109012197]),\n",
       "       list([0.0, 0.3998332115215232, 0.44018103109012197])], dtype=object)"
      ]
     },
     "execution_count": 19,
     "metadata": {},
     "output_type": "execute_result"
    }
   ],
   "source": [
    "sampleset.division_modularities"
   ]
  },
  {
   "cell_type": "code",
   "execution_count": 20,
   "metadata": {},
   "outputs": [
    {
     "data": {
      "text/plain": [
       "array([list([[[0, 1, 2, 3, 4, 5, 6, 7, 8, 9, 10, 11, 12, 13, 14, 15, 16, 17, 18, 19, 20, 21, 22, 23, 24, 25, 26, 27, 28, 29, 30, 31, 32, 33]], [[8, 14, 15, 18, 20, 22, 23, 24, 25, 26, 27, 28, 29, 30, 31, 32, 33], [0, 1, 2, 3, 4, 5, 6, 7, 9, 10, 11, 12, 13, 16, 17, 19, 21]], [[23, 24, 25, 27, 28, 31], [8, 14, 15, 18, 20, 22, 26, 29, 30, 32, 33], [4, 5, 6, 10, 16], [0, 1, 2, 3, 7, 9, 11, 12, 13, 17, 19, 21]]]),\n",
       "       list([[[0, 1, 2, 3, 4, 5, 6, 7, 8, 9, 10, 11, 12, 13, 14, 15, 16, 17, 18, 19, 20, 21, 22, 23, 24, 25, 26, 27, 28, 29, 30, 31, 32, 33]], [[8, 14, 15, 18, 20, 22, 23, 24, 25, 26, 27, 28, 29, 30, 31, 32, 33], [0, 1, 2, 3, 4, 5, 6, 7, 9, 10, 11, 12, 13, 16, 17, 19, 21]], [[23, 24, 25, 27, 28, 31], [8, 14, 15, 18, 20, 22, 26, 29, 30, 32, 33], [4, 5, 6, 10, 16], [0, 1, 2, 3, 7, 9, 11, 12, 13, 17, 19, 21]]]),\n",
       "       list([[[0, 1, 2, 3, 4, 5, 6, 7, 8, 9, 10, 11, 12, 13, 14, 15, 16, 17, 18, 19, 20, 21, 22, 23, 24, 25, 26, 27, 28, 29, 30, 31, 32, 33]], [[0, 1, 2, 3, 4, 5, 6, 7, 9, 10, 11, 12, 13, 16, 17, 19, 21], [8, 14, 15, 18, 20, 22, 23, 24, 25, 26, 27, 28, 29, 30, 31, 32, 33]], [[4, 5, 6, 10, 16], [0, 1, 2, 3, 7, 9, 11, 12, 13, 17, 19, 21], [23, 24, 25, 27, 28, 31], [8, 14, 15, 18, 20, 22, 26, 29, 30, 32, 33]]]),\n",
       "       list([[[0, 1, 2, 3, 4, 5, 6, 7, 8, 9, 10, 11, 12, 13, 14, 15, 16, 17, 18, 19, 20, 21, 22, 23, 24, 25, 26, 27, 28, 29, 30, 31, 32, 33]], [[8, 14, 15, 18, 20, 22, 23, 24, 25, 26, 27, 28, 29, 30, 31, 32, 33], [0, 1, 2, 3, 4, 5, 6, 7, 9, 10, 11, 12, 13, 16, 17, 19, 21]], [[23, 24, 25, 27, 28, 31], [8, 14, 15, 18, 20, 22, 26, 29, 30, 32, 33], [4, 5, 6, 10, 16], [0, 1, 2, 3, 7, 9, 11, 12, 13, 17, 19, 21]]]),\n",
       "       list([[[0, 1, 2, 3, 4, 5, 6, 7, 8, 9, 10, 11, 12, 13, 14, 15, 16, 17, 18, 19, 20, 21, 22, 23, 24, 25, 26, 27, 28, 29, 30, 31, 32, 33]], [[8, 14, 15, 18, 20, 22, 23, 24, 25, 26, 27, 28, 29, 30, 31, 32, 33], [0, 1, 2, 3, 4, 5, 6, 7, 9, 10, 11, 12, 13, 16, 17, 19, 21]], [[23, 24, 25, 27, 28, 31], [8, 14, 15, 18, 20, 22, 26, 29, 30, 32, 33], [4, 5, 6, 10, 16], [0, 1, 2, 3, 7, 9, 11, 12, 13, 17, 19, 21]]])],\n",
       "      dtype=object)"
      ]
     },
     "execution_count": 20,
     "metadata": {},
     "output_type": "execute_result"
    }
   ],
   "source": [
    "sampleset.division_tree"
   ]
  },
  {
   "cell_type": "markdown",
   "metadata": {},
   "source": [
    "## Regular"
   ]
  },
  {
   "cell_type": "code",
   "execution_count": 1,
   "metadata": {},
   "outputs": [],
   "source": [
    "from Qommunity.samplers.regular.leiden_sampler import LeidenSampler\n",
    "from Qommunity.searchers.community_searcher import CommunitySearcher\n",
    "from iterative_searcher import IterativeSearcher\n",
    "\n",
    "import networkx as nx"
   ]
  },
  {
   "cell_type": "code",
   "execution_count": 2,
   "metadata": {},
   "outputs": [],
   "source": [
    "G = nx.karate_club_graph()"
   ]
  },
  {
   "cell_type": "code",
   "execution_count": 3,
   "metadata": {},
   "outputs": [],
   "source": [
    "leiden_sampler = LeidenSampler(G)\n",
    "iterative_searcher = IterativeSearcher(leiden_sampler)"
   ]
  },
  {
   "cell_type": "code",
   "execution_count": 4,
   "metadata": {},
   "outputs": [
    {
     "name": "stderr",
     "output_type": "stream",
     "text": [
      "  0%|          | 0/100 [00:00<?, ?it/s]"
     ]
    },
    {
     "name": "stderr",
     "output_type": "stream",
     "text": [
      "100%|██████████| 100/100 [00:00<00:00, 1269.10it/s]\n"
     ]
    }
   ],
   "source": [
    "communities, modularities, times = iterative_searcher.run(num_runs=100, save_results=False)"
   ]
  },
  {
   "cell_type": "code",
   "execution_count": 5,
   "metadata": {},
   "outputs": [
    {
     "data": {
      "text/plain": [
       "array([0.44490358, 0.44490358, 0.44490358, 0.44490358, 0.44490358,\n",
       "       0.44490358, 0.44490358, 0.44490358, 0.44490358, 0.44490358,\n",
       "       0.44490358, 0.44490358, 0.44490358, 0.44490358, 0.44490358,\n",
       "       0.44490358, 0.44490358, 0.44490358, 0.44490358, 0.44490358,\n",
       "       0.44490358, 0.44490358, 0.44490358, 0.44490358, 0.44490358,\n",
       "       0.44490358, 0.44490358, 0.44490358, 0.44490358, 0.44490358,\n",
       "       0.44490358, 0.44490358, 0.44490358, 0.44490358, 0.44490358,\n",
       "       0.44490358, 0.44490358, 0.44490358, 0.44490358, 0.44490358,\n",
       "       0.44490358, 0.44490358, 0.44490358, 0.44490358, 0.44490358,\n",
       "       0.44490358, 0.44490358, 0.44490358, 0.44490358, 0.44490358,\n",
       "       0.44490358, 0.44490358, 0.44490358, 0.44490358, 0.44490358,\n",
       "       0.44490358, 0.44490358, 0.44490358, 0.44490358, 0.44490358,\n",
       "       0.44490358, 0.44490358, 0.44490358, 0.44490358, 0.44490358,\n",
       "       0.44490358, 0.44490358, 0.44490358, 0.44490358, 0.44490358,\n",
       "       0.44490358, 0.44490358, 0.44490358, 0.44490358, 0.44490358,\n",
       "       0.44490358, 0.44490358, 0.44490358, 0.44490358, 0.44490358,\n",
       "       0.44490358, 0.44490358, 0.44490358, 0.44490358, 0.44490358,\n",
       "       0.44490358, 0.44490358, 0.44490358, 0.44490358, 0.44490358,\n",
       "       0.44490358, 0.44490358, 0.44490358, 0.44490358, 0.44490358,\n",
       "       0.44490358, 0.44490358, 0.44490358, 0.44490358, 0.44490358])"
      ]
     },
     "execution_count": 5,
     "metadata": {},
     "output_type": "execute_result"
    }
   ],
   "source": [
    "modularities"
   ]
  },
  {
   "cell_type": "code",
   "execution_count": 6,
   "metadata": {},
   "outputs": [
    {
     "data": {
      "text/plain": [
       "array([0.00101042, 0.00100064, 0.        , 0.00108194, 0.        ,\n",
       "       0.0009613 , 0.        , 0.        , 0.00100303, 0.00099754,\n",
       "       0.00099921, 0.        , 0.00108624, 0.00094461, 0.        ,\n",
       "       0.00099897, 0.        , 0.00099921, 0.00099802, 0.00100374,\n",
       "       0.00091338, 0.00099659, 0.        , 0.        , 0.        ,\n",
       "       0.00100899, 0.00101376, 0.00099325, 0.00090432, 0.00100207,\n",
       "       0.00100803, 0.00099921, 0.00100136, 0.        , 0.        ,\n",
       "       0.0009954 , 0.00100303, 0.00099993, 0.00100064, 0.00101423,\n",
       "       0.00100803, 0.        , 0.00105238, 0.        , 0.00102258,\n",
       "       0.        , 0.00099754, 0.        , 0.        , 0.00100017,\n",
       "       0.        , 0.00094247, 0.        , 0.00105834, 0.        ,\n",
       "       0.        , 0.        , 0.00089335, 0.00100422, 0.        ,\n",
       "       0.00108624, 0.        , 0.0010047 , 0.        , 0.        ,\n",
       "       0.0009985 , 0.        , 0.00099707, 0.        , 0.00101256,\n",
       "       0.        , 0.        , 0.        , 0.        , 0.00099325,\n",
       "       0.        , 0.00099659, 0.        , 0.00100207, 0.00099039,\n",
       "       0.0010078 , 0.        , 0.        , 0.        , 0.        ,\n",
       "       0.00099444, 0.00091815, 0.00099921, 0.00108552, 0.00097418,\n",
       "       0.00093794, 0.        , 0.00105143, 0.        , 0.        ,\n",
       "       0.        , 0.        , 0.00099611, 0.        , 0.00100327])"
      ]
     },
     "execution_count": 6,
     "metadata": {},
     "output_type": "execute_result"
    }
   ],
   "source": [
    "times"
   ]
  },
  {
   "cell_type": "markdown",
   "metadata": {},
   "source": [
    "## Sample usecase"
   ]
  },
  {
   "cell_type": "markdown",
   "metadata": {},
   "source": [
    "- Comparison of use_clique_embedding=True and False on a graph of 90 nodes"
   ]
  },
  {
   "cell_type": "code",
   "execution_count": 10,
   "metadata": {},
   "outputs": [],
   "source": [
    "G = nx.powerlaw_cluster_graph(n=90, m=1, p=0.2)\n",
    "\n",
    "adv_sampler = AdvantageSampler(G, num_reads=100, use_clique_embedding=True)\n",
    "iterative_searcher = IterativeSearcher(adv_sampler)"
   ]
  },
  {
   "cell_type": "code",
   "execution_count": 11,
   "metadata": {},
   "outputs": [
    {
     "name": "stderr",
     "output_type": "stream",
     "text": [
      "100%|██████████| 5/5 [03:10<00:00, 38.02s/it]"
     ]
    },
    {
     "name": "stdout",
     "output_type": "stream",
     "text": [
      "CPU times: total: 37.1 s\n",
      "Wall time: 3min 10s\n"
     ]
    },
    {
     "name": "stderr",
     "output_type": "stream",
     "text": [
      "\n"
     ]
    }
   ],
   "source": [
    "%time communities, modularities, times = iterative_searcher.run(num_runs=5, save_results=False)"
   ]
  },
  {
   "cell_type": "code",
   "execution_count": 12,
   "metadata": {},
   "outputs": [
    {
     "data": {
      "text/plain": [
       "array([0.68753945, 0.68211084, 0.68324706, 0.6887388 , 0.69864916])"
      ]
     },
     "execution_count": 12,
     "metadata": {},
     "output_type": "execute_result"
    }
   ],
   "source": [
    "modularities"
   ]
  },
  {
   "cell_type": "code",
   "execution_count": 13,
   "metadata": {},
   "outputs": [
    {
     "data": {
      "text/plain": [
       "array([34.93011856, 35.20841479, 34.44822073, 41.9354403 , 43.58305812])"
      ]
     },
     "execution_count": 13,
     "metadata": {},
     "output_type": "execute_result"
    }
   ],
   "source": [
    "times"
   ]
  },
  {
   "cell_type": "code",
   "execution_count": 14,
   "metadata": {},
   "outputs": [
    {
     "data": {
      "text/plain": [
       "190.10525250434875"
      ]
     },
     "execution_count": 14,
     "metadata": {},
     "output_type": "execute_result"
    }
   ],
   "source": [
    "times.sum()"
   ]
  },
  {
   "cell_type": "code",
   "execution_count": 15,
   "metadata": {},
   "outputs": [],
   "source": [
    "adv_sampler = AdvantageSampler(G, num_reads=100, use_clique_embedding=False)\n",
    "iterative_searcher = IterativeSearcher(adv_sampler)"
   ]
  },
  {
   "cell_type": "code",
   "execution_count": 16,
   "metadata": {},
   "outputs": [
    {
     "name": "stderr",
     "output_type": "stream",
     "text": [
      "100%|██████████| 5/5 [13:38<00:00, 163.71s/it]"
     ]
    },
    {
     "name": "stdout",
     "output_type": "stream",
     "text": [
      "CPU times: total: 6min 6s\n",
      "Wall time: 13min 38s\n"
     ]
    },
    {
     "name": "stderr",
     "output_type": "stream",
     "text": [
      "\n"
     ]
    }
   ],
   "source": [
    "%time communities, modularities, times = iterative_searcher.run(num_runs=5, save_results=False)"
   ]
  },
  {
   "cell_type": "code",
   "execution_count": 17,
   "metadata": {},
   "outputs": [
    {
     "data": {
      "text/plain": [
       "array([0.69284181, 0.69864916, 0.68312082, 0.6800909 , 0.69801793])"
      ]
     },
     "execution_count": 17,
     "metadata": {},
     "output_type": "execute_result"
    }
   ],
   "source": [
    "modularities"
   ]
  },
  {
   "cell_type": "code",
   "execution_count": 18,
   "metadata": {},
   "outputs": [
    {
     "data": {
      "text/plain": [
       "array([150.76906037, 170.34411979, 169.89631033, 165.60446572,\n",
       "       161.90343213])"
      ]
     },
     "execution_count": 18,
     "metadata": {},
     "output_type": "execute_result"
    }
   ],
   "source": [
    "times"
   ]
  },
  {
   "cell_type": "code",
   "execution_count": 19,
   "metadata": {},
   "outputs": [
    {
     "data": {
      "text/plain": [
       "818.517388343811"
      ]
     },
     "execution_count": 19,
     "metadata": {},
     "output_type": "execute_result"
    }
   ],
   "source": [
    "times.sum()"
   ]
  }
 ],
 "metadata": {
  "kernelspec": {
   "display_name": "qomm_env",
   "language": "python",
   "name": "python3"
  },
  "language_info": {
   "codemirror_mode": {
    "name": "ipython",
    "version": 3
   },
   "file_extension": ".py",
   "mimetype": "text/x-python",
   "name": "python",
   "nbconvert_exporter": "python",
   "pygments_lexer": "ipython3",
   "version": "3.10.14"
  }
 },
 "nbformat": 4,
 "nbformat_minor": 2
}
