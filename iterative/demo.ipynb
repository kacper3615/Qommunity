{
 "cells": [
  {
   "cell_type": "code",
   "execution_count": 1,
   "metadata": {},
   "outputs": [],
   "source": [
    "from iterative_searcher import IterativeSearcher\n",
    "\n",
    "from Qommunity.samplers.hierarchical.advantage_sampler import AdvantageSampler\n",
    "from Qommunity.searchers.hierarchical_community_searcher import (\n",
    "    HierarchicalCommunitySearcher,\n",
    ")\n",
    "\n",
    "import networkx as nx\n",
    "import numpy as np"
   ]
  },
  {
   "cell_type": "code",
   "execution_count": 2,
   "metadata": {},
   "outputs": [],
   "source": [
    "import os\n",
    "\n",
    "\n",
    "dir = f\"output/\"\n",
    "os.makedirs(os.path.dirname(dir), exist_ok=True)"
   ]
  },
  {
   "cell_type": "code",
   "execution_count": 3,
   "metadata": {},
   "outputs": [],
   "source": [
    "G = nx.karate_club_graph()"
   ]
  },
  {
   "cell_type": "markdown",
   "metadata": {},
   "source": [
    "### Hierarchical"
   ]
  },
  {
   "cell_type": "markdown",
   "metadata": {},
   "source": [
    "#### Basic usage"
   ]
  },
  {
   "cell_type": "markdown",
   "metadata": {},
   "source": [
    "- Example of Advantage sampler usage with clique embedding:"
   ]
  },
  {
   "cell_type": "code",
   "execution_count": 4,
   "metadata": {},
   "outputs": [],
   "source": [
    "adv_sampler = AdvantageSampler(G, num_reads=100, use_clique_embedding=True)\n",
    "searcher = HierarchicalCommunitySearcher(adv_sampler)\n",
    "iterative_searcher = IterativeSearcher(searcher)"
   ]
  },
  {
   "cell_type": "code",
   "execution_count": 5,
   "metadata": {},
   "outputs": [
    {
     "name": "stderr",
     "output_type": "stream",
     "text": [
      "100%|██████████| 5/5 [00:40<00:00,  8.08s/it]"
     ]
    },
    {
     "name": "stdout",
     "output_type": "stream",
     "text": [
      "CPU times: total: 9.88 s\n",
      "Wall time: 40.4 s\n"
     ]
    },
    {
     "name": "stderr",
     "output_type": "stream",
     "text": [
      "\n"
     ]
    }
   ],
   "source": [
    "%time communities, modularities, times = iterative_searcher.run(num_runs=5, saving_path=dir+\"/adv-karate\")"
   ]
  },
  {
   "cell_type": "code",
   "execution_count": 6,
   "metadata": {},
   "outputs": [
    {
     "data": {
      "text/plain": [
       "array([list([[23, 24, 25, 27, 28, 31], [8, 14, 15, 18, 20, 22, 26, 29, 30, 32, 33], [4, 5, 6, 10, 16], [0, 1, 2, 3, 7, 9, 11, 12, 13, 17, 19, 21]]),\n",
       "       list([[23, 24, 25, 27, 28, 31], [8, 14, 15, 18, 20, 22, 26, 29, 30, 32, 33], [4, 5, 6, 10, 16], [0, 1, 2, 3, 7, 9, 11, 12, 13, 17, 19, 21]]),\n",
       "       list([[23, 24, 25, 27, 28, 31], [8, 14, 15, 18, 20, 22, 26, 29, 30, 32, 33], [4, 5, 6, 10, 16], [0, 1, 2, 3, 7, 9, 11, 12, 13, 17, 19, 21]]),\n",
       "       list([[23, 24, 25, 27, 28, 31], [8, 14, 15, 18, 20, 22, 26, 29, 30, 32, 33], [4, 5, 6, 10, 16], [0, 1, 2, 3, 7, 9, 11, 12, 13, 17, 19, 21]]),\n",
       "       list([[23, 24, 25, 27, 28, 31], [8, 14, 15, 18, 20, 22, 26, 29, 30, 32, 33], [4, 5, 6, 10, 16], [0, 1, 2, 3, 7, 9, 11, 12, 13, 17, 19, 21]])],\n",
       "      dtype=object)"
      ]
     },
     "execution_count": 6,
     "metadata": {},
     "output_type": "execute_result"
    }
   ],
   "source": [
    "communities"
   ]
  },
  {
   "cell_type": "code",
   "execution_count": 7,
   "metadata": {},
   "outputs": [
    {
     "data": {
      "text/plain": [
       "array([0.44018103, 0.44018103, 0.44018103, 0.44018103, 0.44018103])"
      ]
     },
     "execution_count": 7,
     "metadata": {},
     "output_type": "execute_result"
    }
   ],
   "source": [
    "modularities"
   ]
  },
  {
   "cell_type": "code",
   "execution_count": 8,
   "metadata": {},
   "outputs": [
    {
     "data": {
      "text/plain": [
       "array([7.8029716 , 8.05719256, 8.43407965, 7.84661531, 8.25471497])"
      ]
     },
     "execution_count": 8,
     "metadata": {},
     "output_type": "execute_result"
    }
   ],
   "source": [
    "times"
   ]
  },
  {
   "cell_type": "markdown",
   "metadata": {},
   "source": [
    "- Example of Advantage sampler usage without standard embedding approach:"
   ]
  },
  {
   "cell_type": "code",
   "execution_count": 9,
   "metadata": {},
   "outputs": [],
   "source": [
    "adv_sampler = AdvantageSampler(G, num_reads=100, use_clique_embedding=False)\n",
    "searcher = HierarchicalCommunitySearcher(adv_sampler)\n",
    "iterative_searcher = IterativeSearcher(searcher)"
   ]
  },
  {
   "cell_type": "code",
   "execution_count": 11,
   "metadata": {},
   "outputs": [
    {
     "name": "stderr",
     "output_type": "stream",
     "text": [
      "100%|██████████| 5/5 [01:03<00:00, 12.79s/it]"
     ]
    },
    {
     "name": "stdout",
     "output_type": "stream",
     "text": [
      "CPU times: total: 23.5 s\n",
      "Wall time: 1min 3s\n"
     ]
    },
    {
     "name": "stderr",
     "output_type": "stream",
     "text": [
      "\n"
     ]
    }
   ],
   "source": [
    "%time communities, modularities, times = iterative_searcher.run(num_runs=5, saving_path=dir+\"/adv-karate-2\")"
   ]
  },
  {
   "cell_type": "code",
   "execution_count": 12,
   "metadata": {},
   "outputs": [
    {
     "data": {
      "text/plain": [
       "array([list([[23, 24, 25, 27, 28, 31], [8, 14, 15, 18, 20, 22, 26, 29, 30, 32, 33], [4, 5, 6, 10, 16], [0, 1, 2, 3, 7, 9, 11, 12, 13, 17, 19, 21]]),\n",
       "       list([[23, 24, 25, 27, 28, 31], [8, 14, 15, 18, 20, 22, 26, 29, 30, 32, 33], [4, 5, 6, 10, 16], [0, 1, 2, 3, 7, 9, 11, 12, 13, 17, 19, 21]]),\n",
       "       list([[23, 24, 25, 27, 28, 31], [8, 14, 15, 18, 20, 22, 26, 29, 30, 32, 33], [4, 5, 6, 10, 16], [0, 1, 2, 3, 7, 9, 11, 12, 13, 17, 19, 21]]),\n",
       "       list([[23, 24, 25, 27, 28, 31], [8, 14, 15, 18, 20, 22, 26, 29, 30, 32, 33], [4, 5, 6, 10, 16], [0, 1, 2, 3, 7, 9, 11, 12, 13, 17, 19, 21]]),\n",
       "       list([[23, 24, 25, 27, 28, 31], [8, 14, 15, 18, 20, 22, 26, 29, 30, 32, 33], [4, 5, 6, 10, 16], [0, 1, 2, 3, 7, 9, 11, 12, 13, 17, 19, 21]])],\n",
       "      dtype=object)"
      ]
     },
     "execution_count": 12,
     "metadata": {},
     "output_type": "execute_result"
    }
   ],
   "source": [
    "communities"
   ]
  },
  {
   "cell_type": "code",
   "execution_count": 13,
   "metadata": {},
   "outputs": [
    {
     "data": {
      "text/plain": [
       "array([0.44018103, 0.44018103, 0.44018103, 0.44018103, 0.44018103])"
      ]
     },
     "execution_count": 13,
     "metadata": {},
     "output_type": "execute_result"
    }
   ],
   "source": [
    "modularities"
   ]
  },
  {
   "cell_type": "code",
   "execution_count": 14,
   "metadata": {},
   "outputs": [
    {
     "data": {
      "text/plain": [
       "array([12.06314325, 10.28225684, 13.89440346, 16.99917865, 10.70184374])"
      ]
     },
     "execution_count": 14,
     "metadata": {},
     "output_type": "execute_result"
    }
   ],
   "source": [
    "times"
   ]
  },
  {
   "cell_type": "markdown",
   "metadata": {},
   "source": [
    "#### Extended sampleset info\n",
    "- contains communities, modularities, times, division trees and division modularities"
   ]
  },
  {
   "cell_type": "code",
   "execution_count": 15,
   "metadata": {},
   "outputs": [
    {
     "name": "stderr",
     "output_type": "stream",
     "text": [
      "100%|██████████| 5/5 [01:06<00:00, 13.37s/it]\n"
     ]
    }
   ],
   "source": [
    "sampleset = iterative_searcher.run_with_full_sampleset_info(num_runs=5)"
   ]
  },
  {
   "cell_type": "code",
   "execution_count": 16,
   "metadata": {},
   "outputs": [
    {
     "data": {
      "text/plain": [
       "rec.array([(list([[23, 24, 25, 27, 28, 31], [8, 14, 15, 18, 20, 22, 26, 29, 30, 32, 33], [4, 5, 6, 10, 16], [0, 1, 2, 3, 7, 9, 11, 12, 13, 17, 19, 21]]), 0.44018103, 13.23299122, list([[[0, 1, 2, 3, 4, 5, 6, 7, 8, 9, 10, 11, 12, 13, 14, 15, 16, 17, 18, 19, 20, 21, 22, 23, 24, 25, 26, 27, 28, 29, 30, 31, 32, 33]], [[8, 14, 15, 18, 20, 22, 23, 24, 25, 26, 27, 28, 29, 30, 31, 32, 33], [0, 1, 2, 3, 4, 5, 6, 7, 9, 10, 11, 12, 13, 16, 17, 19, 21]], [[23, 24, 25, 27, 28, 31], [8, 14, 15, 18, 20, 22, 26, 29, 30, 32, 33], [4, 5, 6, 10, 16], [0, 1, 2, 3, 7, 9, 11, 12, 13, 17, 19, 21]]]), list([0.0, 0.3998332115215232, 0.44018103109012197])),\n",
       "           (list([[23, 24, 25, 27, 28, 31], [8, 14, 15, 18, 20, 22, 26, 29, 30, 32, 33], [4, 5, 6, 10, 16], [0, 1, 2, 3, 7, 9, 11, 12, 13, 17, 19, 21]]), 0.44018103, 16.01342702, list([[[0, 1, 2, 3, 4, 5, 6, 7, 8, 9, 10, 11, 12, 13, 14, 15, 16, 17, 18, 19, 20, 21, 22, 23, 24, 25, 26, 27, 28, 29, 30, 31, 32, 33]], [[8, 14, 15, 18, 20, 22, 23, 24, 25, 26, 27, 28, 29, 30, 31, 32, 33], [0, 1, 2, 3, 4, 5, 6, 7, 9, 10, 11, 12, 13, 16, 17, 19, 21]], [[23, 24, 25, 27, 28, 31], [8, 14, 15, 18, 20, 22, 26, 29, 30, 32, 33], [4, 5, 6, 10, 16], [0, 1, 2, 3, 7, 9, 11, 12, 13, 17, 19, 21]]]), list([0.0, 0.3998332115215232, 0.44018103109012197])),\n",
       "           (list([[23, 24, 25, 27, 28, 31], [8, 14, 15, 18, 20, 22, 26, 29, 30, 32, 33], [4, 5, 6, 10, 16], [0, 1, 2, 3, 7, 9, 11, 12, 13, 17, 19, 21]]), 0.44018103, 10.89804173, list([[[0, 1, 2, 3, 4, 5, 6, 7, 8, 9, 10, 11, 12, 13, 14, 15, 16, 17, 18, 19, 20, 21, 22, 23, 24, 25, 26, 27, 28, 29, 30, 31, 32, 33]], [[8, 14, 15, 18, 20, 22, 23, 24, 25, 26, 27, 28, 29, 30, 31, 32, 33], [0, 1, 2, 3, 4, 5, 6, 7, 9, 10, 11, 12, 13, 16, 17, 19, 21]], [[23, 24, 25, 27, 28, 31], [8, 14, 15, 18, 20, 22, 26, 29, 30, 32, 33], [4, 5, 6, 10, 16], [0, 1, 2, 3, 7, 9, 11, 12, 13, 17, 19, 21]]]), list([0.0, 0.3998332115215232, 0.44018103109012197])),\n",
       "           (list([[23, 24, 25, 27, 28, 31], [8, 14, 15, 18, 20, 22, 26, 29, 30, 32, 33], [4, 5, 6, 10, 16], [0, 1, 2, 3, 7, 9, 11, 12, 13, 17, 19, 21]]), 0.44018103, 14.11864519, list([[[0, 1, 2, 3, 4, 5, 6, 7, 8, 9, 10, 11, 12, 13, 14, 15, 16, 17, 18, 19, 20, 21, 22, 23, 24, 25, 26, 27, 28, 29, 30, 31, 32, 33]], [[8, 14, 15, 18, 20, 22, 23, 24, 25, 26, 27, 28, 29, 30, 31, 32, 33], [0, 1, 2, 3, 4, 5, 6, 7, 9, 10, 11, 12, 13, 16, 17, 19, 21]], [[23, 24, 25, 27, 28, 31], [8, 14, 15, 18, 20, 22, 26, 29, 30, 32, 33], [4, 5, 6, 10, 16], [0, 1, 2, 3, 7, 9, 11, 12, 13, 17, 19, 21]]]), list([0.0, 0.3998332115215232, 0.44018103109012197])),\n",
       "           (list([[23, 24, 25, 27, 28, 31], [8, 14, 15, 18, 20, 22, 26, 29, 30, 32, 33], [4, 5, 6, 10, 16], [0, 1, 2, 3, 7, 9, 11, 12, 13, 17, 19, 21]]), 0.44018103, 12.59225225, list([[[0, 1, 2, 3, 4, 5, 6, 7, 8, 9, 10, 11, 12, 13, 14, 15, 16, 17, 18, 19, 20, 21, 22, 23, 24, 25, 26, 27, 28, 29, 30, 31, 32, 33]], [[8, 14, 15, 18, 20, 22, 23, 24, 25, 26, 27, 28, 29, 30, 31, 32, 33], [0, 1, 2, 3, 4, 5, 6, 7, 9, 10, 11, 12, 13, 16, 17, 19, 21]], [[23, 24, 25, 27, 28, 31], [8, 14, 15, 18, 20, 22, 26, 29, 30, 32, 33], [4, 5, 6, 10, 16], [0, 1, 2, 3, 7, 9, 11, 12, 13, 17, 19, 21]]]), list([0.0, 0.3998332115215232, 0.44018103109012197]))],\n",
       "          dtype=[('communities', 'O'), ('modularity', '<f8'), ('time', '<f8'), ('division_tree', 'O'), ('division_modularities', 'O')])"
      ]
     },
     "execution_count": 16,
     "metadata": {},
     "output_type": "execute_result"
    }
   ],
   "source": [
    "sampleset"
   ]
  },
  {
   "cell_type": "code",
   "execution_count": 17,
   "metadata": {},
   "outputs": [
    {
     "data": {
      "text/plain": [
       "array([list([[23, 24, 25, 27, 28, 31], [8, 14, 15, 18, 20, 22, 26, 29, 30, 32, 33], [4, 5, 6, 10, 16], [0, 1, 2, 3, 7, 9, 11, 12, 13, 17, 19, 21]]),\n",
       "       list([[23, 24, 25, 27, 28, 31], [8, 14, 15, 18, 20, 22, 26, 29, 30, 32, 33], [4, 5, 6, 10, 16], [0, 1, 2, 3, 7, 9, 11, 12, 13, 17, 19, 21]]),\n",
       "       list([[23, 24, 25, 27, 28, 31], [8, 14, 15, 18, 20, 22, 26, 29, 30, 32, 33], [4, 5, 6, 10, 16], [0, 1, 2, 3, 7, 9, 11, 12, 13, 17, 19, 21]]),\n",
       "       list([[23, 24, 25, 27, 28, 31], [8, 14, 15, 18, 20, 22, 26, 29, 30, 32, 33], [4, 5, 6, 10, 16], [0, 1, 2, 3, 7, 9, 11, 12, 13, 17, 19, 21]]),\n",
       "       list([[23, 24, 25, 27, 28, 31], [8, 14, 15, 18, 20, 22, 26, 29, 30, 32, 33], [4, 5, 6, 10, 16], [0, 1, 2, 3, 7, 9, 11, 12, 13, 17, 19, 21]])],\n",
       "      dtype=object)"
      ]
     },
     "execution_count": 17,
     "metadata": {},
     "output_type": "execute_result"
    }
   ],
   "source": [
    "sampleset.communities"
   ]
  },
  {
   "cell_type": "code",
   "execution_count": 18,
   "metadata": {},
   "outputs": [
    {
     "data": {
      "text/plain": [
       "array([0.44018103, 0.44018103, 0.44018103, 0.44018103, 0.44018103])"
      ]
     },
     "execution_count": 18,
     "metadata": {},
     "output_type": "execute_result"
    }
   ],
   "source": [
    "sampleset.modularity"
   ]
  },
  {
   "cell_type": "code",
   "execution_count": 19,
   "metadata": {},
   "outputs": [
    {
     "data": {
      "text/plain": [
       "array([13.23299122, 16.01342702, 10.89804173, 14.11864519, 12.59225225])"
      ]
     },
     "execution_count": 19,
     "metadata": {},
     "output_type": "execute_result"
    }
   ],
   "source": [
    "sampleset.time"
   ]
  },
  {
   "cell_type": "code",
   "execution_count": 20,
   "metadata": {},
   "outputs": [
    {
     "data": {
      "text/plain": [
       "array([list([0.0, 0.3998332115215232, 0.44018103109012197]),\n",
       "       list([0.0, 0.3998332115215232, 0.44018103109012197]),\n",
       "       list([0.0, 0.3998332115215232, 0.44018103109012197]),\n",
       "       list([0.0, 0.3998332115215232, 0.44018103109012197]),\n",
       "       list([0.0, 0.3998332115215232, 0.44018103109012197])], dtype=object)"
      ]
     },
     "execution_count": 20,
     "metadata": {},
     "output_type": "execute_result"
    }
   ],
   "source": [
    "sampleset.division_modularities"
   ]
  },
  {
   "cell_type": "markdown",
   "metadata": {},
   "source": [
    "## Regular"
   ]
  },
  {
   "cell_type": "code",
   "execution_count": 21,
   "metadata": {},
   "outputs": [],
   "source": [
    "from Qommunity.samplers.regular.leiden_sampler import LeidenSampler\n",
    "from Qommunity.searchers.community_searcher import CommunitySearcher\n",
    "from iterative_searcher import IterativeSearcher\n",
    "\n",
    "import networkx as nx"
   ]
  },
  {
   "cell_type": "code",
   "execution_count": 22,
   "metadata": {},
   "outputs": [],
   "source": [
    "G = nx.karate_club_graph()"
   ]
  },
  {
   "cell_type": "code",
   "execution_count": 23,
   "metadata": {},
   "outputs": [],
   "source": [
    "searcher = CommunitySearcher(LeidenSampler(G))\n",
    "iterative_searcher = IterativeSearcher(searcher)"
   ]
  },
  {
   "cell_type": "code",
   "execution_count": 24,
   "metadata": {},
   "outputs": [
    {
     "name": "stderr",
     "output_type": "stream",
     "text": [
      "100%|██████████| 100/100 [00:00<00:00, 546.63it/s]\n"
     ]
    }
   ],
   "source": [
    "communities, modularities, times = iterative_searcher.run(num_runs=100)"
   ]
  },
  {
   "cell_type": "code",
   "execution_count": 25,
   "metadata": {},
   "outputs": [
    {
     "data": {
      "text/plain": [
       "array([0.44490358, 0.44490358, 0.44490358, 0.44490358, 0.44490358,\n",
       "       0.44490358, 0.44490358, 0.44490358, 0.44490358, 0.44490358,\n",
       "       0.44490358, 0.44490358, 0.44490358, 0.44490358, 0.44490358,\n",
       "       0.44490358, 0.44490358, 0.44490358, 0.44490358, 0.44490358,\n",
       "       0.44490358, 0.44490358, 0.44490358, 0.44490358, 0.44490358,\n",
       "       0.44490358, 0.44490358, 0.44490358, 0.44490358, 0.44490358,\n",
       "       0.44490358, 0.44490358, 0.44490358, 0.44490358, 0.44490358,\n",
       "       0.44490358, 0.44490358, 0.44490358, 0.44490358, 0.44490358,\n",
       "       0.44490358, 0.44490358, 0.44490358, 0.44490358, 0.44490358,\n",
       "       0.44490358, 0.44490358, 0.44490358, 0.44490358, 0.44490358,\n",
       "       0.44490358, 0.44490358, 0.44490358, 0.44490358, 0.44490358,\n",
       "       0.44490358, 0.44490358, 0.44490358, 0.44490358, 0.44490358,\n",
       "       0.44490358, 0.44490358, 0.44490358, 0.44490358, 0.44490358,\n",
       "       0.44490358, 0.44490358, 0.44490358, 0.44490358, 0.44490358,\n",
       "       0.44490358, 0.44490358, 0.44490358, 0.44490358, 0.44490358,\n",
       "       0.44490358, 0.44490358, 0.44490358, 0.44490358, 0.44490358,\n",
       "       0.44490358, 0.44490358, 0.44490358, 0.44490358, 0.44490358,\n",
       "       0.44490358, 0.44490358, 0.44490358, 0.44490358, 0.44490358,\n",
       "       0.44490358, 0.44490358, 0.44490358, 0.44490358, 0.44490358,\n",
       "       0.44490358, 0.44490358, 0.44490358, 0.44490358, 0.44490358])"
      ]
     },
     "execution_count": 25,
     "metadata": {},
     "output_type": "execute_result"
    }
   ],
   "source": [
    "modularities"
   ]
  },
  {
   "cell_type": "code",
   "execution_count": 26,
   "metadata": {},
   "outputs": [
    {
     "data": {
      "text/plain": [
       "array([0.00600195, 0.00100017, 0.00100207, 0.00099969, 0.        ,\n",
       "       0.00099969, 0.00100183, 0.00100088, 0.        , 0.00100136,\n",
       "       0.00100708, 0.00100088, 0.00100207, 0.00099707, 0.00099683,\n",
       "       0.00099969, 0.        , 0.00100231, 0.        , 0.00099611,\n",
       "       0.00100088, 0.        , 0.0010004 , 0.        , 0.00101447,\n",
       "       0.        , 0.        , 0.0010004 , 0.        , 0.00100017,\n",
       "       0.00100231, 0.00100017, 0.00100136, 0.00100017, 0.00100017,\n",
       "       0.        , 0.00100064, 0.        , 0.00099754, 0.00099993,\n",
       "       0.00099993, 0.00100398, 0.0010004 , 0.00100064, 0.        ,\n",
       "       0.00099969, 0.00100136, 0.0010004 , 0.00099897, 0.        ,\n",
       "       0.00100112, 0.        , 0.00099993, 0.00100064, 0.00099707,\n",
       "       0.        , 0.0010004 , 0.00099516, 0.00100088, 0.00099993,\n",
       "       0.00100231, 0.00100112, 0.00099969, 0.        , 0.00100064,\n",
       "       0.        , 0.00101209, 0.00097966, 0.        , 0.00099611,\n",
       "       0.00100136, 0.0009985 , 0.00100207, 0.00100064, 0.        ,\n",
       "       0.00100017, 0.        , 0.00099921, 0.00099921, 0.        ,\n",
       "       0.        , 0.00099874, 0.0010016 , 0.        , 0.00100064,\n",
       "       0.00099802, 0.00100112, 0.00099897, 0.        , 0.00100517,\n",
       "       0.        , 0.00100017, 0.        , 0.00100088, 0.        ,\n",
       "       0.0010004 , 0.        , 0.00100112, 0.        , 0.0010004 ])"
      ]
     },
     "execution_count": 26,
     "metadata": {},
     "output_type": "execute_result"
    }
   ],
   "source": [
    "times"
   ]
  },
  {
   "cell_type": "markdown",
   "metadata": {},
   "source": [
    "## Sample usecase"
   ]
  },
  {
   "cell_type": "markdown",
   "metadata": {},
   "source": [
    "- Comparison of use_clique_embedding=True and False on a graph of 90 nodes"
   ]
  },
  {
   "cell_type": "code",
   "execution_count": 27,
   "metadata": {},
   "outputs": [],
   "source": [
    "G = nx.powerlaw_cluster_graph(n=90, m=1, p=0.2)"
   ]
  },
  {
   "cell_type": "code",
   "execution_count": 28,
   "metadata": {},
   "outputs": [],
   "source": [
    "adv_sampler = AdvantageSampler(G, num_reads=100, use_clique_embedding=True)\n",
    "searcher = HierarchicalCommunitySearcher(adv_sampler)\n",
    "iterative_searcher = IterativeSearcher(searcher)"
   ]
  },
  {
   "cell_type": "code",
   "execution_count": 29,
   "metadata": {},
   "outputs": [
    {
     "name": "stderr",
     "output_type": "stream",
     "text": [
      "100%|██████████| 5/5 [02:49<00:00, 33.81s/it]"
     ]
    },
    {
     "name": "stdout",
     "output_type": "stream",
     "text": [
      "CPU times: total: 56.5 s\n",
      "Wall time: 2min 49s\n"
     ]
    },
    {
     "name": "stderr",
     "output_type": "stream",
     "text": [
      "\n"
     ]
    }
   ],
   "source": [
    "%time communities, modularities, times = iterative_searcher.run(num_runs=5, saving_path=dir+\"/adv-powerlaw_90\")"
   ]
  },
  {
   "cell_type": "code",
   "execution_count": 30,
   "metadata": {},
   "outputs": [
    {
     "data": {
      "text/plain": [
       "array([0.76833733, 0.7658124 , 0.76568615, 0.76757985, 0.77654337])"
      ]
     },
     "execution_count": 30,
     "metadata": {},
     "output_type": "execute_result"
    }
   ],
   "source": [
    "modularities"
   ]
  },
  {
   "cell_type": "code",
   "execution_count": 31,
   "metadata": {},
   "outputs": [
    {
     "data": {
      "text/plain": [
       "array([26.56346345, 33.01482844, 31.85231853, 31.55296373, 46.0393889 ])"
      ]
     },
     "execution_count": 31,
     "metadata": {},
     "output_type": "execute_result"
    }
   ],
   "source": [
    "times"
   ]
  },
  {
   "cell_type": "code",
   "execution_count": 32,
   "metadata": {},
   "outputs": [],
   "source": [
    "adv_sampler = AdvantageSampler(G, num_reads=100, use_clique_embedding=False)\n",
    "searcher = HierarchicalCommunitySearcher(adv_sampler)\n",
    "iterative_searcher = IterativeSearcher(searcher)"
   ]
  },
  {
   "cell_type": "code",
   "execution_count": 33,
   "metadata": {},
   "outputs": [
    {
     "name": "stderr",
     "output_type": "stream",
     "text": [
      "100%|██████████| 5/5 [09:26<00:00, 113.34s/it]"
     ]
    },
    {
     "name": "stdout",
     "output_type": "stream",
     "text": [
      "CPU times: total: 7min 10s\n",
      "Wall time: 9min 26s\n"
     ]
    },
    {
     "name": "stderr",
     "output_type": "stream",
     "text": [
      "\n"
     ]
    }
   ],
   "source": [
    "%time communities, modularities, times = iterative_searcher.run(num_runs=5, saving_path=dir+\"/adv-powerlaw_90\")"
   ]
  },
  {
   "cell_type": "code",
   "execution_count": 35,
   "metadata": {},
   "outputs": [
    {
     "data": {
      "text/plain": [
       "array([0.7439086 , 0.76164626, 0.7693473 , 0.75160965, 0.76448681])"
      ]
     },
     "execution_count": 35,
     "metadata": {},
     "output_type": "execute_result"
    }
   ],
   "source": [
    "modularities"
   ]
  },
  {
   "cell_type": "code",
   "execution_count": 36,
   "metadata": {},
   "outputs": [
    {
     "data": {
      "text/plain": [
       "array([162.53538895, 108.30013967,  99.48476887,  83.89677119,\n",
       "       112.45903277])"
      ]
     },
     "execution_count": 36,
     "metadata": {},
     "output_type": "execute_result"
    }
   ],
   "source": [
    "times"
   ]
  }
 ],
 "metadata": {
  "kernelspec": {
   "display_name": "qomm_env",
   "language": "python",
   "name": "python3"
  },
  "language_info": {
   "codemirror_mode": {
    "name": "ipython",
    "version": 3
   },
   "file_extension": ".py",
   "mimetype": "text/x-python",
   "name": "python",
   "nbconvert_exporter": "python",
   "pygments_lexer": "ipython3",
   "version": "3.10.14"
  }
 },
 "nbformat": 4,
 "nbformat_minor": 2
}
