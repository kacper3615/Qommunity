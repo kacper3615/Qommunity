{
  "cells": [
    {
      "cell_type": "markdown",
      "metadata": {
        "id": "eMq1C2pU6Z6M"
      },
      "source": [
        "# Undirected networks"
      ]
    },
    {
      "cell_type": "code",
      "execution_count": null,
      "metadata": {
        "id": "zXbzuHG2KEZB"
      },
      "outputs": [],
      "source": [
        "import numpy as np\n",
        "import networkx as nx\n",
        "import matplotlib.pylab as plt"
      ]
    },
    {
      "cell_type": "code",
      "execution_count": null,
      "metadata": {
        "colab": {
          "base_uri": "https://localhost:8080/",
          "height": 620
        },
        "id": "8pifXmFxKJWi",
        "outputId": "c1ad2506-c55a-486c-c126-afc41bc42c68"
      },
      "outputs": [
        {
          "data": {
            "text/plain": [
              "array([[0., 1., 1., 0., 0., 1.],\n",
              "       [1., 0., 1., 0., 0., 0.],\n",
              "       [1., 1., 0., 0., 0., 0.],\n",
              "       [0., 0., 0., 0., 1., 1.],\n",
              "       [0., 0., 0., 1., 0., 1.],\n",
              "       [1., 0., 0., 1., 1., 0.]])"
            ]
          },
          "execution_count": 2,
          "metadata": {},
          "output_type": "execute_result"
        },
        {
          "data": {
            "image/png": "[encoded data removed]",
            "text/plain": [
              "<Figure size 640x480 with 1 Axes>"
            ]
          },
          "metadata": {},
          "output_type": "display_data"
        }
      ],
      "source": [
        "# Create empty graph\n",
        "G = nx.Graph()\n",
        "\n",
        "# Resolution\n",
        "res = 1\n",
        "\n",
        "# Add edges to the graph (also adds nodes)\n",
        "G.add_edges_from([(0,1),(1,2),(0,2), (3,4),(4,5),(5,3), (5,0)])\n",
        "nx.draw(G, )\n",
        "c1 = [0,1,2]\n",
        "c2 = [3,4,5]\n",
        "c = c1+c2\n",
        "A_ij = nx.to_numpy_array(G, nodelist=c)\n",
        "A_ij"
      ]
    },
    {
      "cell_type": "code",
      "execution_count": null,
      "metadata": {
        "colab": {
          "base_uri": "https://localhost:8080/"
        },
        "id": "QTRrYiSbFt2T",
        "outputId": "8d578e78-cfaa-4aef-c4dc-2457f8471f84"
      },
      "outputs": [
        {
          "data": {
            "text/plain": [
              "DegreeView({0: 3, 1: 2, 2: 2, 3: 2, 4: 2, 5: 3})"
            ]
          },
          "execution_count": 3,
          "metadata": {},
          "output_type": "execute_result"
        }
      ],
      "source": [
        "0.5*(A_ij + A_ij.T)\n",
        "G.degree()"
      ]
    },
    {
      "cell_type": "code",
      "execution_count": null,
      "metadata": {
        "id": "tOohh-AXKSWV"
      },
      "outputs": [],
      "source": [
        "def degree_vector(graph) -> np.ndarray:\n",
        "    adj_matrix: np.ndarray = nx.to_numpy_array(graph)\n",
        "    degree_vector: np.ndarray = adj_matrix.sum(axis=1)\n",
        "    return degree_vector\n",
        "\n",
        "def within_community_degree_vector(graph, communities) -> np.ndarray:\n",
        "    adj_matrix: np.ndarray = nx.to_numpy_array(graph)\n",
        "    within_c_degree = []\n",
        "    for community in communities:\n",
        "      A = adj_matrix[community,:]\n",
        "      A = A[:,community]\n",
        "      within_c_degree.extend(A.sum(axis=0))\n",
        "    return np.array(within_c_degree, dtype=np.float64)\n",
        "\n",
        "def within_community_edges(graph, communities) -> np.ndarray:\n",
        "    g_in = within_community_degree_vector(graph, communities)\n",
        "    within_c_edges = np.zeros((len(communities),))\n",
        "    for c, community in enumerate(communities):\n",
        "      within_c_edges[c] = g_in[community].sum()/2\n",
        "    return within_c_edges\n",
        "\n",
        "def between_community_degree_vector(graph, communities) -> np.ndarray:\n",
        "    adj_matrix: np.ndarray = nx.to_numpy_array(graph)\n",
        "    between_c_degree = []\n",
        "    for community in communities:\n",
        "      mask = np.ones(adj_matrix.shape[0], dtype=bool)\n",
        "      mask[community] = False\n",
        "      A = adj_matrix[community,:]\n",
        "      A = A[:,mask]\n",
        "      between_c_degree.extend(A.sum(axis=1))\n",
        "    return np.array(between_c_degree, dtype=np.float64)\n",
        "\n",
        "def between_community_edges(graph, communities) -> np.ndarray:\n",
        "    g_between = between_community_degree_vector(graph, communities)\n",
        "    between_c_edges = np.zeros((len(communities),))\n",
        "    for c, community in enumerate(communities):\n",
        "      between_c_edges[c] = g_between[community].sum()\n",
        "    return between_c_edges"
      ]
    },
    {
      "cell_type": "code",
      "execution_count": null,
      "metadata": {
        "colab": {
          "base_uri": "https://localhost:8080/"
        },
        "id": "yLqDxJKVMASz",
        "outputId": "3ceede53-f133-4783-d427-e9b4308e712d"
      },
      "outputs": [
        {
          "name": "stdout",
          "output_type": "stream",
          "text": [
            "Communities of G:\n",
            " C1 =  [0, 1, 2] \n",
            " C2 =  [3, 4, 5]\n",
            "Degree vector:  [3. 2. 2. 2. 2. 3.]\n",
            "Within community degree: [2. 2. 2. 2. 2. 2.]\n",
            "Within community edges: [3. 3.]\n",
            "Between community degree: [1. 0. 0. 0. 0. 1.]\n",
            "Between community edges: [1. 1.]\n"
          ]
        }
      ],
      "source": [
        "print(f\"Communities of G:\\n C1 = \", c1, \"\\n C2 = \", c2)\n",
        "print(f\"Degree vector: \", degree_vector(G))\n",
        "print(f\"Within community degree:\", within_community_degree_vector(G, [c1,c2]))\n",
        "print(f\"Within community edges:\", within_community_edges(G, [c1,c2]))\n",
        "print(f\"Between community degree:\", between_community_degree_vector(G, [c1,c2]))\n",
        "print(f\"Between community edges:\", between_community_edges(G, [c1,c2]))"
      ]
    },
    {
      "cell_type": "code",
      "execution_count": null,
      "metadata": {
        "colab": {
          "base_uri": "https://localhost:8080/",
          "height": 516
        },
        "id": "qr6dV-wmVkmV",
        "outputId": "b7cfa361-b245-4977-9c1e-3a278ee80b5c"
      },
      "outputs": [
        {
          "data": {
            "image/png": "[encoded data removed]",
            "text/plain": [
              "<Figure size 640x480 with 1 Axes>"
            ]
          },
          "metadata": {},
          "output_type": "display_data"
        }
      ],
      "source": [
        "A_ij_bis = np.zeros((12,12))\n",
        "A_ij_bis[:6,:6] = A_ij\n",
        "A_ij_bis[6:12,6:12] = A_ij\n",
        "A_ij_bis[6,5] = 1\n",
        "A_ij_bis[0,-1] = 1\n",
        "\n",
        "c1 = [0,1,2]\n",
        "c2 = [3,4,5]\n",
        "c3 = [6,7,8]\n",
        "c4 = [9,10,11]\n",
        "c = c1+c2+c3+c4\n",
        "G_bis = nx.from_numpy_array(A_ij_bis)\n",
        "nx.draw(G_bis)"
      ]
    },
    {
      "cell_type": "code",
      "execution_count": null,
      "metadata": {
        "colab": {
          "base_uri": "https://localhost:8080/"
        },
        "id": "4_CJjQrpZ940",
        "outputId": "c51a4848-80aa-4925-efa8-827918a1e30e"
      },
      "outputs": [
        {
          "name": "stdout",
          "output_type": "stream",
          "text": [
            "Communities of G:\n",
            " C1 =  [0, 1, 2] \n",
            " C2 =  [3, 4, 5] \n",
            " C3 =  [6, 7, 8] \n",
            " C4 =  [9, 10, 11]\n",
            "Degree vector:  [4. 2. 2. 2. 2. 4. 4. 2. 2. 2. 2. 4.]\n",
            "Within community degree: [2. 2. 2. 2. 2. 2. 2. 2. 2. 2. 2. 2.]\n",
            "Within community edges: [3. 3. 3. 3.]\n",
            "Between community degree: [2. 0. 0. 0. 0. 2. 2. 0. 0. 0. 0. 2.]\n",
            "Between community edges: [2. 2. 2. 2.]\n"
          ]
        }
      ],
      "source": [
        "print(f\"Communities of G:\\n C1 = \", c1, \"\\n C2 = \", c2, \"\\n C3 = \", c3, \"\\n C4 = \", c4)\n",
        "print(f\"Degree vector: \", degree_vector(G_bis))\n",
        "print(f\"Within community degree:\", within_community_degree_vector(G_bis, [c1,c2,c3,c4]))\n",
        "print(f\"Within community edges:\", within_community_edges(G_bis, [c1,c2,c3,c4]))\n",
        "print(f\"Between community degree:\", between_community_degree_vector(G_bis, [c1,c2,c3,c4]))\n",
        "print(f\"Between community edges:\", between_community_edges(G_bis, [c1,c2,c3,c4]))"
      ]
    },
    {
      "cell_type": "code",
      "execution_count": null,
      "metadata": {
        "colab": {
          "base_uri": "https://localhost:8080/",
          "height": 516
        },
        "id": "GUvePuoDab1h",
        "outputId": "804272a1-58f3-4d3e-9197-7f536f3e4d15"
      },
      "outputs": [
        {
          "data": {
            "image/png": "[encoded data removed]",
            "text/plain": [
              "<Figure size 640x480 with 1 Axes>"
            ]
          },
          "metadata": {},
          "output_type": "display_data"
        }
      ],
      "source": [
        "A_ij_bis_bis = np.zeros((12,12))\n",
        "A_ij_bis_bis[:6,:6] = A_ij\n",
        "A_ij_bis_bis[6:12,6:12] = A_ij\n",
        "A_ij_bis_bis[6,5] = 1\n",
        "A_ij_bis_bis[5,6] = 1\n",
        "A_ij_bis_bis[0,-1] = 1\n",
        "A_ij_bis_bis[-1,0] = 1\n",
        "\n",
        "# Extra edge\n",
        "A_ij_bis_bis[0,3] = 1\n",
        "A_ij_bis_bis[3,0] = 1\n",
        "\n",
        "c1 = [0,1,2]\n",
        "c2 = [3,4,5]\n",
        "c3 = [6,7,8]\n",
        "c4 = [9,10,11]\n",
        "c = c1+c2+c3+c4\n",
        "G_bis_bis = nx.from_numpy_array(A_ij_bis_bis)\n",
        "nx.draw(G_bis_bis, with_labels = True)"
      ]
    },
    {
      "cell_type": "code",
      "execution_count": null,
      "metadata": {
        "colab": {
          "base_uri": "https://localhost:8080/"
        },
        "id": "1P9lqBAUa9_B",
        "outputId": "81925d9a-27a3-4271-bcb5-80d8836c6c76"
      },
      "outputs": [
        {
          "name": "stdout",
          "output_type": "stream",
          "text": [
            "Communities of G:\n",
            " C1 =  [0, 1, 2] \n",
            " C2 =  [3, 4, 5] \n",
            " C3 =  [6, 7, 8] \n",
            " C4 =  [9, 10, 11]\n",
            "Degree vector:  [5. 2. 2. 3. 2. 4. 4. 2. 2. 2. 2. 4.]\n",
            "Within community degree: [2. 2. 2. 2. 2. 2. 2. 2. 2. 2. 2. 2.]\n",
            "Within community edges: [3. 3. 3. 3.]\n",
            "Between community degree: [3. 0. 0. 1. 0. 2. 2. 0. 0. 0. 0. 2.]\n",
            "Between community edges: [3. 3. 2. 2.]\n"
          ]
        }
      ],
      "source": [
        "print(f\"Communities of G:\\n C1 = \", c1, \"\\n C2 = \", c2, \"\\n C3 = \", c3, \"\\n C4 = \", c4)\n",
        "print(f\"Degree vector: \", degree_vector(G_bis_bis))\n",
        "print(f\"Within community degree:\", within_community_degree_vector(G_bis_bis, [c1,c2,c3,c4]))\n",
        "print(f\"Within community edges:\", within_community_edges(G_bis_bis, [c1,c2,c3,c4]))\n",
        "print(f\"Between community degree:\", between_community_degree_vector(G_bis_bis, [c1,c2,c3,c4]))\n",
        "print(f\"Between community edges:\", between_community_edges(G_bis_bis, [c1,c2,c3,c4]))"
      ]
    },
    {
      "cell_type": "code",
      "execution_count": null,
      "metadata": {
        "id": "arxPGna2abUJ"
      },
      "outputs": [],
      "source": [
        "def modularity_matrix(graph, resolution: float=1) -> np.ndarray:\n",
        "    adj_matrix: np.ndarray = nx.to_numpy_array(graph)\n",
        "    degree_matrix: np.ndarray = degree_vector(graph)\n",
        "    m: int = np.sum(degree_matrix) # This is 2m in reality\n",
        "    return (                       # np.outer already contains a 1/2 factor\n",
        "        adj_matrix\n",
        "        - resolution * np.outer(degree_matrix, degree_matrix) / m\n",
        "    )\n",
        "\n",
        "def generalized_modularity_matrix(graph, community, resolution: float=1) -> np.ndarray:\n",
        "    community = list(community)\n",
        "    # Modularity matrix computed on the full network\n",
        "    full_B = modularity_matrix(graph,resolution)\n",
        "    # Elements B_ij inside the community\n",
        "    B_bis = full_B[community,:]\n",
        "    B_community = B_bis[:,community]\n",
        "    # Summation over nodes inside the community (i.e., right term)\n",
        "    B_i = np.sum(B_community, axis=1)\n",
        "    delta = np.eye(len(community), dtype=np.int32)\n",
        "    # Generalized modularity matrix\n",
        "    return B_community - delta*B_i"
      ]
    },
    {
      "cell_type": "markdown",
      "metadata": {
        "id": "q-HDwjH8dCZX"
      },
      "source": [
        "## Properties of the generalized modularity matrix"
      ]
    },
    {
      "cell_type": "markdown",
      "metadata": {
        "id": "Z18WL67Xd5j7"
      },
      "source": [
        "### Full graph"
      ]
    },
    {
      "cell_type": "code",
      "execution_count": null,
      "metadata": {
        "colab": {
          "base_uri": "https://localhost:8080/"
        },
        "id": "gnMF806HfFng",
        "outputId": "5e3da00b-2704-461d-fb16-03f78c98d83e"
      },
      "outputs": [
        {
          "name": "stdout",
          "output_type": "stream",
          "text": [
            "Sum of the elements of each row:\n",
            " [0.00000000e+00 1.77635684e-15 1.77635684e-15 1.77635684e-15\n",
            " 3.55271368e-15 0.00000000e+00]\n",
            "Sum of the elements of each column:\n",
            " [0.00000000e+00 1.77635684e-15 1.77635684e-15 1.77635684e-15\n",
            " 3.55271368e-15 0.00000000e+00]\n",
            "Sum of all the elements:\n",
            " 0.0\n"
          ]
        }
      ],
      "source": [
        "# Obtain B_g for the whole graph\n",
        "resolution = np.random.randint(0,50)\n",
        "B_g = generalized_modularity_matrix(G, c1+c2, resolution=resolution)\n",
        "print(f\"Sum of the elements of each row:\\n\", B_g.sum(axis=1))\n",
        "print(f\"Sum of the elements of each column:\\n\", B_g.sum(axis=0))\n",
        "print(f\"Sum of all the elements:\\n\", B_g.sum())"
      ]
    },
    {
      "cell_type": "code",
      "execution_count": null,
      "metadata": {
        "colab": {
          "base_uri": "https://localhost:8080/"
        },
        "id": "1CWtMqSgfFcX",
        "outputId": "1bf7ac36-c598-451a-e0d7-193b6ec0e24e"
      },
      "outputs": [
        {
          "name": "stdout",
          "output_type": "stream",
          "text": [
            "Sum of the elements of each row:\n",
            " [0. 0. 0. 0. 0. 0. 0. 0. 0. 0. 0. 0.]\n",
            "Sum of the elements of each column:\n",
            " [0. 0. 0. 0. 0. 0. 0. 0. 0. 0. 0. 0.]\n",
            "Sum of all the elements:\n",
            " 0.0\n"
          ]
        }
      ],
      "source": [
        "# Obtain B_g for the whole graph\n",
        "resolution = np.random.randint(0,50)\n",
        "B_g = generalized_modularity_matrix(G_bis, c1+c2+c3+c4, resolution=resolution)\n",
        "print(f\"Sum of the elements of each row:\\n\", B_g.sum(axis=1))\n",
        "print(f\"Sum of the elements of each column:\\n\", B_g.sum(axis=0))\n",
        "print(f\"Sum of all the elements:\\n\", B_g.sum())"
      ]
    },
    {
      "cell_type": "code",
      "execution_count": null,
      "metadata": {
        "colab": {
          "base_uri": "https://localhost:8080/"
        },
        "id": "RktCq9O-d3wY",
        "outputId": "296311a2-c646-42a6-8698-876ed461cc8c"
      },
      "outputs": [
        {
          "name": "stdout",
          "output_type": "stream",
          "text": [
            "Sum of the elements of each row:\n",
            " [-2.22044605e-16  3.33066907e-16  3.33066907e-16  1.11022302e-15\n",
            "  1.22124533e-15  6.66133815e-16  8.88178420e-16  1.22124533e-15\n",
            "  1.22124533e-15  1.22124533e-15  1.11022302e-15  1.77635684e-15]\n",
            "Sum of the elements of each column:\n",
            " [-1.11022302e-15 -5.55111512e-16 -5.55111512e-16  2.22044605e-16\n",
            "  3.33066907e-16  6.66133815e-16  8.88178420e-16  3.33066907e-16\n",
            "  3.33066907e-16  3.33066907e-16  2.22044605e-16  0.00000000e+00]\n",
            "Sum of all the elements:\n",
            " 6.217248937900877e-15\n"
          ]
        }
      ],
      "source": [
        "# Obtain B_g for the whole graph\n",
        "resolution = np.random.randint(0,50)\n",
        "B_g = generalized_modularity_matrix(G_bis_bis, c1+c2+c3+c4, resolution=resolution)\n",
        "print(f\"Sum of the elements of each row:\\n\", B_g.sum(axis=1))\n",
        "print(f\"Sum of the elements of each column:\\n\", B_g.sum(axis=0))\n",
        "print(f\"Sum of all the elements:\\n\", B_g.sum())"
      ]
    },
    {
      "cell_type": "markdown",
      "metadata": {
        "id": "tAdiXWZreEHy"
      },
      "source": [
        "### For each community"
      ]
    },
    {
      "cell_type": "code",
      "execution_count": null,
      "metadata": {
        "colab": {
          "base_uri": "https://localhost:8080/"
        },
        "id": "gn6yx8wefD0z",
        "outputId": "058e3a8d-deba-4df6-ff48-118bf8c10f4d"
      },
      "outputs": [
        {
          "name": "stdout",
          "output_type": "stream",
          "text": [
            "Community:  [0, 1, 2]\n",
            "Sum of the elements of each row:\n",
            " [ 3.55271368e-15 -3.55271368e-15 -3.55271368e-15]\n",
            "Sum of the elements of each column:\n",
            " [ 3.55271368e-15 -3.55271368e-15 -3.55271368e-15]\n",
            "Sum of all the elements:\n",
            " -3.552713678800501e-15\n",
            "---------------------------------------------------------\n",
            "Community:  [3, 4, 5]\n",
            "Sum of the elements of each row:\n",
            " [ 3.55271368e-15 -3.55271368e-15 -3.55271368e-15]\n",
            "Sum of the elements of each column:\n",
            " [ 3.55271368e-15 -3.55271368e-15 -3.55271368e-15]\n",
            "Sum of all the elements:\n",
            " -3.552713678800501e-15\n",
            "---------------------------------------------------------\n",
            "Community:  [6, 7, 8]\n",
            "Sum of the elements of each row:\n",
            " [0. 0. 0.]\n",
            "Sum of the elements of each column:\n",
            " [0. 0. 0.]\n",
            "Sum of all the elements:\n",
            " 0.0\n",
            "---------------------------------------------------------\n",
            "Community:  [9, 10, 11]\n",
            "Sum of the elements of each row:\n",
            " [0. 0. 0.]\n",
            "Sum of the elements of each column:\n",
            " [0. 0. 0.]\n",
            "Sum of all the elements:\n",
            " 0.0\n",
            "---------------------------------------------------------\n"
          ]
        }
      ],
      "source": [
        "# Obtain B_g for each community\n",
        "resolution = np.random.randint(0,50)\n",
        "B_gs = [generalized_modularity_matrix(G_bis_bis, cc, resolution=resolution) for cc in [c1,c2,c3,c4]]\n",
        "\n",
        "for i, c in zip(range(len(B_gs)), [c1,c2,c3,c4]):\n",
        "  print(f\"Community: \", c)\n",
        "  print(f\"Sum of the elements of each row:\\n\", B_gs[i].sum(axis=1))\n",
        "  print(f\"Sum of the elements of each column:\\n\", B_gs[i].sum(axis=0))\n",
        "  print(f\"Sum of all the elements:\\n\", B_gs[i].sum())\n",
        "  print(\"---------------------------------------------------------\")"
      ]
    },
    {
      "cell_type": "code",
      "execution_count": null,
      "metadata": {
        "colab": {
          "base_uri": "https://localhost:8080/"
        },
        "id": "3EiPDpAQdFO0",
        "outputId": "e3dfaa33-6d56-4e8e-a5ce-6e851ca737b6"
      },
      "outputs": [
        {
          "name": "stdout",
          "output_type": "stream",
          "text": [
            "Community:  [0, 1, 2]\n",
            "Sum of the elements of each row:\n",
            " [0. 0. 0.]\n",
            "Sum of the elements of each column:\n",
            " [0. 0. 0.]\n",
            "Sum of all the elements:\n",
            " 0.0\n",
            "---------------------------------------------------------\n",
            "Community:  [3, 4, 5]\n",
            "Sum of the elements of each row:\n",
            " [0. 0. 0.]\n",
            "Sum of the elements of each column:\n",
            " [0. 0. 0.]\n",
            "Sum of all the elements:\n",
            " 0.0\n",
            "---------------------------------------------------------\n",
            "Community:  [6, 7, 8]\n",
            "Sum of the elements of each row:\n",
            " [0. 0. 0.]\n",
            "Sum of the elements of each column:\n",
            " [0. 0. 0.]\n",
            "Sum of all the elements:\n",
            " 0.0\n",
            "---------------------------------------------------------\n",
            "Community:  [9, 10, 11]\n",
            "Sum of the elements of each row:\n",
            " [0. 0. 0.]\n",
            "Sum of the elements of each column:\n",
            " [0. 0. 0.]\n",
            "Sum of all the elements:\n",
            " 0.0\n",
            "---------------------------------------------------------\n"
          ]
        }
      ],
      "source": [
        "# Obtain B_g for each community\n",
        "resolution = np.random.randint(0,50)\n",
        "B_gs = [generalized_modularity_matrix(G_bis, cc, resolution=resolution) for cc in [c1,c2,c3,c4]]\n",
        "\n",
        "for i, c in zip(range(len(B_gs)), [c1,c2,c3,c4]):\n",
        "  print(f\"Community: \", c)\n",
        "  print(f\"Sum of the elements of each row:\\n\", B_gs[i].sum(axis=1))\n",
        "  print(f\"Sum of the elements of each column:\\n\", B_gs[i].sum(axis=0))\n",
        "  print(f\"Sum of all the elements:\\n\", B_gs[i].sum())\n",
        "  print(\"---------------------------------------------------------\")"
      ]
    },
    {
      "cell_type": "code",
      "execution_count": null,
      "metadata": {
        "colab": {
          "base_uri": "https://localhost:8080/"
        },
        "id": "c1cF_YvUwMFS",
        "outputId": "f925cc6c-7daa-455f-cc2c-d4c0e44aa544"
      },
      "outputs": [
        {
          "name": "stdout",
          "output_type": "stream",
          "text": [
            "Community:  [0, 1, 2]\n",
            "Sum of the elements of each row:\n",
            " [0. 0. 0.]\n",
            "Sum of the elements of each column:\n",
            " [0. 0. 0.]\n",
            "Sum of all the elements:\n",
            " 0.0\n",
            "---------------------------------------------------------\n",
            "Community:  [3, 4, 5]\n",
            "Sum of the elements of each row:\n",
            " [0. 0. 0.]\n",
            "Sum of the elements of each column:\n",
            " [0. 0. 0.]\n",
            "Sum of all the elements:\n",
            " 0.0\n",
            "---------------------------------------------------------\n"
          ]
        }
      ],
      "source": [
        "# Obtain B_g for each community\n",
        "resolution = np.random.randint(0,50)\n",
        "B_gs = [generalized_modularity_matrix(G, cc, resolution=resolution) for cc in [c1,c2]]\n",
        "\n",
        "for i, c in zip(range(len(B_gs)), [c1,c2]):\n",
        "  print(f\"Community: \", c)\n",
        "  print(f\"Sum of the elements of each row:\\n\", B_gs[i].sum(axis=1))\n",
        "  print(f\"Sum of the elements of each column:\\n\", B_gs[i].sum(axis=0))\n",
        "  print(f\"Sum of all the elements:\\n\", B_gs[i].sum())\n",
        "  print(\"---------------------------------------------------------\")"
      ]
    },
    {
      "cell_type": "markdown",
      "metadata": {
        "id": "jxLo4uKQZNG3"
      },
      "source": [
        "## Let's implement the QUBO function for $\\textbf{B}^{g}$\n",
        "\n",
        "Due to the properties computed above, the QUBO function to optimize is quadratic on both variables. The explicit linear terms that appeared in the simpler case of diving a network in 2 communities no longer appear explicitly and are, instead, contained in the quadratic function that follows:\n",
        "\n",
        "$\\Delta Q = \\frac{1}{m} \\sum_{i,j \\in g} B_{ij}^{g} x_i x_j$,\n",
        "\n",
        "where $x_i=\\{0,1\\}$ for every node in the graph."
      ]
    },
    {
      "cell_type": "code",
      "execution_count": null,
      "metadata": {
        "id": "H3Xf6d9rbIJp"
      },
      "outputs": [],
      "source": [
        "def two_communities_energy_state(state, modularity, degrees, m, resolution=1):\n",
        "  state = np.array(state, dtype=np.int16)\n",
        "  degrees = np.array(degrees, dtype=np.float32)\n",
        "  Q = -(1/m)*(state @ modularity @ state.T) + ((1-resolution)/m)*(degrees@state.T) - (1-resolution)/2\n",
        "  return Q\n",
        "\n",
        "def hierarchical_division_energy_state(state, B_g, m, resolution=1):\n",
        "  state = np.array(state, dtype=np.int16)\n",
        "  Q = -(1/m)*(state @ B_g @ state.T)\n",
        "  return Q"
      ]
    },
    {
      "cell_type": "code",
      "execution_count": null,
      "metadata": {
        "id": "aZp8KnWbcG9B"
      },
      "outputs": [],
      "source": [
        "resolution = 1\n",
        "KARATE = nx.karate_club_graph()\n",
        "# First binary division obtained by the Advantage solver\n",
        "c_2_L = [[0, 1, 2, 3, 4, 5, 6, 7, 10, 11, 12, 13, 16, 17, 19, 21], [8, 9, 14, 15, 18, 20, 22, 23, 24, 25, 26, 27, 28, 29, 30, 31, 32, 33]]\n",
        "B_KARATE = modularity_matrix(KARATE, resolution=resolution)        # Full modularity matrix\n",
        "_, degrees_KARATE = zip(*dict(nx.degree(KARATE)).items())    # degree vector\n",
        "m_KARATE = 0.5*np.sum(degrees_KARATE)                        # total number of edges\n",
        "\n",
        "# Nodes belonging to each one of the two communities\n",
        "c1, c2 = c_2_L\n",
        "# Entries of the mod matix that contribute to c1\n",
        "B_KARATE_1 = generalized_modularity_matrix(KARATE, c1, resolution=resolution)\n",
        "degrees_KARATE_1 = np.array(degrees_KARATE, dtype=np.int32)[c1]\n",
        "# Entries of the mod matix that contribute to c2\n",
        "B_KARATE_2 = generalized_modularity_matrix(KARATE, c2, resolution=resolution)\n",
        "degrees_KARATE_2 = np.array(degrees_KARATE, dtype=np.int32)[c2]\n",
        "\n",
        "# Compute all the possible states\n",
        "import itertools\n",
        "qbits_1, qbits_2 = len(c1), len(c2)\n",
        "states_1, states_2 = [], []\n",
        "for x in itertools.product(range(2), repeat=qbits_1):\n",
        "  states_1.append(x)\n",
        "assert len(states_1) == 2**qbits_1\n",
        "for x in itertools.product(range(2), repeat=qbits_2):\n",
        "  states_2.append(x)\n",
        "assert len(states_2) == 2**qbits_2"
      ]
    },
    {
      "cell_type": "code",
      "execution_count": null,
      "metadata": {
        "colab": {
          "base_uri": "https://localhost:8080/"
        },
        "id": "1KoADjIzdhRo",
        "outputId": "476f39db-96b7-4910-88db-0fcc8fd73b68"
      },
      "outputs": [
        {
          "name": "stdout",
          "output_type": "stream",
          "text": [
            "Partition of c1:  (0, 0, 0, 0, 1, 1, 1, 0, 1, 0, 0, 0, 1, 0, 0, 0)  and energy:  -0.09149184149184149\n",
            "Partition of c2:  (1, 1, 1, 1, 1, 1, 1, 0, 0, 0, 1, 0, 0, 1, 1, 0, 1, 1)  and energy:  -0.030747030747030807\n"
          ]
        }
      ],
      "source": [
        "# Using the new formulation for all gammas\n",
        "Energies1, Energies2 = {}, {}\n",
        "for s in states_1:\n",
        "  Energies1[s] = hierarchical_division_energy_state(s, B_KARATE_1, m_KARATE, resolution=resolution)\n",
        "for s in states_2:\n",
        "  Energies2[s] = hierarchical_division_energy_state(s, B_KARATE_2, m_KARATE, resolution=resolution)\n",
        "\n",
        "ground_state1, ground_energy1 = min(Energies1, key=Energies1.get), min(Energies1.values())\n",
        "ground_state2, ground_energy2 = min(Energies2, key=Energies2.get), min(Energies2.values())\n",
        "c11 = {c1[k] for k,v in enumerate(ground_state1) if v == 0}\n",
        "c12 = {c1[k] for k,v in enumerate(ground_state1) if v == 1}\n",
        "c21 = {c2[k] for k,v in enumerate(ground_state2) if v == 0}\n",
        "c22 = {c2[k] for k,v in enumerate(ground_state2) if v == 1}\n",
        "print(\"Partition of c1: \", ground_state1, \" and energy: \", ground_energy1)\n",
        "print(\"Partition of c2: \", ground_state2, \" and energy: \", ground_energy2)"
      ]
    },
    {
      "cell_type": "code",
      "execution_count": null,
      "metadata": {
        "colab": {
          "base_uri": "https://localhost:8080/"
        },
        "id": "hwTx5w50eUZt",
        "outputId": "7a2804ca-ef56-4572-ad77-f1a16eb14d04"
      },
      "outputs": [
        {
          "name": "stdout",
          "output_type": "stream",
          "text": [
            "Partition of c1:  (0, 0, 0, 0, 1, 1, 1, 0, 1, 0, 0, 0, 1, 0, 0, 0)  and energy:  -0.09149184149184149\n",
            "Partition of c2:  (1, 1, 1, 1, 1, 1, 1, 0, 0, 0, 1, 0, 0, 1, 1, 0, 1, 1)  and energy:  -0.030747030747030807\n"
          ]
        }
      ],
      "source": [
        "# Using the formula for resolution equalt to 1\n",
        "Energies1, Energies2 = {}, {}\n",
        "for s in states_1:\n",
        "  Energies1[s] = two_communities_energy_state(s, B_KARATE_1, degrees_KARATE_1, m_KARATE, resolution=resolution)\n",
        "for s in states_2:\n",
        "  Energies2[s] = two_communities_energy_state(s, B_KARATE_2, degrees_KARATE_2, m_KARATE, resolution=resolution)\n",
        "\n",
        "ground_state1, ground_energy1 = min(Energies1, key=Energies1.get), min(Energies1.values())\n",
        "ground_state2, ground_energy2 = min(Energies2, key=Energies2.get), min(Energies2.values())\n",
        "c11 = {c1[k] for k,v in enumerate(ground_state1) if v == 0}\n",
        "c12 = {c1[k] for k,v in enumerate(ground_state1) if v == 1}\n",
        "c21 = {c2[k] for k,v in enumerate(ground_state2) if v == 0}\n",
        "c22 = {c2[k] for k,v in enumerate(ground_state2) if v == 1}\n",
        "print(\"Partition of c1: \", ground_state1, \" and energy: \", ground_energy1)\n",
        "print(\"Partition of c2: \", ground_state2, \" and energy: \", ground_energy2)"
      ]
    },
    {
      "cell_type": "markdown",
      "metadata": {
        "id": "TceFBvA1eiw_"
      },
      "source": [
        "They are equivalent, as we hoped for. That means, that with the generalized modularity matrix, we do not need to account for any explicit linear terms!!"
      ]
    },
    {
      "cell_type": "markdown",
      "metadata": {
        "id": "dfftUUoS30jL"
      },
      "source": [
        "# Directed networks\n"
      ]
    },
    {
      "cell_type": "code",
      "execution_count": null,
      "metadata": {
        "id": "wdQwu-BV4Ear"
      },
      "outputs": [],
      "source": [
        "import numpy as np\n",
        "import networkx as nx\n",
        "import matplotlib.pylab as plt"
      ]
    },
    {
      "cell_type": "code",
      "execution_count": null,
      "metadata": {
        "colab": {
          "base_uri": "https://localhost:8080/",
          "height": 516
        },
        "id": "Fs-FcSCs32iS",
        "outputId": "fe4c6e90-a84b-450e-88ba-ed6835882d89"
      },
      "outputs": [
        {
          "data": {
            "image/png": "[encoded data removed]",
            "text/plain": [
              "<Figure size 640x480 with 1 Axes>"
            ]
          },
          "metadata": {},
          "output_type": "display_data"
        }
      ],
      "source": [
        "# Create empty graph\n",
        "G = nx.DiGraph()\n",
        "\n",
        "# Resolution\n",
        "res = 1\n",
        "\n",
        "# Add edges to the graph (also adds nodes)\n",
        "G.add_edges_from([(0,1),(1,2),(2,0), (3,4),(4,5),(5,3), (0,4), (4,0)])\n",
        "nx.draw(G, with_labels = True)\n",
        "c1 = [0,1,2]\n",
        "c2 = [3,4,5]\n",
        "c = c1+c2\n",
        "A_ij = nx.to_numpy_array(G, nodelist=c)"
      ]
    },
    {
      "cell_type": "code",
      "execution_count": null,
      "metadata": {
        "colab": {
          "base_uri": "https://localhost:8080/",
          "height": 516
        },
        "id": "M96Grd6Nxjbd",
        "outputId": "d40df89e-982c-4d60-bc4d-1aa29be0fecc"
      },
      "outputs": [
        {
          "data": {
            "image/png": "[encoded data removed]",
            "text/plain": [
              "<Figure size 640x480 with 1 Axes>"
            ]
          },
          "metadata": {},
          "output_type": "display_data"
        }
      ],
      "source": [
        "# Slightly more complicated graph\n",
        "A_ij_bis = np.zeros((12,12))\n",
        "A_ij_bis[:6,:6] = A_ij\n",
        "A_ij_bis[6:,6:] = A_ij\n",
        "A_ij_bis[6,4] = 1\n",
        "A_ij_bis[4,6] = 1\n",
        "A_ij_bis[0,-1] = 1\n",
        "A_ij_bis[-1,0] = 1\n",
        "A_ij_bis[6,-1] = 1\n",
        "A_ij_bis[-1,6] = 1\n",
        "A_ij_bis[6,10] = 0\n",
        "A_ij_bis[10,6] = 0\n",
        "\n",
        "c3 = [6,7,8]\n",
        "c4 = [9,10,11]\n",
        "c = c1+c2+c3+c4\n",
        "G_bis = nx.from_numpy_array(A_ij_bis, create_using=nx.DiGraph)\n",
        "nx.draw(G_bis, with_labels = True)"
      ]
    },
    {
      "cell_type": "code",
      "execution_count": null,
      "metadata": {
        "id": "tyAI_H-K4lZd"
      },
      "outputs": [],
      "source": [
        "def in_degree_vector(graph) -> np.ndarray:\n",
        "    adj_matrix: np.ndarray = nx.to_numpy_array(graph)\n",
        "    in_degree_vector: np.ndarray = adj_matrix.sum(axis=1)\n",
        "    return in_degree_vector\n",
        "\n",
        "def out_degree_vector(graph) -> np.ndarray:\n",
        "    adj_matrix: np.ndarray = nx.to_numpy_array(graph)\n",
        "    out_degree_vector: np.ndarray = adj_matrix.sum(axis=0)\n",
        "    return out_degree_vector\n",
        "\n",
        "def directed_modularity_matrix(graph, resolution: float=1) -> np.ndarray:\n",
        "    adj_matrix: np.ndarray = nx.to_numpy_array(graph)\n",
        "    in_degree: np.ndarray = in_degree_vector(graph)\n",
        "    out_degree: np.ndarray = out_degree_vector(graph)\n",
        "    m: int = np.sum(adj_matrix) # We sum over A instead of over the degrees!!!\n",
        "    return (\n",
        "        adj_matrix\n",
        "        - resolution * np.outer(in_degree, out_degree) / m\n",
        "    )\n",
        "\n",
        "def directed_generalized_modularity_matrix(graph, community, resolution: float=1, return_B: bool=False) -> np.ndarray:\n",
        "    community = list(community)\n",
        "    # Modularity matrix computed on the full network\n",
        "    full_B = directed_modularity_matrix(graph,resolution)\n",
        "    # Elements B_ij inside the community\n",
        "    B_bis = full_B[community,:]\n",
        "    B_community = B_bis[:,community]\n",
        "    # Summation over nodes inside the community (i.e., right term)\n",
        "    B_i = np.sum(B_community, axis=1)\n",
        "    delta = np.eye(len(community), dtype=np.int32)\n",
        "    # Generalized modularity matrix\n",
        "    if return_B:\n",
        "      return B_community - delta*B_i, B_community\n",
        "    else:\n",
        "      return B_community - delta*B_i"
      ]
    },
    {
      "cell_type": "markdown",
      "metadata": {
        "id": "PdjfGb4qwgdR"
      },
      "source": [
        "## Properties of the directed generalized modularity matrix"
      ]
    },
    {
      "cell_type": "markdown",
      "metadata": {
        "id": "eFshjGiD68OM"
      },
      "source": [
        "### Full graph"
      ]
    },
    {
      "cell_type": "code",
      "execution_count": null,
      "metadata": {
        "colab": {
          "base_uri": "https://localhost:8080/"
        },
        "id": "8Tftpb-Vwk4A",
        "outputId": "3c59bc8a-a89f-421e-cc1a-d9a433dfdf8a"
      },
      "outputs": [
        {
          "name": "stdout",
          "output_type": "stream",
          "text": [
            "Sum of the elements of each row:\n",
            " [0. 0. 0. 0. 0. 0.]\n",
            "Sum of the elements of each column:\n",
            " [0. 0. 0. 0. 0. 0.]\n",
            "Sum of all the elements:\n",
            " 0.0\n"
          ]
        }
      ],
      "source": [
        "# Obtain B_g for the whole graph\n",
        "resolution = np.random.randint(0,50)\n",
        "B_g = directed_generalized_modularity_matrix(G, c1+c2, resolution=resolution)\n",
        "print(f\"Sum of the elements of each row:\\n\", B_g.sum(axis=1))\n",
        "print(f\"Sum of the elements of each column:\\n\", B_g.sum(axis=0))\n",
        "print(f\"Sum of all the elements:\\n\", B_g.sum())"
      ]
    },
    {
      "cell_type": "markdown",
      "metadata": {
        "id": "iJLo2hRC6-oa"
      },
      "source": [
        "### For each community"
      ]
    },
    {
      "cell_type": "code",
      "execution_count": null,
      "metadata": {
        "colab": {
          "base_uri": "https://localhost:8080/"
        },
        "id": "Zc1mtov_zFH1",
        "outputId": "a7d5ec31-0afb-4d62-fe84-8763ac78f931"
      },
      "outputs": [
        {
          "name": "stdout",
          "output_type": "stream",
          "text": [
            "Community:  [0, 1, 2]\n",
            "Sum of the elements of each row:\n",
            " [0. 0. 0.]\n",
            "Sum of the elements of each column:\n",
            " [0. 0. 0.]\n",
            "Sum of all the elements:\n",
            " 0.0\n",
            "---------------------------------------------------------\n",
            "Community:  [3, 4, 5]\n",
            "Sum of the elements of each row:\n",
            " [0. 0. 0.]\n",
            "Sum of the elements of each column:\n",
            " [0. 0. 0.]\n",
            "Sum of all the elements:\n",
            " 4.440892098500626e-16\n",
            "---------------------------------------------------------\n",
            "Community:  [6, 7, 8]\n",
            "Sum of the elements of each row:\n",
            " [0. 0. 0.]\n",
            "Sum of the elements of each column:\n",
            " [0. 0. 0.]\n",
            "Sum of all the elements:\n",
            " 0.0\n",
            "---------------------------------------------------------\n",
            "Community:  [9, 10, 11]\n",
            "Sum of the elements of each row:\n",
            " [0. 0. 0.]\n",
            "Sum of the elements of each column:\n",
            " [0. 0. 0.]\n",
            "Sum of all the elements:\n",
            " 8.881784197001252e-16\n",
            "---------------------------------------------------------\n",
            "Community:  [0, 1, 2, 3, 4, 5]\n",
            "Sum of the elements of each row:\n",
            " [ 8.88178420e-16  1.33226763e-15  1.33226763e-15  1.33226763e-15\n",
            " -8.88178420e-16  0.00000000e+00]\n",
            "Sum of the elements of each column:\n",
            " [ 8.88178420e-16  1.33226763e-15  1.33226763e-15  1.33226763e-15\n",
            " -8.88178420e-16  0.00000000e+00]\n",
            "Sum of all the elements:\n",
            " 3.552713678800501e-15\n",
            "---------------------------------------------------------\n"
          ]
        }
      ],
      "source": [
        "# Obtain B_g for each community\n",
        "resolution = np.random.randint(0,50)\n",
        "B_gs = [directed_generalized_modularity_matrix(G_bis, cc, resolution=resolution) for cc in [c1,c2,c3,c4,c1+c2]]\n",
        "\n",
        "for i, c in zip(range(len(B_gs)), [c1,c2,c3,c4,c1+c2]):\n",
        "  print(f\"Community: \", c)\n",
        "  print(f\"Sum of the elements of each row:\\n\", B_gs[i].sum(axis=1))\n",
        "  print(f\"Sum of the elements of each column:\\n\", B_gs[i].sum(axis=0))\n",
        "  print(f\"Sum of all the elements:\\n\", B_gs[i].sum())\n",
        "  print(\"---------------------------------------------------------\")"
      ]
    },
    {
      "cell_type": "code",
      "execution_count": null,
      "metadata": {
        "colab": {
          "base_uri": "https://localhost:8080/"
        },
        "id": "tCPSstQMvMTf",
        "outputId": "e5922f67-6241-4f8c-bd89-86f572f2bb63"
      },
      "outputs": [
        {
          "name": "stdout",
          "output_type": "stream",
          "text": [
            "[{0, 1, 2}, {3, 4, 5}] 0.25 0.25\n"
          ]
        }
      ],
      "source": [
        "LC = nx.community.louvain_communities(G)\n",
        "LM = nx.community.modularity(G,LC)\n",
        "My_M = nx.community.modularity(G,[{0,1,2},{3,4,5}])\n",
        "print(LC, LM, My_M)"
      ]
    },
    {
      "cell_type": "code",
      "execution_count": null,
      "metadata": {
        "colab": {
          "base_uri": "https://localhost:8080/",
          "height": 516
        },
        "id": "wqYs5i8wV9iH",
        "outputId": "1c826dd5-d71f-4b86-b71f-27894ebdfc41"
      },
      "outputs": [
        {
          "data": {
            "image/png": "[encoded data removed]",
            "text/plain": [
              "<Figure size 640x480 with 1 Axes>"
            ]
          },
          "metadata": {},
          "output_type": "display_data"
        }
      ],
      "source": [
        "G_test = nx.random_k_out_graph(10, 4, 1)\n",
        "A_test = nx.to_numpy_array(G_test)\n",
        "resolution = np.random.randint(0,50)\n",
        "LC_test = nx.community.louvain_communities(G_test)\n",
        "B_test = directed_modularity_matrix(G_test,  resolution=resolution)\n",
        "B_g_test = directed_generalized_modularity_matrix(G_test, community=range(10), resolution=resolution)\n",
        "nx.draw(G_test, with_labels=True)"
      ]
    },
    {
      "cell_type": "code",
      "execution_count": null,
      "metadata": {
        "colab": {
          "base_uri": "https://localhost:8080/"
        },
        "id": "-xYM1lXh0KoV",
        "outputId": "210fd99b-bb26-4dbc-e820-c13f24bb994f"
      },
      "outputs": [
        {
          "name": "stdout",
          "output_type": "stream",
          "text": [
            "Sum of the elements of each row (sum over columns):\n",
            " [-4.44089210e-16  0.00000000e+00  0.00000000e+00  0.00000000e+00\n",
            " -3.55271368e-15 -3.55271368e-15 -3.55271368e-15 -3.55271368e-15\n",
            "  1.77635684e-15  0.00000000e+00]\n",
            "Sum of the elements of each column (sum over rows):\n",
            " [-77. -14.  28.  -7.  28.  14.  14.  28.   7. -21.]\n",
            "Sum of all the elements:\n",
            " 0.0\n"
          ]
        }
      ],
      "source": [
        "# Obtain B_g for the whole graph\n",
        "resolution = np.random.randint(0,50)\n",
        "B_g = directed_generalized_modularity_matrix(G_test, community=range(10), resolution=resolution)\n",
        "print(f\"Sum of the elements of each row (sum over columns):\\n\", B_g.sum(axis=1))\n",
        "print(f\"Sum of the elements of each column (sum over rows):\\n\", B_g.sum(axis=0))\n",
        "print(f\"Sum of all the elements:\\n\", B_g.sum())\n",
        "sum_rows = (1-resolution)*(A_test.sum(axis=0)-A_test.sum(axis=1))"
      ]
    },
    {
      "cell_type": "code",
      "execution_count": null,
      "metadata": {
        "colab": {
          "base_uri": "https://localhost:8080/"
        },
        "id": "HftNpLtC1srv",
        "outputId": "5bbed534-2c00-48ac-9477-d9fb096d9118"
      },
      "outputs": [
        {
          "name": "stdout",
          "output_type": "stream",
          "text": [
            "Community:  {3, 5}\n",
            "Sum of the elements of each row (sum over columns):\n",
            " [0. 0.]\n",
            "Sum of the elements of each column (sum over rows):\n",
            " [-0.5  0.5]\n",
            "Sum over rows of B_bis = B - B':\n",
            " [-0.5  0.5]\n",
            "Sum of all the elements:\n",
            " 0.0\n",
            "---------------------------------------------------------\n",
            "Community:  {1, 6}\n",
            "Sum of the elements of each row (sum over columns):\n",
            " [0. 0.]\n",
            "Sum of the elements of each column (sum over rows):\n",
            " [-2.  2.]\n",
            "Sum over rows of B_bis = B - B':\n",
            " [-2.  2.]\n",
            "Sum of all the elements:\n",
            " 0.0\n",
            "---------------------------------------------------------\n",
            "Community:  {0, 2, 4, 7, 8, 9}\n",
            "Sum of the elements of each row (sum over columns):\n",
            " [0. 0. 0. 0. 0. 0.]\n",
            "Sum of the elements of each column (sum over rows):\n",
            " [-24.5   9.5   8.5   9.5   3.5  -6.5]\n",
            "Sum over rows of B_bis = B - B':\n",
            " [-24.5   9.5   8.5   9.5   3.5  -6.5]\n",
            "Sum of all the elements:\n",
            " 0.0\n",
            "---------------------------------------------------------\n"
          ]
        }
      ],
      "source": [
        "# Obtain B_g for each community\n",
        "resolution = np.random.randint(0,50)\n",
        "B_s = [directed_generalized_modularity_matrix(G_test, cc, resolution=resolution, return_B=True)[1] for cc in LC_test]\n",
        "B_gs = [directed_generalized_modularity_matrix(G_test, cc, resolution=resolution) for cc in LC_test]\n",
        "\n",
        "for i, c in zip(range(len(B_gs)), LC_test):\n",
        "  B_bis = B_s[i]-B_s[i].T\n",
        "  print(f\"Community: \", c)\n",
        "  print(f\"Sum of the elements of each row (sum over columns):\\n\", B_gs[i].sum(axis=1))\n",
        "  print(f\"Sum of the elements of each column (sum over rows):\\n\", B_gs[i].sum(axis=0))\n",
        "  print(f\"Sum over rows of B_bis = B - B':\\n\", (B_bis).sum(axis=0))\n",
        "  print(f\"Sum of all the elements:\\n\", B_gs[i].sum())\n",
        "  print(\"---------------------------------------------------------\")"
      ]
    },
    {
      "cell_type": "markdown",
      "metadata": {
        "id": "iDaFA_-9VttB"
      },
      "source": [
        "## Symmetrized and generalized modularity matrix"
      ]
    },
    {
      "cell_type": "code",
      "execution_count": null,
      "metadata": {
        "id": "9qtpXeH9V15H"
      },
      "outputs": [],
      "source": [
        "def symmetrized_generalized_modularity_matrix(graph, community, resolution: float=1) -> np.ndarray:\n",
        "    community = list(community)\n",
        "    # Modularity matrix computed on the full network\n",
        "    full_B = directed_modularity_matrix(graph,resolution)\n",
        "    # Elements B_ij inside the community\n",
        "    B_bis = full_B[community,:]\n",
        "    B_community = B_bis[:,community]\n",
        "    # Summation over nodes inside the community (i.e., right term)\n",
        "    B_i = np.sum(B_community, axis=1)\n",
        "    B_j = np.sum(B_community.T, axis=1)\n",
        "    delta = np.eye(len(community), dtype=np.int32)\n",
        "    # Generalized modularity matrix\n",
        "    return 0.5*( B_community + B_community.T ) - 0.5 * delta * (B_i + B_j)"
      ]
    },
    {
      "cell_type": "code",
      "execution_count": null,
      "metadata": {
        "id": "jZnZjBo2MGyY"
      },
      "outputs": [],
      "source": [
        "N = 50\n",
        "G_test = nx.random_k_out_graph(N, 4, 1)\n",
        "A_test = nx.to_numpy_array(G_test)\n",
        "LC_test = nx.community.louvain_communities(G_test)"
      ]
    },
    {
      "cell_type": "markdown",
      "metadata": {
        "id": "CbAk8fpA4Tp2"
      },
      "source": [
        "### Full graph"
      ]
    },
    {
      "cell_type": "code",
      "execution_count": null,
      "metadata": {
        "colab": {
          "base_uri": "https://localhost:8080/"
        },
        "id": "zkRMVFEO4TFE",
        "outputId": "56164586-a9b1-4026-ba05-a7eeec0222ca"
      },
      "outputs": [
        {
          "name": "stdout",
          "output_type": "stream",
          "text": [
            "Sum of the elements of each row:\n",
            " [ 1.44328993e-15 -1.19904087e-14  6.66133815e-15 -4.44089210e-16\n",
            " -8.21565038e-15 -2.22044605e-15  5.21804822e-15 -1.33226763e-15\n",
            "  1.33226763e-15  1.33226763e-15  6.66133815e-15  3.77475828e-15\n",
            "  3.10862447e-15 -4.44089210e-16 -4.66293670e-15 -1.33226763e-15\n",
            "  1.33226763e-15  1.33226763e-15 -4.44089210e-16 -4.44089210e-16\n",
            "  1.66533454e-15 -4.44089210e-16 -8.43769499e-15 -4.44089210e-16\n",
            " -6.88338275e-15 -1.11022302e-15 -6.66133815e-15  4.44089210e-16\n",
            " -8.21565038e-15 -6.66133815e-15 -4.66293670e-15 -2.22044605e-15\n",
            " -1.11022302e-14 -1.11022302e-14  5.10702591e-15 -1.33226763e-15\n",
            " -6.66133815e-15  2.22044605e-15 -1.44328993e-15 -3.44169138e-15\n",
            " -4.88498131e-15 -2.22044605e-15 -4.44089210e-16  5.99520433e-15\n",
            "  2.22044605e-15  1.33226763e-15  2.22044605e-16 -1.33226763e-15\n",
            " -2.22044605e-15  0.00000000e+00]\n",
            "Sum of the elements of each column:\n",
            " [ 1.44328993e-15 -6.26165786e-14  3.55271368e-15 -3.55271368e-15\n",
            " -1.97619698e-14 -4.44089210e-15  1.34336986e-14 -1.24344979e-14\n",
            " -3.55271368e-15 -2.66453526e-15 -3.55271368e-15 -1.55431223e-15\n",
            " -3.55271368e-15 -3.55271368e-15 -3.33066907e-15  8.43769499e-15\n",
            "  8.88178420e-16  8.88178420e-16 -6.21724894e-15 -8.88178420e-16\n",
            " -7.77156117e-16  8.88178420e-16 -2.22044605e-15 -3.55271368e-15\n",
            "  8.21565038e-15  1.55431223e-15  1.19904087e-14 -2.22044605e-15\n",
            "  1.55431223e-15 -9.32587341e-15 -5.55111512e-15  8.88178420e-16\n",
            " -5.77315973e-15 -5.77315973e-15  1.11022302e-15 -1.77635684e-15\n",
            " -9.32587341e-15  1.77635684e-15  1.66533454e-15  1.88737914e-15\n",
            " -1.06581410e-14 -2.66453526e-15  8.88178420e-16 -9.10382880e-15\n",
            " -7.54951657e-15  1.33226763e-15  2.22044605e-16 -8.43769499e-15\n",
            " -2.22044605e-15  0.00000000e+00]\n",
            "Sum of all the elements:\n",
            " -3.552713678800501e-15\n"
          ]
        }
      ],
      "source": [
        "resolution = np.random.randint(0,50)\n",
        "B_dir_gen_symm = symmetrized_generalized_modularity_matrix(G_test, community=range(N), resolution=resolution)\n",
        "\n",
        "print(f\"Sum of the elements of each row:\\n\", B_dir_gen_symm.sum(axis=1))\n",
        "print(f\"Sum of the elements of each column:\\n\", B_dir_gen_symm.sum(axis=0))\n",
        "print(f\"Sum of all the elements:\\n\", B_dir_gen_symm.sum())"
      ]
    },
    {
      "cell_type": "markdown",
      "metadata": {
        "id": "ejxnlVQq3koG"
      },
      "source": [
        "### For each community"
      ]
    },
    {
      "cell_type": "code",
      "execution_count": null,
      "metadata": {
        "colab": {
          "base_uri": "https://localhost:8080/"
        },
        "id": "TOfMWN7gQJVs",
        "outputId": "4b66c1f8-aa0f-43f6-a688-bdac2e3173a9"
      },
      "outputs": [
        {
          "name": "stdout",
          "output_type": "stream",
          "text": [
            "Community:  {33, 36, 5, 7, 8, 10, 46, 16, 27}\n",
            "Sum of the elements of each row:\n",
            " [ 3.55271368e-15  0.00000000e+00 -8.88178420e-16 -8.88178420e-16\n",
            " -4.44089210e-16 -4.44089210e-16 -8.88178420e-16 -4.44089210e-16\n",
            "  3.55271368e-15]\n",
            "Sum of the elements of each column:\n",
            " [-8.88178420e-16 -4.44089210e-15 -4.44089210e-16  8.88178420e-16\n",
            " -4.44089210e-16 -4.44089210e-16  8.88178420e-16 -4.44089210e-16\n",
            "  3.55271368e-15]\n",
            "Sum of all the elements:\n",
            " -1.7763568394002505e-14\n",
            "---------------------------------------------------------\n",
            "Community:  {6, 39, 41, 12, 13, 15, 17, 20, 22, 23, 28, 31}\n",
            "Sum of the elements of each row:\n",
            " [-1.44328993e-15 -1.99840144e-15  8.88178420e-16 -9.43689571e-16\n",
            " -9.43689571e-16 -2.22044605e-16  8.88178420e-16  3.33066907e-16\n",
            "  1.55431223e-15  2.22044605e-15 -3.99680289e-15  0.00000000e+00]\n",
            "Sum of the elements of each column:\n",
            " [ 3.33066907e-16 -2.22044605e-16  8.88178420e-16  8.32667268e-16\n",
            "  8.32667268e-16  1.55431223e-15  0.00000000e+00  2.10942375e-15\n",
            "  1.55431223e-15  9.32587341e-15  3.10862447e-15  0.00000000e+00]\n",
            "Sum of all the elements:\n",
            " 5.329070518200751e-15\n",
            "---------------------------------------------------------\n",
            "Community:  {0, 35, 3, 9, 49, 18, 19, 24, 25, 26}\n",
            "Sum of the elements of each row:\n",
            " [-2.66453526e-15 -1.77635684e-15 -2.66453526e-15 -8.88178420e-16\n",
            " -3.55271368e-15 -1.77635684e-15 -8.88178420e-16 -3.55271368e-15\n",
            " -1.77635684e-15  0.00000000e+00]\n",
            "Sum of the elements of each column:\n",
            " [-8.88178420e-16  0.00000000e+00 -8.88178420e-16  2.66453526e-15\n",
            " -3.55271368e-15  1.77635684e-15  8.88178420e-16 -1.77635684e-15\n",
            "  1.77635684e-15  0.00000000e+00]\n",
            "Sum of all the elements:\n",
            " 1.4210854715202004e-14\n",
            "---------------------------------------------------------\n"
          ]
        }
      ],
      "source": [
        "# Obtain B_g for each community\n",
        "resolution = np.random.randint(0,50)\n",
        "B_dirs_gen_symm = [symmetrized_generalized_modularity_matrix(G_test, community=cc, resolution=resolution) for cc in LC_test]\n",
        "\n",
        "for i, c in zip(range(len(B_gs)), LC_test):\n",
        "  print(f\"Community: \", c)\n",
        "  print(f\"Sum of the elements of each row:\\n\", B_dirs_gen_symm[i].sum(axis=1))\n",
        "  print(f\"Sum of the elements of each column:\\n\", B_dirs_gen_symm[i].sum(axis=0))\n",
        "  print(f\"Sum of all the elements:\\n\", B_dirs_gen_symm[i].sum())\n",
        "  print(\"---------------------------------------------------------\")"
      ]
    },
    {
      "cell_type": "markdown",
      "metadata": {
        "id": "9gTKlonLDCwj"
      },
      "source": [
        "### For undirected networks"
      ]
    },
    {
      "cell_type": "code",
      "execution_count": null,
      "metadata": {
        "colab": {
          "base_uri": "https://localhost:8080/"
        },
        "id": "PdedyyhQDFgy",
        "outputId": "0827e161-235e-4a7e-e3cb-5dd77faec65f"
      },
      "outputs": [
        {
          "data": {
            "text/plain": [
              "array([[0., 0., 0., 0., 0.],\n",
              "       [0., 0., 0., 0., 0.],\n",
              "       [0., 0., 0., 0., 0.],\n",
              "       [0., 0., 0., 0., 0.],\n",
              "       [0., 0., 0., 0., 0.]])"
            ]
          },
          "execution_count": 35,
          "metadata": {},
          "output_type": "execute_result"
        }
      ],
      "source": [
        "resolution = np.random.randint(0,50)\n",
        "N = 5\n",
        "G_symm = nx.erdos_renyi_graph(N, p=0.4)\n",
        "B_und = generalized_modularity_matrix(G_symm, community=range(N), resolution=resolution)\n",
        "B_symm = symmetrized_generalized_modularity_matrix(G_symm, community=range(N), resolution=resolution)\n",
        "B_und - B_symm"
      ]
    },
    {
      "cell_type": "code",
      "execution_count": null,
      "metadata": {
        "colab": {
          "base_uri": "https://localhost:8080/"
        },
        "id": "rQKMfoz7D8QR",
        "outputId": "d2873157-a5e3-4b8d-89e1-3ed1e852470a"
      },
      "outputs": [
        {
          "data": {
            "text/plain": [
              "array([[0., 0., 0.],\n",
              "       [0., 0., 0.],\n",
              "       [0., 0., 0.]])"
            ]
          },
          "execution_count": 36,
          "metadata": {},
          "output_type": "execute_result"
        }
      ],
      "source": [
        "resolution = np.random.randint(0,50)\n",
        "N = 5\n",
        "cc = [1,N-2,N-1]\n",
        "G_symm = nx.erdos_renyi_graph(N, p=0.4)\n",
        "B_und = generalized_modularity_matrix(G_symm, community=cc, resolution=resolution)\n",
        "B_symm = symmetrized_generalized_modularity_matrix(G_symm, community=cc, resolution=resolution)\n",
        "B_und - B_symm"
      ]
    },
    {
      "cell_type": "markdown",
      "metadata": {
        "id": "-rfi8_s5vgg-"
      },
      "source": [
        "## Let's implement the QUBO function for $\\textbf{B}^{d,g}$"
      ]
    },
    {
      "cell_type": "code",
      "execution_count": null,
      "metadata": {
        "id": "eT3d-d85vhbd"
      },
      "outputs": [],
      "source": [
        "def hierarchical_division_energy_state(state, B_g, m, resolution=1):\n",
        "  state = np.array(state, dtype=np.int16)\n",
        "  Q = -(1/m)*(state @ B_g @ state.T)\n",
        "  return Q"
      ]
    },
    {
      "cell_type": "code",
      "execution_count": null,
      "metadata": {
        "id": "Nh2I1ULOvoYw"
      },
      "outputs": [],
      "source": [
        "resolution = 1\n",
        "G_test = nx.random_k_out_graph(10, 4, 1)\n",
        "\n",
        "_, degrees_G_test = zip(*dict(nx.degree(G_test)).items())    # degree vector\n",
        "degrees_G_test = np.array(degrees_G_test, dtype=np.int32)\n",
        "B_G_test = symmetrized_generalized_modularity_matrix(G_test, range(10), resolution=resolution)\n",
        "m_G_test = np.sum(degrees_G_test)                            # total number of edges\n",
        "\n",
        "# Compute all the possible states\n",
        "import itertools\n",
        "qbits_1 = 10\n",
        "states_1 = []\n",
        "for x in itertools.product(range(2), repeat=qbits_1):\n",
        "  states_1.append(x)\n",
        "assert len(states_1) == 2**qbits_1"
      ]
    },
    {
      "cell_type": "code",
      "execution_count": null,
      "metadata": {
        "colab": {
          "base_uri": "https://localhost:8080/"
        },
        "id": "uiUgngDEwi2e",
        "outputId": "4966e7f7-7fa3-43bb-8391-a8713d530b65"
      },
      "outputs": [
        {
          "name": "stdout",
          "output_type": "stream",
          "text": [
            "Partition of c1:  (0, 0, 1, 0, 1, 0, 1, 1, 0, 0)  and energy:  -0.06000000000000001\n",
            "\n",
            "\n",
            "Energy if all nodes are in the same community: -0.0\n",
            "\n",
            "\n",
            "Louvain solution:  [{0, 1, 3, 5, 8, 9}, {2, 4, 6, 7}]  with Q =  0.23999999999999996\n",
            "QUBO solution:  [{0, 1, 3, 5, 8, 9}, {2, 4, 6, 7}]  with Q =  0.23999999999999996\n"
          ]
        }
      ],
      "source": [
        "# Using the new formulation for all gammas\n",
        "Energies1 = {}\n",
        "for s in states_1:\n",
        "  Energies1[s] = hierarchical_division_energy_state(s, B_G_test, m_G_test, resolution=resolution)\n",
        "\n",
        "ground_state1, ground_energy1 = min(Energies1, key=Energies1.get), min(Energies1.values())\n",
        "c1 = {np.arange(10)[k] for k,v in enumerate(ground_state1) if v == 0}\n",
        "c2 = {np.arange(10)[k] for k,v in enumerate(ground_state1) if v == 1}\n",
        "print(\"Partition of c1: \", ground_state1, \" and energy: \", ground_energy1)\n",
        "print(\"\\n\")\n",
        "e = hierarchical_division_energy_state(np.arange(10)*0+np.random.randint(0,1), B_G_test, m_G_test, resolution=resolution)\n",
        "print(f\"Energy if all nodes are in the same community: {e}\")\n",
        "print(\"\\n\")\n",
        "c_L = nx.community.louvain_communities(G_test, resolution=0.8) # Here we use a different resolution to force the algorithm to find 2 communities\n",
        "Mod_L = nx.community.modularity(G_test, c_L, resolution=resolution) # But we evaluate the solution with the same resolution in order to be comparable\n",
        "Mod_QUBO =  nx.community.modularity(G_test, [c1, c2], resolution=resolution)\n",
        "print(\"Louvain solution: \", c_L, \" with Q = \", Mod_L)\n",
        "print(\"QUBO solution: \", [c1, c2], \" with Q = \", Mod_QUBO)"
      ]
    },
    {
      "cell_type": "markdown",
      "metadata": {
        "id": "W73dcJs1z_LR"
      },
      "source": [
        "As expected by the theory and math, the symmetrized generalized modularity matrix, and corresponding QUBO return the same solution as the Louvain for directed networks."
      ]
    }
  ],
  "metadata": {
    "colab": {
      "provenance": [],
      "toc_visible": true
    },
    "kernelspec": {
      "display_name": "Python 3",
      "name": "python3"
    },
    "language_info": {
      "name": "python"
    }
  },
  "nbformat": 4,
  "nbformat_minor": 0
}
