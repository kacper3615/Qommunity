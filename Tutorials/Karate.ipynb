{
 "cells": [
  {
   "cell_type": "code",
   "execution_count": 2,
   "metadata": {},
   "outputs": [],
   "source": [
    "import numpy as np\n",
    "import networkx as nx\n",
    "import netgraph\n",
    "import matplotlib.pylab as plt\n",
    "import os\n",
    "from tqdm import tqdm\n",
    "\n",
    "os.makedirs(\"./Karate\", exist_ok=True)\n",
    "\n",
    "from Qommunity.samplers.hierarchical.advantage_sampler import AdvantageSampler\n",
    "from Qommunity.samplers.hierarchical.gurobi_sampler import GurobiSampler\n",
    "from Qommunity.samplers.regular.leiden_sampler import LeidenSampler\n",
    "from Qommunity.samplers.regular.louvain_sampler import LouvainSampler\n",
    "from Qommunity.samplers.regular.dqm_sampler import DQMSampler\n",
    "from Qommunity.samplers.regular.bayan_sampler import BayanSampler\n",
    "\n",
    "from iterative_searcher.iterative_searcher import IterativeSearcher"
   ]
  },
  {
   "cell_type": "code",
   "execution_count": 3,
   "metadata": {},
   "outputs": [],
   "source": [
    "K = nx.karate_club_graph()\n",
    "num_runs = 50\n",
    "resolution = 1"
   ]
  },
  {
   "cell_type": "code",
   "execution_count": 4,
   "metadata": {},
   "outputs": [
    {
     "name": "stderr",
     "output_type": "stream",
     "text": [
      "100%|██████████| 50/50 [00:05<00:00,  8.83it/s]\n"
     ]
    }
   ],
   "source": [
    "gurobi_sampler = GurobiSampler(K, resolution=resolution)\n",
    "gurobi_iterative= IterativeSearcher(gurobi_sampler)\n",
    "\n",
    "saving_path = f\"./Karate/solver-gurobi_runs-{num_runs}\"\n",
    "gurobi_communities, gurobi_modularities, gurobi_times_elapsed = gurobi_iterative.run(\n",
    "    num_runs=num_runs, saving_path=saving_path\n",
    ")"
   ]
  },
  {
   "cell_type": "code",
   "execution_count": 6,
   "metadata": {},
   "outputs": [
    {
     "name": "stderr",
     "output_type": "stream",
     "text": [
      "  0%|          | 0/50 [00:00<?, ?it/s]"
     ]
    },
    {
     "name": "stdout",
     "output_type": "stream",
     "text": [
      "Set parameter Username\n",
      "Academic license - for non-commercial use only - expires 2025-03-27\n"
     ]
    },
    {
     "name": "stderr",
     "output_type": "stream",
     "text": [
      "100%|██████████| 50/50 [01:42<00:00,  2.05s/it]\n"
     ]
    }
   ],
   "source": [
    "bayan_sampler = BayanSampler(K, resolution=resolution)\n",
    "bayan_iterative= IterativeSearcher(bayan_sampler)\n",
    "\n",
    "saving_path = f\"./Karate/solver-bayan_runs-{num_runs}\"\n",
    "bayan_communities, bayan_modularities, bayan_times_elapsed = bayan_iterative.run(\n",
    "    num_runs=num_runs, saving_path=saving_path\n",
    ")"
   ]
  },
  {
   "cell_type": "code",
   "execution_count": 33,
   "metadata": {},
   "outputs": [
    {
     "name": "stderr",
     "output_type": "stream",
     "text": [
      "100%|███████████████████████████████████████████| 50/50 [07:03<00:00,  8.47s/it]\n"
     ]
    }
   ],
   "source": [
    "adv_sampler = AdvantageSampler(K, resolution=resolution, num_reads=100, use_clique_embedding=True)\n",
    "adv_iterative= IterativeSearcher(adv_sampler)\n",
    "\n",
    "saving_path = f\"./Karate/solver-adv_runs-{num_runs}\"\n",
    "adv_communities, adv_modularities, adv_times_elapsed = adv_iterative.run(\n",
    "    num_runs=num_runs, saving_path=saving_path\n",
    ")"
   ]
  },
  {
   "cell_type": "code",
   "execution_count": 35,
   "metadata": {},
   "outputs": [
    {
     "name": "stderr",
     "output_type": "stream",
     "text": [
      "100%|██████████| 50/50 [00:00<00:00, 221.11it/s]\n"
     ]
    }
   ],
   "source": [
    "louv_sampler = LouvainSampler(K, resolution=resolution)\n",
    "louv_iterative= IterativeSearcher(louv_sampler)\n",
    "\n",
    "saving_path = f\"./Karate/solver-louv_runs-{num_runs}\"\n",
    "louv_communities, louv_modularities, louv_times_elapsed = louv_iterative.run(\n",
    "    num_runs=num_runs, saving_path=saving_path\n",
    ")"
   ]
  },
  {
   "cell_type": "code",
   "execution_count": 30,
   "metadata": {},
   "outputs": [
    {
     "name": "stderr",
     "output_type": "stream",
     "text": [
      "100%|███████████████████████████████████████████| 50/50 [10:40<00:00, 12.81s/it]\n"
     ]
    }
   ],
   "source": [
    "dqm_sampler = DQMSampler(K, resolution=resolution, time=5, cases=4)\n",
    "dqm_iterative= IterativeSearcher(dqm_sampler)\n",
    "\n",
    "saving_path = f\"./Karate/solver-dqm_runs-{num_runs}\"\n",
    "dqm_communities, dqm_modularities, dqm_times_elapsed = dqm_iterative.run(\n",
    "    num_runs=num_runs, saving_path=saving_path\n",
    ")"
   ]
  },
  {
   "cell_type": "code",
   "execution_count": 5,
   "metadata": {},
   "outputs": [
    {
     "name": "stderr",
     "output_type": "stream",
     "text": [
      "100%|██████████| 50/50 [00:00<00:00, 363.78it/s]\n"
     ]
    }
   ],
   "source": [
    "leid_sampler = LeidenSampler(K)\n",
    "leid_iterative= IterativeSearcher(leid_sampler)\n",
    "\n",
    "saving_path = f\"./Karate/solver-leid_runs-{num_runs}\"\n",
    "leid_communities, leid_modularities, leid_times_elapsed = leid_iterative.run(\n",
    "    num_runs=num_runs, saving_path=saving_path\n",
    ")"
   ]
  },
  {
   "cell_type": "code",
   "execution_count": 7,
   "metadata": {},
   "outputs": [],
   "source": [
    "# We load the data for reproducibility\n",
    "adv_modularities = np.load(f\"./Karate/solver-adv_runs-{num_runs}.npy\")\n",
    "gurobi_modularities = np.load(f\"./Karate/solver-gurobi_runs-{num_runs}.npy\")\n",
    "dqm_modularities = np.load(f\"./Karate/solver-dqm_runs-{num_runs}.npy\")\n",
    "louv_modularities = np.load(f\"./Karate/solver-louv_runs-{num_runs}.npy\")\n",
    "leid_modularities = np.load(f\"./Karate/solver-leid_runs-{num_runs}.npy\")\n",
    "bayan_modularities = np.load(f\"./Karate/solver-bayan_runs-{num_runs}.npy\")\n",
    "\n",
    "adv_times_elapsed = np.load(f\"./Karate/solver-adv_runs-{num_runs}_times.npy\")\n",
    "gurobi_times_elapsed = np.load(f\"./Karate/solver-gurobi_runs-{num_runs}_times.npy\")\n",
    "dqm_times_elapsed = np.load(f\"./Karate/solver-dqm_runs-{num_runs}_times.npy\")\n",
    "louv_times_elapsed = np.load(f\"./Karate/solver-louv_runs-{num_runs}_times.npy\")\n",
    "leid_times_elapsed = np.load(f\"./Karate/solver-leid_runs-{num_runs}_times.npy\")\n",
    "bayan_times_elapsed = np.load(f\"./Karate/solver-bayan_runs-{num_runs}_times.npy\")\n",
    "\n",
    "adv_comms = np.load(f\"./Karate/solver-adv_runs-{num_runs}_comms.npy\", allow_pickle=True)\n",
    "gurobi_comms = np.load(f\"./Karate/solver-gurobi_runs-{num_runs}_comms.npy\", allow_pickle=True)\n",
    "dqm_comms = np.load(f\"./Karate/solver-dqm_runs-{num_runs}_comms.npy\", allow_pickle=True)\n",
    "louv_comms = np.load(f\"./Karate/solver-louv_runs-{num_runs}_comms.npy\", allow_pickle=True)\n",
    "leid_comms = np.load(f\"./Karate/solver-leid_runs-{num_runs}_comms.npy\", allow_pickle=True)\n",
    "bayan_comms = np.load(f\"./Karate/solver-bayan_runs-{num_runs}_comms.npy\", allow_pickle=True)\n",
    "\n",
    "mod_adv, freq_adv = np.unique(adv_modularities, return_counts=True)\n",
    "mod_gurobi, freq_gurobi = np.unique(gurobi_modularities, return_counts=True)\n",
    "mod_dqm, freq_dqm = np.unique(dqm_modularities, return_counts=True)\n",
    "mod_louv, freq_louv = np.unique(louv_modularities, return_counts=True)\n",
    "mod_leid, freq_leid = np.unique(leid_modularities, return_counts=True)\n",
    "mod_bayan, freq_bayan = np.unique(bayan_modularities, return_counts=True)\n",
    "\n",
    "c_adv = len(adv_comms[np.argmax(adv_modularities)])\n",
    "c_gurobi = len(gurobi_comms[np.argmax(gurobi_modularities)])\n",
    "c_dqm = len(dqm_comms[np.argmax(dqm_modularities)])\n",
    "c_louv = len(louv_comms[np.argmax(louv_modularities)])\n",
    "c_leid = len(leid_comms[np.argmax(leid_modularities)])\n",
    "c_bayan = len(bayan_comms[np.argmax(bayan_modularities)])"
   ]
  },
  {
   "cell_type": "code",
   "execution_count": 8,
   "metadata": {},
   "outputs": [
    {
     "name": "stdout",
     "output_type": "stream",
     "text": [
      "Algorithm \t Max Q \t N communities \t Frequency \t Time (s)\n",
      "---------------------------------------------------------\n",
      "Annealing \t 0.444904 \t 4 \t 100.0 %  \t 8.46568461894989 +- 0.2571043145026076\n",
      "Gurobi \t 0.444904 \t 4 \t 100.0 %  \t 0.11049344062805176 +- 0.002040895382687678\n",
      "DQM       \t 0.444904 \t 4 \t 100.0 %  \t 12.808557538986205 +- 0.03540523012881962\n",
      "Louvain   \t 0.444904 \t 4 \t 40.0 % \t 0.0037561511993408204 +- 0.0004049010300129798\n",
      "Leiden    \t 0.444904 \t 4 \t 100.0 % \t 0.0019035482406616212 +- 5.835346869877643e-05\n",
      "Bayan    \t 0.444904 \t 4 \t 100.0 % \t 2.043358869552612 +- 0.059123569948242555\n"
     ]
    }
   ],
   "source": [
    "print(\"Algorithm \\t Max Q \\t N communities \\t Frequency \\t Time (s)\")\n",
    "print(\"---------------------------------------------------------\")\n",
    "print(f\"Annealing \\t {round(mod_adv[-1],6)} \\t {c_adv} \\t {100*freq_adv[-1]/num_runs} %  \\t {adv_times_elapsed.mean()} +- {adv_times_elapsed.std()/np.sqrt(num_runs)}\")\n",
    "print(f\"Gurobi \\t {round(mod_gurobi[-1],6)} \\t {c_gurobi} \\t {100*freq_gurobi[-1]/num_runs} %  \\t {gurobi_times_elapsed.mean()} +- {gurobi_times_elapsed.std()/np.sqrt(num_runs)}\")\n",
    "print(f\"DQM       \\t {round(mod_dqm[-1],6)} \\t {c_dqm} \\t {100*freq_dqm[-1]/num_runs} %  \\t {dqm_times_elapsed.mean()} +- {dqm_times_elapsed.std()/np.sqrt(num_runs)}\")\n",
    "print(f\"Louvain   \\t {round(mod_louv[-1],6)} \\t {c_louv} \\t {100*freq_louv[-1]/num_runs} % \\t {louv_times_elapsed.mean()} +- {louv_times_elapsed.std()/np.sqrt(num_runs)}\")\n",
    "print(f\"Leiden    \\t {round(mod_leid[-1],6)} \\t {c_leid} \\t {100*freq_leid[-1]/num_runs} % \\t {leid_times_elapsed.mean()} +- {leid_times_elapsed.std()/np.sqrt(num_runs)}\")\n",
    "print(f\"Bayan    \\t {round(mod_bayan[-1],6)} \\t {c_bayan} \\t {100*freq_bayan[-1]/num_runs} % \\t {bayan_times_elapsed.mean()} +- {bayan_times_elapsed.std()/np.sqrt(num_runs)}\")"
   ]
  }
 ],
 "metadata": {
  "kernelspec": {
   "display_name": "Python 3 (ipykernel)",
   "language": "python",
   "name": "python3"
  },
  "language_info": {
   "codemirror_mode": {
    "name": "ipython",
    "version": 3
   },
   "file_extension": ".py",
   "mimetype": "text/x-python",
   "name": "python",
   "nbconvert_exporter": "python",
   "pygments_lexer": "ipython3",
   "version": "3.12.6"
  }
 },
 "nbformat": 4,
 "nbformat_minor": 4
}
