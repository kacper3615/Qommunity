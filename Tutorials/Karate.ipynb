{
 "cells": [
  {
   "cell_type": "code",
   "execution_count": 1,
   "metadata": {},
   "outputs": [],
   "source": [
    "import numpy as np\n",
    "import networkx as nx\n",
    "import netgraph\n",
    "import matplotlib.pylab as plt\n",
    "import os\n",
    "from tqdm import tqdm\n",
    "\n",
    "os.makedirs(\"./Karate\", exist_ok=True)\n",
    "\n",
    "from Qommunity.samplers.hierarchical.advantage_sampler import AdvantageSampler\n",
    "from Qommunity.samplers.regular.leiden_sampler import LeidenSampler\n",
    "from Qommunity.samplers.regular.louvain_sampler import LouvainSampler\n",
    "from Qommunity.samplers.regular.dqm_sampler import DQMSampler\n",
    "#from Qommunity.samplers.regular.bayan_sampler import BayanSampler\n",
    "\n",
    "from Qommunity.searchers.community_searcher.community_searcher import CommunitySearcher\n",
    "from Qommunity.searchers.hierarchical_community_searcher import HierarchicalCommunitySearcher\n",
    "\n",
    "from iterative_searcher.iterative_searcher import IterativeSearcher"
   ]
  },
  {
   "cell_type": "code",
   "execution_count": 3,
   "metadata": {},
   "outputs": [],
   "source": [
    "K = nx.karate_club_graph()\n",
    "num_runs = 50\n",
    "resolution = 1"
   ]
  },
  {
   "cell_type": "code",
   "execution_count": 76,
   "metadata": {},
   "outputs": [
    {
     "name": "stderr",
     "output_type": "stream",
     "text": [
      "100%|██████████| 50/50 [18:19<00:00, 21.99s/it]\n"
     ]
    }
   ],
   "source": [
    "adv_sampler = AdvantageSampler(K, resolution=resolution, num_reads=100, use_clique_embedding=True)\n",
    "adv_searcher = HierarchicalCommunitySearcher(adv_sampler)\n",
    "adv_iterative= IterativeSearcher(adv_searcher)\n",
    "\n",
    "saving_path = f\"./Karate/solver-adv_runs-{num_runs}\"\n",
    "adv_communities, adv_modularities, adv_times_elapsed = adv_iterative.run(\n",
    "    num_runs=num_runs, saving_path=saving_path\n",
    ")"
   ]
  },
  {
   "cell_type": "code",
   "execution_count": 35,
   "metadata": {},
   "outputs": [
    {
     "name": "stderr",
     "output_type": "stream",
     "text": [
      "100%|██████████| 50/50 [00:00<00:00, 221.11it/s]\n"
     ]
    }
   ],
   "source": [
    "louv_sampler = LouvainSampler(K, resolution=resolution)\n",
    "louv_searcher = CommunitySearcher(louv_sampler)\n",
    "louv_iterative= IterativeSearcher(louv_searcher)\n",
    "\n",
    "saving_path = f\"./Karate/solver-louv_runs-{num_runs}\"\n",
    "louv_communities, louv_modularities, louv_times_elapsed = louv_iterative.run(\n",
    "    num_runs=num_runs, saving_path=saving_path\n",
    ")"
   ]
  },
  {
   "cell_type": "code",
   "execution_count": 36,
   "metadata": {},
   "outputs": [
    {
     "name": "stderr",
     "output_type": "stream",
     "text": [
      "  0%|          | 0/50 [00:00<?, ?it/s]/home/joanfr/Documents/Git-Repos/QHyper/QHyper/converter.py:193: ProblemWarning: Defined problem has constraints. DQM does not support constraints, it only supports objective functions!\n",
      "  warnings.warn(\n",
      "100%|██████████| 50/50 [14:32<00:00, 17.44s/it]\n"
     ]
    }
   ],
   "source": [
    "dqm_sampler = DQMSampler(K, resolution=resolution, time=5)\n",
    "dqm_searcher = CommunitySearcher(dqm_sampler)\n",
    "dqm_iterative= IterativeSearcher(dqm_searcher)\n",
    "\n",
    "saving_path = f\"./Karate/solver-dqm_runs-{num_runs}\"\n",
    "dqm_communities, dqm_modularities, dqm_times_elapsed = dqm_iterative.run(\n",
    "    num_runs=num_runs, saving_path=saving_path\n",
    ")"
   ]
  },
  {
   "cell_type": "code",
   "execution_count": 5,
   "metadata": {},
   "outputs": [
    {
     "name": "stderr",
     "output_type": "stream",
     "text": [
      "100%|██████████| 50/50 [00:00<00:00, 363.78it/s]\n"
     ]
    }
   ],
   "source": [
    "leid_sampler = LeidenSampler(K)\n",
    "leid_searcher = CommunitySearcher(leid_sampler)\n",
    "leid_iterative= IterativeSearcher(leid_searcher)\n",
    "\n",
    "saving_path = f\"./Karate/solver-leid_runs-{num_runs}\"\n",
    "leid_communities, leid_modularities, leid_times_elapsed = leid_iterative.run(\n",
    "    num_runs=num_runs, saving_path=saving_path\n",
    ")"
   ]
  },
  {
   "cell_type": "code",
   "execution_count": null,
   "metadata": {},
   "outputs": [],
   "source": [
    "# TODO: Add Bayan, but I cannot install bayanpy\n",
    "baya_sampler = BayanSampler(K)\n",
    "baya_searcher = CommunitySearcher(baya_sampler)\n",
    "baya_iterative= IterativeSearcher(baya_searcher)\n",
    "\n",
    "saving_path = f\"./Karate/solver-baya_runs-{num_runs}\"\n",
    "baya_communities, baya_modularities, baya_times_elapsed = baya_iterative.run(\n",
    "    num_runs=num_runs, saving_path=saving_path\n",
    ")"
   ]
  },
  {
   "cell_type": "code",
   "execution_count": 79,
   "metadata": {},
   "outputs": [],
   "source": [
    "mod_adv, freq_adv = np.unique(adv_modularities, return_counts=True)\n",
    "mod_dqm, freq_dqm = np.unique(dqm_modularities, return_counts=True)\n",
    "mod_louv, freq_louv = np.unique(louv_modularities, return_counts=True)\n",
    "mod_leid, freq_leid = np.unique(leid_modularities, return_counts=True)\n",
    "#mod_baya, freq_baya = np.unique(baya_modularities, return_counts=True)"
   ]
  },
  {
   "cell_type": "code",
   "execution_count": 87,
   "metadata": {},
   "outputs": [
    {
     "name": "stdout",
     "output_type": "stream",
     "text": [
      "Algorithm \t Max Q \t\t Frequency \t Time (s)\n",
      "---------------------------------------------------------\n",
      "Annealing \t 0.440181  \t 100.0 %  \t 21.987347683906556 +- 0.5197222820404348\n",
      "DQM       \t 0.399833  \t 100.0 %  \t 17.44094145298004 +- 1.2429913791803389\n",
      "Louvain   \t 0.444904 \t 40.0 % \t 0.0037561511993408204 +- 0.0004049010300129798\n",
      "Leiden    \t 0.444904 \t 100.0 % \t 0.002487516403198242 +- 7.50826605237824e-05\n"
     ]
    }
   ],
   "source": [
    "print(\"Algorithm \\t Max Q \\t\\t Frequency \\t Time (s)\")\n",
    "print(\"---------------------------------------------------------\")\n",
    "print(f\"Annealing \\t {round(mod_adv[-1],6)}  \\t {100*freq_adv[-1]/num_runs} %  \\t {adv_times_elapsed.mean()} +- {adv_times_elapsed.std()/np.sqrt(num_runs)}\")\n",
    "print(f\"DQM       \\t {round(mod_dqm[-1],6)}  \\t {100*freq_dqm[-1]/num_runs} %  \\t {dqm_times_elapsed.mean()} +- {dqm_times_elapsed.std()/np.sqrt(num_runs)}\")\n",
    "print(f\"Louvain   \\t {round(mod_louv[-1],6)} \\t {100*freq_louv[-1]/num_runs} % \\t {louv_times_elapsed.mean()} +- {louv_times_elapsed.std()/np.sqrt(num_runs)}\")\n",
    "print(f\"Leiden    \\t {round(mod_leid[-1],6)} \\t {100*freq_leid[-1]/num_runs} % \\t {leid_times_elapsed.mean()} +- {leid_times_elapsed.std()/np.sqrt(num_runs)}\")\n",
    "#print(f\"Bayan    \\t {round(mod_baya[-1],6)} \\t {100*freq_baya[-1]/num_runs} % \\t\")"
   ]
  },
  {
   "cell_type": "code",
   "execution_count": 82,
   "metadata": {},
   "outputs": [
    {
     "data": {
      "text/plain": [
       "array([21.18876052, 19.37231827, 20.28167272, 18.55721092, 17.67141366,\n",
       "       17.70617509, 17.55001092, 18.99513292, 19.00003576, 17.96673632,\n",
       "       28.05179763, 18.89762545, 18.93175864, 19.34211612, 20.55273151,\n",
       "       20.27295113, 19.8435905 , 18.53318882, 19.60020828, 19.62291741,\n",
       "       18.8237536 , 19.29578257, 19.8704381 , 20.12062097, 31.70817327,\n",
       "       19.9230299 , 21.83447051, 22.35311031, 21.59195733, 21.62448072,\n",
       "       22.25279117, 23.24518991, 23.57013726, 23.0891118 , 23.92263794,\n",
       "       23.39641905, 21.55712819, 23.45466208, 23.17518282, 22.58018661,\n",
       "       37.56984973, 24.25155592, 23.40872908, 23.8043797 , 23.83733916,\n",
       "       27.322016  , 24.34552073, 23.34079957, 26.88958001, 25.2699976 ])"
      ]
     },
     "execution_count": 82,
     "metadata": {},
     "output_type": "execute_result"
    }
   ],
   "source": [
    "adv_times_elapsed"
   ]
  },
  {
   "cell_type": "code",
   "execution_count": 8,
   "metadata": {},
   "outputs": [],
   "source": [
    "mod_leid, freq_leid = np.unique(leid_modularities, return_counts=True)"
   ]
  },
  {
   "cell_type": "code",
   "execution_count": 15,
   "metadata": {},
   "outputs": [
    {
     "data": {
      "text/plain": [
       "0.002042055130004883"
      ]
     },
     "execution_count": 15,
     "metadata": {},
     "output_type": "execute_result"
    }
   ],
   "source": [
    "leid_times_elapsed[leid_modularities.argmax()]"
   ]
  }
 ],
 "metadata": {
  "kernelspec": {
   "display_name": "dwave_playground",
   "language": "python",
   "name": "python3"
  },
  "language_info": {
   "codemirror_mode": {
    "name": "ipython",
    "version": 3
   },
   "file_extension": ".py",
   "mimetype": "text/x-python",
   "name": "python",
   "nbconvert_exporter": "python",
   "pygments_lexer": "ipython3",
   "version": "3.12.2"
  }
 },
 "nbformat": 4,
 "nbformat_minor": 2
}
