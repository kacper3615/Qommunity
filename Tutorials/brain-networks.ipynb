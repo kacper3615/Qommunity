{
 "cells": [
  {
   "cell_type": "code",
   "execution_count": 15,
   "metadata": {},
   "outputs": [],
   "source": [
    "import numpy as np\n",
    "import networkx as nx\n",
    "import powerlaw \n",
    "import netgraph\n",
    "import matplotlib.pylab as plt\n",
    "from matplotlib.pyplot import savefig\n",
    "import pandas as pd\n",
    "import os\n",
    "import pickle\n",
    "\n",
    "from Qommunity.samplers.hierarchical.advantage_sampler import AdvantageSampler\n",
    "from Qommunity.samplers.regular.leiden_sampler import LeidenSampler\n",
    "from Qommunity.samplers.regular.louvain_sampler import LouvainSampler\n",
    "#from Qommunity.samplers.regular.bayan_sampler import BayanSampler\n",
    "\n",
    "from Qommunity.searchers.community_searcher.community_searcher import CommunitySearcher\n",
    "from Qommunity.searchers.hierarchical_community_searcher import HierarchicalCommunitySearcher\n",
    "\n",
    "from iterative_searcher.iterative_searcher import IterativeSearcher"
   ]
  },
  {
   "cell_type": "code",
   "execution_count": 43,
   "metadata": {},
   "outputs": [],
   "source": [
    "class GraphFromCSV:\n",
    "    \"\"\"\n",
    "    It creates an object with different properties from a csv. Everything related to it, will be\n",
    "        saved with the provided 'name' followed by the proper extensions.\n",
    "    As of now, this is not the latest version of this class (or python script), but for this pipeline is enough.\n",
    "    \"\"\"\n",
    "\n",
    "    def __init__(self, graph, name, base_dir='/'):\n",
    "        self.graph = graph  # Graph file name\n",
    "        self.conns = pd.read_csv(graph, delimiter=',', header=None).values # Graph connections\n",
    "        self.graph_size = self.conns.shape\n",
    "            \n",
    "        self.name = name\n",
    "        if base_dir == '/':\n",
    "            self.dir = os.getcwd()+'/'\n",
    "        else:\n",
    "            self.dir = base_dir\n",
    "        self.originals = self.conns\n",
    "        # TODO: Add check path for base_dir!\n",
    "\n",
    "    def __revert(self):\n",
    "        \"\"\"\n",
    "        Reorders AAL3 regions by hemispheres.\n",
    "        Odd indices correspond to Left hemisphere regions.\n",
    "        Even indices correspond to rigth hemisphere regions.\n",
    "        Stores a dictionary with the reodering of indices.\n",
    "        \"\"\"\n",
    "        odd_odd = self.conns[::2, ::2]\n",
    "        odd_even = self.conns[::2, 1::2]\n",
    "        first = np.vstack((odd_odd, odd_even))\n",
    "        even_odd = self.conns[1::2, ::2]\n",
    "        even_even= self.conns[1::2, 1::2]\n",
    "        second = np.vstack((even_odd, even_even))\n",
    "        self.conns = np.hstack((first,second))\n",
    "\n",
    "        # To map actual labels with original ones\n",
    "        labels = np.array([x for x in range(0, self.graph_size[0])])\n",
    "        left = np.array([x for x in range(1, self.graph_size[0], 2)])\n",
    "        rigth = np.array([x for x in range(0, self.graph_size[0], 2)])\n",
    "        self.hemis = dict(zip(labels, np.concatenate((left, rigth), axis=0)))\n",
    "\n",
    "    def __take_log(self):\n",
    "        \"\"\"\n",
    "        Takes the natural logarithm of the connections. Enhances visualisation of the matrix.\n",
    "        \"\"\"\n",
    "        self.conns = np.log1p(self.conns)\n",
    "\n",
    "    def __plot_graph(self, save=True, show=False, fig_size=(20,15), dpi=500):\n",
    "        \"\"\"\n",
    "        Plot a graph. It assumes that the adjancency matrix is a csv file.\n",
    "        \"\"\"\n",
    "        plt.figure(figsize=fig_size)\n",
    "        plt.imshow(self.conns)\n",
    "        cbar = plt.colorbar()\n",
    "        cbar.set_label('Connection Strength', rotation=270)\n",
    "        plt.tight_layout()\n",
    "        if save:\n",
    "            plt.savefig(self.dir+self.name+'.svg', format='svg', dpi=dpi)      \n",
    "        if show:\n",
    "            plt.show()     \n",
    "\n",
    "    def process_graph(self, log=True, reshuffle=True, save=True, show=False, fig_size=(20,15)):\n",
    "        \"\"\"\n",
    "        Applies default operations to the graph to work with it.\n",
    "        \"\"\"\n",
    "        self.processed = True # The object has been processed\n",
    "        if self.conns.shape[0] <= 1:\n",
    "            raise ValueError(\"You are trying to process a flat graph. Can't do it. Unflatten your graph and set it to default.\")\n",
    "        else:\n",
    "            if log:\n",
    "                self.__take_log()\n",
    "            if reshuffle:\n",
    "                self.__revert()\n",
    "            self.__plot_graph(save=save, show=show, fig_size=(20,15))\n",
    "    \n",
    "    def get_connections(self, ini=False):\n",
    "        if not ini:\n",
    "            return self.conns \n",
    "        else:\n",
    "            return self.originals\n",
    "    \n",
    "    def flatten_graph(self, save=True):\n",
    "        \"\"\"\n",
    "        Flatten the lower triangular adjancency matrix of the graph. \n",
    "        The flattened graph becomes available after applying this method.\n",
    "        \"\"\"\n",
    "        x = self.conns.shape[0] # Dimensions of the graph \n",
    "        if x <= 1:\n",
    "            raise ValueError(\"Dimension of the graph is 1 (or lower). You can't flattened an already flattened graph\")\n",
    "        else:\n",
    "            dims = int(self.conns.shape[0]*(self.conns.shape[0]-1)/2)\n",
    "            self.flat_conns = np.zeros((1,dims))\n",
    "            k = 0\n",
    "            for i in range(x):\n",
    "                for j in range(i):\n",
    "                    self.flat_conns[0,k] = self.conns[i,j]\n",
    "                    k += 1\n",
    "            if save:\n",
    "                np.savetxt(self.dir+self.name+'_flatCM.csv', self.flat_conns, delimiter=',')\n",
    "            return self.flat_conns\n",
    "\n",
    "    def unflatten_graph(self, to_default=False):\n",
    "        \"\"\"\n",
    "        Unflatten a graph and transform it to a square symmetric matrix. \n",
    "        The unflattened graph becomes available after applying this method.\n",
    "        to_default: bool - The unflattened matrix becomes the default graph and replaces \n",
    "            the initial flat graph. As a checkpoint, the flattened graph is saved in the directory(default: False)\n",
    "        \"\"\"\n",
    "        x = self.conns.shape[0] # First dimension of the flattened graph \n",
    "        flat_dim = self.conns.shape[1]\n",
    "        if x > 1:\n",
    "            raise ValueError(\"Dimension of the graph greater than 1. You can't unflattened an already unflattened graph\")\n",
    "        else:\n",
    "            dims = int(1+np.sqrt(1+8*flat_dim)/2) # Dimensions of the squared graph\n",
    "            self.unflat_conns = np.zeros((dims,dims))\n",
    "            k = 0\n",
    "            for i in range(dims):\n",
    "                for j in range(i):\n",
    "                    self.unflat_conns[i, j] = self.conns[0, k]\n",
    "                    self.unflat_conns[j, i] = self.conns[0, k]\n",
    "                    k += 1\n",
    "            if to_default:\n",
    "                # We save the flat graph with another name\n",
    "                np.savetxt(self.dir+self.name+'_flatCM.csv', self.conns, delimiter=',')\n",
    "                # We replace the original file with the unflattend graph\n",
    "                np.savetxt(self.graph, self.unflat_conns, delimiter=',')\n",
    "                # We re-initialize the graph with the unflattened graph and both the same name and directory\n",
    "                self.__init__(self.graph, self.name, self.dir)\n",
    "            return self.unflat_conns"
   ]
  },
  {
   "cell_type": "code",
   "execution_count": 80,
   "metadata": {},
   "outputs": [],
   "source": [
    "G_process = GraphFromCSV(\"Brain-networks/control/ses-preop/sub-CON10_ses-preop_flatCM.csv\", name=\"sub-CON10_ses-preop\", base_dir=\"Brain-networks/\")\n",
    "network = G_process.unflatten_graph(to_default=False)\n",
    "network = np.delete(network, [34,35,80,81], axis=0)\n",
    "network = np.delete(network, [34,35,80,81], axis=1)\n",
    "graph = nx.from_numpy_array(network, create_using=nx.Graph, edge_attr=\"weight\")"
   ]
  },
  {
   "cell_type": "code",
   "execution_count": 113,
   "metadata": {},
   "outputs": [],
   "source": [
    "num_runs = 20"
   ]
  },
  {
   "cell_type": "code",
   "execution_count": 83,
   "metadata": {},
   "outputs": [],
   "source": [
    "resolution = 1\n",
    "adv_sampler = AdvantageSampler(graph, resolution=resolution, num_reads=100, use_clique_embedding=True)\n",
    "adv_searcher = HierarchicalCommunitySearcher(adv_sampler)\n",
    "adv_iterative = IterativeSearcher(adv_searcher)"
   ]
  },
  {
   "cell_type": "code",
   "execution_count": 111,
   "metadata": {},
   "outputs": [
    {
     "name": "stderr",
     "output_type": "stream",
     "text": [
      "100%|██████████| 20/20 [03:39<00:00, 10.97s/it]\n"
     ]
    }
   ],
   "source": [
    "results_it = adv_iterative.run_with_full_sampleset_info(num_runs=20, save_results=False)"
   ]
  },
  {
   "cell_type": "code",
   "execution_count": 114,
   "metadata": {},
   "outputs": [
    {
     "name": "stdout",
     "output_type": "stream",
     "text": [
      "[0.0, 0.3018141261362187, 0.3890632654692067]\n",
      "[0.0, 0.27518833151663774, 0.35697531392051574]\n",
      "[0.0, 0.27518833151663774, 0.35697531392051574]\n",
      "[0.0, 0.3066523539528263, 0.39240421066131176]\n",
      "[0.0, 0.31323015328158943, 0.3996874053186702]\n",
      "[0.0, 0.29471137896395705, 0.38125512296834957]\n",
      "[0.0, 0.27518833151663774, 0.35697531392051574]\n",
      "[0.0, 0.29471137896395705, 0.38125512296834957]\n",
      "[0.0, 0.27518833151663774, 0.35697531392051574]\n",
      "[0.0, 0.3066523539528263, 0.39240421066131176]\n",
      "[0.0, 0.27518833151663774, 0.35697531392051574]\n",
      "[0.0, 0.30021144774515596, 0.388987014094897]\n",
      "[0.0, 0.29471137896395705, 0.38125512296834957]\n",
      "[0.0, 0.27518833151663774, 0.35697531392051574]\n",
      "[0.0, 0.2873214865862525, 0.36944874762766533]\n",
      "[0.0, 0.3133629616407433, 0.4072822976499915]\n",
      "[0.0, 0.28218520273950903, 0.3685848905363981]\n",
      "[0.0, 0.27990295771221096, 0.36474306769525244]\n",
      "[0.0, 0.2873214865862525, 0.36944874762766533]\n",
      "[0.0, 0.2744968163559066, 0.36364355213001154]\n"
     ]
    }
   ],
   "source": [
    "for i in range(20):\n",
    "    print(results_it[i][-1])"
   ]
  },
  {
   "cell_type": "code",
   "execution_count": 102,
   "metadata": {},
   "outputs": [],
   "source": [
    "results = adv_searcher.hierarchical_community_search(division_tree=False, return_modularities=True, max_depth=None)"
   ]
  },
  {
   "cell_type": "code",
   "execution_count": 119,
   "metadata": {},
   "outputs": [
    {
     "name": "stderr",
     "output_type": "stream",
     "text": [
      "  0%|          | 0/20 [00:00<?, ?it/s]"
     ]
    },
    {
     "name": "stderr",
     "output_type": "stream",
     "text": [
      "100%|██████████| 20/20 [00:00<00:00, 44.71it/s]\n"
     ]
    }
   ],
   "source": [
    "louv_sampler = LeidenSampler(graph)#, resolution=resolution)\n",
    "louv_searcher = CommunitySearcher(louv_sampler)\n",
    "louv_iterative = IterativeSearcher(louv_searcher)\n",
    "cs_all, mod_all, ts_all = louv_iterative.run(num_runs=num_runs, save_results=False)"
   ]
  },
  {
   "cell_type": "code",
   "execution_count": 120,
   "metadata": {},
   "outputs": [
    {
     "data": {
      "text/plain": [
       "array([0.43055321, 0.43055321, 0.43055321, 0.43055321, 0.43055321,\n",
       "       0.43055321, 0.43055321, 0.43055321, 0.43055321, 0.43055321,\n",
       "       0.43055321, 0.43055321, 0.43055321, 0.43055321, 0.43055321,\n",
       "       0.43055321, 0.43055321, 0.43055321, 0.43055321, 0.43055321])"
      ]
     },
     "execution_count": 120,
     "metadata": {},
     "output_type": "execute_result"
    }
   ],
   "source": [
    "mod_all"
   ]
  },
  {
   "cell_type": "code",
   "execution_count": 135,
   "metadata": {},
   "outputs": [],
   "source": [
    "LC = nx.algorithms.community.louvain_communities(graph, weight='weight')\n",
    "LM = nx.algorithms.community.modularity(graph, LC, weight='weight')"
   ]
  },
  {
   "cell_type": "code",
   "execution_count": 136,
   "metadata": {},
   "outputs": [],
   "source": [
    "LP = nx.algorithms.community.louvain_partitions(graph, weight='weight')"
   ]
  },
  {
   "cell_type": "code",
   "execution_count": 147,
   "metadata": {},
   "outputs": [
    {
     "data": {
      "text/plain": [
       "{1,\n",
       " 3,\n",
       " 5,\n",
       " 7,\n",
       " 9,\n",
       " 11,\n",
       " 13,\n",
       " 15,\n",
       " 17,\n",
       " 19,\n",
       " 21,\n",
       " 23,\n",
       " 25,\n",
       " 27,\n",
       " 29,\n",
       " 31,\n",
       " 33,\n",
       " 35,\n",
       " 37,\n",
       " 39,\n",
       " 41,\n",
       " 69,\n",
       " 71,\n",
       " 73,\n",
       " 75,\n",
       " 77,\n",
       " 108,\n",
       " 117,\n",
       " 119,\n",
       " 121,\n",
       " 123,\n",
       " 125,\n",
       " 127,\n",
       " 128,\n",
       " 129,\n",
       " 131,\n",
       " 133,\n",
       " 135,\n",
       " 137,\n",
       " 139,\n",
       " 141,\n",
       " 143,\n",
       " 145,\n",
       " 147,\n",
       " 153,\n",
       " 155,\n",
       " 157,\n",
       " 159,\n",
       " 160,\n",
       " 161,\n",
       " 163,\n",
       " 164,\n",
       " 165}"
      ]
     },
     "execution_count": 147,
     "metadata": {},
     "output_type": "execute_result"
    }
   ],
   "source": [
    "LC[0]"
   ]
  },
  {
   "cell_type": "code",
   "execution_count": 140,
   "metadata": {},
   "outputs": [],
   "source": [
    "top = results_it[14]"
   ]
  },
  {
   "cell_type": "code",
   "execution_count": 145,
   "metadata": {},
   "outputs": [
    {
     "data": {
      "text/plain": [
       "[1,\n",
       " 5,\n",
       " 7,\n",
       " 9,\n",
       " 12,\n",
       " 13,\n",
       " 15,\n",
       " 33,\n",
       " 34,\n",
       " 35,\n",
       " 37,\n",
       " 39,\n",
       " 41,\n",
       " 44,\n",
       " 45,\n",
       " 46,\n",
       " 47,\n",
       " 49,\n",
       " 50,\n",
       " 51,\n",
       " 53,\n",
       " 55,\n",
       " 57,\n",
       " 59,\n",
       " 61,\n",
       " 63,\n",
       " 65,\n",
       " 67,\n",
       " 68,\n",
       " 69,\n",
       " 71,\n",
       " 75,\n",
       " 77,\n",
       " 78,\n",
       " 79,\n",
       " 80,\n",
       " 81,\n",
       " 84,\n",
       " 85,\n",
       " 89,\n",
       " 119,\n",
       " 123,\n",
       " 125,\n",
       " 127,\n",
       " 135,\n",
       " 137,\n",
       " 139,\n",
       " 141,\n",
       " 143,\n",
       " 145,\n",
       " 157,\n",
       " 159]"
      ]
     },
     "execution_count": 145,
     "metadata": {},
     "output_type": "execute_result"
    }
   ],
   "source": [
    "top[0][0]"
   ]
  },
  {
   "cell_type": "code",
   "execution_count": 186,
   "metadata": {},
   "outputs": [],
   "source": [
    "G = nx.barabasi_albert_graph(30, 2)\n",
    "for (u,v,w) in G.edges(data=True):\n",
    "    w['weight'] = 1000*np.random.rand()"
   ]
  },
  {
   "cell_type": "code",
   "execution_count": 187,
   "metadata": {},
   "outputs": [
    {
     "name": "stderr",
     "output_type": "stream",
     "text": [
      "100%|██████████| 20/20 [05:30<00:00, 16.54s/it]\n"
     ]
    }
   ],
   "source": [
    "resolution = 1\n",
    "adv_sampler = AdvantageSampler(G, resolution=resolution, num_reads=100, use_clique_embedding=True)\n",
    "adv_searcher = HierarchicalCommunitySearcher(adv_sampler)\n",
    "adv_iterative = IterativeSearcher(adv_searcher)\n",
    "results_weighted_adv = adv_iterative.run(num_runs=20, save_results=False)"
   ]
  },
  {
   "cell_type": "code",
   "execution_count": 188,
   "metadata": {},
   "outputs": [
    {
     "data": {
      "text/plain": [
       "array([0.37375834, 0.37375834, 0.37375834, 0.37375834, 0.37375834,\n",
       "       0.37375834, 0.37375834, 0.37375834, 0.37375834, 0.37375834,\n",
       "       0.37375834, 0.37375834, 0.37375834, 0.37375834, 0.37375834,\n",
       "       0.37375834, 0.37375834, 0.37375834, 0.37375834, 0.37375834])"
      ]
     },
     "execution_count": 188,
     "metadata": {},
     "output_type": "execute_result"
    }
   ],
   "source": [
    "results_weighted_adv[1]"
   ]
  },
  {
   "cell_type": "code",
   "execution_count": 200,
   "metadata": {},
   "outputs": [],
   "source": [
    "LC = nx.algorithms.community.louvain_communities(G, weight=None, resolution=resolution)\n",
    "LM = nx.algorithms.community.modularity(G, LC, weight=None, resolution=resolution)"
   ]
  },
  {
   "cell_type": "code",
   "execution_count": 201,
   "metadata": {},
   "outputs": [
    {
     "data": {
      "text/plain": [
       "0.3552295918367347"
      ]
     },
     "execution_count": 201,
     "metadata": {},
     "output_type": "execute_result"
    }
   ],
   "source": [
    "LM"
   ]
  },
  {
   "cell_type": "code",
   "execution_count": 194,
   "metadata": {},
   "outputs": [
    {
     "name": "stderr",
     "output_type": "stream",
     "text": [
      "100%|██████████| 20/20 [00:00<00:00, 335.68it/s]\n"
     ]
    }
   ],
   "source": [
    "louv_sampler = LouvainSampler(G, resolution=resolution)\n",
    "louv_searcher = CommunitySearcher(louv_sampler)\n",
    "louv_iterative = IterativeSearcher(louv_searcher)\n",
    "cs_all, mod_all, ts_all = louv_iterative.run(num_runs=num_runs, save_results=False)"
   ]
  },
  {
   "cell_type": "code",
   "execution_count": 195,
   "metadata": {},
   "outputs": [
    {
     "data": {
      "text/plain": [
       "array([0.4632551 , 0.4632551 , 0.4632551 , 0.4632551 , 0.46625909,\n",
       "       0.46820007, 0.46609982, 0.4632551 , 0.46820007, 0.46609982,\n",
       "       0.4632551 , 0.46625909, 0.46820007, 0.4632551 , 0.46625909,\n",
       "       0.46820007, 0.46820007, 0.46625909, 0.46820007, 0.4632551 ])"
      ]
     },
     "execution_count": 195,
     "metadata": {},
     "output_type": "execute_result"
    }
   ],
   "source": [
    "mod_all"
   ]
  }
 ],
 "metadata": {
  "kernelspec": {
   "display_name": "dwave_playground",
   "language": "python",
   "name": "python3"
  },
  "language_info": {
   "codemirror_mode": {
    "name": "ipython",
    "version": 3
   },
   "file_extension": ".py",
   "mimetype": "text/x-python",
   "name": "python",
   "nbconvert_exporter": "python",
   "pygments_lexer": "ipython3",
   "version": "3.12.2"
  }
 },
 "nbformat": 4,
 "nbformat_minor": 2
}
