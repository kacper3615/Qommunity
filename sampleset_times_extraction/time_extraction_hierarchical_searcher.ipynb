{
 "cells": [
  {
   "cell_type": "code",
   "execution_count": 2,
   "id": "5f07c889",
   "metadata": {},
   "outputs": [],
   "source": [
    "import numpy as np\n",
    "import networkx as nx\n",
    "import matplotlib.pyplot as plt\n",
    "\n",
    "from Qommunity.samplers.hierarchical.advantage_sampler import AdvantageSampler\n",
    "from Qommunity.searchers.hierarchical_searcher import HierarchicalSearcher\n",
    "from Qommunity.iterative_searcher import IterativeSearcher"
   ]
  },
  {
   "cell_type": "code",
   "execution_count": 3,
   "id": "b0af7068",
   "metadata": {},
   "outputs": [],
   "source": [
    "G = nx.powerlaw_cluster_graph(n=100, m=1, p=0.1)\n",
    "num_reads = 100\n",
    "version = \"\"\n",
    "region = \"na-west-1\""
   ]
  },
  {
   "cell_type": "code",
   "execution_count": 4,
   "id": "396f28c4",
   "metadata": {},
   "outputs": [],
   "source": [
    "advantage = AdvantageSampler(\n",
    "    G, num_reads=num_reads, version=version, region=region, use_clique_embedding=True, elapse_times=True, return_sampleset_metadata=True\n",
    ")"
   ]
  },
  {
   "cell_type": "code",
   "execution_count": 5,
   "id": "28de5d09",
   "metadata": {},
   "outputs": [],
   "source": [
    "hierarchical_searcher = HierarchicalSearcher(advantage)"
   ]
  },
  {
   "cell_type": "code",
   "execution_count": 6,
   "id": "5dd85b6c",
   "metadata": {},
   "outputs": [],
   "source": [
    "res = hierarchical_searcher.hierarchical_community_search(division_tree=True, return_modularities=True, return_sampleset_metadata=True)"
   ]
  },
  {
   "cell_type": "code",
   "execution_count": 14,
   "id": "bef1550c",
   "metadata": {},
   "outputs": [],
   "source": [
    "communities, division_modularities, division_tree, sampleset_metadata = res"
   ]
  },
  {
   "cell_type": "code",
   "execution_count": 16,
   "id": "7bc37cd2",
   "metadata": {},
   "outputs": [],
   "source": [
    "from dataclasses import dataclass"
   ]
  },
  {
   "cell_type": "code",
   "execution_count": null,
   "id": "78c23c1c",
   "metadata": {},
   "outputs": [],
   "source": [
    "# dwave_sampleset_metadata"
   ]
  },
  {
   "cell_type": "code",
   "execution_count": 10,
   "id": "c23b6077",
   "metadata": {},
   "outputs": [],
   "source": [
    "# dwave_sampleset_metadata.dtype.items()"
   ]
  },
  {
   "cell_type": "code",
   "execution_count": 17,
   "id": "586f4c7f",
   "metadata": {},
   "outputs": [],
   "source": [
    "@dataclass\n",
    "class DwaveSamplesetMetadata:\n",
    "    qpu_sampling_time: float\n",
    "    qpu_anneal_time_per_sample: float\n",
    "    qpu_readout_time_per_sample: float\n",
    "    qpu_access_time: float\n",
    "    qpu_access_overhead_time: float\n",
    "    qpu_programming_time: float\n",
    "    qpu_delay_time_per_sample: float\n",
    "    post_processing_overhead_time: float\n",
    "    total_post_processing_time: float"
   ]
  },
  {
   "cell_type": "code",
   "execution_count": 18,
   "id": "e2f3b0f6",
   "metadata": {},
   "outputs": [
    {
     "data": {
      "text/plain": [
       "['qpu_sampling_time',\n",
       " 'qpu_anneal_time_per_sample',\n",
       " 'qpu_readout_time_per_sample',\n",
       " 'qpu_access_time',\n",
       " 'qpu_access_overhead_time',\n",
       " 'qpu_programming_time',\n",
       " 'qpu_delay_time_per_sample',\n",
       " 'post_processing_overhead_time',\n",
       " 'total_post_processing_time']"
      ]
     },
     "execution_count": 18,
     "metadata": {},
     "output_type": "execute_result"
    }
   ],
   "source": [
    "from dataclasses import fields\n",
    "\n",
    "\n",
    "[el.name for el in fields(DwaveSamplesetMetadata)]"
   ]
  },
  {
   "cell_type": "code",
   "execution_count": 19,
   "id": "7c259ab9",
   "metadata": {},
   "outputs": [
    {
     "ename": "NameError",
     "evalue": "name 'dwave_sampleset_metadata' is not defined",
     "output_type": "error",
     "traceback": [
      "\u001b[1;31m---------------------------------------------------------------------------\u001b[0m",
      "\u001b[1;31mNameError\u001b[0m                                 Traceback (most recent call last)",
      "Cell \u001b[1;32mIn[19], line 1\u001b[0m\n\u001b[1;32m----> 1\u001b[0m [DwaveSamplesetMetadata(\u001b[38;5;241m*\u001b[39mrec) \u001b[38;5;28;01mfor\u001b[39;00m rec \u001b[38;5;129;01min\u001b[39;00m \u001b[43mdwave_sampleset_metadata\u001b[49m][:\u001b[38;5;241m3\u001b[39m]\n",
      "\u001b[1;31mNameError\u001b[0m: name 'dwave_sampleset_metadata' is not defined"
     ]
    }
   ],
   "source": [
    "[DwaveSamplesetMetadata(*rec) for rec in dwave_sampleset_metadata][:3]\n"
   ]
  },
  {
   "cell_type": "code",
   "execution_count": null,
   "id": "b1056f32",
   "metadata": {},
   "outputs": [
    {
     "data": {
      "text/plain": [
       "rec.array([(24068., 20., 200.1 , 39836.76, 1292.24, 15768.76, 20.58, 164., 164.),\n",
       "           (13876., 20.,  98.18, 29635.56, 1233.44, 15759.56, 20.58,  23.,  23.),\n",
       "           (20764., 20., 167.06, 36523.96, 1809.04, 15759.96, 20.58,   1.,   1.)],\n",
       "          dtype=[('qpu_sampling_time', '<f8'), ('qpu_anneal_time_per_sample', '<f8'), ('qpu_readout_time_per_sample', '<f8'), ('qpu_access_time', '<f8'), ('qpu_access_overhead_time', '<f8'), ('qpu_programming_time', '<f8'), ('qpu_delay_time_per_sample', '<f8'), ('post_processing_overhead_time', '<f8'), ('total_post_processing_time', '<f8')])"
      ]
     },
     "execution_count": 36,
     "metadata": {},
     "output_type": "execute_result"
    }
   ],
   "source": [
    "dwave_sampleset_metadata[:3]"
   ]
  },
  {
   "cell_type": "code",
   "execution_count": null,
   "id": "a1672a09",
   "metadata": {},
   "outputs": [],
   "source": [
    "@dataclass\n",
    "class HierarchicalRunData:\n",
    "    "
   ]
  },
  {
   "cell_type": "code",
   "execution_count": null,
   "id": "485227e2",
   "metadata": {},
   "outputs": [
    {
     "data": {
      "text/plain": [
       "array([24068., 13876., 20764., 20728., 12368.,  6604.,  8254., 20296.,\n",
       "       12632., 12412., 12412., 10628., 12676., 12500., 10628., 13444.,\n",
       "       20296., 12568., 12412., 10628., 17248., 20296., 12632., 12412.,\n",
       "       12412., 12676., 12412., 12412.,  6604., 10628.])"
      ]
     },
     "execution_count": 26,
     "metadata": {},
     "output_type": "execute_result"
    }
   ],
   "source": [
    "dwave_sampleset_metadata.qpu_sampling_time"
   ]
  },
  {
   "cell_type": "code",
   "execution_count": 34,
   "id": "b734e78a",
   "metadata": {},
   "outputs": [],
   "source": [
    "@dataclass\n",
    "class HierarchicalRunSamplesetMetadata:\n",
    "    dwave_sampleset_metadata: np.ndarray\n",
    "    time_measurements: np.ndarray"
   ]
  },
  {
   "cell_type": "code",
   "execution_count": null,
   "id": "2a50e534",
   "metadata": {},
   "outputs": [],
   "source": []
  },
  {
   "cell_type": "code",
   "execution_count": 31,
   "id": "fb3d0424",
   "metadata": {},
   "outputs": [],
   "source": [
    "@dataclass\n",
    "class HierarchicalSearchResults:\n",
    "    communities: list\n",
    "    division_modularities: list\n",
    "    division_tree: list\n",
    "    sampleset_metadata: dict"
   ]
  },
  {
   "cell_type": "code",
   "execution_count": 35,
   "id": "86471378",
   "metadata": {},
   "outputs": [
    {
     "data": {
      "text/plain": [
       "[SamplesetData(dwave_sampleset_metadata=rec.array((24068., 20., 200.1, 39834.36, 2326.64, 15766.36, 20.58, 21., 21.),\n",
       "           dtype=[('qpu_sampling_time', '<f8'), ('qpu_anneal_time_per_sample', '<f8'), ('qpu_readout_time_per_sample', '<f8'), ('qpu_access_time', '<f8'), ('qpu_access_overhead_time', '<f8'), ('qpu_programming_time', '<f8'), ('qpu_delay_time_per_sample', '<f8'), ('post_processing_overhead_time', '<f8'), ('total_post_processing_time', '<f8')]), time_measurements=rec.array((0.4721048, 0.0361965, 0.1435405),\n",
       "           dtype=[('find_clique_embedding_time', '<f8'), ('fixed_embedding_composite_time', '<f8'), ('sample_time', '<f8')])),\n",
       " SamplesetData(dwave_sampleset_metadata=rec.array((13852., 20., 97.94, 29614.76, 1284.24, 15762.76, 20.58, 19., 19.),\n",
       "           dtype=[('qpu_sampling_time', '<f8'), ('qpu_anneal_time_per_sample', '<f8'), ('qpu_readout_time_per_sample', '<f8'), ('qpu_access_time', '<f8'), ('qpu_access_overhead_time', '<f8'), ('qpu_programming_time', '<f8'), ('qpu_delay_time_per_sample', '<f8'), ('post_processing_overhead_time', '<f8'), ('total_post_processing_time', '<f8')]), time_measurements=rec.array((0.2481343, 0.0475445, 0.0624077),\n",
       "           dtype=[('find_clique_embedding_time', '<f8'), ('fixed_embedding_composite_time', '<f8'), ('sample_time', '<f8')])),\n",
       " SamplesetData(dwave_sampleset_metadata=rec.array((20818., 20., 167.6, 36580.36, 1119.64, 15762.36, 20.58, 1., 1.),\n",
       "           dtype=[('qpu_sampling_time', '<f8'), ('qpu_anneal_time_per_sample', '<f8'), ('qpu_readout_time_per_sample', '<f8'), ('qpu_access_time', '<f8'), ('qpu_access_overhead_time', '<f8'), ('qpu_programming_time', '<f8'), ('qpu_delay_time_per_sample', '<f8'), ('post_processing_overhead_time', '<f8'), ('total_post_processing_time', '<f8')]), time_measurements=rec.array((0.1738658, 0.0280661, 0.0430798),\n",
       "           dtype=[('find_clique_embedding_time', '<f8'), ('fixed_embedding_composite_time', '<f8'), ('sample_time', '<f8')])),\n",
       " SamplesetData(dwave_sampleset_metadata=rec.array((20296., 20., 162.38, 36057.56, 1168.44, 15761.56, 20.58, 1., 1.),\n",
       "           dtype=[('qpu_sampling_time', '<f8'), ('qpu_anneal_time_per_sample', '<f8'), ('qpu_readout_time_per_sample', '<f8'), ('qpu_access_time', '<f8'), ('qpu_access_overhead_time', '<f8'), ('qpu_programming_time', '<f8'), ('qpu_delay_time_per_sample', '<f8'), ('post_processing_overhead_time', '<f8'), ('total_post_processing_time', '<f8')]), time_measurements=rec.array((0.468832, 0.0300002, 0.0429671),\n",
       "           dtype=[('find_clique_embedding_time', '<f8'), ('fixed_embedding_composite_time', '<f8'), ('sample_time', '<f8')])),\n",
       " SamplesetData(dwave_sampleset_metadata=rec.array((20296., 20., 162.38, 36059.56, 1596.44, 15763.56, 20.58, 46., 46.),\n",
       "           dtype=[('qpu_sampling_time', '<f8'), ('qpu_anneal_time_per_sample', '<f8'), ('qpu_readout_time_per_sample', '<f8'), ('qpu_access_time', '<f8'), ('qpu_access_overhead_time', '<f8'), ('qpu_programming_time', '<f8'), ('qpu_delay_time_per_sample', '<f8'), ('post_processing_overhead_time', '<f8'), ('total_post_processing_time', '<f8')]), time_measurements=rec.array((0.1732257, 0.0212278, 0.0304326),\n",
       "           dtype=[('find_clique_embedding_time', '<f8'), ('fixed_embedding_composite_time', '<f8'), ('sample_time', '<f8')])),\n",
       " SamplesetData(dwave_sampleset_metadata=rec.array((19996., 20., 159.38, 35758.36, 1589.64, 15762.36, 20.58, 1., 1.),\n",
       "           dtype=[('qpu_sampling_time', '<f8'), ('qpu_anneal_time_per_sample', '<f8'), ('qpu_readout_time_per_sample', '<f8'), ('qpu_access_time', '<f8'), ('qpu_access_overhead_time', '<f8'), ('qpu_programming_time', '<f8'), ('qpu_delay_time_per_sample', '<f8'), ('post_processing_overhead_time', '<f8'), ('total_post_processing_time', '<f8')]), time_measurements=rec.array((0.224186, 0.0271728, 0.030298),\n",
       "           dtype=[('find_clique_embedding_time', '<f8'), ('fixed_embedding_composite_time', '<f8'), ('sample_time', '<f8')])),\n",
       " SamplesetData(dwave_sampleset_metadata=rec.array((8254., 20., 41.96, 24017.16, 1646.84, 15763.16, 20.58, 1., 1.),\n",
       "           dtype=[('qpu_sampling_time', '<f8'), ('qpu_anneal_time_per_sample', '<f8'), ('qpu_readout_time_per_sample', '<f8'), ('qpu_access_time', '<f8'), ('qpu_access_overhead_time', '<f8'), ('qpu_programming_time', '<f8'), ('qpu_delay_time_per_sample', '<f8'), ('total_post_processing_time', '<f8'), ('post_processing_overhead_time', '<f8')]), time_measurements=rec.array((0.182329, 0.0277959, 0.0327485),\n",
       "           dtype=[('find_clique_embedding_time', '<f8'), ('fixed_embedding_composite_time', '<f8'), ('sample_time', '<f8')])),\n",
       " SamplesetData(dwave_sampleset_metadata=rec.array((8254., 20., 41.96, 24017.16, 1354.84, 15763.16, 20.58, 1., 1.),\n",
       "           dtype=[('qpu_sampling_time', '<f8'), ('qpu_anneal_time_per_sample', '<f8'), ('qpu_readout_time_per_sample', '<f8'), ('qpu_access_time', '<f8'), ('qpu_access_overhead_time', '<f8'), ('qpu_programming_time', '<f8'), ('qpu_delay_time_per_sample', '<f8'), ('total_post_processing_time', '<f8'), ('post_processing_overhead_time', '<f8')]), time_measurements=rec.array((0.2603374, 0.0291692, 0.0372807),\n",
       "           dtype=[('find_clique_embedding_time', '<f8'), ('fixed_embedding_composite_time', '<f8'), ('sample_time', '<f8')])),\n",
       " SamplesetData(dwave_sampleset_metadata=rec.array((12368., 20., 83.1, 28131.16, 1625.84, 15763.16, 20.58, 117., 117.),\n",
       "           dtype=[('qpu_sampling_time', '<f8'), ('qpu_anneal_time_per_sample', '<f8'), ('qpu_readout_time_per_sample', '<f8'), ('qpu_access_time', '<f8'), ('qpu_access_overhead_time', '<f8'), ('qpu_programming_time', '<f8'), ('qpu_delay_time_per_sample', '<f8'), ('total_post_processing_time', '<f8'), ('post_processing_overhead_time', '<f8')]), time_measurements=rec.array((0.2809406, 0.0303171, 0.0265402),\n",
       "           dtype=[('find_clique_embedding_time', '<f8'), ('fixed_embedding_composite_time', '<f8'), ('sample_time', '<f8')])),\n",
       " SamplesetData(dwave_sampleset_metadata=rec.array((19816., 20., 157.58, 35578.76, 1100.24, 15762.76, 20.58, 1., 1.),\n",
       "           dtype=[('qpu_sampling_time', '<f8'), ('qpu_anneal_time_per_sample', '<f8'), ('qpu_readout_time_per_sample', '<f8'), ('qpu_access_time', '<f8'), ('qpu_access_overhead_time', '<f8'), ('qpu_programming_time', '<f8'), ('qpu_delay_time_per_sample', '<f8'), ('post_processing_overhead_time', '<f8'), ('total_post_processing_time', '<f8')]), time_measurements=rec.array((0.5652052, 0.0811459, 0.1144683),\n",
       "           dtype=[('find_clique_embedding_time', '<f8'), ('fixed_embedding_composite_time', '<f8'), ('sample_time', '<f8')])),\n",
       " SamplesetData(dwave_sampleset_metadata=rec.array((12676., 20., 86.18, 28438.76, 1705.24, 15762.76, 20.58, 51., 51.),\n",
       "           dtype=[('qpu_sampling_time', '<f8'), ('qpu_anneal_time_per_sample', '<f8'), ('qpu_readout_time_per_sample', '<f8'), ('qpu_access_time', '<f8'), ('qpu_access_overhead_time', '<f8'), ('qpu_programming_time', '<f8'), ('qpu_delay_time_per_sample', '<f8'), ('post_processing_overhead_time', '<f8'), ('total_post_processing_time', '<f8')]), time_measurements=rec.array((0.4607258, 0.0857848, 0.0969568),\n",
       "           dtype=[('find_clique_embedding_time', '<f8'), ('fixed_embedding_composite_time', '<f8'), ('sample_time', '<f8')])),\n",
       " SamplesetData(dwave_sampleset_metadata=rec.array((12412., 20., 83.54, 28175.16, 885.84, 15763.16, 20.58, 1., 1.),\n",
       "           dtype=[('qpu_sampling_time', '<f8'), ('qpu_anneal_time_per_sample', '<f8'), ('qpu_readout_time_per_sample', '<f8'), ('qpu_access_time', '<f8'), ('qpu_access_overhead_time', '<f8'), ('qpu_programming_time', '<f8'), ('qpu_delay_time_per_sample', '<f8'), ('total_post_processing_time', '<f8'), ('post_processing_overhead_time', '<f8')]), time_measurements=rec.array((0.5320742, 0.0729763, 0.0871185),\n",
       "           dtype=[('find_clique_embedding_time', '<f8'), ('fixed_embedding_composite_time', '<f8'), ('sample_time', '<f8')])),\n",
       " SamplesetData(dwave_sampleset_metadata=rec.array((12412., 20., 83.54, 28175.16, 1132.84, 15763.16, 20.58, 27., 27.),\n",
       "           dtype=[('qpu_sampling_time', '<f8'), ('qpu_anneal_time_per_sample', '<f8'), ('qpu_readout_time_per_sample', '<f8'), ('qpu_access_time', '<f8'), ('qpu_access_overhead_time', '<f8'), ('qpu_programming_time', '<f8'), ('qpu_delay_time_per_sample', '<f8'), ('total_post_processing_time', '<f8'), ('post_processing_overhead_time', '<f8')]), time_measurements=rec.array((0.4509607, 0.0757974, 0.0919077),\n",
       "           dtype=[('find_clique_embedding_time', '<f8'), ('fixed_embedding_composite_time', '<f8'), ('sample_time', '<f8')])),\n",
       " SamplesetData(dwave_sampleset_metadata=rec.array((12500., 20., 84.42, 28263.56, 971.44, 15763.56, 20.58, 36., 36.),\n",
       "           dtype=[('qpu_sampling_time', '<f8'), ('qpu_anneal_time_per_sample', '<f8'), ('qpu_readout_time_per_sample', '<f8'), ('qpu_access_time', '<f8'), ('qpu_access_overhead_time', '<f8'), ('qpu_programming_time', '<f8'), ('qpu_delay_time_per_sample', '<f8'), ('post_processing_overhead_time', '<f8'), ('total_post_processing_time', '<f8')]), time_measurements=rec.array((0.4497925, 0.0761231, 0.0808987),\n",
       "           dtype=[('find_clique_embedding_time', '<f8'), ('fixed_embedding_composite_time', '<f8'), ('sample_time', '<f8')])),\n",
       " SamplesetData(dwave_sampleset_metadata=rec.array((12412., 20., 83.54, 28175.56, 1441.44, 15763.56, 20.58, 5., 5.),\n",
       "           dtype=[('qpu_sampling_time', '<f8'), ('qpu_anneal_time_per_sample', '<f8'), ('qpu_readout_time_per_sample', '<f8'), ('qpu_access_time', '<f8'), ('qpu_access_overhead_time', '<f8'), ('qpu_programming_time', '<f8'), ('qpu_delay_time_per_sample', '<f8'), ('post_processing_overhead_time', '<f8'), ('total_post_processing_time', '<f8')]), time_measurements=rec.array((1.0818967, 0.0614342, 0.0794044),\n",
       "           dtype=[('find_clique_embedding_time', '<f8'), ('fixed_embedding_composite_time', '<f8'), ('sample_time', '<f8')])),\n",
       " SamplesetData(dwave_sampleset_metadata=rec.array((13784., 20., 97.26, 29544.76, 1749.24, 15760.76, 20.58, 63., 63.),\n",
       "           dtype=[('qpu_sampling_time', '<f8'), ('qpu_anneal_time_per_sample', '<f8'), ('qpu_readout_time_per_sample', '<f8'), ('qpu_access_time', '<f8'), ('qpu_access_overhead_time', '<f8'), ('qpu_programming_time', '<f8'), ('qpu_delay_time_per_sample', '<f8'), ('post_processing_overhead_time', '<f8'), ('total_post_processing_time', '<f8')]), time_measurements=rec.array((0.5975752, 0.0920803, 0.1579735),\n",
       "           dtype=[('find_clique_embedding_time', '<f8'), ('fixed_embedding_composite_time', '<f8'), ('sample_time', '<f8')])),\n",
       " SamplesetData(dwave_sampleset_metadata=rec.array((20728., 20., 166.7, 36489.96, 926.04, 15761.96, 20.58, 1., 1.),\n",
       "           dtype=[('qpu_sampling_time', '<f8'), ('qpu_anneal_time_per_sample', '<f8'), ('qpu_readout_time_per_sample', '<f8'), ('qpu_access_time', '<f8'), ('qpu_access_overhead_time', '<f8'), ('qpu_programming_time', '<f8'), ('qpu_delay_time_per_sample', '<f8'), ('post_processing_overhead_time', '<f8'), ('total_post_processing_time', '<f8')]), time_measurements=rec.array((0.5141045, 0.0744768, 0.1255286),\n",
       "           dtype=[('find_clique_embedding_time', '<f8'), ('fixed_embedding_composite_time', '<f8'), ('sample_time', '<f8')])),\n",
       " SamplesetData(dwave_sampleset_metadata=rec.array((12660., 20., 86.02, 28423.16, 2381.84, 15763.16, 20.58, 1., 1.),\n",
       "           dtype=[('qpu_sampling_time', '<f8'), ('qpu_anneal_time_per_sample', '<f8'), ('qpu_readout_time_per_sample', '<f8'), ('qpu_access_time', '<f8'), ('qpu_access_overhead_time', '<f8'), ('qpu_programming_time', '<f8'), ('qpu_delay_time_per_sample', '<f8'), ('post_processing_overhead_time', '<f8'), ('total_post_processing_time', '<f8')]), time_measurements=rec.array((0.6410037, 0.0910858, 0.1080633),\n",
       "           dtype=[('find_clique_embedding_time', '<f8'), ('fixed_embedding_composite_time', '<f8'), ('sample_time', '<f8')])),\n",
       " SamplesetData(dwave_sampleset_metadata=rec.array((17476., 20., 134.18, 33238.36, 2116.64, 15762.36, 20.58, 1., 1.),\n",
       "           dtype=[('qpu_sampling_time', '<f8'), ('qpu_anneal_time_per_sample', '<f8'), ('qpu_readout_time_per_sample', '<f8'), ('qpu_access_time', '<f8'), ('qpu_access_overhead_time', '<f8'), ('qpu_programming_time', '<f8'), ('qpu_delay_time_per_sample', '<f8'), ('post_processing_overhead_time', '<f8'), ('total_post_processing_time', '<f8')]), time_measurements=rec.array((0.5272567, 0.0626382, 0.0859356),\n",
       "           dtype=[('find_clique_embedding_time', '<f8'), ('fixed_embedding_composite_time', '<f8'), ('sample_time', '<f8')])),\n",
       " SamplesetData(dwave_sampleset_metadata=rec.array((12500., 20., 84.42, 28262.76, 1172.24, 15762.76, 20.58, 1., 1.),\n",
       "           dtype=[('qpu_sampling_time', '<f8'), ('qpu_anneal_time_per_sample', '<f8'), ('qpu_readout_time_per_sample', '<f8'), ('qpu_access_time', '<f8'), ('qpu_access_overhead_time', '<f8'), ('qpu_programming_time', '<f8'), ('qpu_delay_time_per_sample', '<f8'), ('post_processing_overhead_time', '<f8'), ('total_post_processing_time', '<f8')]), time_measurements=rec.array((0.5461803, 0.0903321, 0.1022434),\n",
       "           dtype=[('find_clique_embedding_time', '<f8'), ('fixed_embedding_composite_time', '<f8'), ('sample_time', '<f8')])),\n",
       " SamplesetData(dwave_sampleset_metadata=rec.array((12500., 20., 84.42, 28262.76, 665.24, 15762.76, 20.58, 30., 30.),\n",
       "           dtype=[('qpu_sampling_time', '<f8'), ('qpu_anneal_time_per_sample', '<f8'), ('qpu_readout_time_per_sample', '<f8'), ('qpu_access_time', '<f8'), ('qpu_access_overhead_time', '<f8'), ('qpu_programming_time', '<f8'), ('qpu_delay_time_per_sample', '<f8'), ('post_processing_overhead_time', '<f8'), ('total_post_processing_time', '<f8')]), time_measurements=rec.array((0.5103981, 0.0726174, 0.0918728),\n",
       "           dtype=[('find_clique_embedding_time', '<f8'), ('fixed_embedding_composite_time', '<f8'), ('sample_time', '<f8')])),\n",
       " SamplesetData(dwave_sampleset_metadata=rec.array((20818., 20., 167.6, 36579.56, 789.44, 15761.56, 20.58, 36., 36.),\n",
       "           dtype=[('qpu_sampling_time', '<f8'), ('qpu_anneal_time_per_sample', '<f8'), ('qpu_readout_time_per_sample', '<f8'), ('qpu_access_time', '<f8'), ('qpu_access_overhead_time', '<f8'), ('qpu_programming_time', '<f8'), ('qpu_delay_time_per_sample', '<f8'), ('post_processing_overhead_time', '<f8'), ('total_post_processing_time', '<f8')]), time_measurements=rec.array((0.4850484, 0.0862907, 0.1135379),\n",
       "           dtype=[('find_clique_embedding_time', '<f8'), ('fixed_embedding_composite_time', '<f8'), ('sample_time', '<f8')])),\n",
       " SamplesetData(dwave_sampleset_metadata=rec.array((14990., 20., 109.32, 30752.76, 1328.24, 15762.76, 20.58, 1., 1.),\n",
       "           dtype=[('qpu_sampling_time', '<f8'), ('qpu_anneal_time_per_sample', '<f8'), ('qpu_readout_time_per_sample', '<f8'), ('qpu_access_time', '<f8'), ('qpu_access_overhead_time', '<f8'), ('qpu_programming_time', '<f8'), ('qpu_delay_time_per_sample', '<f8'), ('post_processing_overhead_time', '<f8'), ('total_post_processing_time', '<f8')]), time_measurements=rec.array((0.5507878, 0.0851751, 0.0931226),\n",
       "           dtype=[('find_clique_embedding_time', '<f8'), ('fixed_embedding_composite_time', '<f8'), ('sample_time', '<f8')])),\n",
       " SamplesetData(dwave_sampleset_metadata=rec.array((17248., 20., 131.9, 33011.16, 1096.84, 15763.16, 20.58, 1., 1.),\n",
       "           dtype=[('qpu_sampling_time', '<f8'), ('qpu_anneal_time_per_sample', '<f8'), ('qpu_readout_time_per_sample', '<f8'), ('qpu_access_time', '<f8'), ('qpu_access_overhead_time', '<f8'), ('qpu_programming_time', '<f8'), ('qpu_delay_time_per_sample', '<f8'), ('post_processing_overhead_time', '<f8'), ('total_post_processing_time', '<f8')]), time_measurements=rec.array((0.5534074, 0.0648444, 0.1038208),\n",
       "           dtype=[('find_clique_embedding_time', '<f8'), ('fixed_embedding_composite_time', '<f8'), ('sample_time', '<f8')])),\n",
       " SamplesetData(dwave_sampleset_metadata=rec.array((12412., 20., 83.54, 28175.16, 1172.84, 15763.16, 20.58, 1., 1.),\n",
       "           dtype=[('qpu_sampling_time', '<f8'), ('qpu_anneal_time_per_sample', '<f8'), ('qpu_readout_time_per_sample', '<f8'), ('qpu_access_time', '<f8'), ('qpu_access_overhead_time', '<f8'), ('qpu_programming_time', '<f8'), ('qpu_delay_time_per_sample', '<f8'), ('total_post_processing_time', '<f8'), ('post_processing_overhead_time', '<f8')]), time_measurements=rec.array((0.5838888, 0.0702237, 0.0918304),\n",
       "           dtype=[('find_clique_embedding_time', '<f8'), ('fixed_embedding_composite_time', '<f8'), ('sample_time', '<f8')])),\n",
       " SamplesetData(dwave_sampleset_metadata=rec.array((12500., 20., 84.42, 28263.16, 1426.84, 15763.16, 20.58, 1., 1.),\n",
       "           dtype=[('qpu_sampling_time', '<f8'), ('qpu_anneal_time_per_sample', '<f8'), ('qpu_readout_time_per_sample', '<f8'), ('qpu_access_time', '<f8'), ('qpu_access_overhead_time', '<f8'), ('qpu_programming_time', '<f8'), ('qpu_delay_time_per_sample', '<f8'), ('total_post_processing_time', '<f8'), ('post_processing_overhead_time', '<f8')]), time_measurements=rec.array((0.6178595, 0.0908789, 0.1118958),\n",
       "           dtype=[('find_clique_embedding_time', '<f8'), ('fixed_embedding_composite_time', '<f8'), ('sample_time', '<f8')]))]"
      ]
     },
     "execution_count": 35,
     "metadata": {},
     "output_type": "execute_result"
    }
   ],
   "source": [
    "sampleset_metadata"
   ]
  },
  {
   "cell_type": "code",
   "execution_count": 21,
   "id": "6c7038c2",
   "metadata": {},
   "outputs": [],
   "source": [
    "sampleset = sampleset_metadata"
   ]
  },
  {
   "cell_type": "code",
   "execution_count": 23,
   "id": "02588502",
   "metadata": {},
   "outputs": [
    {
     "data": {
      "text/plain": [
       "rec.array((24068., 20., 200.1, 39834.36, 2326.64, 15766.36, 20.58, 21., 21.),\n",
       "          dtype=[('qpu_sampling_time', '<f8'), ('qpu_anneal_time_per_sample', '<f8'), ('qpu_readout_time_per_sample', '<f8'), ('qpu_access_time', '<f8'), ('qpu_access_overhead_time', '<f8'), ('qpu_programming_time', '<f8'), ('qpu_delay_time_per_sample', '<f8'), ('post_processing_overhead_time', '<f8'), ('total_post_processing_time', '<f8')])"
      ]
     },
     "execution_count": 23,
     "metadata": {},
     "output_type": "execute_result"
    }
   ],
   "source": [
    "sampleset[0].dwave_sampleset_metadata"
   ]
  },
  {
   "cell_type": "code",
   "execution_count": 24,
   "id": "b1a6c042",
   "metadata": {},
   "outputs": [
    {
     "data": {
      "text/plain": [
       "[('qpu_sampling_time', '<f8'),\n",
       " ('qpu_anneal_time_per_sample', '<f8'),\n",
       " ('qpu_readout_time_per_sample', '<f8'),\n",
       " ('qpu_access_time', '<f8'),\n",
       " ('qpu_access_overhead_time', '<f8'),\n",
       " ('qpu_programming_time', '<f8'),\n",
       " ('qpu_delay_time_per_sample', '<f8'),\n",
       " ('post_processing_overhead_time', '<f8'),\n",
       " ('total_post_processing_time', '<f8')]"
      ]
     },
     "execution_count": 24,
     "metadata": {},
     "output_type": "execute_result"
    }
   ],
   "source": [
    "dtype = [sampleset[0].dwave_sampleset_metadata][\n",
    "    0\n",
    "].dtype.descr\n",
    "dtype"
   ]
  },
  {
   "cell_type": "code",
   "execution_count": 25,
   "id": "81c5f29f",
   "metadata": {},
   "outputs": [
    {
     "name": "stdout",
     "output_type": "stream",
     "text": [
      "(24068., 20., 200.1, 39834.36, 2326.64, 15766.36, 20.58, 21., 21.)\n",
      "(13852., 20., 97.94, 29614.76, 1284.24, 15762.76, 20.58, 19., 19.)\n",
      "(20818., 20., 167.6, 36580.36, 1119.64, 15762.36, 20.58, 1., 1.)\n",
      "(20296., 20., 162.38, 36057.56, 1168.44, 15761.56, 20.58, 1., 1.)\n",
      "(20296., 20., 162.38, 36059.56, 1596.44, 15763.56, 20.58, 46., 46.)\n",
      "(19996., 20., 159.38, 35758.36, 1589.64, 15762.36, 20.58, 1., 1.)\n",
      "(8254., 20., 41.96, 24017.16, 1646.84, 15763.16, 20.58, 1., 1.)\n",
      "(8254., 20., 41.96, 24017.16, 1354.84, 15763.16, 20.58, 1., 1.)\n",
      "(12368., 20., 83.1, 28131.16, 1625.84, 15763.16, 20.58, 117., 117.)\n",
      "(19816., 20., 157.58, 35578.76, 1100.24, 15762.76, 20.58, 1., 1.)\n",
      "(12676., 20., 86.18, 28438.76, 1705.24, 15762.76, 20.58, 51., 51.)\n",
      "(12412., 20., 83.54, 28175.16, 885.84, 15763.16, 20.58, 1., 1.)\n",
      "(12412., 20., 83.54, 28175.16, 1132.84, 15763.16, 20.58, 27., 27.)\n",
      "(12500., 20., 84.42, 28263.56, 971.44, 15763.56, 20.58, 36., 36.)\n",
      "(12412., 20., 83.54, 28175.56, 1441.44, 15763.56, 20.58, 5., 5.)\n",
      "(13784., 20., 97.26, 29544.76, 1749.24, 15760.76, 20.58, 63., 63.)\n",
      "(20728., 20., 166.7, 36489.96, 926.04, 15761.96, 20.58, 1., 1.)\n",
      "(12660., 20., 86.02, 28423.16, 2381.84, 15763.16, 20.58, 1., 1.)\n",
      "(17476., 20., 134.18, 33238.36, 2116.64, 15762.36, 20.58, 1., 1.)\n",
      "(12500., 20., 84.42, 28262.76, 1172.24, 15762.76, 20.58, 1., 1.)\n",
      "(12500., 20., 84.42, 28262.76, 665.24, 15762.76, 20.58, 30., 30.)\n",
      "(20818., 20., 167.6, 36579.56, 789.44, 15761.56, 20.58, 36., 36.)\n",
      "(14990., 20., 109.32, 30752.76, 1328.24, 15762.76, 20.58, 1., 1.)\n",
      "(17248., 20., 131.9, 33011.16, 1096.84, 15763.16, 20.58, 1., 1.)\n",
      "(12412., 20., 83.54, 28175.16, 1172.84, 15763.16, 20.58, 1., 1.)\n",
      "(12500., 20., 84.42, 28263.16, 1426.84, 15763.16, 20.58, 1., 1.)\n"
     ]
    }
   ],
   "source": [
    "for division in sampleset:\n",
    "    print(division.dwave_sampleset_metadata)"
   ]
  },
  {
   "cell_type": "code",
   "execution_count": 33,
   "id": "61394f01",
   "metadata": {},
   "outputs": [
    {
     "ename": "TypeError",
     "evalue": "Cannot cast array data from dtype((numpy.record, [('qpu_sampling_time', '<f8'), ('qpu_anneal_time_per_sample', '<f8'), ('qpu_readout_time_per_sample', '<f8'), ('qpu_access_time', '<f8'), ('qpu_access_overhead_time', '<f8'), ('qpu_programming_time', '<f8'), ('qpu_delay_time_per_sample', '<f8'), ('post_processing_overhead_time', '<f8'), ('total_post_processing_time', '<f8')])) to dtype([('find_clique_embedding_time', '<f8'), ('fixed_embedding_composite_time', '<f8'), ('sample_time', '<f8')]).",
     "output_type": "error",
     "traceback": [
      "\u001b[1;31m---------------------------------------------------------------------------\u001b[0m",
      "\u001b[1;31mTypeError\u001b[0m                                 Traceback (most recent call last)",
      "Cell \u001b[1;32mIn[33], line 1\u001b[0m\n\u001b[1;32m----> 1\u001b[0m np\u001b[38;5;241m.\u001b[39mconcatenate([np\u001b[38;5;241m.\u001b[39marray([division_rec], dtype\u001b[38;5;241m=\u001b[39mdtype) \u001b[38;5;28;01mfor\u001b[39;00m division_rec \u001b[38;5;129;01min\u001b[39;00m [division\u001b[38;5;241m.\u001b[39mdwave_sampleset_metadata \u001b[38;5;28;01mfor\u001b[39;00m division \u001b[38;5;129;01min\u001b[39;00m sampleset]])\u001b[38;5;241m.\u001b[39mview(np\u001b[38;5;241m.\u001b[39mrecarray)\n",
      "Cell \u001b[1;32mIn[33], line 1\u001b[0m, in \u001b[0;36m<listcomp>\u001b[1;34m(.0)\u001b[0m\n\u001b[1;32m----> 1\u001b[0m np\u001b[38;5;241m.\u001b[39mconcatenate([\u001b[43mnp\u001b[49m\u001b[38;5;241;43m.\u001b[39;49m\u001b[43marray\u001b[49m\u001b[43m(\u001b[49m\u001b[43m[\u001b[49m\u001b[43mdivision_rec\u001b[49m\u001b[43m]\u001b[49m\u001b[43m,\u001b[49m\u001b[43m \u001b[49m\u001b[43mdtype\u001b[49m\u001b[38;5;241;43m=\u001b[39;49m\u001b[43mdtype\u001b[49m\u001b[43m)\u001b[49m \u001b[38;5;28;01mfor\u001b[39;00m division_rec \u001b[38;5;129;01min\u001b[39;00m [division\u001b[38;5;241m.\u001b[39mdwave_sampleset_metadata \u001b[38;5;28;01mfor\u001b[39;00m division \u001b[38;5;129;01min\u001b[39;00m sampleset]])\u001b[38;5;241m.\u001b[39mview(np\u001b[38;5;241m.\u001b[39mrecarray)\n",
      "\u001b[1;31mTypeError\u001b[0m: Cannot cast array data from dtype((numpy.record, [('qpu_sampling_time', '<f8'), ('qpu_anneal_time_per_sample', '<f8'), ('qpu_readout_time_per_sample', '<f8'), ('qpu_access_time', '<f8'), ('qpu_access_overhead_time', '<f8'), ('qpu_programming_time', '<f8'), ('qpu_delay_time_per_sample', '<f8'), ('post_processing_overhead_time', '<f8'), ('total_post_processing_time', '<f8')])) to dtype([('find_clique_embedding_time', '<f8'), ('fixed_embedding_composite_time', '<f8'), ('sample_time', '<f8')])."
     ]
    }
   ],
   "source": [
    "np.concatenate([np.array([division_rec], dtype=dtype) for division_rec in [division.dwave_sampleset_metadata for division in sampleset]]).view(np.recarray)"
   ]
  },
  {
   "cell_type": "code",
   "execution_count": 27,
   "id": "247acf82",
   "metadata": {},
   "outputs": [],
   "source": [
    "dtype = [sampleset[0].dwave_sampleset_metadata][\n",
    "    0\n",
    "].dtype.descr\n",
    "dtype\n",
    "dwave_sampleset_metadata = np.concatenate([np.array([division_rec], dtype=dtype) for division_rec in [division.dwave_sampleset_metadata for division in sampleset]]).view(np.recarray)\n",
    "\n",
    "dtype = [sampleset[0].time_measurements][\n",
    "    0\n",
    "].dtype.descr\n",
    "time_measurements = np.concatenate([np.array([division_rec], dtype=dtype) for division_rec in [division.time_measurements for division in sampleset]]).view(np.recarray)\n"
   ]
  },
  {
   "cell_type": "code",
   "execution_count": 28,
   "id": "d91ceefa",
   "metadata": {},
   "outputs": [
    {
     "data": {
      "text/plain": [
       "array([24068., 13852., 20818., 20296., 20296., 19996.,  8254.,  8254.,\n",
       "       12368., 19816., 12676., 12412., 12412., 12500., 12412., 13784.,\n",
       "       20728., 12660., 17476., 12500., 12500., 20818., 14990., 17248.,\n",
       "       12412., 12500.])"
      ]
     },
     "execution_count": 28,
     "metadata": {},
     "output_type": "execute_result"
    }
   ],
   "source": [
    "dwave_sampleset_metadata.qpu_sampling_time"
   ]
  },
  {
   "cell_type": "code",
   "execution_count": 22,
   "id": "22feeb89",
   "metadata": {},
   "outputs": [
    {
     "data": {
      "text/plain": [
       "4.3341346999877715"
      ]
     },
     "execution_count": 22,
     "metadata": {},
     "output_type": "execute_result"
    }
   ],
   "source": [
    "time_measurements.find_clique_embedding_time.sum()"
   ]
  },
  {
   "cell_type": "code",
   "execution_count": null,
   "id": "011e0b38",
   "metadata": {},
   "outputs": [],
   "source": [
    "def process_results(sampleset):\n",
    "    dtype = [sampleset[0].dwave_sampleset_metadata][\n",
    "        0\n",
    "    ].dtype.descr\n",
    "    dtype\n",
    "    dwave_sampleset_metadata = np.array(\n",
    "        [\n",
    "            np.concatenate(\n",
    "                [\n",
    "                    np.array([r], dtype=dtype)\n",
    "                    for r in [\n",
    "                        si.dwave_sampleset_info\n",
    "                        for si in sampleset[run].samplesets_data\n",
    "                    ]\n",
    "                ]\n",
    "            ).view(np.recarray)\n",
    "            for run in range(len(sampleset))\n",
    "        ],\n",
    "        dtype=object,\n",
    "    )\n",
    "\n",
    "    dtype = [si.time_measurements for si in sampleset[0].samplesets_data][\n",
    "        0\n",
    "    ].dtype.descr\n",
    "    time_measurements = np.array(\n",
    "        [\n",
    "            np.concatenate(\n",
    "                [\n",
    "                    np.array([r], dtype=dtype)\n",
    "                    for r in [\n",
    "                        si.time_measurements\n",
    "                        for si in sampleset[run].samplesets_data\n",
    "                    ]\n",
    "                ]\n",
    "            ).view(np.recarray)\n",
    "            for run in range(len(sampleset))\n",
    "        ],\n",
    "        dtype=object,\n",
    "    )\n",
    "\n",
    "    results_procesed_dtypes = sampleset.dtype.descr\n",
    "    results_procesed_dtypes.pop()\n",
    "    results_procesed_dtypes.append((\"dwave_sampleset_metadata\", object))\n",
    "    results_procesed_dtypes.append((\"time_measurements\", object))\n",
    "    results_procesed_dtypes\n",
    "\n",
    "    results_processed_componenets = [\n",
    "        sampleset.communities,\n",
    "        sampleset.modularity,\n",
    "        sampleset.time,\n",
    "        sampleset.division_tree,\n",
    "        sampleset.division_modularities,\n",
    "        dwave_sampleset_metadata,\n",
    "        time_measurements,\n",
    "    ]\n",
    "\n",
    "    results_processed = np.rec.fromarrays(\n",
    "        results_processed_componenets,\n",
    "        dtype=results_procesed_dtypes,\n",
    "    )\n",
    "\n",
    "    return results_processed"
   ]
  },
  {
   "cell_type": "code",
   "execution_count": 16,
   "id": "1317cb81",
   "metadata": {},
   "outputs": [
    {
     "ename": "AttributeError",
     "evalue": "'list' object has no attribute 'samplesets_data'",
     "output_type": "error",
     "traceback": [
      "\u001b[1;31m---------------------------------------------------------------------------\u001b[0m",
      "\u001b[1;31mAttributeError\u001b[0m                            Traceback (most recent call last)",
      "Cell \u001b[1;32mIn[16], line 1\u001b[0m\n\u001b[1;32m----> 1\u001b[0m processed \u001b[38;5;241m=\u001b[39m \u001b[43mprocess_results\u001b[49m\u001b[43m(\u001b[49m\u001b[43mres\u001b[49m\u001b[43m)\u001b[49m\n",
      "Cell \u001b[1;32mIn[15], line 2\u001b[0m, in \u001b[0;36mprocess_results\u001b[1;34m(sampleset)\u001b[0m\n\u001b[0;32m      1\u001b[0m \u001b[38;5;28;01mdef\u001b[39;00m \u001b[38;5;21mprocess_results\u001b[39m(sampleset):\n\u001b[1;32m----> 2\u001b[0m     dtype \u001b[38;5;241m=\u001b[39m [si\u001b[38;5;241m.\u001b[39mdwave_sampleset_metadata \u001b[38;5;28;01mfor\u001b[39;00m si \u001b[38;5;129;01min\u001b[39;00m \u001b[43msampleset\u001b[49m\u001b[43m[\u001b[49m\u001b[38;5;241;43m0\u001b[39;49m\u001b[43m]\u001b[49m\u001b[38;5;241;43m.\u001b[39;49m\u001b[43msamplesets_data\u001b[49m][\n\u001b[0;32m      3\u001b[0m         \u001b[38;5;241m0\u001b[39m\n\u001b[0;32m      4\u001b[0m     ]\u001b[38;5;241m.\u001b[39mdtype\u001b[38;5;241m.\u001b[39mdescr\n\u001b[0;32m      5\u001b[0m     dwave_sampleset_metadata \u001b[38;5;241m=\u001b[39m np\u001b[38;5;241m.\u001b[39marray(\n\u001b[0;32m      6\u001b[0m         [\n\u001b[0;32m      7\u001b[0m             np\u001b[38;5;241m.\u001b[39mconcatenate(\n\u001b[1;32m   (...)\u001b[0m\n\u001b[0;32m     18\u001b[0m         dtype\u001b[38;5;241m=\u001b[39m\u001b[38;5;28mobject\u001b[39m,\n\u001b[0;32m     19\u001b[0m     )\n\u001b[0;32m     21\u001b[0m     dtype \u001b[38;5;241m=\u001b[39m [si\u001b[38;5;241m.\u001b[39mtime_measurements \u001b[38;5;28;01mfor\u001b[39;00m si \u001b[38;5;129;01min\u001b[39;00m sampleset[\u001b[38;5;241m0\u001b[39m]\u001b[38;5;241m.\u001b[39msamplesets_data][\n\u001b[0;32m     22\u001b[0m         \u001b[38;5;241m0\u001b[39m\n\u001b[0;32m     23\u001b[0m     ]\u001b[38;5;241m.\u001b[39mdtype\u001b[38;5;241m.\u001b[39mdescr\n",
      "\u001b[1;31mAttributeError\u001b[0m: 'list' object has no attribute 'samplesets_data'"
     ]
    }
   ],
   "source": [
    "processed = process_results(res)"
   ]
  }
 ],
 "metadata": {
  "kernelspec": {
   "display_name": "qomm_env",
   "language": "python",
   "name": "python3"
  },
  "language_info": {
   "codemirror_mode": {
    "name": "ipython",
    "version": 3
   },
   "file_extension": ".py",
   "mimetype": "text/x-python",
   "name": "python",
   "nbconvert_exporter": "python",
   "pygments_lexer": "ipython3",
   "version": "3.10.14"
  }
 },
 "nbformat": 4,
 "nbformat_minor": 5
}
