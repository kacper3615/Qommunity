{
 "cells": [
  {
   "cell_type": "code",
   "execution_count": 1,
   "id": "5f07c889",
   "metadata": {},
   "outputs": [],
   "source": [
    "import numpy as np\n",
    "import networkx as nx\n",
    "import matplotlib.pyplot as plt\n",
    "\n",
    "from Qommunity.samplers.hierarchical.advantage_sampler import AdvantageSampler\n",
    "from Qommunity.searchers.hierarchical_searcher import HierarchicalSearcher\n",
    "from Qommunity.iterative_searcher import IterativeSearcher"
   ]
  },
  {
   "cell_type": "code",
   "execution_count": 2,
   "id": "b0af7068",
   "metadata": {},
   "outputs": [],
   "source": [
    "G = nx.powerlaw_cluster_graph(n=100, m=1, p=0.1)\n",
    "num_reads = 100\n",
    "version = \"\"\n",
    "region = \"na-west-1\""
   ]
  },
  {
   "cell_type": "code",
   "execution_count": 3,
   "id": "396f28c4",
   "metadata": {},
   "outputs": [],
   "source": [
    "advantage = AdvantageSampler(\n",
    "    G, num_reads=num_reads, version=version, region=region, use_clique_embedding=True, elapse_times=True, return_sampleset_metadata=True\n",
    ")"
   ]
  },
  {
   "cell_type": "code",
   "execution_count": 6,
   "id": "28de5d09",
   "metadata": {},
   "outputs": [],
   "source": [
    "hierarchical_searcher = HierarchicalSearcher(advantage)"
   ]
  },
  {
   "cell_type": "code",
   "execution_count": 7,
   "id": "5dd85b6c",
   "metadata": {},
   "outputs": [],
   "source": [
    "res = hierarchical_searcher.hierarchical_community_search(division_tree=True, return_modularities=True, return_sampleset_metadata=True)"
   ]
  },
  {
   "cell_type": "code",
   "execution_count": 11,
   "id": "bef1550c",
   "metadata": {},
   "outputs": [],
   "source": [
    "communities, division_modularities, division_tree, sampleset_metadata = res"
   ]
  },
  {
   "cell_type": "code",
   "execution_count": 59,
   "id": "7bc37cd2",
   "metadata": {},
   "outputs": [],
   "source": [
    "from dataclasses import dataclass\n"
   ]
  },
  {
   "cell_type": "code",
   "execution_count": 60,
   "id": "78c23c1c",
   "metadata": {},
   "outputs": [
    {
     "data": {
      "text/plain": [
       "rec.array([(24068., 20., 200.1 , 39835.96, 1395.04, 15767.96, 20.58,  1.,  1.),\n",
       "           (13444., 20.,  93.86, 29205.56, 1124.44, 15761.56, 20.58, 11., 11.),\n",
       "           (20434., 20., 163.76, 36194.36, 1417.64, 15760.36, 20.58, 53., 53.),\n",
       "           (17248., 20., 131.9 , 33008.36,  884.64, 15760.36, 20.58,  1.,  1.),\n",
       "           (17248., 20., 131.9 , 33009.16, 1086.84, 15761.16, 20.58,  1.,  1.),\n",
       "           ( 8254., 20.,  41.96, 24015.16, 1173.84, 15761.16, 20.58, 21., 21.),\n",
       "           (12660., 20.,  86.02, 28421.96,  965.04, 15761.96, 20.58,  1.,  1.),\n",
       "           (20296., 20., 162.38, 36055.96, 1020.04, 15759.96, 20.58, 26., 26.),\n",
       "           (12660., 20.,  86.02, 28421.16, 1998.84, 15761.16, 20.58,  1.,  1.),\n",
       "           (17248., 20., 131.9 , 33008.36, 2968.64, 15760.36, 20.58, 18., 18.),\n",
       "           (13716., 20.,  96.58, 29476.76, 2274.24, 15760.76, 20.58,  1.,  1.),\n",
       "           (20296., 20., 162.38, 36055.56, 2052.44, 15759.56, 20.58,  1.,  1.),\n",
       "           (19816., 20., 157.58, 35576.76,  999.24, 15760.76, 20.58, 22., 22.),\n",
       "           (12500., 20.,  84.42, 28261.16, 1085.84, 15761.16, 20.58, 39., 39.),\n",
       "           ( 6604., 20.,  25.46, 22365.16,  848.84, 15761.16, 20.58,  1.,  1.),\n",
       "           (12412., 20.,  83.54, 28173.16,  571.84, 15761.16, 20.58, 30., 30.),\n",
       "           (20728., 20., 166.7 , 36488.36, 1137.64, 15760.36, 20.58,  1.,  1.),\n",
       "           (20020., 20., 159.62, 35780.76, 1335.24, 15760.76, 20.58, 25., 25.),\n",
       "           (19816., 20., 157.58, 35577.16, 1130.84, 15761.16, 20.58, 26., 26.),\n",
       "           ( 8254., 20.,  41.96, 24015.16,  952.84, 15761.16, 20.58,  1.,  1.),\n",
       "           (12500., 20.,  84.42, 28261.16,  793.84, 15761.16, 20.58,  1.,  1.),\n",
       "           (10628., 20.,  65.7 , 26389.56,  914.44, 15761.56, 20.58,  1.,  1.),\n",
       "           (10628., 20.,  65.7 , 26389.16, 1036.84, 15761.16, 20.58, 37., 37.)],\n",
       "          dtype=[('qpu_sampling_time', '<f8'), ('qpu_anneal_time_per_sample', '<f8'), ('qpu_readout_time_per_sample', '<f8'), ('qpu_access_time', '<f8'), ('qpu_access_overhead_time', '<f8'), ('qpu_programming_time', '<f8'), ('qpu_delay_time_per_sample', '<f8'), ('post_processing_overhead_time', '<f8'), ('total_post_processing_time', '<f8')])"
      ]
     },
     "execution_count": 60,
     "metadata": {},
     "output_type": "execute_result"
    }
   ],
   "source": [
    "dwave_sampleset_metadata"
   ]
  },
  {
   "cell_type": "code",
   "execution_count": 74,
   "id": "c23b6077",
   "metadata": {},
   "outputs": [
    {
     "ename": "AttributeError",
     "evalue": "'numpy.dtype[void]' object has no attribute 'items'",
     "output_type": "error",
     "traceback": [
      "\u001b[1;31m---------------------------------------------------------------------------\u001b[0m",
      "\u001b[1;31mAttributeError\u001b[0m                            Traceback (most recent call last)",
      "Cell \u001b[1;32mIn[74], line 1\u001b[0m\n\u001b[1;32m----> 1\u001b[0m \u001b[43mdwave_sampleset_metadata\u001b[49m\u001b[38;5;241;43m.\u001b[39;49m\u001b[43mdtype\u001b[49m\u001b[38;5;241;43m.\u001b[39;49m\u001b[43mitems\u001b[49m()\n",
      "\u001b[1;31mAttributeError\u001b[0m: 'numpy.dtype[void]' object has no attribute 'items'"
     ]
    }
   ],
   "source": [
    "dwave_sampleset_metadata.dtype.items()"
   ]
  },
  {
   "cell_type": "code",
   "execution_count": 64,
   "id": "586f4c7f",
   "metadata": {},
   "outputs": [],
   "source": [
    "@dataclass\n",
    "class DwaveSamplesetMetadata:\n",
    "    qpu_sampling_time: float\n",
    "    qpu_anneal_time_per_sample: float\n",
    "    qpu_readout_time_per_sample: float\n",
    "    qpu_access_time: float\n",
    "    qpu_access_overhead_time: float\n",
    "    qpu_programming_time: float\n",
    "    qpu_delay_time_per_sample: float\n",
    "    post_processing_overhead_time: float\n",
    "    total_post_processing_time: float"
   ]
  },
  {
   "cell_type": "code",
   "execution_count": 70,
   "id": "e2f3b0f6",
   "metadata": {},
   "outputs": [
    {
     "data": {
      "text/plain": [
       "['qpu_sampling_time',\n",
       " 'qpu_anneal_time_per_sample',\n",
       " 'qpu_readout_time_per_sample',\n",
       " 'qpu_access_time',\n",
       " 'qpu_access_overhead_time',\n",
       " 'qpu_programming_time',\n",
       " 'qpu_delay_time_per_sample',\n",
       " 'post_processing_overhead_time',\n",
       " 'total_post_processing_time']"
      ]
     },
     "execution_count": 70,
     "metadata": {},
     "output_type": "execute_result"
    }
   ],
   "source": [
    "from dataclasses import fields\n",
    "\n",
    "\n",
    "[el.name for el in fields(DwaveSamplesetMetadata)]"
   ]
  },
  {
   "cell_type": "code",
   "execution_count": null,
   "id": "b734e78a",
   "metadata": {},
   "outputs": [],
   "source": [
    "@dataclass\n",
    "class HierarchicalRunSamplesetMetadata:\n",
    "    dwave_sampleset_metadata: np.ndarray\n",
    "    time_measurements: np.ndarray"
   ]
  },
  {
   "cell_type": "code",
   "execution_count": null,
   "id": "fb3d0424",
   "metadata": {},
   "outputs": [],
   "source": [
    "@dataclass\n",
    "class HierarchicalSearchResults:\n",
    "    communities: list\n",
    "    division_modularities: list\n",
    "    division_tree: list\n",
    "    sampleset_metadata: dict\n",
    "\n"
   ]
  },
  {
   "cell_type": "code",
   "execution_count": 57,
   "id": "86471378",
   "metadata": {},
   "outputs": [
    {
     "data": {
      "text/plain": [
       "[SamplesetData(dwave_sampleset_metadata=rec.array((24068., 20., 200.1, 39835.96, 1395.04, 15767.96, 20.58, 1., 1.),\n",
       "           dtype=[('qpu_sampling_time', '<f8'), ('qpu_anneal_time_per_sample', '<f8'), ('qpu_readout_time_per_sample', '<f8'), ('qpu_access_time', '<f8'), ('qpu_access_overhead_time', '<f8'), ('qpu_programming_time', '<f8'), ('qpu_delay_time_per_sample', '<f8'), ('post_processing_overhead_time', '<f8'), ('total_post_processing_time', '<f8')]), time_measurements=rec.array((0.1161801, 0.0242717, 0.0933536),\n",
       "           dtype=[('find_clique_embedding_time', '<f8'), ('fixed_embedding_composite_time', '<f8'), ('sample_time', '<f8')])),\n",
       " SamplesetData(dwave_sampleset_metadata=rec.array((13444., 20., 93.86, 29205.56, 1124.44, 15761.56, 20.58, 11., 11.),\n",
       "           dtype=[('qpu_sampling_time', '<f8'), ('qpu_anneal_time_per_sample', '<f8'), ('qpu_readout_time_per_sample', '<f8'), ('qpu_access_time', '<f8'), ('qpu_access_overhead_time', '<f8'), ('qpu_programming_time', '<f8'), ('qpu_delay_time_per_sample', '<f8'), ('post_processing_overhead_time', '<f8'), ('total_post_processing_time', '<f8')]), time_measurements=rec.array((0.1268124, 0.0157359, 0.0336899),\n",
       "           dtype=[('find_clique_embedding_time', '<f8'), ('fixed_embedding_composite_time', '<f8'), ('sample_time', '<f8')])),\n",
       " SamplesetData(dwave_sampleset_metadata=rec.array((20434., 20., 163.76, 36194.36, 1417.64, 15760.36, 20.58, 53., 53.),\n",
       "           dtype=[('qpu_sampling_time', '<f8'), ('qpu_anneal_time_per_sample', '<f8'), ('qpu_readout_time_per_sample', '<f8'), ('qpu_access_time', '<f8'), ('qpu_access_overhead_time', '<f8'), ('qpu_programming_time', '<f8'), ('qpu_delay_time_per_sample', '<f8'), ('post_processing_overhead_time', '<f8'), ('total_post_processing_time', '<f8')]), time_measurements=rec.array((0.122679, 0.0155981, 0.0220858),\n",
       "           dtype=[('find_clique_embedding_time', '<f8'), ('fixed_embedding_composite_time', '<f8'), ('sample_time', '<f8')])),\n",
       " SamplesetData(dwave_sampleset_metadata=rec.array((17248., 20., 131.9, 33008.36, 884.64, 15760.36, 20.58, 1., 1.),\n",
       "           dtype=[('qpu_sampling_time', '<f8'), ('qpu_anneal_time_per_sample', '<f8'), ('qpu_readout_time_per_sample', '<f8'), ('qpu_access_time', '<f8'), ('qpu_access_overhead_time', '<f8'), ('qpu_programming_time', '<f8'), ('qpu_delay_time_per_sample', '<f8'), ('post_processing_overhead_time', '<f8'), ('total_post_processing_time', '<f8')]), time_measurements=rec.array((0.1324589, 0.0149208, 0.0193553),\n",
       "           dtype=[('find_clique_embedding_time', '<f8'), ('fixed_embedding_composite_time', '<f8'), ('sample_time', '<f8')])),\n",
       " SamplesetData(dwave_sampleset_metadata=rec.array((17248., 20., 131.9, 33009.16, 1086.84, 15761.16, 20.58, 1., 1.),\n",
       "           dtype=[('qpu_sampling_time', '<f8'), ('qpu_anneal_time_per_sample', '<f8'), ('qpu_readout_time_per_sample', '<f8'), ('qpu_access_time', '<f8'), ('qpu_access_overhead_time', '<f8'), ('qpu_programming_time', '<f8'), ('qpu_delay_time_per_sample', '<f8'), ('post_processing_overhead_time', '<f8'), ('total_post_processing_time', '<f8')]), time_measurements=rec.array((0.1371871, 0.0167587, 0.0193432),\n",
       "           dtype=[('find_clique_embedding_time', '<f8'), ('fixed_embedding_composite_time', '<f8'), ('sample_time', '<f8')])),\n",
       " SamplesetData(dwave_sampleset_metadata=rec.array((8254., 20., 41.96, 24015.16, 1173.84, 15761.16, 20.58, 21., 21.),\n",
       "           dtype=[('qpu_sampling_time', '<f8'), ('qpu_anneal_time_per_sample', '<f8'), ('qpu_readout_time_per_sample', '<f8'), ('qpu_access_time', '<f8'), ('qpu_access_overhead_time', '<f8'), ('qpu_programming_time', '<f8'), ('qpu_delay_time_per_sample', '<f8'), ('total_post_processing_time', '<f8'), ('post_processing_overhead_time', '<f8')]), time_measurements=rec.array((0.1217577, 0.0180877, 0.0187523),\n",
       "           dtype=[('find_clique_embedding_time', '<f8'), ('fixed_embedding_composite_time', '<f8'), ('sample_time', '<f8')])),\n",
       " SamplesetData(dwave_sampleset_metadata=rec.array((12660., 20., 86.02, 28421.96, 965.04, 15761.96, 20.58, 1., 1.),\n",
       "           dtype=[('qpu_sampling_time', '<f8'), ('qpu_anneal_time_per_sample', '<f8'), ('qpu_readout_time_per_sample', '<f8'), ('qpu_access_time', '<f8'), ('qpu_access_overhead_time', '<f8'), ('qpu_programming_time', '<f8'), ('qpu_delay_time_per_sample', '<f8'), ('post_processing_overhead_time', '<f8'), ('total_post_processing_time', '<f8')]), time_measurements=rec.array((0.1490882, 0.0278866, 0.0225143),\n",
       "           dtype=[('find_clique_embedding_time', '<f8'), ('fixed_embedding_composite_time', '<f8'), ('sample_time', '<f8')])),\n",
       " SamplesetData(dwave_sampleset_metadata=rec.array((20296., 20., 162.38, 36055.96, 1020.04, 15759.96, 20.58, 26., 26.),\n",
       "           dtype=[('qpu_sampling_time', '<f8'), ('qpu_anneal_time_per_sample', '<f8'), ('qpu_readout_time_per_sample', '<f8'), ('qpu_access_time', '<f8'), ('qpu_access_overhead_time', '<f8'), ('qpu_programming_time', '<f8'), ('qpu_delay_time_per_sample', '<f8'), ('post_processing_overhead_time', '<f8'), ('total_post_processing_time', '<f8')]), time_measurements=rec.array((0.1932711, 0.0224939, 0.0276159),\n",
       "           dtype=[('find_clique_embedding_time', '<f8'), ('fixed_embedding_composite_time', '<f8'), ('sample_time', '<f8')])),\n",
       " SamplesetData(dwave_sampleset_metadata=rec.array((12660., 20., 86.02, 28421.16, 1998.84, 15761.16, 20.58, 1., 1.),\n",
       "           dtype=[('qpu_sampling_time', '<f8'), ('qpu_anneal_time_per_sample', '<f8'), ('qpu_readout_time_per_sample', '<f8'), ('qpu_access_time', '<f8'), ('qpu_access_overhead_time', '<f8'), ('qpu_programming_time', '<f8'), ('qpu_delay_time_per_sample', '<f8'), ('post_processing_overhead_time', '<f8'), ('total_post_processing_time', '<f8')]), time_measurements=rec.array((0.1292906, 0.0308178, 0.0426552),\n",
       "           dtype=[('find_clique_embedding_time', '<f8'), ('fixed_embedding_composite_time', '<f8'), ('sample_time', '<f8')])),\n",
       " SamplesetData(dwave_sampleset_metadata=rec.array((17248., 20., 131.9, 33008.36, 2968.64, 15760.36, 20.58, 18., 18.),\n",
       "           dtype=[('qpu_sampling_time', '<f8'), ('qpu_anneal_time_per_sample', '<f8'), ('qpu_readout_time_per_sample', '<f8'), ('qpu_access_time', '<f8'), ('qpu_access_overhead_time', '<f8'), ('qpu_programming_time', '<f8'), ('qpu_delay_time_per_sample', '<f8'), ('post_processing_overhead_time', '<f8'), ('total_post_processing_time', '<f8')]), time_measurements=rec.array((0.1480177, 0.0283648, 0.0266856),\n",
       "           dtype=[('find_clique_embedding_time', '<f8'), ('fixed_embedding_composite_time', '<f8'), ('sample_time', '<f8')])),\n",
       " SamplesetData(dwave_sampleset_metadata=rec.array((13716., 20., 96.58, 29476.76, 2274.24, 15760.76, 20.58, 1., 1.),\n",
       "           dtype=[('qpu_sampling_time', '<f8'), ('qpu_anneal_time_per_sample', '<f8'), ('qpu_readout_time_per_sample', '<f8'), ('qpu_access_time', '<f8'), ('qpu_access_overhead_time', '<f8'), ('qpu_programming_time', '<f8'), ('qpu_delay_time_per_sample', '<f8'), ('post_processing_overhead_time', '<f8'), ('total_post_processing_time', '<f8')]), time_measurements=rec.array((0.1530667, 0.0348214, 0.0482114),\n",
       "           dtype=[('find_clique_embedding_time', '<f8'), ('fixed_embedding_composite_time', '<f8'), ('sample_time', '<f8')])),\n",
       " SamplesetData(dwave_sampleset_metadata=rec.array((20296., 20., 162.38, 36055.56, 2052.44, 15759.56, 20.58, 1., 1.),\n",
       "           dtype=[('qpu_sampling_time', '<f8'), ('qpu_anneal_time_per_sample', '<f8'), ('qpu_readout_time_per_sample', '<f8'), ('qpu_access_time', '<f8'), ('qpu_access_overhead_time', '<f8'), ('qpu_programming_time', '<f8'), ('qpu_delay_time_per_sample', '<f8'), ('post_processing_overhead_time', '<f8'), ('total_post_processing_time', '<f8')]), time_measurements=rec.array((0.1300791, 0.0330374, 0.0286582),\n",
       "           dtype=[('find_clique_embedding_time', '<f8'), ('fixed_embedding_composite_time', '<f8'), ('sample_time', '<f8')])),\n",
       " SamplesetData(dwave_sampleset_metadata=rec.array((19816., 20., 157.58, 35576.76, 999.24, 15760.76, 20.58, 22., 22.),\n",
       "           dtype=[('qpu_sampling_time', '<f8'), ('qpu_anneal_time_per_sample', '<f8'), ('qpu_readout_time_per_sample', '<f8'), ('qpu_access_time', '<f8'), ('qpu_access_overhead_time', '<f8'), ('qpu_programming_time', '<f8'), ('qpu_delay_time_per_sample', '<f8'), ('post_processing_overhead_time', '<f8'), ('total_post_processing_time', '<f8')]), time_measurements=rec.array((0.1832538, 0.0212719, 0.025413),\n",
       "           dtype=[('find_clique_embedding_time', '<f8'), ('fixed_embedding_composite_time', '<f8'), ('sample_time', '<f8')])),\n",
       " SamplesetData(dwave_sampleset_metadata=rec.array((12500., 20., 84.42, 28261.16, 1085.84, 15761.16, 20.58, 39., 39.),\n",
       "           dtype=[('qpu_sampling_time', '<f8'), ('qpu_anneal_time_per_sample', '<f8'), ('qpu_readout_time_per_sample', '<f8'), ('qpu_access_time', '<f8'), ('qpu_access_overhead_time', '<f8'), ('qpu_programming_time', '<f8'), ('qpu_delay_time_per_sample', '<f8'), ('total_post_processing_time', '<f8'), ('post_processing_overhead_time', '<f8')]), time_measurements=rec.array((0.1618717, 0.0267663, 0.0229323),\n",
       "           dtype=[('find_clique_embedding_time', '<f8'), ('fixed_embedding_composite_time', '<f8'), ('sample_time', '<f8')])),\n",
       " SamplesetData(dwave_sampleset_metadata=rec.array((6604., 20., 25.46, 22365.16, 848.84, 15761.16, 20.58, 1., 1.),\n",
       "           dtype=[('qpu_sampling_time', '<f8'), ('qpu_anneal_time_per_sample', '<f8'), ('qpu_readout_time_per_sample', '<f8'), ('qpu_access_time', '<f8'), ('qpu_access_overhead_time', '<f8'), ('qpu_programming_time', '<f8'), ('qpu_delay_time_per_sample', '<f8'), ('total_post_processing_time', '<f8'), ('post_processing_overhead_time', '<f8')]), time_measurements=rec.array((0.1966089, 0.0177902, 0.0277162),\n",
       "           dtype=[('find_clique_embedding_time', '<f8'), ('fixed_embedding_composite_time', '<f8'), ('sample_time', '<f8')])),\n",
       " SamplesetData(dwave_sampleset_metadata=rec.array((12412., 20., 83.54, 28173.16, 571.84, 15761.16, 20.58, 30., 30.),\n",
       "           dtype=[('qpu_sampling_time', '<f8'), ('qpu_anneal_time_per_sample', '<f8'), ('qpu_readout_time_per_sample', '<f8'), ('qpu_access_time', '<f8'), ('qpu_access_overhead_time', '<f8'), ('qpu_programming_time', '<f8'), ('qpu_delay_time_per_sample', '<f8'), ('total_post_processing_time', '<f8'), ('post_processing_overhead_time', '<f8')]), time_measurements=rec.array((0.1549053, 0.0317649, 0.0231734),\n",
       "           dtype=[('find_clique_embedding_time', '<f8'), ('fixed_embedding_composite_time', '<f8'), ('sample_time', '<f8')])),\n",
       " SamplesetData(dwave_sampleset_metadata=rec.array((20728., 20., 166.7, 36488.36, 1137.64, 15760.36, 20.58, 1., 1.),\n",
       "           dtype=[('qpu_sampling_time', '<f8'), ('qpu_anneal_time_per_sample', '<f8'), ('qpu_readout_time_per_sample', '<f8'), ('qpu_access_time', '<f8'), ('qpu_access_overhead_time', '<f8'), ('qpu_programming_time', '<f8'), ('qpu_delay_time_per_sample', '<f8'), ('post_processing_overhead_time', '<f8'), ('total_post_processing_time', '<f8')]), time_measurements=rec.array((0.1503899, 0.0307642, 0.0258787),\n",
       "           dtype=[('find_clique_embedding_time', '<f8'), ('fixed_embedding_composite_time', '<f8'), ('sample_time', '<f8')])),\n",
       " SamplesetData(dwave_sampleset_metadata=rec.array((20020., 20., 159.62, 35780.76, 1335.24, 15760.76, 20.58, 25., 25.),\n",
       "           dtype=[('qpu_sampling_time', '<f8'), ('qpu_anneal_time_per_sample', '<f8'), ('qpu_readout_time_per_sample', '<f8'), ('qpu_access_time', '<f8'), ('qpu_access_overhead_time', '<f8'), ('qpu_programming_time', '<f8'), ('qpu_delay_time_per_sample', '<f8'), ('post_processing_overhead_time', '<f8'), ('total_post_processing_time', '<f8')]), time_measurements=rec.array((0.1276361, 0.0187537, 0.0234499),\n",
       "           dtype=[('find_clique_embedding_time', '<f8'), ('fixed_embedding_composite_time', '<f8'), ('sample_time', '<f8')])),\n",
       " SamplesetData(dwave_sampleset_metadata=rec.array((19816., 20., 157.58, 35577.16, 1130.84, 15761.16, 20.58, 26., 26.),\n",
       "           dtype=[('qpu_sampling_time', '<f8'), ('qpu_anneal_time_per_sample', '<f8'), ('qpu_readout_time_per_sample', '<f8'), ('qpu_access_time', '<f8'), ('qpu_access_overhead_time', '<f8'), ('qpu_programming_time', '<f8'), ('qpu_delay_time_per_sample', '<f8'), ('post_processing_overhead_time', '<f8'), ('total_post_processing_time', '<f8')]), time_measurements=rec.array((0.1831399, 0.0218627, 0.0233178),\n",
       "           dtype=[('find_clique_embedding_time', '<f8'), ('fixed_embedding_composite_time', '<f8'), ('sample_time', '<f8')])),\n",
       " SamplesetData(dwave_sampleset_metadata=rec.array((8254., 20., 41.96, 24015.16, 952.84, 15761.16, 20.58, 1., 1.),\n",
       "           dtype=[('qpu_sampling_time', '<f8'), ('qpu_anneal_time_per_sample', '<f8'), ('qpu_readout_time_per_sample', '<f8'), ('qpu_access_time', '<f8'), ('qpu_access_overhead_time', '<f8'), ('qpu_programming_time', '<f8'), ('qpu_delay_time_per_sample', '<f8'), ('total_post_processing_time', '<f8'), ('post_processing_overhead_time', '<f8')]), time_measurements=rec.array((0.139299, 0.0217795, 0.0257846),\n",
       "           dtype=[('find_clique_embedding_time', '<f8'), ('fixed_embedding_composite_time', '<f8'), ('sample_time', '<f8')])),\n",
       " SamplesetData(dwave_sampleset_metadata=rec.array((12500., 20., 84.42, 28261.16, 793.84, 15761.16, 20.58, 1., 1.),\n",
       "           dtype=[('qpu_sampling_time', '<f8'), ('qpu_anneal_time_per_sample', '<f8'), ('qpu_readout_time_per_sample', '<f8'), ('qpu_access_time', '<f8'), ('qpu_access_overhead_time', '<f8'), ('qpu_programming_time', '<f8'), ('qpu_delay_time_per_sample', '<f8'), ('total_post_processing_time', '<f8'), ('post_processing_overhead_time', '<f8')]), time_measurements=rec.array((0.1786761, 0.0238293, 0.0271444),\n",
       "           dtype=[('find_clique_embedding_time', '<f8'), ('fixed_embedding_composite_time', '<f8'), ('sample_time', '<f8')])),\n",
       " SamplesetData(dwave_sampleset_metadata=rec.array((10628., 20., 65.7, 26389.56, 914.44, 15761.56, 20.58, 1., 1.),\n",
       "           dtype=[('qpu_sampling_time', '<f8'), ('qpu_anneal_time_per_sample', '<f8'), ('qpu_readout_time_per_sample', '<f8'), ('qpu_access_time', '<f8'), ('qpu_access_overhead_time', '<f8'), ('qpu_programming_time', '<f8'), ('qpu_delay_time_per_sample', '<f8'), ('total_post_processing_time', '<f8'), ('post_processing_overhead_time', '<f8')]), time_measurements=rec.array((0.2008763, 0.0388953, 0.0340013),\n",
       "           dtype=[('find_clique_embedding_time', '<f8'), ('fixed_embedding_composite_time', '<f8'), ('sample_time', '<f8')])),\n",
       " SamplesetData(dwave_sampleset_metadata=rec.array((10628., 20., 65.7, 26389.16, 1036.84, 15761.16, 20.58, 37., 37.),\n",
       "           dtype=[('qpu_sampling_time', '<f8'), ('qpu_anneal_time_per_sample', '<f8'), ('qpu_readout_time_per_sample', '<f8'), ('qpu_access_time', '<f8'), ('qpu_access_overhead_time', '<f8'), ('qpu_programming_time', '<f8'), ('qpu_delay_time_per_sample', '<f8'), ('total_post_processing_time', '<f8'), ('post_processing_overhead_time', '<f8')]), time_measurements=rec.array((0.1401958, 0.0186156, 0.0231888),\n",
       "           dtype=[('find_clique_embedding_time', '<f8'), ('fixed_embedding_composite_time', '<f8'), ('sample_time', '<f8')]))]"
      ]
     },
     "execution_count": 57,
     "metadata": {},
     "output_type": "execute_result"
    }
   ],
   "source": [
    "sampleset_metadata"
   ]
  },
  {
   "cell_type": "code",
   "execution_count": 17,
   "id": "6c7038c2",
   "metadata": {},
   "outputs": [],
   "source": [
    "sampleset = sampleset_metadata"
   ]
  },
  {
   "cell_type": "code",
   "execution_count": 23,
   "id": "02588502",
   "metadata": {},
   "outputs": [
    {
     "data": {
      "text/plain": [
       "rec.array((24068., 20., 200.1, 39835.96, 1395.04, 15767.96, 20.58, 1., 1.),\n",
       "          dtype=[('qpu_sampling_time', '<f8'), ('qpu_anneal_time_per_sample', '<f8'), ('qpu_readout_time_per_sample', '<f8'), ('qpu_access_time', '<f8'), ('qpu_access_overhead_time', '<f8'), ('qpu_programming_time', '<f8'), ('qpu_delay_time_per_sample', '<f8'), ('post_processing_overhead_time', '<f8'), ('total_post_processing_time', '<f8')])"
      ]
     },
     "execution_count": 23,
     "metadata": {},
     "output_type": "execute_result"
    }
   ],
   "source": [
    "sampleset[0].dwave_sampleset_metadata"
   ]
  },
  {
   "cell_type": "code",
   "execution_count": 26,
   "id": "b1a6c042",
   "metadata": {},
   "outputs": [
    {
     "data": {
      "text/plain": [
       "[('qpu_sampling_time', '<f8'),\n",
       " ('qpu_anneal_time_per_sample', '<f8'),\n",
       " ('qpu_readout_time_per_sample', '<f8'),\n",
       " ('qpu_access_time', '<f8'),\n",
       " ('qpu_access_overhead_time', '<f8'),\n",
       " ('qpu_programming_time', '<f8'),\n",
       " ('qpu_delay_time_per_sample', '<f8'),\n",
       " ('post_processing_overhead_time', '<f8'),\n",
       " ('total_post_processing_time', '<f8')]"
      ]
     },
     "execution_count": 26,
     "metadata": {},
     "output_type": "execute_result"
    }
   ],
   "source": [
    "dtype = [sampleset[0].dwave_sampleset_metadata][\n",
    "    0\n",
    "].dtype.descr\n",
    "dtype"
   ]
  },
  {
   "cell_type": "code",
   "execution_count": 37,
   "id": "81c5f29f",
   "metadata": {},
   "outputs": [
    {
     "name": "stdout",
     "output_type": "stream",
     "text": [
      "(24068., 20., 200.1, 39835.96, 1395.04, 15767.96, 20.58, 1., 1.)\n",
      "(13444., 20., 93.86, 29205.56, 1124.44, 15761.56, 20.58, 11., 11.)\n",
      "(20434., 20., 163.76, 36194.36, 1417.64, 15760.36, 20.58, 53., 53.)\n",
      "(17248., 20., 131.9, 33008.36, 884.64, 15760.36, 20.58, 1., 1.)\n",
      "(17248., 20., 131.9, 33009.16, 1086.84, 15761.16, 20.58, 1., 1.)\n",
      "(8254., 20., 41.96, 24015.16, 1173.84, 15761.16, 20.58, 21., 21.)\n",
      "(12660., 20., 86.02, 28421.96, 965.04, 15761.96, 20.58, 1., 1.)\n",
      "(20296., 20., 162.38, 36055.96, 1020.04, 15759.96, 20.58, 26., 26.)\n",
      "(12660., 20., 86.02, 28421.16, 1998.84, 15761.16, 20.58, 1., 1.)\n",
      "(17248., 20., 131.9, 33008.36, 2968.64, 15760.36, 20.58, 18., 18.)\n",
      "(13716., 20., 96.58, 29476.76, 2274.24, 15760.76, 20.58, 1., 1.)\n",
      "(20296., 20., 162.38, 36055.56, 2052.44, 15759.56, 20.58, 1., 1.)\n",
      "(19816., 20., 157.58, 35576.76, 999.24, 15760.76, 20.58, 22., 22.)\n",
      "(12500., 20., 84.42, 28261.16, 1085.84, 15761.16, 20.58, 39., 39.)\n",
      "(6604., 20., 25.46, 22365.16, 848.84, 15761.16, 20.58, 1., 1.)\n",
      "(12412., 20., 83.54, 28173.16, 571.84, 15761.16, 20.58, 30., 30.)\n",
      "(20728., 20., 166.7, 36488.36, 1137.64, 15760.36, 20.58, 1., 1.)\n",
      "(20020., 20., 159.62, 35780.76, 1335.24, 15760.76, 20.58, 25., 25.)\n",
      "(19816., 20., 157.58, 35577.16, 1130.84, 15761.16, 20.58, 26., 26.)\n",
      "(8254., 20., 41.96, 24015.16, 952.84, 15761.16, 20.58, 1., 1.)\n",
      "(12500., 20., 84.42, 28261.16, 793.84, 15761.16, 20.58, 1., 1.)\n",
      "(10628., 20., 65.7, 26389.56, 914.44, 15761.56, 20.58, 1., 1.)\n",
      "(10628., 20., 65.7, 26389.16, 1036.84, 15761.16, 20.58, 37., 37.)\n"
     ]
    }
   ],
   "source": [
    "for division in sampleset:\n",
    "    print(division.dwave_sampleset_metadata)"
   ]
  },
  {
   "cell_type": "code",
   "execution_count": 48,
   "id": "61394f01",
   "metadata": {},
   "outputs": [
    {
     "data": {
      "text/plain": [
       "rec.array([(24068., 20., 200.1 , 39835.96, 1395.04, 15767.96, 20.58,  1.,  1.),\n",
       "           (13444., 20.,  93.86, 29205.56, 1124.44, 15761.56, 20.58, 11., 11.),\n",
       "           (20434., 20., 163.76, 36194.36, 1417.64, 15760.36, 20.58, 53., 53.),\n",
       "           (17248., 20., 131.9 , 33008.36,  884.64, 15760.36, 20.58,  1.,  1.),\n",
       "           (17248., 20., 131.9 , 33009.16, 1086.84, 15761.16, 20.58,  1.,  1.),\n",
       "           ( 8254., 20.,  41.96, 24015.16, 1173.84, 15761.16, 20.58, 21., 21.),\n",
       "           (12660., 20.,  86.02, 28421.96,  965.04, 15761.96, 20.58,  1.,  1.),\n",
       "           (20296., 20., 162.38, 36055.96, 1020.04, 15759.96, 20.58, 26., 26.),\n",
       "           (12660., 20.,  86.02, 28421.16, 1998.84, 15761.16, 20.58,  1.,  1.),\n",
       "           (17248., 20., 131.9 , 33008.36, 2968.64, 15760.36, 20.58, 18., 18.),\n",
       "           (13716., 20.,  96.58, 29476.76, 2274.24, 15760.76, 20.58,  1.,  1.),\n",
       "           (20296., 20., 162.38, 36055.56, 2052.44, 15759.56, 20.58,  1.,  1.),\n",
       "           (19816., 20., 157.58, 35576.76,  999.24, 15760.76, 20.58, 22., 22.),\n",
       "           (12500., 20.,  84.42, 28261.16, 1085.84, 15761.16, 20.58, 39., 39.),\n",
       "           ( 6604., 20.,  25.46, 22365.16,  848.84, 15761.16, 20.58,  1.,  1.),\n",
       "           (12412., 20.,  83.54, 28173.16,  571.84, 15761.16, 20.58, 30., 30.),\n",
       "           (20728., 20., 166.7 , 36488.36, 1137.64, 15760.36, 20.58,  1.,  1.),\n",
       "           (20020., 20., 159.62, 35780.76, 1335.24, 15760.76, 20.58, 25., 25.),\n",
       "           (19816., 20., 157.58, 35577.16, 1130.84, 15761.16, 20.58, 26., 26.),\n",
       "           ( 8254., 20.,  41.96, 24015.16,  952.84, 15761.16, 20.58,  1.,  1.),\n",
       "           (12500., 20.,  84.42, 28261.16,  793.84, 15761.16, 20.58,  1.,  1.),\n",
       "           (10628., 20.,  65.7 , 26389.56,  914.44, 15761.56, 20.58,  1.,  1.),\n",
       "           (10628., 20.,  65.7 , 26389.16, 1036.84, 15761.16, 20.58, 37., 37.)],\n",
       "          dtype=[('qpu_sampling_time', '<f8'), ('qpu_anneal_time_per_sample', '<f8'), ('qpu_readout_time_per_sample', '<f8'), ('qpu_access_time', '<f8'), ('qpu_access_overhead_time', '<f8'), ('qpu_programming_time', '<f8'), ('qpu_delay_time_per_sample', '<f8'), ('post_processing_overhead_time', '<f8'), ('total_post_processing_time', '<f8')])"
      ]
     },
     "execution_count": 48,
     "metadata": {},
     "output_type": "execute_result"
    }
   ],
   "source": [
    "np.concatenate([np.array([division_rec], dtype=dtype) for division_rec in [division.dwave_sampleset_metadata for division in sampleset]]).view(np.recarray)"
   ]
  },
  {
   "cell_type": "code",
   "execution_count": 50,
   "id": "247acf82",
   "metadata": {},
   "outputs": [],
   "source": [
    "dtype = [sampleset[0].dwave_sampleset_metadata][\n",
    "    0\n",
    "].dtype.descr\n",
    "dtype\n",
    "dwave_sampleset_metadata = np.concatenate([np.array([division_rec], dtype=dtype) for division_rec in [division.dwave_sampleset_metadata for division in sampleset]]).view(np.recarray)\n",
    "\n",
    "dtype = [sampleset[0].time_measurements][\n",
    "    0\n",
    "].dtype.descr\n",
    "time_measurements = np.concatenate([np.array([division_rec], dtype=dtype) for division_rec in [division.time_measurements for division in sampleset]]).view(np.recarray)\n"
   ]
  },
  {
   "cell_type": "code",
   "execution_count": 52,
   "id": "d91ceefa",
   "metadata": {},
   "outputs": [
    {
     "data": {
      "text/plain": [
       "array([24068., 13444., 20434., 17248., 17248.,  8254., 12660., 20296.,\n",
       "       12660., 17248., 13716., 20296., 19816., 12500.,  6604., 12412.,\n",
       "       20728., 20020., 19816.,  8254., 12500., 10628., 10628.])"
      ]
     },
     "execution_count": 52,
     "metadata": {},
     "output_type": "execute_result"
    }
   ],
   "source": [
    "dwave_sampleset_metadata.qpu_sampling_time"
   ]
  },
  {
   "cell_type": "code",
   "execution_count": 56,
   "id": "22feeb89",
   "metadata": {},
   "outputs": [
    {
     "data": {
      "text/plain": [
       "3.476741399994353"
      ]
     },
     "execution_count": 56,
     "metadata": {},
     "output_type": "execute_result"
    }
   ],
   "source": [
    "time_measurements.find_clique_embedding_time.sum()"
   ]
  },
  {
   "cell_type": "code",
   "execution_count": null,
   "id": "011e0b38",
   "metadata": {},
   "outputs": [],
   "source": [
    "def process_results(sampleset):\n",
    "    dtype = [sampleset[0].dwave_sampleset_metadata][\n",
    "        0\n",
    "    ].dtype.descr\n",
    "    dtype\n",
    "    dwave_sampleset_metadata = np.array(\n",
    "        [\n",
    "            np.concatenate(\n",
    "                [\n",
    "                    np.array([r], dtype=dtype)\n",
    "                    for r in [\n",
    "                        si.dwave_sampleset_info\n",
    "                        for si in sampleset[run].samplesets_data\n",
    "                    ]\n",
    "                ]\n",
    "            ).view(np.recarray)\n",
    "            for run in range(len(sampleset))\n",
    "        ],\n",
    "        dtype=object,\n",
    "    )\n",
    "\n",
    "    dtype = [si.time_measurements for si in sampleset[0].samplesets_data][\n",
    "        0\n",
    "    ].dtype.descr\n",
    "    time_measurements = np.array(\n",
    "        [\n",
    "            np.concatenate(\n",
    "                [\n",
    "                    np.array([r], dtype=dtype)\n",
    "                    for r in [\n",
    "                        si.time_measurements\n",
    "                        for si in sampleset[run].samplesets_data\n",
    "                    ]\n",
    "                ]\n",
    "            ).view(np.recarray)\n",
    "            for run in range(len(sampleset))\n",
    "        ],\n",
    "        dtype=object,\n",
    "    )\n",
    "\n",
    "    results_procesed_dtypes = sampleset.dtype.descr\n",
    "    results_procesed_dtypes.pop()\n",
    "    results_procesed_dtypes.append((\"dwave_sampleset_metadata\", object))\n",
    "    results_procesed_dtypes.append((\"time_measurements\", object))\n",
    "    results_procesed_dtypes\n",
    "\n",
    "    results_processed_componenets = [\n",
    "        sampleset.communities,\n",
    "        sampleset.modularity,\n",
    "        sampleset.time,\n",
    "        sampleset.division_tree,\n",
    "        sampleset.division_modularities,\n",
    "        dwave_sampleset_metadata,\n",
    "        time_measurements,\n",
    "    ]\n",
    "\n",
    "    results_processed = np.rec.fromarrays(\n",
    "        results_processed_componenets,\n",
    "        dtype=results_procesed_dtypes,\n",
    "    )\n",
    "\n",
    "    return results_processed"
   ]
  },
  {
   "cell_type": "code",
   "execution_count": 16,
   "id": "1317cb81",
   "metadata": {},
   "outputs": [
    {
     "ename": "AttributeError",
     "evalue": "'list' object has no attribute 'samplesets_data'",
     "output_type": "error",
     "traceback": [
      "\u001b[1;31m---------------------------------------------------------------------------\u001b[0m",
      "\u001b[1;31mAttributeError\u001b[0m                            Traceback (most recent call last)",
      "Cell \u001b[1;32mIn[16], line 1\u001b[0m\n\u001b[1;32m----> 1\u001b[0m processed \u001b[38;5;241m=\u001b[39m \u001b[43mprocess_results\u001b[49m\u001b[43m(\u001b[49m\u001b[43mres\u001b[49m\u001b[43m)\u001b[49m\n",
      "Cell \u001b[1;32mIn[15], line 2\u001b[0m, in \u001b[0;36mprocess_results\u001b[1;34m(sampleset)\u001b[0m\n\u001b[0;32m      1\u001b[0m \u001b[38;5;28;01mdef\u001b[39;00m \u001b[38;5;21mprocess_results\u001b[39m(sampleset):\n\u001b[1;32m----> 2\u001b[0m     dtype \u001b[38;5;241m=\u001b[39m [si\u001b[38;5;241m.\u001b[39mdwave_sampleset_metadata \u001b[38;5;28;01mfor\u001b[39;00m si \u001b[38;5;129;01min\u001b[39;00m \u001b[43msampleset\u001b[49m\u001b[43m[\u001b[49m\u001b[38;5;241;43m0\u001b[39;49m\u001b[43m]\u001b[49m\u001b[38;5;241;43m.\u001b[39;49m\u001b[43msamplesets_data\u001b[49m][\n\u001b[0;32m      3\u001b[0m         \u001b[38;5;241m0\u001b[39m\n\u001b[0;32m      4\u001b[0m     ]\u001b[38;5;241m.\u001b[39mdtype\u001b[38;5;241m.\u001b[39mdescr\n\u001b[0;32m      5\u001b[0m     dwave_sampleset_metadata \u001b[38;5;241m=\u001b[39m np\u001b[38;5;241m.\u001b[39marray(\n\u001b[0;32m      6\u001b[0m         [\n\u001b[0;32m      7\u001b[0m             np\u001b[38;5;241m.\u001b[39mconcatenate(\n\u001b[1;32m   (...)\u001b[0m\n\u001b[0;32m     18\u001b[0m         dtype\u001b[38;5;241m=\u001b[39m\u001b[38;5;28mobject\u001b[39m,\n\u001b[0;32m     19\u001b[0m     )\n\u001b[0;32m     21\u001b[0m     dtype \u001b[38;5;241m=\u001b[39m [si\u001b[38;5;241m.\u001b[39mtime_measurements \u001b[38;5;28;01mfor\u001b[39;00m si \u001b[38;5;129;01min\u001b[39;00m sampleset[\u001b[38;5;241m0\u001b[39m]\u001b[38;5;241m.\u001b[39msamplesets_data][\n\u001b[0;32m     22\u001b[0m         \u001b[38;5;241m0\u001b[39m\n\u001b[0;32m     23\u001b[0m     ]\u001b[38;5;241m.\u001b[39mdtype\u001b[38;5;241m.\u001b[39mdescr\n",
      "\u001b[1;31mAttributeError\u001b[0m: 'list' object has no attribute 'samplesets_data'"
     ]
    }
   ],
   "source": [
    "processed = process_results(res)"
   ]
  }
 ],
 "metadata": {
  "kernelspec": {
   "display_name": "qomm_env",
   "language": "python",
   "name": "python3"
  },
  "language_info": {
   "codemirror_mode": {
    "name": "ipython",
    "version": 3
   },
   "file_extension": ".py",
   "mimetype": "text/x-python",
   "name": "python",
   "nbconvert_exporter": "python",
   "pygments_lexer": "ipython3",
   "version": "3.10.14"
  }
 },
 "nbformat": 4,
 "nbformat_minor": 5
}
