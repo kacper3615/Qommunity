{
 "cells": [
  {
   "cell_type": "code",
   "execution_count": 3,
   "id": "6faf1a22",
   "metadata": {},
   "outputs": [],
   "source": [
    "import numpy as np\n",
    "import networkx as nx"
   ]
  },
  {
   "cell_type": "code",
   "execution_count": 4,
   "id": "2995e523",
   "metadata": {},
   "outputs": [
    {
     "name": "stdout",
     "output_type": "stream",
     "text": [
      "Advantage_system6.4\n"
     ]
    },
    {
     "ename": "ProblemStructureError",
     "evalue": "Problem graph incompatible with Advantage_system6.4 solver",
     "output_type": "error",
     "traceback": [
      "\u001b[1;31m---------------------------------------------------------------------------\u001b[0m",
      "\u001b[1;31mProblemStructureError\u001b[0m                     Traceback (most recent call last)",
      "Cell \u001b[1;32mIn[4], line 25\u001b[0m\n\u001b[0;32m     22\u001b[0m qubo_terms, offset \u001b[38;5;241m=\u001b[39m convert_qubo_keys(qubo)\n\u001b[0;32m     23\u001b[0m bqm \u001b[38;5;241m=\u001b[39m BinaryQuadraticModel\u001b[38;5;241m.\u001b[39mfrom_qubo(qubo_terms, offset\u001b[38;5;241m=\u001b[39moffset)\n\u001b[1;32m---> 25\u001b[0m computation \u001b[38;5;241m=\u001b[39m \u001b[43msolver\u001b[49m\u001b[38;5;241;43m.\u001b[39;49m\u001b[43msample_bqm\u001b[49m\u001b[43m(\u001b[49m\u001b[43mbqm\u001b[49m\u001b[43m,\u001b[49m\u001b[43m \u001b[49m\u001b[43mnum_reads\u001b[49m\u001b[38;5;241;43m=\u001b[39;49m\u001b[43mnum_reads\u001b[49m\u001b[43m)\u001b[49m\n\u001b[0;32m     26\u001b[0m computation\u001b[38;5;241m.\u001b[39mwait()\n\u001b[0;32m     28\u001b[0m \u001b[38;5;66;03m# Print the first sample out of a hundred\u001b[39;00m\n",
      "File \u001b[1;32mc:\\Users\\basia\\anaconda3\\envs\\qomm_env\\lib\\site-packages\\dwave\\cloud\\solver.py:1181\u001b[0m, in \u001b[0;36mStructuredSolver.sample_bqm\u001b[1;34m(self, bqm, label, **params)\u001b[0m\n\u001b[0;32m   1178\u001b[0m \u001b[38;5;28;01melse\u001b[39;00m:\n\u001b[0;32m   1179\u001b[0m     \u001b[38;5;28;01mraise\u001b[39;00m \u001b[38;5;167;01mTypeError\u001b[39;00m(\u001b[38;5;124m\"\u001b[39m\u001b[38;5;124munknown/unsupported vartype\u001b[39m\u001b[38;5;124m\"\u001b[39m)\n\u001b[1;32m-> 1181\u001b[0m \u001b[38;5;28;01mreturn\u001b[39;00m \u001b[38;5;28;43mself\u001b[39;49m\u001b[38;5;241;43m.\u001b[39;49m\u001b[43m_sample\u001b[49m\u001b[43m(\u001b[49m\u001b[43mproblem_type\u001b[49m\u001b[43m,\u001b[49m\u001b[43m \u001b[49m\u001b[43mbqm\u001b[49m\u001b[38;5;241;43m.\u001b[39;49m\u001b[43mlinear\u001b[49m\u001b[43m,\u001b[49m\u001b[43m \u001b[49m\u001b[43mbqm\u001b[49m\u001b[38;5;241;43m.\u001b[39;49m\u001b[43mquadratic\u001b[49m\u001b[43m,\u001b[49m\u001b[43m \u001b[49m\u001b[43mbqm\u001b[49m\u001b[38;5;241;43m.\u001b[39;49m\u001b[43moffset\u001b[49m\u001b[43m,\u001b[49m\n\u001b[0;32m   1182\u001b[0m \u001b[43m                    \u001b[49m\u001b[43mparams\u001b[49m\u001b[43m,\u001b[49m\u001b[43m \u001b[49m\u001b[43mlabel\u001b[49m\u001b[38;5;241;43m=\u001b[39;49m\u001b[43mlabel\u001b[49m\u001b[43m,\u001b[49m\u001b[43m \u001b[49m\u001b[43mundirected_biases\u001b[49m\u001b[38;5;241;43m=\u001b[39;49m\u001b[38;5;28;43;01mTrue\u001b[39;49;00m\u001b[43m)\u001b[49m\n",
      "File \u001b[1;32mc:\\Users\\basia\\anaconda3\\envs\\qomm_env\\lib\\site-packages\\dwave\\cloud\\events.py:105\u001b[0m, in \u001b[0;36mdispatches_events.__call__.<locals>.wrapped\u001b[1;34m(*pargs, **kwargs)\u001b[0m\n\u001b[0;32m    103\u001b[0m dispatch_event(\u001b[38;5;28mself\u001b[39m\u001b[38;5;241m.\u001b[39mbefore_eventname, obj\u001b[38;5;241m=\u001b[39mobj, args\u001b[38;5;241m=\u001b[39margs)\n\u001b[0;32m    104\u001b[0m \u001b[38;5;28;01mtry\u001b[39;00m:\n\u001b[1;32m--> 105\u001b[0m     rval \u001b[38;5;241m=\u001b[39m fn(\u001b[38;5;241m*\u001b[39mpargs, \u001b[38;5;241m*\u001b[39m\u001b[38;5;241m*\u001b[39mkwargs)\n\u001b[0;32m    106\u001b[0m \u001b[38;5;28;01mexcept\u001b[39;00m \u001b[38;5;167;01mException\u001b[39;00m \u001b[38;5;28;01mas\u001b[39;00m exc:\n\u001b[0;32m    107\u001b[0m     dispatch_event(\u001b[38;5;28mself\u001b[39m\u001b[38;5;241m.\u001b[39mafter_eventname, obj\u001b[38;5;241m=\u001b[39mobj, args\u001b[38;5;241m=\u001b[39margs, exception\u001b[38;5;241m=\u001b[39mexc)\n",
      "File \u001b[1;32mc:\\Users\\basia\\anaconda3\\envs\\qomm_env\\lib\\site-packages\\dwave\\cloud\\solver.py:1216\u001b[0m, in \u001b[0;36mStructuredSolver._sample\u001b[1;34m(self, type_, linear, quadratic, offset, params, label, undirected_biases)\u001b[0m\n\u001b[0;32m   1214\u001b[0m \u001b[38;5;66;03m# Check the problem\u001b[39;00m\n\u001b[0;32m   1215\u001b[0m \u001b[38;5;28;01mif\u001b[39;00m \u001b[38;5;129;01mnot\u001b[39;00m \u001b[38;5;28mself\u001b[39m\u001b[38;5;241m.\u001b[39mcheck_problem(linear, quadratic):\n\u001b[1;32m-> 1216\u001b[0m     \u001b[38;5;28;01mraise\u001b[39;00m ProblemStructureError(\n\u001b[0;32m   1217\u001b[0m         \u001b[38;5;124mf\u001b[39m\u001b[38;5;124m\"\u001b[39m\u001b[38;5;124mProblem graph incompatible with \u001b[39m\u001b[38;5;132;01m{\u001b[39;00m\u001b[38;5;28mself\u001b[39m\u001b[38;5;241m.\u001b[39mid\u001b[38;5;132;01m}\u001b[39;00m\u001b[38;5;124m solver\u001b[39m\u001b[38;5;124m\"\u001b[39m)\n\u001b[0;32m   1219\u001b[0m \u001b[38;5;66;03m# Mix the new parameters with the default parameters\u001b[39;00m\n\u001b[0;32m   1220\u001b[0m combined_params \u001b[38;5;241m=\u001b[39m \u001b[38;5;28mdict\u001b[39m(\u001b[38;5;28mself\u001b[39m\u001b[38;5;241m.\u001b[39m_params)\n",
      "\u001b[1;31mProblemStructureError\u001b[0m: Problem graph incompatible with Advantage_system6.4 solver"
     ]
    }
   ],
   "source": [
    "from QHyper.problems.community_detection import CommunityDetectionProblem, Network\n",
    "import datetime as dt\n",
    "from dwave.cloud import Client\n",
    "from QHyper.converter import Converter\n",
    "from QHyper.solvers.quantum_annealing.dwave.advantage import convert_qubo_keys\n",
    "from dimod import BinaryQuadraticModel\n",
    " \n",
    "\n",
    "num_reads = 100\n",
    "# Connect using the default or environment connection information\n",
    "with Client.from_config() as client:\n",
    " \n",
    " # Load the default solver\n",
    "    solver = client.get_solver(\"Advantage_system6.4\")\n",
    "    print(solver.id)\n",
    " \n",
    "    G = nx.powerlaw_cluster_graph(n=100, m=1, p=0.1)\n",
    "    network = Network(graph=G, resolution=1)\n",
    "    problem = CommunityDetectionProblem(network_data=network, communities=2, one_hot_encoding=False)\n",
    " \n",
    "    qubo = Converter.create_qubo(problem, [])\n",
    "    qubo_terms, offset = convert_qubo_keys(qubo)\n",
    "    bqm = BinaryQuadraticModel.from_qubo(qubo_terms, offset=offset)\n",
    "   \n",
    "    computation = solver.sample_bqm(bqm, num_reads=num_reads)\n",
    "    computation.wait()\n",
    " \n",
    "    # Print the first sample out of a hundred\n",
    "    print(computation.samples[0])\n",
    "    timing = computation['timing']\n",
    " \n",
    " \n",
    "    # Service time\n",
    "    time_format = \"%Y-%m-%d %H:%M:%S.%f\"\n",
    "    start_time = dt.datetime.strptime(str(computation.time_received)[:-6], time_format)\n",
    "    finish_time = dt.datetime.strptime(str(computation.time_solved)[:-6], time_format)\n",
    "    service_time = finish_time - start_time\n",
    "    qpu_access_time = timing['qpu_access_time']\n",
    "    print(\"start_time=\"+str(start_time)+\", finish_time=\"+str(finish_time)+ \\\n",
    "           \", service_time=\"+str(service_time)+\", qpu_access_time=\"       \\\n",
    "            +str(float(qpu_access_time)/1000000))"
   ]
  },
  {
   "cell_type": "markdown",
   "id": "b123d50f",
   "metadata": {},
   "source": [
    "List available solvers"
   ]
  },
  {
   "cell_type": "code",
   "execution_count": 6,
   "id": "c80695a4",
   "metadata": {},
   "outputs": [
    {
     "name": "stdout",
     "output_type": "stream",
     "text": [
      "hybrid_binary_quadratic_model_version2p\n",
      "hybrid_discrete_quadratic_model_version1p\n",
      "hybrid_constrained_quadratic_model_version1p\n",
      "hybrid_nonlinear_program_version1p\n",
      "Advantage_system7.1\n",
      "Advantage_system4.1\n",
      "Advantage_system6.4\n",
      "Advantage2_prototype2.6\n"
     ]
    }
   ],
   "source": [
    "from dwave.cloud import Client\n",
    " \n",
    "\n",
    "with Client.from_config() as client:\n",
    " \n",
    "    solvers = client.get_solvers()\n",
    "    for solver in solvers:\n",
    "        print(solver.id)"
   ]
  },
  {
   "cell_type": "code",
   "execution_count": 9,
   "id": "cdb1d412",
   "metadata": {},
   "outputs": [
    {
     "name": "stdout",
     "output_type": "stream",
     "text": [
      "Advantage2_prototype2.6\n"
     ]
    },
    {
     "ename": "ProblemStructureError",
     "evalue": "Problem graph incompatible with Advantage2_prototype2.6 solver",
     "output_type": "error",
     "traceback": [
      "\u001b[1;31m---------------------------------------------------------------------------\u001b[0m",
      "\u001b[1;31mProblemStructureError\u001b[0m                     Traceback (most recent call last)",
      "Cell \u001b[1;32mIn[9], line 25\u001b[0m\n\u001b[0;32m     22\u001b[0m qubo_terms, offset \u001b[38;5;241m=\u001b[39m convert_qubo_keys(qubo)\n\u001b[0;32m     23\u001b[0m bqm \u001b[38;5;241m=\u001b[39m BinaryQuadraticModel\u001b[38;5;241m.\u001b[39mfrom_qubo(qubo_terms, offset\u001b[38;5;241m=\u001b[39moffset)\n\u001b[1;32m---> 25\u001b[0m computation \u001b[38;5;241m=\u001b[39m \u001b[43msolver\u001b[49m\u001b[38;5;241;43m.\u001b[39;49m\u001b[43msample_bqm\u001b[49m\u001b[43m(\u001b[49m\u001b[43mbqm\u001b[49m\u001b[43m,\u001b[49m\u001b[43m \u001b[49m\u001b[43mnum_reads\u001b[49m\u001b[38;5;241;43m=\u001b[39;49m\u001b[43mnum_reads\u001b[49m\u001b[43m)\u001b[49m\n\u001b[0;32m     26\u001b[0m computation\u001b[38;5;241m.\u001b[39mwait()\n\u001b[0;32m     28\u001b[0m \u001b[38;5;66;03m# Print the first sample out of a hundred\u001b[39;00m\n",
      "File \u001b[1;32mc:\\Users\\basia\\anaconda3\\envs\\qomm_env\\lib\\site-packages\\dwave\\cloud\\solver.py:1181\u001b[0m, in \u001b[0;36mStructuredSolver.sample_bqm\u001b[1;34m(self, bqm, label, **params)\u001b[0m\n\u001b[0;32m   1178\u001b[0m \u001b[38;5;28;01melse\u001b[39;00m:\n\u001b[0;32m   1179\u001b[0m     \u001b[38;5;28;01mraise\u001b[39;00m \u001b[38;5;167;01mTypeError\u001b[39;00m(\u001b[38;5;124m\"\u001b[39m\u001b[38;5;124munknown/unsupported vartype\u001b[39m\u001b[38;5;124m\"\u001b[39m)\n\u001b[1;32m-> 1181\u001b[0m \u001b[38;5;28;01mreturn\u001b[39;00m \u001b[38;5;28;43mself\u001b[39;49m\u001b[38;5;241;43m.\u001b[39;49m\u001b[43m_sample\u001b[49m\u001b[43m(\u001b[49m\u001b[43mproblem_type\u001b[49m\u001b[43m,\u001b[49m\u001b[43m \u001b[49m\u001b[43mbqm\u001b[49m\u001b[38;5;241;43m.\u001b[39;49m\u001b[43mlinear\u001b[49m\u001b[43m,\u001b[49m\u001b[43m \u001b[49m\u001b[43mbqm\u001b[49m\u001b[38;5;241;43m.\u001b[39;49m\u001b[43mquadratic\u001b[49m\u001b[43m,\u001b[49m\u001b[43m \u001b[49m\u001b[43mbqm\u001b[49m\u001b[38;5;241;43m.\u001b[39;49m\u001b[43moffset\u001b[49m\u001b[43m,\u001b[49m\n\u001b[0;32m   1182\u001b[0m \u001b[43m                    \u001b[49m\u001b[43mparams\u001b[49m\u001b[43m,\u001b[49m\u001b[43m \u001b[49m\u001b[43mlabel\u001b[49m\u001b[38;5;241;43m=\u001b[39;49m\u001b[43mlabel\u001b[49m\u001b[43m,\u001b[49m\u001b[43m \u001b[49m\u001b[43mundirected_biases\u001b[49m\u001b[38;5;241;43m=\u001b[39;49m\u001b[38;5;28;43;01mTrue\u001b[39;49;00m\u001b[43m)\u001b[49m\n",
      "File \u001b[1;32mc:\\Users\\basia\\anaconda3\\envs\\qomm_env\\lib\\site-packages\\dwave\\cloud\\events.py:105\u001b[0m, in \u001b[0;36mdispatches_events.__call__.<locals>.wrapped\u001b[1;34m(*pargs, **kwargs)\u001b[0m\n\u001b[0;32m    103\u001b[0m dispatch_event(\u001b[38;5;28mself\u001b[39m\u001b[38;5;241m.\u001b[39mbefore_eventname, obj\u001b[38;5;241m=\u001b[39mobj, args\u001b[38;5;241m=\u001b[39margs)\n\u001b[0;32m    104\u001b[0m \u001b[38;5;28;01mtry\u001b[39;00m:\n\u001b[1;32m--> 105\u001b[0m     rval \u001b[38;5;241m=\u001b[39m fn(\u001b[38;5;241m*\u001b[39mpargs, \u001b[38;5;241m*\u001b[39m\u001b[38;5;241m*\u001b[39mkwargs)\n\u001b[0;32m    106\u001b[0m \u001b[38;5;28;01mexcept\u001b[39;00m \u001b[38;5;167;01mException\u001b[39;00m \u001b[38;5;28;01mas\u001b[39;00m exc:\n\u001b[0;32m    107\u001b[0m     dispatch_event(\u001b[38;5;28mself\u001b[39m\u001b[38;5;241m.\u001b[39mafter_eventname, obj\u001b[38;5;241m=\u001b[39mobj, args\u001b[38;5;241m=\u001b[39margs, exception\u001b[38;5;241m=\u001b[39mexc)\n",
      "File \u001b[1;32mc:\\Users\\basia\\anaconda3\\envs\\qomm_env\\lib\\site-packages\\dwave\\cloud\\solver.py:1216\u001b[0m, in \u001b[0;36mStructuredSolver._sample\u001b[1;34m(self, type_, linear, quadratic, offset, params, label, undirected_biases)\u001b[0m\n\u001b[0;32m   1214\u001b[0m \u001b[38;5;66;03m# Check the problem\u001b[39;00m\n\u001b[0;32m   1215\u001b[0m \u001b[38;5;28;01mif\u001b[39;00m \u001b[38;5;129;01mnot\u001b[39;00m \u001b[38;5;28mself\u001b[39m\u001b[38;5;241m.\u001b[39mcheck_problem(linear, quadratic):\n\u001b[1;32m-> 1216\u001b[0m     \u001b[38;5;28;01mraise\u001b[39;00m ProblemStructureError(\n\u001b[0;32m   1217\u001b[0m         \u001b[38;5;124mf\u001b[39m\u001b[38;5;124m\"\u001b[39m\u001b[38;5;124mProblem graph incompatible with \u001b[39m\u001b[38;5;132;01m{\u001b[39;00m\u001b[38;5;28mself\u001b[39m\u001b[38;5;241m.\u001b[39mid\u001b[38;5;132;01m}\u001b[39;00m\u001b[38;5;124m solver\u001b[39m\u001b[38;5;124m\"\u001b[39m)\n\u001b[0;32m   1219\u001b[0m \u001b[38;5;66;03m# Mix the new parameters with the default parameters\u001b[39;00m\n\u001b[0;32m   1220\u001b[0m combined_params \u001b[38;5;241m=\u001b[39m \u001b[38;5;28mdict\u001b[39m(\u001b[38;5;28mself\u001b[39m\u001b[38;5;241m.\u001b[39m_params)\n",
      "\u001b[1;31mProblemStructureError\u001b[0m: Problem graph incompatible with Advantage2_prototype2.6 solver"
     ]
    }
   ],
   "source": [
    "from QHyper.problems.community_detection import CommunityDetectionProblem, Network\n",
    "import datetime as dt\n",
    "from dwave.cloud import Client\n",
    "from QHyper.converter import Converter\n",
    "from QHyper.solvers.quantum_annealing.dwave.advantage import convert_qubo_keys\n",
    "from dimod import BinaryQuadraticModel\n",
    " \n",
    "\n",
    "num_reads = 100\n",
    "# Connect using the default or environment connection information\n",
    "with Client.from_config() as client:\n",
    " \n",
    " # Load the default solver\n",
    "    solver = client.get_solver(\"Advantage2_prototype2.6\")\n",
    "    print(solver.id)\n",
    " \n",
    "    G = nx.powerlaw_cluster_graph(n=100, m=1, p=0.1)\n",
    "    network = Network(graph=G, resolution=1)\n",
    "    problem = CommunityDetectionProblem(network_data=network, communities=2, one_hot_encoding=False)\n",
    " \n",
    "    qubo = Converter.create_qubo(problem, [])\n",
    "    qubo_terms, offset = convert_qubo_keys(qubo)\n",
    "    bqm = BinaryQuadraticModel.from_qubo(qubo_terms, offset=offset)\n",
    "   \n",
    "    computation = solver.sample_bqm(bqm, num_reads=num_reads)\n",
    "    computation.wait()\n",
    " \n",
    "    # Print the first sample out of a hundred\n",
    "    print(computation.samples[0])\n",
    "    timing = computation['timing']\n",
    " \n",
    " \n",
    "    # Service time\n",
    "    time_format = \"%Y-%m-%d %H:%M:%S.%f\"\n",
    "    start_time = dt.datetime.strptime(str(computation.time_received)[:-6], time_format)\n",
    "    finish_time = dt.datetime.strptime(str(computation.time_solved)[:-6], time_format)\n",
    "    service_time = finish_time - start_time\n",
    "    qpu_access_time = timing['qpu_access_time']\n",
    "    print(\"start_time=\"+str(start_time)+\", finish_time=\"+str(finish_time)+ \\\n",
    "           \", service_time=\"+str(service_time)+\", qpu_access_time=\"       \\\n",
    "            +str(float(qpu_access_time)/1000000))"
   ]
  }
 ],
 "metadata": {
  "kernelspec": {
   "display_name": "qomm_env",
   "language": "python",
   "name": "python3"
  },
  "language_info": {
   "codemirror_mode": {
    "name": "ipython",
    "version": 3
   },
   "file_extension": ".py",
   "mimetype": "text/x-python",
   "name": "python",
   "nbconvert_exporter": "python",
   "pygments_lexer": "ipython3",
   "version": "3.10.14"
  }
 },
 "nbformat": 4,
 "nbformat_minor": 5
}
