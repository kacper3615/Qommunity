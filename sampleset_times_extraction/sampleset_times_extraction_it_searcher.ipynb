{
 "cells": [
  {
   "cell_type": "code",
   "execution_count": 1,
   "id": "6faf1a22",
   "metadata": {},
   "outputs": [],
   "source": [
    "import numpy as np\n",
    "import networkx as nx\n",
    "import matplotlib.pyplot as plt\n",
    "\n",
    "from Qommunity.samplers.hierarchical.advantage_sampler import AdvantageSampler\n",
    "from Qommunity.searchers.hierarchical_searcher import HierarchicalSearcher\n",
    "from Qommunity.iterative_searcher import IterativeSearcher"
   ]
  },
  {
   "cell_type": "code",
   "execution_count": 2,
   "id": "355ce839",
   "metadata": {},
   "outputs": [],
   "source": [
    "G = nx.powerlaw_cluster_graph(n=100, m=1, p=0.1)\n",
    "num_reads = 100\n",
    "version = \"\"\n",
    "region = \"na-west-1\""
   ]
  },
  {
   "cell_type": "markdown",
   "id": "22f9156a",
   "metadata": {},
   "source": [
    "### Usage"
   ]
  },
  {
   "cell_type": "code",
   "execution_count": 3,
   "id": "5b0a7d5d",
   "metadata": {},
   "outputs": [],
   "source": [
    "advantage = AdvantageSampler(\n",
    "    G, num_reads=num_reads, version=version, region=region, use_clique_embedding=True, elapse_times=True, return_sampleset_metadata=True\n",
    ")"
   ]
  },
  {
   "cell_type": "code",
   "execution_count": 4,
   "id": "3266206c",
   "metadata": {},
   "outputs": [],
   "source": [
    "iterative_searcher = IterativeSearcher(advantage)"
   ]
  },
  {
   "cell_type": "code",
   "execution_count": 5,
   "id": "5fa48d56",
   "metadata": {},
   "outputs": [
    {
     "name": "stdout",
     "output_type": "stream",
     "text": [
      "Starting community detection iterations\n"
     ]
    },
    {
     "name": "stderr",
     "output_type": "stream",
     "text": [
      "  0%|          | 0/2 [00:00<?, ?it/s]"
     ]
    },
    {
     "name": "stderr",
     "output_type": "stream",
     "text": [
      " 50%|█████     | 1/2 [01:42<01:42, 102.48s/it]"
     ]
    },
    {
     "name": "stdout",
     "output_type": "stream",
     "text": [
      "Iteration 0 completed\n"
     ]
    },
    {
     "name": "stderr",
     "output_type": "stream",
     "text": [
      "100%|██████████| 2/2 [03:37<00:00, 108.86s/it]"
     ]
    },
    {
     "name": "stdout",
     "output_type": "stream",
     "text": [
      "Iteration 1 completed\n"
     ]
    },
    {
     "name": "stderr",
     "output_type": "stream",
     "text": [
      "\n"
     ]
    }
   ],
   "source": [
    "res = iterative_searcher.run_with_sampleset_info(\n",
    "    num_runs=2,\n",
    "    save_results=True,\n",
    "    saving_path=\"advantage_clique_samples\",\n",
    "    iterative_verbosity=1,\n",
    "    return_sampleset_metadata=True,\n",
    "    process_results=False\n",
    ")"
   ]
  },
  {
   "cell_type": "code",
   "execution_count": null,
   "id": "9aa47f85",
   "metadata": {},
   "outputs": [
    {
     "data": {
      "text/plain": [
       "rec.array([(list([[0, 7, 16, 20, 34, 44, 45, 48, 51, 52, 53, 54, 57, 68, 81, 83, 86, 89, 91], [56, 75, 77], [25, 33, 58, 94], [11, 42, 82], [6, 8, 63, 64, 84, 92], [3, 50, 73, 95, 98], [2, 10, 19, 26, 29, 32, 35, 43, 60, 96], [4, 12, 22, 28, 40, 41, 49, 55, 62, 65, 69, 99], [5, 15, 27, 39, 59], [1, 9, 17, 23, 24, 30, 46, 47, 66, 93, 97], [13, 18, 71, 72, 74, 76, 79, 85], [14, 21, 31, 36, 37, 38, 61, 67, 70, 78, 80, 87, 88, 90]]), 0.77038057, 102.45857477, list([[[0, 1, 2, 3, 4, 5, 6, 7, 8, 9, 10, 11, 12, 13, 14, 15, 16, 17, 18, 19, 20, 21, 22, 23, 24, 25, 26, 27, 28, 29, 30, 31, 32, 33, 34, 35, 36, 37, 38, 39, 40, 41, 42, 43, 44, 45, 46, 47, 48, 49, 50, 51, 52, 53, 54, 55, 56, 57, 58, 59, 60, 61, 62, 63, 64, 65, 66, 67, 68, 69, 70, 71, 72, 73, 74, 75, 76, 77, 78, 79, 80, 81, 82, 83, 84, 85, 86, 87, 88, 89, 90, 91, 92, 93, 94, 95, 96, 97, 98, 99]], [[0, 2, 3, 6, 7, 8, 10, 11, 16, 19, 20, 25, 26, 29, 32, 33, 34, 35, 42, 43, 44, 45, 48, 50, 51, 52, 53, 54, 56, 57, 58, 60, 63, 64, 68, 73, 75, 77, 81, 82, 83, 84, 86, 89, 91, 92, 94, 95, 96, 98], [1, 4, 5, 9, 12, 13, 14, 15, 17, 18, 21, 22, 23, 24, 27, 28, 30, 31, 36, 37, 38, 39, 40, 41, 46, 47, 49, 55, 59, 61, 62, 65, 66, 67, 69, 70, 71, 72, 74, 76, 78, 79, 80, 85, 87, 88, 90, 93, 97, 99]], [[0, 7, 11, 16, 20, 25, 33, 34, 42, 44, 45, 48, 51, 52, 53, 54, 56, 57, 58, 68, 75, 77, 81, 82, 83, 86, 89, 91, 94], [2, 3, 6, 8, 10, 19, 26, 29, 32, 35, 43, 50, 60, 63, 64, 73, 84, 92, 95, 96, 98], [1, 4, 5, 9, 12, 15, 17, 22, 23, 24, 27, 28, 30, 39, 40, 41, 46, 47, 49, 55, 59, 62, 65, 66, 69, 93, 97, 99], [13, 14, 18, 21, 31, 36, 37, 38, 61, 67, 70, 71, 72, 74, 76, 78, 79, 80, 85, 87, 88, 90]], [[0, 7, 16, 20, 34, 44, 45, 48, 51, 52, 53, 54, 56, 57, 68, 75, 77, 81, 83, 86, 89, 91], [11, 25, 33, 42, 58, 82, 94], [3, 6, 8, 50, 63, 64, 73, 84, 92, 95, 98], [2, 10, 19, 26, 29, 32, 35, 43, 60, 96], [4, 12, 22, 28, 40, 41, 49, 55, 62, 65, 69, 99], [1, 5, 9, 15, 17, 23, 24, 27, 30, 39, 46, 47, 59, 66, 93, 97], [13, 18, 71, 72, 74, 76, 79, 85], [14, 21, 31, 36, 37, 38, 61, 67, 70, 78, 80, 87, 88, 90]], [[0, 7, 16, 20, 34, 44, 45, 48, 51, 52, 53, 54, 57, 68, 81, 83, 86, 89, 91], [56, 75, 77], [25, 33, 58, 94], [11, 42, 82], [6, 8, 63, 64, 84, 92], [3, 50, 73, 95, 98], [2, 10, 19, 26, 29, 32, 35, 43, 60, 96], [4, 12, 22, 28, 40, 41, 49, 55, 62, 65, 69, 99], [5, 15, 27, 39, 59], [1, 9, 17, 23, 24, 30, 46, 47, 66, 93, 97], [13, 18, 71, 72, 74, 76, 79, 85], [14, 21, 31, 36, 37, 38, 61, 67, 70, 78, 80, 87, 88, 90]]]), list([0.0, 0.4797469645954495, 0.6918681767166616, 0.7624732170186717, 0.7703805734108764]), list([SamplesetData(dwave_sampleset_info=rec.array((24068., 20., 200.1, 39833.96, 1008.04, 15765.96, 20.58, 30., 30.),\n",
       "                     dtype=[('qpu_sampling_time', '<f8'), ('qpu_anneal_time_per_sample', '<f8'), ('qpu_readout_time_per_sample', '<f8'), ('qpu_access_time', '<f8'), ('qpu_access_overhead_time', '<f8'), ('qpu_programming_time', '<f8'), ('qpu_delay_time_per_sample', '<f8'), ('post_processing_overhead_time', '<f8'), ('total_post_processing_time', '<f8')]), time_measurements=rec.array((0.120648, 0.0266134, 0.106995),\n",
       "                     dtype=[('find_clique_embedding_time', '<f8'), ('fixed_embedding_composite_time', '<f8'), ('sample_time', '<f8')])), SamplesetData(dwave_sampleset_info=rec.array((13628., 20., 95.7, 29391.96, 776.04, 15763.96, 20.58, 37., 37.),\n",
       "                     dtype=[('qpu_sampling_time', '<f8'), ('qpu_anneal_time_per_sample', '<f8'), ('qpu_readout_time_per_sample', '<f8'), ('qpu_access_time', '<f8'), ('qpu_access_overhead_time', '<f8'), ('qpu_programming_time', '<f8'), ('qpu_delay_time_per_sample', '<f8'), ('post_processing_overhead_time', '<f8'), ('total_post_processing_time', '<f8')]), time_measurements=rec.array((0.1904543, 0.030458, 0.0579936),\n",
       "                     dtype=[('find_clique_embedding_time', '<f8'), ('fixed_embedding_composite_time', '<f8'), ('sample_time', '<f8')])), SamplesetData(dwave_sampleset_info=rec.array((20818., 20., 167.6, 36581.96, 962.04, 15763.96, 20.58, 7., 7.),\n",
       "                     dtype=[('qpu_sampling_time', '<f8'), ('qpu_anneal_time_per_sample', '<f8'), ('qpu_readout_time_per_sample', '<f8'), ('qpu_access_time', '<f8'), ('qpu_access_overhead_time', '<f8'), ('qpu_programming_time', '<f8'), ('qpu_delay_time_per_sample', '<f8'), ('post_processing_overhead_time', '<f8'), ('total_post_processing_time', '<f8')]), time_measurements=rec.array((0.1214473, 0.0148842, 0.0252508),\n",
       "                     dtype=[('find_clique_embedding_time', '<f8'), ('fixed_embedding_composite_time', '<f8'), ('sample_time', '<f8')])), SamplesetData(dwave_sampleset_info=rec.array((20296., 20., 162.38, 36059.16, 1489.84, 15763.16, 20.58, 45., 45.),\n",
       "                     dtype=[('qpu_sampling_time', '<f8'), ('qpu_anneal_time_per_sample', '<f8'), ('qpu_readout_time_per_sample', '<f8'), ('qpu_access_time', '<f8'), ('qpu_access_overhead_time', '<f8'), ('qpu_programming_time', '<f8'), ('qpu_delay_time_per_sample', '<f8'), ('post_processing_overhead_time', '<f8'), ('total_post_processing_time', '<f8')]), time_measurements=rec.array((0.1272339, 0.0159487, 0.0219464),\n",
       "                     dtype=[('find_clique_embedding_time', '<f8'), ('fixed_embedding_composite_time', '<f8'), ('sample_time', '<f8')])), SamplesetData(dwave_sampleset_info=rec.array((19906., 20., 158.48, 35669.56, 887.44, 15763.56, 20.58, 1., 1.),\n",
       "                     dtype=[('qpu_sampling_time', '<f8'), ('qpu_anneal_time_per_sample', '<f8'), ('qpu_readout_time_per_sample', '<f8'), ('qpu_access_time', '<f8'), ('qpu_access_overhead_time', '<f8'), ('qpu_programming_time', '<f8'), ('qpu_delay_time_per_sample', '<f8'), ('post_processing_overhead_time', '<f8'), ('total_post_processing_time', '<f8')]), time_measurements=rec.array((0.1283078, 0.0150967, 0.0203873),\n",
       "                     dtype=[('find_clique_embedding_time', '<f8'), ('fixed_embedding_composite_time', '<f8'), ('sample_time', '<f8')])), SamplesetData(dwave_sampleset_info=rec.array((8254., 20., 41.96, 24017.96, 1349.04, 15763.96, 20.58, 1., 1.),\n",
       "                     dtype=[('qpu_sampling_time', '<f8'), ('qpu_anneal_time_per_sample', '<f8'), ('qpu_readout_time_per_sample', '<f8'), ('qpu_access_time', '<f8'), ('qpu_access_overhead_time', '<f8'), ('qpu_programming_time', '<f8'), ('qpu_delay_time_per_sample', '<f8'), ('total_post_processing_time', '<f8'), ('post_processing_overhead_time', '<f8')]), time_measurements=rec.array((0.1258518, 0.0139791, 0.0183062),\n",
       "                     dtype=[('find_clique_embedding_time', '<f8'), ('fixed_embedding_composite_time', '<f8'), ('sample_time', '<f8')])), SamplesetData(dwave_sampleset_info=rec.array((12500., 20., 84.42, 28263.56, 1479.44, 15763.56, 20.58, 26., 26.),\n",
       "                     dtype=[('qpu_sampling_time', '<f8'), ('qpu_anneal_time_per_sample', '<f8'), ('qpu_readout_time_per_sample', '<f8'), ('qpu_access_time', '<f8'), ('qpu_access_overhead_time', '<f8'), ('qpu_programming_time', '<f8'), ('qpu_delay_time_per_sample', '<f8'), ('total_post_processing_time', '<f8'), ('post_processing_overhead_time', '<f8')]), time_measurements=rec.array((0.1251583, 0.5207164, 0.0200413),\n",
       "                     dtype=[('find_clique_embedding_time', '<f8'), ('fixed_embedding_composite_time', '<f8'), ('sample_time', '<f8')])), SamplesetData(dwave_sampleset_info=rec.array((10628., 20., 65.7, 26391.56, 648.44, 15763.56, 20.58, 10., 10.),\n",
       "                     dtype=[('qpu_sampling_time', '<f8'), ('qpu_anneal_time_per_sample', '<f8'), ('qpu_readout_time_per_sample', '<f8'), ('qpu_access_time', '<f8'), ('qpu_access_overhead_time', '<f8'), ('qpu_programming_time', '<f8'), ('qpu_delay_time_per_sample', '<f8'), ('total_post_processing_time', '<f8'), ('post_processing_overhead_time', '<f8')]), time_measurements=rec.array((0.1388698, 0.0200348, 0.0204203),\n",
       "                     dtype=[('find_clique_embedding_time', '<f8'), ('fixed_embedding_composite_time', '<f8'), ('sample_time', '<f8')])), SamplesetData(dwave_sampleset_info=rec.array((8254., 20., 41.96, 24017.56, 726.44, 15763.56, 20.58, 1., 1.),\n",
       "                     dtype=[('qpu_sampling_time', '<f8'), ('qpu_anneal_time_per_sample', '<f8'), ('qpu_readout_time_per_sample', '<f8'), ('qpu_access_time', '<f8'), ('qpu_access_overhead_time', '<f8'), ('qpu_programming_time', '<f8'), ('qpu_delay_time_per_sample', '<f8'), ('total_post_processing_time', '<f8'), ('post_processing_overhead_time', '<f8')]), time_measurements=rec.array((0.1527226, 0.0248653, 0.0194805),\n",
       "                     dtype=[('find_clique_embedding_time', '<f8'), ('fixed_embedding_composite_time', '<f8'), ('sample_time', '<f8')])), SamplesetData(dwave_sampleset_info=rec.array((19882., 20., 158.24, 35645.56, 770.44, 15763.56, 20.58, 1., 1.),\n",
       "                     dtype=[('qpu_sampling_time', '<f8'), ('qpu_anneal_time_per_sample', '<f8'), ('qpu_readout_time_per_sample', '<f8'), ('qpu_access_time', '<f8'), ('qpu_access_overhead_time', '<f8'), ('qpu_programming_time', '<f8'), ('qpu_delay_time_per_sample', '<f8'), ('post_processing_overhead_time', '<f8'), ('total_post_processing_time', '<f8')]), time_measurements=rec.array((0.1572921, 0.0233779, 0.02174),\n",
       "                     dtype=[('find_clique_embedding_time', '<f8'), ('fixed_embedding_composite_time', '<f8'), ('sample_time', '<f8')])), SamplesetData(dwave_sampleset_info=rec.array((12632., 20., 85.74, 28395.56, 866.44, 15763.56, 20.58, 24., 24.),\n",
       "                     dtype=[('qpu_sampling_time', '<f8'), ('qpu_anneal_time_per_sample', '<f8'), ('qpu_readout_time_per_sample', '<f8'), ('qpu_access_time', '<f8'), ('qpu_access_overhead_time', '<f8'), ('qpu_programming_time', '<f8'), ('qpu_delay_time_per_sample', '<f8'), ('total_post_processing_time', '<f8'), ('post_processing_overhead_time', '<f8')]), time_measurements=rec.array((0.2014095, 0.0258688, 0.0237743),\n",
       "                     dtype=[('find_clique_embedding_time', '<f8'), ('fixed_embedding_composite_time', '<f8'), ('sample_time', '<f8')])), SamplesetData(dwave_sampleset_info=rec.array((12412., 20., 83.54, 28176.36, 922.64, 15764.36, 20.58, 1., 1.),\n",
       "                     dtype=[('qpu_sampling_time', '<f8'), ('qpu_anneal_time_per_sample', '<f8'), ('qpu_readout_time_per_sample', '<f8'), ('qpu_access_time', '<f8'), ('qpu_access_overhead_time', '<f8'), ('qpu_programming_time', '<f8'), ('qpu_delay_time_per_sample', '<f8'), ('total_post_processing_time', '<f8'), ('post_processing_overhead_time', '<f8')]), time_measurements=rec.array((0.123069, 0.0249085, 0.0227357),\n",
       "                     dtype=[('find_clique_embedding_time', '<f8'), ('fixed_embedding_composite_time', '<f8'), ('sample_time', '<f8')])), SamplesetData(dwave_sampleset_info=rec.array((12412., 20., 83.54, 28175.96, 835.04, 15763.96, 20.58, 1., 1.),\n",
       "                     dtype=[('qpu_sampling_time', '<f8'), ('qpu_anneal_time_per_sample', '<f8'), ('qpu_readout_time_per_sample', '<f8'), ('qpu_access_time', '<f8'), ('qpu_access_overhead_time', '<f8'), ('qpu_programming_time', '<f8'), ('qpu_delay_time_per_sample', '<f8'), ('total_post_processing_time', '<f8'), ('post_processing_overhead_time', '<f8')]), time_measurements=rec.array((0.1343429, 0.0204469, 0.0203398),\n",
       "                     dtype=[('find_clique_embedding_time', '<f8'), ('fixed_embedding_composite_time', '<f8'), ('sample_time', '<f8')])), SamplesetData(dwave_sampleset_info=rec.array((12660., 20., 86.02, 28423.96, 968.04, 15763.96, 20.58, 25., 25.),\n",
       "                     dtype=[('qpu_sampling_time', '<f8'), ('qpu_anneal_time_per_sample', '<f8'), ('qpu_readout_time_per_sample', '<f8'), ('qpu_access_time', '<f8'), ('qpu_access_overhead_time', '<f8'), ('qpu_programming_time', '<f8'), ('qpu_delay_time_per_sample', '<f8'), ('post_processing_overhead_time', '<f8'), ('total_post_processing_time', '<f8')]), time_measurements=rec.array((0.1151491, 0.0171844, 0.0189371),\n",
       "                     dtype=[('find_clique_embedding_time', '<f8'), ('fixed_embedding_composite_time', '<f8'), ('sample_time', '<f8')])), SamplesetData(dwave_sampleset_info=rec.array((13628., 20., 95.7, 29391.96, 1609.04, 15763.96, 20.58, 1., 1.),\n",
       "                     dtype=[('qpu_sampling_time', '<f8'), ('qpu_anneal_time_per_sample', '<f8'), ('qpu_readout_time_per_sample', '<f8'), ('qpu_access_time', '<f8'), ('qpu_access_overhead_time', '<f8'), ('qpu_programming_time', '<f8'), ('qpu_delay_time_per_sample', '<f8'), ('post_processing_overhead_time', '<f8'), ('total_post_processing_time', '<f8')]), time_measurements=rec.array((0.1467709, 0.0197021, 0.0384927),\n",
       "                     dtype=[('find_clique_embedding_time', '<f8'), ('fixed_embedding_composite_time', '<f8'), ('sample_time', '<f8')])), SamplesetData(dwave_sampleset_info=rec.array((20818., 20., 167.6, 36583.16, 1486.84, 15765.16, 20.58, 1., 1.),\n",
       "                     dtype=[('qpu_sampling_time', '<f8'), ('qpu_anneal_time_per_sample', '<f8'), ('qpu_readout_time_per_sample', '<f8'), ('qpu_access_time', '<f8'), ('qpu_access_overhead_time', '<f8'), ('qpu_programming_time', '<f8'), ('qpu_delay_time_per_sample', '<f8'), ('post_processing_overhead_time', '<f8'), ('total_post_processing_time', '<f8')]), time_measurements=rec.array((0.1246027, 0.0183297, 0.022974),\n",
       "                     dtype=[('find_clique_embedding_time', '<f8'), ('fixed_embedding_composite_time', '<f8'), ('sample_time', '<f8')])), SamplesetData(dwave_sampleset_info=rec.array((12676., 20., 86.18, 28439.56, 962.44, 15763.56, 20.58, 1., 1.),\n",
       "                     dtype=[('qpu_sampling_time', '<f8'), ('qpu_anneal_time_per_sample', '<f8'), ('qpu_readout_time_per_sample', '<f8'), ('qpu_access_time', '<f8'), ('qpu_access_overhead_time', '<f8'), ('qpu_programming_time', '<f8'), ('qpu_delay_time_per_sample', '<f8'), ('post_processing_overhead_time', '<f8'), ('total_post_processing_time', '<f8')]), time_measurements=rec.array((0.1358165, 0.0191806, 0.0211763),\n",
       "                     dtype=[('find_clique_embedding_time', '<f8'), ('fixed_embedding_composite_time', '<f8'), ('sample_time', '<f8')])), SamplesetData(dwave_sampleset_info=rec.array((19816., 20., 157.58, 35579.16, 911.84, 15763.16, 20.58, 40., 40.),\n",
       "                     dtype=[('qpu_sampling_time', '<f8'), ('qpu_anneal_time_per_sample', '<f8'), ('qpu_readout_time_per_sample', '<f8'), ('qpu_access_time', '<f8'), ('qpu_access_overhead_time', '<f8'), ('qpu_programming_time', '<f8'), ('qpu_delay_time_per_sample', '<f8'), ('post_processing_overhead_time', '<f8'), ('total_post_processing_time', '<f8')]), time_measurements=rec.array((0.1345264, 0.0165255, 0.0190356),\n",
       "                     dtype=[('find_clique_embedding_time', '<f8'), ('fixed_embedding_composite_time', '<f8'), ('sample_time', '<f8')])), SamplesetData(dwave_sampleset_info=rec.array((12368., 20., 83.1, 28131.96, 1317.04, 15763.96, 20.58, 1., 1.),\n",
       "                     dtype=[('qpu_sampling_time', '<f8'), ('qpu_anneal_time_per_sample', '<f8'), ('qpu_readout_time_per_sample', '<f8'), ('qpu_access_time', '<f8'), ('qpu_access_overhead_time', '<f8'), ('qpu_programming_time', '<f8'), ('qpu_delay_time_per_sample', '<f8'), ('total_post_processing_time', '<f8'), ('post_processing_overhead_time', '<f8')]), time_measurements=rec.array((0.1221237, 0.0184462, 0.017632),\n",
       "                     dtype=[('find_clique_embedding_time', '<f8'), ('fixed_embedding_composite_time', '<f8'), ('sample_time', '<f8')])), SamplesetData(dwave_sampleset_info=rec.array((12632., 20., 85.74, 28395.56, 759.44, 15763.56, 20.58, 1., 1.),\n",
       "                     dtype=[('qpu_sampling_time', '<f8'), ('qpu_anneal_time_per_sample', '<f8'), ('qpu_readout_time_per_sample', '<f8'), ('qpu_access_time', '<f8'), ('qpu_access_overhead_time', '<f8'), ('qpu_programming_time', '<f8'), ('qpu_delay_time_per_sample', '<f8'), ('post_processing_overhead_time', '<f8'), ('total_post_processing_time', '<f8')]), time_measurements=rec.array((0.1356558, 0.0139658, 0.0191015),\n",
       "                     dtype=[('find_clique_embedding_time', '<f8'), ('fixed_embedding_composite_time', '<f8'), ('sample_time', '<f8')])), SamplesetData(dwave_sampleset_info=rec.array((20296., 20., 162.38, 36059.56, 1366.44, 15763.56, 20.58, 1., 1.),\n",
       "                     dtype=[('qpu_sampling_time', '<f8'), ('qpu_anneal_time_per_sample', '<f8'), ('qpu_readout_time_per_sample', '<f8'), ('qpu_access_time', '<f8'), ('qpu_access_overhead_time', '<f8'), ('qpu_programming_time', '<f8'), ('qpu_delay_time_per_sample', '<f8'), ('post_processing_overhead_time', '<f8'), ('total_post_processing_time', '<f8')]), time_measurements=rec.array((0.121393, 0.0164619, 0.0205792),\n",
       "                     dtype=[('find_clique_embedding_time', '<f8'), ('fixed_embedding_composite_time', '<f8'), ('sample_time', '<f8')])), SamplesetData(dwave_sampleset_info=rec.array((12500., 20., 84.42, 28264.76, 1233.24, 15764.76, 20.58, 1., 1.),\n",
       "                     dtype=[('qpu_sampling_time', '<f8'), ('qpu_anneal_time_per_sample', '<f8'), ('qpu_readout_time_per_sample', '<f8'), ('qpu_access_time', '<f8'), ('qpu_access_overhead_time', '<f8'), ('qpu_programming_time', '<f8'), ('qpu_delay_time_per_sample', '<f8'), ('total_post_processing_time', '<f8'), ('post_processing_overhead_time', '<f8')]), time_measurements=rec.array((0.124167, 0.0173189, 0.017641),\n",
       "                     dtype=[('find_clique_embedding_time', '<f8'), ('fixed_embedding_composite_time', '<f8'), ('sample_time', '<f8')])), SamplesetData(dwave_sampleset_info=rec.array((17248., 20., 131.9, 33011.16, 824.84, 15763.16, 20.58, 42., 42.),\n",
       "                     dtype=[('qpu_sampling_time', '<f8'), ('qpu_anneal_time_per_sample', '<f8'), ('qpu_readout_time_per_sample', '<f8'), ('qpu_access_time', '<f8'), ('qpu_access_overhead_time', '<f8'), ('qpu_programming_time', '<f8'), ('qpu_delay_time_per_sample', '<f8'), ('post_processing_overhead_time', '<f8'), ('total_post_processing_time', '<f8')]), time_measurements=rec.array((0.1266206, 0.0162627, 0.0199394),\n",
       "                     dtype=[('find_clique_embedding_time', '<f8'), ('fixed_embedding_composite_time', '<f8'), ('sample_time', '<f8')]))]))                                                                                                                                                                                                                                                                                                                                                                                                                                                                                                                                                                                                                                                                                                                                                                                                                                                                                                                                                                                                                                                                                                                                                                                                                                                                                                                                                                                                                                                                                                                                                                                                                                                                                                                                                                                                                                                                                                                                                                                                                                                                                                                                                                                                                                                                                                                                                                                                                                                                                                                                                                                                                                                           ,\n",
       "           (list([[13, 18, 71, 72, 74, 76, 79, 85], [4, 6, 8, 22, 28, 49, 63, 64, 84, 92, 99], [12, 40, 41, 55, 62, 65, 69], [14, 31, 36, 38, 61, 67, 70, 80, 87, 88], [5, 15, 27, 39, 59], [1, 9, 17, 23, 24, 30, 46, 47, 66, 93, 97], [0, 7, 16, 20, 34, 44, 45, 48, 51, 52, 53, 54, 57, 68, 81, 83, 86, 89, 91], [56, 75, 77], [25, 33, 58, 94], [11, 42, 82], [3, 50, 73, 95, 98], [21, 37, 78, 90], [2, 10, 19, 26, 29, 32, 35, 43, 60, 96]]), 0.76864606, 115.2407918 , list([[[0, 1, 2, 3, 4, 5, 6, 7, 8, 9, 10, 11, 12, 13, 14, 15, 16, 17, 18, 19, 20, 21, 22, 23, 24, 25, 26, 27, 28, 29, 30, 31, 32, 33, 34, 35, 36, 37, 38, 39, 40, 41, 42, 43, 44, 45, 46, 47, 48, 49, 50, 51, 52, 53, 54, 55, 56, 57, 58, 59, 60, 61, 62, 63, 64, 65, 66, 67, 68, 69, 70, 71, 72, 73, 74, 75, 76, 77, 78, 79, 80, 81, 82, 83, 84, 85, 86, 87, 88, 89, 90, 91, 92, 93, 94, 95, 96, 97, 98, 99]], [[1, 4, 5, 6, 8, 9, 12, 13, 14, 15, 17, 18, 22, 23, 24, 27, 28, 30, 31, 36, 38, 39, 40, 41, 46, 47, 49, 55, 59, 61, 62, 63, 64, 65, 66, 67, 69, 70, 71, 72, 74, 76, 79, 80, 84, 85, 87, 88, 92, 93, 97, 99], [0, 2, 3, 7, 10, 11, 16, 19, 20, 21, 25, 26, 29, 32, 33, 34, 35, 37, 42, 43, 44, 45, 48, 50, 51, 52, 53, 54, 56, 57, 58, 60, 68, 73, 75, 77, 78, 81, 82, 83, 86, 89, 90, 91, 94, 95, 96, 98]], [[4, 6, 8, 12, 13, 18, 22, 28, 40, 41, 49, 55, 62, 63, 64, 65, 69, 71, 72, 74, 76, 79, 84, 85, 92, 99], [1, 5, 9, 14, 15, 17, 23, 24, 27, 30, 31, 36, 38, 39, 46, 47, 59, 61, 66, 67, 70, 80, 87, 88, 93, 97], [0, 7, 11, 16, 20, 25, 33, 34, 42, 44, 45, 48, 51, 52, 53, 54, 56, 57, 58, 68, 75, 77, 81, 82, 83, 86, 89, 91, 94], [2, 3, 10, 19, 21, 26, 29, 32, 35, 37, 43, 50, 60, 73, 78, 90, 95, 96, 98]], [[13, 18, 71, 72, 74, 76, 79, 85], [4, 6, 8, 12, 22, 28, 40, 41, 49, 55, 62, 63, 64, 65, 69, 84, 92, 99], [14, 31, 36, 38, 61, 67, 70, 80, 87, 88], [1, 5, 9, 15, 17, 23, 24, 27, 30, 39, 46, 47, 59, 66, 93, 97], [0, 7, 16, 20, 34, 44, 45, 48, 51, 52, 53, 54, 56, 57, 68, 75, 77, 81, 83, 86, 89, 91], [11, 25, 33, 42, 58, 82, 94], [3, 21, 37, 50, 73, 78, 90, 95, 98], [2, 10, 19, 26, 29, 32, 35, 43, 60, 96]], [[13, 18, 71, 72, 74, 76, 79, 85], [4, 6, 8, 22, 28, 49, 63, 64, 84, 92, 99], [12, 40, 41, 55, 62, 65, 69], [14, 31, 36, 38, 61, 67, 70, 80, 87, 88], [5, 15, 27, 39, 59], [1, 9, 17, 23, 24, 30, 46, 47, 66, 93, 97], [0, 7, 16, 20, 34, 44, 45, 48, 51, 52, 53, 54, 57, 68, 81, 83, 86, 89, 91], [56, 75, 77], [25, 33, 58, 94], [11, 42, 82], [3, 50, 73, 95, 98], [21, 37, 78, 90], [2, 10, 19, 26, 29, 32, 35, 43, 60, 96]]]), list([0.0, 0.4785225997347209, 0.681410060197939, 0.7574227119681666, 0.7686460565248445]), list([SamplesetData(dwave_sampleset_info=rec.array((24068., 20., 200.1, 39833.96, 1775.04, 15765.96, 20.58, 56., 56.),\n",
       "                     dtype=[('qpu_sampling_time', '<f8'), ('qpu_anneal_time_per_sample', '<f8'), ('qpu_readout_time_per_sample', '<f8'), ('qpu_access_time', '<f8'), ('qpu_access_overhead_time', '<f8'), ('qpu_programming_time', '<f8'), ('qpu_delay_time_per_sample', '<f8'), ('post_processing_overhead_time', '<f8'), ('total_post_processing_time', '<f8')]), time_measurements=rec.array((0.1963776, 0.0390588, 0.1029516),\n",
       "                     dtype=[('find_clique_embedding_time', '<f8'), ('fixed_embedding_composite_time', '<f8'), ('sample_time', '<f8')])), SamplesetData(dwave_sampleset_info=rec.array((13852., 20., 97.94, 29615.96, 1843.04, 15763.96, 20.58, 69., 69.),\n",
       "                     dtype=[('qpu_sampling_time', '<f8'), ('qpu_anneal_time_per_sample', '<f8'), ('qpu_readout_time_per_sample', '<f8'), ('qpu_access_time', '<f8'), ('qpu_access_overhead_time', '<f8'), ('qpu_programming_time', '<f8'), ('qpu_delay_time_per_sample', '<f8'), ('post_processing_overhead_time', '<f8'), ('total_post_processing_time', '<f8')]), time_measurements=rec.array((0.2216486, 0.0470582, 0.0671315),\n",
       "                     dtype=[('find_clique_embedding_time', '<f8'), ('fixed_embedding_composite_time', '<f8'), ('sample_time', '<f8')])), SamplesetData(dwave_sampleset_info=rec.array((20728., 20., 166.7, 36491.16, 1490.84, 15763.16, 20.58, 26., 26.),\n",
       "                     dtype=[('qpu_sampling_time', '<f8'), ('qpu_anneal_time_per_sample', '<f8'), ('qpu_readout_time_per_sample', '<f8'), ('qpu_access_time', '<f8'), ('qpu_access_overhead_time', '<f8'), ('qpu_programming_time', '<f8'), ('qpu_delay_time_per_sample', '<f8'), ('post_processing_overhead_time', '<f8'), ('total_post_processing_time', '<f8')]), time_measurements=rec.array((0.1363855, 0.0223067, 0.0281971),\n",
       "                     dtype=[('find_clique_embedding_time', '<f8'), ('fixed_embedding_composite_time', '<f8'), ('sample_time', '<f8')])), SamplesetData(dwave_sampleset_info=rec.array((12500., 20., 84.42, 28264.76, 1036.24, 15764.76, 20.58, 36., 36.),\n",
       "                     dtype=[('qpu_sampling_time', '<f8'), ('qpu_anneal_time_per_sample', '<f8'), ('qpu_readout_time_per_sample', '<f8'), ('qpu_access_time', '<f8'), ('qpu_access_overhead_time', '<f8'), ('qpu_programming_time', '<f8'), ('qpu_delay_time_per_sample', '<f8'), ('total_post_processing_time', '<f8'), ('post_processing_overhead_time', '<f8')]), time_measurements=rec.array((0.1638145, 0.0167551, 0.0194492),\n",
       "                     dtype=[('find_clique_embedding_time', '<f8'), ('fixed_embedding_composite_time', '<f8'), ('sample_time', '<f8')])), SamplesetData(dwave_sampleset_info=rec.array((19816., 20., 157.58, 35580.36, 1129.64, 15764.36, 20.58, 1., 1.),\n",
       "                     dtype=[('qpu_sampling_time', '<f8'), ('qpu_anneal_time_per_sample', '<f8'), ('qpu_readout_time_per_sample', '<f8'), ('qpu_access_time', '<f8'), ('qpu_access_overhead_time', '<f8'), ('qpu_programming_time', '<f8'), ('qpu_delay_time_per_sample', '<f8'), ('post_processing_overhead_time', '<f8'), ('total_post_processing_time', '<f8')]), time_measurements=rec.array((0.2720434, 0.0345605, 0.0294951),\n",
       "                     dtype=[('find_clique_embedding_time', '<f8'), ('fixed_embedding_composite_time', '<f8'), ('sample_time', '<f8')])), SamplesetData(dwave_sampleset_info=rec.array((12632., 20., 85.74, 28395.56, 712.44, 15763.56, 20.58, 1., 1.),\n",
       "                     dtype=[('qpu_sampling_time', '<f8'), ('qpu_anneal_time_per_sample', '<f8'), ('qpu_readout_time_per_sample', '<f8'), ('qpu_access_time', '<f8'), ('qpu_access_overhead_time', '<f8'), ('qpu_programming_time', '<f8'), ('qpu_delay_time_per_sample', '<f8'), ('post_processing_overhead_time', '<f8'), ('total_post_processing_time', '<f8')]), time_measurements=rec.array((0.1476831, 0.0171157, 0.0185223),\n",
       "                     dtype=[('find_clique_embedding_time', '<f8'), ('fixed_embedding_composite_time', '<f8'), ('sample_time', '<f8')])), SamplesetData(dwave_sampleset_info=rec.array((12500., 20., 84.42, 28263.96, 1345.04, 15763.96, 20.58, 1., 1.),\n",
       "                     dtype=[('qpu_sampling_time', '<f8'), ('qpu_anneal_time_per_sample', '<f8'), ('qpu_readout_time_per_sample', '<f8'), ('qpu_access_time', '<f8'), ('qpu_access_overhead_time', '<f8'), ('qpu_programming_time', '<f8'), ('qpu_delay_time_per_sample', '<f8'), ('total_post_processing_time', '<f8'), ('post_processing_overhead_time', '<f8')]), time_measurements=rec.array((0.1675527, 0.022144, 0.0209195),\n",
       "                     dtype=[('find_clique_embedding_time', '<f8'), ('fixed_embedding_composite_time', '<f8'), ('sample_time', '<f8')])), SamplesetData(dwave_sampleset_info=rec.array((20818., 20., 167.6, 36581.96, 977.04, 15763.96, 20.58, 1., 1.),\n",
       "                     dtype=[('qpu_sampling_time', '<f8'), ('qpu_anneal_time_per_sample', '<f8'), ('qpu_readout_time_per_sample', '<f8'), ('qpu_access_time', '<f8'), ('qpu_access_overhead_time', '<f8'), ('qpu_programming_time', '<f8'), ('qpu_delay_time_per_sample', '<f8'), ('post_processing_overhead_time', '<f8'), ('total_post_processing_time', '<f8')]), time_measurements=rec.array((0.1634517, 0.0179459, 0.0222928),\n",
       "                     dtype=[('find_clique_embedding_time', '<f8'), ('fixed_embedding_composite_time', '<f8'), ('sample_time', '<f8')])), SamplesetData(dwave_sampleset_info=rec.array((12660., 20., 86.02, 28423.96, 1255.04, 15763.96, 20.58, 47., 47.),\n",
       "                     dtype=[('qpu_sampling_time', '<f8'), ('qpu_anneal_time_per_sample', '<f8'), ('qpu_readout_time_per_sample', '<f8'), ('qpu_access_time', '<f8'), ('qpu_access_overhead_time', '<f8'), ('qpu_programming_time', '<f8'), ('qpu_delay_time_per_sample', '<f8'), ('post_processing_overhead_time', '<f8'), ('total_post_processing_time', '<f8')]), time_measurements=rec.array((0.1602732, 0.0389229, 0.0269884),\n",
       "                     dtype=[('find_clique_embedding_time', '<f8'), ('fixed_embedding_composite_time', '<f8'), ('sample_time', '<f8')])), SamplesetData(dwave_sampleset_info=rec.array((19906., 20., 158.48, 35669.16, 1177.84, 15763.16, 20.58, 1., 1.),\n",
       "                     dtype=[('qpu_sampling_time', '<f8'), ('qpu_anneal_time_per_sample', '<f8'), ('qpu_readout_time_per_sample', '<f8'), ('qpu_access_time', '<f8'), ('qpu_access_overhead_time', '<f8'), ('qpu_programming_time', '<f8'), ('qpu_delay_time_per_sample', '<f8'), ('post_processing_overhead_time', '<f8'), ('total_post_processing_time', '<f8')]), time_measurements=rec.array((0.2154036, 0.0210816, 0.0244252),\n",
       "                     dtype=[('find_clique_embedding_time', '<f8'), ('fixed_embedding_composite_time', '<f8'), ('sample_time', '<f8')])), SamplesetData(dwave_sampleset_info=rec.array((12412., 20., 83.54, 28175.96, 873.04, 15763.96, 20.58, 33., 33.),\n",
       "                     dtype=[('qpu_sampling_time', '<f8'), ('qpu_anneal_time_per_sample', '<f8'), ('qpu_readout_time_per_sample', '<f8'), ('qpu_access_time', '<f8'), ('qpu_access_overhead_time', '<f8'), ('qpu_programming_time', '<f8'), ('qpu_delay_time_per_sample', '<f8'), ('total_post_processing_time', '<f8'), ('post_processing_overhead_time', '<f8')]), time_measurements=rec.array((0.1500617, 0.0230764, 0.0274247),\n",
       "                     dtype=[('find_clique_embedding_time', '<f8'), ('fixed_embedding_composite_time', '<f8'), ('sample_time', '<f8')])), SamplesetData(dwave_sampleset_info=rec.array((12632., 20., 85.74, 28395.56, 1038.44, 15763.56, 20.58, 304., 304.),\n",
       "                     dtype=[('qpu_sampling_time', '<f8'), ('qpu_anneal_time_per_sample', '<f8'), ('qpu_readout_time_per_sample', '<f8'), ('qpu_access_time', '<f8'), ('qpu_access_overhead_time', '<f8'), ('qpu_programming_time', '<f8'), ('qpu_delay_time_per_sample', '<f8'), ('post_processing_overhead_time', '<f8'), ('total_post_processing_time', '<f8')]), time_measurements=rec.array((0.1448782, 0.0208808, 0.0214504),\n",
       "                     dtype=[('find_clique_embedding_time', '<f8'), ('fixed_embedding_composite_time', '<f8'), ('sample_time', '<f8')])), SamplesetData(dwave_sampleset_info=rec.array((13604., 20., 95.46, 29368.76, 1342.24, 15764.76, 20.58, 8., 8.),\n",
       "                     dtype=[('qpu_sampling_time', '<f8'), ('qpu_anneal_time_per_sample', '<f8'), ('qpu_readout_time_per_sample', '<f8'), ('qpu_access_time', '<f8'), ('qpu_access_overhead_time', '<f8'), ('qpu_programming_time', '<f8'), ('qpu_delay_time_per_sample', '<f8'), ('post_processing_overhead_time', '<f8'), ('total_post_processing_time', '<f8')]), time_measurements=rec.array((0.1394727, 0.0242317, 0.0399332),\n",
       "                     dtype=[('find_clique_embedding_time', '<f8'), ('fixed_embedding_composite_time', '<f8'), ('sample_time', '<f8')])), SamplesetData(dwave_sampleset_info=rec.array((20818., 20., 167.6, 36581.96, 1275.04, 15763.96, 20.58, 1., 1.),\n",
       "                     dtype=[('qpu_sampling_time', '<f8'), ('qpu_anneal_time_per_sample', '<f8'), ('qpu_readout_time_per_sample', '<f8'), ('qpu_access_time', '<f8'), ('qpu_access_overhead_time', '<f8'), ('qpu_programming_time', '<f8'), ('qpu_delay_time_per_sample', '<f8'), ('post_processing_overhead_time', '<f8'), ('total_post_processing_time', '<f8')]), time_measurements=rec.array((0.1485282, 0.0183627, 0.0278608),\n",
       "                     dtype=[('find_clique_embedding_time', '<f8'), ('fixed_embedding_composite_time', '<f8'), ('sample_time', '<f8')])), SamplesetData(dwave_sampleset_info=rec.array((20296., 20., 162.38, 36059.16, 1432.84, 15763.16, 20.58, 25., 25.),\n",
       "                     dtype=[('qpu_sampling_time', '<f8'), ('qpu_anneal_time_per_sample', '<f8'), ('qpu_readout_time_per_sample', '<f8'), ('qpu_access_time', '<f8'), ('qpu_access_overhead_time', '<f8'), ('qpu_programming_time', '<f8'), ('qpu_delay_time_per_sample', '<f8'), ('post_processing_overhead_time', '<f8'), ('total_post_processing_time', '<f8')]), time_measurements=rec.array((0.1810785, 0.0174222, 0.0228684),\n",
       "                     dtype=[('find_clique_embedding_time', '<f8'), ('fixed_embedding_composite_time', '<f8'), ('sample_time', '<f8')])), SamplesetData(dwave_sampleset_info=rec.array((19906., 20., 158.48, 35669.56, 879.44, 15763.56, 20.58, 1., 1.),\n",
       "                     dtype=[('qpu_sampling_time', '<f8'), ('qpu_anneal_time_per_sample', '<f8'), ('qpu_readout_time_per_sample', '<f8'), ('qpu_access_time', '<f8'), ('qpu_access_overhead_time', '<f8'), ('qpu_programming_time', '<f8'), ('qpu_delay_time_per_sample', '<f8'), ('post_processing_overhead_time', '<f8'), ('total_post_processing_time', '<f8')]), time_measurements=rec.array((0.1635613, 0.0378397, 0.023599),\n",
       "                     dtype=[('find_clique_embedding_time', '<f8'), ('fixed_embedding_composite_time', '<f8'), ('sample_time', '<f8')])), SamplesetData(dwave_sampleset_info=rec.array((8254., 20., 41.96, 24017.96, 1110.04, 15763.96, 20.58, 1., 1.),\n",
       "                     dtype=[('qpu_sampling_time', '<f8'), ('qpu_anneal_time_per_sample', '<f8'), ('qpu_readout_time_per_sample', '<f8'), ('qpu_access_time', '<f8'), ('qpu_access_overhead_time', '<f8'), ('qpu_programming_time', '<f8'), ('qpu_delay_time_per_sample', '<f8'), ('total_post_processing_time', '<f8'), ('post_processing_overhead_time', '<f8')]), time_measurements=rec.array((0.1815038, 0.014246, 0.017625),\n",
       "                     dtype=[('find_clique_embedding_time', '<f8'), ('fixed_embedding_composite_time', '<f8'), ('sample_time', '<f8')])), SamplesetData(dwave_sampleset_info=rec.array((12500., 20., 84.42, 28263.56, 1909.44, 15763.56, 20.58, 1., 1.),\n",
       "                     dtype=[('qpu_sampling_time', '<f8'), ('qpu_anneal_time_per_sample', '<f8'), ('qpu_readout_time_per_sample', '<f8'), ('qpu_access_time', '<f8'), ('qpu_access_overhead_time', '<f8'), ('qpu_programming_time', '<f8'), ('qpu_delay_time_per_sample', '<f8'), ('total_post_processing_time', '<f8'), ('post_processing_overhead_time', '<f8')]), time_measurements=rec.array((0.1521715, 0.0268139, 0.0200653),\n",
       "                     dtype=[('find_clique_embedding_time', '<f8'), ('fixed_embedding_composite_time', '<f8'), ('sample_time', '<f8')])), SamplesetData(dwave_sampleset_info=rec.array((10628., 20., 65.7, 26391.56, 1299.44, 15763.56, 20.58, 1., 1.),\n",
       "                     dtype=[('qpu_sampling_time', '<f8'), ('qpu_anneal_time_per_sample', '<f8'), ('qpu_readout_time_per_sample', '<f8'), ('qpu_access_time', '<f8'), ('qpu_access_overhead_time', '<f8'), ('qpu_programming_time', '<f8'), ('qpu_delay_time_per_sample', '<f8'), ('total_post_processing_time', '<f8'), ('post_processing_overhead_time', '<f8')]), time_measurements=rec.array((0.1436868, 0.0225352, 0.0224241),\n",
       "                     dtype=[('find_clique_embedding_time', '<f8'), ('fixed_embedding_composite_time', '<f8'), ('sample_time', '<f8')])), SamplesetData(dwave_sampleset_info=rec.array((8254., 20., 41.96, 24017.56, 1034.44, 15763.56, 20.58, 1., 1.),\n",
       "                     dtype=[('qpu_sampling_time', '<f8'), ('qpu_anneal_time_per_sample', '<f8'), ('qpu_readout_time_per_sample', '<f8'), ('qpu_access_time', '<f8'), ('qpu_access_overhead_time', '<f8'), ('qpu_programming_time', '<f8'), ('qpu_delay_time_per_sample', '<f8'), ('total_post_processing_time', '<f8'), ('post_processing_overhead_time', '<f8')]), time_measurements=rec.array((0.1565919, 0.0172398, 0.018861),\n",
       "                     dtype=[('find_clique_embedding_time', '<f8'), ('fixed_embedding_composite_time', '<f8'), ('sample_time', '<f8')])), SamplesetData(dwave_sampleset_info=rec.array((19906., 20., 158.48, 35669.56, 1030.44, 15763.56, 20.58, 75., 75.),\n",
       "                     dtype=[('qpu_sampling_time', '<f8'), ('qpu_anneal_time_per_sample', '<f8'), ('qpu_readout_time_per_sample', '<f8'), ('qpu_access_time', '<f8'), ('qpu_access_overhead_time', '<f8'), ('qpu_programming_time', '<f8'), ('qpu_delay_time_per_sample', '<f8'), ('post_processing_overhead_time', '<f8'), ('total_post_processing_time', '<f8')]), time_measurements=rec.array((0.1451856, 0.0189576, 0.0222551),\n",
       "                     dtype=[('find_clique_embedding_time', '<f8'), ('fixed_embedding_composite_time', '<f8'), ('sample_time', '<f8')])), SamplesetData(dwave_sampleset_info=rec.array((12660., 20., 86.02, 28423.96, 1536.04, 15763.96, 20.58, 1., 1.),\n",
       "                     dtype=[('qpu_sampling_time', '<f8'), ('qpu_anneal_time_per_sample', '<f8'), ('qpu_readout_time_per_sample', '<f8'), ('qpu_access_time', '<f8'), ('qpu_access_overhead_time', '<f8'), ('qpu_programming_time', '<f8'), ('qpu_delay_time_per_sample', '<f8'), ('total_post_processing_time', '<f8'), ('post_processing_overhead_time', '<f8')]), time_measurements=rec.array((0.1485466, 0.0164036, 0.0187893),\n",
       "                     dtype=[('find_clique_embedding_time', '<f8'), ('fixed_embedding_composite_time', '<f8'), ('sample_time', '<f8')])), SamplesetData(dwave_sampleset_info=rec.array((12368., 20., 83.1, 28131.96, 933.04, 15763.96, 20.58, 1., 1.),\n",
       "                     dtype=[('qpu_sampling_time', '<f8'), ('qpu_anneal_time_per_sample', '<f8'), ('qpu_readout_time_per_sample', '<f8'), ('qpu_access_time', '<f8'), ('qpu_access_overhead_time', '<f8'), ('qpu_programming_time', '<f8'), ('qpu_delay_time_per_sample', '<f8'), ('total_post_processing_time', '<f8'), ('post_processing_overhead_time', '<f8')]), time_measurements=rec.array((0.1679476, 0.0199816, 0.0200116),\n",
       "                     dtype=[('find_clique_embedding_time', '<f8'), ('fixed_embedding_composite_time', '<f8'), ('sample_time', '<f8')])), SamplesetData(dwave_sampleset_info=rec.array((10628., 20., 65.7, 26391.56, 778.44, 15763.56, 20.58, 1., 1.),\n",
       "                     dtype=[('qpu_sampling_time', '<f8'), ('qpu_anneal_time_per_sample', '<f8'), ('qpu_readout_time_per_sample', '<f8'), ('qpu_access_time', '<f8'), ('qpu_access_overhead_time', '<f8'), ('qpu_programming_time', '<f8'), ('qpu_delay_time_per_sample', '<f8'), ('total_post_processing_time', '<f8'), ('post_processing_overhead_time', '<f8')]), time_measurements=rec.array((0.2014243, 0.0177095, 0.017832),\n",
       "                     dtype=[('find_clique_embedding_time', '<f8'), ('fixed_embedding_composite_time', '<f8'), ('sample_time', '<f8')])), SamplesetData(dwave_sampleset_info=rec.array((12660., 20., 86.02, 28423.96, 1139.04, 15763.96, 20.58, 1., 1.),\n",
       "                     dtype=[('qpu_sampling_time', '<f8'), ('qpu_anneal_time_per_sample', '<f8'), ('qpu_readout_time_per_sample', '<f8'), ('qpu_access_time', '<f8'), ('qpu_access_overhead_time', '<f8'), ('qpu_programming_time', '<f8'), ('qpu_delay_time_per_sample', '<f8'), ('post_processing_overhead_time', '<f8'), ('total_post_processing_time', '<f8')]), time_measurements=rec.array((0.22339, 0.0245536, 0.021352),\n",
       "                     dtype=[('find_clique_embedding_time', '<f8'), ('fixed_embedding_composite_time', '<f8'), ('sample_time', '<f8')]))]))                                                                                                                                                                                                                                                                                                                                                                                                                                                                                                                                                                                                                                                                                                                                                                                                                                                                                                                                                                                                                                                                                                                                                                                                                                                                                                                                                                                                                                                                                                                                                                                                                                                                                                                                                                                                                                                                                                                                                                                                                                                                                                                                                                                                                                                                                                                                                                                                                                                                                                                                                                                                                                                              ],\n",
       "          dtype=[('communities', 'O'), ('modularity', '<f8'), ('time', '<f8'), ('division_tree', 'O'), ('division_modularities', 'O'), ('samplesets_data', 'O')])"
      ]
     },
     "execution_count": 6,
     "metadata": {},
     "output_type": "execute_result"
    }
   ],
   "source": [
    "res."
   ]
  },
  {
   "cell_type": "code",
   "execution_count": 50,
   "id": "bae5142b",
   "metadata": {},
   "outputs": [
    {
     "data": {
      "text/plain": [
       "697037.52"
      ]
     },
     "execution_count": 50,
     "metadata": {},
     "output_type": "execute_result"
    }
   ],
   "source": [
    "res[0].dwave_sampleset_infos.qpu_access_time.sum()"
   ]
  },
  {
   "cell_type": "code",
   "execution_count": 27,
   "id": "7e1d29a4",
   "metadata": {},
   "outputs": [],
   "source": [
    "for run in res:\n",
    "    communities = run.communities\n",
    "    modularities = run.modularity\n",
    "    div_trees = run.division_tree\n",
    "    div_modularities = run.division_modularities\n",
    "    dwave_sampleset_info = run.dwave_sampleset_infos\n",
    "    times_measured = run.time_measurements"
   ]
  },
  {
   "cell_type": "markdown",
   "id": "6e7b710e",
   "metadata": {},
   "source": [
    "First run"
   ]
  },
  {
   "cell_type": "code",
   "execution_count": 61,
   "id": "41c1873e",
   "metadata": {},
   "outputs": [
    {
     "data": {
      "text/plain": [
       "array([0.1414337, 0.3123298, 0.1391013, 0.3731998, 0.2271785, 0.2742287,\n",
       "       0.1232225, 0.165031 , 0.1379719, 0.1458408, 0.1343016, 0.1420312,\n",
       "       0.332811 , 0.100343 , 0.1122439, 0.2090429, 0.1224837, 0.123875 ,\n",
       "       0.1597369, 0.1049684, 0.1861382, 0.1947471])"
      ]
     },
     "execution_count": 61,
     "metadata": {},
     "output_type": "execute_result"
    }
   ],
   "source": [
    "res[0].time_measurements.find_clique_embedding_time"
   ]
  },
  {
   "cell_type": "markdown",
   "id": "119afbdf",
   "metadata": {},
   "source": [
    "Total time of \"find_clique_embedding\":"
   ]
  },
  {
   "cell_type": "code",
   "execution_count": 32,
   "id": "01a94ab0",
   "metadata": {},
   "outputs": [
    {
     "data": {
      "text/plain": [
       "3.962260900036199"
      ]
     },
     "execution_count": 32,
     "metadata": {},
     "output_type": "execute_result"
    }
   ],
   "source": [
    "res[0].time_measurements.find_clique_embedding_time.sum()"
   ]
  },
  {
   "cell_type": "code",
   "execution_count": 41,
   "id": "77520d11",
   "metadata": {},
   "outputs": [
    {
     "data": {
      "text/plain": [
       "array([39833.56, 29476.36, 35895.16, 35666.76, 24015.16, 36644.76,\n",
       "       28392.36, 35576.76, 28437.16, 28173.16, 29365.96, 36489.16,\n",
       "       28173.56, 36057.16, 26389.96, 35666.76, 35894.76, 28421.16,\n",
       "       28173.96, 24016.36, 22365.16, 22365.16, 28129.56, 28436.76])"
      ]
     },
     "execution_count": 41,
     "metadata": {},
     "output_type": "execute_result"
    }
   ],
   "source": [
    "res[1].dwave_sampleset_infos.qpu_access_time"
   ]
  },
  {
   "cell_type": "markdown",
   "id": "68a97e74",
   "metadata": {},
   "source": [
    "### Heuristic"
   ]
  },
  {
   "cell_type": "code",
   "execution_count": 62,
   "id": "955cba29",
   "metadata": {},
   "outputs": [],
   "source": [
    "advantage = AdvantageSampler(\n",
    "    G, num_reads=num_reads, version=version, region=region, use_clique_embedding=False, measure_times=True, return_sampleset_info=True\n",
    ")"
   ]
  },
  {
   "cell_type": "code",
   "execution_count": 63,
   "id": "79d4ea41",
   "metadata": {},
   "outputs": [],
   "source": [
    "iterative_searcher = IterativeSearcher(advantage)"
   ]
  },
  {
   "cell_type": "code",
   "execution_count": 65,
   "id": "68524cfb",
   "metadata": {},
   "outputs": [
    {
     "name": "stdout",
     "output_type": "stream",
     "text": [
      "Starting community detection iterations\n"
     ]
    },
    {
     "name": "stderr",
     "output_type": "stream",
     "text": [
      " 50%|█████     | 1/2 [04:56<04:56, 296.86s/it]"
     ]
    },
    {
     "name": "stdout",
     "output_type": "stream",
     "text": [
      "Iteration 0 completed\n"
     ]
    },
    {
     "name": "stderr",
     "output_type": "stream",
     "text": [
      "100%|██████████| 2/2 [14:59<00:00, 449.94s/it]"
     ]
    },
    {
     "name": "stdout",
     "output_type": "stream",
     "text": [
      "Iteration 1 completed\n"
     ]
    },
    {
     "name": "stderr",
     "output_type": "stream",
     "text": [
      "\n"
     ]
    }
   ],
   "source": [
    "res_heu = iterative_searcher.run_with_sampleset_info(\n",
    "    num_runs=2,\n",
    "    save_results=True,\n",
    "    saving_path=\"heuristic)advantage_clique_samples\",\n",
    "    iterative_verbosity=1,\n",
    "    return_sampleset_info=True,\n",
    ")"
   ]
  },
  {
   "cell_type": "code",
   "execution_count": 71,
   "id": "cf4e2477",
   "metadata": {},
   "outputs": [
    {
     "data": {
      "text/plain": [
       "array([0.2807632, 0.2406278, 0.3359402, 0.302822 , 0.1841993, 0.1517898,\n",
       "       0.2029491, 0.320833 , 0.2347661, 0.1915635, 0.2737376, 0.2755818,\n",
       "       0.1963269, 0.2202596, 0.3618938, 0.4035531, 0.4405374, 0.427501 ,\n",
       "       0.3805251, 0.3727842, 0.3873692, 0.456362 , 0.4334511, 0.3993097])"
      ]
     },
     "execution_count": 71,
     "metadata": {},
     "output_type": "execute_result"
    }
   ],
   "source": [
    "res_heu[0].time_measurements.embedding_composite_time"
   ]
  },
  {
   "cell_type": "code",
   "execution_count": 72,
   "id": "a3b09ffe",
   "metadata": {},
   "outputs": [
    {
     "data": {
      "text/plain": [
       "rec.array([(0.2807632, 59.6475311), (0.2406278, 16.8091243),\n",
       "           (0.3359402,  7.4627778), (0.302822 ,  0.6165701),\n",
       "           (0.1841993,  0.7094622), (0.1517898,  0.0663413),\n",
       "           (0.2029491,  0.2232563), (0.320833 ,  0.1497798),\n",
       "           (0.2347661,  0.1103587), (0.1915635,  0.7009316),\n",
       "           (0.2737376,  0.2508542), (0.2755818,  0.1312484),\n",
       "           (0.1963269,  0.0945934), (0.2202596, 38.5239291),\n",
       "           (0.3618938,  4.9918162), (0.4035531,  0.2753941),\n",
       "           (0.4405374,  2.4519983), (0.427501 ,  0.1697537),\n",
       "           (0.3805251,  1.2791192), (0.3727842,  1.8661805),\n",
       "           (0.3873692,  0.2791576), (0.456362 ,  0.1886594),\n",
       "           (0.4334511,  0.1984597), (0.3993097,  0.5174587)],\n",
       "          dtype=[('embedding_composite_time', '<f8'), ('sample_time', '<f8')])"
      ]
     },
     "execution_count": 72,
     "metadata": {},
     "output_type": "execute_result"
    }
   ],
   "source": [
    "res_heu[0].time_measurements"
   ]
  },
  {
   "cell_type": "code",
   "execution_count": 74,
   "id": "9dfedf24",
   "metadata": {},
   "outputs": [
    {
     "data": {
      "text/plain": [
       "7.4754465000587516"
      ]
     },
     "execution_count": 74,
     "metadata": {},
     "output_type": "execute_result"
    }
   ],
   "source": [
    "res_heu[0].time_measurements.embedding_composite_time.sum()"
   ]
  },
  {
   "cell_type": "code",
   "execution_count": 78,
   "id": "a7b87cd2",
   "metadata": {},
   "outputs": [
    {
     "data": {
      "text/plain": [
       "137.71475569996983"
      ]
     },
     "execution_count": 78,
     "metadata": {},
     "output_type": "execute_result"
    }
   ],
   "source": [
    "res_heu[0].time_measurements.sample_time.sum()"
   ]
  },
  {
   "cell_type": "code",
   "execution_count": 79,
   "id": "c7d8142b",
   "metadata": {},
   "outputs": [
    {
     "data": {
      "text/plain": [
       "array([59.6475311, 16.8091243,  7.4627778,  0.6165701,  0.7094622,\n",
       "        0.0663413,  0.2232563,  0.1497798,  0.1103587,  0.7009316,\n",
       "        0.2508542,  0.1312484,  0.0945934, 38.5239291,  4.9918162,\n",
       "        0.2753941,  2.4519983,  0.1697537,  1.2791192,  1.8661805,\n",
       "        0.2791576,  0.1886594,  0.1984597,  0.5174587])"
      ]
     },
     "execution_count": 79,
     "metadata": {},
     "output_type": "execute_result"
    }
   ],
   "source": [
    "res_heu[0].time_measurements.sample_time"
   ]
  },
  {
   "cell_type": "code",
   "execution_count": 81,
   "id": "9ddccb7a",
   "metadata": {},
   "outputs": [
    {
     "data": {
      "text/plain": [
       "array([0.2807632, 0.2406278, 0.3359402, 0.302822 , 0.1841993, 0.1517898,\n",
       "       0.2029491, 0.320833 , 0.2347661, 0.1915635, 0.2737376, 0.2755818,\n",
       "       0.1963269, 0.2202596, 0.3618938, 0.4035531, 0.4405374, 0.427501 ,\n",
       "       0.3805251, 0.3727842, 0.3873692, 0.456362 , 0.4334511, 0.3993097])"
      ]
     },
     "execution_count": 81,
     "metadata": {},
     "output_type": "execute_result"
    }
   ],
   "source": [
    "res_heu[0].time_measurements.embedding_composite_time"
   ]
  }
 ],
 "metadata": {
  "kernelspec": {
   "display_name": "qomm_env",
   "language": "python",
   "name": "python3"
  },
  "language_info": {
   "codemirror_mode": {
    "name": "ipython",
    "version": 3
   },
   "file_extension": ".py",
   "mimetype": "text/x-python",
   "name": "python",
   "nbconvert_exporter": "python",
   "pygments_lexer": "ipython3",
   "version": "3.10.14"
  }
 },
 "nbformat": 4,
 "nbformat_minor": 5
}
