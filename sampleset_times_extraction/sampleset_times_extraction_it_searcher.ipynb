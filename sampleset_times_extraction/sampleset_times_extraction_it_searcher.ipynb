{
 "cells": [
  {
   "cell_type": "code",
   "execution_count": 1,
   "id": "6faf1a22",
   "metadata": {},
   "outputs": [],
   "source": [
    "import numpy as np\n",
    "import networkx as nx\n",
    "import matplotlib.pyplot as plt\n",
    "\n",
    "from Qommunity.samplers.hierarchical.advantage_sampler import AdvantageSampler\n",
    "from Qommunity.searchers.hierarchical_searcher import HierarchicalSearcher\n",
    "from Qommunity.iterative_searcher import IterativeSearcher"
   ]
  },
  {
   "cell_type": "code",
   "execution_count": 2,
   "id": "355ce839",
   "metadata": {},
   "outputs": [],
   "source": [
    "G = nx.powerlaw_cluster_graph(n=100, m=1, p=0.1)\n",
    "num_reads = 100\n",
    "version = \"\"\n",
    "region = \"na-west-1\""
   ]
  },
  {
   "cell_type": "markdown",
   "id": "22f9156a",
   "metadata": {},
   "source": [
    "### Usage"
   ]
  },
  {
   "cell_type": "code",
   "execution_count": 3,
   "id": "5b0a7d5d",
   "metadata": {},
   "outputs": [
    {
     "ename": "AttributeError",
     "evalue": "'Advantage' object has no attribute 'weigths'",
     "output_type": "error",
     "traceback": [
      "\u001b[1;31m---------------------------------------------------------------------------\u001b[0m",
      "\u001b[1;31mAttributeError\u001b[0m                            Traceback (most recent call last)",
      "Cell \u001b[1;32mIn[3], line 1\u001b[0m\n\u001b[1;32m----> 1\u001b[0m advantage \u001b[38;5;241m=\u001b[39m \u001b[43mAdvantageSampler\u001b[49m\u001b[43m(\u001b[49m\n\u001b[0;32m      2\u001b[0m \u001b[43m    \u001b[49m\u001b[43mG\u001b[49m\u001b[43m,\u001b[49m\u001b[43m \u001b[49m\u001b[43mnum_reads\u001b[49m\u001b[38;5;241;43m=\u001b[39;49m\u001b[43mnum_reads\u001b[49m\u001b[43m,\u001b[49m\u001b[43m \u001b[49m\u001b[43mversion\u001b[49m\u001b[38;5;241;43m=\u001b[39;49m\u001b[43mversion\u001b[49m\u001b[43m,\u001b[49m\u001b[43m \u001b[49m\u001b[43mregion\u001b[49m\u001b[38;5;241;43m=\u001b[39;49m\u001b[43mregion\u001b[49m\u001b[43m,\u001b[49m\u001b[43m \u001b[49m\u001b[43muse_clique_embedding\u001b[49m\u001b[38;5;241;43m=\u001b[39;49m\u001b[38;5;28;43;01mTrue\u001b[39;49;00m\u001b[43m,\u001b[49m\u001b[43m \u001b[49m\u001b[43mmeasure_times\u001b[49m\u001b[38;5;241;43m=\u001b[39;49m\u001b[38;5;28;43;01mTrue\u001b[39;49;00m\u001b[43m,\u001b[49m\u001b[43m \u001b[49m\u001b[43mreturn_sampleset_info\u001b[49m\u001b[38;5;241;43m=\u001b[39;49m\u001b[38;5;28;43;01mTrue\u001b[39;49;00m\n\u001b[0;32m      3\u001b[0m \u001b[43m)\u001b[49m\n",
      "File \u001b[1;32m~\\Desktop\\Praca_Inzynierska_2024\\Qommunity\\Qommunity\\samplers\\hierarchical\\advantage_sampler\\advantage_sampler.py:42\u001b[0m, in \u001b[0;36mAdvantageSampler.__init__\u001b[1;34m(self, G, resolution, community, use_weights, version, region, num_reads, chain_strength, use_clique_embedding, measure_times, return_sampleset_info)\u001b[0m\n\u001b[0;32m     38\u001b[0m network \u001b[38;5;241m=\u001b[39m Network(G, resolution\u001b[38;5;241m=\u001b[39mresolution, weight\u001b[38;5;241m=\u001b[39mweight, community\u001b[38;5;241m=\u001b[39mcommunity)\n\u001b[0;32m     39\u001b[0m problem \u001b[38;5;241m=\u001b[39m CommunityDetectionProblem(\n\u001b[0;32m     40\u001b[0m     network, communities\u001b[38;5;241m=\u001b[39m\u001b[38;5;241m2\u001b[39m, one_hot_encoding\u001b[38;5;241m=\u001b[39m\u001b[38;5;28;01mFalse\u001b[39;00m\n\u001b[0;32m     41\u001b[0m )\n\u001b[1;32m---> 42\u001b[0m \u001b[38;5;28mself\u001b[39m\u001b[38;5;241m.\u001b[39madvantage \u001b[38;5;241m=\u001b[39m \u001b[43mAdvantage\u001b[49m\u001b[43m(\u001b[49m\n\u001b[0;32m     43\u001b[0m \u001b[43m    \u001b[49m\u001b[43mproblem\u001b[49m\u001b[38;5;241;43m=\u001b[39;49m\u001b[43mproblem\u001b[49m\u001b[43m,\u001b[49m\n\u001b[0;32m     44\u001b[0m \u001b[43m    \u001b[49m\u001b[43mversion\u001b[49m\u001b[38;5;241;43m=\u001b[39;49m\u001b[43mversion\u001b[49m\u001b[43m,\u001b[49m\n\u001b[0;32m     45\u001b[0m \u001b[43m    \u001b[49m\u001b[43mregion\u001b[49m\u001b[38;5;241;43m=\u001b[39;49m\u001b[43mregion\u001b[49m\u001b[43m,\u001b[49m\n\u001b[0;32m     46\u001b[0m \u001b[43m    \u001b[49m\u001b[43mnum_reads\u001b[49m\u001b[38;5;241;43m=\u001b[39;49m\u001b[43mnum_reads\u001b[49m\u001b[43m,\u001b[49m\n\u001b[0;32m     47\u001b[0m \u001b[43m    \u001b[49m\u001b[43mchain_strength\u001b[49m\u001b[38;5;241;43m=\u001b[39;49m\u001b[43mchain_strength\u001b[49m\u001b[43m,\u001b[49m\n\u001b[0;32m     48\u001b[0m \u001b[43m    \u001b[49m\u001b[43muse_clique_embedding\u001b[49m\u001b[38;5;241;43m=\u001b[39;49m\u001b[43muse_clique_embedding\u001b[49m\u001b[43m,\u001b[49m\n\u001b[0;32m     49\u001b[0m \u001b[43m    \u001b[49m\u001b[43mmeasure_times\u001b[49m\u001b[38;5;241;43m=\u001b[39;49m\u001b[43mmeasure_times\u001b[49m\n\u001b[0;32m     50\u001b[0m \u001b[43m\u001b[49m\u001b[43m)\u001b[49m\n",
      "File \u001b[1;32m~\\Desktop\\Praca_Inzynierska_2024\\QHyper\\QHyper\\solvers\\quantum_annealing\\dwave\\advantage.py:86\u001b[0m, in \u001b[0;36mAdvantage.__init__\u001b[1;34m(self, problem, penalty_weights, version, region, num_reads, chain_strength, use_clique_embedding, token, measure_times)\u001b[0m\n\u001b[0;32m     83\u001b[0m \u001b[38;5;28mself\u001b[39m\u001b[38;5;241m.\u001b[39mtimes: Dict \u001b[38;5;241m=\u001b[39m {}\n\u001b[0;32m     85\u001b[0m \u001b[38;5;28;01mif\u001b[39;00m use_clique_embedding:\n\u001b[1;32m---> 86\u001b[0m     args \u001b[38;5;241m=\u001b[39m \u001b[38;5;28mself\u001b[39m\u001b[38;5;241m.\u001b[39mweigths \u001b[38;5;28;01mif\u001b[39;00m \u001b[38;5;28;43mself\u001b[39;49m\u001b[38;5;241;43m.\u001b[39;49m\u001b[43mweigths\u001b[49m \u001b[38;5;28;01melse\u001b[39;00m []\n\u001b[0;32m     87\u001b[0m     \u001b[38;5;66;03m# args = getattr(self, \"weights\", [])\u001b[39;00m\n\u001b[0;32m     88\u001b[0m     qubo \u001b[38;5;241m=\u001b[39m Converter\u001b[38;5;241m.\u001b[39mcreate_qubo(\u001b[38;5;28mself\u001b[39m\u001b[38;5;241m.\u001b[39mproblem, args)\n",
      "\u001b[1;31mAttributeError\u001b[0m: 'Advantage' object has no attribute 'weigths'"
     ]
    }
   ],
   "source": [
    "advantage = AdvantageSampler(\n",
    "    G, num_reads=num_reads, version=version, region=region, use_clique_embedding=True, measure_times=True, return_sampleset_info=True\n",
    ")"
   ]
  },
  {
   "cell_type": "code",
   "execution_count": 6,
   "id": "3266206c",
   "metadata": {},
   "outputs": [],
   "source": [
    "iterative_searcher = IterativeSearcher(advantage)"
   ]
  },
  {
   "cell_type": "code",
   "execution_count": 7,
   "id": "5fa48d56",
   "metadata": {},
   "outputs": [
    {
     "name": "stdout",
     "output_type": "stream",
     "text": [
      "Starting community detection iterations\n"
     ]
    },
    {
     "name": "stderr",
     "output_type": "stream",
     "text": [
      "  0%|          | 0/2 [00:00<?, ?it/s]"
     ]
    },
    {
     "name": "stderr",
     "output_type": "stream",
     "text": [
      " 50%|█████     | 1/2 [01:47<01:47, 107.49s/it]"
     ]
    },
    {
     "name": "stdout",
     "output_type": "stream",
     "text": [
      "Iteration 0 completed\n"
     ]
    },
    {
     "name": "stderr",
     "output_type": "stream",
     "text": [
      "100%|██████████| 2/2 [03:39<00:00, 109.69s/it]"
     ]
    },
    {
     "name": "stdout",
     "output_type": "stream",
     "text": [
      "Iteration 1 completed\n"
     ]
    },
    {
     "name": "stderr",
     "output_type": "stream",
     "text": [
      "\n"
     ]
    }
   ],
   "source": [
    "res = iterative_searcher.run_with_sampleset_info(\n",
    "    num_runs=2,\n",
    "    save_results=True,\n",
    "    saving_path=\"advantage_clique_samples\",\n",
    "    iterative_verbosity=1,\n",
    "    return_sampleset_info=True,\n",
    ")"
   ]
  },
  {
   "cell_type": "code",
   "execution_count": 50,
   "id": "bae5142b",
   "metadata": {},
   "outputs": [
    {
     "data": {
      "text/plain": [
       "697037.52"
      ]
     },
     "execution_count": 50,
     "metadata": {},
     "output_type": "execute_result"
    }
   ],
   "source": [
    "res[0].dwave_sampleset_infos.qpu_access_time.sum()"
   ]
  },
  {
   "cell_type": "code",
   "execution_count": 27,
   "id": "7e1d29a4",
   "metadata": {},
   "outputs": [],
   "source": [
    "for run in res:\n",
    "    communities = run.communities\n",
    "    modularities = run.modularity\n",
    "    div_trees = run.division_tree\n",
    "    div_modularities = run.division_modularities\n",
    "    dwave_sampleset_info = run.dwave_sampleset_infos\n",
    "    times_measured = run.time_measurements"
   ]
  },
  {
   "cell_type": "markdown",
   "id": "6e7b710e",
   "metadata": {},
   "source": [
    "First run"
   ]
  },
  {
   "cell_type": "code",
   "execution_count": 61,
   "id": "41c1873e",
   "metadata": {},
   "outputs": [
    {
     "data": {
      "text/plain": [
       "array([0.1414337, 0.3123298, 0.1391013, 0.3731998, 0.2271785, 0.2742287,\n",
       "       0.1232225, 0.165031 , 0.1379719, 0.1458408, 0.1343016, 0.1420312,\n",
       "       0.332811 , 0.100343 , 0.1122439, 0.2090429, 0.1224837, 0.123875 ,\n",
       "       0.1597369, 0.1049684, 0.1861382, 0.1947471])"
      ]
     },
     "execution_count": 61,
     "metadata": {},
     "output_type": "execute_result"
    }
   ],
   "source": [
    "res[0].time_measurements.find_clique_embedding_time"
   ]
  },
  {
   "cell_type": "markdown",
   "id": "119afbdf",
   "metadata": {},
   "source": [
    "Total time of \"find_clique_embedding\":"
   ]
  },
  {
   "cell_type": "code",
   "execution_count": 32,
   "id": "01a94ab0",
   "metadata": {},
   "outputs": [
    {
     "data": {
      "text/plain": [
       "3.962260900036199"
      ]
     },
     "execution_count": 32,
     "metadata": {},
     "output_type": "execute_result"
    }
   ],
   "source": [
    "res[0].time_measurements.find_clique_embedding_time.sum()"
   ]
  },
  {
   "cell_type": "code",
   "execution_count": 41,
   "id": "77520d11",
   "metadata": {},
   "outputs": [
    {
     "data": {
      "text/plain": [
       "array([39833.56, 29476.36, 35895.16, 35666.76, 24015.16, 36644.76,\n",
       "       28392.36, 35576.76, 28437.16, 28173.16, 29365.96, 36489.16,\n",
       "       28173.56, 36057.16, 26389.96, 35666.76, 35894.76, 28421.16,\n",
       "       28173.96, 24016.36, 22365.16, 22365.16, 28129.56, 28436.76])"
      ]
     },
     "execution_count": 41,
     "metadata": {},
     "output_type": "execute_result"
    }
   ],
   "source": [
    "res[1].dwave_sampleset_infos.qpu_access_time"
   ]
  },
  {
   "cell_type": "markdown",
   "id": "68a97e74",
   "metadata": {},
   "source": [
    "### Heuristic"
   ]
  },
  {
   "cell_type": "code",
   "execution_count": 62,
   "id": "955cba29",
   "metadata": {},
   "outputs": [],
   "source": [
    "advantage = AdvantageSampler(\n",
    "    G, num_reads=num_reads, version=version, region=region, use_clique_embedding=False, measure_times=True, return_sampleset_info=True\n",
    ")"
   ]
  },
  {
   "cell_type": "code",
   "execution_count": 63,
   "id": "79d4ea41",
   "metadata": {},
   "outputs": [],
   "source": [
    "iterative_searcher = IterativeSearcher(advantage)"
   ]
  },
  {
   "cell_type": "code",
   "execution_count": 65,
   "id": "68524cfb",
   "metadata": {},
   "outputs": [
    {
     "name": "stdout",
     "output_type": "stream",
     "text": [
      "Starting community detection iterations\n"
     ]
    },
    {
     "name": "stderr",
     "output_type": "stream",
     "text": [
      " 50%|█████     | 1/2 [04:56<04:56, 296.86s/it]"
     ]
    },
    {
     "name": "stdout",
     "output_type": "stream",
     "text": [
      "Iteration 0 completed\n"
     ]
    },
    {
     "name": "stderr",
     "output_type": "stream",
     "text": [
      "100%|██████████| 2/2 [14:59<00:00, 449.94s/it]"
     ]
    },
    {
     "name": "stdout",
     "output_type": "stream",
     "text": [
      "Iteration 1 completed\n"
     ]
    },
    {
     "name": "stderr",
     "output_type": "stream",
     "text": [
      "\n"
     ]
    }
   ],
   "source": [
    "res_heu = iterative_searcher.run_with_sampleset_info(\n",
    "    num_runs=2,\n",
    "    save_results=True,\n",
    "    saving_path=\"heuristic)advantage_clique_samples\",\n",
    "    iterative_verbosity=1,\n",
    "    return_sampleset_info=True,\n",
    ")"
   ]
  },
  {
   "cell_type": "code",
   "execution_count": 71,
   "id": "cf4e2477",
   "metadata": {},
   "outputs": [
    {
     "data": {
      "text/plain": [
       "array([0.2807632, 0.2406278, 0.3359402, 0.302822 , 0.1841993, 0.1517898,\n",
       "       0.2029491, 0.320833 , 0.2347661, 0.1915635, 0.2737376, 0.2755818,\n",
       "       0.1963269, 0.2202596, 0.3618938, 0.4035531, 0.4405374, 0.427501 ,\n",
       "       0.3805251, 0.3727842, 0.3873692, 0.456362 , 0.4334511, 0.3993097])"
      ]
     },
     "execution_count": 71,
     "metadata": {},
     "output_type": "execute_result"
    }
   ],
   "source": [
    "res_heu[0].time_measurements.embedding_composite_time"
   ]
  },
  {
   "cell_type": "code",
   "execution_count": 72,
   "id": "a3b09ffe",
   "metadata": {},
   "outputs": [
    {
     "data": {
      "text/plain": [
       "rec.array([(0.2807632, 59.6475311), (0.2406278, 16.8091243),\n",
       "           (0.3359402,  7.4627778), (0.302822 ,  0.6165701),\n",
       "           (0.1841993,  0.7094622), (0.1517898,  0.0663413),\n",
       "           (0.2029491,  0.2232563), (0.320833 ,  0.1497798),\n",
       "           (0.2347661,  0.1103587), (0.1915635,  0.7009316),\n",
       "           (0.2737376,  0.2508542), (0.2755818,  0.1312484),\n",
       "           (0.1963269,  0.0945934), (0.2202596, 38.5239291),\n",
       "           (0.3618938,  4.9918162), (0.4035531,  0.2753941),\n",
       "           (0.4405374,  2.4519983), (0.427501 ,  0.1697537),\n",
       "           (0.3805251,  1.2791192), (0.3727842,  1.8661805),\n",
       "           (0.3873692,  0.2791576), (0.456362 ,  0.1886594),\n",
       "           (0.4334511,  0.1984597), (0.3993097,  0.5174587)],\n",
       "          dtype=[('embedding_composite_time', '<f8'), ('sample_time', '<f8')])"
      ]
     },
     "execution_count": 72,
     "metadata": {},
     "output_type": "execute_result"
    }
   ],
   "source": [
    "res_heu[0].time_measurements"
   ]
  },
  {
   "cell_type": "code",
   "execution_count": 74,
   "id": "9dfedf24",
   "metadata": {},
   "outputs": [
    {
     "data": {
      "text/plain": [
       "7.4754465000587516"
      ]
     },
     "execution_count": 74,
     "metadata": {},
     "output_type": "execute_result"
    }
   ],
   "source": [
    "res_heu[0].time_measurements.embedding_composite_time.sum()"
   ]
  },
  {
   "cell_type": "code",
   "execution_count": 78,
   "id": "a7b87cd2",
   "metadata": {},
   "outputs": [
    {
     "data": {
      "text/plain": [
       "137.71475569996983"
      ]
     },
     "execution_count": 78,
     "metadata": {},
     "output_type": "execute_result"
    }
   ],
   "source": [
    "res_heu[0].time_measurements.sample_time.sum()"
   ]
  },
  {
   "cell_type": "code",
   "execution_count": 79,
   "id": "c7d8142b",
   "metadata": {},
   "outputs": [
    {
     "data": {
      "text/plain": [
       "array([59.6475311, 16.8091243,  7.4627778,  0.6165701,  0.7094622,\n",
       "        0.0663413,  0.2232563,  0.1497798,  0.1103587,  0.7009316,\n",
       "        0.2508542,  0.1312484,  0.0945934, 38.5239291,  4.9918162,\n",
       "        0.2753941,  2.4519983,  0.1697537,  1.2791192,  1.8661805,\n",
       "        0.2791576,  0.1886594,  0.1984597,  0.5174587])"
      ]
     },
     "execution_count": 79,
     "metadata": {},
     "output_type": "execute_result"
    }
   ],
   "source": [
    "res_heu[0].time_measurements.sample_time"
   ]
  },
  {
   "cell_type": "code",
   "execution_count": 81,
   "id": "9ddccb7a",
   "metadata": {},
   "outputs": [
    {
     "data": {
      "text/plain": [
       "array([0.2807632, 0.2406278, 0.3359402, 0.302822 , 0.1841993, 0.1517898,\n",
       "       0.2029491, 0.320833 , 0.2347661, 0.1915635, 0.2737376, 0.2755818,\n",
       "       0.1963269, 0.2202596, 0.3618938, 0.4035531, 0.4405374, 0.427501 ,\n",
       "       0.3805251, 0.3727842, 0.3873692, 0.456362 , 0.4334511, 0.3993097])"
      ]
     },
     "execution_count": 81,
     "metadata": {},
     "output_type": "execute_result"
    }
   ],
   "source": [
    "res_heu[0].time_measurements.embedding_composite_time"
   ]
  }
 ],
 "metadata": {
  "kernelspec": {
   "display_name": "qomm_env",
   "language": "python",
   "name": "python3"
  },
  "language_info": {
   "codemirror_mode": {
    "name": "ipython",
    "version": 3
   },
   "file_extension": ".py",
   "mimetype": "text/x-python",
   "name": "python",
   "nbconvert_exporter": "python",
   "pygments_lexer": "ipython3",
   "version": "3.10.14"
  }
 },
 "nbformat": 4,
 "nbformat_minor": 5
}
