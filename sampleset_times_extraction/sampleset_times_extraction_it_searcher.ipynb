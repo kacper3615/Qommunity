{
 "cells": [
  {
   "cell_type": "code",
   "execution_count": 1,
   "id": "6faf1a22",
   "metadata": {},
   "outputs": [],
   "source": [
    "import numpy as np\n",
    "import networkx as nx\n",
    "import matplotlib.pyplot as plt\n",
    "\n",
    "from Qommunity.samplers.hierarchical.advantage_sampler import AdvantageSampler\n",
    "from Qommunity.searchers.hierarchical_searcher import HierarchicalSearcher\n",
    "# from Qommunity.iterative_searcher import IterativeSearcher"
   ]
  },
  {
   "cell_type": "code",
   "execution_count": 2,
   "id": "355ce839",
   "metadata": {},
   "outputs": [],
   "source": [
    "G = nx.powerlaw_cluster_graph(n=100, m=1, p=0.1)\n",
    "num_reads = 100\n",
    "version = \"\"\n",
    "region = \"na-west-1\""
   ]
  },
  {
   "cell_type": "markdown",
   "id": "22f9156a",
   "metadata": {},
   "source": [
    "### Usage"
   ]
  },
  {
   "cell_type": "code",
   "execution_count": 3,
   "id": "5b0a7d5d",
   "metadata": {},
   "outputs": [],
   "source": [
    "advantage = AdvantageSampler(\n",
    "    G, num_reads=num_reads, version=version, region=region, use_clique_embedding=True, elapse_times=True, return_sampleset_metadata=True\n",
    ")"
   ]
  },
  {
   "cell_type": "code",
   "execution_count": 4,
   "id": "3266206c",
   "metadata": {},
   "outputs": [],
   "source": [
    "# iterative_searcher = IterativeSearcher(advantage)\n",
    "# iterative_searcher.sampler"
   ]
  },
  {
   "cell_type": "code",
   "execution_count": 5,
   "id": "fe0b04f7",
   "metadata": {},
   "outputs": [],
   "source": [
    "from Qommunity.samplers.hierarchical.hierarchical_sampler import (\n",
    "    HierarchicalSampler,\n",
    ")\n",
    "from Qommunity.searchers.hierarchical_searcher import (\n",
    "    HierarchicalSearcher,\n",
    ")\n",
    "import networkx as nx\n",
    "from time import time\n",
    "from tqdm import tqdm\n",
    "import numpy as np\n",
    "import warnings\n",
    "\n",
    "from Qommunity.samplers.hierarchical.advantage_sampler import AdvantageSampler\n",
    "import pickle\n",
    "\n",
    "SAMPLESET_METADATA_KEYARG = \"return_sampleset_metadata\"\n",
    "\n",
    "class MethodArgsWarning(Warning):\n",
    "    def __init__(self, msg):\n",
    "        super().__init__(msg)\n",
    "\n",
    "\n",
    "# Warning format compatible with tqdm\n",
    "def warn(message, category, filename, lineno, file=None, line=None):\n",
    "    tqdm.write(f\"Warning: {str(message)}\")\n",
    "\n",
    "\n",
    "warnings.showwarning = warn\n",
    "warnings.simplefilter(\"always\", MethodArgsWarning)\n",
    "\n",
    "\n",
    "class IterativeHierarchicalSearcher:\n",
    "    def __init__(self, sampler: HierarchicalSampler) -> None:\n",
    "        self.sampler = sampler\n",
    "        self.searcher = HierarchicalSearcher(self.sampler)\n",
    "\n",
    "    def _default_saving_path(self) -> str:\n",
    "        return (\n",
    "            f\"{self.sampler.__class__.__name__}\"\n",
    "            + \"-network_size_\"\n",
    "            + f\"{self.sampler.G.number_of_nodes()}\"\n",
    "        )\n",
    "\n",
    "    def _verify_kwargs(self, kwargs) -> dict:\n",
    "        kwargs_unhandled = [\"division_tree\", \"return_modularities\"]\n",
    "        kwargs_warning = []\n",
    "        for kwarg in kwargs_unhandled:\n",
    "            if kwarg in kwargs:\n",
    "                kwargs.pop(kwarg, None)\n",
    "                kwargs_warning.append(kwarg)\n",
    "        if kwargs_warning:\n",
    "            msg = \", \".join(kwargs_warning)\n",
    "            warnings.warn(\n",
    "                f\"in order to get {msg} run \"\n",
    "                + \" IterativeSearcher.run_with_sampleset_info()\"\n",
    "            )\n",
    "\n",
    "        return kwargs\n",
    "\n",
    "    def run(\n",
    "        self,\n",
    "        num_runs: int,\n",
    "        save_results: bool = True,\n",
    "        saving_path: str | None = None,\n",
    "        elapse_times: bool = True,\n",
    "        iterative_verbosity: int = 0,\n",
    "        # return_sampleset_metadata: bool = False,\n",
    "        **kwargs,\n",
    "    ):\n",
    "        kwargs = self._verify_kwargs(kwargs)\n",
    "\n",
    "        if iterative_verbosity >= 1:\n",
    "            print(\"Starting community detection iterations\")\n",
    "\n",
    "        if save_results and saving_path is None:\n",
    "            saving_path = self._default_saving_path()\n",
    "\n",
    "        modularities = np.zeros((num_runs))\n",
    "        communities = np.empty((num_runs), dtype=object)\n",
    "        times = np.zeros((num_runs))\n",
    "        \n",
    "        # List instead of samplesets_data = np.empty((num_runs), dtype=object)\n",
    "        # To prevent jupyter notebook kernel crashes\n",
    "        # as handling big objects is not efficient with numpy dtype=object arrs\n",
    "        samplesets_data = []\n",
    "\n",
    "        for iter in tqdm(range(num_runs)):\n",
    "            elapsed = time()\n",
    "            result = self.searcher.hierarchical_community_search(**kwargs)\n",
    "            times[iter] = time() - elapsed\n",
    "\n",
    "            if SAMPLESET_METADATA_KEYARG in kwargs:\n",
    "                result, sampleset_metadata = result\n",
    "\n",
    "            try:\n",
    "                modularity_score = nx.community.modularity(\n",
    "                    self.searcher.sampler.G,\n",
    "                    result,\n",
    "                    resolution=self.sampler.resolution,\n",
    "                )\n",
    "            except Exception as e:\n",
    "                print(f\"iteration: {iter} exception: {e}\")\n",
    "                modularity_score = -1\n",
    "\n",
    "            communities[iter] = result\n",
    "            modularities[iter] = modularity_score\n",
    "            samplesets_data[iter] = sampleset_metadata\n",
    "\n",
    "            if save_results:\n",
    "                np.save(f\"{saving_path}_modularities\", modularities)\n",
    "                np.save(f\"{saving_path}_communities\", communities)\n",
    "                if elapse_times:\n",
    "                    np.save(f\"{saving_path}_times\", times)\n",
    "                # if return_sampleset_metadata:\n",
    "                with open(f\"samplesets_data.pkl\", \"wb\") as f:\n",
    "                    pickle.dump(samplesets_data, f)\n",
    "\n",
    "            if iterative_verbosity >= 1:\n",
    "                print(f\"Iteration {iter} completed\")\n",
    "\n",
    "        if elapse_times and sampleset_metadata:\n",
    "            return communities, modularities, times, sampleset_metadata\n",
    "        if elapse_times:\n",
    "            return communities, modularities, times\n",
    "        # if return_sampleset_metadata:\n",
    "            return communities, modularities, samplesets_data\n",
    "        return communities, modularities\n",
    "\n",
    "    def run_with_sampleset_info(\n",
    "        self,\n",
    "        num_runs: int,\n",
    "        save_results: bool = True,\n",
    "        saving_path: str | None = None,\n",
    "        iterative_verbosity: int = 0,\n",
    "        return_sampleset_metadata: bool = True,\n",
    "        **kwargs,\n",
    "    ):\n",
    "\n",
    "        if iterative_verbosity >= 1:\n",
    "            print(\"Starting community detection iterations\")\n",
    "\n",
    "        if save_results and saving_path is None:\n",
    "            saving_path = self._default_saving_path()\n",
    "\n",
    "        modularities = np.zeros((num_runs))\n",
    "        communities = np.empty((num_runs), dtype=object)\n",
    "        times = np.zeros((num_runs))\n",
    "        division_modularities = np.empty((num_runs), dtype=object)\n",
    "        division_trees = np.empty((num_runs), dtype=object)\n",
    "        # samplesets_data = np.empty((num_runs), dtype=object)\n",
    "        samplesets_data = []\n",
    "\n",
    "        if return_sampleset_metadata:\n",
    "            kwargs[SAMPLESET_METADATA_KEYARG] = True\n",
    "\n",
    "        for iter in tqdm(range(num_runs)):\n",
    "            elapsed = time()\n",
    "            result = self.searcher.hierarchical_community_search(\n",
    "                return_modularities=True,\n",
    "                division_tree=True,\n",
    "                **kwargs,\n",
    "            )\n",
    "\n",
    "            # np.save(f\"results_{iter}.npy\", result)\n",
    "            with open(f\"results_{iter}.pkl\", \"wb\") as f:\n",
    "                pickle.dump(result, f)\n",
    "            # LOADED_RES_MEDATADA_MOCK = np.load(\"results.npy\", allow_pickle=True)\n",
    "            # result = LOADED_RES_MEDATADA_MOCK\n",
    "\n",
    "            # Currently only AdvantageSampler among the hierarchical solvers\n",
    "            # provides sampleset metadata.\n",
    "            if isinstance(self.sampler, AdvantageSampler) and self.sampler.return_sampleset_metadata and return_sampleset_metadata:\n",
    "                (\n",
    "                    communities_result,\n",
    "                    div_tree,\n",
    "                    div_modularities,\n",
    "                    sampleset_data,\n",
    "                ) = result\n",
    "            else:\n",
    "                (\n",
    "                    communities_result,\n",
    "                    div_tree,\n",
    "                    div_modularities,\n",
    "                ) = result\n",
    "            times[iter] = time() - elapsed\n",
    "            division_trees[iter] = div_tree\n",
    "            division_modularities[iter] = div_modularities\n",
    "            # samplesets_data[iter] = sampleset_data\n",
    "            samplesets_data.append(sampleset_data)\n",
    "\n",
    "            try:\n",
    "                modularity_score = nx.community.modularity(\n",
    "                    self.searcher.sampler.G,\n",
    "                    communities_result,\n",
    "                    resolution=self.sampler.resolution,\n",
    "                )\n",
    "            except Exception as e:\n",
    "                print(f\"iteration: {iter} exception: {e}\")\n",
    "                modularity_score = -1\n",
    "\n",
    "            communities[iter] = communities_result\n",
    "            modularities[iter] = modularity_score\n",
    "\n",
    "            if save_results:\n",
    "                np.save(f\"{saving_path}_modularities\", modularities)\n",
    "                np.save(f\"{saving_path}_communities\", communities)\n",
    "                np.save(f\"{saving_path}_times\", times)\n",
    "                np.save(f\"{saving_path}_division_trees\", division_trees)\n",
    "                np.save(\n",
    "                    f\"{saving_path}_division_modularities\",\n",
    "                    division_modularities,\n",
    "                )\n",
    "                with open(f\"samplesets_data.pkl\", \"wb\") as f:\n",
    "                    pickle.dump(samplesets_data, f)\n",
    "                # np.save(f\"{saving_path}_samplesets_data\", samplesets_data)\n",
    "                \n",
    "\n",
    "            if iterative_verbosity >= 1:\n",
    "                print(f\"Iteration {iter} completed\")\n",
    "\n",
    "        dtypes = [\n",
    "            (\"communities\", object),\n",
    "            (\"modularity\", np.float_),\n",
    "            (\"time\", np.float_),\n",
    "            (\"division_tree\", object),\n",
    "            (\"division_modularities\", object),\n",
    "        ]\n",
    "        sampleset_components = [\n",
    "            communities,\n",
    "            modularities,\n",
    "            times,\n",
    "            division_trees,\n",
    "            division_modularities,\n",
    "        ]\n",
    "\n",
    "        if return_sampleset_metadata:\n",
    "            dtypes.append((\"samplesets_data\", object))\n",
    "            sampleset_components.append(samplesets_data)\n",
    "\n",
    "        sampleset = np.rec.fromarrays(\n",
    "            sampleset_components,\n",
    "            dtype=dtypes,\n",
    "        )\n",
    "\n",
    "        return sampleset\n",
    "\n",
    "        # if not return_sampleset_metadata:\n",
    "        #     return sampleset\n",
    "\n",
    "        # results_processed = self._process_results(sampleset)\n",
    "\n",
    "        # return results_processed\n",
    "\n",
    "    # def _process_results(self, sampleset):\n",
    "    #     dtype = [si.dwave_sampleset_metadata for si in sampleset[0].samplesets_data][\n",
    "    #         0\n",
    "    #     ].dtype.descr\n",
    "    #     dwave_sampleset_metadata = np.array(\n",
    "    #         [\n",
    "    #             np.concatenate(\n",
    "    #                 [\n",
    "    #                     np.array([r], dtype=dtype)\n",
    "    #                     for r in [\n",
    "    #                         si.dwave_sampleset_info\n",
    "    #                         for si in sampleset[run].samplesets_data\n",
    "    #                     ]\n",
    "    #                 ]\n",
    "    #             ).view(np.recarray)\n",
    "    #             for run in range(len(sampleset))\n",
    "    #         ],\n",
    "    #         dtype=object,\n",
    "    #     )\n",
    "\n",
    "    #     dtype = [si.time_measurements for si in sampleset[0].samplesets_data][\n",
    "    #         0\n",
    "    #     ].dtype.descr\n",
    "    #     time_measurements = np.array(\n",
    "    #         [\n",
    "    #             np.concatenate(\n",
    "    #                 [\n",
    "    #                     np.array([r], dtype=dtype)\n",
    "    #                     for r in [\n",
    "    #                         si.time_measurements\n",
    "    #                         for si in sampleset[run].samplesets_data\n",
    "    #                     ]\n",
    "    #                 ]\n",
    "    #             ).view(np.recarray)\n",
    "    #             for run in range(len(sampleset))\n",
    "    #         ],\n",
    "    #         dtype=object,\n",
    "    #     )\n",
    "\n",
    "    #     results_procesed_dtypes = sampleset.dtype.descr\n",
    "    #     results_procesed_dtypes.pop()\n",
    "    #     results_procesed_dtypes.append((\"dwave_sampleset_metadata\", object))\n",
    "    #     results_procesed_dtypes.append((\"time_measurements\", object))\n",
    "    #     results_procesed_dtypes\n",
    "\n",
    "    #     results_processed_componenets = [\n",
    "    #         sampleset.communities,\n",
    "    #         sampleset.modularity,\n",
    "    #         sampleset.time,\n",
    "    #         sampleset.division_tree,\n",
    "    #         sampleset.division_modularities,\n",
    "    #         dwave_sampleset_metadata,\n",
    "    #         time_measurements,\n",
    "    #     ]\n",
    "\n",
    "    #     results_processed = np.rec.fromarrays(\n",
    "    #         results_processed_componenets,\n",
    "    #         dtype=results_procesed_dtypes,\n",
    "    #     )\n",
    "\n",
    "    #     return results_processed\n"
   ]
  },
  {
   "cell_type": "code",
   "execution_count": 6,
   "id": "ca896fc9",
   "metadata": {},
   "outputs": [],
   "source": [
    "LOADED_RES_MEDATADA_MOCK = np.load(\"advantage_clique_samples_samplesets_data.npy\", allow_pickle=True)"
   ]
  },
  {
   "cell_type": "code",
   "execution_count": 7,
   "id": "bc5104ff",
   "metadata": {},
   "outputs": [],
   "source": [
    "iterative_searcher = IterativeHierarchicalSearcher(advantage)"
   ]
  },
  {
   "cell_type": "code",
   "execution_count": 8,
   "id": "5fa48d56",
   "metadata": {},
   "outputs": [
    {
     "name": "stdout",
     "output_type": "stream",
     "text": [
      "Starting community detection iterations\n"
     ]
    },
    {
     "name": "stderr",
     "output_type": "stream",
     "text": [
      "  0%|          | 0/5 [00:00<?, ?it/s]"
     ]
    },
    {
     "name": "stderr",
     "output_type": "stream",
     "text": [
      " 20%|██        | 1/5 [01:38<06:35, 98.97s/it]"
     ]
    },
    {
     "name": "stdout",
     "output_type": "stream",
     "text": [
      "Iteration 0 completed\n"
     ]
    },
    {
     "name": "stderr",
     "output_type": "stream",
     "text": [
      " 40%|████      | 2/5 [03:11<04:45, 95.04s/it]"
     ]
    },
    {
     "name": "stdout",
     "output_type": "stream",
     "text": [
      "Iteration 1 completed\n"
     ]
    },
    {
     "name": "stderr",
     "output_type": "stream",
     "text": [
      " 60%|██████    | 3/5 [04:51<03:15, 97.55s/it]"
     ]
    },
    {
     "name": "stdout",
     "output_type": "stream",
     "text": [
      "Iteration 2 completed\n"
     ]
    },
    {
     "name": "stderr",
     "output_type": "stream",
     "text": [
      " 80%|████████  | 4/5 [06:39<01:41, 101.74s/it]"
     ]
    },
    {
     "name": "stdout",
     "output_type": "stream",
     "text": [
      "Iteration 3 completed\n"
     ]
    },
    {
     "name": "stderr",
     "output_type": "stream",
     "text": [
      "100%|██████████| 5/5 [08:35<00:00, 103.08s/it]"
     ]
    },
    {
     "name": "stdout",
     "output_type": "stream",
     "text": [
      "Iteration 4 completed\n"
     ]
    },
    {
     "name": "stderr",
     "output_type": "stream",
     "text": [
      "\n"
     ]
    }
   ],
   "source": [
    "res = iterative_searcher.run_with_sampleset_info(\n",
    "    num_runs=5,\n",
    "    save_results=True,\n",
    "    saving_path=\"advantage_clique_samples\",\n",
    "    iterative_verbosity=1,\n",
    "    return_sampleset_metadata=True,\n",
    ")"
   ]
  },
  {
   "cell_type": "code",
   "execution_count": 12,
   "id": "2080f9bd",
   "metadata": {},
   "outputs": [
    {
     "data": {
      "text/plain": [
       "rec.array([(list([[10, 40, 41, 43, 47, 52, 54, 56, 87, 96], [4], [11, 12, 24, 44, 48, 49, 51, 53, 55, 65, 66, 70, 72, 82, 97, 98], [38, 86], [0, 13, 20, 39, 75, 92, 95], [16, 23, 32, 35, 50, 58, 80, 85], [14, 33, 57, 76, 79, 89, 90, 91, 99], [22, 27, 29, 34, 62, 77, 84], [1, 5, 18, 25, 36, 37, 42, 45, 69, 71, 73, 78, 81, 83, 88, 93], [6, 21, 28, 30, 31, 46, 60, 63, 94], [2, 3, 7, 8, 9, 15, 17, 19, 26, 59, 61, 64, 67, 68, 74]]), 0.77757372,  98.96595883, list([[[0, 1, 2, 3, 4, 5, 6, 7, 8, 9, 10, 11, 12, 13, 14, 15, 16, 17, 18, 19, 20, 21, 22, 23, 24, 25, 26, 27, 28, 29, 30, 31, 32, 33, 34, 35, 36, 37, 38, 39, 40, 41, 42, 43, 44, 45, 46, 47, 48, 49, 50, 51, 52, 53, 54, 55, 56, 57, 58, 59, 60, 61, 62, 63, 64, 65, 66, 67, 68, 69, 70, 71, 72, 73, 74, 75, 76, 77, 78, 79, 80, 81, 82, 83, 84, 85, 86, 87, 88, 89, 90, 91, 92, 93, 94, 95, 96, 97, 98, 99]], [[0, 4, 10, 11, 12, 13, 14, 16, 20, 23, 24, 32, 33, 35, 38, 39, 40, 41, 43, 44, 47, 48, 49, 50, 51, 52, 53, 54, 55, 56, 57, 58, 65, 66, 70, 72, 75, 76, 79, 80, 82, 85, 86, 87, 89, 90, 91, 92, 95, 96, 97, 98, 99], [1, 2, 3, 5, 6, 7, 8, 9, 15, 17, 18, 19, 21, 22, 25, 26, 27, 28, 29, 30, 31, 34, 36, 37, 42, 45, 46, 59, 60, 61, 62, 63, 64, 67, 68, 69, 71, 73, 74, 77, 78, 81, 83, 84, 88, 93, 94]], [[4, 10, 11, 12, 24, 40, 41, 43, 44, 47, 48, 49, 51, 52, 53, 54, 55, 56, 65, 66, 70, 72, 82, 87, 96, 97, 98], [0, 13, 14, 16, 20, 23, 32, 33, 35, 38, 39, 50, 57, 58, 75, 76, 79, 80, 85, 86, 89, 90, 91, 92, 95, 99], [1, 5, 18, 22, 25, 27, 29, 34, 36, 37, 42, 45, 62, 69, 71, 73, 77, 78, 81, 83, 84, 88, 93], [2, 3, 6, 7, 8, 9, 15, 17, 19, 21, 26, 28, 30, 31, 46, 59, 60, 61, 63, 64, 67, 68, 74, 94]], [[4, 10, 40, 41, 43, 47, 52, 54, 56, 87, 96], [11, 12, 24, 44, 48, 49, 51, 53, 55, 65, 66, 70, 72, 82, 97, 98], [0, 13, 20, 38, 39, 75, 86, 92, 95], [14, 16, 23, 32, 33, 35, 50, 57, 58, 76, 79, 80, 85, 89, 90, 91, 99], [22, 27, 29, 34, 62, 77, 84], [1, 5, 18, 25, 36, 37, 42, 45, 69, 71, 73, 78, 81, 83, 88, 93], [6, 21, 28, 30, 31, 46, 60, 63, 94], [2, 3, 7, 8, 9, 15, 17, 19, 26, 59, 61, 64, 67, 68, 74]], [[10, 40, 41, 43, 47, 52, 54, 56, 87, 96], [4], [11, 12, 24, 44, 48, 49, 51, 53, 55, 65, 66, 70, 72, 82, 97, 98], [38, 86], [0, 13, 20, 39, 75, 92, 95], [16, 23, 32, 35, 50, 58, 80, 85], [14, 33, 57, 76, 79, 89, 90, 91, 99], [22, 27, 29, 34, 62, 77, 84], [1, 5, 18, 25, 36, 37, 42, 45, 69, 71, 73, 78, 81, 83, 88, 93], [6, 21, 28, 30, 31, 46, 60, 63, 94], [2, 3, 7, 8, 9, 15, 17, 19, 26, 59, 61, 64, 67, 68, 74]]]), list([0.0, 0.45913682277318646, 0.6790123456790123, 0.7706356494235282, 0.7775737169676564]), HierarchicalRunMetadata(dwave_sampleset_metadata=rec.array([(24068., 20., 200.1 , 39837.56, 1517.44, 15769.56, 20.58,  7.,  7.),\n",
       "                      (13784., 20.,  97.26, 29547.16, 2044.84, 15763.16, 20.58, 53., 53.),\n",
       "                      (20638., 20., 165.8 , 36400.36, 3579.64, 15762.36, 20.58, 30., 30.),\n",
       "                      (12632., 20.,  85.74, 28395.16, 1919.84, 15763.16, 20.58,  1.,  1.),\n",
       "                      (12660., 20.,  86.02, 28423.96, 1163.04, 15763.96, 20.58,  1.,  1.),\n",
       "                      (17476., 20., 134.18, 33239.16, 1172.84, 15763.16, 20.58,  1.,  1.),\n",
       "                      (20638., 20., 165.8 , 36400.36, 1175.64, 15762.36, 20.58, 14., 14.),\n",
       "                      (12660., 20.,  86.02, 28423.56, 1599.44, 15763.56, 20.58, 39., 39.),\n",
       "                      ( 6604., 20.,  25.46, 22367.56, 1098.44, 15763.56, 20.58,  1.,  1.),\n",
       "                      (12456., 20.,  83.98, 28219.96, 1330.04, 15763.96, 20.58, 43., 43.),\n",
       "                      (19750., 20., 156.92, 35513.56, 1408.44, 15763.56, 20.58, 19., 19.),\n",
       "                      (12500., 20.,  84.42, 28263.96, 1232.04, 15763.96, 20.58, 21., 21.),\n",
       "                      (12660., 20.,  86.02, 28423.96, 1113.04, 15763.96, 20.58, 19., 19.),\n",
       "                      (13760., 20.,  97.02, 29523.16, 3272.84, 15763.16, 20.58, 53., 53.),\n",
       "                      (20410., 20., 163.52, 36171.96, 1656.04, 15761.96, 20.58,  1.,  1.),\n",
       "                      (12500., 20.,  84.42, 28263.96, 1279.04, 15763.96, 20.58, 42., 42.),\n",
       "                      (17476., 20., 134.18, 33239.56, 1615.44, 15763.56, 20.58,  1.,  1.),\n",
       "                      (20410., 20., 163.52, 36172.76, 1231.24, 15762.76, 20.58,  1.,  1.),\n",
       "                      (12568., 20.,  85.1 , 28331.56, 1577.44, 15763.56, 20.58,  1.,  1.),\n",
       "                      (17362., 20., 133.04, 33125.16, 1599.84, 15763.16, 20.58,  1.,  1.)],\n",
       "                     dtype=[('qpu_sampling_time', '<f8'), ('qpu_anneal_time_per_sample', '<f8'), ('qpu_readout_time_per_sample', '<f8'), ('qpu_access_time', '<f8'), ('qpu_access_overhead_time', '<f8'), ('qpu_programming_time', '<f8'), ('qpu_delay_time_per_sample', '<f8'), ('post_processing_overhead_time', '<f8'), ('total_post_processing_time', '<f8')]), time_measurements=rec.array([(0.1777774, 0.174587 , 0.117504 ),\n",
       "                      (0.1725512, 0.0391345, 0.0539291),\n",
       "                      (0.1110977, 0.0186068, 0.026457 ),\n",
       "                      (0.1211551, 0.0177746, 0.022731 ),\n",
       "                      (0.1181191, 0.0183015, 0.021342 ),\n",
       "                      (0.1095785, 0.0189923, 0.0220079),\n",
       "                      (0.1142982, 0.0192843, 0.0270407),\n",
       "                      (0.1333365, 0.023565 , 0.0256957),\n",
       "                      (0.1193481, 0.0139634, 0.0175548),\n",
       "                      (0.1216998, 0.0181604, 0.0200289),\n",
       "                      (0.1257427, 0.0181323, 0.0212074),\n",
       "                      (0.1184207, 0.0177588, 0.0206663),\n",
       "                      (0.1334239, 0.0188277, 0.0242098),\n",
       "                      (0.1379526, 0.026628 , 0.035915 ),\n",
       "                      (0.1194839, 0.0182823, 0.0230444),\n",
       "                      (0.1535459, 0.0150002, 0.0176032),\n",
       "                      (0.1153323, 0.0146238, 0.0192474),\n",
       "                      (0.1011588, 0.0175661, 0.0239755),\n",
       "                      (0.128132 , 0.0181884, 0.0204684),\n",
       "                      (0.1052694, 0.0162914, 0.0206564)],\n",
       "                     dtype=[('find_clique_embedding_time', '<f8'), ('fixed_embedding_composite_time', '<f8'), ('sample_time', '<f8')])))                                                                                                                                                                                                                                                                                                                                                                                                                                                                                                                                                                                                                                                                                                                                                                                                                                                                                                                                                                                                                                                                                                                                                                                                                                                                                                                                                                                                                                                                                                                                                                                                                                                                                                                                                                                                                                                                                                                                                                                                                                                                                                                                                                                                                                                                                                                                                                                                                                                                                                                                                                                                                                                                    ,\n",
       "           (list([[22, 27, 29, 34, 62, 77, 84], [18, 25, 37, 38, 86], [1, 4, 5, 36, 42, 45, 69, 71, 73, 78, 81, 83, 88, 93], [6, 21, 28, 30, 31, 46, 60, 63, 94], [80], [2, 3, 7, 8, 9, 15, 17, 19, 26, 59, 61, 64, 67, 68, 74], [0, 13, 20, 39, 75, 92, 95], [16, 23, 32, 35, 50, 58, 85], [14, 33, 57, 76, 79, 89, 90, 91, 99], [10, 40, 41, 43, 47, 52, 54, 56, 87, 96], [11, 12, 24, 44, 48, 49, 51, 53, 55, 65, 66, 70, 72, 82, 97, 98]]), 0.78502194,  92.28982067, list([[[0, 1, 2, 3, 4, 5, 6, 7, 8, 9, 10, 11, 12, 13, 14, 15, 16, 17, 18, 19, 20, 21, 22, 23, 24, 25, 26, 27, 28, 29, 30, 31, 32, 33, 34, 35, 36, 37, 38, 39, 40, 41, 42, 43, 44, 45, 46, 47, 48, 49, 50, 51, 52, 53, 54, 55, 56, 57, 58, 59, 60, 61, 62, 63, 64, 65, 66, 67, 68, 69, 70, 71, 72, 73, 74, 75, 76, 77, 78, 79, 80, 81, 82, 83, 84, 85, 86, 87, 88, 89, 90, 91, 92, 93, 94, 95, 96, 97, 98, 99]], [[1, 2, 3, 4, 5, 6, 7, 8, 9, 15, 17, 18, 19, 21, 22, 25, 26, 27, 28, 29, 30, 31, 34, 36, 37, 38, 42, 45, 46, 59, 60, 61, 62, 63, 64, 67, 68, 69, 71, 73, 74, 77, 78, 80, 81, 83, 84, 86, 88, 93, 94], [0, 10, 11, 12, 13, 14, 16, 20, 23, 24, 32, 33, 35, 39, 40, 41, 43, 44, 47, 48, 49, 50, 51, 52, 53, 54, 55, 56, 57, 58, 65, 66, 70, 72, 75, 76, 79, 82, 85, 87, 89, 90, 91, 92, 95, 96, 97, 98, 99]], [[1, 4, 5, 18, 22, 25, 27, 29, 34, 36, 37, 38, 42, 45, 62, 69, 71, 73, 77, 78, 81, 83, 84, 86, 88, 93], [2, 3, 6, 7, 8, 9, 15, 17, 19, 21, 26, 28, 30, 31, 46, 59, 60, 61, 63, 64, 67, 68, 74, 80, 94], [0, 13, 14, 16, 20, 23, 32, 33, 35, 39, 50, 57, 58, 75, 76, 79, 85, 89, 90, 91, 92, 95, 99], [10, 11, 12, 24, 40, 41, 43, 44, 47, 48, 49, 51, 52, 53, 54, 55, 56, 65, 66, 70, 72, 82, 87, 96, 97, 98]], [[22, 27, 29, 34, 62, 77, 84], [1, 4, 5, 18, 25, 36, 37, 38, 42, 45, 69, 71, 73, 78, 81, 83, 86, 88, 93], [6, 21, 28, 30, 31, 46, 60, 63, 80, 94], [2, 3, 7, 8, 9, 15, 17, 19, 26, 59, 61, 64, 67, 68, 74], [0, 13, 20, 39, 75, 92, 95], [14, 16, 23, 32, 33, 35, 50, 57, 58, 76, 79, 85, 89, 90, 91, 99], [10, 40, 41, 43, 47, 52, 54, 56, 87, 96], [11, 12, 24, 44, 48, 49, 51, 53, 55, 65, 66, 70, 72, 82, 97, 98]], [[22, 27, 29, 34, 62, 77, 84], [18, 25, 37, 38, 86], [1, 4, 5, 36, 42, 45, 69, 71, 73, 78, 81, 83, 88, 93], [6, 21, 28, 30, 31, 46, 60, 63, 94], [80], [2, 3, 7, 8, 9, 15, 17, 19, 26, 59, 61, 64, 67, 68, 74], [0, 13, 20, 39, 75, 92, 95], [16, 23, 32, 35, 50, 58, 85], [14, 33, 57, 76, 79, 89, 90, 91, 99], [10, 40, 41, 43, 47, 52, 54, 56, 87, 96], [11, 12, 24, 44, 48, 49, 51, 53, 55, 65, 66, 70, 72, 82, 97, 98]]]), list([0.0, 0.46949290888684836, 0.6888582797673707, 0.7772676257524743, 0.7850219365370881]), HierarchicalRunMetadata(dwave_sampleset_metadata=rec.array([(24068., 20., 200.1 , 39837.56, 2528.44, 15769.56, 20.58, 174., 174.),\n",
       "                      (13760., 20.,  97.02, 29523.96, 1700.04, 15763.96, 20.58,  30.,  30.),\n",
       "                      (20548., 20., 164.9 , 36310.76, 1221.24, 15762.76, 20.58,  96.,  96.),\n",
       "                      (12456., 20.,  83.98, 28219.96, 1704.04, 15763.96, 20.58,  17.,  17.),\n",
       "                      (19906., 20., 158.48, 35669.16, 1121.84, 15763.16, 20.58,  23.,  23.),\n",
       "                      (12368., 20.,  83.1 , 28131.56, 1494.44, 15763.56, 20.58,   1.,   1.),\n",
       "                      (17362., 20., 133.04, 33125.16, 1337.84, 15763.16, 20.58,   1.,   1.),\n",
       "                      (20434., 20., 163.76, 36196.36, 1332.64, 15762.36, 20.58,   1.,   1.),\n",
       "                      (12660., 20.,  86.02, 28423.56, 1533.44, 15763.56, 20.58,   1.,   1.),\n",
       "                      (12568., 20.,  85.1 , 28331.56,  902.44, 15763.56, 20.58,   1.,   1.),\n",
       "                      (17362., 20., 133.04, 33125.16, 1028.84, 15763.16, 20.58,   1.,   1.),\n",
       "                      (13760., 20.,  97.02, 29522.76, 1787.24, 15762.76, 20.58,   1.,   1.),\n",
       "                      (20410., 20., 163.52, 36173.16, 2777.84, 15763.16, 20.58,   1.,   1.),\n",
       "                      (12500., 20.,  84.42, 28263.96, 1460.04, 15763.96, 20.58,   1.,   1.),\n",
       "                      (19906., 20., 158.48, 35669.16, 1101.84, 15763.16, 20.58,   1.,   1.),\n",
       "                      (12456., 20.,  83.98, 28219.96, 1127.04, 15763.96, 20.58,   1.,   1.),\n",
       "                      (12568., 20.,  85.1 , 28331.96, 1105.04, 15763.96, 20.58,   1.,   1.),\n",
       "                      (20638., 20., 165.8 , 36401.16, 1711.84, 15763.16, 20.58,   1.,   1.),\n",
       "                      (12660., 20.,  86.02, 28423.96, 1001.04, 15763.96, 20.58,   1.,   1.),\n",
       "                      (19906., 20., 158.48, 35669.16, 1190.84, 15763.16, 20.58,  15.,  15.)],\n",
       "                     dtype=[('qpu_sampling_time', '<f8'), ('qpu_anneal_time_per_sample', '<f8'), ('qpu_readout_time_per_sample', '<f8'), ('qpu_access_time', '<f8'), ('qpu_access_overhead_time', '<f8'), ('qpu_programming_time', '<f8'), ('qpu_delay_time_per_sample', '<f8'), ('post_processing_overhead_time', '<f8'), ('total_post_processing_time', '<f8')]), time_measurements=rec.array([(0.1259816, 0.027178 , 0.09569  ),\n",
       "                      (0.197469 , 0.0269128, 0.0466659),\n",
       "                      (0.1223691, 0.0195887, 0.0246764),\n",
       "                      (0.130544 , 0.0243365, 0.0196374),\n",
       "                      (0.1283897, 0.0158809, 0.0228752),\n",
       "                      (0.1123945, 0.0159339, 0.0191991),\n",
       "                      (0.1258481, 0.018081 , 0.0217502),\n",
       "                      (0.1248699, 0.0166086, 0.0217277),\n",
       "                      (0.126271 , 0.0183778, 0.0217344),\n",
       "                      (0.1374082, 0.0192245, 0.0217849),\n",
       "                      (0.1545839, 0.0186813, 0.0218291),\n",
       "                      (0.1319022, 0.0214091, 0.0403909),\n",
       "                      (0.131606 , 0.0153246, 0.0213017),\n",
       "                      (0.1331455, 0.0185787, 0.0195384),\n",
       "                      (0.1238325, 0.0195841, 0.0212085),\n",
       "                      (0.1368682, 0.0148432, 0.0177292),\n",
       "                      (0.1451626, 0.0152567, 0.0180721),\n",
       "                      (0.1302965, 0.0197296, 0.021295 ),\n",
       "                      (0.1394198, 0.0184582, 0.0199373),\n",
       "                      (0.133995 , 0.0161626, 0.0207279)],\n",
       "                     dtype=[('find_clique_embedding_time', '<f8'), ('fixed_embedding_composite_time', '<f8'), ('sample_time', '<f8')])))                                                                                                                                                                                                                                                                                                                                                                                                                                                                                                                                                                                                                                                                                                                                                                                                                                                                                                                                                                                                                                                                                                                                                                                                                                                                                                                                                                                                                                                                                                                                                                                                                                                                                                                                                                                                                                                                                                                                                                                                                                                                                                                                                                                                                                                                                                                                                                                                                                                                                                                                                                                                                                                                      ,\n",
       "           (list([[49, 53], [6, 21, 28, 30, 31, 46, 60, 63, 94], [0, 13, 20, 39, 75, 92, 95], [10, 40, 41, 43, 47, 52, 54, 56, 87, 96], [22, 27, 29, 34, 62, 77, 84], [18, 25, 37, 38, 86], [1, 4, 5, 36, 42, 45, 69, 71, 73, 78, 81, 83, 88, 93], [11, 12, 24, 44, 48, 51, 55, 65, 66, 70, 72, 82, 97, 98], [2, 3, 7, 8, 9, 15, 17, 19, 26, 59, 61, 64, 67, 68, 74], [16, 23, 32, 35, 50, 58, 80, 85], [14, 33, 57, 76, 79, 89, 90, 91, 99]]), 0.788593  , 100.51883912, list([[[0, 1, 2, 3, 4, 5, 6, 7, 8, 9, 10, 11, 12, 13, 14, 15, 16, 17, 18, 19, 20, 21, 22, 23, 24, 25, 26, 27, 28, 29, 30, 31, 32, 33, 34, 35, 36, 37, 38, 39, 40, 41, 42, 43, 44, 45, 46, 47, 48, 49, 50, 51, 52, 53, 54, 55, 56, 57, 58, 59, 60, 61, 62, 63, 64, 65, 66, 67, 68, 69, 70, 71, 72, 73, 74, 75, 76, 77, 78, 79, 80, 81, 82, 83, 84, 85, 86, 87, 88, 89, 90, 91, 92, 93, 94, 95, 96, 97, 98, 99]], [[0, 1, 4, 5, 6, 10, 13, 18, 20, 21, 22, 25, 27, 28, 29, 30, 31, 34, 36, 37, 38, 39, 40, 41, 42, 43, 45, 46, 47, 49, 52, 53, 54, 56, 60, 62, 63, 69, 71, 73, 75, 77, 78, 81, 83, 84, 86, 87, 88, 92, 93, 94, 95, 96], [2, 3, 7, 8, 9, 11, 12, 14, 15, 16, 17, 19, 23, 24, 26, 32, 33, 35, 44, 48, 50, 51, 55, 57, 58, 59, 61, 64, 65, 66, 67, 68, 70, 72, 74, 76, 79, 80, 82, 85, 89, 90, 91, 97, 98, 99]], [[0, 6, 10, 13, 20, 21, 28, 30, 31, 39, 40, 41, 43, 46, 47, 49, 52, 53, 54, 56, 60, 63, 75, 87, 92, 94, 95, 96], [1, 4, 5, 18, 22, 25, 27, 29, 34, 36, 37, 38, 42, 45, 62, 69, 71, 73, 77, 78, 81, 83, 84, 86, 88, 93], [2, 3, 7, 8, 9, 11, 12, 15, 17, 19, 24, 26, 44, 48, 51, 55, 59, 61, 64, 65, 66, 67, 68, 70, 72, 74, 82, 97, 98], [14, 16, 23, 32, 33, 35, 50, 57, 58, 76, 79, 80, 85, 89, 90, 91, 99]], [[6, 21, 28, 30, 31, 46, 49, 53, 60, 63, 94], [0, 10, 13, 20, 39, 40, 41, 43, 47, 52, 54, 56, 75, 87, 92, 95, 96], [22, 27, 29, 34, 62, 77, 84], [1, 4, 5, 18, 25, 36, 37, 38, 42, 45, 69, 71, 73, 78, 81, 83, 86, 88, 93], [11, 12, 24, 44, 48, 51, 55, 65, 66, 70, 72, 82, 97, 98], [2, 3, 7, 8, 9, 15, 17, 19, 26, 59, 61, 64, 67, 68, 74], [16, 23, 32, 35, 50, 58, 80, 85], [14, 33, 57, 76, 79, 89, 90, 91, 99]], [[49, 53], [6, 21, 28, 30, 31, 46, 60, 63, 94], [0, 13, 20, 39, 75, 92, 95], [10, 40, 41, 43, 47, 52, 54, 56, 87, 96], [22, 27, 29, 34, 62, 77, 84], [18, 25, 37, 38, 86], [1, 4, 5, 36, 42, 45, 69, 71, 73, 78, 81, 83, 88, 93], [11, 12, 24, 44, 48, 51, 55, 65, 66, 70, 72, 82, 97, 98], [2, 3, 7, 8, 9, 15, 17, 19, 26, 59, 61, 64, 67, 68, 74], [16, 23, 32, 35, 50, 58, 80, 85], [14, 33, 57, 76, 79, 89, 90, 91, 99]]]), list([0.0, 0.46643199673502705, 0.6898785838179777, 0.7774206713600653, 0.7885930007142129]), HierarchicalRunMetadata(dwave_sampleset_metadata=rec.array([(24068., 20., 200.1 , 39837.56, 1716.44, 15769.56, 20.58,   8.,   8.),\n",
       "                      (13876., 20.,  98.18, 29638.76, 2368.24, 15762.76, 20.58,  13.,  13.),\n",
       "                      (20728., 20., 166.7 , 36489.96, 1034.04, 15761.96, 20.58,  54.,  54.),\n",
       "                      (12632., 20.,  85.74, 28395.16, 1789.84, 15763.16, 20.58,   1.,   1.),\n",
       "                      ( 6604., 20.,  25.46, 22367.56, 1326.44, 15763.56, 20.58,   1.,   1.),\n",
       "                      (12660., 20.,  86.02, 28423.56,  918.44, 15763.56, 20.58,   1.,   1.),\n",
       "                      (19906., 20., 158.48, 35669.16, 1031.84, 15763.16, 20.58,   1.,   1.),\n",
       "                      (12456., 20.,  83.98, 28219.96, 1588.04, 15763.96, 20.58,   1.,   1.),\n",
       "                      (12660., 20.,  86.02, 28423.96, 1167.04, 15763.96, 20.58,   1.,   1.),\n",
       "                      (20638., 20., 165.8 , 36400.76, 1622.24, 15762.76, 20.58, 104., 104.),\n",
       "                      (12500., 20.,  84.42, 28263.96, 1030.04, 15763.96, 20.58,   1.,   1.),\n",
       "                      (19906., 20., 158.48, 35669.16, 1109.84, 15763.16, 20.58,  19.,  19.),\n",
       "                      (12368., 20.,  83.1 , 28131.56,  961.44, 15763.56, 20.58,  53.,  53.),\n",
       "                      (17476., 20., 134.18, 33239.16,  933.84, 15763.16, 20.58,   1.,   1.),\n",
       "                      (13852., 20.,  97.94, 29615.16, 1202.84, 15763.16, 20.58,   1.,   1.),\n",
       "                      (20818., 20., 167.6 , 36581.56, 1777.44, 15763.56, 20.58,  18.,  18.),\n",
       "                      (17476., 20., 134.18, 33238.76, 2172.24, 15762.76, 20.58,  26.,  26.),\n",
       "                      (17362., 20., 133.04, 33125.16, 1113.84, 15763.16, 20.58,   1.,   1.),\n",
       "                      (19906., 20., 158.48, 35669.56, 1280.44, 15763.56, 20.58,   1.,   1.),\n",
       "                      (12544., 20.,  84.86, 28307.96, 1123.04, 15763.96, 20.58,  24.,  24.),\n",
       "                      (12568., 20.,  85.1 , 28331.96, 1031.04, 15763.96, 20.58,   1.,   1.)],\n",
       "                     dtype=[('qpu_sampling_time', '<f8'), ('qpu_anneal_time_per_sample', '<f8'), ('qpu_readout_time_per_sample', '<f8'), ('qpu_access_time', '<f8'), ('qpu_access_overhead_time', '<f8'), ('qpu_programming_time', '<f8'), ('qpu_delay_time_per_sample', '<f8'), ('post_processing_overhead_time', '<f8'), ('total_post_processing_time', '<f8')]), time_measurements=rec.array([(0.1313984, 0.0309549, 0.104576 ),\n",
       "                      (0.2109217, 0.0336259, 0.0534987),\n",
       "                      (0.1194822, 0.0197306, 0.0261578),\n",
       "                      (0.1413086, 0.0193437, 0.0211185),\n",
       "                      (0.1411677, 0.0161668, 0.0197502),\n",
       "                      (0.1461091, 0.0165737, 0.0176344),\n",
       "                      (0.1374425, 0.019731 , 0.023276 ),\n",
       "                      (0.1379319, 0.015536 , 0.0183846),\n",
       "                      (0.1778603, 0.0199754, 0.0217554),\n",
       "                      (0.1445597, 0.0211772, 0.026142 ),\n",
       "                      (0.1299414, 0.0193053, 0.0193566),\n",
       "                      (0.1703367, 0.0261468, 0.022243 ),\n",
       "                      (0.1493846, 0.0175876, 0.0190082),\n",
       "                      (0.1425555, 0.0171781, 0.0211952),\n",
       "                      (0.1473948, 0.0247906, 0.0400588),\n",
       "                      (0.1328864, 0.0175333, 0.0243287),\n",
       "                      (0.1817469, 0.0197732, 0.0226485),\n",
       "                      (0.1426722, 0.0196924, 0.0204914),\n",
       "                      (0.1792709, 0.0245267, 0.0226017),\n",
       "                      (0.1593713, 0.0216322, 0.0200604),\n",
       "                      (0.1511472, 0.0208949, 0.0208721)],\n",
       "                     dtype=[('find_clique_embedding_time', '<f8'), ('fixed_embedding_composite_time', '<f8'), ('sample_time', '<f8')])))                                                                                                                                                                                                                                                                                                                                                                                                                                                                                                                                                                                                                                                                                                                                                                                                                                                                                                                                                                                                                                                                                                                                                                                                                                                                                                                                                                                                                                                                                                                                                                                                                                                                                                                                                                                                                                                                                                                                                                                                                                                                                                                                                                                                                                                                                                                                                                                                                                                                                                                                                                                                                                                                      ,\n",
       "           (list([[22, 27, 29, 34, 62, 77, 84], [18, 25, 37, 38, 86], [1, 4, 5, 36, 42, 45, 69, 71, 73, 78, 83, 88, 93], [6, 21, 28, 30, 31, 46, 60, 63, 94], [0, 13, 20, 39, 75, 92, 95], [10, 40, 41, 43, 47, 52, 54, 56, 87, 96], [14, 33, 57, 76, 79, 89, 90, 91, 99], [81], [16, 23, 32, 35, 50, 58, 80, 85], [11, 12, 24, 44, 48, 49, 51, 53, 55, 65, 66, 70, 72, 82, 97, 98], [2, 3, 7, 8, 9, 15, 17, 19, 26, 59, 61, 64, 67, 68, 74]]), 0.78583818, 108.15837193, list([[[0, 1, 2, 3, 4, 5, 6, 7, 8, 9, 10, 11, 12, 13, 14, 15, 16, 17, 18, 19, 20, 21, 22, 23, 24, 25, 26, 27, 28, 29, 30, 31, 32, 33, 34, 35, 36, 37, 38, 39, 40, 41, 42, 43, 44, 45, 46, 47, 48, 49, 50, 51, 52, 53, 54, 55, 56, 57, 58, 59, 60, 61, 62, 63, 64, 65, 66, 67, 68, 69, 70, 71, 72, 73, 74, 75, 76, 77, 78, 79, 80, 81, 82, 83, 84, 85, 86, 87, 88, 89, 90, 91, 92, 93, 94, 95, 96, 97, 98, 99]], [[0, 1, 4, 5, 6, 10, 13, 18, 20, 21, 22, 25, 27, 28, 29, 30, 31, 34, 36, 37, 38, 39, 40, 41, 42, 43, 45, 46, 47, 52, 54, 56, 60, 62, 63, 69, 71, 73, 75, 77, 78, 83, 84, 86, 87, 88, 92, 93, 94, 95, 96], [2, 3, 7, 8, 9, 11, 12, 14, 15, 16, 17, 19, 23, 24, 26, 32, 33, 35, 44, 48, 49, 50, 51, 53, 55, 57, 58, 59, 61, 64, 65, 66, 67, 68, 70, 72, 74, 76, 79, 80, 81, 82, 85, 89, 90, 91, 97, 98, 99]], [[1, 4, 5, 18, 22, 25, 27, 29, 34, 36, 37, 38, 42, 45, 62, 69, 71, 73, 77, 78, 83, 84, 86, 88, 93], [0, 6, 10, 13, 20, 21, 28, 30, 31, 39, 40, 41, 43, 46, 47, 52, 54, 56, 60, 63, 75, 87, 92, 94, 95, 96], [14, 16, 23, 32, 33, 35, 50, 57, 58, 76, 79, 80, 81, 85, 89, 90, 91, 99], [2, 3, 7, 8, 9, 11, 12, 15, 17, 19, 24, 26, 44, 48, 49, 51, 53, 55, 59, 61, 64, 65, 66, 67, 68, 70, 72, 74, 82, 97, 98]], [[22, 27, 29, 34, 62, 77, 84], [1, 4, 5, 18, 25, 36, 37, 38, 42, 45, 69, 71, 73, 78, 83, 86, 88, 93], [6, 21, 28, 30, 31, 46, 60, 63, 94], [0, 10, 13, 20, 39, 40, 41, 43, 47, 52, 54, 56, 75, 87, 92, 95, 96], [14, 33, 57, 76, 79, 89, 90, 91, 99], [16, 23, 32, 35, 50, 58, 80, 81, 85], [11, 12, 24, 44, 48, 49, 51, 53, 55, 65, 66, 70, 72, 82, 97, 98], [2, 3, 7, 8, 9, 15, 17, 19, 26, 59, 61, 64, 67, 68, 74]], [[22, 27, 29, 34, 62, 77, 84], [18, 25, 37, 38, 86], [1, 4, 5, 36, 42, 45, 69, 71, 73, 78, 83, 88, 93], [6, 21, 28, 30, 31, 46, 60, 63, 94], [0, 13, 20, 39, 75, 92, 95], [10, 40, 41, 43, 47, 52, 54, 56, 87, 96], [14, 33, 57, 76, 79, 89, 90, 91, 99], [81], [16, 23, 32, 35, 50, 58, 80, 85], [11, 12, 24, 44, 48, 49, 51, 53, 55, 65, 66, 70, 72, 82, 97, 98], [2, 3, 7, 8, 9, 15, 17, 19, 26, 59, 61, 64, 67, 68, 74]]]), list([0.0, 0.4688807264564841, 0.6897765534129171, 0.7769615345372922, 0.7858381797775738]), HierarchicalRunMetadata(dwave_sampleset_metadata=rec.array([(24068., 20., 200.1 , 39837.56, 1998.44, 15769.56, 20.58, 44., 44.),\n",
       "                      (13852., 20.,  97.94, 29613.56, 1530.44, 15761.56, 20.58,  1.,  1.),\n",
       "                      (20434., 20., 163.76, 36196.36, 1660.64, 15762.36, 20.58, 19., 19.),\n",
       "                      (12500., 20.,  84.42, 28263.96, 1022.04, 15763.96, 20.58,  1.,  1.),\n",
       "                      (19816., 20., 157.58, 35579.16, 1342.84, 15763.16, 20.58,  1.,  1.),\n",
       "                      (12368., 20.,  83.1 , 28131.56, 1573.44, 15763.56, 20.58,  1.,  1.),\n",
       "                      (17362., 20., 133.04, 33125.16, 1001.84, 15763.16, 20.58,  1.,  1.),\n",
       "                      (20638., 20., 165.8 , 36400.36, 1811.64, 15762.36, 20.58,  1.,  1.),\n",
       "                      (12660., 20.,  86.02, 28423.56, 1057.44, 15763.56, 20.58,  1.,  1.),\n",
       "                      (19906., 20., 158.48, 35669.16, 1059.84, 15763.16, 20.58,  1.,  1.),\n",
       "                      (12456., 20.,  83.98, 28219.96, 1049.04, 15763.96, 20.58,  1.,  1.),\n",
       "                      (12660., 20.,  86.02, 28423.96, 1288.04, 15763.96, 20.58,  1.,  1.),\n",
       "                      (13760., 20.,  97.02, 29523.56, 1462.44, 15763.56, 20.58,  6.,  6.),\n",
       "                      (19906., 20., 158.48, 35669.16, 1028.84, 15763.16, 20.58, 19., 19.),\n",
       "                      (12568., 20.,  85.1 , 28331.96,  778.04, 15763.96, 20.58,  1.,  1.),\n",
       "                      (12568., 20.,  85.1 , 28331.56, 1416.44, 15763.56, 20.58, 38., 38.),\n",
       "                      (12544., 20.,  84.86, 28307.96,  959.04, 15763.96, 20.58,  1.,  1.),\n",
       "                      (20470., 20., 164.12, 36231.96, 1369.04, 15761.96, 20.58,  1.,  1.),\n",
       "                      (19906., 20., 158.48, 35669.16, 1968.84, 15763.16, 20.58,  1.,  1.),\n",
       "                      (17362., 20., 133.04, 33125.16, 1090.84, 15763.16, 20.58,  1.,  1.)],\n",
       "                     dtype=[('qpu_sampling_time', '<f8'), ('qpu_anneal_time_per_sample', '<f8'), ('qpu_readout_time_per_sample', '<f8'), ('qpu_access_time', '<f8'), ('qpu_access_overhead_time', '<f8'), ('qpu_programming_time', '<f8'), ('qpu_delay_time_per_sample', '<f8'), ('post_processing_overhead_time', '<f8'), ('total_post_processing_time', '<f8')]), time_measurements=rec.array([(0.1740304, 0.0390472, 0.0978881),\n",
       "                      (0.3235847, 0.0506196, 0.0602788),\n",
       "                      (0.1790596, 0.0166886, 0.0233871),\n",
       "                      (0.1549568, 0.020231 , 0.0171003),\n",
       "                      (0.160855 , 0.0195396, 0.0224195),\n",
       "                      (0.1483294, 0.0170182, 0.0206912),\n",
       "                      (0.1806905, 0.0170048, 0.0206289),\n",
       "                      (0.2170164, 0.0261192, 0.0277406),\n",
       "                      (0.1922998, 0.0251725, 0.0275658),\n",
       "                      (0.155636 , 0.0284778, 0.0250499),\n",
       "                      (0.1589413, 0.0205823, 0.0192709),\n",
       "                      (0.1496187, 0.0201822, 0.0205836),\n",
       "                      (0.1648308, 0.0251618, 0.0398081),\n",
       "                      (0.1460958, 0.0204488, 0.0222034),\n",
       "                      (0.1600899, 0.020275 , 0.0203833),\n",
       "                      (0.1641043, 0.025101 , 0.0232315),\n",
       "                      (0.1719071, 0.0209024, 0.0216771),\n",
       "                      (0.1555244, 0.0225527, 0.0282344),\n",
       "                      (0.154758 , 0.0219885, 0.0213937),\n",
       "                      (0.172866 , 0.0249804, 0.0285901)],\n",
       "                     dtype=[('find_clique_embedding_time', '<f8'), ('fixed_embedding_composite_time', '<f8'), ('sample_time', '<f8')])))                                                                                                                                                                                                                                                                                                                                                                                                                                                                                                                                                                                                                                                                                                                                                                                                                                                                                                                                                                                                                                                                                                                                                                                                                                                                                                                                                                                                                                                                                                                                                                                                                                                                                                                                                                                                                                                                                                                                                                                                                                                                                                                                                                                                                                                                                                                                                                                                                                                                                                                                                                                                                                                                   ,\n",
       "           (list([[60], [10, 40, 41, 43, 47, 52, 54, 56, 87, 96], [11, 12, 24, 44, 48, 49, 51, 53, 55, 65, 66, 70, 72, 82, 97, 98], [0, 13, 20, 39, 75, 92, 95], [16, 23, 32, 35, 50, 58, 80, 85], [14, 33, 57, 76, 79, 89, 90, 91, 99], [22, 27, 29, 34, 62, 77, 84], [18, 25, 37, 38, 86], [1, 4, 5, 36, 42, 45, 69, 71, 73, 78, 81, 83, 88, 93], [6, 21, 28, 30, 31, 46, 63, 94], [2, 3, 7, 8, 9, 15, 17, 19, 26, 59, 61, 64, 67, 68, 74]]), 0.78512397, 115.43105316, list([[[0, 1, 2, 3, 4, 5, 6, 7, 8, 9, 10, 11, 12, 13, 14, 15, 16, 17, 18, 19, 20, 21, 22, 23, 24, 25, 26, 27, 28, 29, 30, 31, 32, 33, 34, 35, 36, 37, 38, 39, 40, 41, 42, 43, 44, 45, 46, 47, 48, 49, 50, 51, 52, 53, 54, 55, 56, 57, 58, 59, 60, 61, 62, 63, 64, 65, 66, 67, 68, 69, 70, 71, 72, 73, 74, 75, 76, 77, 78, 79, 80, 81, 82, 83, 84, 85, 86, 87, 88, 89, 90, 91, 92, 93, 94, 95, 96, 97, 98, 99]], [[0, 10, 11, 12, 13, 14, 16, 20, 23, 24, 32, 33, 35, 39, 40, 41, 43, 44, 47, 48, 49, 50, 51, 52, 53, 54, 55, 56, 57, 58, 60, 65, 66, 70, 72, 75, 76, 79, 80, 82, 85, 87, 89, 90, 91, 92, 95, 96, 97, 98, 99], [1, 2, 3, 4, 5, 6, 7, 8, 9, 15, 17, 18, 19, 21, 22, 25, 26, 27, 28, 29, 30, 31, 34, 36, 37, 38, 42, 45, 46, 59, 61, 62, 63, 64, 67, 68, 69, 71, 73, 74, 77, 78, 81, 83, 84, 86, 88, 93, 94]], [[10, 11, 12, 24, 40, 41, 43, 44, 47, 48, 49, 51, 52, 53, 54, 55, 56, 60, 65, 66, 70, 72, 82, 87, 96, 97, 98], [0, 13, 14, 16, 20, 23, 32, 33, 35, 39, 50, 57, 58, 75, 76, 79, 80, 85, 89, 90, 91, 92, 95, 99], [1, 4, 5, 18, 22, 25, 27, 29, 34, 36, 37, 38, 42, 45, 62, 69, 71, 73, 77, 78, 81, 83, 84, 86, 88, 93], [2, 3, 6, 7, 8, 9, 15, 17, 19, 21, 26, 28, 30, 31, 46, 59, 61, 63, 64, 67, 68, 74, 94]], [[10, 40, 41, 43, 47, 52, 54, 56, 60, 87, 96], [11, 12, 24, 44, 48, 49, 51, 53, 55, 65, 66, 70, 72, 82, 97, 98], [0, 13, 20, 39, 75, 92, 95], [14, 16, 23, 32, 33, 35, 50, 57, 58, 76, 79, 80, 85, 89, 90, 91, 99], [22, 27, 29, 34, 62, 77, 84], [1, 4, 5, 18, 25, 36, 37, 38, 42, 45, 69, 71, 73, 78, 81, 83, 86, 88, 93], [6, 21, 28, 30, 31, 46, 63, 94], [2, 3, 7, 8, 9, 15, 17, 19, 26, 59, 61, 64, 67, 68, 74]], [[60], [10, 40, 41, 43, 47, 52, 54, 56, 87, 96], [11, 12, 24, 44, 48, 49, 51, 53, 55, 65, 66, 70, 72, 82, 97, 98], [0, 13, 20, 39, 75, 92, 95], [16, 23, 32, 35, 50, 58, 80, 85], [14, 33, 57, 76, 79, 89, 90, 91, 99], [22, 27, 29, 34, 62, 77, 84], [18, 25, 37, 38, 86], [1, 4, 5, 36, 42, 45, 69, 71, 73, 78, 81, 83, 88, 93], [6, 21, 28, 30, 31, 46, 63, 94], [2, 3, 7, 8, 9, 15, 17, 19, 26, 59, 61, 64, 67, 68, 74]]]), list([0.0, 0.4696969696969697, 0.6886542189572493, 0.7763493521069279, 0.7851239669421487]), HierarchicalRunMetadata(dwave_sampleset_metadata=rec.array([(24068., 20., 200.1 , 39837.56, 1546.44, 15769.56, 20.58, 56., 56.),\n",
       "                      (13852., 20.,  97.94, 29614.36, 1880.64, 15762.36, 20.58, 15., 15.),\n",
       "                      (20638., 20., 165.8 , 36400.76, 1010.24, 15762.76, 20.58,  1.,  1.),\n",
       "                      (12632., 20.,  85.74, 28395.16, 1294.84, 15763.16, 20.58,  1.,  1.),\n",
       "                      (12660., 20.,  86.02, 28423.96, 1267.04, 15763.96, 20.58,  1.,  1.),\n",
       "                      (19906., 20., 158.48, 35669.16,  901.84, 15763.16, 20.58,  1.,  1.),\n",
       "                      (20524., 20., 164.66, 36287.16, 1237.84, 15763.16, 20.58,  1.,  1.),\n",
       "                      (12456., 20.,  83.98, 28219.96, 1239.04, 15763.96, 20.58,  1.,  1.),\n",
       "                      (19906., 20., 158.48, 35669.56, 1523.44, 15763.56, 20.58,  1.,  1.),\n",
       "                      (12500., 20.,  84.42, 28263.96, 1138.04, 15763.96, 20.58, 16., 16.),\n",
       "                      (12568., 20.,  85.1 , 28331.96, 1291.04, 15763.96, 20.58,  1.,  1.),\n",
       "                      (13852., 20.,  97.94, 29616.76, 2699.24, 15764.76, 20.58, 44., 44.),\n",
       "                      (20548., 20., 164.9 , 36310.76,  962.24, 15762.76, 20.58, 16., 16.),\n",
       "                      (12500., 20.,  84.42, 28263.96,  912.04, 15763.96, 20.58,  1.,  1.),\n",
       "                      (19906., 20., 158.48, 35669.16, 1339.84, 15763.16, 20.58, 31., 31.),\n",
       "                      (12368., 20.,  83.1 , 28131.56, 1260.44, 15763.56, 20.58,  1.,  1.),\n",
       "                      (17476., 20., 134.18, 33239.16, 1276.84, 15763.16, 20.58,  1.,  1.),\n",
       "                      (20524., 20., 164.66, 36287.16, 1389.84, 15763.16, 20.58,  1.,  1.),\n",
       "                      (12500., 20.,  84.42, 28263.96, 1685.04, 15763.96, 20.58, 47., 47.),\n",
       "                      (17362., 20., 133.04, 33125.16, 1184.84, 15763.16, 20.58, 25., 25.)],\n",
       "                     dtype=[('qpu_sampling_time', '<f8'), ('qpu_anneal_time_per_sample', '<f8'), ('qpu_readout_time_per_sample', '<f8'), ('qpu_access_time', '<f8'), ('qpu_access_overhead_time', '<f8'), ('qpu_programming_time', '<f8'), ('qpu_delay_time_per_sample', '<f8'), ('post_processing_overhead_time', '<f8'), ('total_post_processing_time', '<f8')]), time_measurements=rec.array([(0.1765799, 0.0423125, 0.1167411),\n",
       "                      (0.1729355, 0.0282932, 0.0432644),\n",
       "                      (0.1663073, 0.0253535, 0.0260087),\n",
       "                      (0.2030272, 0.0217987, 0.020872 ),\n",
       "                      (0.1771527, 0.0210067, 0.020152 ),\n",
       "                      (0.173855 , 0.0214824, 0.0208396),\n",
       "                      (0.1709432, 0.0287389, 0.0261115),\n",
       "                      (0.1896516, 0.0179264, 0.0186203),\n",
       "                      (0.1712722, 0.018588 , 0.0193395),\n",
       "                      (0.2069974, 0.0257195, 0.0201076),\n",
       "                      (0.1834191, 0.0224622, 0.0203484),\n",
       "                      (0.1692805, 0.0261449, 0.0409165),\n",
       "                      (0.1793986, 0.0229349, 0.0247332),\n",
       "                      (0.1772922, 0.0250906, 0.019119 ),\n",
       "                      (0.1838702, 0.0172939, 0.0220806),\n",
       "                      (0.1865717, 0.0223807, 0.0195054),\n",
       "                      (0.1810213, 0.0186168, 0.0208622),\n",
       "                      (0.2350586, 0.0199112, 0.027167 ),\n",
       "                      (0.2162164, 0.0842705, 0.0314081),\n",
       "                      (0.2982204, 0.0259481, 0.0214411)],\n",
       "                     dtype=[('find_clique_embedding_time', '<f8'), ('fixed_embedding_composite_time', '<f8'), ('sample_time', '<f8')])))                                                                                                                                                                                                                                                                                                                                                                                                                                                                                                                                                                                                                                                                                                                                                                                                                                                                                                                                                                                                                                                                                                                                                                                                                                                                                                                                                                                                                                                                                                                                                                                                                                                                                                                                                                                                                                                                                                                                                                                                                                                                                                                                                                                                                                                                                                                                                                                                                                                                                                                                                                                                                                                                   ],\n",
       "          dtype=[('communities', 'O'), ('modularity', '<f8'), ('time', '<f8'), ('division_tree', 'O'), ('division_modularities', 'O'), ('samplesets_data', 'O')])"
      ]
     },
     "execution_count": 12,
     "metadata": {},
     "output_type": "execute_result"
    }
   ],
   "source": [
    "res"
   ]
  },
  {
   "cell_type": "code",
   "execution_count": 10,
   "id": "d5cddf69",
   "metadata": {},
   "outputs": [],
   "source": [
    "communities, modularities, times, division_trees, division_modularities, sampleset_datas = res.communities, res.modularity, res.time, res.division_tree, res.division_modularities, res.samplesets_data"
   ]
  },
  {
   "cell_type": "code",
   "execution_count": 11,
   "id": "bae5142b",
   "metadata": {},
   "outputs": [
    {
     "data": {
      "text/plain": [
       "628284.4"
      ]
     },
     "execution_count": 11,
     "metadata": {},
     "output_type": "execute_result"
    }
   ],
   "source": [
    "sampleset_datas[0].dwave_sampleset_metadata.qpu_access_time.sum()"
   ]
  },
  {
   "cell_type": "code",
   "execution_count": 17,
   "id": "15504907",
   "metadata": {},
   "outputs": [
    {
     "data": {
      "text/plain": [
       "array([HierarchicalRunMetadata(dwave_sampleset_metadata=rec.array([(24068., 20., 200.1 , 39836.36, 2299.64, 15768.36, 20.58, 218., 218.),\n",
       "                  (13604., 20.,  95.46, 29366.76, 1456.24, 15762.76, 20.58, 138., 138.),\n",
       "                  (20296., 20., 162.38, 36059.16, 1920.84, 15763.16, 20.58,  24.,  24.),\n",
       "                  (12660., 20.,  86.02, 28423.56, 1379.44, 15763.56, 20.58,   1.,   1.),\n",
       "                  (10628., 20.,  65.7 , 26391.96, 1386.04, 15763.96, 20.58,   1.,   1.),\n",
       "                  (12412., 20.,  83.54, 28175.16, 1314.84, 15763.16, 20.58,  28.,  28.),\n",
       "                  (14990., 20., 109.32, 30753.56, 1036.44, 15763.56, 20.58,  61.,  61.),\n",
       "                  (12412., 20.,  83.54, 28175.56, 1349.44, 15763.56, 20.58,   1.,   1.),\n",
       "                  (12412., 20.,  83.54, 28175.96, 1526.04, 15763.96, 20.58,   1.,   1.),\n",
       "                  (20884., 20., 168.26, 36645.56, 1300.44, 15761.56, 20.58,   1.,   1.),\n",
       "                  (20296., 20., 162.38, 36057.96, 1590.04, 15761.96, 20.58,  50.,  50.),\n",
       "                  (19996., 20., 159.38, 35759.56, 1329.44, 15763.56, 20.58,  40.,  40.),\n",
       "                  ( 8254., 20.,  41.96, 24017.16, 1603.84, 15763.16, 20.58,   1.,   1.),\n",
       "                  (12456., 20.,  83.98, 28219.56, 1363.44, 15763.56, 20.58,   1.,   1.),\n",
       "                  (10628., 20.,  65.7 , 26391.16, 1546.84, 15763.16, 20.58,   1.,   1.),\n",
       "                  ( 8254., 20.,  41.96, 24017.16, 1171.84, 15763.16, 20.58,  22.,  22.),\n",
       "                  (13760., 20.,  97.02, 29523.56, 1577.44, 15763.56, 20.58,  55.,  55.),\n",
       "                  (20296., 20., 162.38, 36057.96, 1543.04, 15761.96, 20.58,  16.,  16.),\n",
       "                  (14990., 20., 109.32, 30753.56, 1365.44, 15763.56, 20.58,   1.,   1.),\n",
       "                  (14990., 20., 109.32, 30753.96,  971.04, 15763.96, 20.58,   1.,   1.),\n",
       "                  (14990., 20., 109.32, 30753.16, 1548.84, 15763.16, 20.58,   1.,   1.),\n",
       "                  (20818., 20., 167.6 , 36580.36, 1399.64, 15762.36, 20.58,   1.,   1.),\n",
       "                  (12660., 20.,  86.02, 28423.96, 1341.04, 15763.96, 20.58,   1.,   1.),\n",
       "                  (12412., 20.,  83.54, 28175.56, 1149.44, 15763.56, 20.58,   1.,   1.),\n",
       "                  (12412., 20.,  83.54, 28175.56,  984.44, 15763.56, 20.58,   1.,   1.),\n",
       "                  (19996., 20., 159.38, 35759.56, 1341.44, 15763.56, 20.58,  13.,  13.),\n",
       "                  (10628., 20.,  65.7 , 26391.96, 2109.04, 15763.96, 20.58,   1.,   1.),\n",
       "                  (14990., 20., 109.32, 30753.56, 1197.44, 15763.56, 20.58,  32.,  32.)],\n",
       "                 dtype=[('qpu_sampling_time', '<f8'), ('qpu_anneal_time_per_sample', '<f8'), ('qpu_readout_time_per_sample', '<f8'), ('qpu_access_time', '<f8'), ('qpu_access_overhead_time', '<f8'), ('qpu_programming_time', '<f8'), ('qpu_delay_time_per_sample', '<f8'), ('post_processing_overhead_time', '<f8'), ('total_post_processing_time', '<f8')]), time_measurements=rec.array([(0.116625 , 0.1309575, 0.1163652),\n",
       "                  (0.1195535, 0.0427427, 0.0538278),\n",
       "                  (0.1237294, 0.0192214, 0.0243793),\n",
       "                  (0.1138614, 0.0176822, 0.0210348),\n",
       "                  (0.1629234, 0.0190547, 0.0209624),\n",
       "                  (0.1358429, 0.0206127, 0.0208715),\n",
       "                  (0.106038 , 0.0145612, 0.0201487),\n",
       "                  (0.1201539, 0.0154395, 0.018069 ),\n",
       "                  (0.20299  , 0.1102952, 0.0371748),\n",
       "                  (0.1668135, 0.0143274, 0.022554 ),\n",
       "                  (0.1448721, 0.0340372, 0.0273383),\n",
       "                  (0.135452 , 0.0171182, 0.0228807),\n",
       "                  (0.1496891, 0.025491 , 0.021307 ),\n",
       "                  (0.1970153, 0.0254419, 0.0215206),\n",
       "                  (0.1285123, 0.0205211, 0.0207152),\n",
       "                  (0.3896131, 0.0279049, 0.0209075),\n",
       "                  (0.1223558, 0.0209054, 0.0419193),\n",
       "                  (0.2259373, 0.0308687, 0.027487 ),\n",
       "                  (0.1295199, 0.0179177, 0.0208918),\n",
       "                  (0.1247024, 0.014837 , 0.0194941),\n",
       "                  (0.2155703, 0.0402832, 0.0243009),\n",
       "                  (0.1234593, 0.0283229, 0.0303056),\n",
       "                  (0.1496547, 0.0189292, 0.0202036),\n",
       "                  (0.1907196, 0.0324825, 0.0257102),\n",
       "                  (0.1451923, 0.0189002, 0.0224661),\n",
       "                  (0.1247856, 0.0142073, 0.0197718),\n",
       "                  (0.1325642, 0.018359 , 0.0209381),\n",
       "                  (0.1648615, 0.0275096, 0.0309677)],\n",
       "                 dtype=[('find_clique_embedding_time', '<f8'), ('fixed_embedding_composite_time', '<f8'), ('sample_time', '<f8')]))                                                                                                                                                                                                                                                                                            ,\n",
       "       HierarchicalRunMetadata(dwave_sampleset_metadata=rec.array([(24068., 20., 200.1 , 39836.36, 1568.64, 15768.36, 20.58,  45.,  45.),\n",
       "                  (13716., 20.,  96.58, 29479.96,  877.04, 15763.96, 20.58,  61.,  61.),\n",
       "                  (20296., 20., 162.38, 36057.56, 1101.44, 15761.56, 20.58,   1.,   1.),\n",
       "                  (14990., 20., 109.32, 30753.56,  979.44, 15763.56, 20.58,  55.,  55.),\n",
       "                  (14990., 20., 109.32, 30753.96, 1093.04, 15763.96, 20.58,   1.,   1.),\n",
       "                  (14990., 20., 109.32, 30753.16,  930.84, 15763.16, 20.58,  13.,  13.),\n",
       "                  (20884., 20., 168.26, 36646.36, 2194.64, 15762.36, 20.58,   1.,   1.),\n",
       "                  (12660., 20.,  86.02, 28423.96, 1137.04, 15763.96, 20.58,  11.,  11.),\n",
       "                  (12412., 20.,  83.54, 28175.56, 1044.44, 15763.56, 20.58,   1.,   1.),\n",
       "                  (12412., 20.,  83.54, 28175.56,  988.44, 15763.56, 20.58,   1.,   1.),\n",
       "                  (19996., 20., 159.38, 35759.56,  957.44, 15763.56, 20.58,   1.,   1.),\n",
       "                  (10628., 20.,  65.7 , 26391.96, 1846.04, 15763.96, 20.58,   1.,   1.),\n",
       "                  (14990., 20., 109.32, 30753.56, 1292.44, 15763.56, 20.58,   1.,   1.),\n",
       "                  (13604., 20.,  95.46, 29367.16, 1287.84, 15763.16, 20.58,   1.,   1.),\n",
       "                  (19882., 20., 158.24, 35645.16, 1270.84, 15763.16, 20.58,   1.,   1.),\n",
       "                  (12660., 20.,  86.02, 28423.56,  972.44, 15763.56, 20.58,  15.,  15.),\n",
       "                  (10628., 20.,  65.7 , 26391.96, 1306.04, 15763.96, 20.58,   1.,   1.),\n",
       "                  (12412., 20.,  83.54, 28175.16, 1233.84, 15763.16, 20.58,   1.,   1.),\n",
       "                  (14990., 20., 109.32, 30753.56, 1444.44, 15763.56, 20.58,  25.,  25.),\n",
       "                  (12412., 20.,  83.54, 28175.56, 1011.44, 15763.56, 20.58,   1.,   1.),\n",
       "                  (12412., 20.,  83.54, 28175.96, 1079.04, 15763.96, 20.58,  21.,  21.),\n",
       "                  (20818., 20., 167.6 , 36579.16, 1089.84, 15761.16, 20.58,   1.,   1.),\n",
       "                  (20296., 20., 162.38, 36057.96, 1489.04, 15761.96, 20.58, 270., 270.),\n",
       "                  (19996., 20., 159.38, 35759.56, 1038.44, 15763.56, 20.58,   1.,   1.),\n",
       "                  ( 8254., 20.,  41.96, 24017.56, 1695.44, 15763.56, 20.58,   1.,   1.),\n",
       "                  (17476., 20., 134.18, 33239.16, 1379.84, 15763.16, 20.58,  25.,  25.),\n",
       "                  ( 8254., 20.,  41.96, 24017.16, 1135.84, 15763.16, 20.58,   1.,   1.),\n",
       "                  (12412., 20.,  83.54, 28175.16, 1053.84, 15763.16, 20.58,   1.,   1.),\n",
       "                  ( 8254., 20.,  41.96, 24017.16,  900.84, 15763.16, 20.58,   1.,   1.),\n",
       "                  ( 8254., 20.,  41.96, 24017.16, 1186.84, 15763.16, 20.58,   1.,   1.)],\n",
       "                 dtype=[('qpu_sampling_time', '<f8'), ('qpu_anneal_time_per_sample', '<f8'), ('qpu_readout_time_per_sample', '<f8'), ('qpu_access_time', '<f8'), ('qpu_access_overhead_time', '<f8'), ('qpu_programming_time', '<f8'), ('qpu_delay_time_per_sample', '<f8'), ('post_processing_overhead_time', '<f8'), ('total_post_processing_time', '<f8')]), time_measurements=rec.array([(0.1538624, 0.0328092, 0.0917448),\n",
       "                  (0.1321321, 0.0172451, 0.0352328),\n",
       "                  (0.1367155, 0.0172924, 0.0253456),\n",
       "                  (0.13997  , 0.0176231, 0.021536 ),\n",
       "                  (0.15744  , 0.0313716, 0.0247684),\n",
       "                  (0.1263717, 0.0168819, 0.0201961),\n",
       "                  (0.1339812, 0.016936 , 0.0226135),\n",
       "                  (0.1213695, 0.0165921, 0.0188176),\n",
       "                  (0.1387245, 0.0150046, 0.0197447),\n",
       "                  (0.1283885, 0.0169286, 0.0179251),\n",
       "                  (0.1257743, 0.015514 , 0.0192081),\n",
       "                  (0.1967174, 0.0144465, 0.0186626),\n",
       "                  (0.1934124, 0.0198925, 0.0197119),\n",
       "                  (0.1157226, 0.0232673, 0.0329362),\n",
       "                  (0.1332462, 0.0192466, 0.0223386),\n",
       "                  (0.1547012, 0.0336588, 0.0288258),\n",
       "                  (0.1210584, 0.0165936, 0.0178434),\n",
       "                  (0.126895 , 0.016759 , 0.0191852),\n",
       "                  (0.1552271, 0.0198442, 0.021198 ),\n",
       "                  (0.1255033, 0.0206717, 0.0190763),\n",
       "                  (0.194578 , 0.0242327, 0.0206049),\n",
       "                  (0.1237897, 0.0209414, 0.0263907),\n",
       "                  (0.1500792, 0.0207704, 0.0231801),\n",
       "                  (0.1315513, 0.0192735, 0.0220583),\n",
       "                  (0.1477513, 0.0193782, 0.0174351),\n",
       "                  (0.1563537, 0.0163439, 0.0195769),\n",
       "                  (0.2010522, 0.0161457, 0.0168927),\n",
       "                  (0.1621409, 0.0160202, 0.0188353),\n",
       "                  (0.1352664, 0.0199132, 0.0191695),\n",
       "                  (0.1550372, 0.0166275, 0.0175537)],\n",
       "                 dtype=[('find_clique_embedding_time', '<f8'), ('fixed_embedding_composite_time', '<f8'), ('sample_time', '<f8')]))                                                                                                                                                                                                                                                                                            ,\n",
       "       HierarchicalRunMetadata(dwave_sampleset_metadata=rec.array([(24068., 20., 200.1 , 39836.36, 1614.64, 15768.36, 20.58,  44.,  44.),\n",
       "                  (13628., 20.,  95.7 , 29390.76, 1360.24, 15762.76, 20.58,  79.,  79.),\n",
       "                  (20296., 20., 162.38, 36058.36, 1075.64, 15762.36, 20.58,   1.,   1.),\n",
       "                  (14990., 20., 109.32, 30753.56, 1464.44, 15763.56, 20.58,  16.,  16.),\n",
       "                  (12412., 20.,  83.54, 28175.56, 1172.44, 15763.56, 20.58,   1.,   1.),\n",
       "                  (12412., 20.,  83.54, 28175.96, 1451.04, 15763.96, 20.58, 116., 116.),\n",
       "                  (14990., 20., 109.32, 30753.16, 1622.84, 15763.16, 20.58,   1.,   1.),\n",
       "                  (20884., 20., 168.26, 36646.36,  688.64, 15762.36, 20.58,  38.,  38.),\n",
       "                  (12660., 20.,  86.02, 28423.96,  801.04, 15763.96, 20.58,   1.,   1.),\n",
       "                  (12412., 20.,  83.54, 28175.56, 1124.44, 15763.56, 20.58,   1.,   1.),\n",
       "                  (12412., 20.,  83.54, 28175.56,  845.44, 15763.56, 20.58,   1.,   1.),\n",
       "                  (19996., 20., 159.38, 35759.56,  901.44, 15763.56, 20.58,   1.,   1.),\n",
       "                  (10628., 20.,  65.7 , 26391.96,  784.04, 15763.96, 20.58,   1.,   1.),\n",
       "                  (14990., 20., 109.32, 30753.56, 1120.44, 15763.56, 20.58,  44.,  44.),\n",
       "                  (13628., 20.,  95.7 , 29391.16,  903.84, 15763.16, 20.58,   1.,   1.),\n",
       "                  (20884., 20., 168.26, 36645.16,  816.84, 15761.16, 20.58,   1.,   1.),\n",
       "                  (20296., 20., 162.38, 36057.96, 1005.04, 15761.96, 20.58,   1.,   1.),\n",
       "                  (19996., 20., 159.38, 35759.56, 1421.44, 15763.56, 20.58,   7.,   7.),\n",
       "                  ( 8254., 20.,  41.96, 24017.56, 1465.44, 15763.56, 20.58,   1.,   1.),\n",
       "                  (17476., 20., 134.18, 33239.16, 1049.84, 15763.16, 20.58,   1.,   1.),\n",
       "                  ( 8254., 20.,  41.96, 24017.16, 1684.84, 15763.16, 20.58,   1.,   1.),\n",
       "                  (12456., 20.,  83.98, 28220.36, 1191.64, 15764.36, 20.58,   1.,   1.),\n",
       "                  (10628., 20.,  65.7 , 26391.16,  967.84, 15763.16, 20.58,  69.,  69.),\n",
       "                  ( 8254., 20.,  41.96, 24017.16, 2016.84, 15763.16, 20.58,   1.,   1.),\n",
       "                  (20296., 20., 162.38, 36058.36, 1488.64, 15762.36, 20.58,   1.,   1.),\n",
       "                  (12660., 20.,  86.02, 28423.56, 1263.44, 15763.56, 20.58,  38.,  38.),\n",
       "                  (10628., 20.,  65.7 , 26391.96,  913.04, 15763.96, 20.58,   1.,   1.),\n",
       "                  (12412., 20.,  83.54, 28175.16, 1434.84, 15763.16, 20.58,   1.,   1.),\n",
       "                  (14990., 20., 109.32, 30753.96, 1191.04, 15763.96, 20.58,   1.,   1.)],\n",
       "                 dtype=[('qpu_sampling_time', '<f8'), ('qpu_anneal_time_per_sample', '<f8'), ('qpu_readout_time_per_sample', '<f8'), ('qpu_access_time', '<f8'), ('qpu_access_overhead_time', '<f8'), ('qpu_programming_time', '<f8'), ('qpu_delay_time_per_sample', '<f8'), ('post_processing_overhead_time', '<f8'), ('total_post_processing_time', '<f8')]), time_measurements=rec.array([(0.1575301, 0.0407801, 0.1237156),\n",
       "                  (0.1639609, 0.0204939, 0.0366238),\n",
       "                  (0.127385 , 0.0213874, 0.0225219),\n",
       "                  (0.1623828, 0.0202956, 0.019839 ),\n",
       "                  (0.160483 , 0.0179963, 0.0175234),\n",
       "                  (0.1558242, 0.0174332, 0.0182689),\n",
       "                  (0.1536261, 0.0171946, 0.0197883),\n",
       "                  (0.1331125, 0.0226247, 0.021871 ),\n",
       "                  (0.1604878, 0.0201486, 0.0203103),\n",
       "                  (0.1478605, 0.0200959, 0.0202102),\n",
       "                  (0.2498649, 0.0272534, 0.0200597),\n",
       "                  (0.1783116, 0.0213115, 0.022461 ),\n",
       "                  (0.1444991, 0.0161447, 0.0174431),\n",
       "                  (0.1679102, 0.0209511, 0.0187315),\n",
       "                  (0.1499861, 0.0220318, 0.0505056),\n",
       "                  (0.2176124, 0.031565 , 0.0311334),\n",
       "                  (0.187154 , 0.0171936, 0.0213163),\n",
       "                  (0.2373652, 0.021496 , 0.023114 ),\n",
       "                  (0.1888207, 0.0196593, 0.0206894),\n",
       "                  (0.2179663, 0.0330708, 0.025778 ),\n",
       "                  (0.1785825, 0.0207411, 0.0190728),\n",
       "                  (0.1956429, 0.0205716, 0.0191103),\n",
       "                  (0.1819394, 0.0221806, 0.0186025),\n",
       "                  (0.2632205, 0.0331183, 0.0235466),\n",
       "                  (0.2001491, 0.0277658, 0.0215099),\n",
       "                  (0.2005116, 0.0234478, 0.0236635),\n",
       "                  (0.1938758, 0.0200035, 0.0187329),\n",
       "                  (0.2637116, 0.0285257, 0.0219149),\n",
       "                  (0.2669485, 0.0360454, 0.0223448)],\n",
       "                 dtype=[('find_clique_embedding_time', '<f8'), ('fixed_embedding_composite_time', '<f8'), ('sample_time', '<f8')]))                                                                                                                                                                                                                                                                                            ,\n",
       "       HierarchicalRunMetadata(dwave_sampleset_metadata=rec.array([(24068., 20., 200.1 , 39836.36, 1357.64, 15768.36, 20.58,   8.,   8.),\n",
       "                  (19628., 20., 155.7 , 35393.96, 1533.04, 15765.96, 20.58, 116., 116.),\n",
       "                  (20296., 20., 162.38, 36058.36, 1316.64, 15762.36, 20.58,  29.,  29.),\n",
       "                  (14990., 20., 109.32, 30753.16, 1183.84, 15763.16, 20.58,   1.,   1.),\n",
       "                  (12412., 20.,  83.54, 28175.96, 1605.04, 15763.96, 20.58,   1.,   1.),\n",
       "                  (12412., 20.,  83.54, 28175.16, 1224.84, 15763.16, 20.58,   1.,   1.),\n",
       "                  (14990., 20., 109.32, 30753.96, 1449.04, 15763.96, 20.58,   1.,   1.),\n",
       "                  (20674., 20., 166.16, 36435.96, 1296.04, 15761.96, 20.58,   1.,   1.),\n",
       "                  (14990., 20., 109.32, 30753.16, 1238.84, 15763.16, 20.58,   1.,   1.),\n",
       "                  (12412., 20.,  83.54, 28175.56, 1635.44, 15763.56, 20.58,   1.,   1.),\n",
       "                  (12544., 20.,  84.86, 28307.16,  902.84, 15763.16, 20.58,   1.,   1.),\n",
       "                  (10628., 20.,  65.7 , 26391.96, 1037.04, 15763.96, 20.58,   1.,   1.),\n",
       "                  (10628., 20.,  65.7 , 26391.16, 1131.84, 15763.16, 20.58,  20.,  20.),\n",
       "                  (20020., 20., 159.62, 35783.16,  907.84, 15763.16, 20.58,   1.,   1.),\n",
       "                  ( 8254., 20.,  41.96, 24017.16, 1231.84, 15763.16, 20.58,   1.,   1.),\n",
       "                  (19996., 20., 159.38, 35759.56, 1203.44, 15763.56, 20.58,   1.,   1.),\n",
       "                  (13220., 20.,  91.62, 28982.76, 1715.24, 15762.76, 20.58,  48.,  48.),\n",
       "                  (19996., 20., 159.38, 35759.16,  777.84, 15763.16, 20.58,   1.,   1.),\n",
       "                  (12412., 20.,  83.54, 28175.56, 1028.44, 15763.56, 20.58,   1.,   1.),\n",
       "                  ( 6604., 20.,  25.46, 22367.16, 1415.84, 15763.16, 20.58,  13.,  13.),\n",
       "                  ( 8254., 20.,  41.96, 24017.56, 2892.44, 15763.56, 20.58,   1.,   1.),\n",
       "                  (14990., 20., 109.32, 30753.16, 1148.84, 15763.16, 20.58,  54.,  54.),\n",
       "                  (20884., 20., 168.26, 36646.36, 1124.64, 15762.36, 20.58,   1.,   1.),\n",
       "                  (19996., 20., 159.38, 35759.56, 1228.44, 15763.56, 20.58,   1.,   1.),\n",
       "                  (10628., 20.,  65.7 , 26391.96, 1051.04, 15763.96, 20.58,  66.,  66.),\n",
       "                  (14990., 20., 109.32, 30753.56, 1282.44, 15763.56, 20.58,  15.,  15.),\n",
       "                  (12660., 20.,  86.02, 28423.96, 1143.04, 15763.96, 20.58,   1.,   1.),\n",
       "                  (12412., 20.,  83.54, 28175.56,  755.44, 15763.56, 20.58,  22.,  22.),\n",
       "                  (12412., 20.,  83.54, 28175.56,  612.44, 15763.56, 20.58,   1.,   1.)],\n",
       "                 dtype=[('qpu_sampling_time', '<f8'), ('qpu_anneal_time_per_sample', '<f8'), ('qpu_readout_time_per_sample', '<f8'), ('qpu_access_time', '<f8'), ('qpu_access_overhead_time', '<f8'), ('qpu_programming_time', '<f8'), ('qpu_delay_time_per_sample', '<f8'), ('post_processing_overhead_time', '<f8'), ('total_post_processing_time', '<f8')]), time_measurements=rec.array([(0.3541348, 0.0918176, 0.1221164),\n",
       "                  (0.1944659, 0.0291436, 0.049491 ),\n",
       "                  (0.3607143, 0.0297051, 0.0278792),\n",
       "                  (0.2726747, 0.0308946, 0.0318361),\n",
       "                  (0.2716083, 0.0316833, 0.0229338),\n",
       "                  (0.2599923, 0.0479481, 0.0254666),\n",
       "                  (0.263646 , 0.0208791, 0.0245535),\n",
       "                  (0.2178442, 0.0340412, 0.0413492),\n",
       "                  (0.2408239, 0.0242495, 0.0259121),\n",
       "                  (0.2584135, 0.0296015, 0.0267802),\n",
       "                  (0.5470385, 0.0223699, 0.021122 ),\n",
       "                  (0.218059 , 0.0193575, 0.0214483),\n",
       "                  (0.3503382, 0.0440601, 0.0215876),\n",
       "                  (0.196126 , 0.0292738, 0.0273154),\n",
       "                  (0.2812421, 0.0330655, 0.0358055),\n",
       "                  (0.2644101, 0.02826  , 0.027824 ),\n",
       "                  (0.2821489, 0.0307051, 0.0418645),\n",
       "                  (0.2547915, 0.0340616, 0.0248246),\n",
       "                  (0.293064 , 0.0286682, 0.0204816),\n",
       "                  (0.2219079, 0.0222556, 0.0184939),\n",
       "                  (0.2335182, 0.0226406, 0.021442 ),\n",
       "                  (0.197991 , 0.0245733, 0.0213033),\n",
       "                  (0.2481427, 0.0341967, 0.0306979),\n",
       "                  (0.2036354, 0.0233055, 0.0204997),\n",
       "                  (0.1978379, 0.0252694, 0.0207469),\n",
       "                  (0.2142662, 0.029138 , 0.0222879),\n",
       "                  (0.364494 , 0.0483707, 0.0335672),\n",
       "                  (0.345487 , 0.0313616, 0.0261049),\n",
       "                  (0.2735454, 0.0246211, 0.0200767)],\n",
       "                 dtype=[('find_clique_embedding_time', '<f8'), ('fixed_embedding_composite_time', '<f8'), ('sample_time', '<f8')]))                                                                                                                                                                                                                                                                                            ,\n",
       "       HierarchicalRunMetadata(dwave_sampleset_metadata=rec.array([(24068., 20., 200.1 , 39836.36, 1418.64, 15768.36, 20.58, 14., 14.),\n",
       "                  (13628., 20.,  95.7 , 29390.36, 1039.64, 15762.36, 20.58, 41., 41.),\n",
       "                  (20818., 20., 167.6 , 36580.76, 1203.24, 15762.76, 20.58, 26., 26.),\n",
       "                  (20296., 20., 162.38, 36057.96,  899.04, 15761.96, 20.58, 15., 15.),\n",
       "                  (19996., 20., 159.38, 35759.56,  858.44, 15763.56, 20.58, 19., 19.),\n",
       "                  ( 8254., 20.,  41.96, 24017.56, 1785.44, 15763.56, 20.58, 16., 16.),\n",
       "                  (17476., 20., 134.18, 33239.16, 1638.84, 15763.16, 20.58,  1.,  1.),\n",
       "                  ( 8254., 20.,  41.96, 24017.16, 1440.84, 15763.16, 20.58,  1.,  1.),\n",
       "                  (12456., 20.,  83.98, 28220.36, 2038.64, 15764.36, 20.58, 40., 40.),\n",
       "                  (10628., 20.,  65.7 , 26391.96, 1183.04, 15763.96, 20.58,  1.,  1.),\n",
       "                  ( 8254., 20.,  41.96, 24017.16, 1441.84, 15763.16, 20.58,  1.,  1.),\n",
       "                  (19882., 20., 158.24, 35643.96, 1865.04, 15761.96, 20.58,  1.,  1.),\n",
       "                  (14990., 20., 109.32, 30753.96,  952.04, 15763.96, 20.58,  1.,  1.),\n",
       "                  (12412., 20.,  83.54, 28175.56, 1099.44, 15763.56, 20.58,  1.,  1.),\n",
       "                  (12412., 20.,  83.54, 28175.16, 1169.84, 15763.16, 20.58,  1.,  1.),\n",
       "                  (12660., 20.,  86.02, 28423.56, 1337.44, 15763.56, 20.58,  1.,  1.),\n",
       "                  (10628., 20.,  65.7 , 26391.16, 1326.84, 15763.16, 20.58,  1.,  1.),\n",
       "                  (12412., 20.,  83.54, 28175.96, 1719.04, 15763.96, 20.58,  1.,  1.),\n",
       "                  (13628., 20.,  95.7 , 29391.96, 1862.04, 15763.96, 20.58, 19., 19.),\n",
       "                  (20884., 20., 168.26, 36646.36, 1057.64, 15762.36, 20.58,  1.,  1.),\n",
       "                  (19996., 20., 159.38, 35759.56, 1019.44, 15763.56, 20.58,  1.,  1.),\n",
       "                  (10628., 20.,  65.7 , 26391.96, 1196.04, 15763.96, 20.58,  1.,  1.),\n",
       "                  (14990., 20., 109.32, 30753.56, 1102.44, 15763.56, 20.58, 72., 72.),\n",
       "                  (12660., 20.,  86.02, 28423.96, 1154.04, 15763.96, 20.58,  1.,  1.),\n",
       "                  (12412., 20.,  83.54, 28175.56, 1382.44, 15763.56, 20.58,  1.,  1.),\n",
       "                  (12412., 20.,  83.54, 28175.56,  886.44, 15763.56, 20.58, 13., 13.),\n",
       "                  (20524., 20., 164.66, 36286.36,  975.64, 15762.36, 20.58,  1.,  1.),\n",
       "                  (14990., 20., 109.32, 30753.16, 1409.84, 15763.16, 20.58,  1.,  1.),\n",
       "                  (14990., 20., 109.32, 30753.96, 1298.04, 15763.96, 20.58, 40., 40.)],\n",
       "                 dtype=[('qpu_sampling_time', '<f8'), ('qpu_anneal_time_per_sample', '<f8'), ('qpu_readout_time_per_sample', '<f8'), ('qpu_access_time', '<f8'), ('qpu_access_overhead_time', '<f8'), ('qpu_programming_time', '<f8'), ('qpu_delay_time_per_sample', '<f8'), ('post_processing_overhead_time', '<f8'), ('total_post_processing_time', '<f8')]), time_measurements=rec.array([(0.2312435, 0.0814648, 0.1064361),\n",
       "                  (0.1881818, 0.023769 , 0.0420953),\n",
       "                  (0.2456045, 0.0235221, 0.0288628),\n",
       "                  (0.248041 , 0.0266746, 0.0249668),\n",
       "                  (0.2276723, 0.0339216, 0.0293681),\n",
       "                  (0.2188898, 0.0267835, 0.0169491),\n",
       "                  (0.2404106, 0.0492474, 0.0358515),\n",
       "                  (0.2737419, 0.0336649, 0.0239816),\n",
       "                  (0.2758116, 0.0332273, 0.0224783),\n",
       "                  (0.2309165, 0.0260893, 0.019846 ),\n",
       "                  (0.2099514, 0.0235155, 0.0203762),\n",
       "                  (0.3131988, 0.0311274, 0.0264324),\n",
       "                  (0.3003121, 0.047773 , 0.0235338),\n",
       "                  (0.2453589, 0.0389174, 0.0251956),\n",
       "                  (0.256154 , 0.0252217, 0.023145 ),\n",
       "                  (0.2998128, 0.0281379, 0.0187034),\n",
       "                  (0.1927512, 0.0273288, 0.0210187),\n",
       "                  (0.2220643, 0.0265387, 0.0210851),\n",
       "                  (0.4328802, 0.070369 , 0.0405416),\n",
       "                  (0.3102955, 0.0356426, 0.0341309),\n",
       "                  (0.2642284, 0.0335152, 0.0352507),\n",
       "                  (0.2496878, 0.0264308, 0.0212295),\n",
       "                  (0.4954566, 0.0327166, 0.0227416),\n",
       "                  (0.2374436, 0.0272737, 0.0214524),\n",
       "                  (0.2863185, 0.0533392, 0.0336139),\n",
       "                  (0.3405692, 0.0223656, 0.0214711),\n",
       "                  (0.2295316, 0.0230559, 0.0248419),\n",
       "                  (0.2585637, 0.0230789, 0.0224205),\n",
       "                  (0.2512866, 0.0237774, 0.0243079)],\n",
       "                 dtype=[('find_clique_embedding_time', '<f8'), ('fixed_embedding_composite_time', '<f8'), ('sample_time', '<f8')]))                                                                                                                                                                                                                                                                                            ],\n",
       "      dtype=object)"
      ]
     },
     "execution_count": 17,
     "metadata": {},
     "output_type": "execute_result"
    }
   ],
   "source": [
    "sampleset_datas"
   ]
  },
  {
   "cell_type": "code",
   "execution_count": 19,
   "id": "8822e025",
   "metadata": {},
   "outputs": [
    {
     "name": "stdout",
     "output_type": "stream",
     "text": [
      "858568.8800000001\n",
      "912949.2000000003\n",
      "885029.64\n",
      "885543.6400000001\n",
      "884779.6400000001\n"
     ]
    }
   ],
   "source": [
    "for run in sampleset_datas:\n",
    "    run_qpu_access_time = run.dwave_sampleset_metadata.qpu_access_time.sum()\n",
    "    print(run_qpu_access_time)"
   ]
  },
  {
   "cell_type": "code",
   "execution_count": 20,
   "id": "682dd845",
   "metadata": {},
   "outputs": [
    {
     "data": {
      "text/plain": [
       "[858568.8800000001,\n",
       " 912949.2000000003,\n",
       " 885029.64,\n",
       " 885543.6400000001,\n",
       " 884779.6400000001]"
      ]
     },
     "execution_count": 20,
     "metadata": {},
     "output_type": "execute_result"
    }
   ],
   "source": [
    "qpu_access_times_per_hierarachical_run = [run.dwave_sampleset_metadata.qpu_access_time.sum() for run in sampleset_datas]\n",
    "qpu_access_times_per_hierarachical_run"
   ]
  },
  {
   "cell_type": "code",
   "execution_count": 16,
   "id": "7e1d29a4",
   "metadata": {},
   "outputs": [],
   "source": [
    "for run in res:\n",
    "    communities = run.communities\n",
    "    modularities = run.modularity\n",
    "    div_trees = run.division_tree\n",
    "    div_modularities = run.division_modularities\n",
    "    dwave_sampleset_info = run.samplesets_data.dwave_sampleset_metadata\n",
    "    times_measured = run.samplesets_data.time_measurements"
   ]
  },
  {
   "cell_type": "markdown",
   "id": "6e7b710e",
   "metadata": {},
   "source": [
    "First run"
   ]
  },
  {
   "cell_type": "markdown",
   "id": "119afbdf",
   "metadata": {},
   "source": [
    "Total time of \"find_clique_embedding\":"
   ]
  },
  {
   "cell_type": "code",
   "execution_count": 1,
   "id": "01a94ab0",
   "metadata": {},
   "outputs": [
    {
     "ename": "NameError",
     "evalue": "name 'res' is not defined",
     "output_type": "error",
     "traceback": [
      "\u001b[1;31m---------------------------------------------------------------------------\u001b[0m",
      "\u001b[1;31mNameError\u001b[0m                                 Traceback (most recent call last)",
      "Cell \u001b[1;32mIn[1], line 1\u001b[0m\n\u001b[1;32m----> 1\u001b[0m \u001b[43mres\u001b[49m[\u001b[38;5;241m0\u001b[39m]\u001b[38;5;241m.\u001b[39mtime_measurements\u001b[38;5;241m.\u001b[39mfind_clique_embedding_time\u001b[38;5;241m.\u001b[39msum()\n",
      "\u001b[1;31mNameError\u001b[0m: name 'res' is not defined"
     ]
    }
   ],
   "source": [
    "res[0].time_measurements.find_clique_embedding_time.sum()"
   ]
  },
  {
   "cell_type": "code",
   "execution_count": null,
   "id": "77520d11",
   "metadata": {},
   "outputs": [
    {
     "data": {
      "text/plain": [
       "array([39833.56, 29476.36, 35895.16, 35666.76, 24015.16, 36644.76,\n",
       "       28392.36, 35576.76, 28437.16, 28173.16, 29365.96, 36489.16,\n",
       "       28173.56, 36057.16, 26389.96, 35666.76, 35894.76, 28421.16,\n",
       "       28173.96, 24016.36, 22365.16, 22365.16, 28129.56, 28436.76])"
      ]
     },
     "execution_count": 41,
     "metadata": {},
     "output_type": "execute_result"
    }
   ],
   "source": [
    "res[1].dwave_sampleset_infos.qpu_access_time"
   ]
  },
  {
   "cell_type": "markdown",
   "id": "68a97e74",
   "metadata": {},
   "source": [
    "### Heuristic"
   ]
  },
  {
   "cell_type": "code",
   "execution_count": null,
   "id": "955cba29",
   "metadata": {},
   "outputs": [],
   "source": [
    "advantage = AdvantageSampler(\n",
    "    G, num_reads=num_reads, version=version, region=region, use_clique_embedding=False, measure_times=True, return_sampleset_info=True\n",
    ")"
   ]
  },
  {
   "cell_type": "code",
   "execution_count": null,
   "id": "79d4ea41",
   "metadata": {},
   "outputs": [],
   "source": [
    "iterative_searcher = IterativeSearcher(advantage)"
   ]
  },
  {
   "cell_type": "code",
   "execution_count": null,
   "id": "68524cfb",
   "metadata": {},
   "outputs": [
    {
     "name": "stdout",
     "output_type": "stream",
     "text": [
      "Starting community detection iterations\n"
     ]
    },
    {
     "name": "stderr",
     "output_type": "stream",
     "text": [
      " 50%|█████     | 1/2 [04:56<04:56, 296.86s/it]"
     ]
    },
    {
     "name": "stdout",
     "output_type": "stream",
     "text": [
      "Iteration 0 completed\n"
     ]
    },
    {
     "name": "stderr",
     "output_type": "stream",
     "text": [
      "100%|██████████| 2/2 [14:59<00:00, 449.94s/it]"
     ]
    },
    {
     "name": "stdout",
     "output_type": "stream",
     "text": [
      "Iteration 1 completed\n"
     ]
    },
    {
     "name": "stderr",
     "output_type": "stream",
     "text": [
      "\n"
     ]
    }
   ],
   "source": [
    "res_heu = iterative_searcher.run_with_sampleset_info(\n",
    "    num_runs=2,\n",
    "    save_results=True,\n",
    "    saving_path=\"heuristic)advantage_clique_samples\",\n",
    "    iterative_verbosity=1,\n",
    "    return_sampleset_info=True,\n",
    ")"
   ]
  },
  {
   "cell_type": "code",
   "execution_count": null,
   "id": "cf4e2477",
   "metadata": {},
   "outputs": [
    {
     "data": {
      "text/plain": [
       "array([0.2807632, 0.2406278, 0.3359402, 0.302822 , 0.1841993, 0.1517898,\n",
       "       0.2029491, 0.320833 , 0.2347661, 0.1915635, 0.2737376, 0.2755818,\n",
       "       0.1963269, 0.2202596, 0.3618938, 0.4035531, 0.4405374, 0.427501 ,\n",
       "       0.3805251, 0.3727842, 0.3873692, 0.456362 , 0.4334511, 0.3993097])"
      ]
     },
     "execution_count": 71,
     "metadata": {},
     "output_type": "execute_result"
    }
   ],
   "source": [
    "res_heu[0].time_measurements.embedding_composite_time"
   ]
  },
  {
   "cell_type": "code",
   "execution_count": null,
   "id": "a3b09ffe",
   "metadata": {},
   "outputs": [
    {
     "data": {
      "text/plain": [
       "rec.array([(0.2807632, 59.6475311), (0.2406278, 16.8091243),\n",
       "           (0.3359402,  7.4627778), (0.302822 ,  0.6165701),\n",
       "           (0.1841993,  0.7094622), (0.1517898,  0.0663413),\n",
       "           (0.2029491,  0.2232563), (0.320833 ,  0.1497798),\n",
       "           (0.2347661,  0.1103587), (0.1915635,  0.7009316),\n",
       "           (0.2737376,  0.2508542), (0.2755818,  0.1312484),\n",
       "           (0.1963269,  0.0945934), (0.2202596, 38.5239291),\n",
       "           (0.3618938,  4.9918162), (0.4035531,  0.2753941),\n",
       "           (0.4405374,  2.4519983), (0.427501 ,  0.1697537),\n",
       "           (0.3805251,  1.2791192), (0.3727842,  1.8661805),\n",
       "           (0.3873692,  0.2791576), (0.456362 ,  0.1886594),\n",
       "           (0.4334511,  0.1984597), (0.3993097,  0.5174587)],\n",
       "          dtype=[('embedding_composite_time', '<f8'), ('sample_time', '<f8')])"
      ]
     },
     "execution_count": 72,
     "metadata": {},
     "output_type": "execute_result"
    }
   ],
   "source": [
    "res_heu[0].time_measurements"
   ]
  },
  {
   "cell_type": "code",
   "execution_count": null,
   "id": "9dfedf24",
   "metadata": {},
   "outputs": [
    {
     "data": {
      "text/plain": [
       "7.4754465000587516"
      ]
     },
     "execution_count": 74,
     "metadata": {},
     "output_type": "execute_result"
    }
   ],
   "source": [
    "res_heu[0].time_measurements.embedding_composite_time.sum()"
   ]
  },
  {
   "cell_type": "code",
   "execution_count": null,
   "id": "a7b87cd2",
   "metadata": {},
   "outputs": [
    {
     "data": {
      "text/plain": [
       "137.71475569996983"
      ]
     },
     "execution_count": 78,
     "metadata": {},
     "output_type": "execute_result"
    }
   ],
   "source": [
    "res_heu[0].time_measurements.sample_time.sum()"
   ]
  },
  {
   "cell_type": "code",
   "execution_count": null,
   "id": "c7d8142b",
   "metadata": {},
   "outputs": [
    {
     "data": {
      "text/plain": [
       "array([59.6475311, 16.8091243,  7.4627778,  0.6165701,  0.7094622,\n",
       "        0.0663413,  0.2232563,  0.1497798,  0.1103587,  0.7009316,\n",
       "        0.2508542,  0.1312484,  0.0945934, 38.5239291,  4.9918162,\n",
       "        0.2753941,  2.4519983,  0.1697537,  1.2791192,  1.8661805,\n",
       "        0.2791576,  0.1886594,  0.1984597,  0.5174587])"
      ]
     },
     "execution_count": 79,
     "metadata": {},
     "output_type": "execute_result"
    }
   ],
   "source": [
    "res_heu[0].time_measurements.sample_time"
   ]
  },
  {
   "cell_type": "code",
   "execution_count": 81,
   "id": "9ddccb7a",
   "metadata": {},
   "outputs": [
    {
     "data": {
      "text/plain": [
       "array([0.2807632, 0.2406278, 0.3359402, 0.302822 , 0.1841993, 0.1517898,\n",
       "       0.2029491, 0.320833 , 0.2347661, 0.1915635, 0.2737376, 0.2755818,\n",
       "       0.1963269, 0.2202596, 0.3618938, 0.4035531, 0.4405374, 0.427501 ,\n",
       "       0.3805251, 0.3727842, 0.3873692, 0.456362 , 0.4334511, 0.3993097])"
      ]
     },
     "execution_count": 81,
     "metadata": {},
     "output_type": "execute_result"
    }
   ],
   "source": [
    "res_heu[0].time_measurements.embedding_composite_time"
   ]
  }
 ],
 "metadata": {
  "kernelspec": {
   "display_name": "qomm_env",
   "language": "python",
   "name": "python3"
  },
  "language_info": {
   "codemirror_mode": {
    "name": "ipython",
    "version": 3
   },
   "file_extension": ".py",
   "mimetype": "text/x-python",
   "name": "python",
   "nbconvert_exporter": "python",
   "pygments_lexer": "ipython3",
   "version": "3.10.14"
  }
 },
 "nbformat": 4,
 "nbformat_minor": 5
}
