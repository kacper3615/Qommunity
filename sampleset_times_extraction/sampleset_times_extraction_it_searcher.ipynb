{
 "cells": [
  {
   "cell_type": "code",
   "execution_count": 1,
   "id": "6faf1a22",
   "metadata": {},
   "outputs": [],
   "source": [
    "import numpy as np\n",
    "import networkx as nx\n",
    "import matplotlib.pyplot as plt\n",
    "\n",
    "from Qommunity.samplers.hierarchical.advantage_sampler import AdvantageSampler\n",
    "from Qommunity.searchers.hierarchical_searcher import HierarchicalSearcher"
   ]
  },
  {
   "cell_type": "code",
   "execution_count": 39,
   "id": "355ce839",
   "metadata": {},
   "outputs": [],
   "source": [
    "G = nx.powerlaw_cluster_graph(n=100, m=1, p=0.1)\n",
    "num_reads = 100\n",
    "version = \"\"\n",
    "region = \"na-west-1\""
   ]
  },
  {
   "cell_type": "markdown",
   "id": "22f9156a",
   "metadata": {},
   "source": [
    "### Clique embedding"
   ]
  },
  {
   "cell_type": "code",
   "execution_count": 40,
   "id": "5b0a7d5d",
   "metadata": {},
   "outputs": [],
   "source": [
    "advantage = AdvantageSampler(\n",
    "    G, num_reads=num_reads, version=version, region=region, use_clique_embedding=True, measure_times=True, return_sampleset_info=True\n",
    ")"
   ]
  },
  {
   "cell_type": "code",
   "execution_count": 5,
   "id": "fd70a585",
   "metadata": {},
   "outputs": [],
   "source": [
    "hierarchical_searcher = HierarchicalSearcher(advantage)"
   ]
  },
  {
   "cell_type": "code",
   "execution_count": 6,
   "id": "18d13dae",
   "metadata": {},
   "outputs": [],
   "source": [
    "res = hierarchical_searcher.hierarchical_community_search(samples_filename=\"adv_clique_samples_2\", division_tree=True, return_modularities=True, return_sampleset_info = True)"
   ]
  },
  {
   "cell_type": "code",
   "execution_count": 9,
   "id": "ab1c67ed",
   "metadata": {},
   "outputs": [],
   "source": [
    "result = res"
   ]
  },
  {
   "cell_type": "code",
   "execution_count": 10,
   "id": "445a00e9",
   "metadata": {},
   "outputs": [],
   "source": [
    "res, division_tree, division_modularities, sampleset_info = result"
   ]
  },
  {
   "cell_type": "code",
   "execution_count": 11,
   "id": "98939b1a",
   "metadata": {},
   "outputs": [
    {
     "name": "stdout",
     "output_type": "stream",
     "text": [
      "Modularity: 0.7546678910315275\n"
     ]
    }
   ],
   "source": [
    "print(f\"Modularity: {nx.community.modularity(G, res)}\")"
   ]
  },
  {
   "cell_type": "code",
   "execution_count": 19,
   "id": "2364fb1b",
   "metadata": {},
   "outputs": [
    {
     "data": {
      "text/plain": [
       "rec.array((24068., 20., 200.1, 39832.76, 1443.24, 15764.76, 20.58, 32., 32.),\n",
       "          dtype=[('qpu_sampling_time', '<f8'), ('qpu_anneal_time_per_sample', '<f8'), ('qpu_readout_time_per_sample', '<f8'), ('qpu_access_time', '<f8'), ('qpu_access_overhead_time', '<f8'), ('qpu_programming_time', '<f8'), ('qpu_delay_time_per_sample', '<f8'), ('post_processing_overhead_time', '<f8'), ('total_post_processing_time', '<f8')])"
      ]
     },
     "execution_count": 19,
     "metadata": {},
     "output_type": "execute_result"
    }
   ],
   "source": [
    "sampleset_info[0].dwave_sampleset_info"
   ]
  },
  {
   "cell_type": "code",
   "execution_count": 21,
   "id": "8a377099",
   "metadata": {},
   "outputs": [
    {
     "data": {
      "text/plain": [
       "rec.array((24068., 20., 200.1, 39832.76, 1443.24, 15764.76, 20.58, 32., 32.),\n",
       "          dtype=[('qpu_sampling_time', '<f8'), ('qpu_anneal_time_per_sample', '<f8'), ('qpu_readout_time_per_sample', '<f8'), ('qpu_access_time', '<f8'), ('qpu_access_overhead_time', '<f8'), ('qpu_programming_time', '<f8'), ('qpu_delay_time_per_sample', '<f8'), ('post_processing_overhead_time', '<f8'), ('total_post_processing_time', '<f8')])"
      ]
     },
     "execution_count": 21,
     "metadata": {},
     "output_type": "execute_result"
    }
   ],
   "source": [
    "sampleset_info[0].dwave_sampleset_info"
   ]
  },
  {
   "cell_type": "code",
   "execution_count": 25,
   "id": "464d9659",
   "metadata": {},
   "outputs": [
    {
     "data": {
      "text/plain": [
       "array(39832.76)"
      ]
     },
     "execution_count": 25,
     "metadata": {},
     "output_type": "execute_result"
    }
   ],
   "source": [
    "sampleset_info[0].dwave_sampleset_info.qpu_access_time"
   ]
  },
  {
   "cell_type": "code",
   "execution_count": 26,
   "id": "d201b324",
   "metadata": {},
   "outputs": [
    {
     "data": {
      "text/plain": [
       "array(39832.76)"
      ]
     },
     "execution_count": 26,
     "metadata": {},
     "output_type": "execute_result"
    }
   ],
   "source": [
    "sampleset_info[0].dwave_sampleset_info.qpu_access_time"
   ]
  },
  {
   "cell_type": "code",
   "execution_count": 7,
   "id": "6db49eef",
   "metadata": {},
   "outputs": [],
   "source": [
    "from Qommunity.samplers.hierarchical.hierarchical_sampler import (\n",
    "    HierarchicalSampler,\n",
    ")\n",
    "from Qommunity.searchers.hierarchical_searcher import (\n",
    "    HierarchicalSearcher,\n",
    ")\n",
    "import networkx as nx\n",
    "from time import time\n",
    "from tqdm import tqdm\n",
    "import numpy as np\n",
    "import warnings\n",
    "\n",
    "\n",
    "class MethodArgsWarning(Warning):\n",
    "    def __init__(self, msg):\n",
    "        super().__init__(msg)\n",
    "\n",
    "\n",
    "# Warning format compatible with tqdm\n",
    "def warn(message, category, filename, lineno, file=None, line=None):\n",
    "    tqdm.write(f\"Warning: {str(message)}\")\n",
    "\n",
    "\n",
    "warnings.showwarning = warn\n",
    "warnings.simplefilter(\"always\", MethodArgsWarning)\n",
    "\n",
    "\n",
    "class IterativeHierarchicalSearcher:\n",
    "    def __init__(self, sampler: HierarchicalSampler) -> None:\n",
    "        self.sampler = sampler\n",
    "        self.searcher = HierarchicalSearcher(self.sampler)\n",
    "\n",
    "    def _default_saving_path(self) -> str:\n",
    "        return (\n",
    "            f\"{self.sampler.__class__.__name__}\"\n",
    "            + \"-network_size_\"\n",
    "            + f\"{self.sampler.G.number_of_nodes()}\"\n",
    "        )\n",
    "\n",
    "    def _verify_kwargs(self, kwargs) -> dict:\n",
    "        kwargs_unhandled = [\"division_tree\", \"return_modularities\"]\n",
    "        kwargs_warning = []\n",
    "        for kwarg in kwargs_unhandled:\n",
    "            if kwarg in kwargs:\n",
    "                kwargs.pop(kwarg, None)\n",
    "                kwargs_warning.append(kwarg)\n",
    "        if kwargs_warning:\n",
    "            msg = \", \".join(kwargs_warning)\n",
    "            warnings.warn(\n",
    "                f\"in order to get {msg} run \"\n",
    "                + \" IterativeSearcher.run_with_sampleset_info()\"\n",
    "            )\n",
    "\n",
    "        return kwargs\n",
    "\n",
    "    def run(\n",
    "        self,\n",
    "        num_runs: int,\n",
    "        save_results: bool = True,\n",
    "        saving_path: str | None = None,\n",
    "        elapse_times: bool = True,\n",
    "        iterative_verbosity: int = 0,\n",
    "        return_sampleset_info: bool = False,\n",
    "        **kwargs,\n",
    "    ):\n",
    "        kwargs = self._verify_kwargs(kwargs)\n",
    "\n",
    "        if iterative_verbosity >= 1:\n",
    "            print(\"Starting community detection iterations\")\n",
    "\n",
    "        if save_results and saving_path is None:\n",
    "            saving_path = self._default_saving_path()\n",
    "\n",
    "        modularities = np.zeros((num_runs))\n",
    "        communities = np.empty((num_runs), dtype=object)\n",
    "        times = np.zeros((num_runs))\n",
    "        sampleset_infos = np.empty((num_runs), dtype=object)\n",
    "\n",
    "        for iter in tqdm(range(num_runs)):\n",
    "            elapsed = time()\n",
    "            result = self.searcher.hierarchical_community_search(**kwargs)\n",
    "            times[iter] = time() - elapsed\n",
    "\n",
    "            if \"return_sampleset_info\" in kwargs:\n",
    "                result, sampleset_info = result\n",
    "\n",
    "            try:\n",
    "                modularity_score = nx.community.modularity(\n",
    "                    self.searcher.sampler.G,\n",
    "                    result,\n",
    "                    resolution=self.sampler.resolution,\n",
    "                )\n",
    "            except Exception as e:\n",
    "                print(f\"iteration: {iter} exception: {e}\")\n",
    "                modularity_score = -1\n",
    "\n",
    "            communities[iter] = result\n",
    "            modularities[iter] = modularity_score\n",
    "            sampleset_infos[iter] = sampleset_info\n",
    "\n",
    "            if save_results:\n",
    "                np.save(f\"{saving_path}_modularities\", modularities)\n",
    "                np.save(f\"{saving_path}_communities\", communities)\n",
    "                if elapse_times:\n",
    "                    np.save(f\"{saving_path}_times\", times)\n",
    "                if return_sampleset_info:\n",
    "                    np.save(\n",
    "                        f\"{saving_path}_sampleset_infos\", sampleset_infos\n",
    "                    )\n",
    "\n",
    "            if iterative_verbosity >= 1:\n",
    "                print(f\"Iteration {iter} completed\")\n",
    "\n",
    "        if elapse_times and sampleset_info:\n",
    "            return communities, modularities, times, sampleset_info\n",
    "        if elapse_times:\n",
    "            return communities, modularities, times\n",
    "        if return_sampleset_info:\n",
    "            return communities, modularities, sampleset_infos\n",
    "        return communities, modularities\n",
    "\n",
    "    def run_with_sampleset_info(\n",
    "        self,\n",
    "        num_runs: int,\n",
    "        save_results: bool = True,\n",
    "        saving_path: str | None = None,\n",
    "        iterative_verbosity: int = 0,\n",
    "        return_sampleset_info: bool = True,\n",
    "        **kwargs,\n",
    "    ):\n",
    "\n",
    "        if iterative_verbosity >= 1:\n",
    "            print(\"Starting community detection iterations\")\n",
    "\n",
    "        if save_results and saving_path is None:\n",
    "            saving_path = self._default_saving_path()\n",
    "\n",
    "        modularities = np.zeros((num_runs))\n",
    "        communities = np.empty((num_runs), dtype=object)\n",
    "        times = np.zeros((num_runs))\n",
    "        division_modularities = np.empty((num_runs), dtype=object)\n",
    "        division_trees = np.empty((num_runs), dtype=object)\n",
    "        sampleset_infos = np.empty((num_runs), dtype=object)\n",
    "\n",
    "        if return_sampleset_info:\n",
    "            kwargs[\"return_sampleset_info\"] = True\n",
    "\n",
    "        for iter in tqdm(range(num_runs)):\n",
    "            elapsed = time()\n",
    "            result = self.searcher.hierarchical_community_search(\n",
    "                return_modularities=True,\n",
    "                division_tree=True,\n",
    "                **kwargs,\n",
    "            )\n",
    "            if return_sampleset_info:\n",
    "                (\n",
    "                    communities_result,\n",
    "                    div_tree,\n",
    "                    div_modularities,\n",
    "                    sampleset_info,\n",
    "                ) = result\n",
    "            else:\n",
    "                (\n",
    "                    communities_result,\n",
    "                    div_tree,\n",
    "                    div_modularities,\n",
    "                ) = result\n",
    "            times[iter] = time() - elapsed\n",
    "            division_trees[iter] = div_tree\n",
    "            division_modularities[iter] = div_modularities\n",
    "            sampleset_infos[iter] = sampleset_info\n",
    "\n",
    "            try:\n",
    "                modularity_score = nx.community.modularity(\n",
    "                    self.searcher.sampler.G,\n",
    "                    communities_result,\n",
    "                    resolution=self.sampler.resolution,\n",
    "                )\n",
    "            except Exception as e:\n",
    "                print(f\"iteration: {iter} exception: {e}\")\n",
    "                modularity_score = -1\n",
    "\n",
    "            communities[iter] = communities_result\n",
    "            modularities[iter] = modularity_score\n",
    "\n",
    "            if save_results:\n",
    "                np.save(f\"{saving_path}_modularities\", modularities)\n",
    "                np.save(f\"{saving_path}_communities\", communities)\n",
    "                np.save(f\"{saving_path}_times\", times)\n",
    "                np.save(f\"{saving_path}_division_trees\", division_trees)\n",
    "                np.save(\n",
    "                    f\"{saving_path}_division_modularities\",\n",
    "                    division_modularities,\n",
    "                )\n",
    "                np.save(\n",
    "                    f\"{saving_path}_sampleset_infos\", sampleset_infos\n",
    "                )\n",
    "\n",
    "            if iterative_verbosity >= 1:\n",
    "                print(f\"Iteration {iter} completed\")\n",
    "\n",
    "        from numpy.lib import recfunctions as rfn\n",
    "\n",
    "        dtypes = [\n",
    "            (\"communities\", object),\n",
    "            (\"modularity\", np.float_),\n",
    "            (\"time\", np.float_),\n",
    "            (\"division_tree\", object),\n",
    "            (\"division_modularities\", object),\n",
    "        ]\n",
    "        sampleset_components = [\n",
    "            communities,\n",
    "                modularities,\n",
    "                times,\n",
    "                division_trees,\n",
    "                division_modularities,\n",
    "        ]\n",
    "        \n",
    "        if return_sampleset_info:\n",
    "            dtypes.append((\"sampleset_infos\", object))\n",
    "            sampleset_components.append(sampleset_infos)\n",
    "        \n",
    "        sampleset = np.rec.fromarrays(\n",
    "            sampleset_components,\n",
    "            dtype=dtypes,\n",
    "        )\n",
    "        \n",
    "        return sampleset\n"
   ]
  },
  {
   "cell_type": "code",
   "execution_count": 8,
   "id": "3266206c",
   "metadata": {},
   "outputs": [],
   "source": [
    "iterative_searcher = IterativeHierarchicalSearcher(advantage)"
   ]
  },
  {
   "cell_type": "code",
   "execution_count": 9,
   "id": "5fa48d56",
   "metadata": {},
   "outputs": [
    {
     "name": "stdout",
     "output_type": "stream",
     "text": [
      "Starting community detection iterations\n"
     ]
    },
    {
     "name": "stderr",
     "output_type": "stream",
     "text": [
      " 50%|█████     | 1/2 [01:23<01:23, 83.34s/it]"
     ]
    },
    {
     "name": "stdout",
     "output_type": "stream",
     "text": [
      "Iteration 0 completed\n"
     ]
    },
    {
     "name": "stderr",
     "output_type": "stream",
     "text": [
      "100%|██████████| 2/2 [02:58<00:00, 89.24s/it]"
     ]
    },
    {
     "name": "stdout",
     "output_type": "stream",
     "text": [
      "Iteration 1 completed\n"
     ]
    },
    {
     "name": "stderr",
     "output_type": "stream",
     "text": [
      "\n"
     ]
    }
   ],
   "source": [
    "res = iterative_searcher.run_with_sampleset_info(\n",
    "    num_runs=2,\n",
    "    save_results=True,\n",
    "    saving_path=\"iterative_advantage_clique_samples\",\n",
    "    iterative_verbosity=1,\n",
    "    return_sampleset_info=True,\n",
    ")"
   ]
  },
  {
   "cell_type": "code",
   "execution_count": 12,
   "id": "6edc7cd9",
   "metadata": {},
   "outputs": [],
   "source": [
    "result = res"
   ]
  },
  {
   "cell_type": "code",
   "execution_count": 224,
   "id": "25b1c775",
   "metadata": {},
   "outputs": [
    {
     "data": {
      "text/plain": [
       "[SamplesetInfo(dwave_sampleset_info=rec.array((24068., 20., 200.1, 39829.96, 1711.04, 15761.96, 20.58, 16., 16.),\n",
       "           dtype=[('qpu_sampling_time', '<f8'), ('qpu_anneal_time_per_sample', '<f8'), ('qpu_readout_time_per_sample', '<f8'), ('qpu_access_time', '<f8'), ('qpu_access_overhead_time', '<f8'), ('qpu_programming_time', '<f8'), ('qpu_delay_time_per_sample', '<f8'), ('post_processing_overhead_time', '<f8'), ('total_post_processing_time', '<f8')]), time_measurements=rec.array((0.1773565, 0.0308321, 0.118257),\n",
       "           dtype=[('find_clique_embedding_time', '<f8'), ('fixed_embedding_composite_time', '<f8'), ('sample_time', '<f8')])),\n",
       " SamplesetInfo(dwave_sampleset_info=rec.array((13628., 20., 95.7, 29387.16, 1391.84, 15759.16, 20.58, 88., 88.),\n",
       "           dtype=[('qpu_sampling_time', '<f8'), ('qpu_anneal_time_per_sample', '<f8'), ('qpu_readout_time_per_sample', '<f8'), ('qpu_access_time', '<f8'), ('qpu_access_overhead_time', '<f8'), ('qpu_programming_time', '<f8'), ('qpu_delay_time_per_sample', '<f8'), ('post_processing_overhead_time', '<f8'), ('total_post_processing_time', '<f8')]), time_measurements=rec.array((0.3025325, 0.0566461, 0.1085171),\n",
       "           dtype=[('find_clique_embedding_time', '<f8'), ('fixed_embedding_composite_time', '<f8'), ('sample_time', '<f8')])),\n",
       " SamplesetInfo(dwave_sampleset_info=rec.array((20728., 20., 166.7, 36487.96, 1506.04, 15759.96, 20.58, 1., 1.),\n",
       "           dtype=[('qpu_sampling_time', '<f8'), ('qpu_anneal_time_per_sample', '<f8'), ('qpu_readout_time_per_sample', '<f8'), ('qpu_access_time', '<f8'), ('qpu_access_overhead_time', '<f8'), ('qpu_programming_time', '<f8'), ('qpu_delay_time_per_sample', '<f8'), ('post_processing_overhead_time', '<f8'), ('total_post_processing_time', '<f8')]), time_measurements=rec.array((0.21881, 0.0315641, 0.0313734),\n",
       "           dtype=[('find_clique_embedding_time', '<f8'), ('fixed_embedding_composite_time', '<f8'), ('sample_time', '<f8')])),\n",
       " SamplesetInfo(dwave_sampleset_info=rec.array((12676., 20., 86.18, 28435.16, 2997.84, 15759.16, 20.58, 1., 1.),\n",
       "           dtype=[('qpu_sampling_time', '<f8'), ('qpu_anneal_time_per_sample', '<f8'), ('qpu_readout_time_per_sample', '<f8'), ('qpu_access_time', '<f8'), ('qpu_access_overhead_time', '<f8'), ('qpu_programming_time', '<f8'), ('qpu_delay_time_per_sample', '<f8'), ('post_processing_overhead_time', '<f8'), ('total_post_processing_time', '<f8')]), time_measurements=rec.array((0.2612034, 0.0210933, 0.0243663),\n",
       "           dtype=[('find_clique_embedding_time', '<f8'), ('fixed_embedding_composite_time', '<f8'), ('sample_time', '<f8')])),\n",
       " SamplesetInfo(dwave_sampleset_info=rec.array((19816., 20., 157.58, 35575.56, 1313.44, 15759.56, 20.58, 1., 1.),\n",
       "           dtype=[('qpu_sampling_time', '<f8'), ('qpu_anneal_time_per_sample', '<f8'), ('qpu_readout_time_per_sample', '<f8'), ('qpu_access_time', '<f8'), ('qpu_access_overhead_time', '<f8'), ('qpu_programming_time', '<f8'), ('qpu_delay_time_per_sample', '<f8'), ('post_processing_overhead_time', '<f8'), ('total_post_processing_time', '<f8')]), time_measurements=rec.array((0.2666434, 0.0260333, 0.0244937),\n",
       "           dtype=[('find_clique_embedding_time', '<f8'), ('fixed_embedding_composite_time', '<f8'), ('sample_time', '<f8')])),\n",
       " SamplesetInfo(dwave_sampleset_info=rec.array((20296., 20., 162.38, 36055.16, 1495.84, 15759.16, 20.58, 1., 1.),\n",
       "           dtype=[('qpu_sampling_time', '<f8'), ('qpu_anneal_time_per_sample', '<f8'), ('qpu_readout_time_per_sample', '<f8'), ('qpu_access_time', '<f8'), ('qpu_access_overhead_time', '<f8'), ('qpu_programming_time', '<f8'), ('qpu_delay_time_per_sample', '<f8'), ('post_processing_overhead_time', '<f8'), ('total_post_processing_time', '<f8')]), time_measurements=rec.array((0.235935, 0.029578, 0.0381151),\n",
       "           dtype=[('find_clique_embedding_time', '<f8'), ('fixed_embedding_composite_time', '<f8'), ('sample_time', '<f8')])),\n",
       " SamplesetInfo(dwave_sampleset_info=rec.array((12660., 20., 86.02, 28419.96, 1273.04, 15759.96, 20.58, 34., 34.),\n",
       "           dtype=[('qpu_sampling_time', '<f8'), ('qpu_anneal_time_per_sample', '<f8'), ('qpu_readout_time_per_sample', '<f8'), ('qpu_access_time', '<f8'), ('qpu_access_overhead_time', '<f8'), ('qpu_programming_time', '<f8'), ('qpu_delay_time_per_sample', '<f8'), ('total_post_processing_time', '<f8'), ('post_processing_overhead_time', '<f8')]), time_measurements=rec.array((0.2194602, 0.0326816, 0.0292636),\n",
       "           dtype=[('find_clique_embedding_time', '<f8'), ('fixed_embedding_composite_time', '<f8'), ('sample_time', '<f8')])),\n",
       " SamplesetInfo(dwave_sampleset_info=rec.array((12500., 20., 84.42, 28259.96, 1336.04, 15759.96, 20.58, 1., 1.),\n",
       "           dtype=[('qpu_sampling_time', '<f8'), ('qpu_anneal_time_per_sample', '<f8'), ('qpu_readout_time_per_sample', '<f8'), ('qpu_access_time', '<f8'), ('qpu_access_overhead_time', '<f8'), ('qpu_programming_time', '<f8'), ('qpu_delay_time_per_sample', '<f8'), ('total_post_processing_time', '<f8'), ('post_processing_overhead_time', '<f8')]), time_measurements=rec.array((0.2763517, 0.0358226, 0.0345125),\n",
       "           dtype=[('find_clique_embedding_time', '<f8'), ('fixed_embedding_composite_time', '<f8'), ('sample_time', '<f8')])),\n",
       " SamplesetInfo(dwave_sampleset_info=rec.array((17362., 20., 133.04, 33121.16, 856.84, 15759.16, 20.58, 1., 1.),\n",
       "           dtype=[('qpu_sampling_time', '<f8'), ('qpu_anneal_time_per_sample', '<f8'), ('qpu_readout_time_per_sample', '<f8'), ('qpu_access_time', '<f8'), ('qpu_access_overhead_time', '<f8'), ('qpu_programming_time', '<f8'), ('qpu_delay_time_per_sample', '<f8'), ('post_processing_overhead_time', '<f8'), ('total_post_processing_time', '<f8')]), time_measurements=rec.array((0.2058751, 0.0260752, 0.025805),\n",
       "           dtype=[('find_clique_embedding_time', '<f8'), ('fixed_embedding_composite_time', '<f8'), ('sample_time', '<f8')])),\n",
       " SamplesetInfo(dwave_sampleset_info=rec.array((13628., 20., 95.7, 29385.96, 819.04, 15757.96, 20.58, 23., 23.),\n",
       "           dtype=[('qpu_sampling_time', '<f8'), ('qpu_anneal_time_per_sample', '<f8'), ('qpu_readout_time_per_sample', '<f8'), ('qpu_access_time', '<f8'), ('qpu_access_overhead_time', '<f8'), ('qpu_programming_time', '<f8'), ('qpu_delay_time_per_sample', '<f8'), ('post_processing_overhead_time', '<f8'), ('total_post_processing_time', '<f8')]), time_measurements=rec.array((0.1838928, 0.0287553, 0.0464593),\n",
       "           dtype=[('find_clique_embedding_time', '<f8'), ('fixed_embedding_composite_time', '<f8'), ('sample_time', '<f8')])),\n",
       " SamplesetInfo(dwave_sampleset_info=rec.array((20434., 20., 163.76, 36193.16, 1059.84, 15759.16, 20.58, 1., 1.),\n",
       "           dtype=[('qpu_sampling_time', '<f8'), ('qpu_anneal_time_per_sample', '<f8'), ('qpu_readout_time_per_sample', '<f8'), ('qpu_access_time', '<f8'), ('qpu_access_overhead_time', '<f8'), ('qpu_programming_time', '<f8'), ('qpu_delay_time_per_sample', '<f8'), ('post_processing_overhead_time', '<f8'), ('total_post_processing_time', '<f8')]), time_measurements=rec.array((0.1727597, 0.0216226, 0.0276714),\n",
       "           dtype=[('find_clique_embedding_time', '<f8'), ('fixed_embedding_composite_time', '<f8'), ('sample_time', '<f8')])),\n",
       " SamplesetInfo(dwave_sampleset_info=rec.array((17362., 20., 133.04, 33121.56, 1002.44, 15759.56, 20.58, 1., 1.),\n",
       "           dtype=[('qpu_sampling_time', '<f8'), ('qpu_anneal_time_per_sample', '<f8'), ('qpu_readout_time_per_sample', '<f8'), ('qpu_access_time', '<f8'), ('qpu_access_overhead_time', '<f8'), ('qpu_programming_time', '<f8'), ('qpu_delay_time_per_sample', '<f8'), ('post_processing_overhead_time', '<f8'), ('total_post_processing_time', '<f8')]), time_measurements=rec.array((0.1815218, 0.0198324, 0.0204103),\n",
       "           dtype=[('find_clique_embedding_time', '<f8'), ('fixed_embedding_composite_time', '<f8'), ('sample_time', '<f8')])),\n",
       " SamplesetInfo(dwave_sampleset_info=rec.array((12660., 20., 86.02, 28419.96, 872.04, 15759.96, 20.58, 1., 1.),\n",
       "           dtype=[('qpu_sampling_time', '<f8'), ('qpu_anneal_time_per_sample', '<f8'), ('qpu_readout_time_per_sample', '<f8'), ('qpu_access_time', '<f8'), ('qpu_access_overhead_time', '<f8'), ('qpu_programming_time', '<f8'), ('qpu_delay_time_per_sample', '<f8'), ('post_processing_overhead_time', '<f8'), ('total_post_processing_time', '<f8')]), time_measurements=rec.array((0.1741551, 0.0217112, 0.0206812),\n",
       "           dtype=[('find_clique_embedding_time', '<f8'), ('fixed_embedding_composite_time', '<f8'), ('sample_time', '<f8')])),\n",
       " SamplesetInfo(dwave_sampleset_info=rec.array((20434., 20., 163.76, 36192.76, 1260.24, 15758.76, 20.58, 71., 71.),\n",
       "           dtype=[('qpu_sampling_time', '<f8'), ('qpu_anneal_time_per_sample', '<f8'), ('qpu_readout_time_per_sample', '<f8'), ('qpu_access_time', '<f8'), ('qpu_access_overhead_time', '<f8'), ('qpu_programming_time', '<f8'), ('qpu_delay_time_per_sample', '<f8'), ('post_processing_overhead_time', '<f8'), ('total_post_processing_time', '<f8')]), time_measurements=rec.array((0.2542392, 0.037241, 0.0455552),\n",
       "           dtype=[('find_clique_embedding_time', '<f8'), ('fixed_embedding_composite_time', '<f8'), ('sample_time', '<f8')])),\n",
       " SamplesetInfo(dwave_sampleset_info=rec.array((17248., 20., 131.9, 33007.56, 1082.44, 15759.56, 20.58, 10., 10.),\n",
       "           dtype=[('qpu_sampling_time', '<f8'), ('qpu_anneal_time_per_sample', '<f8'), ('qpu_readout_time_per_sample', '<f8'), ('qpu_access_time', '<f8'), ('qpu_access_overhead_time', '<f8'), ('qpu_programming_time', '<f8'), ('qpu_delay_time_per_sample', '<f8'), ('post_processing_overhead_time', '<f8'), ('total_post_processing_time', '<f8')]), time_measurements=rec.array((0.1697618, 0.0235122, 0.0260813),\n",
       "           dtype=[('find_clique_embedding_time', '<f8'), ('fixed_embedding_composite_time', '<f8'), ('sample_time', '<f8')])),\n",
       " SamplesetInfo(dwave_sampleset_info=rec.array((17248., 20., 131.9, 33007.16, 971.84, 15759.16, 20.58, 1., 1.),\n",
       "           dtype=[('qpu_sampling_time', '<f8'), ('qpu_anneal_time_per_sample', '<f8'), ('qpu_readout_time_per_sample', '<f8'), ('qpu_access_time', '<f8'), ('qpu_access_overhead_time', '<f8'), ('qpu_programming_time', '<f8'), ('qpu_delay_time_per_sample', '<f8'), ('post_processing_overhead_time', '<f8'), ('total_post_processing_time', '<f8')]), time_measurements=rec.array((0.2310762, 0.0248809, 0.0225739),\n",
       "           dtype=[('find_clique_embedding_time', '<f8'), ('fixed_embedding_composite_time', '<f8'), ('sample_time', '<f8')]))]"
      ]
     },
     "execution_count": 224,
     "metadata": {},
     "output_type": "execute_result"
    }
   ],
   "source": [
    "res[0].sampleset_infos"
   ]
  },
  {
   "cell_type": "code",
   "execution_count": 262,
   "id": "6c75accc",
   "metadata": {},
   "outputs": [],
   "source": [
    "dtype = [si.dwave_sampleset_info for si in res[0].sampleset_infos][0].dtype.descr\n",
    "dwave_sampleset_infos_0 = np.concatenate([np.array([r], dtype=dtype) for r in [si.dwave_sampleset_info for si in res[0].sampleset_infos]])\n",
    "dwave_sampleset_infos_0 = dwave_sampleset_infos_0.view(np.recarray)"
   ]
  },
  {
   "cell_type": "code",
   "execution_count": 283,
   "id": "4387268c",
   "metadata": {},
   "outputs": [
    {
     "data": {
      "text/plain": [
       "array([array([(24068., 20., 200.1 , 39829.96, 1711.04, 15761.96, 20.58, 16., 16.),\n",
       "              (13628., 20.,  95.7 , 29387.16, 1391.84, 15759.16, 20.58, 88., 88.),\n",
       "              (20728., 20., 166.7 , 36487.96, 1506.04, 15759.96, 20.58,  1.,  1.),\n",
       "              (12676., 20.,  86.18, 28435.16, 2997.84, 15759.16, 20.58,  1.,  1.),\n",
       "              (19816., 20., 157.58, 35575.56, 1313.44, 15759.56, 20.58,  1.,  1.),\n",
       "              (20296., 20., 162.38, 36055.16, 1495.84, 15759.16, 20.58,  1.,  1.),\n",
       "              (12660., 20.,  86.02, 28419.96, 1273.04, 15759.96, 20.58, 34., 34.),\n",
       "              (12500., 20.,  84.42, 28259.96, 1336.04, 15759.96, 20.58,  1.,  1.),\n",
       "              (17362., 20., 133.04, 33121.16,  856.84, 15759.16, 20.58,  1.,  1.),\n",
       "              (13628., 20.,  95.7 , 29385.96,  819.04, 15757.96, 20.58, 23., 23.),\n",
       "              (20434., 20., 163.76, 36193.16, 1059.84, 15759.16, 20.58,  1.,  1.),\n",
       "              (17362., 20., 133.04, 33121.56, 1002.44, 15759.56, 20.58,  1.,  1.),\n",
       "              (12660., 20.,  86.02, 28419.96,  872.04, 15759.96, 20.58,  1.,  1.),\n",
       "              (20434., 20., 163.76, 36192.76, 1260.24, 15758.76, 20.58, 71., 71.),\n",
       "              (17248., 20., 131.9 , 33007.56, 1082.44, 15759.56, 20.58, 10., 10.),\n",
       "              (17248., 20., 131.9 , 33007.16,  971.84, 15759.16, 20.58,  1.,  1.)],\n",
       "             dtype=[('qpu_sampling_time', '<f8'), ('qpu_anneal_time_per_sample', '<f8'), ('qpu_readout_time_per_sample', '<f8'), ('qpu_access_time', '<f8'), ('qpu_access_overhead_time', '<f8'), ('qpu_programming_time', '<f8'), ('qpu_delay_time_per_sample', '<f8'), ('post_processing_overhead_time', '<f8'), ('total_post_processing_time', '<f8')]),\n",
       "       array([(24068., 20., 200.1 , 39829.96, 1457.04, 15761.96, 20.58,  59.,  59.),\n",
       "              (13628., 20.,  95.7 , 29387.16, 1218.84, 15759.16, 20.58,   1.,   1.),\n",
       "              (20818., 20., 167.6 , 36577.96, 1420.04, 15759.96, 20.58,   1.,   1.),\n",
       "              (12676., 20.,  86.18, 28435.16,  983.84, 15759.16, 20.58,   1.,   1.),\n",
       "              (19906., 20., 158.48, 35665.56, 1185.44, 15759.56, 20.58,   1.,   1.),\n",
       "              (20296., 20., 162.38, 36055.96,  990.04, 15759.96, 20.58,  48.,  48.),\n",
       "              (12660., 20.,  86.02, 28419.96, 1022.04, 15759.96, 20.58,  14.,  14.),\n",
       "              (12500., 20.,  84.42, 28259.96,  751.04, 15759.96, 20.58,   1.,   1.),\n",
       "              ( 6604., 20.,  25.46, 22363.56,  972.44, 15759.56, 20.58,   1.,   1.),\n",
       "              (17248., 20., 131.9 , 33007.16, 1522.84, 15759.16, 20.58,   1.,   1.),\n",
       "              (13628., 20.,  95.7 , 29386.36, 1598.64, 15758.36, 20.58,  34.,  34.),\n",
       "              (20296., 20., 162.38, 36055.16, 1369.84, 15759.16, 20.58,   1.,   1.),\n",
       "              (12660., 20.,  86.02, 28419.56, 1146.44, 15759.56, 20.58,  38.,  38.),\n",
       "              (19816., 20., 157.58, 35575.56, 1143.44, 15759.56, 20.58, 111., 111.),\n",
       "              (20818., 20., 167.6 , 36577.16, 1049.84, 15759.16, 20.58,  62.,  62.),\n",
       "              (17362., 20., 133.04, 33121.56, 1432.44, 15759.56, 20.58,   1.,   1.),\n",
       "              (17248., 20., 131.9 , 33007.56, 1965.44, 15759.56, 20.58,   1.,   1.),\n",
       "              (17248., 20., 131.9 , 33007.16, 2110.84, 15759.16, 20.58, 122., 122.)],\n",
       "             dtype=[('qpu_sampling_time', '<f8'), ('qpu_anneal_time_per_sample', '<f8'), ('qpu_readout_time_per_sample', '<f8'), ('qpu_access_time', '<f8'), ('qpu_access_overhead_time', '<f8'), ('qpu_programming_time', '<f8'), ('qpu_delay_time_per_sample', '<f8'), ('post_processing_overhead_time', '<f8'), ('total_post_processing_time', '<f8')])],\n",
       "      dtype=object)"
      ]
     },
     "execution_count": 283,
     "metadata": {},
     "output_type": "execute_result"
    }
   ],
   "source": [
    "np.array([np.concatenate([np.array([r], dtype=dtype) for r in [si.dwave_sampleset_info for si in res[run].sampleset_infos]]) for run in range(len(res))], dtype=object)"
   ]
  },
  {
   "cell_type": "code",
   "execution_count": 288,
   "id": "560372bc",
   "metadata": {},
   "outputs": [
    {
     "data": {
      "text/plain": [
       "array([rec.array([(24068., 20., 200.1 , 39829.96, 1711.04, 15761.96, 20.58, 16., 16.),\n",
       "                  (13628., 20.,  95.7 , 29387.16, 1391.84, 15759.16, 20.58, 88., 88.),\n",
       "                  (20728., 20., 166.7 , 36487.96, 1506.04, 15759.96, 20.58,  1.,  1.),\n",
       "                  (12676., 20.,  86.18, 28435.16, 2997.84, 15759.16, 20.58,  1.,  1.),\n",
       "                  (19816., 20., 157.58, 35575.56, 1313.44, 15759.56, 20.58,  1.,  1.),\n",
       "                  (20296., 20., 162.38, 36055.16, 1495.84, 15759.16, 20.58,  1.,  1.),\n",
       "                  (12660., 20.,  86.02, 28419.96, 1273.04, 15759.96, 20.58, 34., 34.),\n",
       "                  (12500., 20.,  84.42, 28259.96, 1336.04, 15759.96, 20.58,  1.,  1.),\n",
       "                  (17362., 20., 133.04, 33121.16,  856.84, 15759.16, 20.58,  1.,  1.),\n",
       "                  (13628., 20.,  95.7 , 29385.96,  819.04, 15757.96, 20.58, 23., 23.),\n",
       "                  (20434., 20., 163.76, 36193.16, 1059.84, 15759.16, 20.58,  1.,  1.),\n",
       "                  (17362., 20., 133.04, 33121.56, 1002.44, 15759.56, 20.58,  1.,  1.),\n",
       "                  (12660., 20.,  86.02, 28419.96,  872.04, 15759.96, 20.58,  1.,  1.),\n",
       "                  (20434., 20., 163.76, 36192.76, 1260.24, 15758.76, 20.58, 71., 71.),\n",
       "                  (17248., 20., 131.9 , 33007.56, 1082.44, 15759.56, 20.58, 10., 10.),\n",
       "                  (17248., 20., 131.9 , 33007.16,  971.84, 15759.16, 20.58,  1.,  1.)],\n",
       "                 dtype=[('qpu_sampling_time', '<f8'), ('qpu_anneal_time_per_sample', '<f8'), ('qpu_readout_time_per_sample', '<f8'), ('qpu_access_time', '<f8'), ('qpu_access_overhead_time', '<f8'), ('qpu_programming_time', '<f8'), ('qpu_delay_time_per_sample', '<f8'), ('post_processing_overhead_time', '<f8'), ('total_post_processing_time', '<f8')]),\n",
       "       rec.array([(24068., 20., 200.1 , 39829.96, 1457.04, 15761.96, 20.58,  59.,  59.),\n",
       "                  (13628., 20.,  95.7 , 29387.16, 1218.84, 15759.16, 20.58,   1.,   1.),\n",
       "                  (20818., 20., 167.6 , 36577.96, 1420.04, 15759.96, 20.58,   1.,   1.),\n",
       "                  (12676., 20.,  86.18, 28435.16,  983.84, 15759.16, 20.58,   1.,   1.),\n",
       "                  (19906., 20., 158.48, 35665.56, 1185.44, 15759.56, 20.58,   1.,   1.),\n",
       "                  (20296., 20., 162.38, 36055.96,  990.04, 15759.96, 20.58,  48.,  48.),\n",
       "                  (12660., 20.,  86.02, 28419.96, 1022.04, 15759.96, 20.58,  14.,  14.),\n",
       "                  (12500., 20.,  84.42, 28259.96,  751.04, 15759.96, 20.58,   1.,   1.),\n",
       "                  ( 6604., 20.,  25.46, 22363.56,  972.44, 15759.56, 20.58,   1.,   1.),\n",
       "                  (17248., 20., 131.9 , 33007.16, 1522.84, 15759.16, 20.58,   1.,   1.),\n",
       "                  (13628., 20.,  95.7 , 29386.36, 1598.64, 15758.36, 20.58,  34.,  34.),\n",
       "                  (20296., 20., 162.38, 36055.16, 1369.84, 15759.16, 20.58,   1.,   1.),\n",
       "                  (12660., 20.,  86.02, 28419.56, 1146.44, 15759.56, 20.58,  38.,  38.),\n",
       "                  (19816., 20., 157.58, 35575.56, 1143.44, 15759.56, 20.58, 111., 111.),\n",
       "                  (20818., 20., 167.6 , 36577.16, 1049.84, 15759.16, 20.58,  62.,  62.),\n",
       "                  (17362., 20., 133.04, 33121.56, 1432.44, 15759.56, 20.58,   1.,   1.),\n",
       "                  (17248., 20., 131.9 , 33007.56, 1965.44, 15759.56, 20.58,   1.,   1.),\n",
       "                  (17248., 20., 131.9 , 33007.16, 2110.84, 15759.16, 20.58, 122., 122.)],\n",
       "                 dtype=[('qpu_sampling_time', '<f8'), ('qpu_anneal_time_per_sample', '<f8'), ('qpu_readout_time_per_sample', '<f8'), ('qpu_access_time', '<f8'), ('qpu_access_overhead_time', '<f8'), ('qpu_programming_time', '<f8'), ('qpu_delay_time_per_sample', '<f8'), ('post_processing_overhead_time', '<f8'), ('total_post_processing_time', '<f8')])],\n",
       "      dtype=object)"
      ]
     },
     "execution_count": 288,
     "metadata": {},
     "output_type": "execute_result"
    }
   ],
   "source": [
    "dwave_sampleset_infos = np.array([np.concatenate([np.array([r], dtype=dtype) for r in [si.dwave_sampleset_info for si in res[run].sampleset_infos]]).view(np.recarray) for run in range(len(res))], dtype=object)\n",
    "dwave_sampleset_infos"
   ]
  },
  {
   "cell_type": "code",
   "execution_count": 268,
   "id": "c95a2d30",
   "metadata": {},
   "outputs": [
    {
     "ename": "ValueError",
     "evalue": "mismatch in size of old and new data-descriptor",
     "output_type": "error",
     "traceback": [
      "\u001b[1;31m---------------------------------------------------------------------------\u001b[0m",
      "\u001b[1;31mValueError\u001b[0m                                Traceback (most recent call last)",
      "File \u001b[1;32mc:\\Users\\basia\\anaconda3\\envs\\qomm_env\\lib\\site-packages\\IPython\\core\\formatters.py:708\u001b[0m, in \u001b[0;36mPlainTextFormatter.__call__\u001b[1;34m(self, obj)\u001b[0m\n\u001b[0;32m    701\u001b[0m stream \u001b[38;5;241m=\u001b[39m StringIO()\n\u001b[0;32m    702\u001b[0m printer \u001b[38;5;241m=\u001b[39m pretty\u001b[38;5;241m.\u001b[39mRepresentationPrinter(stream, \u001b[38;5;28mself\u001b[39m\u001b[38;5;241m.\u001b[39mverbose,\n\u001b[0;32m    703\u001b[0m     \u001b[38;5;28mself\u001b[39m\u001b[38;5;241m.\u001b[39mmax_width, \u001b[38;5;28mself\u001b[39m\u001b[38;5;241m.\u001b[39mnewline,\n\u001b[0;32m    704\u001b[0m     max_seq_length\u001b[38;5;241m=\u001b[39m\u001b[38;5;28mself\u001b[39m\u001b[38;5;241m.\u001b[39mmax_seq_length,\n\u001b[0;32m    705\u001b[0m     singleton_pprinters\u001b[38;5;241m=\u001b[39m\u001b[38;5;28mself\u001b[39m\u001b[38;5;241m.\u001b[39msingleton_printers,\n\u001b[0;32m    706\u001b[0m     type_pprinters\u001b[38;5;241m=\u001b[39m\u001b[38;5;28mself\u001b[39m\u001b[38;5;241m.\u001b[39mtype_printers,\n\u001b[0;32m    707\u001b[0m     deferred_pprinters\u001b[38;5;241m=\u001b[39m\u001b[38;5;28mself\u001b[39m\u001b[38;5;241m.\u001b[39mdeferred_printers)\n\u001b[1;32m--> 708\u001b[0m \u001b[43mprinter\u001b[49m\u001b[38;5;241;43m.\u001b[39;49m\u001b[43mpretty\u001b[49m\u001b[43m(\u001b[49m\u001b[43mobj\u001b[49m\u001b[43m)\u001b[49m\n\u001b[0;32m    709\u001b[0m printer\u001b[38;5;241m.\u001b[39mflush()\n\u001b[0;32m    710\u001b[0m \u001b[38;5;28;01mreturn\u001b[39;00m stream\u001b[38;5;241m.\u001b[39mgetvalue()\n",
      "File \u001b[1;32mc:\\Users\\basia\\anaconda3\\envs\\qomm_env\\lib\\site-packages\\IPython\\lib\\pretty.py:410\u001b[0m, in \u001b[0;36mRepresentationPrinter.pretty\u001b[1;34m(self, obj)\u001b[0m\n\u001b[0;32m    407\u001b[0m                         \u001b[38;5;28;01mreturn\u001b[39;00m meth(obj, \u001b[38;5;28mself\u001b[39m, cycle)\n\u001b[0;32m    408\u001b[0m                 \u001b[38;5;28;01mif\u001b[39;00m \u001b[38;5;28mcls\u001b[39m \u001b[38;5;129;01mis\u001b[39;00m \u001b[38;5;129;01mnot\u001b[39;00m \u001b[38;5;28mobject\u001b[39m \\\n\u001b[0;32m    409\u001b[0m                         \u001b[38;5;129;01mand\u001b[39;00m \u001b[38;5;28mcallable\u001b[39m(\u001b[38;5;28mcls\u001b[39m\u001b[38;5;241m.\u001b[39m\u001b[38;5;18m__dict__\u001b[39m\u001b[38;5;241m.\u001b[39mget(\u001b[38;5;124m'\u001b[39m\u001b[38;5;124m__repr__\u001b[39m\u001b[38;5;124m'\u001b[39m)):\n\u001b[1;32m--> 410\u001b[0m                     \u001b[38;5;28;01mreturn\u001b[39;00m \u001b[43m_repr_pprint\u001b[49m\u001b[43m(\u001b[49m\u001b[43mobj\u001b[49m\u001b[43m,\u001b[49m\u001b[43m \u001b[49m\u001b[38;5;28;43mself\u001b[39;49m\u001b[43m,\u001b[49m\u001b[43m \u001b[49m\u001b[43mcycle\u001b[49m\u001b[43m)\u001b[49m\n\u001b[0;32m    412\u001b[0m     \u001b[38;5;28;01mreturn\u001b[39;00m _default_pprint(obj, \u001b[38;5;28mself\u001b[39m, cycle)\n\u001b[0;32m    413\u001b[0m \u001b[38;5;28;01mfinally\u001b[39;00m:\n",
      "File \u001b[1;32mc:\\Users\\basia\\anaconda3\\envs\\qomm_env\\lib\\site-packages\\IPython\\lib\\pretty.py:778\u001b[0m, in \u001b[0;36m_repr_pprint\u001b[1;34m(obj, p, cycle)\u001b[0m\n\u001b[0;32m    776\u001b[0m \u001b[38;5;250m\u001b[39m\u001b[38;5;124;03m\"\"\"A pprint that just redirects to the normal repr function.\"\"\"\u001b[39;00m\n\u001b[0;32m    777\u001b[0m \u001b[38;5;66;03m# Find newlines and replace them with p.break_()\u001b[39;00m\n\u001b[1;32m--> 778\u001b[0m output \u001b[38;5;241m=\u001b[39m \u001b[38;5;28;43mrepr\u001b[39;49m\u001b[43m(\u001b[49m\u001b[43mobj\u001b[49m\u001b[43m)\u001b[49m\n\u001b[0;32m    779\u001b[0m lines \u001b[38;5;241m=\u001b[39m output\u001b[38;5;241m.\u001b[39msplitlines()\n\u001b[0;32m    780\u001b[0m \u001b[38;5;28;01mwith\u001b[39;00m p\u001b[38;5;241m.\u001b[39mgroup():\n",
      "File \u001b[1;32mc:\\Users\\basia\\anaconda3\\envs\\qomm_env\\lib\\site-packages\\numpy\\core\\records.py:547\u001b[0m, in \u001b[0;36mrecarray.__repr__\u001b[1;34m(self)\u001b[0m\n\u001b[0;32m    545\u001b[0m \u001b[38;5;66;03m# get data/shape string. logic taken from numeric.array_repr\u001b[39;00m\n\u001b[0;32m    546\u001b[0m \u001b[38;5;28;01mif\u001b[39;00m \u001b[38;5;28mself\u001b[39m\u001b[38;5;241m.\u001b[39msize \u001b[38;5;241m>\u001b[39m \u001b[38;5;241m0\u001b[39m \u001b[38;5;129;01mor\u001b[39;00m \u001b[38;5;28mself\u001b[39m\u001b[38;5;241m.\u001b[39mshape \u001b[38;5;241m==\u001b[39m (\u001b[38;5;241m0\u001b[39m,):\n\u001b[1;32m--> 547\u001b[0m     lst \u001b[38;5;241m=\u001b[39m \u001b[43msb\u001b[49m\u001b[38;5;241;43m.\u001b[39;49m\u001b[43marray2string\u001b[49m\u001b[43m(\u001b[49m\n\u001b[0;32m    548\u001b[0m \u001b[43m        \u001b[49m\u001b[38;5;28;43mself\u001b[39;49m\u001b[43m,\u001b[49m\u001b[43m \u001b[49m\u001b[43mseparator\u001b[49m\u001b[38;5;241;43m=\u001b[39;49m\u001b[38;5;124;43m'\u001b[39;49m\u001b[38;5;124;43m, \u001b[39;49m\u001b[38;5;124;43m'\u001b[39;49m\u001b[43m,\u001b[49m\u001b[43m \u001b[49m\u001b[43mprefix\u001b[49m\u001b[38;5;241;43m=\u001b[39;49m\u001b[43mprefix\u001b[49m\u001b[43m,\u001b[49m\u001b[43m \u001b[49m\u001b[43msuffix\u001b[49m\u001b[38;5;241;43m=\u001b[39;49m\u001b[38;5;124;43m'\u001b[39;49m\u001b[38;5;124;43m,\u001b[39;49m\u001b[38;5;124;43m'\u001b[39;49m\u001b[43m)\u001b[49m\n\u001b[0;32m    549\u001b[0m \u001b[38;5;28;01melse\u001b[39;00m:\n\u001b[0;32m    550\u001b[0m     \u001b[38;5;66;03m# show zero-length shape unless it is (0,)\u001b[39;00m\n\u001b[0;32m    551\u001b[0m     lst \u001b[38;5;241m=\u001b[39m \u001b[38;5;124m\"\u001b[39m\u001b[38;5;124m[], shape=\u001b[39m\u001b[38;5;132;01m%s\u001b[39;00m\u001b[38;5;124m\"\u001b[39m \u001b[38;5;241m%\u001b[39m (\u001b[38;5;28mrepr\u001b[39m(\u001b[38;5;28mself\u001b[39m\u001b[38;5;241m.\u001b[39mshape),)\n",
      "File \u001b[1;32m<__array_function__ internals>:180\u001b[0m, in \u001b[0;36marray2string\u001b[1;34m(*args, **kwargs)\u001b[0m\n",
      "File \u001b[1;32mc:\\Users\\basia\\anaconda3\\envs\\qomm_env\\lib\\site-packages\\numpy\\core\\arrayprint.py:736\u001b[0m, in \u001b[0;36marray2string\u001b[1;34m(a, max_line_width, precision, suppress_small, separator, prefix, style, formatter, threshold, edgeitems, sign, floatmode, suffix, legacy)\u001b[0m\n\u001b[0;32m    733\u001b[0m \u001b[38;5;28;01mif\u001b[39;00m a\u001b[38;5;241m.\u001b[39msize \u001b[38;5;241m==\u001b[39m \u001b[38;5;241m0\u001b[39m:\n\u001b[0;32m    734\u001b[0m     \u001b[38;5;28;01mreturn\u001b[39;00m \u001b[38;5;124m\"\u001b[39m\u001b[38;5;124m[]\u001b[39m\u001b[38;5;124m\"\u001b[39m\n\u001b[1;32m--> 736\u001b[0m \u001b[38;5;28;01mreturn\u001b[39;00m \u001b[43m_array2string\u001b[49m\u001b[43m(\u001b[49m\u001b[43ma\u001b[49m\u001b[43m,\u001b[49m\u001b[43m \u001b[49m\u001b[43moptions\u001b[49m\u001b[43m,\u001b[49m\u001b[43m \u001b[49m\u001b[43mseparator\u001b[49m\u001b[43m,\u001b[49m\u001b[43m \u001b[49m\u001b[43mprefix\u001b[49m\u001b[43m)\u001b[49m\n",
      "File \u001b[1;32mc:\\Users\\basia\\anaconda3\\envs\\qomm_env\\lib\\site-packages\\numpy\\core\\arrayprint.py:513\u001b[0m, in \u001b[0;36m_recursive_guard.<locals>.decorating_function.<locals>.wrapper\u001b[1;34m(self, *args, **kwargs)\u001b[0m\n\u001b[0;32m    511\u001b[0m repr_running\u001b[38;5;241m.\u001b[39madd(key)\n\u001b[0;32m    512\u001b[0m \u001b[38;5;28;01mtry\u001b[39;00m:\n\u001b[1;32m--> 513\u001b[0m     \u001b[38;5;28;01mreturn\u001b[39;00m f(\u001b[38;5;28mself\u001b[39m, \u001b[38;5;241m*\u001b[39margs, \u001b[38;5;241m*\u001b[39m\u001b[38;5;241m*\u001b[39mkwargs)\n\u001b[0;32m    514\u001b[0m \u001b[38;5;28;01mfinally\u001b[39;00m:\n\u001b[0;32m    515\u001b[0m     repr_running\u001b[38;5;241m.\u001b[39mdiscard(key)\n",
      "File \u001b[1;32mc:\\Users\\basia\\anaconda3\\envs\\qomm_env\\lib\\site-packages\\numpy\\core\\arrayprint.py:546\u001b[0m, in \u001b[0;36m_array2string\u001b[1;34m(a, options, separator, prefix)\u001b[0m\n\u001b[0;32m    543\u001b[0m \u001b[38;5;66;03m# skip over array(\u001b[39;00m\n\u001b[0;32m    544\u001b[0m next_line_prefix \u001b[38;5;241m+\u001b[39m\u001b[38;5;241m=\u001b[39m \u001b[38;5;124m\"\u001b[39m\u001b[38;5;124m \u001b[39m\u001b[38;5;124m\"\u001b[39m\u001b[38;5;241m*\u001b[39m\u001b[38;5;28mlen\u001b[39m(prefix)\n\u001b[1;32m--> 546\u001b[0m lst \u001b[38;5;241m=\u001b[39m \u001b[43m_formatArray\u001b[49m\u001b[43m(\u001b[49m\u001b[43ma\u001b[49m\u001b[43m,\u001b[49m\u001b[43m \u001b[49m\u001b[43mformat_function\u001b[49m\u001b[43m,\u001b[49m\u001b[43m \u001b[49m\u001b[43moptions\u001b[49m\u001b[43m[\u001b[49m\u001b[38;5;124;43m'\u001b[39;49m\u001b[38;5;124;43mlinewidth\u001b[39;49m\u001b[38;5;124;43m'\u001b[39;49m\u001b[43m]\u001b[49m\u001b[43m,\u001b[49m\n\u001b[0;32m    547\u001b[0m \u001b[43m                   \u001b[49m\u001b[43mnext_line_prefix\u001b[49m\u001b[43m,\u001b[49m\u001b[43m \u001b[49m\u001b[43mseparator\u001b[49m\u001b[43m,\u001b[49m\u001b[43m \u001b[49m\u001b[43moptions\u001b[49m\u001b[43m[\u001b[49m\u001b[38;5;124;43m'\u001b[39;49m\u001b[38;5;124;43medgeitems\u001b[39;49m\u001b[38;5;124;43m'\u001b[39;49m\u001b[43m]\u001b[49m\u001b[43m,\u001b[49m\n\u001b[0;32m    548\u001b[0m \u001b[43m                   \u001b[49m\u001b[43msummary_insert\u001b[49m\u001b[43m,\u001b[49m\u001b[43m \u001b[49m\u001b[43moptions\u001b[49m\u001b[43m[\u001b[49m\u001b[38;5;124;43m'\u001b[39;49m\u001b[38;5;124;43mlegacy\u001b[39;49m\u001b[38;5;124;43m'\u001b[39;49m\u001b[43m]\u001b[49m\u001b[43m)\u001b[49m\n\u001b[0;32m    549\u001b[0m \u001b[38;5;28;01mreturn\u001b[39;00m lst\n",
      "File \u001b[1;32mc:\\Users\\basia\\anaconda3\\envs\\qomm_env\\lib\\site-packages\\numpy\\core\\arrayprint.py:889\u001b[0m, in \u001b[0;36m_formatArray\u001b[1;34m(a, format_function, line_width, next_line_prefix, separator, edge_items, summary_insert, legacy)\u001b[0m\n\u001b[0;32m    885\u001b[0m     \u001b[38;5;28;01mreturn\u001b[39;00m s\n\u001b[0;32m    887\u001b[0m \u001b[38;5;28;01mtry\u001b[39;00m:\n\u001b[0;32m    888\u001b[0m     \u001b[38;5;66;03m# invoke the recursive part with an initial index and prefix\u001b[39;00m\n\u001b[1;32m--> 889\u001b[0m     \u001b[38;5;28;01mreturn\u001b[39;00m \u001b[43mrecurser\u001b[49m\u001b[43m(\u001b[49m\u001b[43mindex\u001b[49m\u001b[38;5;241;43m=\u001b[39;49m\u001b[43m(\u001b[49m\u001b[43m)\u001b[49m\u001b[43m,\u001b[49m\n\u001b[0;32m    890\u001b[0m \u001b[43m                    \u001b[49m\u001b[43mhanging_indent\u001b[49m\u001b[38;5;241;43m=\u001b[39;49m\u001b[43mnext_line_prefix\u001b[49m\u001b[43m,\u001b[49m\n\u001b[0;32m    891\u001b[0m \u001b[43m                    \u001b[49m\u001b[43mcurr_width\u001b[49m\u001b[38;5;241;43m=\u001b[39;49m\u001b[43mline_width\u001b[49m\u001b[43m)\u001b[49m\n\u001b[0;32m    892\u001b[0m \u001b[38;5;28;01mfinally\u001b[39;00m:\n\u001b[0;32m    893\u001b[0m     \u001b[38;5;66;03m# recursive closures have a cyclic reference to themselves, which\u001b[39;00m\n\u001b[0;32m    894\u001b[0m     \u001b[38;5;66;03m# requires gc to collect (gh-10620). To avoid this problem, for\u001b[39;00m\n\u001b[0;32m    895\u001b[0m     \u001b[38;5;66;03m# performance and PyPy friendliness, we break the cycle:\u001b[39;00m\n\u001b[0;32m    896\u001b[0m     recurser \u001b[38;5;241m=\u001b[39m \u001b[38;5;28;01mNone\u001b[39;00m\n",
      "File \u001b[1;32mc:\\Users\\basia\\anaconda3\\envs\\qomm_env\\lib\\site-packages\\numpy\\core\\arrayprint.py:845\u001b[0m, in \u001b[0;36m_formatArray.<locals>.recurser\u001b[1;34m(index, hanging_indent, curr_width)\u001b[0m\n\u001b[0;32m    842\u001b[0m         line \u001b[38;5;241m+\u001b[39m\u001b[38;5;241m=\u001b[39m separator\n\u001b[0;32m    844\u001b[0m \u001b[38;5;28;01mfor\u001b[39;00m i \u001b[38;5;129;01min\u001b[39;00m \u001b[38;5;28mrange\u001b[39m(trailing_items, \u001b[38;5;241m1\u001b[39m, \u001b[38;5;241m-\u001b[39m\u001b[38;5;241m1\u001b[39m):\n\u001b[1;32m--> 845\u001b[0m     word \u001b[38;5;241m=\u001b[39m \u001b[43mrecurser\u001b[49m\u001b[43m(\u001b[49m\u001b[43mindex\u001b[49m\u001b[43m \u001b[49m\u001b[38;5;241;43m+\u001b[39;49m\u001b[43m \u001b[49m\u001b[43m(\u001b[49m\u001b[38;5;241;43m-\u001b[39;49m\u001b[43mi\u001b[49m\u001b[43m,\u001b[49m\u001b[43m)\u001b[49m\u001b[43m,\u001b[49m\u001b[43m \u001b[49m\u001b[43mnext_hanging_indent\u001b[49m\u001b[43m,\u001b[49m\u001b[43m \u001b[49m\u001b[43mnext_width\u001b[49m\u001b[43m)\u001b[49m\n\u001b[0;32m    846\u001b[0m     s, line \u001b[38;5;241m=\u001b[39m _extendLine_pretty(\n\u001b[0;32m    847\u001b[0m         s, line, word, elem_width, hanging_indent, legacy)\n\u001b[0;32m    848\u001b[0m     line \u001b[38;5;241m+\u001b[39m\u001b[38;5;241m=\u001b[39m separator\n",
      "File \u001b[1;32mc:\\Users\\basia\\anaconda3\\envs\\qomm_env\\lib\\site-packages\\numpy\\core\\arrayprint.py:799\u001b[0m, in \u001b[0;36m_formatArray.<locals>.recurser\u001b[1;34m(index, hanging_indent, curr_width)\u001b[0m\n\u001b[0;32m    796\u001b[0m axes_left \u001b[38;5;241m=\u001b[39m a\u001b[38;5;241m.\u001b[39mndim \u001b[38;5;241m-\u001b[39m axis\n\u001b[0;32m    798\u001b[0m \u001b[38;5;28;01mif\u001b[39;00m axes_left \u001b[38;5;241m==\u001b[39m \u001b[38;5;241m0\u001b[39m:\n\u001b[1;32m--> 799\u001b[0m     \u001b[38;5;28;01mreturn\u001b[39;00m format_function(\u001b[43ma\u001b[49m\u001b[43m[\u001b[49m\u001b[43mindex\u001b[49m\u001b[43m]\u001b[49m)\n\u001b[0;32m    801\u001b[0m \u001b[38;5;66;03m# when recursing, add a space to align with the [ added, and reduce the\u001b[39;00m\n\u001b[0;32m    802\u001b[0m \u001b[38;5;66;03m# length of the line by 1\u001b[39;00m\n\u001b[0;32m    803\u001b[0m next_hanging_indent \u001b[38;5;241m=\u001b[39m hanging_indent \u001b[38;5;241m+\u001b[39m \u001b[38;5;124m'\u001b[39m\u001b[38;5;124m \u001b[39m\u001b[38;5;124m'\u001b[39m\n",
      "File \u001b[1;32mc:\\Users\\basia\\anaconda3\\envs\\qomm_env\\lib\\site-packages\\numpy\\core\\records.py:517\u001b[0m, in \u001b[0;36mrecarray.__getitem__\u001b[1;34m(self, indx)\u001b[0m\n\u001b[0;32m    515\u001b[0m     obj \u001b[38;5;241m=\u001b[39m obj\u001b[38;5;241m.\u001b[39mview(\u001b[38;5;28mtype\u001b[39m(\u001b[38;5;28mself\u001b[39m))\n\u001b[0;32m    516\u001b[0m     \u001b[38;5;28;01mif\u001b[39;00m \u001b[38;5;28missubclass\u001b[39m(obj\u001b[38;5;241m.\u001b[39mdtype\u001b[38;5;241m.\u001b[39mtype, nt\u001b[38;5;241m.\u001b[39mvoid):\n\u001b[1;32m--> 517\u001b[0m         \u001b[38;5;28;01mreturn\u001b[39;00m \u001b[43mobj\u001b[49m\u001b[38;5;241;43m.\u001b[39;49m\u001b[43mview\u001b[49m\u001b[43m(\u001b[49m\u001b[43mdtype\u001b[49m\u001b[38;5;241;43m=\u001b[39;49m\u001b[43m(\u001b[49m\u001b[38;5;28;43mself\u001b[39;49m\u001b[38;5;241;43m.\u001b[39;49m\u001b[43mdtype\u001b[49m\u001b[38;5;241;43m.\u001b[39;49m\u001b[43mtype\u001b[49m\u001b[43m,\u001b[49m\u001b[43m \u001b[49m\u001b[43mobj\u001b[49m\u001b[38;5;241;43m.\u001b[39;49m\u001b[43mdtype\u001b[49m\u001b[43m)\u001b[49m\u001b[43m)\u001b[49m\n\u001b[0;32m    518\u001b[0m     \u001b[38;5;28;01mreturn\u001b[39;00m obj\n\u001b[0;32m    519\u001b[0m \u001b[38;5;28;01melse\u001b[39;00m:\n",
      "\u001b[1;31mValueError\u001b[0m: mismatch in size of old and new data-descriptor"
     ]
    }
   ],
   "source": [
    "dwave_sampleset_infos"
   ]
  },
  {
   "cell_type": "code",
   "execution_count": 265,
   "id": "6f69fd87",
   "metadata": {},
   "outputs": [
    {
     "data": {
      "text/plain": [
       "array([(24068., 20., 200.1 , 39829.96, 1711.04, 15761.96, 20.58, 16., 16.),\n",
       "       (13628., 20.,  95.7 , 29387.16, 1391.84, 15759.16, 20.58, 88., 88.),\n",
       "       (20728., 20., 166.7 , 36487.96, 1506.04, 15759.96, 20.58,  1.,  1.),\n",
       "       (12676., 20.,  86.18, 28435.16, 2997.84, 15759.16, 20.58,  1.,  1.),\n",
       "       (19816., 20., 157.58, 35575.56, 1313.44, 15759.56, 20.58,  1.,  1.),\n",
       "       (20296., 20., 162.38, 36055.16, 1495.84, 15759.16, 20.58,  1.,  1.),\n",
       "       (12660., 20.,  86.02, 28419.96, 1273.04, 15759.96, 20.58, 34., 34.),\n",
       "       (12500., 20.,  84.42, 28259.96, 1336.04, 15759.96, 20.58,  1.,  1.),\n",
       "       (17362., 20., 133.04, 33121.16,  856.84, 15759.16, 20.58,  1.,  1.),\n",
       "       (13628., 20.,  95.7 , 29385.96,  819.04, 15757.96, 20.58, 23., 23.),\n",
       "       (20434., 20., 163.76, 36193.16, 1059.84, 15759.16, 20.58,  1.,  1.),\n",
       "       (17362., 20., 133.04, 33121.56, 1002.44, 15759.56, 20.58,  1.,  1.),\n",
       "       (12660., 20.,  86.02, 28419.96,  872.04, 15759.96, 20.58,  1.,  1.),\n",
       "       (20434., 20., 163.76, 36192.76, 1260.24, 15758.76, 20.58, 71., 71.),\n",
       "       (17248., 20., 131.9 , 33007.56, 1082.44, 15759.56, 20.58, 10., 10.),\n",
       "       (17248., 20., 131.9 , 33007.16,  971.84, 15759.16, 20.58,  1.,  1.)],\n",
       "      dtype=[('qpu_sampling_time', '<f8'), ('qpu_anneal_time_per_sample', '<f8'), ('qpu_readout_time_per_sample', '<f8'), ('qpu_access_time', '<f8'), ('qpu_access_overhead_time', '<f8'), ('qpu_programming_time', '<f8'), ('qpu_delay_time_per_sample', '<f8'), ('post_processing_overhead_time', '<f8'), ('total_post_processing_time', '<f8')])"
      ]
     },
     "execution_count": 265,
     "metadata": {},
     "output_type": "execute_result"
    }
   ],
   "source": [
    "np.concatenate([np.array([r], dtype=dtype) for r in [si.dwave_sampleset_info for si in res[0].sampleset_infos]])"
   ]
  },
  {
   "cell_type": "code",
   "execution_count": 251,
   "id": "ea5dba63",
   "metadata": {},
   "outputs": [
    {
     "data": {
      "text/plain": [
       "rec.array([(0.1773565, 0.0308321, 0.118257 ),\n",
       "           (0.3025325, 0.0566461, 0.1085171),\n",
       "           (0.21881  , 0.0315641, 0.0313734),\n",
       "           (0.2612034, 0.0210933, 0.0243663),\n",
       "           (0.2666434, 0.0260333, 0.0244937),\n",
       "           (0.235935 , 0.029578 , 0.0381151),\n",
       "           (0.2194602, 0.0326816, 0.0292636),\n",
       "           (0.2763517, 0.0358226, 0.0345125),\n",
       "           (0.2058751, 0.0260752, 0.025805 ),\n",
       "           (0.1838928, 0.0287553, 0.0464593),\n",
       "           (0.1727597, 0.0216226, 0.0276714),\n",
       "           (0.1815218, 0.0198324, 0.0204103),\n",
       "           (0.1741551, 0.0217112, 0.0206812),\n",
       "           (0.2542392, 0.037241 , 0.0455552),\n",
       "           (0.1697618, 0.0235122, 0.0260813),\n",
       "           (0.2310762, 0.0248809, 0.0225739)],\n",
       "          dtype=[('find_clique_embedding_time', '<f8'), ('fixed_embedding_composite_time', '<f8'), ('sample_time', '<f8')])"
      ]
     },
     "execution_count": 251,
     "metadata": {},
     "output_type": "execute_result"
    }
   ],
   "source": [
    "time_measurements = np.concatenate([np.array([r], dtype=dtype) for r in [si.time_measurements for si in res[0].sampleset_infos]])\n",
    "time_measurements = time_measurements.view(np.recarray)\n",
    "time_measurements"
   ]
  },
  {
   "cell_type": "code",
   "execution_count": 255,
   "id": "6d6a26b0",
   "metadata": {},
   "outputs": [
    {
     "data": {
      "text/plain": [
       "rec.array([(list([[0, 4, 17, 18, 19, 23, 29, 40, 42, 57, 71, 95], [1, 8, 12, 32, 38, 45, 47, 51, 55, 60, 61, 66, 74, 78, 93, 98], [24, 26, 28, 37, 59, 63, 86, 92], [68], [10, 13, 25, 27, 30, 31, 41, 48, 49, 64, 70, 82, 91], [2, 7, 11, 14, 15, 21, 34, 39, 44, 52, 62, 67, 73, 94, 99], [3, 5, 6, 50, 56, 65, 69, 76, 89, 90], [9, 16, 22, 35, 43, 72, 77, 79, 81, 84, 85, 96, 97], [20, 33, 36, 46, 53, 54, 58, 75, 80, 83, 87, 88]]), 0.7896133 , 83.32619762, list([[[0, 1, 2, 3, 4, 5, 6, 7, 8, 9, 10, 11, 12, 13, 14, 15, 16, 17, 18, 19, 20, 21, 22, 23, 24, 25, 26, 27, 28, 29, 30, 31, 32, 33, 34, 35, 36, 37, 38, 39, 40, 41, 42, 43, 44, 45, 46, 47, 48, 49, 50, 51, 52, 53, 54, 55, 56, 57, 58, 59, 60, 61, 62, 63, 64, 65, 66, 67, 68, 69, 70, 71, 72, 73, 74, 75, 76, 77, 78, 79, 80, 81, 82, 83, 84, 85, 86, 87, 88, 89, 90, 91, 92, 93, 94, 95, 96, 97, 98, 99]], [[0, 1, 4, 8, 10, 12, 13, 17, 18, 19, 23, 24, 25, 26, 27, 28, 29, 30, 31, 32, 37, 38, 40, 41, 42, 45, 47, 48, 49, 51, 55, 57, 59, 60, 61, 63, 64, 66, 68, 70, 71, 74, 78, 82, 86, 91, 92, 93, 95, 98], [2, 3, 5, 6, 7, 9, 11, 14, 15, 16, 20, 21, 22, 33, 34, 35, 36, 39, 43, 44, 46, 50, 52, 53, 54, 56, 58, 62, 65, 67, 69, 72, 73, 75, 76, 77, 79, 80, 81, 83, 84, 85, 87, 88, 89, 90, 94, 96, 97, 99]], [[0, 1, 4, 8, 12, 17, 18, 19, 23, 29, 32, 38, 40, 42, 45, 47, 51, 55, 57, 60, 61, 66, 71, 74, 78, 93, 95, 98], [10, 13, 24, 25, 26, 27, 28, 30, 31, 37, 41, 48, 49, 59, 63, 64, 68, 70, 82, 86, 91, 92], [2, 3, 5, 6, 7, 11, 14, 15, 21, 34, 39, 44, 50, 52, 56, 62, 65, 67, 69, 73, 76, 89, 90, 94, 99], [9, 16, 20, 22, 33, 35, 36, 43, 46, 53, 54, 58, 72, 75, 77, 79, 80, 81, 83, 84, 85, 87, 88, 96, 97]], [[0, 4, 17, 18, 19, 23, 29, 40, 42, 57, 71, 95], [1, 8, 12, 32, 38, 45, 47, 51, 55, 60, 61, 66, 74, 78, 93, 98], [24, 26, 28, 37, 59, 63, 68, 86, 92], [10, 13, 25, 27, 30, 31, 41, 48, 49, 64, 70, 82, 91], [2, 7, 11, 14, 15, 21, 34, 39, 44, 52, 62, 67, 73, 94, 99], [3, 5, 6, 50, 56, 65, 69, 76, 89, 90], [9, 16, 22, 35, 43, 72, 77, 79, 81, 84, 85, 96, 97], [20, 33, 36, 46, 53, 54, 58, 75, 80, 83, 87, 88]], [[0, 4, 17, 18, 19, 23, 29, 40, 42, 57, 71, 95], [1, 8, 12, 32, 38, 45, 47, 51, 55, 60, 61, 66, 74, 78, 93, 98], [24, 26, 28, 37, 59, 63, 86, 92], [68], [10, 13, 25, 27, 30, 31, 41, 48, 49, 64, 70, 82, 91], [2, 7, 11, 14, 15, 21, 34, 39, 44, 52, 62, 67, 73, 94, 99], [3, 5, 6, 50, 56, 65, 69, 76, 89, 90], [9, 16, 22, 35, 43, 72, 77, 79, 81, 84, 85, 96, 97], [20, 33, 36, 46, 53, 54, 58, 75, 80, 83, 87, 88]]]), list([0.0, 0.4797469645954495, 0.6967656361595754, 0.7888480767268646, 0.78961330476482]), list([SamplesetInfo(dwave_sampleset_info=rec.array((24068., 20., 200.1, 39829.96, 1711.04, 15761.96, 20.58, 16., 16.),\n",
       "                     dtype=[('qpu_sampling_time', '<f8'), ('qpu_anneal_time_per_sample', '<f8'), ('qpu_readout_time_per_sample', '<f8'), ('qpu_access_time', '<f8'), ('qpu_access_overhead_time', '<f8'), ('qpu_programming_time', '<f8'), ('qpu_delay_time_per_sample', '<f8'), ('post_processing_overhead_time', '<f8'), ('total_post_processing_time', '<f8')]), time_measurements=rec.array((0.1773565, 0.0308321, 0.118257),\n",
       "                     dtype=[('find_clique_embedding_time', '<f8'), ('fixed_embedding_composite_time', '<f8'), ('sample_time', '<f8')])), SamplesetInfo(dwave_sampleset_info=rec.array((13628., 20., 95.7, 29387.16, 1391.84, 15759.16, 20.58, 88., 88.),\n",
       "                     dtype=[('qpu_sampling_time', '<f8'), ('qpu_anneal_time_per_sample', '<f8'), ('qpu_readout_time_per_sample', '<f8'), ('qpu_access_time', '<f8'), ('qpu_access_overhead_time', '<f8'), ('qpu_programming_time', '<f8'), ('qpu_delay_time_per_sample', '<f8'), ('post_processing_overhead_time', '<f8'), ('total_post_processing_time', '<f8')]), time_measurements=rec.array((0.3025325, 0.0566461, 0.1085171),\n",
       "                     dtype=[('find_clique_embedding_time', '<f8'), ('fixed_embedding_composite_time', '<f8'), ('sample_time', '<f8')])), SamplesetInfo(dwave_sampleset_info=rec.array((20728., 20., 166.7, 36487.96, 1506.04, 15759.96, 20.58, 1., 1.),\n",
       "                     dtype=[('qpu_sampling_time', '<f8'), ('qpu_anneal_time_per_sample', '<f8'), ('qpu_readout_time_per_sample', '<f8'), ('qpu_access_time', '<f8'), ('qpu_access_overhead_time', '<f8'), ('qpu_programming_time', '<f8'), ('qpu_delay_time_per_sample', '<f8'), ('post_processing_overhead_time', '<f8'), ('total_post_processing_time', '<f8')]), time_measurements=rec.array((0.21881, 0.0315641, 0.0313734),\n",
       "                     dtype=[('find_clique_embedding_time', '<f8'), ('fixed_embedding_composite_time', '<f8'), ('sample_time', '<f8')])), SamplesetInfo(dwave_sampleset_info=rec.array((12676., 20., 86.18, 28435.16, 2997.84, 15759.16, 20.58, 1., 1.),\n",
       "                     dtype=[('qpu_sampling_time', '<f8'), ('qpu_anneal_time_per_sample', '<f8'), ('qpu_readout_time_per_sample', '<f8'), ('qpu_access_time', '<f8'), ('qpu_access_overhead_time', '<f8'), ('qpu_programming_time', '<f8'), ('qpu_delay_time_per_sample', '<f8'), ('post_processing_overhead_time', '<f8'), ('total_post_processing_time', '<f8')]), time_measurements=rec.array((0.2612034, 0.0210933, 0.0243663),\n",
       "                     dtype=[('find_clique_embedding_time', '<f8'), ('fixed_embedding_composite_time', '<f8'), ('sample_time', '<f8')])), SamplesetInfo(dwave_sampleset_info=rec.array((19816., 20., 157.58, 35575.56, 1313.44, 15759.56, 20.58, 1., 1.),\n",
       "                     dtype=[('qpu_sampling_time', '<f8'), ('qpu_anneal_time_per_sample', '<f8'), ('qpu_readout_time_per_sample', '<f8'), ('qpu_access_time', '<f8'), ('qpu_access_overhead_time', '<f8'), ('qpu_programming_time', '<f8'), ('qpu_delay_time_per_sample', '<f8'), ('post_processing_overhead_time', '<f8'), ('total_post_processing_time', '<f8')]), time_measurements=rec.array((0.2666434, 0.0260333, 0.0244937),\n",
       "                     dtype=[('find_clique_embedding_time', '<f8'), ('fixed_embedding_composite_time', '<f8'), ('sample_time', '<f8')])), SamplesetInfo(dwave_sampleset_info=rec.array((20296., 20., 162.38, 36055.16, 1495.84, 15759.16, 20.58, 1., 1.),\n",
       "                     dtype=[('qpu_sampling_time', '<f8'), ('qpu_anneal_time_per_sample', '<f8'), ('qpu_readout_time_per_sample', '<f8'), ('qpu_access_time', '<f8'), ('qpu_access_overhead_time', '<f8'), ('qpu_programming_time', '<f8'), ('qpu_delay_time_per_sample', '<f8'), ('post_processing_overhead_time', '<f8'), ('total_post_processing_time', '<f8')]), time_measurements=rec.array((0.235935, 0.029578, 0.0381151),\n",
       "                     dtype=[('find_clique_embedding_time', '<f8'), ('fixed_embedding_composite_time', '<f8'), ('sample_time', '<f8')])), SamplesetInfo(dwave_sampleset_info=rec.array((12660., 20., 86.02, 28419.96, 1273.04, 15759.96, 20.58, 34., 34.),\n",
       "                     dtype=[('qpu_sampling_time', '<f8'), ('qpu_anneal_time_per_sample', '<f8'), ('qpu_readout_time_per_sample', '<f8'), ('qpu_access_time', '<f8'), ('qpu_access_overhead_time', '<f8'), ('qpu_programming_time', '<f8'), ('qpu_delay_time_per_sample', '<f8'), ('total_post_processing_time', '<f8'), ('post_processing_overhead_time', '<f8')]), time_measurements=rec.array((0.2194602, 0.0326816, 0.0292636),\n",
       "                     dtype=[('find_clique_embedding_time', '<f8'), ('fixed_embedding_composite_time', '<f8'), ('sample_time', '<f8')])), SamplesetInfo(dwave_sampleset_info=rec.array((12500., 20., 84.42, 28259.96, 1336.04, 15759.96, 20.58, 1., 1.),\n",
       "                     dtype=[('qpu_sampling_time', '<f8'), ('qpu_anneal_time_per_sample', '<f8'), ('qpu_readout_time_per_sample', '<f8'), ('qpu_access_time', '<f8'), ('qpu_access_overhead_time', '<f8'), ('qpu_programming_time', '<f8'), ('qpu_delay_time_per_sample', '<f8'), ('total_post_processing_time', '<f8'), ('post_processing_overhead_time', '<f8')]), time_measurements=rec.array((0.2763517, 0.0358226, 0.0345125),\n",
       "                     dtype=[('find_clique_embedding_time', '<f8'), ('fixed_embedding_composite_time', '<f8'), ('sample_time', '<f8')])), SamplesetInfo(dwave_sampleset_info=rec.array((17362., 20., 133.04, 33121.16, 856.84, 15759.16, 20.58, 1., 1.),\n",
       "                     dtype=[('qpu_sampling_time', '<f8'), ('qpu_anneal_time_per_sample', '<f8'), ('qpu_readout_time_per_sample', '<f8'), ('qpu_access_time', '<f8'), ('qpu_access_overhead_time', '<f8'), ('qpu_programming_time', '<f8'), ('qpu_delay_time_per_sample', '<f8'), ('post_processing_overhead_time', '<f8'), ('total_post_processing_time', '<f8')]), time_measurements=rec.array((0.2058751, 0.0260752, 0.025805),\n",
       "                     dtype=[('find_clique_embedding_time', '<f8'), ('fixed_embedding_composite_time', '<f8'), ('sample_time', '<f8')])), SamplesetInfo(dwave_sampleset_info=rec.array((13628., 20., 95.7, 29385.96, 819.04, 15757.96, 20.58, 23., 23.),\n",
       "                     dtype=[('qpu_sampling_time', '<f8'), ('qpu_anneal_time_per_sample', '<f8'), ('qpu_readout_time_per_sample', '<f8'), ('qpu_access_time', '<f8'), ('qpu_access_overhead_time', '<f8'), ('qpu_programming_time', '<f8'), ('qpu_delay_time_per_sample', '<f8'), ('post_processing_overhead_time', '<f8'), ('total_post_processing_time', '<f8')]), time_measurements=rec.array((0.1838928, 0.0287553, 0.0464593),\n",
       "                     dtype=[('find_clique_embedding_time', '<f8'), ('fixed_embedding_composite_time', '<f8'), ('sample_time', '<f8')])), SamplesetInfo(dwave_sampleset_info=rec.array((20434., 20., 163.76, 36193.16, 1059.84, 15759.16, 20.58, 1., 1.),\n",
       "                     dtype=[('qpu_sampling_time', '<f8'), ('qpu_anneal_time_per_sample', '<f8'), ('qpu_readout_time_per_sample', '<f8'), ('qpu_access_time', '<f8'), ('qpu_access_overhead_time', '<f8'), ('qpu_programming_time', '<f8'), ('qpu_delay_time_per_sample', '<f8'), ('post_processing_overhead_time', '<f8'), ('total_post_processing_time', '<f8')]), time_measurements=rec.array((0.1727597, 0.0216226, 0.0276714),\n",
       "                     dtype=[('find_clique_embedding_time', '<f8'), ('fixed_embedding_composite_time', '<f8'), ('sample_time', '<f8')])), SamplesetInfo(dwave_sampleset_info=rec.array((17362., 20., 133.04, 33121.56, 1002.44, 15759.56, 20.58, 1., 1.),\n",
       "                     dtype=[('qpu_sampling_time', '<f8'), ('qpu_anneal_time_per_sample', '<f8'), ('qpu_readout_time_per_sample', '<f8'), ('qpu_access_time', '<f8'), ('qpu_access_overhead_time', '<f8'), ('qpu_programming_time', '<f8'), ('qpu_delay_time_per_sample', '<f8'), ('post_processing_overhead_time', '<f8'), ('total_post_processing_time', '<f8')]), time_measurements=rec.array((0.1815218, 0.0198324, 0.0204103),\n",
       "                     dtype=[('find_clique_embedding_time', '<f8'), ('fixed_embedding_composite_time', '<f8'), ('sample_time', '<f8')])), SamplesetInfo(dwave_sampleset_info=rec.array((12660., 20., 86.02, 28419.96, 872.04, 15759.96, 20.58, 1., 1.),\n",
       "                     dtype=[('qpu_sampling_time', '<f8'), ('qpu_anneal_time_per_sample', '<f8'), ('qpu_readout_time_per_sample', '<f8'), ('qpu_access_time', '<f8'), ('qpu_access_overhead_time', '<f8'), ('qpu_programming_time', '<f8'), ('qpu_delay_time_per_sample', '<f8'), ('post_processing_overhead_time', '<f8'), ('total_post_processing_time', '<f8')]), time_measurements=rec.array((0.1741551, 0.0217112, 0.0206812),\n",
       "                     dtype=[('find_clique_embedding_time', '<f8'), ('fixed_embedding_composite_time', '<f8'), ('sample_time', '<f8')])), SamplesetInfo(dwave_sampleset_info=rec.array((20434., 20., 163.76, 36192.76, 1260.24, 15758.76, 20.58, 71., 71.),\n",
       "                     dtype=[('qpu_sampling_time', '<f8'), ('qpu_anneal_time_per_sample', '<f8'), ('qpu_readout_time_per_sample', '<f8'), ('qpu_access_time', '<f8'), ('qpu_access_overhead_time', '<f8'), ('qpu_programming_time', '<f8'), ('qpu_delay_time_per_sample', '<f8'), ('post_processing_overhead_time', '<f8'), ('total_post_processing_time', '<f8')]), time_measurements=rec.array((0.2542392, 0.037241, 0.0455552),\n",
       "                     dtype=[('find_clique_embedding_time', '<f8'), ('fixed_embedding_composite_time', '<f8'), ('sample_time', '<f8')])), SamplesetInfo(dwave_sampleset_info=rec.array((17248., 20., 131.9, 33007.56, 1082.44, 15759.56, 20.58, 10., 10.),\n",
       "                     dtype=[('qpu_sampling_time', '<f8'), ('qpu_anneal_time_per_sample', '<f8'), ('qpu_readout_time_per_sample', '<f8'), ('qpu_access_time', '<f8'), ('qpu_access_overhead_time', '<f8'), ('qpu_programming_time', '<f8'), ('qpu_delay_time_per_sample', '<f8'), ('post_processing_overhead_time', '<f8'), ('total_post_processing_time', '<f8')]), time_measurements=rec.array((0.1697618, 0.0235122, 0.0260813),\n",
       "                     dtype=[('find_clique_embedding_time', '<f8'), ('fixed_embedding_composite_time', '<f8'), ('sample_time', '<f8')])), SamplesetInfo(dwave_sampleset_info=rec.array((17248., 20., 131.9, 33007.16, 971.84, 15759.16, 20.58, 1., 1.),\n",
       "                     dtype=[('qpu_sampling_time', '<f8'), ('qpu_anneal_time_per_sample', '<f8'), ('qpu_readout_time_per_sample', '<f8'), ('qpu_access_time', '<f8'), ('qpu_access_overhead_time', '<f8'), ('qpu_programming_time', '<f8'), ('qpu_delay_time_per_sample', '<f8'), ('post_processing_overhead_time', '<f8'), ('total_post_processing_time', '<f8')]), time_measurements=rec.array((0.2310762, 0.0248809, 0.0225739),\n",
       "                     dtype=[('find_clique_embedding_time', '<f8'), ('fixed_embedding_composite_time', '<f8'), ('sample_time', '<f8')]))]))                                                                                                                                                                                                                                                                                                                                                                                                                                                                                                                                                                                                                                                                                                                                                                                                                                                                                                                                                                                                                                                                                                                                                                                                                                                                                                                                                                                                                                                                                                                                                                                                                                                                                                                                                                                                                                                                                                                                                                                                                                                                                                                                                                                                                                                                                                                                                                                                                                                                                                                                                                                                                                            ,\n",
       "           (list([[0, 4, 17, 18, 19, 23, 29, 40, 42, 57, 71, 95], [1, 8, 12, 32, 38, 45, 47, 51, 55, 60, 61, 66, 74, 78, 93, 98], [24, 26, 28, 37, 59, 63, 86, 92], [56, 65], [10, 13, 25, 27, 30, 31, 41, 48, 49, 64, 82, 91], [3, 5, 6, 50, 68, 69, 76, 89, 90], [2, 7, 11, 14, 15, 21, 34, 39, 44, 52, 62, 67, 73, 94, 99], [9, 16, 22, 35, 43, 72, 77, 79, 81, 84, 85, 96, 97], [70], [20, 33, 36, 46, 53, 54, 58, 75, 80, 83, 87, 88]]), 0.78252219, 95.11350727, list([[[0, 1, 2, 3, 4, 5, 6, 7, 8, 9, 10, 11, 12, 13, 14, 15, 16, 17, 18, 19, 20, 21, 22, 23, 24, 25, 26, 27, 28, 29, 30, 31, 32, 33, 34, 35, 36, 37, 38, 39, 40, 41, 42, 43, 44, 45, 46, 47, 48, 49, 50, 51, 52, 53, 54, 55, 56, 57, 58, 59, 60, 61, 62, 63, 64, 65, 66, 67, 68, 69, 70, 71, 72, 73, 74, 75, 76, 77, 78, 79, 80, 81, 82, 83, 84, 85, 86, 87, 88, 89, 90, 91, 92, 93, 94, 95, 96, 97, 98, 99]], [[0, 1, 4, 8, 10, 12, 13, 17, 18, 19, 23, 24, 25, 26, 27, 28, 29, 30, 31, 32, 37, 38, 40, 41, 42, 45, 47, 48, 49, 51, 55, 56, 57, 59, 60, 61, 63, 64, 65, 66, 71, 74, 78, 82, 86, 91, 92, 93, 95, 98], [2, 3, 5, 6, 7, 9, 11, 14, 15, 16, 20, 21, 22, 33, 34, 35, 36, 39, 43, 44, 46, 50, 52, 53, 54, 58, 62, 67, 68, 69, 70, 72, 73, 75, 76, 77, 79, 80, 81, 83, 84, 85, 87, 88, 89, 90, 94, 96, 97, 99]], [[0, 1, 4, 8, 12, 17, 18, 19, 23, 29, 32, 38, 40, 42, 45, 47, 51, 55, 57, 60, 61, 66, 71, 74, 78, 93, 95, 98], [10, 13, 24, 25, 26, 27, 28, 30, 31, 37, 41, 48, 49, 56, 59, 63, 64, 65, 82, 86, 91, 92], [2, 3, 5, 6, 7, 11, 14, 15, 21, 34, 39, 44, 50, 52, 62, 67, 68, 69, 73, 76, 89, 90, 94, 99], [9, 16, 20, 22, 33, 35, 36, 43, 46, 53, 54, 58, 70, 72, 75, 77, 79, 80, 81, 83, 84, 85, 87, 88, 96, 97]], [[0, 4, 17, 18, 19, 23, 29, 40, 42, 57, 71, 95], [1, 8, 12, 32, 38, 45, 47, 51, 55, 60, 61, 66, 74, 78, 93, 98], [24, 26, 28, 37, 56, 59, 63, 65, 86, 92], [10, 13, 25, 27, 30, 31, 41, 48, 49, 64, 82, 91], [3, 5, 6, 50, 68, 69, 76, 89, 90], [2, 7, 11, 14, 15, 21, 34, 39, 44, 52, 62, 67, 73, 94, 99], [9, 16, 22, 35, 43, 72, 77, 79, 81, 84, 85, 96, 97], [20, 33, 36, 46, 53, 54, 58, 70, 75, 80, 83, 87, 88]], [[0, 4, 17, 18, 19, 23, 29, 40, 42, 57, 71, 95], [1, 8, 12, 32, 38, 45, 47, 51, 55, 60, 61, 66, 74, 78, 93, 98], [24, 26, 28, 37, 59, 63, 86, 92], [56, 65], [10, 13, 25, 27, 30, 31, 41, 48, 49, 64, 82, 91], [3, 5, 6, 50, 68, 69, 76, 89, 90], [2, 7, 11, 14, 15, 21, 34, 39, 44, 52, 62, 67, 73, 94, 99], [9, 16, 22, 35, 43, 72, 77, 79, 81, 84, 85, 96, 97], [70], [20, 33, 36, 46, 53, 54, 58, 75, 80, 83, 87, 88]]]), list([0.0, 0.4696969696969697, 0.6872257932863994, 0.7790531578410366, 0.7825221916131007]), list([SamplesetInfo(dwave_sampleset_info=rec.array((24068., 20., 200.1, 39829.96, 1457.04, 15761.96, 20.58, 59., 59.),\n",
       "                     dtype=[('qpu_sampling_time', '<f8'), ('qpu_anneal_time_per_sample', '<f8'), ('qpu_readout_time_per_sample', '<f8'), ('qpu_access_time', '<f8'), ('qpu_access_overhead_time', '<f8'), ('qpu_programming_time', '<f8'), ('qpu_delay_time_per_sample', '<f8'), ('post_processing_overhead_time', '<f8'), ('total_post_processing_time', '<f8')]), time_measurements=rec.array((0.2772595, 0.0609718, 0.1619824),\n",
       "                     dtype=[('find_clique_embedding_time', '<f8'), ('fixed_embedding_composite_time', '<f8'), ('sample_time', '<f8')])), SamplesetInfo(dwave_sampleset_info=rec.array((13628., 20., 95.7, 29387.16, 1218.84, 15759.16, 20.58, 1., 1.),\n",
       "                     dtype=[('qpu_sampling_time', '<f8'), ('qpu_anneal_time_per_sample', '<f8'), ('qpu_readout_time_per_sample', '<f8'), ('qpu_access_time', '<f8'), ('qpu_access_overhead_time', '<f8'), ('qpu_programming_time', '<f8'), ('qpu_delay_time_per_sample', '<f8'), ('post_processing_overhead_time', '<f8'), ('total_post_processing_time', '<f8')]), time_measurements=rec.array((0.5175343, 0.0607045, 0.0992222),\n",
       "                     dtype=[('find_clique_embedding_time', '<f8'), ('fixed_embedding_composite_time', '<f8'), ('sample_time', '<f8')])), SamplesetInfo(dwave_sampleset_info=rec.array((20818., 20., 167.6, 36577.96, 1420.04, 15759.96, 20.58, 1., 1.),\n",
       "                     dtype=[('qpu_sampling_time', '<f8'), ('qpu_anneal_time_per_sample', '<f8'), ('qpu_readout_time_per_sample', '<f8'), ('qpu_access_time', '<f8'), ('qpu_access_overhead_time', '<f8'), ('qpu_programming_time', '<f8'), ('qpu_delay_time_per_sample', '<f8'), ('post_processing_overhead_time', '<f8'), ('total_post_processing_time', '<f8')]), time_measurements=rec.array((0.2137186, 0.0259658, 0.0287446),\n",
       "                     dtype=[('find_clique_embedding_time', '<f8'), ('fixed_embedding_composite_time', '<f8'), ('sample_time', '<f8')])), SamplesetInfo(dwave_sampleset_info=rec.array((12676., 20., 86.18, 28435.16, 983.84, 15759.16, 20.58, 1., 1.),\n",
       "                     dtype=[('qpu_sampling_time', '<f8'), ('qpu_anneal_time_per_sample', '<f8'), ('qpu_readout_time_per_sample', '<f8'), ('qpu_access_time', '<f8'), ('qpu_access_overhead_time', '<f8'), ('qpu_programming_time', '<f8'), ('qpu_delay_time_per_sample', '<f8'), ('post_processing_overhead_time', '<f8'), ('total_post_processing_time', '<f8')]), time_measurements=rec.array((0.2264094, 0.0270734, 0.035932),\n",
       "                     dtype=[('find_clique_embedding_time', '<f8'), ('fixed_embedding_composite_time', '<f8'), ('sample_time', '<f8')])), SamplesetInfo(dwave_sampleset_info=rec.array((19906., 20., 158.48, 35665.56, 1185.44, 15759.56, 20.58, 1., 1.),\n",
       "                     dtype=[('qpu_sampling_time', '<f8'), ('qpu_anneal_time_per_sample', '<f8'), ('qpu_readout_time_per_sample', '<f8'), ('qpu_access_time', '<f8'), ('qpu_access_overhead_time', '<f8'), ('qpu_programming_time', '<f8'), ('qpu_delay_time_per_sample', '<f8'), ('post_processing_overhead_time', '<f8'), ('total_post_processing_time', '<f8')]), time_measurements=rec.array((0.2359089, 0.037201, 0.0249504),\n",
       "                     dtype=[('find_clique_embedding_time', '<f8'), ('fixed_embedding_composite_time', '<f8'), ('sample_time', '<f8')])), SamplesetInfo(dwave_sampleset_info=rec.array((20296., 20., 162.38, 36055.96, 990.04, 15759.96, 20.58, 48., 48.),\n",
       "                     dtype=[('qpu_sampling_time', '<f8'), ('qpu_anneal_time_per_sample', '<f8'), ('qpu_readout_time_per_sample', '<f8'), ('qpu_access_time', '<f8'), ('qpu_access_overhead_time', '<f8'), ('qpu_programming_time', '<f8'), ('qpu_delay_time_per_sample', '<f8'), ('post_processing_overhead_time', '<f8'), ('total_post_processing_time', '<f8')]), time_measurements=rec.array((0.1982157, 0.0423216, 0.0389364),\n",
       "                     dtype=[('find_clique_embedding_time', '<f8'), ('fixed_embedding_composite_time', '<f8'), ('sample_time', '<f8')])), SamplesetInfo(dwave_sampleset_info=rec.array((12660., 20., 86.02, 28419.96, 1022.04, 15759.96, 20.58, 14., 14.),\n",
       "                     dtype=[('qpu_sampling_time', '<f8'), ('qpu_anneal_time_per_sample', '<f8'), ('qpu_readout_time_per_sample', '<f8'), ('qpu_access_time', '<f8'), ('qpu_access_overhead_time', '<f8'), ('qpu_programming_time', '<f8'), ('qpu_delay_time_per_sample', '<f8'), ('total_post_processing_time', '<f8'), ('post_processing_overhead_time', '<f8')]), time_measurements=rec.array((0.2041322, 0.0180253, 0.0191263),\n",
       "                     dtype=[('find_clique_embedding_time', '<f8'), ('fixed_embedding_composite_time', '<f8'), ('sample_time', '<f8')])), SamplesetInfo(dwave_sampleset_info=rec.array((12500., 20., 84.42, 28259.96, 751.04, 15759.96, 20.58, 1., 1.),\n",
       "                     dtype=[('qpu_sampling_time', '<f8'), ('qpu_anneal_time_per_sample', '<f8'), ('qpu_readout_time_per_sample', '<f8'), ('qpu_access_time', '<f8'), ('qpu_access_overhead_time', '<f8'), ('qpu_programming_time', '<f8'), ('qpu_delay_time_per_sample', '<f8'), ('post_processing_overhead_time', '<f8'), ('total_post_processing_time', '<f8')]), time_measurements=rec.array((0.1828131, 0.0209393, 0.0224281),\n",
       "                     dtype=[('find_clique_embedding_time', '<f8'), ('fixed_embedding_composite_time', '<f8'), ('sample_time', '<f8')])), SamplesetInfo(dwave_sampleset_info=rec.array((6604., 20., 25.46, 22363.56, 972.44, 15759.56, 20.58, 1., 1.),\n",
       "                     dtype=[('qpu_sampling_time', '<f8'), ('qpu_anneal_time_per_sample', '<f8'), ('qpu_readout_time_per_sample', '<f8'), ('qpu_access_time', '<f8'), ('qpu_access_overhead_time', '<f8'), ('qpu_programming_time', '<f8'), ('qpu_delay_time_per_sample', '<f8'), ('total_post_processing_time', '<f8'), ('post_processing_overhead_time', '<f8')]), time_measurements=rec.array((0.1909388, 0.0276414, 0.0221115),\n",
       "                     dtype=[('find_clique_embedding_time', '<f8'), ('fixed_embedding_composite_time', '<f8'), ('sample_time', '<f8')])), SamplesetInfo(dwave_sampleset_info=rec.array((17248., 20., 131.9, 33007.16, 1522.84, 15759.16, 20.58, 1., 1.),\n",
       "                     dtype=[('qpu_sampling_time', '<f8'), ('qpu_anneal_time_per_sample', '<f8'), ('qpu_readout_time_per_sample', '<f8'), ('qpu_access_time', '<f8'), ('qpu_access_overhead_time', '<f8'), ('qpu_programming_time', '<f8'), ('qpu_delay_time_per_sample', '<f8'), ('post_processing_overhead_time', '<f8'), ('total_post_processing_time', '<f8')]), time_measurements=rec.array((0.1745292, 0.0196865, 0.023875),\n",
       "                     dtype=[('find_clique_embedding_time', '<f8'), ('fixed_embedding_composite_time', '<f8'), ('sample_time', '<f8')])), SamplesetInfo(dwave_sampleset_info=rec.array((13628., 20., 95.7, 29386.36, 1598.64, 15758.36, 20.58, 34., 34.),\n",
       "                     dtype=[('qpu_sampling_time', '<f8'), ('qpu_anneal_time_per_sample', '<f8'), ('qpu_readout_time_per_sample', '<f8'), ('qpu_access_time', '<f8'), ('qpu_access_overhead_time', '<f8'), ('qpu_programming_time', '<f8'), ('qpu_delay_time_per_sample', '<f8'), ('post_processing_overhead_time', '<f8'), ('total_post_processing_time', '<f8')]), time_measurements=rec.array((0.2095836, 0.0407112, 0.0397518),\n",
       "                     dtype=[('find_clique_embedding_time', '<f8'), ('fixed_embedding_composite_time', '<f8'), ('sample_time', '<f8')])), SamplesetInfo(dwave_sampleset_info=rec.array((20296., 20., 162.38, 36055.16, 1369.84, 15759.16, 20.58, 1., 1.),\n",
       "                     dtype=[('qpu_sampling_time', '<f8'), ('qpu_anneal_time_per_sample', '<f8'), ('qpu_readout_time_per_sample', '<f8'), ('qpu_access_time', '<f8'), ('qpu_access_overhead_time', '<f8'), ('qpu_programming_time', '<f8'), ('qpu_delay_time_per_sample', '<f8'), ('post_processing_overhead_time', '<f8'), ('total_post_processing_time', '<f8')]), time_measurements=rec.array((0.189863, 0.0319, 0.0299314),\n",
       "                     dtype=[('find_clique_embedding_time', '<f8'), ('fixed_embedding_composite_time', '<f8'), ('sample_time', '<f8')])), SamplesetInfo(dwave_sampleset_info=rec.array((12660., 20., 86.02, 28419.56, 1146.44, 15759.56, 20.58, 38., 38.),\n",
       "                     dtype=[('qpu_sampling_time', '<f8'), ('qpu_anneal_time_per_sample', '<f8'), ('qpu_readout_time_per_sample', '<f8'), ('qpu_access_time', '<f8'), ('qpu_access_overhead_time', '<f8'), ('qpu_programming_time', '<f8'), ('qpu_delay_time_per_sample', '<f8'), ('post_processing_overhead_time', '<f8'), ('total_post_processing_time', '<f8')]), time_measurements=rec.array((0.2083446, 0.0259795, 0.0220872),\n",
       "                     dtype=[('find_clique_embedding_time', '<f8'), ('fixed_embedding_composite_time', '<f8'), ('sample_time', '<f8')])), SamplesetInfo(dwave_sampleset_info=rec.array((19816., 20., 157.58, 35575.56, 1143.44, 15759.56, 20.58, 111., 111.),\n",
       "                     dtype=[('qpu_sampling_time', '<f8'), ('qpu_anneal_time_per_sample', '<f8'), ('qpu_readout_time_per_sample', '<f8'), ('qpu_access_time', '<f8'), ('qpu_access_overhead_time', '<f8'), ('qpu_programming_time', '<f8'), ('qpu_delay_time_per_sample', '<f8'), ('post_processing_overhead_time', '<f8'), ('total_post_processing_time', '<f8')]), time_measurements=rec.array((0.2307859, 0.0262754, 0.0244667),\n",
       "                     dtype=[('find_clique_embedding_time', '<f8'), ('fixed_embedding_composite_time', '<f8'), ('sample_time', '<f8')])), SamplesetInfo(dwave_sampleset_info=rec.array((20818., 20., 167.6, 36577.16, 1049.84, 15759.16, 20.58, 62., 62.),\n",
       "                     dtype=[('qpu_sampling_time', '<f8'), ('qpu_anneal_time_per_sample', '<f8'), ('qpu_readout_time_per_sample', '<f8'), ('qpu_access_time', '<f8'), ('qpu_access_overhead_time', '<f8'), ('qpu_programming_time', '<f8'), ('qpu_delay_time_per_sample', '<f8'), ('post_processing_overhead_time', '<f8'), ('total_post_processing_time', '<f8')]), time_measurements=rec.array((0.2199691, 0.0214283, 0.026562),\n",
       "                     dtype=[('find_clique_embedding_time', '<f8'), ('fixed_embedding_composite_time', '<f8'), ('sample_time', '<f8')])), SamplesetInfo(dwave_sampleset_info=rec.array((17362., 20., 133.04, 33121.56, 1432.44, 15759.56, 20.58, 1., 1.),\n",
       "                     dtype=[('qpu_sampling_time', '<f8'), ('qpu_anneal_time_per_sample', '<f8'), ('qpu_readout_time_per_sample', '<f8'), ('qpu_access_time', '<f8'), ('qpu_access_overhead_time', '<f8'), ('qpu_programming_time', '<f8'), ('qpu_delay_time_per_sample', '<f8'), ('post_processing_overhead_time', '<f8'), ('total_post_processing_time', '<f8')]), time_measurements=rec.array((0.1962283, 0.0189092, 0.0260777),\n",
       "                     dtype=[('find_clique_embedding_time', '<f8'), ('fixed_embedding_composite_time', '<f8'), ('sample_time', '<f8')])), SamplesetInfo(dwave_sampleset_info=rec.array((17248., 20., 131.9, 33007.56, 1965.44, 15759.56, 20.58, 1., 1.),\n",
       "                     dtype=[('qpu_sampling_time', '<f8'), ('qpu_anneal_time_per_sample', '<f8'), ('qpu_readout_time_per_sample', '<f8'), ('qpu_access_time', '<f8'), ('qpu_access_overhead_time', '<f8'), ('qpu_programming_time', '<f8'), ('qpu_delay_time_per_sample', '<f8'), ('post_processing_overhead_time', '<f8'), ('total_post_processing_time', '<f8')]), time_measurements=rec.array((0.1870392, 0.0279169, 0.0310945),\n",
       "                     dtype=[('find_clique_embedding_time', '<f8'), ('fixed_embedding_composite_time', '<f8'), ('sample_time', '<f8')])), SamplesetInfo(dwave_sampleset_info=rec.array((17248., 20., 131.9, 33007.16, 2110.84, 15759.16, 20.58, 122., 122.),\n",
       "                     dtype=[('qpu_sampling_time', '<f8'), ('qpu_anneal_time_per_sample', '<f8'), ('qpu_readout_time_per_sample', '<f8'), ('qpu_access_time', '<f8'), ('qpu_access_overhead_time', '<f8'), ('qpu_programming_time', '<f8'), ('qpu_delay_time_per_sample', '<f8'), ('post_processing_overhead_time', '<f8'), ('total_post_processing_time', '<f8')]), time_measurements=rec.array((0.2052622, 0.0199166, 0.0271647),\n",
       "                     dtype=[('find_clique_embedding_time', '<f8'), ('fixed_embedding_composite_time', '<f8'), ('sample_time', '<f8')]))]))                                                                                                                                                                                                                                                                                                                                                                                                                                                                                                                                                                                                                                                                                                                                                                                                                                                                                                                                                                                                                                                                                                                                                                                                                                                                                                                                                                                                                                                                                                                                                                                                                                                                                                                                                                                                                                                                                                                                                                                                                                                                                                                                                                                                                                                                                                                                                                                                                                                                                                                                                                                                                                                  ],\n",
       "          dtype=[('communities', 'O'), ('modularity', '<f8'), ('time', '<f8'), ('division_tree', 'O'), ('division_modularities', 'O'), ('sampleset_infos', 'O')])"
      ]
     },
     "execution_count": 255,
     "metadata": {},
     "output_type": "execute_result"
    }
   ],
   "source": [
    "res"
   ]
  },
  {
   "cell_type": "code",
   "execution_count": 256,
   "id": "32ced69a",
   "metadata": {},
   "outputs": [
    {
     "data": {
      "text/plain": [
       "rec.array([(24068., 20., 200.1 , 39829.96, 1711.04, 15761.96, 20.58, 16., 16.),\n",
       "           (13628., 20.,  95.7 , 29387.16, 1391.84, 15759.16, 20.58, 88., 88.),\n",
       "           (20728., 20., 166.7 , 36487.96, 1506.04, 15759.96, 20.58,  1.,  1.),\n",
       "           (12676., 20.,  86.18, 28435.16, 2997.84, 15759.16, 20.58,  1.,  1.),\n",
       "           (19816., 20., 157.58, 35575.56, 1313.44, 15759.56, 20.58,  1.,  1.),\n",
       "           (20296., 20., 162.38, 36055.16, 1495.84, 15759.16, 20.58,  1.,  1.),\n",
       "           (12660., 20.,  86.02, 28419.96, 1273.04, 15759.96, 20.58, 34., 34.),\n",
       "           (12500., 20.,  84.42, 28259.96, 1336.04, 15759.96, 20.58,  1.,  1.),\n",
       "           (17362., 20., 133.04, 33121.16,  856.84, 15759.16, 20.58,  1.,  1.),\n",
       "           (13628., 20.,  95.7 , 29385.96,  819.04, 15757.96, 20.58, 23., 23.),\n",
       "           (20434., 20., 163.76, 36193.16, 1059.84, 15759.16, 20.58,  1.,  1.),\n",
       "           (17362., 20., 133.04, 33121.56, 1002.44, 15759.56, 20.58,  1.,  1.),\n",
       "           (12660., 20.,  86.02, 28419.96,  872.04, 15759.96, 20.58,  1.,  1.),\n",
       "           (20434., 20., 163.76, 36192.76, 1260.24, 15758.76, 20.58, 71., 71.),\n",
       "           (17248., 20., 131.9 , 33007.56, 1082.44, 15759.56, 20.58, 10., 10.),\n",
       "           (17248., 20., 131.9 , 33007.16,  971.84, 15759.16, 20.58,  1.,  1.)],\n",
       "          dtype=[('qpu_sampling_time', '<f8'), ('qpu_anneal_time_per_sample', '<f8'), ('qpu_readout_time_per_sample', '<f8'), ('qpu_access_time', '<f8'), ('qpu_access_overhead_time', '<f8'), ('qpu_programming_time', '<f8'), ('qpu_delay_time_per_sample', '<f8'), ('post_processing_overhead_time', '<f8'), ('total_post_processing_time', '<f8')])"
      ]
     },
     "execution_count": 256,
     "metadata": {},
     "output_type": "execute_result"
    }
   ],
   "source": [
    "dwave_sampleset_infos"
   ]
  },
  {
   "cell_type": "code",
   "execution_count": 257,
   "id": "4a07e1f4",
   "metadata": {},
   "outputs": [
    {
     "data": {
      "text/plain": [
       "array([list([[0, 4, 17, 18, 19, 23, 29, 40, 42, 57, 71, 95], [1, 8, 12, 32, 38, 45, 47, 51, 55, 60, 61, 66, 74, 78, 93, 98], [24, 26, 28, 37, 59, 63, 86, 92], [68], [10, 13, 25, 27, 30, 31, 41, 48, 49, 64, 70, 82, 91], [2, 7, 11, 14, 15, 21, 34, 39, 44, 52, 62, 67, 73, 94, 99], [3, 5, 6, 50, 56, 65, 69, 76, 89, 90], [9, 16, 22, 35, 43, 72, 77, 79, 81, 84, 85, 96, 97], [20, 33, 36, 46, 53, 54, 58, 75, 80, 83, 87, 88]]),\n",
       "       list([[0, 4, 17, 18, 19, 23, 29, 40, 42, 57, 71, 95], [1, 8, 12, 32, 38, 45, 47, 51, 55, 60, 61, 66, 74, 78, 93, 98], [24, 26, 28, 37, 59, 63, 86, 92], [56, 65], [10, 13, 25, 27, 30, 31, 41, 48, 49, 64, 82, 91], [3, 5, 6, 50, 68, 69, 76, 89, 90], [2, 7, 11, 14, 15, 21, 34, 39, 44, 52, 62, 67, 73, 94, 99], [9, 16, 22, 35, 43, 72, 77, 79, 81, 84, 85, 96, 97], [70], [20, 33, 36, 46, 53, 54, 58, 75, 80, 83, 87, 88]])],\n",
       "      dtype=object)"
      ]
     },
     "execution_count": 257,
     "metadata": {},
     "output_type": "execute_result"
    }
   ],
   "source": [
    "res.communities"
   ]
  },
  {
   "cell_type": "code",
   "execution_count": null,
   "id": "96f9e8c3",
   "metadata": {},
   "outputs": [],
   "source": []
  },
  {
   "cell_type": "code",
   "execution_count": null,
   "id": "251fa4a6",
   "metadata": {},
   "outputs": [],
   "source": []
  },
  {
   "cell_type": "code",
   "execution_count": null,
   "id": "e0143180",
   "metadata": {},
   "outputs": [],
   "source": [
    "res_processed = np."
   ]
  }
 ],
 "metadata": {
  "kernelspec": {
   "display_name": "qomm_env",
   "language": "python",
   "name": "python3"
  },
  "language_info": {
   "codemirror_mode": {
    "name": "ipython",
    "version": 3
   },
   "file_extension": ".py",
   "mimetype": "text/x-python",
   "name": "python",
   "nbconvert_exporter": "python",
   "pygments_lexer": "ipython3",
   "version": "3.10.14"
  }
 },
 "nbformat": 4,
 "nbformat_minor": 5
}
