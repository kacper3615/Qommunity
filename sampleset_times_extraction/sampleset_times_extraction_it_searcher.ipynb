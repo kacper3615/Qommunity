{
 "cells": [
  {
   "cell_type": "code",
   "execution_count": 1,
   "id": "6faf1a22",
   "metadata": {},
   "outputs": [],
   "source": [
    "import numpy as np\n",
    "import networkx as nx\n",
    "import matplotlib.pyplot as plt\n",
    "\n",
    "from Qommunity.samplers.hierarchical.advantage_sampler import AdvantageSampler\n",
    "from Qommunity.searchers.hierarchical_searcher import HierarchicalSearcher\n",
    "from Qommunity.iterative_searcher import IterativeSearcher"
   ]
  },
  {
   "cell_type": "code",
   "execution_count": 2,
   "id": "355ce839",
   "metadata": {},
   "outputs": [],
   "source": [
    "G = nx.powerlaw_cluster_graph(n=100, m=1, p=0.1)\n",
    "num_reads = 100\n",
    "version = \"\"\n",
    "region = \"na-west-1\""
   ]
  },
  {
   "cell_type": "markdown",
   "id": "22f9156a",
   "metadata": {},
   "source": [
    "### Usage"
   ]
  },
  {
   "cell_type": "code",
   "execution_count": 3,
   "id": "5b0a7d5d",
   "metadata": {},
   "outputs": [],
   "source": [
    "advantage = AdvantageSampler(\n",
    "    G, num_reads=num_reads, version=version, region=region, use_clique_embedding=True, elapse_times=True, return_sampleset_metadata=True\n",
    ")"
   ]
  },
  {
   "cell_type": "code",
   "execution_count": 4,
   "id": "3266206c",
   "metadata": {},
   "outputs": [],
   "source": [
    "iterative_searcher = IterativeSearcher(advantage)"
   ]
  },
  {
   "cell_type": "code",
   "execution_count": 5,
   "id": "89be8789",
   "metadata": {},
   "outputs": [
    {
     "data": {
      "text/plain": [
       "<Qommunity.samplers.hierarchical.advantage_sampler.advantage_sampler.AdvantageSampler at 0x12a230fad70>"
      ]
     },
     "execution_count": 5,
     "metadata": {},
     "output_type": "execute_result"
    }
   ],
   "source": [
    "iterative_searcher.sampler"
   ]
  },
  {
   "cell_type": "code",
   "execution_count": null,
   "id": "78f61bf5",
   "metadata": {},
   "outputs": [],
   "source": []
  },
  {
   "cell_type": "code",
   "execution_count": 6,
   "id": "fe0b04f7",
   "metadata": {},
   "outputs": [],
   "source": [
    "from Qommunity.samplers.hierarchical.hierarchical_sampler import (\n",
    "    HierarchicalSampler,\n",
    ")\n",
    "from Qommunity.searchers.hierarchical_searcher import (\n",
    "    HierarchicalSearcher,\n",
    ")\n",
    "import networkx as nx\n",
    "from time import time\n",
    "from tqdm import tqdm\n",
    "import numpy as np\n",
    "import warnings\n",
    "\n",
    "from Qommunity.samplers.hierarchical.advantage_sampler import AdvantageSampler\n",
    "\n",
    "SAMPLESET_METADATA_KEYARG = \"return_sampleset_metadata\"\n",
    "\n",
    "class MethodArgsWarning(Warning):\n",
    "    def __init__(self, msg):\n",
    "        super().__init__(msg)\n",
    "\n",
    "\n",
    "# Warning format compatible with tqdm\n",
    "def warn(message, category, filename, lineno, file=None, line=None):\n",
    "    tqdm.write(f\"Warning: {str(message)}\")\n",
    "\n",
    "\n",
    "warnings.showwarning = warn\n",
    "warnings.simplefilter(\"always\", MethodArgsWarning)\n",
    "\n",
    "\n",
    "class IterativeHierarchicalSearcher:\n",
    "    def __init__(self, sampler: HierarchicalSampler) -> None:\n",
    "        self.sampler = sampler\n",
    "        self.searcher = HierarchicalSearcher(self.sampler)\n",
    "\n",
    "    def _default_saving_path(self) -> str:\n",
    "        return (\n",
    "            f\"{self.sampler.__class__.__name__}\"\n",
    "            + \"-network_size_\"\n",
    "            + f\"{self.sampler.G.number_of_nodes()}\"\n",
    "        )\n",
    "\n",
    "    def _verify_kwargs(self, kwargs) -> dict:\n",
    "        kwargs_unhandled = [\"division_tree\", \"return_modularities\"]\n",
    "        kwargs_warning = []\n",
    "        for kwarg in kwargs_unhandled:\n",
    "            if kwarg in kwargs:\n",
    "                kwargs.pop(kwarg, None)\n",
    "                kwargs_warning.append(kwarg)\n",
    "        if kwargs_warning:\n",
    "            msg = \", \".join(kwargs_warning)\n",
    "            warnings.warn(\n",
    "                f\"in order to get {msg} run \"\n",
    "                + \" IterativeSearcher.run_with_sampleset_info()\"\n",
    "            )\n",
    "\n",
    "        return kwargs\n",
    "\n",
    "    def run(\n",
    "        self,\n",
    "        num_runs: int,\n",
    "        save_results: bool = True,\n",
    "        saving_path: str | None = None,\n",
    "        elapse_times: bool = True,\n",
    "        iterative_verbosity: int = 0,\n",
    "        return_sampleset_metadata: bool = False,\n",
    "        **kwargs,\n",
    "    ):\n",
    "        kwargs = self._verify_kwargs(kwargs)\n",
    "\n",
    "        if iterative_verbosity >= 1:\n",
    "            print(\"Starting community detection iterations\")\n",
    "\n",
    "        if save_results and saving_path is None:\n",
    "            saving_path = self._default_saving_path()\n",
    "\n",
    "        modularities = np.zeros((num_runs))\n",
    "        communities = np.empty((num_runs), dtype=object)\n",
    "        times = np.zeros((num_runs))\n",
    "        samplesets_data = np.empty((num_runs), dtype=object)\n",
    "\n",
    "        for iter in tqdm(range(num_runs)):\n",
    "            elapsed = time()\n",
    "            result = self.searcher.hierarchical_community_search(**kwargs)\n",
    "            times[iter] = time() - elapsed\n",
    "\n",
    "            if SAMPLESET_METADATA_KEYARG in kwargs:\n",
    "                result, sampleset_metadata = result\n",
    "\n",
    "            try:\n",
    "                modularity_score = nx.community.modularity(\n",
    "                    self.searcher.sampler.G,\n",
    "                    result,\n",
    "                    resolution=self.sampler.resolution,\n",
    "                )\n",
    "            except Exception as e:\n",
    "                print(f\"iteration: {iter} exception: {e}\")\n",
    "                modularity_score = -1\n",
    "\n",
    "            communities[iter] = result\n",
    "            modularities[iter] = modularity_score\n",
    "            samplesets_data[iter] = sampleset_metadata\n",
    "\n",
    "            if save_results:\n",
    "                np.save(f\"{saving_path}_modularities\", modularities)\n",
    "                np.save(f\"{saving_path}_communities\", communities)\n",
    "                if elapse_times:\n",
    "                    np.save(f\"{saving_path}_times\", times)\n",
    "                if return_sampleset_metadata:\n",
    "                    np.save(f\"{saving_path}_sampleset_infos\", samplesets_data)\n",
    "\n",
    "            if iterative_verbosity >= 1:\n",
    "                print(f\"Iteration {iter} completed\")\n",
    "\n",
    "        if elapse_times and sampleset_metadata:\n",
    "            return communities, modularities, times, sampleset_metadata\n",
    "        if elapse_times:\n",
    "            return communities, modularities, times\n",
    "        if return_sampleset_metadata:\n",
    "            return communities, modularities, samplesets_data\n",
    "        return communities, modularities\n",
    "\n",
    "    def run_with_sampleset_info(\n",
    "        self,\n",
    "        num_runs: int,\n",
    "        save_results: bool = True,\n",
    "        saving_path: str | None = None,\n",
    "        iterative_verbosity: int = 0,\n",
    "        return_sampleset_metadata: bool = True,\n",
    "        **kwargs,\n",
    "    ):\n",
    "\n",
    "        if iterative_verbosity >= 1:\n",
    "            print(\"Starting community detection iterations\")\n",
    "\n",
    "        if save_results and saving_path is None:\n",
    "            saving_path = self._default_saving_path()\n",
    "\n",
    "        modularities = np.zeros((num_runs))\n",
    "        communities = np.empty((num_runs), dtype=object)\n",
    "        times = np.zeros((num_runs))\n",
    "        division_modularities = np.empty((num_runs), dtype=object)\n",
    "        division_trees = np.empty((num_runs), dtype=object)\n",
    "        samplesets_data = np.empty((num_runs), dtype=object)\n",
    "\n",
    "        if return_sampleset_metadata:\n",
    "            kwargs[SAMPLESET_METADATA_KEYARG] = True\n",
    "\n",
    "        for iter in tqdm(range(num_runs)):\n",
    "            elapsed = time()\n",
    "            result = self.searcher.hierarchical_community_search(\n",
    "                return_modularities=True,\n",
    "                division_tree=True,\n",
    "                **kwargs,\n",
    "            )\n",
    "            # Currently only AdvantageSampler among the hierarchical solvers\n",
    "            # provides sampleset metadata.\n",
    "            print(isinstance(self.sampler, AdvantageSampler))\n",
    "            print(return_sampleset_metadata)\n",
    "            if isinstance(self.sampler, AdvantageSampler) and return_sampleset_metadata:\n",
    "                (\n",
    "                    communities_result,\n",
    "                    div_tree,\n",
    "                    div_modularities,\n",
    "                    sampleset_data,\n",
    "                ) = result\n",
    "            else:\n",
    "                (\n",
    "                    communities_result,\n",
    "                    div_tree,\n",
    "                    div_modularities,\n",
    "                ) = result\n",
    "            times[iter] = time() - elapsed\n",
    "            division_trees[iter] = div_tree\n",
    "            division_modularities[iter] = div_modularities\n",
    "            samplesets_data[iter] = sampleset_data\n",
    "\n",
    "            try:\n",
    "                modularity_score = nx.community.modularity(\n",
    "                    self.searcher.sampler.G,\n",
    "                    communities_result,\n",
    "                    resolution=self.sampler.resolution,\n",
    "                )\n",
    "            except Exception as e:\n",
    "                print(f\"iteration: {iter} exception: {e}\")\n",
    "                modularity_score = -1\n",
    "\n",
    "            communities[iter] = communities_result\n",
    "            modularities[iter] = modularity_score\n",
    "\n",
    "            if save_results:\n",
    "                np.save(f\"{saving_path}_modularities\", modularities)\n",
    "                np.save(f\"{saving_path}_communities\", communities)\n",
    "                np.save(f\"{saving_path}_times\", times)\n",
    "                np.save(f\"{saving_path}_division_trees\", division_trees)\n",
    "                np.save(\n",
    "                    f\"{saving_path}_division_modularities\",\n",
    "                    division_modularities,\n",
    "                )\n",
    "                np.save(f\"{saving_path}_samplesets_data\", samplesets_data)\n",
    "\n",
    "            if iterative_verbosity >= 1:\n",
    "                print(f\"Iteration {iter} completed\")\n",
    "\n",
    "        dtypes = [\n",
    "            (\"communities\", object),\n",
    "            (\"modularity\", np.float_),\n",
    "            (\"time\", np.float_),\n",
    "            (\"division_tree\", object),\n",
    "            (\"division_modularities\", object),\n",
    "        ]\n",
    "        sampleset_components = [\n",
    "            communities,\n",
    "            modularities,\n",
    "            times,\n",
    "            division_trees,\n",
    "            division_modularities,\n",
    "        ]\n",
    "\n",
    "        if return_sampleset_metadata:\n",
    "            dtypes.append((\"samplesets_data\", object))\n",
    "            sampleset_components.append(samplesets_data)\n",
    "\n",
    "        sampleset = np.rec.fromarrays(\n",
    "            sampleset_components,\n",
    "            dtype=dtypes,\n",
    "        )\n",
    "\n",
    "        if not return_sampleset_metadata:\n",
    "            return sampleset\n",
    "\n",
    "        results_processed = self._process_results(sampleset)\n",
    "\n",
    "        return results_processed\n",
    "\n",
    "    def _process_results(self, sampleset):\n",
    "        dtype = [si.dwave_sampleset_metadata for si in sampleset[0].samplesets_data][\n",
    "            0\n",
    "        ].dtype.descr\n",
    "        dwave_sampleset_metadata = np.array(\n",
    "            [\n",
    "                np.concatenate(\n",
    "                    [\n",
    "                        np.array([r], dtype=dtype)\n",
    "                        for r in [\n",
    "                            si.dwave_sampleset_info\n",
    "                            for si in sampleset[run].samplesets_data\n",
    "                        ]\n",
    "                    ]\n",
    "                ).view(np.recarray)\n",
    "                for run in range(len(sampleset))\n",
    "            ],\n",
    "            dtype=object,\n",
    "        )\n",
    "\n",
    "        dtype = [si.time_measurements for si in sampleset[0].samplesets_data][\n",
    "            0\n",
    "        ].dtype.descr\n",
    "        time_measurements = np.array(\n",
    "            [\n",
    "                np.concatenate(\n",
    "                    [\n",
    "                        np.array([r], dtype=dtype)\n",
    "                        for r in [\n",
    "                            si.time_measurements\n",
    "                            for si in sampleset[run].samplesets_data\n",
    "                        ]\n",
    "                    ]\n",
    "                ).view(np.recarray)\n",
    "                for run in range(len(sampleset))\n",
    "            ],\n",
    "            dtype=object,\n",
    "        )\n",
    "\n",
    "        results_procesed_dtypes = sampleset.dtype.descr\n",
    "        results_procesed_dtypes.pop()\n",
    "        results_procesed_dtypes.append((\"dwave_sampleset_metadata\", object))\n",
    "        results_procesed_dtypes.append((\"time_measurements\", object))\n",
    "        results_procesed_dtypes\n",
    "\n",
    "        results_processed_componenets = [\n",
    "            sampleset.communities,\n",
    "            sampleset.modularity,\n",
    "            sampleset.time,\n",
    "            sampleset.division_tree,\n",
    "            sampleset.division_modularities,\n",
    "            dwave_sampleset_metadata,\n",
    "            time_measurements,\n",
    "        ]\n",
    "\n",
    "        results_processed = np.rec.fromarrays(\n",
    "            results_processed_componenets,\n",
    "            dtype=results_procesed_dtypes,\n",
    "        )\n",
    "\n",
    "        return results_processed\n"
   ]
  },
  {
   "cell_type": "code",
   "execution_count": 7,
   "id": "618d4455",
   "metadata": {},
   "outputs": [
    {
     "data": {
      "text/plain": [
       "True"
      ]
     },
     "execution_count": 7,
     "metadata": {},
     "output_type": "execute_result"
    }
   ],
   "source": [
    "isinstance(iterative_searcher.sampler, AdvantageSampler)"
   ]
  },
  {
   "cell_type": "code",
   "execution_count": 8,
   "id": "5fa48d56",
   "metadata": {},
   "outputs": [
    {
     "name": "stdout",
     "output_type": "stream",
     "text": [
      "Starting community detection iterations\n"
     ]
    },
    {
     "name": "stderr",
     "output_type": "stream",
     "text": [
      "100%|██████████| 1/1 [01:44<00:00, 104.67s/it]"
     ]
    },
    {
     "name": "stdout",
     "output_type": "stream",
     "text": [
      "True\n",
      "True\n",
      "Iteration 0 completed\n"
     ]
    },
    {
     "name": "stderr",
     "output_type": "stream",
     "text": [
      "\n"
     ]
    },
    {
     "ename": "AttributeError",
     "evalue": "'SamplesetData' object has no attribute 'dwave_sampleset_info'",
     "output_type": "error",
     "traceback": [
      "\u001b[1;31m---------------------------------------------------------------------------\u001b[0m",
      "\u001b[1;31mAttributeError\u001b[0m                            Traceback (most recent call last)",
      "Cell \u001b[1;32mIn[8], line 1\u001b[0m\n\u001b[1;32m----> 1\u001b[0m res \u001b[38;5;241m=\u001b[39m \u001b[43miterative_searcher\u001b[49m\u001b[38;5;241;43m.\u001b[39;49m\u001b[43mrun_with_sampleset_info\u001b[49m\u001b[43m(\u001b[49m\n\u001b[0;32m      2\u001b[0m \u001b[43m    \u001b[49m\u001b[43mnum_runs\u001b[49m\u001b[38;5;241;43m=\u001b[39;49m\u001b[38;5;241;43m1\u001b[39;49m\u001b[43m,\u001b[49m\n\u001b[0;32m      3\u001b[0m \u001b[43m    \u001b[49m\u001b[43msave_results\u001b[49m\u001b[38;5;241;43m=\u001b[39;49m\u001b[38;5;28;43;01mTrue\u001b[39;49;00m\u001b[43m,\u001b[49m\n\u001b[0;32m      4\u001b[0m \u001b[43m    \u001b[49m\u001b[43msaving_path\u001b[49m\u001b[38;5;241;43m=\u001b[39;49m\u001b[38;5;124;43m\"\u001b[39;49m\u001b[38;5;124;43madvantage_clique_samples\u001b[39;49m\u001b[38;5;124;43m\"\u001b[39;49m\u001b[43m,\u001b[49m\n\u001b[0;32m      5\u001b[0m \u001b[43m    \u001b[49m\u001b[43miterative_verbosity\u001b[49m\u001b[38;5;241;43m=\u001b[39;49m\u001b[38;5;241;43m1\u001b[39;49m\u001b[43m,\u001b[49m\n\u001b[0;32m      6\u001b[0m \u001b[43m    \u001b[49m\u001b[43mreturn_sampleset_metadata\u001b[49m\u001b[38;5;241;43m=\u001b[39;49m\u001b[38;5;28;43;01mTrue\u001b[39;49;00m\u001b[43m,\u001b[49m\n\u001b[0;32m      7\u001b[0m \u001b[43m)\u001b[49m\n",
      "File \u001b[1;32m~\\Desktop\\Praca_Inzynierska_2024\\Qommunity\\Qommunity\\iterative_searcher\\iterative_hierarchical_searcher.py:232\u001b[0m, in \u001b[0;36mIterativeHierarchicalSearcher.run_with_sampleset_info\u001b[1;34m(self, num_runs, save_results, saving_path, iterative_verbosity, return_sampleset_metadata, **kwargs)\u001b[0m\n\u001b[0;32m    229\u001b[0m \u001b[38;5;28;01mif\u001b[39;00m \u001b[38;5;129;01mnot\u001b[39;00m return_sampleset_metadata:\n\u001b[0;32m    230\u001b[0m     \u001b[38;5;28;01mreturn\u001b[39;00m sampleset\n\u001b[1;32m--> 232\u001b[0m results_processed \u001b[38;5;241m=\u001b[39m \u001b[38;5;28;43mself\u001b[39;49m\u001b[38;5;241;43m.\u001b[39;49m\u001b[43m_process_results\u001b[49m\u001b[43m(\u001b[49m\u001b[43msampleset\u001b[49m\u001b[43m)\u001b[49m\n\u001b[0;32m    234\u001b[0m \u001b[38;5;28;01mreturn\u001b[39;00m results_processed\n",
      "File \u001b[1;32m~\\Desktop\\Praca_Inzynierska_2024\\Qommunity\\Qommunity\\iterative_searcher\\iterative_hierarchical_searcher.py:241\u001b[0m, in \u001b[0;36mIterativeHierarchicalSearcher._process_results\u001b[1;34m(self, sampleset)\u001b[0m\n\u001b[0;32m    236\u001b[0m \u001b[38;5;28;01mdef\u001b[39;00m \u001b[38;5;21m_process_results\u001b[39m(\u001b[38;5;28mself\u001b[39m, sampleset):\n\u001b[0;32m    237\u001b[0m     dtype \u001b[38;5;241m=\u001b[39m [si\u001b[38;5;241m.\u001b[39mdwave_sampleset_metadata \u001b[38;5;28;01mfor\u001b[39;00m si \u001b[38;5;129;01min\u001b[39;00m sampleset[\u001b[38;5;241m0\u001b[39m]\u001b[38;5;241m.\u001b[39msamplesets_data][\n\u001b[0;32m    238\u001b[0m         \u001b[38;5;241m0\u001b[39m\n\u001b[0;32m    239\u001b[0m     ]\u001b[38;5;241m.\u001b[39mdtype\u001b[38;5;241m.\u001b[39mdescr\n\u001b[0;32m    240\u001b[0m     dwave_sampleset_metadata \u001b[38;5;241m=\u001b[39m np\u001b[38;5;241m.\u001b[39marray(\n\u001b[1;32m--> 241\u001b[0m         [\n\u001b[0;32m    242\u001b[0m             np\u001b[38;5;241m.\u001b[39mconcatenate(\n\u001b[0;32m    243\u001b[0m                 [\n\u001b[0;32m    244\u001b[0m                     np\u001b[38;5;241m.\u001b[39marray([r], dtype\u001b[38;5;241m=\u001b[39mdtype)\n\u001b[0;32m    245\u001b[0m                     \u001b[38;5;28;01mfor\u001b[39;00m r \u001b[38;5;129;01min\u001b[39;00m [\n\u001b[0;32m    246\u001b[0m                         si\u001b[38;5;241m.\u001b[39mdwave_sampleset_info\n\u001b[0;32m    247\u001b[0m                         \u001b[38;5;28;01mfor\u001b[39;00m si \u001b[38;5;129;01min\u001b[39;00m sampleset[run]\u001b[38;5;241m.\u001b[39msamplesets_data\n\u001b[0;32m    248\u001b[0m                     ]\n\u001b[0;32m    249\u001b[0m                 ]\n\u001b[0;32m    250\u001b[0m             )\u001b[38;5;241m.\u001b[39mview(np\u001b[38;5;241m.\u001b[39mrecarray)\n\u001b[0;32m    251\u001b[0m             \u001b[38;5;28;01mfor\u001b[39;00m run \u001b[38;5;129;01min\u001b[39;00m \u001b[38;5;28mrange\u001b[39m(\u001b[38;5;28mlen\u001b[39m(sampleset))\n\u001b[0;32m    252\u001b[0m         ],\n\u001b[0;32m    253\u001b[0m         dtype\u001b[38;5;241m=\u001b[39m\u001b[38;5;28mobject\u001b[39m,\n\u001b[0;32m    254\u001b[0m     )\n\u001b[0;32m    256\u001b[0m     dtype \u001b[38;5;241m=\u001b[39m [si\u001b[38;5;241m.\u001b[39mtime_measurements \u001b[38;5;28;01mfor\u001b[39;00m si \u001b[38;5;129;01min\u001b[39;00m sampleset[\u001b[38;5;241m0\u001b[39m]\u001b[38;5;241m.\u001b[39msamplesets_data][\n\u001b[0;32m    257\u001b[0m         \u001b[38;5;241m0\u001b[39m\n\u001b[0;32m    258\u001b[0m     ]\u001b[38;5;241m.\u001b[39mdtype\u001b[38;5;241m.\u001b[39mdescr\n\u001b[0;32m    259\u001b[0m     time_measurements \u001b[38;5;241m=\u001b[39m np\u001b[38;5;241m.\u001b[39marray(\n\u001b[0;32m    260\u001b[0m         [\n\u001b[0;32m    261\u001b[0m             np\u001b[38;5;241m.\u001b[39mconcatenate(\n\u001b[1;32m   (...)\u001b[0m\n\u001b[0;32m    272\u001b[0m         dtype\u001b[38;5;241m=\u001b[39m\u001b[38;5;28mobject\u001b[39m,\n\u001b[0;32m    273\u001b[0m     )\n",
      "File \u001b[1;32m~\\Desktop\\Praca_Inzynierska_2024\\Qommunity\\Qommunity\\iterative_searcher\\iterative_hierarchical_searcher.py:245\u001b[0m, in \u001b[0;36m<listcomp>\u001b[1;34m(.0)\u001b[0m\n\u001b[0;32m    236\u001b[0m \u001b[38;5;28;01mdef\u001b[39;00m \u001b[38;5;21m_process_results\u001b[39m(\u001b[38;5;28mself\u001b[39m, sampleset):\n\u001b[0;32m    237\u001b[0m     dtype \u001b[38;5;241m=\u001b[39m [si\u001b[38;5;241m.\u001b[39mdwave_sampleset_metadata \u001b[38;5;28;01mfor\u001b[39;00m si \u001b[38;5;129;01min\u001b[39;00m sampleset[\u001b[38;5;241m0\u001b[39m]\u001b[38;5;241m.\u001b[39msamplesets_data][\n\u001b[0;32m    238\u001b[0m         \u001b[38;5;241m0\u001b[39m\n\u001b[0;32m    239\u001b[0m     ]\u001b[38;5;241m.\u001b[39mdtype\u001b[38;5;241m.\u001b[39mdescr\n\u001b[0;32m    240\u001b[0m     dwave_sampleset_metadata \u001b[38;5;241m=\u001b[39m np\u001b[38;5;241m.\u001b[39marray(\n\u001b[0;32m    241\u001b[0m         [\n\u001b[0;32m    242\u001b[0m             np\u001b[38;5;241m.\u001b[39mconcatenate(\n\u001b[0;32m    243\u001b[0m                 [\n\u001b[0;32m    244\u001b[0m                     np\u001b[38;5;241m.\u001b[39marray([r], dtype\u001b[38;5;241m=\u001b[39mdtype)\n\u001b[1;32m--> 245\u001b[0m                     \u001b[38;5;28;01mfor\u001b[39;00m r \u001b[38;5;129;01min\u001b[39;00m [\n\u001b[0;32m    246\u001b[0m                         si\u001b[38;5;241m.\u001b[39mdwave_sampleset_info\n\u001b[0;32m    247\u001b[0m                         \u001b[38;5;28;01mfor\u001b[39;00m si \u001b[38;5;129;01min\u001b[39;00m sampleset[run]\u001b[38;5;241m.\u001b[39msamplesets_data\n\u001b[0;32m    248\u001b[0m                     ]\n\u001b[0;32m    249\u001b[0m                 ]\n\u001b[0;32m    250\u001b[0m             )\u001b[38;5;241m.\u001b[39mview(np\u001b[38;5;241m.\u001b[39mrecarray)\n\u001b[0;32m    251\u001b[0m             \u001b[38;5;28;01mfor\u001b[39;00m run \u001b[38;5;129;01min\u001b[39;00m \u001b[38;5;28mrange\u001b[39m(\u001b[38;5;28mlen\u001b[39m(sampleset))\n\u001b[0;32m    252\u001b[0m         ],\n\u001b[0;32m    253\u001b[0m         dtype\u001b[38;5;241m=\u001b[39m\u001b[38;5;28mobject\u001b[39m,\n\u001b[0;32m    254\u001b[0m     )\n\u001b[0;32m    256\u001b[0m     dtype \u001b[38;5;241m=\u001b[39m [si\u001b[38;5;241m.\u001b[39mtime_measurements \u001b[38;5;28;01mfor\u001b[39;00m si \u001b[38;5;129;01min\u001b[39;00m sampleset[\u001b[38;5;241m0\u001b[39m]\u001b[38;5;241m.\u001b[39msamplesets_data][\n\u001b[0;32m    257\u001b[0m         \u001b[38;5;241m0\u001b[39m\n\u001b[0;32m    258\u001b[0m     ]\u001b[38;5;241m.\u001b[39mdtype\u001b[38;5;241m.\u001b[39mdescr\n\u001b[0;32m    259\u001b[0m     time_measurements \u001b[38;5;241m=\u001b[39m np\u001b[38;5;241m.\u001b[39marray(\n\u001b[0;32m    260\u001b[0m         [\n\u001b[0;32m    261\u001b[0m             np\u001b[38;5;241m.\u001b[39mconcatenate(\n\u001b[1;32m   (...)\u001b[0m\n\u001b[0;32m    272\u001b[0m         dtype\u001b[38;5;241m=\u001b[39m\u001b[38;5;28mobject\u001b[39m,\n\u001b[0;32m    273\u001b[0m     )\n",
      "File \u001b[1;32m~\\Desktop\\Praca_Inzynierska_2024\\Qommunity\\Qommunity\\iterative_searcher\\iterative_hierarchical_searcher.py:246\u001b[0m, in \u001b[0;36m<listcomp>\u001b[1;34m(.0)\u001b[0m\n\u001b[0;32m    236\u001b[0m \u001b[38;5;28;01mdef\u001b[39;00m \u001b[38;5;21m_process_results\u001b[39m(\u001b[38;5;28mself\u001b[39m, sampleset):\n\u001b[0;32m    237\u001b[0m     dtype \u001b[38;5;241m=\u001b[39m [si\u001b[38;5;241m.\u001b[39mdwave_sampleset_metadata \u001b[38;5;28;01mfor\u001b[39;00m si \u001b[38;5;129;01min\u001b[39;00m sampleset[\u001b[38;5;241m0\u001b[39m]\u001b[38;5;241m.\u001b[39msamplesets_data][\n\u001b[0;32m    238\u001b[0m         \u001b[38;5;241m0\u001b[39m\n\u001b[0;32m    239\u001b[0m     ]\u001b[38;5;241m.\u001b[39mdtype\u001b[38;5;241m.\u001b[39mdescr\n\u001b[0;32m    240\u001b[0m     dwave_sampleset_metadata \u001b[38;5;241m=\u001b[39m np\u001b[38;5;241m.\u001b[39marray(\n\u001b[0;32m    241\u001b[0m         [\n\u001b[0;32m    242\u001b[0m             np\u001b[38;5;241m.\u001b[39mconcatenate(\n\u001b[0;32m    243\u001b[0m                 [\n\u001b[0;32m    244\u001b[0m                     np\u001b[38;5;241m.\u001b[39marray([r], dtype\u001b[38;5;241m=\u001b[39mdtype)\n\u001b[0;32m    245\u001b[0m                     \u001b[38;5;28;01mfor\u001b[39;00m r \u001b[38;5;129;01min\u001b[39;00m [\n\u001b[1;32m--> 246\u001b[0m                         \u001b[43msi\u001b[49m\u001b[38;5;241;43m.\u001b[39;49m\u001b[43mdwave_sampleset_info\u001b[49m\n\u001b[0;32m    247\u001b[0m                         \u001b[38;5;28;01mfor\u001b[39;00m si \u001b[38;5;129;01min\u001b[39;00m sampleset[run]\u001b[38;5;241m.\u001b[39msamplesets_data\n\u001b[0;32m    248\u001b[0m                     ]\n\u001b[0;32m    249\u001b[0m                 ]\n\u001b[0;32m    250\u001b[0m             )\u001b[38;5;241m.\u001b[39mview(np\u001b[38;5;241m.\u001b[39mrecarray)\n\u001b[0;32m    251\u001b[0m             \u001b[38;5;28;01mfor\u001b[39;00m run \u001b[38;5;129;01min\u001b[39;00m \u001b[38;5;28mrange\u001b[39m(\u001b[38;5;28mlen\u001b[39m(sampleset))\n\u001b[0;32m    252\u001b[0m         ],\n\u001b[0;32m    253\u001b[0m         dtype\u001b[38;5;241m=\u001b[39m\u001b[38;5;28mobject\u001b[39m,\n\u001b[0;32m    254\u001b[0m     )\n\u001b[0;32m    256\u001b[0m     dtype \u001b[38;5;241m=\u001b[39m [si\u001b[38;5;241m.\u001b[39mtime_measurements \u001b[38;5;28;01mfor\u001b[39;00m si \u001b[38;5;129;01min\u001b[39;00m sampleset[\u001b[38;5;241m0\u001b[39m]\u001b[38;5;241m.\u001b[39msamplesets_data][\n\u001b[0;32m    257\u001b[0m         \u001b[38;5;241m0\u001b[39m\n\u001b[0;32m    258\u001b[0m     ]\u001b[38;5;241m.\u001b[39mdtype\u001b[38;5;241m.\u001b[39mdescr\n\u001b[0;32m    259\u001b[0m     time_measurements \u001b[38;5;241m=\u001b[39m np\u001b[38;5;241m.\u001b[39marray(\n\u001b[0;32m    260\u001b[0m         [\n\u001b[0;32m    261\u001b[0m             np\u001b[38;5;241m.\u001b[39mconcatenate(\n\u001b[1;32m   (...)\u001b[0m\n\u001b[0;32m    272\u001b[0m         dtype\u001b[38;5;241m=\u001b[39m\u001b[38;5;28mobject\u001b[39m,\n\u001b[0;32m    273\u001b[0m     )\n",
      "\u001b[1;31mAttributeError\u001b[0m: 'SamplesetData' object has no attribute 'dwave_sampleset_info'"
     ]
    }
   ],
   "source": [
    "res = iterative_searcher.run_with_sampleset_info(\n",
    "    num_runs=1,\n",
    "    save_results=True,\n",
    "    saving_path=\"advantage_clique_samples\",\n",
    "    iterative_verbosity=1,\n",
    "    return_sampleset_metadata=True,\n",
    ")"
   ]
  },
  {
   "cell_type": "code",
   "execution_count": null,
   "id": "bae5142b",
   "metadata": {},
   "outputs": [
    {
     "data": {
      "text/plain": [
       "697037.52"
      ]
     },
     "execution_count": 50,
     "metadata": {},
     "output_type": "execute_result"
    }
   ],
   "source": [
    "res[0].dwave_sampleset_infos.qpu_access_time.sum()"
   ]
  },
  {
   "cell_type": "code",
   "execution_count": null,
   "id": "7e1d29a4",
   "metadata": {},
   "outputs": [],
   "source": [
    "for run in res:\n",
    "    communities = run.communities\n",
    "    modularities = run.modularity\n",
    "    div_trees = run.division_tree\n",
    "    div_modularities = run.division_modularities\n",
    "    dwave_sampleset_info = run.dwave_sampleset_infos\n",
    "    times_measured = run.time_measurements"
   ]
  },
  {
   "cell_type": "markdown",
   "id": "6e7b710e",
   "metadata": {},
   "source": [
    "First run"
   ]
  },
  {
   "cell_type": "code",
   "execution_count": null,
   "id": "41c1873e",
   "metadata": {},
   "outputs": [
    {
     "data": {
      "text/plain": [
       "array([0.1414337, 0.3123298, 0.1391013, 0.3731998, 0.2271785, 0.2742287,\n",
       "       0.1232225, 0.165031 , 0.1379719, 0.1458408, 0.1343016, 0.1420312,\n",
       "       0.332811 , 0.100343 , 0.1122439, 0.2090429, 0.1224837, 0.123875 ,\n",
       "       0.1597369, 0.1049684, 0.1861382, 0.1947471])"
      ]
     },
     "execution_count": 61,
     "metadata": {},
     "output_type": "execute_result"
    }
   ],
   "source": [
    "res[0].time_measurements.find_clique_embedding_time"
   ]
  },
  {
   "cell_type": "markdown",
   "id": "119afbdf",
   "metadata": {},
   "source": [
    "Total time of \"find_clique_embedding\":"
   ]
  },
  {
   "cell_type": "code",
   "execution_count": null,
   "id": "01a94ab0",
   "metadata": {},
   "outputs": [
    {
     "data": {
      "text/plain": [
       "3.962260900036199"
      ]
     },
     "execution_count": 32,
     "metadata": {},
     "output_type": "execute_result"
    }
   ],
   "source": [
    "res[0].time_measurements.find_clique_embedding_time.sum()"
   ]
  },
  {
   "cell_type": "code",
   "execution_count": null,
   "id": "77520d11",
   "metadata": {},
   "outputs": [
    {
     "data": {
      "text/plain": [
       "array([39833.56, 29476.36, 35895.16, 35666.76, 24015.16, 36644.76,\n",
       "       28392.36, 35576.76, 28437.16, 28173.16, 29365.96, 36489.16,\n",
       "       28173.56, 36057.16, 26389.96, 35666.76, 35894.76, 28421.16,\n",
       "       28173.96, 24016.36, 22365.16, 22365.16, 28129.56, 28436.76])"
      ]
     },
     "execution_count": 41,
     "metadata": {},
     "output_type": "execute_result"
    }
   ],
   "source": [
    "res[1].dwave_sampleset_infos.qpu_access_time"
   ]
  },
  {
   "cell_type": "markdown",
   "id": "68a97e74",
   "metadata": {},
   "source": [
    "### Heuristic"
   ]
  },
  {
   "cell_type": "code",
   "execution_count": null,
   "id": "955cba29",
   "metadata": {},
   "outputs": [],
   "source": [
    "advantage = AdvantageSampler(\n",
    "    G, num_reads=num_reads, version=version, region=region, use_clique_embedding=False, measure_times=True, return_sampleset_info=True\n",
    ")"
   ]
  },
  {
   "cell_type": "code",
   "execution_count": null,
   "id": "79d4ea41",
   "metadata": {},
   "outputs": [],
   "source": [
    "iterative_searcher = IterativeSearcher(advantage)"
   ]
  },
  {
   "cell_type": "code",
   "execution_count": null,
   "id": "68524cfb",
   "metadata": {},
   "outputs": [
    {
     "name": "stdout",
     "output_type": "stream",
     "text": [
      "Starting community detection iterations\n"
     ]
    },
    {
     "name": "stderr",
     "output_type": "stream",
     "text": [
      " 50%|█████     | 1/2 [04:56<04:56, 296.86s/it]"
     ]
    },
    {
     "name": "stdout",
     "output_type": "stream",
     "text": [
      "Iteration 0 completed\n"
     ]
    },
    {
     "name": "stderr",
     "output_type": "stream",
     "text": [
      "100%|██████████| 2/2 [14:59<00:00, 449.94s/it]"
     ]
    },
    {
     "name": "stdout",
     "output_type": "stream",
     "text": [
      "Iteration 1 completed\n"
     ]
    },
    {
     "name": "stderr",
     "output_type": "stream",
     "text": [
      "\n"
     ]
    }
   ],
   "source": [
    "res_heu = iterative_searcher.run_with_sampleset_info(\n",
    "    num_runs=2,\n",
    "    save_results=True,\n",
    "    saving_path=\"heuristic)advantage_clique_samples\",\n",
    "    iterative_verbosity=1,\n",
    "    return_sampleset_info=True,\n",
    ")"
   ]
  },
  {
   "cell_type": "code",
   "execution_count": null,
   "id": "cf4e2477",
   "metadata": {},
   "outputs": [
    {
     "data": {
      "text/plain": [
       "array([0.2807632, 0.2406278, 0.3359402, 0.302822 , 0.1841993, 0.1517898,\n",
       "       0.2029491, 0.320833 , 0.2347661, 0.1915635, 0.2737376, 0.2755818,\n",
       "       0.1963269, 0.2202596, 0.3618938, 0.4035531, 0.4405374, 0.427501 ,\n",
       "       0.3805251, 0.3727842, 0.3873692, 0.456362 , 0.4334511, 0.3993097])"
      ]
     },
     "execution_count": 71,
     "metadata": {},
     "output_type": "execute_result"
    }
   ],
   "source": [
    "res_heu[0].time_measurements.embedding_composite_time"
   ]
  },
  {
   "cell_type": "code",
   "execution_count": null,
   "id": "a3b09ffe",
   "metadata": {},
   "outputs": [
    {
     "data": {
      "text/plain": [
       "rec.array([(0.2807632, 59.6475311), (0.2406278, 16.8091243),\n",
       "           (0.3359402,  7.4627778), (0.302822 ,  0.6165701),\n",
       "           (0.1841993,  0.7094622), (0.1517898,  0.0663413),\n",
       "           (0.2029491,  0.2232563), (0.320833 ,  0.1497798),\n",
       "           (0.2347661,  0.1103587), (0.1915635,  0.7009316),\n",
       "           (0.2737376,  0.2508542), (0.2755818,  0.1312484),\n",
       "           (0.1963269,  0.0945934), (0.2202596, 38.5239291),\n",
       "           (0.3618938,  4.9918162), (0.4035531,  0.2753941),\n",
       "           (0.4405374,  2.4519983), (0.427501 ,  0.1697537),\n",
       "           (0.3805251,  1.2791192), (0.3727842,  1.8661805),\n",
       "           (0.3873692,  0.2791576), (0.456362 ,  0.1886594),\n",
       "           (0.4334511,  0.1984597), (0.3993097,  0.5174587)],\n",
       "          dtype=[('embedding_composite_time', '<f8'), ('sample_time', '<f8')])"
      ]
     },
     "execution_count": 72,
     "metadata": {},
     "output_type": "execute_result"
    }
   ],
   "source": [
    "res_heu[0].time_measurements"
   ]
  },
  {
   "cell_type": "code",
   "execution_count": null,
   "id": "9dfedf24",
   "metadata": {},
   "outputs": [
    {
     "data": {
      "text/plain": [
       "7.4754465000587516"
      ]
     },
     "execution_count": 74,
     "metadata": {},
     "output_type": "execute_result"
    }
   ],
   "source": [
    "res_heu[0].time_measurements.embedding_composite_time.sum()"
   ]
  },
  {
   "cell_type": "code",
   "execution_count": null,
   "id": "a7b87cd2",
   "metadata": {},
   "outputs": [
    {
     "data": {
      "text/plain": [
       "137.71475569996983"
      ]
     },
     "execution_count": 78,
     "metadata": {},
     "output_type": "execute_result"
    }
   ],
   "source": [
    "res_heu[0].time_measurements.sample_time.sum()"
   ]
  },
  {
   "cell_type": "code",
   "execution_count": null,
   "id": "c7d8142b",
   "metadata": {},
   "outputs": [
    {
     "data": {
      "text/plain": [
       "array([59.6475311, 16.8091243,  7.4627778,  0.6165701,  0.7094622,\n",
       "        0.0663413,  0.2232563,  0.1497798,  0.1103587,  0.7009316,\n",
       "        0.2508542,  0.1312484,  0.0945934, 38.5239291,  4.9918162,\n",
       "        0.2753941,  2.4519983,  0.1697537,  1.2791192,  1.8661805,\n",
       "        0.2791576,  0.1886594,  0.1984597,  0.5174587])"
      ]
     },
     "execution_count": 79,
     "metadata": {},
     "output_type": "execute_result"
    }
   ],
   "source": [
    "res_heu[0].time_measurements.sample_time"
   ]
  },
  {
   "cell_type": "code",
   "execution_count": 81,
   "id": "9ddccb7a",
   "metadata": {},
   "outputs": [
    {
     "data": {
      "text/plain": [
       "array([0.2807632, 0.2406278, 0.3359402, 0.302822 , 0.1841993, 0.1517898,\n",
       "       0.2029491, 0.320833 , 0.2347661, 0.1915635, 0.2737376, 0.2755818,\n",
       "       0.1963269, 0.2202596, 0.3618938, 0.4035531, 0.4405374, 0.427501 ,\n",
       "       0.3805251, 0.3727842, 0.3873692, 0.456362 , 0.4334511, 0.3993097])"
      ]
     },
     "execution_count": 81,
     "metadata": {},
     "output_type": "execute_result"
    }
   ],
   "source": [
    "res_heu[0].time_measurements.embedding_composite_time"
   ]
  }
 ],
 "metadata": {
  "kernelspec": {
   "display_name": "qomm_env",
   "language": "python",
   "name": "python3"
  },
  "language_info": {
   "codemirror_mode": {
    "name": "ipython",
    "version": 3
   },
   "file_extension": ".py",
   "mimetype": "text/x-python",
   "name": "python",
   "nbconvert_exporter": "python",
   "pygments_lexer": "ipython3",
   "version": "3.10.14"
  }
 },
 "nbformat": 4,
 "nbformat_minor": 5
}
