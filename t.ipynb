{
 "cells": [
  {
   "cell_type": "code",
   "execution_count": 1,
   "id": "ea0c71f5",
   "metadata": {},
   "outputs": [],
   "source": [
    "t = (0,1,2)"
   ]
  },
  {
   "cell_type": "code",
   "execution_count": 3,
   "id": "144971b6",
   "metadata": {},
   "outputs": [],
   "source": [
    "result = []\n",
    "division_tree = []\n",
    "division_modularities = []"
   ]
  },
  {
   "cell_type": "code",
   "execution_count": null,
   "id": "b2bcda91",
   "metadata": {},
   "outputs": [],
   "source": []
  },
  {
   "cell_type": "code",
   "execution_count": 23,
   "id": "10ac8229",
   "metadata": {},
   "outputs": [],
   "source": [
    "return_tuple = result, division_tree\n",
    "# if division_tree:\n",
    "#     return result, division_tree\n",
    "# if return_modularities:\n",
    "#     return result, division_modularities"
   ]
  },
  {
   "cell_type": "code",
   "execution_count": 24,
   "id": "fe9825ae",
   "metadata": {},
   "outputs": [
    {
     "data": {
      "text/plain": [
       "([], [])"
      ]
     },
     "execution_count": 24,
     "metadata": {},
     "output_type": "execute_result"
    }
   ],
   "source": [
    "return_tuple"
   ]
  },
  {
   "cell_type": "code",
   "execution_count": 25,
   "id": "35c7e913",
   "metadata": {},
   "outputs": [
    {
     "data": {
      "text/plain": [
       "([], [], [])"
      ]
     },
     "execution_count": 25,
     "metadata": {},
     "output_type": "execute_result"
    }
   ],
   "source": [
    "return_tuple = (*return_tuple, division_modularities)\n",
    "return_tuple"
   ]
  }
 ],
 "metadata": {
  "kernelspec": {
   "display_name": "qomm_env",
   "language": "python",
   "name": "python3"
  },
  "language_info": {
   "codemirror_mode": {
    "name": "ipython",
    "version": 3
   },
   "file_extension": ".py",
   "mimetype": "text/x-python",
   "name": "python",
   "nbconvert_exporter": "python",
   "pygments_lexer": "ipython3",
   "version": "3.10.14"
  }
 },
 "nbformat": 4,
 "nbformat_minor": 5
}
