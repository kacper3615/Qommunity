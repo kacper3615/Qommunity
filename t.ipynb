{
 "cells": [
  {
   "cell_type": "code",
   "execution_count": 1,
   "metadata": {},
   "outputs": [],
   "source": [
    "from Qommunity.searchers.hierarchical_community_searcher import HierarchicalCommunitySearcher\n",
    "from Qommunity.samplers.hierarchical.gurobi_sampler import GurobiSampler"
   ]
  },
  {
   "cell_type": "code",
   "execution_count": 2,
   "metadata": {},
   "outputs": [],
   "source": [
    "from Qommunity.samplers.regular.leiden_sampler import LeidenSampler\n",
    "from Qommunity.searchers.community_searcher.community_searcher import CommunitySearcher"
   ]
  },
  {
   "cell_type": "code",
   "execution_count": 3,
   "metadata": {},
   "outputs": [],
   "source": [
    "import numpy as np\n",
    "import networkx as nx\n",
    "\n",
    "\n",
    "adj_matrix = np.genfromtxt(\"data/Edge_AAL90_Binary.csv\", delimiter=\"\t\")\n",
    "G = nx.from_numpy_matrix(adj_matrix)"
   ]
  },
  {
   "cell_type": "code",
   "execution_count": 4,
   "metadata": {},
   "outputs": [],
   "source": [
    "searcher = CommunitySearcher(LeidenSampler(G))"
   ]
  },
  {
   "cell_type": "code",
   "execution_count": 5,
   "metadata": {},
   "outputs": [],
   "source": [
    "res_leiden = searcher.community_search()"
   ]
  },
  {
   "cell_type": "code",
   "execution_count": 6,
   "metadata": {},
   "outputs": [
    {
     "data": {
      "text/plain": [
       "[[2, 3, 4, 22, 23, 24, 25, 26, 27, 30, 31, 34, 35, 64, 65, 66, 67, 84, 85, 89],\n",
       " [1, 16, 17, 19, 28, 29, 32, 33, 56, 57, 62, 63, 68, 69, 78, 79, 80, 81, 83],\n",
       " [0, 5, 6, 7, 8, 9, 10, 11, 12, 13, 14, 15, 18, 60, 61, 88],\n",
       " [42, 43, 44, 45, 46, 47, 48, 49, 50, 51, 52, 53, 54, 55, 58, 59],\n",
       " [20, 21, 36, 37, 38, 39, 40, 41, 70, 71, 72, 73, 74, 75, 76, 77],\n",
       " [82, 86, 87]]"
      ]
     },
     "execution_count": 6,
     "metadata": {},
     "output_type": "execute_result"
    }
   ],
   "source": [
    "res_leiden"
   ]
  },
  {
   "cell_type": "code",
   "execution_count": 7,
   "metadata": {},
   "outputs": [],
   "source": [
    "hierarchical_searcher = HierarchicalCommunitySearcher(GurobiSampler(G))"
   ]
  },
  {
   "cell_type": "code",
   "execution_count": 8,
   "metadata": {},
   "outputs": [
    {
     "name": "stdout",
     "output_type": "stream",
     "text": [
      "Set parameter Username\n",
      "Academic license - for non-commercial use only - expires 2025-03-27\n"
     ]
    }
   ],
   "source": [
    "res_gurobi = hierarchical_searcher.hierarchical_community_search()"
   ]
  },
  {
   "cell_type": "code",
   "execution_count": 9,
   "metadata": {},
   "outputs": [
    {
     "data": {
      "text/plain": [
       "[[34, 35, 66, 67],\n",
       " [42, 43, 44, 45, 46, 47, 48, 49, 50, 51, 52, 53, 54, 55],\n",
       " [20, 21, 36, 37, 38, 39, 40, 41, 70, 71, 72, 73, 74, 75, 76, 77, 86, 87],\n",
       " [0,\n",
       "  1,\n",
       "  16,\n",
       "  17,\n",
       "  19,\n",
       "  28,\n",
       "  29,\n",
       "  32,\n",
       "  33,\n",
       "  56,\n",
       "  57,\n",
       "  58,\n",
       "  59,\n",
       "  62,\n",
       "  63,\n",
       "  68,\n",
       "  69,\n",
       "  78,\n",
       "  79,\n",
       "  80,\n",
       "  81,\n",
       "  82,\n",
       "  83],\n",
       " [5, 6, 7, 8, 9, 10, 11, 12, 13, 14, 15, 18, 60, 61, 88],\n",
       " [2, 3, 4, 22, 23, 24, 25, 26, 27, 30, 31, 64, 65, 84, 85, 89]]"
      ]
     },
     "execution_count": 9,
     "metadata": {},
     "output_type": "execute_result"
    }
   ],
   "source": [
    "res_gurobi"
   ]
  },
  {
   "cell_type": "code",
   "execution_count": 10,
   "metadata": {},
   "outputs": [
    {
     "data": {
      "text/plain": [
       "0.646686912817234"
      ]
     },
     "execution_count": 10,
     "metadata": {},
     "output_type": "execute_result"
    }
   ],
   "source": [
    "nx.community.modularity(G, res_leiden)"
   ]
  },
  {
   "cell_type": "code",
   "execution_count": 11,
   "metadata": {},
   "outputs": [
    {
     "data": {
      "text/plain": [
       "0.637922460795283"
      ]
     },
     "execution_count": 11,
     "metadata": {},
     "output_type": "execute_result"
    }
   ],
   "source": [
    "nx.community.modularity(G, res_gurobi)"
   ]
  },
  {
   "cell_type": "code",
   "execution_count": 35,
   "metadata": {},
   "outputs": [],
   "source": [
    "from samplers.hierarchical.advantage_sampler.advantage_sampler import AdvantageSampler\n",
    "\n",
    "\n",
    "hierarchical_searcher = HierarchicalCommunitySearcher(AdvantageSampler(G, num_reads=100))"
   ]
  },
  {
   "cell_type": "code",
   "execution_count": 13,
   "metadata": {},
   "outputs": [],
   "source": [
    "res_adv = hierarchical_searcher.hierarchical_community_search()"
   ]
  },
  {
   "cell_type": "code",
   "execution_count": 14,
   "metadata": {},
   "outputs": [
    {
     "data": {
      "text/plain": [
       "0.6379224607952829"
      ]
     },
     "execution_count": 14,
     "metadata": {},
     "output_type": "execute_result"
    }
   ],
   "source": [
    "nx.community.modularity(G, res_adv)"
   ]
  },
  {
   "cell_type": "code",
   "execution_count": 36,
   "metadata": {},
   "outputs": [],
   "source": [
    "samples_reg = [hierarchical_searcher.hierarchical_community_search() for _ in range(10)]"
   ]
  },
  {
   "cell_type": "code",
   "execution_count": 39,
   "metadata": {},
   "outputs": [
    {
     "data": {
      "text/plain": [
       "[0.6379224607952829,\n",
       " 0.6379224607952829,\n",
       " 0.6434635125295256,\n",
       " 0.6379224607952829,\n",
       " 0.6379224607952829,\n",
       " 0.6379224607952829,\n",
       " 0.6379224607952829,\n",
       " 0.6379224607952829,\n",
       " 0.6396214798633681,\n",
       " 0.639621479863368]"
      ]
     },
     "execution_count": 39,
     "metadata": {},
     "output_type": "execute_result"
    }
   ],
   "source": [
    "mods_reg = [nx.community.modularity(G, res) for res in samples_reg]\n",
    "mods_reg"
   ]
  },
  {
   "cell_type": "code",
   "execution_count": null,
   "metadata": {},
   "outputs": [],
   "source": []
  },
  {
   "cell_type": "code",
   "execution_count": 34,
   "metadata": {},
   "outputs": [],
   "source": [
    "from minorminer.busclique import busgraph_cache\n",
    "\n",
    "busgraph_cache.clear_all_caches()"
   ]
  },
  {
   "cell_type": "code",
   "execution_count": 18,
   "metadata": {},
   "outputs": [
    {
     "name": "stdout",
     "output_type": "stream",
     "text": [
      "comm: 90 elapsed: 142.30161905288696\n"
     ]
    }
   ],
   "source": [
    "from samplers.hierarchical.advantage_sampler_clique_embedding import AdvantageSamplerCliqueEmbedding\n",
    "\n",
    "\n",
    "hierarchical_searcher_cl = HierarchicalCommunitySearcher(AdvantageSamplerCliqueEmbedding(G, num_reads=100))"
   ]
  },
  {
   "cell_type": "code",
   "execution_count": null,
   "metadata": {},
   "outputs": [],
   "source": []
  },
  {
   "cell_type": "code",
   "execution_count": 19,
   "metadata": {},
   "outputs": [
    {
     "name": "stdout",
     "output_type": "stream",
     "text": [
      "comm: 90 elapsed: 0.10926389694213867\n",
      "comm: 54 elapsed: 0.5647273063659668\n",
      "comm: 31 elapsed: 0.1217963695526123\n",
      "comm: 16 elapsed: 0.1115109920501709\n",
      "comm: 15 elapsed: 0.08745813369750977\n",
      "comm: 23 elapsed: 0.11761879920959473\n",
      "comm: 36 elapsed: 0.09084701538085938\n",
      "comm: 18 elapsed: 0.10961198806762695\n",
      "comm: 4 elapsed: 0.09019279479980469\n",
      "comm: 14 elapsed: 0.0916588306427002\n",
      "comm: 18 elapsed: 0.09757471084594727\n"
     ]
    }
   ],
   "source": [
    "res_adv_cl = hierarchical_searcher_cl.hierarchical_community_search()"
   ]
  },
  {
   "cell_type": "code",
   "execution_count": 20,
   "metadata": {},
   "outputs": [
    {
     "data": {
      "text/plain": [
       "[[2, 3, 4, 22, 23, 24, 25, 26, 27, 30, 31, 64, 65, 84, 85, 89],\n",
       " [5, 6, 7, 8, 9, 10, 11, 12, 13, 14, 15, 18, 60, 61, 88],\n",
       " [0,\n",
       "  1,\n",
       "  16,\n",
       "  17,\n",
       "  19,\n",
       "  28,\n",
       "  29,\n",
       "  32,\n",
       "  33,\n",
       "  56,\n",
       "  57,\n",
       "  58,\n",
       "  59,\n",
       "  62,\n",
       "  63,\n",
       "  68,\n",
       "  69,\n",
       "  78,\n",
       "  79,\n",
       "  80,\n",
       "  81,\n",
       "  82,\n",
       "  83],\n",
       " [34, 35, 66, 67],\n",
       " [42, 43, 44, 45, 46, 47, 48, 49, 50, 51, 52, 53, 54, 55],\n",
       " [20, 21, 36, 37, 38, 39, 40, 41, 70, 71, 72, 73, 74, 75, 76, 77, 86, 87]]"
      ]
     },
     "execution_count": 20,
     "metadata": {},
     "output_type": "execute_result"
    }
   ],
   "source": [
    "res_adv_cl"
   ]
  },
  {
   "cell_type": "code",
   "execution_count": 21,
   "metadata": {},
   "outputs": [
    {
     "data": {
      "text/plain": [
       "0.6379224607952829"
      ]
     },
     "execution_count": 21,
     "metadata": {},
     "output_type": "execute_result"
    }
   ],
   "source": [
    "nx.community.modularity(G, res_adv_cl)"
   ]
  },
  {
   "cell_type": "code",
   "execution_count": null,
   "metadata": {},
   "outputs": [],
   "source": []
  },
  {
   "cell_type": "code",
   "execution_count": 22,
   "metadata": {},
   "outputs": [
    {
     "name": "stdout",
     "output_type": "stream",
     "text": [
      "comm: 90 elapsed: 0.09931421279907227\n",
      "comm: 54 elapsed: 0.2613859176635742\n",
      "comm: 31 elapsed: 0.20003676414489746\n",
      "comm: 16 elapsed: 0.09751033782958984\n",
      "comm: 15 elapsed: 0.12792205810546875\n",
      "comm: 23 elapsed: 0.1225590705871582\n",
      "comm: 36 elapsed: 0.10801386833190918\n",
      "comm: 18 elapsed: 0.09670639038085938\n",
      "comm: 4 elapsed: 0.14651918411254883\n",
      "comm: 14 elapsed: 0.10071253776550293\n",
      "comm: 18 elapsed: 0.13571858406066895\n",
      "comm: 90 elapsed: 0.11251306533813477\n",
      "comm: 54 elapsed: 0.12963032722473145\n",
      "comm: 31 elapsed: 0.10170197486877441\n",
      "comm: 16 elapsed: 0.10663914680480957\n",
      "comm: 15 elapsed: 0.1046910285949707\n",
      "comm: 23 elapsed: 0.10436439514160156\n",
      "comm: 36 elapsed: 0.13609910011291504\n",
      "comm: 18 elapsed: 0.14765262603759766\n",
      "comm: 4 elapsed: 0.13188886642456055\n",
      "comm: 14 elapsed: 0.11051249504089355\n",
      "comm: 18 elapsed: 0.1045527458190918\n",
      "comm: 90 elapsed: 0.1804337501525879\n",
      "comm: 54 elapsed: 0.13768482208251953\n",
      "comm: 31 elapsed: 0.10774827003479004\n",
      "comm: 16 elapsed: 0.11724710464477539\n",
      "comm: 15 elapsed: 0.15471887588500977\n",
      "comm: 23 elapsed: 0.1458733081817627\n",
      "comm: 36 elapsed: 0.13161373138427734\n",
      "comm: 18 elapsed: 0.14151835441589355\n",
      "comm: 4 elapsed: 0.13899445533752441\n",
      "comm: 14 elapsed: 0.12851190567016602\n",
      "comm: 18 elapsed: 0.1440901756286621\n",
      "comm: 90 elapsed: 0.1521914005279541\n",
      "comm: 54 elapsed: 0.15337705612182617\n",
      "comm: 31 elapsed: 0.13860774040222168\n",
      "comm: 16 elapsed: 0.1447620391845703\n",
      "comm: 15 elapsed: 0.12694287300109863\n",
      "comm: 23 elapsed: 0.14590835571289062\n",
      "comm: 36 elapsed: 0.14673662185668945\n",
      "comm: 18 elapsed: 0.14244890213012695\n",
      "comm: 4 elapsed: 0.15179228782653809\n",
      "comm: 14 elapsed: 0.1216881275177002\n",
      "comm: 18 elapsed: 0.15005016326904297\n",
      "comm: 90 elapsed: 0.15173721313476562\n",
      "comm: 36 elapsed: 0.14962172508239746\n",
      "comm: 18 elapsed: 0.1216270923614502\n",
      "comm: 4 elapsed: 0.13518786430358887\n",
      "comm: 14 elapsed: 0.1580805778503418\n",
      "comm: 18 elapsed: 0.15614724159240723\n",
      "comm: 54 elapsed: 0.16493654251098633\n",
      "comm: 31 elapsed: 0.1950671672821045\n",
      "comm: 16 elapsed: 0.12551283836364746\n",
      "comm: 15 elapsed: 0.12557411193847656\n",
      "comm: 23 elapsed: 0.15362977981567383\n",
      "comm: 90 elapsed: 0.19306230545043945\n",
      "comm: 54 elapsed: 0.1685500144958496\n",
      "comm: 31 elapsed: 0.1445760726928711\n",
      "comm: 16 elapsed: 0.1668987274169922\n",
      "comm: 15 elapsed: 0.1392366886138916\n",
      "comm: 23 elapsed: 0.12587189674377441\n",
      "comm: 36 elapsed: 0.13552355766296387\n",
      "comm: 18 elapsed: 0.14459872245788574\n",
      "comm: 4 elapsed: 0.15432333946228027\n",
      "comm: 14 elapsed: 0.1499183177947998\n",
      "comm: 18 elapsed: 0.14869356155395508\n",
      "comm: 90 elapsed: 0.14713072776794434\n",
      "comm: 54 elapsed: 0.1324775218963623\n",
      "comm: 31 elapsed: 0.1744852066040039\n",
      "comm: 16 elapsed: 0.1406238079071045\n",
      "comm: 15 elapsed: 0.23558950424194336\n",
      "comm: 23 elapsed: 0.14739155769348145\n",
      "comm: 36 elapsed: 0.15723443031311035\n",
      "comm: 18 elapsed: 0.151688814163208\n",
      "comm: 4 elapsed: 0.18134713172912598\n",
      "comm: 14 elapsed: 0.18586111068725586\n",
      "comm: 18 elapsed: 0.18918681144714355\n",
      "comm: 90 elapsed: 0.1654195785522461\n",
      "comm: 54 elapsed: 0.18012046813964844\n",
      "comm: 31 elapsed: 0.18669891357421875\n",
      "comm: 16 elapsed: 0.21941804885864258\n",
      "comm: 15 elapsed: 0.20284152030944824\n",
      "comm: 23 elapsed: 0.14450955390930176\n",
      "comm: 36 elapsed: 0.18569350242614746\n",
      "comm: 18 elapsed: 0.14148879051208496\n",
      "comm: 4 elapsed: 0.2815699577331543\n",
      "comm: 14 elapsed: 0.2964198589324951\n",
      "comm: 18 elapsed: 0.19702577590942383\n",
      "comm: 90 elapsed: 0.2491147518157959\n",
      "comm: 54 elapsed: 0.1827695369720459\n",
      "comm: 31 elapsed: 0.18261027336120605\n",
      "comm: 16 elapsed: 0.20228362083435059\n",
      "comm: 15 elapsed: 0.22229599952697754\n",
      "comm: 23 elapsed: 0.20603609085083008\n",
      "comm: 36 elapsed: 0.1546316146850586\n",
      "comm: 18 elapsed: 0.15166425704956055\n",
      "comm: 4 elapsed: 0.19362521171569824\n",
      "comm: 14 elapsed: 0.20137763023376465\n",
      "comm: 18 elapsed: 0.2499549388885498\n",
      "comm: 90 elapsed: 0.3073248863220215\n",
      "comm: 54 elapsed: 0.23508691787719727\n",
      "comm: 31 elapsed: 0.18209624290466309\n",
      "comm: 16 elapsed: 0.2705495357513428\n",
      "comm: 15 elapsed: 0.2253115177154541\n",
      "comm: 23 elapsed: 0.1931142807006836\n",
      "comm: 36 elapsed: 0.25150346755981445\n",
      "comm: 18 elapsed: 0.21330022811889648\n",
      "comm: 4 elapsed: 0.16945862770080566\n",
      "comm: 14 elapsed: 0.21324801445007324\n",
      "comm: 18 elapsed: 0.21508169174194336\n"
     ]
    }
   ],
   "source": [
    "samples = [hierarchical_searcher_cl.hierarchical_community_search() for _ in range(10)]"
   ]
  },
  {
   "cell_type": "code",
   "execution_count": 23,
   "metadata": {},
   "outputs": [
    {
     "data": {
      "text/plain": [
       "[0.6379224607952829,\n",
       " 0.6379224607952829,\n",
       " 0.6379224607952829,\n",
       " 0.6379224607952829,\n",
       " 0.6379224607952829,\n",
       " 0.6379224607952829,\n",
       " 0.6379224607952829,\n",
       " 0.6379224607952829,\n",
       " 0.6379224607952829,\n",
       " 0.6379224607952829]"
      ]
     },
     "execution_count": 23,
     "metadata": {},
     "output_type": "execute_result"
    }
   ],
   "source": [
    "modularities = [nx.community.modularity(G, res) for res in samples]\n",
    "modularities"
   ]
  },
  {
   "cell_type": "code",
   "execution_count": null,
   "metadata": {},
   "outputs": [],
   "source": []
  }
 ],
 "metadata": {
  "kernelspec": {
   "display_name": "Python 3",
   "language": "python",
   "name": "python3"
  },
  "language_info": {
   "codemirror_mode": {
    "name": "ipython",
    "version": 3
   },
   "file_extension": ".py",
   "mimetype": "text/x-python",
   "name": "python",
   "nbconvert_exporter": "python",
   "pygments_lexer": "ipython3",
   "version": "3.10.11"
  }
 },
 "nbformat": 4,
 "nbformat_minor": 2
}
