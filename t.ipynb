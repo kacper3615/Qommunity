{
 "cells": [
  {
   "cell_type": "code",
   "execution_count": 1,
   "metadata": {},
   "outputs": [],
   "source": [
    "from QHyper.solvers.quantum_annealing.advantage import Advantage\n",
    "\n",
    "import numpy as np\n",
    "from collections import defaultdict\n",
    "\n",
    "from QHyper.converter import Converter\n",
    "from QHyper.constraint import Polynomial\n",
    "\n",
    "from dwave.system import DWaveSampler, EmbeddingComposite\n",
    "from dimod import BinaryQuadraticModel\n",
    "from dimod.sampleset import SampleSet"
   ]
  },
  {
   "cell_type": "code",
   "execution_count": 2,
   "metadata": {},
   "outputs": [],
   "source": [
    "def convert_qubo_keys(qubo: Polynomial) -> tuple[dict[tuple, float], float]:\n",
    "    new_qubo = defaultdict(float)\n",
    "    offset = 0.0\n",
    "\n",
    "    qubo, offset = qubo.separate_const()\n",
    "    for k, v in qubo.terms.items():\n",
    "        if len(k) == 1:\n",
    "            new_key = (k[0], k[0])\n",
    "        elif len(k) > 2:\n",
    "            raise ValueError(\"Only supports quadratic model\")\n",
    "        else:\n",
    "            new_key = k\n",
    "\n",
    "        new_qubo[new_key] += v\n",
    "\n",
    "    return (new_qubo, offset)"
   ]
  },
  {
   "cell_type": "code",
   "execution_count": 3,
   "metadata": {},
   "outputs": [],
   "source": [
    "import networkx as nx\n",
    "\n",
    "\n",
    "Graphs = np.load(\"networks/powerlaw_m=1_p=0.2/graphs.npy\", allow_pickle=True)\n",
    "G = Graphs[9]"
   ]
  },
  {
   "cell_type": "code",
   "execution_count": 4,
   "metadata": {},
   "outputs": [],
   "source": [
    "from QHyper.problems.community_detection import CommunityDetectionProblem, Network\n",
    "\n",
    "\n",
    "network = Network(graph=G)\n",
    "problem = CommunityDetectionProblem(network_data=network, communities=2, one_hot_encoding=False)"
   ]
  },
  {
   "cell_type": "code",
   "execution_count": 5,
   "metadata": {},
   "outputs": [],
   "source": [
    "sampler = DWaveSampler(solver=\"Advantage_system5.4\", region=\"eu-central-1\")\n",
    "embedding_compose = EmbeddingComposite(sampler)"
   ]
  },
  {
   "cell_type": "code",
   "execution_count": 7,
   "metadata": {},
   "outputs": [],
   "source": [
    "qubo = Converter.create_qubo(problem, [])\n",
    "qubo_terms, offset = convert_qubo_keys(qubo)\n",
    "bqm = BinaryQuadraticModel.from_qubo(qubo_terms, offset=offset)"
   ]
  },
  {
   "cell_type": "code",
   "execution_count": 38,
   "metadata": {},
   "outputs": [],
   "source": [
    "sampleset = EmbeddingComposite(sampler).sample(\n",
    "    bqm, num_reads=100\n",
    ")"
   ]
  },
  {
   "cell_type": "code",
   "execution_count": 39,
   "metadata": {},
   "outputs": [],
   "source": [
    "res = sampleset.first.sample"
   ]
  },
  {
   "cell_type": "code",
   "execution_count": 40,
   "metadata": {},
   "outputs": [
    {
     "name": "stdout",
     "output_type": "stream",
     "text": [
      "46\n",
      "54\n",
      "0.4421487603305785\n"
     ]
    }
   ],
   "source": [
    "c0 = sorted([int(k[1:]) for k, v in res.items() if v == 0])\n",
    "c1 = sorted([int(k[1:]) for k, v in res.items() if v == 1])\n",
    "\n",
    "print(len(c0))\n",
    "print(len(c1))\n",
    "print(nx.community.modularity(G, [c0, c1]))"
   ]
  },
  {
   "cell_type": "code",
   "execution_count": 12,
   "metadata": {},
   "outputs": [],
   "source": [
    "sampleset = embedding_compose.sample(\n",
    "    bqm, num_reads=100, return_embedding=True\n",
    ")"
   ]
  },
  {
   "cell_type": "markdown",
   "metadata": {},
   "source": [
    "sampleset"
   ]
  },
  {
   "cell_type": "markdown",
   "metadata": {},
   "source": []
  },
  {
   "cell_type": "code",
   "execution_count": 14,
   "metadata": {},
   "outputs": [],
   "source": [
    "embedding_from_sampleset = sampleset.info[\"embedding_context\"][\"embedding\"]"
   ]
  },
  {
   "cell_type": "code",
   "execution_count": 8,
   "metadata": {},
   "outputs": [],
   "source": [
    "import minorminer\n",
    "import dimod\n",
    "\n",
    "\n",
    "find_embedding=minorminer.find_embedding\n",
    "child_structure_search = dimod.child_structure_dfs"
   ]
  },
  {
   "cell_type": "code",
   "execution_count": 9,
   "metadata": {},
   "outputs": [],
   "source": [
    "# apply the embedding to the given problem to map it to the child sampler\n",
    "target_structure = child_structure_search(sampler)\n",
    "__, target_edgelist, target_adjacency = target_structure\n",
    "\n",
    "# add self-loops to edgelist to handle singleton variables\n",
    "source_edgelist = list(bqm.quadratic) + [(v, v) for v in bqm.linear]"
   ]
  },
  {
   "cell_type": "code",
   "execution_count": null,
   "metadata": {},
   "outputs": [],
   "source": []
  },
  {
   "cell_type": "code",
   "execution_count": 10,
   "metadata": {},
   "outputs": [],
   "source": [
    "embedding = find_embedding(source_edgelist, target_edgelist)"
   ]
  },
  {
   "cell_type": "code",
   "execution_count": 15,
   "metadata": {},
   "outputs": [],
   "source": [
    "embedding_calculated = embedding"
   ]
  },
  {
   "cell_type": "code",
   "execution_count": 19,
   "metadata": {},
   "outputs": [
    {
     "data": {
      "text/plain": [
       "[695, 696, 697, 3888, 3887, 395, 693, 3931, 3930, 694, 692, 691, 698, 690]"
      ]
     },
     "execution_count": 19,
     "metadata": {},
     "output_type": "execute_result"
    }
   ],
   "source": [
    "embedding_calculated[\"x3\"]"
   ]
  },
  {
   "cell_type": "code",
   "execution_count": 20,
   "metadata": {},
   "outputs": [
    {
     "data": {
      "text/plain": [
       "(797, 798, 799, 800, 796, 795, 3107, 3108, 801, 802, 3106)"
      ]
     },
     "execution_count": 20,
     "metadata": {},
     "output_type": "execute_result"
    }
   ],
   "source": [
    "embedding_from_sampleset[\"x3\"]"
   ]
  },
  {
   "cell_type": "code",
   "execution_count": null,
   "metadata": {},
   "outputs": [],
   "source": []
  },
  {
   "cell_type": "code",
   "execution_count": 21,
   "metadata": {},
   "outputs": [],
   "source": [
    "sampleset_with_random_seed = embedding_compose.sample(\n",
    "    bqm, num_reads=100, return_embedding=True, embedding_parameters={\"random_seed\": 10}\n",
    ")"
   ]
  },
  {
   "cell_type": "code",
   "execution_count": 22,
   "metadata": {},
   "outputs": [],
   "source": [
    "embedding_with_random_seed = find_embedding(source_edgelist, target_edgelist, random_seed=10)"
   ]
  },
  {
   "cell_type": "code",
   "execution_count": 23,
   "metadata": {},
   "outputs": [],
   "source": [
    "embedding_from_sampleset_rs = sampleset_with_random_seed.info[\"embedding_context\"][\"embedding\"]"
   ]
  },
  {
   "cell_type": "code",
   "execution_count": 24,
   "metadata": {},
   "outputs": [],
   "source": [
    "embedding_calculated_rs = embedding_with_random_seed"
   ]
  },
  {
   "cell_type": "code",
   "execution_count": 30,
   "metadata": {},
   "outputs": [
    {
     "data": {
      "text/plain": [
       "True"
      ]
     },
     "execution_count": 30,
     "metadata": {},
     "output_type": "execute_result"
    }
   ],
   "source": [
    "sorted(embedding_calculated_rs) == sorted(embedding_from_sampleset_rs)"
   ]
  },
  {
   "cell_type": "code",
   "execution_count": null,
   "metadata": {},
   "outputs": [],
   "source": []
  },
  {
   "cell_type": "code",
   "execution_count": null,
   "metadata": {},
   "outputs": [],
   "source": []
  },
  {
   "cell_type": "code",
   "execution_count": 32,
   "metadata": {},
   "outputs": [],
   "source": [
    "from dwave.system.composites import FixedEmbeddingComposite\n",
    "\n",
    "\n",
    "embedding_compose_fe = FixedEmbeddingComposite(sampler, embedding=embedding_calculated_rs)"
   ]
  },
  {
   "cell_type": "code",
   "execution_count": 33,
   "metadata": {},
   "outputs": [],
   "source": [
    "sampleset_fe = embedding_compose_fe.sample(bqm, num_reads=100, return_embedding=True)"
   ]
  },
  {
   "cell_type": "code",
   "execution_count": 36,
   "metadata": {},
   "outputs": [],
   "source": [
    "res_fe = sampleset_fe.first.sample"
   ]
  },
  {
   "cell_type": "code",
   "execution_count": 41,
   "metadata": {},
   "outputs": [],
   "source": [
    "c0_fe = sorted([int(k[1:]) for k, v in res_fe.items() if v == 0])\n",
    "c1_fe = sorted([int(k[1:]) for k, v in res_fe.items() if v == 1])"
   ]
  },
  {
   "cell_type": "code",
   "execution_count": 50,
   "metadata": {},
   "outputs": [
    {
     "name": "stdout",
     "output_type": "stream",
     "text": [
      "0.4421487603305785\n",
      "0.44485256606468726\n"
     ]
    }
   ],
   "source": [
    "print(nx.community.modularity(G, [c0, c1]))\n",
    "print(nx.community.modularity(G, [c0_fe, c1_fe]))"
   ]
  },
  {
   "cell_type": "code",
   "execution_count": 52,
   "metadata": {},
   "outputs": [],
   "source": [
    "from joblib import Parallel, delayed\n",
    "\n",
    "\n",
    "N_RUNS = 8\n",
    "n_jobs = 8\n",
    "\n",
    "embeddings = Parallel(n_jobs=n_jobs)(\n",
    "                    delayed(find_embedding)(source_edgelist, target_edgelist, random_seed=10) for _ in range(N_RUNS)\n",
    "                )"
   ]
  },
  {
   "cell_type": "code",
   "execution_count": 55,
   "metadata": {},
   "outputs": [],
   "source": [
    "embeddings_2 = []\n",
    "\n",
    "for _ in range(N_RUNS):\n",
    "    emb = find_embedding(source_edgelist, target_edgelist, random_seed=10)\n",
    "    embeddings_2.append(emb)"
   ]
  },
  {
   "cell_type": "code",
   "execution_count": null,
   "metadata": {},
   "outputs": [],
   "source": []
  },
  {
   "cell_type": "code",
   "execution_count": null,
   "metadata": {},
   "outputs": [],
   "source": []
  },
  {
   "cell_type": "code",
   "execution_count": null,
   "metadata": {},
   "outputs": [],
   "source": []
  },
  {
   "cell_type": "code",
   "execution_count": 60,
   "metadata": {},
   "outputs": [],
   "source": [
    "problem_c0 = CommunityDetectionProblem(network_data=Network(graph=G, community=c0), communities=2, one_hot_encoding=False)\n",
    "qubo_c0 = Converter.create_qubo(problem_c0, [])\n",
    "qubo_terms_c0, offset_c0 = convert_qubo_keys(qubo_c0)\n",
    "bqm_c0 = BinaryQuadraticModel.from_qubo(qubo_terms_c0, offset=offset_c0)"
   ]
  },
  {
   "cell_type": "code",
   "execution_count": 61,
   "metadata": {},
   "outputs": [],
   "source": [
    "source_edgelist_c0 = list(bqm_c0.quadratic) + [(v, v) for v in bqm_c0.linear]\n",
    "embeddings_c0 = Parallel(n_jobs=n_jobs)(\n",
    "                    delayed(find_embedding)(source_edgelist_c0, target_edgelist, random_seed=10) for _ in range(N_RUNS)\n",
    "                )"
   ]
  },
  {
   "cell_type": "code",
   "execution_count": 65,
   "metadata": {},
   "outputs": [],
   "source": [
    "embeddings_2_c0 = []\n",
    "\n",
    "for _ in range(N_RUNS):\n",
    "    emb = find_embedding(source_edgelist_c0, target_edgelist, random_seed=10)\n",
    "    embeddings_2_c0.append(emb)"
   ]
  },
  {
   "cell_type": "code",
   "execution_count": null,
   "metadata": {},
   "outputs": [],
   "source": []
  },
  {
   "cell_type": "code",
   "execution_count": 66,
   "metadata": {},
   "outputs": [],
   "source": [
    "def run_prof():\n",
    "    s = FixedEmbeddingComposite(sampler, embedding=embedding_calculated_rs).sample(bqm, num_reads=100)\n",
    "    res = s.first.sample\n",
    "    return res"
   ]
  },
  {
   "cell_type": "code",
   "execution_count": 73,
   "metadata": {},
   "outputs": [
    {
     "name": "stdout",
     "output_type": "stream",
     "text": [
      "{'x0': 1, 'x1': 1, 'x10': 1, 'x11': 0, 'x12': 1, 'x13': 1, 'x14': 1, 'x15': 0, 'x16': 0, 'x17': 1, 'x18': 0, 'x19': 0, 'x2': 1, 'x20': 1, 'x21': 1, 'x22': 0, 'x23': 0, 'x24': 1, 'x25': 0, 'x26': 0, 'x27': 0, 'x28': 1, 'x29': 1, 'x3': 1, 'x30': 1, 'x31': 1, 'x32': 0, 'x33': 1, 'x34': 0, 'x35': 1, 'x36': 1, 'x37': 1, 'x38': 1, 'x39': 1, 'x4': 0, 'x40': 0, 'x41': 1, 'x42': 1, 'x43': 0, 'x44': 0, 'x45': 1, 'x46': 0, 'x47': 0, 'x48': 1, 'x49': 0, 'x5': 1, 'x50': 1, 'x51': 0, 'x52': 0, 'x53': 0, 'x54': 0, 'x55': 0, 'x56': 1, 'x57': 1, 'x58': 0, 'x59': 0, 'x6': 1, 'x60': 0, 'x61': 1, 'x62': 0, 'x63': 0, 'x64': 0, 'x65': 1, 'x66': 1, 'x67': 1, 'x68': 1, 'x69': 0, 'x7': 0, 'x70': 1, 'x71': 0, 'x72': 0, 'x73': 0, 'x74': 0, 'x75': 1, 'x76': 0, 'x77': 0, 'x78': 1, 'x79': 0, 'x8': 1, 'x80': 1, 'x81': 0, 'x82': 0, 'x83': 0, 'x84': 0, 'x85': 1, 'x86': 1, 'x87': 1, 'x88': 1, 'x89': 0, 'x9': 0, 'x90': 0, 'x91': 0, 'x92': 0, 'x93': 0, 'x94': 1, 'x95': 1, 'x96': 1, 'x97': 1, 'x98': 0, 'x99': 1}\n",
      "{'x0': 1, 'x1': 1, 'x10': 1, 'x11': 1, 'x12': 1, 'x13': 1, 'x14': 1, 'x15': 0, 'x16': 0, 'x17': 1, 'x18': 1, 'x19': 1, 'x2': 1, 'x20': 1, 'x21': 0, 'x22': 1, 'x23': 0, 'x24': 1, 'x25': 0, 'x26': 0, 'x27': 0, 'x28': 1, 'x29': 1, 'x3': 0, 'x30': 1, 'x31': 1, 'x32': 0, 'x33': 1, 'x34': 0, 'x35': 1, 'x36': 1, 'x37': 0, 'x38': 1, 'x39': 1, 'x4': 0, 'x40': 0, 'x41': 0, 'x42': 1, 'x43': 0, 'x44': 0, 'x45': 1, 'x46': 0, 'x47': 0, 'x48': 1, 'x49': 0, 'x5': 1, 'x50': 1, 'x51': 0, 'x52': 0, 'x53': 0, 'x54': 0, 'x55': 1, 'x56': 1, 'x57': 1, 'x58': 0, 'x59': 1, 'x6': 1, 'x60': 1, 'x61': 1, 'x62': 0, 'x63': 0, 'x64': 1, 'x65': 1, 'x66': 1, 'x67': 1, 'x68': 1, 'x69': 0, 'x7': 1, 'x70': 1, 'x71': 0, 'x72': 0, 'x73': 0, 'x74': 0, 'x75': 1, 'x76': 0, 'x77': 0, 'x78': 0, 'x79': 0, 'x8': 1, 'x80': 0, 'x81': 0, 'x82': 0, 'x83': 0, 'x84': 0, 'x85': 1, 'x86': 0, 'x87': 1, 'x88': 0, 'x89': 0, 'x9': 0, 'x90': 0, 'x91': 0, 'x92': 0, 'x93': 0, 'x94': 1, 'x95': 1, 'x96': 1, 'x97': 1, 'x98': 0, 'x99': 1}\n",
      "{'x0': 1, 'x1': 1, 'x10': 1, 'x11': 1, 'x12': 1, 'x13': 1, 'x14': 1, 'x15': 0, 'x16': 1, 'x17': 1, 'x18': 0, 'x19': 0, 'x2': 1, 'x20': 1, 'x21': 0, 'x22': 1, 'x23': 0, 'x24': 1, 'x25': 0, 'x26': 0, 'x27': 0, 'x28': 1, 'x29': 0, 'x3': 0, 'x30': 0, 'x31': 1, 'x32': 0, 'x33': 1, 'x34': 0, 'x35': 1, 'x36': 1, 'x37': 0, 'x38': 1, 'x39': 0, 'x4': 0, 'x40': 0, 'x41': 0, 'x42': 1, 'x43': 0, 'x44': 0, 'x45': 0, 'x46': 0, 'x47': 0, 'x48': 1, 'x49': 0, 'x5': 1, 'x50': 1, 'x51': 1, 'x52': 0, 'x53': 0, 'x54': 0, 'x55': 1, 'x56': 0, 'x57': 1, 'x58': 0, 'x59': 0, 'x6': 1, 'x60': 1, 'x61': 1, 'x62': 0, 'x63': 0, 'x64': 1, 'x65': 1, 'x66': 1, 'x67': 0, 'x68': 1, 'x69': 0, 'x7': 1, 'x70': 1, 'x71': 0, 'x72': 0, 'x73': 0, 'x74': 1, 'x75': 1, 'x76': 1, 'x77': 0, 'x78': 0, 'x79': 0, 'x8': 1, 'x80': 0, 'x81': 1, 'x82': 0, 'x83': 0, 'x84': 0, 'x85': 1, 'x86': 0, 'x87': 1, 'x88': 0, 'x89': 1, 'x9': 0, 'x90': 0, 'x91': 0, 'x92': 0, 'x93': 1, 'x94': 0, 'x95': 1, 'x96': 1, 'x97': 1, 'x98': 0, 'x99': 1}\n",
      "{'x0': 0, 'x1': 1, 'x10': 0, 'x11': 0, 'x12': 0, 'x13': 1, 'x14': 0, 'x15': 0, 'x16': 0, 'x17': 0, 'x18': 0, 'x19': 0, 'x2': 0, 'x20': 0, 'x21': 1, 'x22': 0, 'x23': 1, 'x24': 0, 'x25': 1, 'x26': 1, 'x27': 0, 'x28': 1, 'x29': 0, 'x3': 1, 'x30': 0, 'x31': 0, 'x32': 1, 'x33': 1, 'x34': 1, 'x35': 1, 'x36': 0, 'x37': 1, 'x38': 0, 'x39': 0, 'x4': 0, 'x40': 0, 'x41': 0, 'x42': 0, 'x43': 1, 'x44': 1, 'x45': 1, 'x46': 1, 'x47': 1, 'x48': 0, 'x49': 1, 'x5': 0, 'x50': 1, 'x51': 0, 'x52': 1, 'x53': 1, 'x54': 1, 'x55': 0, 'x56': 0, 'x57': 0, 'x58': 1, 'x59': 1, 'x6': 1, 'x60': 0, 'x61': 0, 'x62': 0, 'x63': 0, 'x64': 0, 'x65': 0, 'x66': 0, 'x67': 0, 'x68': 1, 'x69': 0, 'x7': 0, 'x70': 0, 'x71': 1, 'x72': 1, 'x73': 0, 'x74': 1, 'x75': 0, 'x76': 1, 'x77': 1, 'x78': 1, 'x79': 1, 'x8': 0, 'x80': 1, 'x81': 0, 'x82': 1, 'x83': 0, 'x84': 0, 'x85': 1, 'x86': 1, 'x87': 0, 'x88': 1, 'x89': 0, 'x9': 1, 'x90': 0, 'x91': 1, 'x92': 1, 'x93': 0, 'x94': 0, 'x95': 1, 'x96': 1, 'x97': 0, 'x98': 1, 'x99': 0}\n",
      "{'x0': 0, 'x1': 1, 'x10': 0, 'x11': 1, 'x12': 0, 'x13': 1, 'x14': 1, 'x15': 0, 'x16': 0, 'x17': 0, 'x18': 0, 'x19': 0, 'x2': 0, 'x20': 0, 'x21': 0, 'x22': 1, 'x23': 1, 'x24': 0, 'x25': 1, 'x26': 1, 'x27': 0, 'x28': 1, 'x29': 1, 'x3': 0, 'x30': 0, 'x31': 0, 'x32': 1, 'x33': 1, 'x34': 1, 'x35': 1, 'x36': 0, 'x37': 1, 'x38': 0, 'x39': 0, 'x4': 0, 'x40': 0, 'x41': 0, 'x42': 0, 'x43': 1, 'x44': 1, 'x45': 0, 'x46': 1, 'x47': 1, 'x48': 0, 'x49': 1, 'x5': 0, 'x50': 1, 'x51': 0, 'x52': 1, 'x53': 1, 'x54': 1, 'x55': 1, 'x56': 1, 'x57': 0, 'x58': 1, 'x59': 1, 'x6': 1, 'x60': 1, 'x61': 0, 'x62': 0, 'x63': 0, 'x64': 1, 'x65': 0, 'x66': 1, 'x67': 0, 'x68': 1, 'x69': 0, 'x7': 1, 'x70': 0, 'x71': 1, 'x72': 1, 'x73': 0, 'x74': 1, 'x75': 0, 'x76': 1, 'x77': 1, 'x78': 0, 'x79': 1, 'x8': 1, 'x80': 0, 'x81': 0, 'x82': 1, 'x83': 0, 'x84': 0, 'x85': 1, 'x86': 0, 'x87': 0, 'x88': 1, 'x89': 0, 'x9': 1, 'x90': 0, 'x91': 1, 'x92': 1, 'x93': 0, 'x94': 0, 'x95': 1, 'x96': 1, 'x97': 0, 'x98': 1, 'x99': 1}\n",
      "{'x0': 0, 'x1': 1, 'x10': 0, 'x11': 0, 'x12': 0, 'x13': 1, 'x14': 0, 'x15': 0, 'x16': 0, 'x17': 0, 'x18': 0, 'x19': 0, 'x2': 0, 'x20': 0, 'x21': 1, 'x22': 0, 'x23': 1, 'x24': 0, 'x25': 1, 'x26': 1, 'x27': 0, 'x28': 1, 'x29': 0, 'x3': 1, 'x30': 1, 'x31': 0, 'x32': 0, 'x33': 1, 'x34': 1, 'x35': 1, 'x36': 0, 'x37': 1, 'x38': 0, 'x39': 1, 'x4': 0, 'x40': 0, 'x41': 0, 'x42': 0, 'x43': 1, 'x44': 1, 'x45': 1, 'x46': 1, 'x47': 1, 'x48': 0, 'x49': 1, 'x5': 0, 'x50': 1, 'x51': 0, 'x52': 1, 'x53': 1, 'x54': 1, 'x55': 0, 'x56': 0, 'x57': 0, 'x58': 1, 'x59': 1, 'x6': 1, 'x60': 0, 'x61': 0, 'x62': 1, 'x63': 1, 'x64': 0, 'x65': 0, 'x66': 0, 'x67': 1, 'x68': 1, 'x69': 0, 'x7': 0, 'x70': 0, 'x71': 1, 'x72': 1, 'x73': 1, 'x74': 1, 'x75': 0, 'x76': 1, 'x77': 1, 'x78': 1, 'x79': 1, 'x8': 0, 'x80': 1, 'x81': 0, 'x82': 1, 'x83': 0, 'x84': 1, 'x85': 1, 'x86': 1, 'x87': 0, 'x88': 1, 'x89': 0, 'x9': 1, 'x90': 0, 'x91': 1, 'x92': 1, 'x93': 0, 'x94': 1, 'x95': 1, 'x96': 1, 'x97': 0, 'x98': 1, 'x99': 1}\n",
      "{'x0': 1, 'x1': 1, 'x10': 1, 'x11': 1, 'x12': 1, 'x13': 0, 'x14': 1, 'x15': 1, 'x16': 0, 'x17': 0, 'x18': 1, 'x19': 1, 'x2': 1, 'x20': 1, 'x21': 0, 'x22': 1, 'x23': 0, 'x24': 1, 'x25': 0, 'x26': 0, 'x27': 1, 'x28': 1, 'x29': 1, 'x3': 0, 'x30': 1, 'x31': 1, 'x32': 0, 'x33': 0, 'x34': 0, 'x35': 1, 'x36': 1, 'x37': 0, 'x38': 1, 'x39': 1, 'x4': 1, 'x40': 1, 'x41': 1, 'x42': 1, 'x43': 0, 'x44': 0, 'x45': 0, 'x46': 0, 'x47': 0, 'x48': 1, 'x49': 0, 'x5': 1, 'x50': 1, 'x51': 0, 'x52': 0, 'x53': 0, 'x54': 0, 'x55': 1, 'x56': 1, 'x57': 1, 'x58': 0, 'x59': 0, 'x6': 1, 'x60': 1, 'x61': 1, 'x62': 0, 'x63': 0, 'x64': 1, 'x65': 1, 'x66': 1, 'x67': 1, 'x68': 1, 'x69': 1, 'x7': 1, 'x70': 1, 'x71': 0, 'x72': 0, 'x73': 0, 'x74': 0, 'x75': 1, 'x76': 0, 'x77': 0, 'x78': 0, 'x79': 0, 'x8': 1, 'x80': 0, 'x81': 0, 'x82': 0, 'x83': 1, 'x84': 0, 'x85': 1, 'x86': 0, 'x87': 1, 'x88': 0, 'x89': 0, 'x9': 0, 'x90': 1, 'x91': 0, 'x92': 0, 'x93': 0, 'x94': 1, 'x95': 0, 'x96': 1, 'x97': 1, 'x98': 0, 'x99': 0}\n",
      "{'x0': 1, 'x1': 0, 'x10': 1, 'x11': 1, 'x12': 1, 'x13': 0, 'x14': 1, 'x15': 0, 'x16': 0, 'x17': 1, 'x18': 0, 'x19': 0, 'x2': 1, 'x20': 1, 'x21': 1, 'x22': 1, 'x23': 0, 'x24': 1, 'x25': 0, 'x26': 0, 'x27': 0, 'x28': 0, 'x29': 1, 'x3': 1, 'x30': 1, 'x31': 1, 'x32': 0, 'x33': 0, 'x34': 0, 'x35': 1, 'x36': 1, 'x37': 0, 'x38': 1, 'x39': 1, 'x4': 0, 'x40': 0, 'x41': 0, 'x42': 1, 'x43': 0, 'x44': 0, 'x45': 1, 'x46': 0, 'x47': 0, 'x48': 1, 'x49': 0, 'x5': 1, 'x50': 1, 'x51': 0, 'x52': 0, 'x53': 0, 'x54': 0, 'x55': 1, 'x56': 1, 'x57': 1, 'x58': 0, 'x59': 0, 'x6': 1, 'x60': 1, 'x61': 1, 'x62': 1, 'x63': 1, 'x64': 1, 'x65': 1, 'x66': 1, 'x67': 1, 'x68': 1, 'x69': 0, 'x7': 1, 'x70': 1, 'x71': 0, 'x72': 0, 'x73': 1, 'x74': 0, 'x75': 1, 'x76': 0, 'x77': 0, 'x78': 1, 'x79': 0, 'x8': 1, 'x80': 1, 'x81': 0, 'x82': 0, 'x83': 0, 'x84': 1, 'x85': 1, 'x86': 1, 'x87': 1, 'x88': 0, 'x89': 0, 'x9': 0, 'x90': 0, 'x91': 0, 'x92': 0, 'x93': 0, 'x94': 0, 'x95': 0, 'x96': 1, 'x97': 1, 'x98': 0, 'x99': 0}\n",
      "{'x0': 1, 'x1': 1, 'x10': 1, 'x11': 1, 'x12': 1, 'x13': 1, 'x14': 1, 'x15': 0, 'x16': 0, 'x17': 1, 'x18': 0, 'x19': 0, 'x2': 1, 'x20': 1, 'x21': 1, 'x22': 1, 'x23': 0, 'x24': 1, 'x25': 0, 'x26': 0, 'x27': 0, 'x28': 1, 'x29': 1, 'x3': 1, 'x30': 0, 'x31': 1, 'x32': 0, 'x33': 1, 'x34': 0, 'x35': 1, 'x36': 1, 'x37': 1, 'x38': 1, 'x39': 0, 'x4': 0, 'x40': 0, 'x41': 0, 'x42': 1, 'x43': 0, 'x44': 0, 'x45': 1, 'x46': 0, 'x47': 0, 'x48': 1, 'x49': 0, 'x5': 1, 'x50': 1, 'x51': 0, 'x52': 0, 'x53': 0, 'x54': 0, 'x55': 1, 'x56': 1, 'x57': 1, 'x58': 0, 'x59': 0, 'x6': 1, 'x60': 1, 'x61': 1, 'x62': 1, 'x63': 1, 'x64': 1, 'x65': 1, 'x66': 1, 'x67': 0, 'x68': 1, 'x69': 0, 'x7': 1, 'x70': 1, 'x71': 0, 'x72': 0, 'x73': 1, 'x74': 1, 'x75': 1, 'x76': 1, 'x77': 0, 'x78': 1, 'x79': 0, 'x8': 1, 'x80': 1, 'x81': 0, 'x82': 0, 'x83': 0, 'x84': 1, 'x85': 1, 'x86': 1, 'x87': 1, 'x88': 1, 'x89': 0, 'x9': 0, 'x90': 0, 'x91': 0, 'x92': 0, 'x93': 0, 'x94': 0, 'x95': 1, 'x96': 1, 'x97': 1, 'x98': 0, 'x99': 1}\n",
      "{'x0': 0, 'x1': 1, 'x10': 0, 'x11': 1, 'x12': 0, 'x13': 1, 'x14': 0, 'x15': 0, 'x16': 1, 'x17': 0, 'x18': 0, 'x19': 0, 'x2': 0, 'x20': 0, 'x21': 0, 'x22': 1, 'x23': 1, 'x24': 1, 'x25': 1, 'x26': 1, 'x27': 0, 'x28': 1, 'x29': 0, 'x3': 0, 'x30': 0, 'x31': 0, 'x32': 1, 'x33': 1, 'x34': 1, 'x35': 1, 'x36': 0, 'x37': 0, 'x38': 0, 'x39': 0, 'x4': 0, 'x40': 0, 'x41': 0, 'x42': 0, 'x43': 1, 'x44': 1, 'x45': 0, 'x46': 1, 'x47': 1, 'x48': 0, 'x49': 1, 'x5': 0, 'x50': 0, 'x51': 1, 'x52': 1, 'x53': 1, 'x54': 1, 'x55': 1, 'x56': 0, 'x57': 0, 'x58': 1, 'x59': 1, 'x6': 0, 'x60': 1, 'x61': 0, 'x62': 0, 'x63': 0, 'x64': 1, 'x65': 0, 'x66': 0, 'x67': 0, 'x68': 0, 'x69': 0, 'x7': 1, 'x70': 0, 'x71': 1, 'x72': 1, 'x73': 0, 'x74': 1, 'x75': 0, 'x76': 1, 'x77': 1, 'x78': 0, 'x79': 1, 'x8': 0, 'x80': 0, 'x81': 1, 'x82': 1, 'x83': 0, 'x84': 0, 'x85': 0, 'x86': 0, 'x87': 0, 'x88': 0, 'x89': 1, 'x9': 1, 'x90': 0, 'x91': 1, 'x92': 1, 'x93': 0, 'x94': 0, 'x95': 1, 'x96': 0, 'x97': 0, 'x98': 1, 'x99': 1}\n"
     ]
    }
   ],
   "source": [
    "for i in range(10):\n",
    "    single = run_prof()\n",
    "    print(single)"
   ]
  },
  {
   "cell_type": "code",
   "execution_count": 79,
   "metadata": {},
   "outputs": [],
   "source": [
    "def run_with_find_emb():\n",
    "    emb = find_embedding(source_edgelist, target_edgelist)\n",
    "    s = FixedEmbeddingComposite(sampler, embedding=emb).sample(bqm, num_reads=100)\n",
    "    return s.first.sample"
   ]
  },
  {
   "cell_type": "code",
   "execution_count": null,
   "metadata": {},
   "outputs": [],
   "source": [
    "%timeit run_with_find_emb()"
   ]
  },
  {
   "cell_type": "code",
   "execution_count": null,
   "metadata": {},
   "outputs": [],
   "source": []
  },
  {
   "cell_type": "code",
   "execution_count": 82,
   "metadata": {},
   "outputs": [],
   "source": [
    "def classical():    \n",
    "    res = embedding_compose.sample(bqm, num_reads=100)\n",
    "    return res.first.sample"
   ]
  },
  {
   "cell_type": "code",
   "execution_count": 83,
   "metadata": {},
   "outputs": [
    {
     "name": "stdout",
     "output_type": "stream",
     "text": [
      "CPU times: total: 56.1 s\n",
      "Wall time: 1min 9s\n"
     ]
    },
    {
     "data": {
      "text/plain": [
       "{'x0': 1,\n",
       " 'x1': 0,\n",
       " 'x10': 1,\n",
       " 'x11': 1,\n",
       " 'x12': 1,\n",
       " 'x13': 0,\n",
       " 'x14': 1,\n",
       " 'x15': 0,\n",
       " 'x16': 0,\n",
       " 'x17': 1,\n",
       " 'x18': 0,\n",
       " 'x19': 0,\n",
       " 'x2': 1,\n",
       " 'x20': 1,\n",
       " 'x21': 1,\n",
       " 'x22': 1,\n",
       " 'x23': 0,\n",
       " 'x24': 1,\n",
       " 'x25': 0,\n",
       " 'x26': 0,\n",
       " 'x27': 0,\n",
       " 'x28': 0,\n",
       " 'x29': 1,\n",
       " 'x3': 1,\n",
       " 'x30': 1,\n",
       " 'x31': 1,\n",
       " 'x32': 1,\n",
       " 'x33': 0,\n",
       " 'x34': 0,\n",
       " 'x35': 0,\n",
       " 'x36': 1,\n",
       " 'x37': 1,\n",
       " 'x38': 1,\n",
       " 'x39': 1,\n",
       " 'x4': 0,\n",
       " 'x40': 0,\n",
       " 'x41': 0,\n",
       " 'x42': 1,\n",
       " 'x43': 0,\n",
       " 'x44': 0,\n",
       " 'x45': 1,\n",
       " 'x46': 0,\n",
       " 'x47': 0,\n",
       " 'x48': 1,\n",
       " 'x49': 0,\n",
       " 'x5': 1,\n",
       " 'x50': 1,\n",
       " 'x51': 0,\n",
       " 'x52': 0,\n",
       " 'x53': 0,\n",
       " 'x54': 0,\n",
       " 'x55': 1,\n",
       " 'x56': 1,\n",
       " 'x57': 1,\n",
       " 'x58': 0,\n",
       " 'x59': 0,\n",
       " 'x6': 1,\n",
       " 'x60': 1,\n",
       " 'x61': 1,\n",
       " 'x62': 1,\n",
       " 'x63': 1,\n",
       " 'x64': 1,\n",
       " 'x65': 1,\n",
       " 'x66': 1,\n",
       " 'x67': 1,\n",
       " 'x68': 1,\n",
       " 'x69': 0,\n",
       " 'x7': 1,\n",
       " 'x70': 1,\n",
       " 'x71': 0,\n",
       " 'x72': 0,\n",
       " 'x73': 1,\n",
       " 'x74': 0,\n",
       " 'x75': 1,\n",
       " 'x76': 0,\n",
       " 'x77': 0,\n",
       " 'x78': 1,\n",
       " 'x79': 1,\n",
       " 'x8': 1,\n",
       " 'x80': 1,\n",
       " 'x81': 0,\n",
       " 'x82': 0,\n",
       " 'x83': 0,\n",
       " 'x84': 1,\n",
       " 'x85': 1,\n",
       " 'x86': 1,\n",
       " 'x87': 1,\n",
       " 'x88': 1,\n",
       " 'x89': 0,\n",
       " 'x9': 0,\n",
       " 'x90': 0,\n",
       " 'x91': 0,\n",
       " 'x92': 0,\n",
       " 'x93': 0,\n",
       " 'x94': 1,\n",
       " 'x95': 0,\n",
       " 'x96': 1,\n",
       " 'x97': 1,\n",
       " 'x98': 0,\n",
       " 'x99': 0}"
      ]
     },
     "execution_count": 83,
     "metadata": {},
     "output_type": "execute_result"
    }
   ],
   "source": [
    "%time classical()"
   ]
  },
  {
   "cell_type": "code",
   "execution_count": null,
   "metadata": {},
   "outputs": [],
   "source": []
  },
  {
   "cell_type": "code",
   "execution_count": 68,
   "metadata": {},
   "outputs": [],
   "source": [
    "%load_ext line_profiler"
   ]
  },
  {
   "cell_type": "code",
   "execution_count": 70,
   "metadata": {},
   "outputs": [
    {
     "name": "stdout",
     "output_type": "stream",
     "text": [
      "Timer unit: 1e-07 s\n",
      "\n",
      "Total time: 0.293546 s\n",
      "File: c:\\Users\\basia\\AppData\\Local\\Programs\\Python\\Python310\\lib\\site-packages\\dwave\\system\\composites\\embedding.py\n",
      "Function: sample at line 437\n",
      "\n",
      "Line #      Hits         Time  Per Hit   % Time  Line Contents\n",
      "==============================================================\n",
      "   437                                               def sample(self, bqm, **parameters):\n",
      "   438                                                   \"\"\"Sample the binary quadratic model.\n",
      "   439                                           \n",
      "   440                                                   On the first call of a sampling method, finds a :term:`minor-embedding`\n",
      "   441                                                   for the given binary quadratic model (BQM). All subsequent calls to its\n",
      "   442                                                   sampling methods reuse this embedding.\n",
      "   443                                           \n",
      "   444                                                   Args:\n",
      "   445                                                       bqm (:obj:`dimod.BinaryQuadraticModel`):\n",
      "   446                                                           Binary quadratic model to be sampled from.\n",
      "   447                                           \n",
      "   448                                                       chain_strength (float/mapping/callable, optional):\n",
      "   449                                                           Sets the coupling strength between qubits representing variables \n",
      "   450                                                           that form a :term:`chain`. Mappings should specify the required \n",
      "   451                                                           chain strength for each variable. Callables should accept the BQM \n",
      "   452                                                           and embedding and return a float or mapping. By default, \n",
      "   453                                                           `chain_strength` is calculated with\n",
      "   454                                                           :func:`~dwave.embedding.chain_strength.uniform_torque_compensation`.\n",
      "   455                                           \n",
      "   456                                                       chain_break_method (function, optional):\n",
      "   457                                                           Method used to resolve chain breaks during sample unembedding.\n",
      "   458                                                           See :func:`~dwave.embedding.unembed_sampleset`.\n",
      "   459                                           \n",
      "   460                                                       chain_break_fraction (bool, optional, default=True):\n",
      "   461                                                           Add a ‘chain_break_fraction’ field to the unembedded response with\n",
      "   462                                                           the fraction of chains broken before unembedding.\n",
      "   463                                           \n",
      "   464                                                       embedding_parameters (dict, optional):\n",
      "   465                                                           If provided, parameters are passed to the embedding method as\n",
      "   466                                                           keyword arguments. Overrides any `embedding_parameters` passed\n",
      "   467                                                           to the constructor. Only used on the first call.\n",
      "   468                                           \n",
      "   469                                                       **parameters:\n",
      "   470                                                           Parameters for the sampling method, specified by the child\n",
      "   471                                                           sampler.\n",
      "   472                                           \n",
      "   473                                                   Returns:\n",
      "   474                                                       :obj:`dimod.SampleSet`\n",
      "   475                                           \n",
      "   476                                                   \"\"\"\n",
      "   477         1         13.0     13.0      0.0          if self.embedding is None:\n",
      "   478                                                       # get an embedding using the current find_embedding function\n",
      "   479                                                       embedding_parameters = parameters.pop('embedding_parameters', None)\n",
      "   480                                           \n",
      "   481                                                       if embedding_parameters is None:\n",
      "   482                                                           embedding_parameters = self.embedding_parameters\n",
      "   483                                                       else:\n",
      "   484                                                           # update the base parameters with the new ones provided\n",
      "   485                                                           embedding_parameters.update((key, val)\n",
      "   486                                                                                       for key, val in self.embedding_parameters\n",
      "   487                                                                                       if key not in embedding_parameters)\n",
      "   488                                           \n",
      "   489                                                       source_edgelist = list(itertools.chain(bqm.quadratic,\n",
      "   490                                                                                              ((v, v) for v in bqm.linear)))\n",
      "   491                                           \n",
      "   492                                                       target_edgelist = self.target_structure.edgelist\n",
      "   493                                           \n",
      "   494                                                       embedding = self.find_embedding(source_edgelist, target_edgelist,\n",
      "   495                                                                                       **embedding_parameters)\n",
      "   496                                           \n",
      "   497                                                       self._fix_embedding(embedding)\n",
      "   498                                           \n",
      "   499         1    2935450.0    3e+06    100.0          return super(LazyFixedEmbeddingComposite, self).sample(bqm, **parameters)"
     ]
    }
   ],
   "source": [
    "%lprun -f FixedEmbeddingComposite.sample run_prof()"
   ]
  },
  {
   "cell_type": "code",
   "execution_count": 72,
   "metadata": {},
   "outputs": [
    {
     "name": "stdout",
     "output_type": "stream",
     "text": [
      " "
     ]
    },
    {
     "name": "stdout",
     "output_type": "stream",
     "text": [
      "         318594 function calls (307294 primitive calls) in 0.937 seconds\n",
      "\n",
      "   Ordered by: cumulative time\n",
      "\n",
      "   ncalls  tottime  percall  cumtime  percall filename:lineno(function)\n",
      "        1    0.000    0.000    0.941    0.941 {built-in method builtins.exec}\n",
      "        1    0.000    0.000    0.940    0.940 2325209082.py:1(run_prof)\n",
      "        1    0.000    0.000    0.747    0.747 sampleset.py:1065(first)\n",
      "    18/15    0.000    0.000    0.747    0.050 {built-in method builtins.next}\n",
      "        2    0.000    0.000    0.747    0.373 sampleset.py:1220(data)\n",
      "      8/1    0.000    0.000    0.747    0.747 sampleset.py:1105(record)\n",
      "     22/2    0.000    0.000    0.747    0.373 sampleset.py:1480(resolve)\n",
      "        1    0.000    0.000    0.747    0.747 embedding.py:279(async_unembed)\n",
      "        1    0.000    0.000    0.746    0.746 transforms.py:513(unembed_sampleset)\n",
      "        1    0.000    0.000    0.741    0.741 dwave_sampler.py:426(_hook)\n",
      "        1    0.000    0.000    0.741    0.741 dwave_sampler.py:427(resolve)\n",
      "        1    0.000    0.000    0.741    0.741 computation.py:825(<lambda>)\n",
      "        1    0.000    0.000    0.741    0.741 computation.py:759(wait_sampleset)\n",
      "        7    0.000    0.000    0.731    0.104 computation.py:887(_load_result)\n",
      "        1    0.000    0.000    0.727    0.727 computation.py:384(wait)\n",
      "        1    0.000    0.000    0.727    0.727 threading.py:589(wait)\n",
      "        1    0.000    0.000    0.727    0.727 threading.py:288(wait)\n",
      "        5    0.727    0.145    0.727    0.145 {method 'acquire' of '_thread.lock' objects}\n",
      "        1    0.000    0.000    0.162    0.162 embedding.py:437(sample)\n",
      "        1    0.000    0.000    0.162    0.162 embedding.py:149(sample)\n",
      "        1    0.008    0.008    0.085    0.085 transforms.py:179(embed_bqm)\n",
      "        1    0.000    0.000    0.074    0.074 dwave_sampler.py:358(sample)\n",
      "        1    0.000    0.000    0.074    0.074 solver.py:959(sample_bqm)\n",
      "        1    0.000    0.000    0.074    0.074 events.py:95(wrapped)\n",
      "        1    0.000    0.000    0.074    0.074 solver.py:995(_sample)\n",
      "        1    0.000    0.000    0.062    0.062 coders.py:28(encode_problem_as_qp)\n",
      "    23742    0.018    0.000    0.037    0.000 quadratic.py:204(__getitem__)\n",
      "     5050    0.021    0.000    0.036    0.000 binary_quadratic_model.py:886(add_quadratic_from)\n",
      "        1    0.001    0.001    0.031    0.031 chain_strength.py:39(uniform_torque_compensation)\n",
      "        1    0.000    0.000    0.031    0.031 embedding.py:541(__init__)\n",
      "        1    0.000    0.000    0.031    0.031 embedding.py:424(_fix_embedding)\n",
      "        2    0.001    0.001    0.031    0.015 {built-in method numpy.fromiter}\n",
      "        1    0.023    0.023    0.031    0.031 transforms.py:58(__init__)\n",
      "     4951    0.003    0.000    0.030    0.000 _collections_abc.py:928(__iter__)\n",
      "    24406    0.007    0.000    0.029    0.000 _collections_abc.py:821(get)\n",
      "        1    0.006    0.006    0.026    0.026 coders.py:71(<listcomp>)\n",
      "        1    0.002    0.002    0.023    0.023 coders.py:61(<listcomp>)\n",
      "     5614    0.002    0.000    0.022    0.000 utils.py:141(uniform_get)\n",
      "     5052    0.007    0.000    0.020    0.000 vartypeview.py:38(wrapper)\n",
      "    33647    0.012    0.000    0.018    0.000 binary_quadratic_model.py:1640(iter_quadratic)\n",
      "    19299    0.005    0.000    0.015    0.000 quadratic.py:210(__iter__)\n",
      "22373/11143    0.004    0.000    0.014    0.000 {built-in method builtins.isinstance}\n",
      "     4950    0.009    0.000    0.012    0.000 vartypeview.py:170(get_quadratic)\n",
      "        1    0.003    0.003    0.012    0.012 utils.py:88(active_qubits)\n",
      "    14348    0.004    0.000    0.012    0.000 quadratic.py:177(__iter__)\n",
      "        1    0.000    0.000    0.011    0.011 solver.py:1138(check_problem)\n",
      "        2    0.004    0.002    0.011    0.005 {method 'issuperset' of 'set' objects}\n",
      "    12999    0.004    0.000    0.011    0.000 transforms.py:295(<genexpr>)\n",
      "     5615    0.002    0.000    0.009    0.000 typing.py:993(__instancecheck__)\n",
      "     7153    0.008    0.000    0.008    0.000 quadratic.py:131(__getitem__)\n",
      "    12999    0.007    0.000    0.007    0.000 transforms.py:139(interaction_edges)\n",
      "        2    0.001    0.001    0.007    0.003 sampleset.py:652(from_samples)\n",
      "     5615    0.002    0.000    0.007    0.000 typing.py:1154(__subclasscheck__)\n",
      "     9902    0.006    0.000    0.006    0.000 vartypeview.py:199(iter_quadratic)\n",
      "    15860    0.003    0.000    0.006    0.000 abc.py:117(__instancecheck__)\n",
      "        6    0.000    0.000    0.005    0.001 functools.py:884(wrapper)\n",
      "        4    0.000    0.000    0.005    0.001 sampleset.py:391(_as_samples_tuple)\n",
      "        4    0.000    0.000    0.004    0.001 sampleset.py:207(_sample_array)\n",
      "        4    0.004    0.001    0.004    0.001 {built-in method numpy.array}\n",
      "        1    0.000    0.000    0.004    0.004 computation.py:937(_decode)\n",
      "        1    0.000    0.000    0.004    0.004 solver.py:185(decode_response)\n",
      "        1    0.000    0.000    0.004    0.004 solver.py:179(_decode_qp)\n",
      "        1    0.000    0.000    0.004    0.004 coders.py:210(decode_qp_numpy)\n",
      "        4    0.004    0.001    0.004    0.001 {method 'tolist' of 'numpy.ndarray' objects}\n",
      "     5625    0.002    0.000    0.003    0.000 {built-in method builtins.issubclass}\n",
      "        1    0.000    0.000    0.003    0.003 computation.py:779(<listcomp>)\n",
      "    15860    0.003    0.000    0.003    0.000 {built-in method _abc._abc_instancecheck}\n",
      "      100    0.003    0.000    0.003    0.000 utils.py:269(__init__)\n",
      "     1541    0.001    0.000    0.003    0.000 _collections_abc.py:909(__iter__)\n",
      "      100    0.002    0.000    0.002    0.000 quadratic.py:404(add_linear_from)\n",
      "     1347    0.001    0.000    0.002    0.000 utils.py:291(union)\n",
      "      100    0.001    0.000    0.002    0.000 ipkernel.py:770(_clean_thread_parent_frames)\n",
      "    17462    0.002    0.000    0.002    0.000 {method 'append' of 'list' objects}\n",
      "        1    0.000    0.000    0.002    0.002 utils.py:104(<setcomp>)\n",
      "        1    0.001    0.001    0.002    0.002 chain_breaks.py:32(broken_chains)\n",
      "     5615    0.001    0.000    0.002    0.000 abc.py:121(__subclasscheck__)\n",
      "        1    0.000    0.000    0.002    0.002 sampleset.py:760(from_samples_bqm)\n",
      "        1    0.001    0.001    0.001    0.001 chain_breaks.py:154(majority_vote)\n",
      "        1    0.001    0.001    0.001    0.001 binary_quadratic_model.py:1067(energies)\n",
      "     1447    0.001    0.000    0.001    0.000 transforms.py:274(<genexpr>)\n",
      "     9396    0.001    0.000    0.001    0.000 {method 'update' of 'set' objects}\n",
      "       50    0.001    0.000    0.001    0.000 ipkernel.py:785(<setcomp>)\n",
      "      306    0.001    0.000    0.001    0.000 {method 'reduce' of 'numpy.ufunc' objects}\n",
      "     2794    0.001    0.000    0.001    0.000 utils.py:273(find)\n",
      "     5615    0.001    0.000    0.001    0.000 {built-in method _abc._abc_subclasscheck}\n",
      "     1447    0.001    0.000    0.001    0.000 transforms.py:123(chain_edges)\n",
      "     3082    0.001    0.000    0.001    0.000 quadratic.py:137(__iter__)\n",
      "     1750    0.001    0.000    0.001    0.000 threading.py:1145(ident)\n",
      "     5675    0.001    0.000    0.001    0.000 {built-in method builtins.len}\n",
      "        5    0.000    0.000    0.001    0.000 sampleset.py:628(__init__)\n",
      "      100    0.000    0.000    0.001    0.000 vartypeview.py:161(get_linear)\n",
      "      101    0.000    0.000    0.000    0.000 {method 'sum' of 'numpy.ndarray' objects}\n",
      "      101    0.000    0.000    0.000    0.000 _methods.py:47(_sum)\n",
      "        2    0.000    0.000    0.000    0.000 base64.py:51(b64encode)\n",
      "        2    0.000    0.000    0.000    0.000 {built-in method binascii.b2a_base64}\n",
      "        2    0.000    0.000    0.000    0.000 {built-in method builtins.sorted}\n",
      "       50    0.000    0.000    0.000    0.000 threading.py:1478(enumerate)\n",
      "      101    0.000    0.000    0.000    0.000 {method 'all' of 'numpy.ndarray' objects}\n",
      "        2    0.000    0.000    0.000    0.000 {built-in method _struct.pack}\n",
      "        1    0.000    0.000    0.000    0.000 binary_quadratic_model.py:1041(degrees)\n",
      "        1    0.000    0.000    0.000    0.000 __init__.py:183(dumps)\n",
      "        1    0.000    0.000    0.000    0.000 encoder.py:182(encode)\n",
      "        1    0.000    0.000    0.000    0.000 encoder.py:204(iterencode)\n",
      "     1539    0.000    0.000    0.000    0.000 transforms.py:280(<genexpr>)\n",
      "      101    0.000    0.000    0.000    0.000 _methods.py:61(_all)\n",
      "        2    0.000    0.000    0.000    0.000 sampleset.py:1949(_as_samples_sampleset)\n",
      "      100    0.000    0.000    0.000    0.000 {method 'any' of 'numpy.ndarray' objects}\n",
      "      100    0.000    0.000    0.000    0.000 vartypeview.py:145(degree)\n",
      "      100    0.000    0.000    0.000    0.000 _methods.py:55(_any)\n",
      "        1    0.000    0.000    0.000    0.000 sampleset.py:1300(_pack)\n",
      "      108    0.000    0.000    0.000    0.000 {built-in method numpy.asarray}\n",
      "        5    0.000    0.000    0.000    0.000 sampleset.py:1303(_values)\n",
      "        1    0.000    0.000    0.000    0.000 chain_breaks.py:201(<listcomp>)\n",
      "        2    0.000    0.000    0.000    0.000 {method 'mean' of 'numpy.ndarray' objects}\n",
      "        1    0.000    0.000    0.000    0.000 chain_breaks.py:66(<listcomp>)\n",
      "        2    0.000    0.000    0.000    0.000 _methods.py:101(_mean)\n",
      "        1    0.000    0.000    0.000    0.000 __init__.py:328(namedtuple)\n",
      "        2    0.000    0.000    0.000    0.000 records.py:953(array)\n",
      "        4    0.000    0.000    0.000    0.000 base64.py:65(b64decode)\n",
      "        1    0.000    0.000    0.000    0.000 inspect.py:3252(signature)\n",
      "        1    0.000    0.000    0.000    0.000 chain_breaks.py:200(<dictcomp>)\n",
      "        1    0.000    0.000    0.000    0.000 inspect.py:2998(from_callable)\n",
      "        1    0.000    0.000    0.000    0.000 inspect.py:2375(_signature_from_callable)\n",
      "      100    0.000    0.000    0.000    0.000 samples.py:29(__getitem__)\n",
      "     1539    0.000    0.000    0.000    0.000 sampleset.py:718(<lambda>)\n",
      "    98/58    0.000    0.000    0.000    0.000 records.py:441(__getattribute__)\n",
      "        4    0.000    0.000    0.000    0.000 {built-in method binascii.a2b_base64}\n",
      "      100    0.000    0.000    0.000    0.000 utils.py:312(size)\n",
      "      101    0.000    0.000    0.000    0.000 transforms.py:67(<genexpr>)\n",
      "        1    0.000    0.000    0.000    0.000 chain_breaks.py:65(<dictcomp>)\n",
      "       22    0.000    0.000    0.000    0.000 records.py:435(__array_finalize__)\n",
      "        1    0.000    0.000    0.000    0.000 binary_quadratic_model.py:956(change_vartype)\n",
      "        1    0.000    0.000    0.000    0.000 inspect.py:2280(_signature_from_function)\n",
      "        1    0.000    0.000    0.000    0.000 function_base.py:5173(delete)\n",
      "        1    0.000    0.000    0.000    0.000 {built-in method builtins.eval}\n",
      "        1    0.000    0.000    0.000    0.000 embedding.py:90(__init__)\n",
      "        1    0.000    0.000    0.000    0.000 computation.py:945(_alias_result)\n",
      "       15    0.000    0.000    0.000    0.000 {method 'view' of 'numpy.ndarray' objects}\n",
      "        1    0.000    0.000    0.000    0.000 computation.py:100(__init__)\n",
      "        2    0.000    0.000    0.000    0.000 {method 'copy' of 'numpy.ndarray' objects}\n",
      "        1    0.000    0.000    0.000    0.000 numeric.py:274(full)\n",
      "        1    0.000    0.000    0.000    0.000 {method 'min' of 'numpy.ndarray' objects}\n",
      "        1    0.000    0.000    0.000    0.000 concurrency.py:117(__init__)\n",
      "        3    0.000    0.000    0.000    0.000 decorators.py:381(wrapper)\n",
      "        1    0.000    0.000    0.000    0.000 _methods.py:43(_amin)\n",
      "        1    0.000    0.000    0.000    0.000 embedding.py:221(<listcomp>)\n",
      "        3    0.000    0.000    0.000    0.000 binary_quadratic_model.py:539(offset)\n",
      "        1    0.000    0.000    0.000    0.000 base.py:1165(_submit)\n",
      "        2    0.000    0.000    0.000    0.000 records.py:475(__setattr__)\n",
      "        2    0.000    0.000    0.000    0.000 {method 'decode' of 'bytes' objects}\n",
      "        1    0.000    0.000    0.000    0.000 vartypeview.py:78(offset)\n",
      "        1    0.000    0.000    0.000    0.000 inspect.py:3181(bind)\n",
      "        1    0.000    0.000    0.000    0.000 inspect.py:3050(_bind)\n",
      "        2    0.000    0.000    0.000    0.000 utils.py:786(__call__)\n",
      "        1    0.000    0.000    0.000    0.000 queue.py:122(put)\n",
      "        1    0.000    0.000    0.000    0.000 transforms.py:602(<listcomp>)\n",
      "        5    0.000    0.000    0.000    0.000 records.py:508(__getitem__)\n",
      "        1    0.000    0.000    0.000    0.000 utils.py:131(uniform_iterator)\n",
      "        3    0.000    0.000    0.000    0.000 threading.py:236(__init__)\n",
      "        2    0.000    0.000    0.000    0.000 events.py:68(dispatch_event)\n",
      "        8    0.000    0.000    0.000    0.000 inspect.py:2637(__init__)\n",
      "      200    0.000    0.000    0.000    0.000 {method 'keys' of 'dict' objects}\n",
      "        2    0.000    0.000    0.000    0.000 _methods.py:67(_count_reduce_items)\n",
      "        8    0.000    0.000    0.000    0.000 {method 'getfield' of 'numpy.ndarray' objects}\n",
      "        1    0.000    0.000    0.000    0.000 binary_quadratic_model.py:1061(empty)\n",
      "        6    0.000    0.000    0.000    0.000 functools.py:818(dispatch)\n",
      "        1    0.000    0.000    0.000    0.000 utilities.py:397(child_structure_dfs)\n",
      "      100    0.000    0.000    0.000    0.000 {method 'values' of 'dict' objects}\n",
      "        1    0.000    0.000    0.000    0.000 binary_quadratic_model.py:157(__init__)\n",
      "        2    0.000    0.000    0.000    0.000 functools.py:35(update_wrapper)\n",
      "        1    0.000    0.000    0.000    0.000 _base.py:330(__init__)\n",
      "        2    0.000    0.000    0.000    0.000 threading.py:359(notify)\n",
      "        2    0.000    0.000    0.000    0.000 binary_quadratic_model.py:548(num_interactions)\n",
      "        3    0.000    0.000    0.000    0.000 {built-in method numpy.zeros}\n",
      "        2    0.000    0.000    0.000    0.000 threading.py:545(__init__)\n",
      "        1    0.000    0.000    0.000    0.000 structured.py:132(structure)\n",
      "        2    0.000    0.000    0.000    0.000 fromnumeric.py:53(_wrapfunc)\n",
      "        1    0.000    0.000    0.000    0.000 _base.py:539(set_result)\n",
      "      101    0.000    0.000    0.000    0.000 _collections_abc.py:885(__iter__)\n",
      "        1    0.000    0.000    0.000    0.000 transforms.py:611(<dictcomp>)\n",
      "        2    0.000    0.000    0.000    0.000 numerictypes.py:357(issubdtype)\n",
      "        1    0.000    0.000    0.000    0.000 binary_quadratic_model.py:272(_init_empty)\n",
      "        4    0.000    0.000    0.000    0.000 base64.py:34(_bytes_from_decode_data)\n",
      "        1    0.000    0.000    0.000    0.000 {method 'max' of 'numpy.ndarray' objects}\n",
      "        6    0.000    0.000    0.000    0.000 binary_quadratic_model.py:613(variables)\n",
      "        1    0.000    0.000    0.000    0.000 quadratic.py:214(__len__)\n",
      "       51    0.000    0.000    0.000    0.000 {method '__exit__' of '_thread.RLock' objects}\n",
      "        2    0.000    0.000    0.000    0.000 sampleset.py:229(<genexpr>)\n",
      "        1    0.000    0.000    0.000    0.000 _methods.py:39(_amax)\n",
      "        3    0.000    0.000    0.000    0.000 {method 'copy' of 'dict' objects}\n",
      "        6    0.000    0.000    0.000    0.000 binary_quadratic_model.py:618(vartype)\n",
      "        7    0.000    0.000    0.000    0.000 vartypes.py:175(as_vartype)\n",
      "        1    0.000    0.000    0.000    0.000 utils.py:223(utcnow)\n",
      "        1    0.000    0.000    0.000    0.000 sampleset.py:1276(<listcomp>)\n",
      "        1    0.000    0.000    0.000    0.000 fromnumeric.py:1025(argsort)\n",
      "        1    0.000    0.000    0.000    0.000 inspect.py:2920(__init__)\n",
      "       24    0.000    0.000    0.000    0.000 {built-in method builtins.getattr}\n",
      "       31    0.000    0.000    0.000    0.000 {built-in method builtins.hasattr}\n",
      "        3    0.000    0.000    0.000    0.000 {built-in method numpy.empty}\n",
      "        1    0.000    0.000    0.000    0.000 fromnumeric.py:200(reshape)\n",
      "        3    0.000    0.000    0.000    0.000 quadratic.py:283(linear)\n",
      "        3    0.000    0.000    0.000    0.000 __init__.py:70(_trace)\n",
      "        4    0.000    0.000    0.000    0.000 {built-in method numpy.frombuffer}\n",
      "        2    0.000    0.000    0.000    0.000 warnings.py:82(__init__)\n",
      "        1    0.000    0.000    0.000    0.000 {built-in method now}\n",
      "        2    0.000    0.000    0.000    0.000 _ufunc_config.py:452(_no_nep50_warning)\n",
      "        2    0.000    0.000    0.000    0.000 binary_quadratic_model.py:291(__len__)\n",
      "        2    0.000    0.000    0.000    0.000 quadratic.py:220(items)\n",
      "        2    0.000    0.000    0.000    0.000 {method 'release' of '_thread.lock' objects}\n",
      "        1    0.000    0.000    0.000    0.000 inspect.py:612(unwrap)\n",
      "        1    0.000    0.000    0.000    0.000 getlimits.py:685(__init__)\n",
      "        8    0.000    0.000    0.000    0.000 {method 'update' of 'dict' objects}\n",
      "        1    0.000    0.000    0.000    0.000 contextlib.py:130(__enter__)\n",
      "        4    0.000    0.000    0.000    0.000 {method 'encode' of 'str' objects}\n",
      "        3    0.000    0.000    0.000    0.000 threading.py:264(__enter__)\n",
      "        4    0.000    0.000    0.000    0.000 numerictypes.py:283(issubclass_)\n",
      "        2    0.000    0.000    0.000    0.000 _collections_abc.py:840(items)\n",
      "        3    0.000    0.000    0.000    0.000 utils.py:1036(__contains__)\n",
      "        1    0.000    0.000    0.000    0.000 inspect.py:2840(apply_defaults)\n",
      "        1    0.000    0.000    0.000    0.000 threading.py:90(RLock)\n",
      "        1    0.000    0.000    0.000    0.000 computation.py:687(variables)\n",
      "        6    0.000    0.000    0.000    0.000 weakref.py:415(__getitem__)\n",
      "        6    0.000    0.000    0.000    0.000 utils.py:1015(__getitem__)\n",
      "        1    0.000    0.000    0.000    0.000 computation.py:806(sampleset)\n",
      "        1    0.000    0.000    0.000    0.000 {method 'argsort' of 'numpy.ndarray' objects}\n",
      "        6    0.000    0.000    0.000    0.000 _collections_abc.py:862(__init__)\n",
      "        8    0.000    0.000    0.000    0.000 enum.py:359(__call__)\n",
      "        2    0.000    0.000    0.000    0.000 binary_quadratic_model.py:556(num_variables)\n",
      "        6    0.000    0.000    0.000    0.000 sampleset.py:1124(variables)\n",
      "        1    0.000    0.000    0.000    0.000 contextlib.py:139(__exit__)\n",
      "        3    0.000    0.000    0.000    0.000 sampleset.py:926(from_future)\n",
      "        3    0.000    0.000    0.000    0.000 threading.py:267(__exit__)\n",
      "        4    0.000    0.000    0.000    0.000 {built-in method _thread.allocate_lock}\n",
      "        1    0.000    0.000    0.000    0.000 computation.py:926(_patch_offset)\n",
      "        1    0.000    0.000    0.000    0.000 contextlib.py:279(helper)\n",
      "        2    0.000    0.000    0.000    0.000 _internal.py:920(npy_ctypes_check)\n",
      "        1    0.000    0.000    0.000    0.000 binary_quadratic_model.py:566(spin)\n",
      "        1    0.000    0.000    0.000    0.000 threading.py:389(notify_all)\n",
      "        7    0.000    0.000    0.000    0.000 warnings.py:47(as_action)\n",
      "        1    0.000    0.000    0.000    0.000 solver.py:1067(_format_params)\n",
      "        9    0.000    0.000    0.000    0.000 inspect.py:2969(<genexpr>)\n",
      "        1    0.000    0.000    0.000    0.000 sampleset.py:979(__len__)\n",
      "        2    0.000    0.000    0.000    0.000 vartypeview.py:74(variables)\n",
      "        1    0.000    0.000    0.000    0.000 computation.py:869(problem_type)\n",
      "        1    0.000    0.000    0.000    0.000 inspect.py:66(get_annotations)\n",
      "       17    0.000    0.000    0.000    0.000 {method 'get' of 'dict' objects}\n",
      "        3    0.000    0.000    0.000    0.000 {method 'join' of 'str' objects}\n",
      "        1    0.000    0.000    0.000    0.000 threading.py:276(_acquire_restore)\n",
      "        4    0.000    0.000    0.000    0.000 sampleset.py:1084(info)\n",
      "        4    0.000    0.000    0.000    0.000 quadratic.py:310(quadratic)\n",
      "        1    0.000    0.000    0.000    0.000 structured.py:115(adjacency)\n",
      "        1    0.000    0.000    0.000    0.000 utils.py:981(__init__)\n",
      "        1    0.000    0.000    0.000    0.000 vartypeview.py:211(num_interactions)\n",
      "        6    0.000    0.000    0.000    0.000 computation.py:533(result)\n",
      "        4    0.000    0.000    0.000    0.000 __init__.py:1724(isEnabledFor)\n",
      "        2    0.000    0.000    0.000    0.000 threading.py:279(_is_owned)\n",
      "        1    0.000    0.000    0.000    0.000 computation.py:703(num_occurrences)\n",
      "        8    0.000    0.000    0.000    0.000 _internal.py:493(_getfield_is_safe)\n",
      "        1    0.000    0.000    0.000    0.000 {built-in method numpy.arange}\n",
      "        1    0.000    0.000    0.000    0.000 computation.py:834(timing)\n",
      "       13    0.000    0.000    0.000    0.000 {method 'isidentifier' of 'str' objects}\n",
      "        5    0.000    0.000    0.000    0.000 {method 'issubset' of 'set' objects}\n",
      "        3    0.000    0.000    0.000    0.000 {built-in method numpy.core._multiarray_umath.normalize_axis_index}\n",
      "        1    0.000    0.000    0.000    0.000 {method 'reshape' of 'numpy.ndarray' objects}\n",
      "        1    0.000    0.000    0.000    0.000 encoder.py:104(__init__)\n",
      "        1    0.000    0.000    0.000    0.000 computation.py:645(samples)\n",
      "        3    0.000    0.000    0.000    0.000 {method 'newbyteorder' of 'numpy.dtype' objects}\n",
      "        1    0.000    0.000    0.000    0.000 computation.py:917(_get_problem_info)\n",
      "        6    0.000    0.000    0.000    0.000 {built-in method __new__ of type object at 0x00007FFA4207C920}\n",
      "        1    0.000    0.000    0.000    0.000 contextlib.py:102(__init__)\n",
      "        2    0.000    0.000    0.000    0.000 functools.py:65(wraps)\n",
      "        1    0.000    0.000    0.000    0.000 warnings.py:92(issue)\n",
      "        1    0.000    0.000    0.000    0.000 queue.py:213(_put)\n",
      "        1    0.000    0.000    0.000    0.000 _common.py:137(fromutc)\n",
      "        2    0.000    0.000    0.000    0.000 {method 'format' of 'str' objects}\n",
      "        1    0.000    0.000    0.000    0.000 _collections_abc.py:844(values)\n",
      "        1    0.000    0.000    0.000    0.000 _collections_abc.py:836(keys)\n",
      "       20    0.000    0.000    0.000    0.000 inspect.py:2699(kind)\n",
      "        3    0.000    0.000    0.000    0.000 sampleset.py:1133(vartype)\n",
      "        1    0.000    0.000    0.000    0.000 warnings.py:159(chain_break)\n",
      "        2    0.000    0.000    0.000    0.000 {built-in method math.sqrt}\n",
      "        1    0.000    0.000    0.000    0.000 {method 'set' of '_contextvars.ContextVar' objects}\n",
      "        1    0.000    0.000    0.000    0.000 __init__.py:1455(debug)\n",
      "        1    0.000    0.000    0.000    0.000 <string>:1(<lambda>)\n",
      "        1    0.000    0.000    0.000    0.000 vartypeview.py:214(num_variables)\n",
      "        2    0.000    0.000    0.000    0.000 quadratic.py:31(__init__)\n",
      "        2    0.000    0.000    0.000    0.000 utils.py:782(__init__)\n",
      "        1    0.000    0.000    0.000    0.000 computation.py:606(energies)\n",
      "        2    0.000    0.000    0.000    0.000 _internal.py:525(_view_is_safe)\n",
      "        1    0.000    0.000    0.000    0.000 enum.py:439(__getitem__)\n",
      "       23    0.000    0.000    0.000    0.000 inspect.py:2687(name)\n",
      "        6    0.000    0.000    0.000    0.000 {built-in method _abc.get_cache_token}\n",
      "        7    0.000    0.000    0.000    0.000 {built-in method builtins.callable}\n",
      "        2    0.000    0.000    0.000    0.000 inspect.py:277(isfunction)\n",
      "        1    0.000    0.000    0.000    0.000 utils.py:1020(get)\n",
      "        1    0.000    0.000    0.000    0.000 solver.py:1071(reformat_parameters)\n",
      "        1    0.000    0.000    0.000    0.000 {built-in method builtins.max}\n",
      "        5    0.000    0.000    0.000    0.000 {built-in method sys.intern}\n",
      "        8    0.000    0.000    0.000    0.000 enum.py:678(__new__)\n",
      "        1    0.000    0.000    0.000    0.000 inspect.py:632(_is_wrapper)\n",
      "        2    0.000    0.000    0.000    0.000 binary_quadratic_model.py:544(offset)\n",
      "        1    0.000    0.000    0.000    0.000 warnings.py:210(energy_scale)\n",
      "        7    0.000    0.000    0.000    0.000 {method 'items' of 'dict' objects}\n",
      "        5    0.000    0.000    0.000    0.000 __init__.py:402(<genexpr>)\n",
      "        1    0.000    0.000    0.000    0.000 binary_quadratic_model.py:1699(get_quadratic)\n",
      "        1    0.000    0.000    0.000    0.000 dwave_sampler.py:243(parameters)\n",
      "        1    0.000    0.000    0.000    0.000 threading.py:273(_release_save)\n",
      "        1    0.000    0.000    0.000    0.000 getlimits.py:709(max)\n",
      "        1    0.000    0.000    0.000    0.000 binary_quadratic_model.py:644(add_linear)\n",
      "        1    0.000    0.000    0.000    0.000 warnings.py:184(chain_strength)\n",
      "        1    0.000    0.000    0.000    0.000 computation.py:524(id)\n",
      "        2    0.000    0.000    0.000    0.000 {built-in method time.time}\n",
      "        4    0.000    0.000    0.000    0.000 {method 'startswith' of 'str' objects}\n",
      "        1    0.000    0.000    0.000    0.000 {method 'reset' of '_contextvars.ContextVar' objects}\n",
      "        1    0.000    0.000    0.000    0.000 dwave_sampler.py:304(nodelist)\n",
      "        1    0.000    0.000    0.000    0.000 {method '__enter__' of '_thread.RLock' objects}\n",
      "        1    0.000    0.000    0.000    0.000 {method 'values' of 'mappingproxy' objects}\n",
      "        4    0.000    0.000    0.000    0.000 {built-in method builtins.setattr}\n",
      "        1    0.000    0.000    0.000    0.000 composite.py:69(child)\n",
      "        1    0.000    0.000    0.000    0.000 samples.py:32(__iter__)\n",
      "        1    0.000    0.000    0.000    0.000 dwave_sampler.py:214(properties)\n",
      "        1    0.000    0.000    0.000    0.000 dwave_sampler.py:280(edgelist)\n",
      "        1    0.000    0.000    0.000    0.000 utils.py:987(alias)\n",
      "        5    0.000    0.000    0.000    0.000 {method '__contains__' of 'frozenset' objects}\n",
      "        3    0.000    0.000    0.000    0.000 {built-in method builtins.iter}\n",
      "        1    0.000    0.000    0.000    0.000 {method 'item' of 'numpy.ndarray' objects}\n",
      "        2    0.000    0.000    0.000    0.000 {built-in method numpy.asanyarray}\n",
      "        1    0.000    0.000    0.000    0.000 warnings.py:145(chain_length)\n",
      "        1    0.000    0.000    0.000    0.000 warnings.py:255(too_few_samples)\n",
      "        2    0.000    0.000    0.000    0.000 {method '__enter__' of '_thread.lock' objects}\n",
      "        6    0.000    0.000    0.000    0.000 {function aliasdict.__getitem__ at 0x000001D3CD9B1E10}\n",
      "        3    0.000    0.000    0.000    0.000 {method 'pop' of 'dict' objects}\n",
      "        1    0.000    0.000    0.000    0.000 samples.py:25(__init__)\n",
      "        1    0.000    0.000    0.000    0.000 vartypeview.py:284(vartype)\n",
      "        1    0.000    0.000    0.000    0.000 multiarray.py:1234(unpackbits)\n",
      "        1    0.000    0.000    0.000    0.000 binary_quadratic_model.py:1690(get_linear)\n",
      "        1    0.000    0.000    0.000    0.000 {method '_is_owned' of '_thread.RLock' objects}\n",
      "        1    0.000    0.000    0.000    0.000 {method 'items' of 'mappingproxy' objects}\n",
      "        1    0.000    0.000    0.000    0.000 inspect.py:2779(__init__)\n",
      "        1    0.000    0.000    0.000    0.000 function_base.py:5169(_delete_dispatcher)\n",
      "        2    0.000    0.000    0.000    0.000 computation.py:519(id)\n",
      "        2    0.000    0.000    0.000    0.000 {method '__exit__' of '_thread.lock' objects}\n",
      "        3    0.000    0.000    0.000    0.000 {function aliasdict.__contains__ at 0x000001D3CD9B2050}\n",
      "        1    0.000    0.000    0.000    0.000 {built-in method builtins.id}\n",
      "        1    0.000    0.000    0.000    0.000 {built-in method sys.getrecursionlimit}\n",
      "        1    0.000    0.000    0.000    0.000 {method 'disable' of '_lsprof.Profiler' objects}\n",
      "        1    0.000    0.000    0.000    0.000 _base.py:339(_invoke_callbacks)\n",
      "        2    0.000    0.000    0.000    0.000 inspect.py:3006(parameters)\n",
      "        1    0.000    0.000    0.000    0.000 tz.py:100(fromutc)\n",
      "        1    0.000    0.000    0.000    0.000 multiarray.py:1080(copyto)\n",
      "        1    0.000    0.000    0.000    0.000 fromnumeric.py:195(_reshape_dispatcher)\n",
      "        1    0.000    0.000    0.000    0.000 {method 'setdefault' of 'dict' objects}\n",
      "        4    0.000    0.000    0.000    0.000 {method 'add' of 'set' objects}\n",
      "        1    0.000    0.000    0.000    0.000 <string>:1(<module>)\n",
      "        2    0.000    0.000    0.000    0.000 {method 'append' of 'collections.deque' objects}\n",
      "        1    0.000    0.000    0.000    0.000 {built-in method sys._getframe}\n",
      "        1    0.000    0.000    0.000    0.000 fromnumeric.py:1021(_argsort_dispatcher)\n",
      "        1    0.000    0.000    0.000    0.000 transforms.py:118(chain_strength)\n",
      "        1    0.000    0.000    0.000    0.000 embedding.py:432(find_embedding)\n",
      "        1    0.000    0.000    0.000    0.000 {method 'remove' of 'collections.deque' objects}"
     ]
    }
   ],
   "source": [
    "%prun -s cumulative run_prof()"
   ]
  },
  {
   "cell_type": "code",
   "execution_count": null,
   "metadata": {},
   "outputs": [],
   "source": []
  }
 ],
 "metadata": {
  "kernelspec": {
   "display_name": "Python 3",
   "language": "python",
   "name": "python3"
  },
  "language_info": {
   "codemirror_mode": {
    "name": "ipython",
    "version": 3
   },
   "file_extension": ".py",
   "mimetype": "text/x-python",
   "name": "python",
   "nbconvert_exporter": "python",
   "pygments_lexer": "ipython3",
   "version": "3.10.11"
  }
 },
 "nbformat": 4,
 "nbformat_minor": 2
}
