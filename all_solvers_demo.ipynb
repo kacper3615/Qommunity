{
 "cells": [
  {
   "cell_type": "markdown",
   "metadata": {},
   "source": [
    "# Qommunity solvers"
   ]
  },
  {
   "cell_type": "markdown",
   "metadata": {},
   "source": [
    "## 1. Create graph instance using networkx"
   ]
  },
  {
   "cell_type": "code",
   "execution_count": 2,
   "metadata": {},
   "outputs": [],
   "source": [
    "import networkx as nx\n",
    "\n",
    "G = nx.karate_club_graph()"
   ]
  },
  {
   "cell_type": "markdown",
   "metadata": {},
   "source": [
    "## 2. Create sampler that you want to use and pass it to CommunitySearcher instance\n",
    "Chose the sampler among Advantage, DQM, Louvain, Bayan and Leiden."
   ]
  },
  {
   "cell_type": "markdown",
   "metadata": {},
   "source": [
    "## Advantage sampler"
   ]
  },
  {
   "cell_type": "code",
   "execution_count": 3,
   "metadata": {},
   "outputs": [],
   "source": [
    "from samplers.hierarchical.advantage_sampler import AdvantageSampler\n",
    "from searchers.hierarchical_community_searcher import HierarchicalCommunitySearcher\n",
    "\n",
    "advantage = AdvantageSampler(G, 5)\n",
    "searcher = HierarchicalCommunitySearcher(advantage)"
   ]
  },
  {
   "cell_type": "markdown",
   "metadata": {},
   "source": [
    "### 3. Use community_search() or hierarchical_community_search() method\n",
    "At this moment every solver can use both methods, it will be changed soon\\\n",
    "Pass verbosity level:\n",
    "* 0 - no terminal logs\n",
    "* 1 - start/end logs\n",
    "* 2 - show every division, start/end logs"
   ]
  },
  {
   "cell_type": "markdown",
   "metadata": {},
   "source": [
    "### single_community_search()\n",
    "Divide community only once"
   ]
  },
  {
   "cell_type": "code",
   "execution_count": 3,
   "metadata": {},
   "outputs": [
    {
     "name": "stdout",
     "output_type": "stream",
     "text": [
      "Starting community detection\n",
      "===========================================\n",
      "Calculations for graph with 34 nodes in community\n",
      "===========================================\n",
      "Base community:\n",
      "[0, 1, 2, 3, 4, 5, 6, 7, 8, 9, 10, 11, 12, 13, 14, 15, 16, 17, 18, 19, 20, 21, 22, 23, 24, 25, 26, 27, 28, 29, 30, 31, 32, 33]\n",
      "Community division:\n",
      "[0, 1, 2, 3, 4, 5, 6, 7, 10, 11, 12, 13, 16, 17, 19, 21]\n",
      "[8, 9, 14, 15, 18, 20, 22, 23, 24, 25, 26, 27, 28, 29, 30, 31, 32, 33]\n",
      "===========================================\n",
      "\n",
      "Stopping community detection\n"
     ]
    },
    {
     "data": {
      "text/plain": [
       "[[0, 1, 2, 3, 4, 5, 6, 7, 10, 11, 12, 13, 16, 17, 19, 21],\n",
       " [8, 9, 14, 15, 18, 20, 22, 23, 24, 25, 26, 27, 28, 29, 30, 31, 32, 33]]"
      ]
     },
     "execution_count": 3,
     "metadata": {},
     "output_type": "execute_result"
    }
   ],
   "source": [
    "searcher.single_community_search(verbosity=2)"
   ]
  },
  {
   "cell_type": "markdown",
   "metadata": {},
   "source": [
    "### hierarchical_community_search()\n",
    "Divide community hierarchically\n",
    "Set max_depth parameter to tell how deep can CommunitySearcher go"
   ]
  },
  {
   "cell_type": "code",
   "execution_count": 4,
   "metadata": {},
   "outputs": [
    {
     "name": "stdout",
     "output_type": "stream",
     "text": [
      "Starting community detection\n",
      "===========================================\n",
      "Calculations for graph with 34 nodes, level of recursion: 1\n",
      "===========================================\n",
      "Base community:\n",
      "[0, 1, 2, 3, 4, 5, 6, 7, 8, 9, 10, 11, 12, 13, 14, 15, 16, 17, 18, 19, 20, 21, 22, 23, 24, 25, 26, 27, 28, 29, 30, 31, 32, 33]\n",
      "Community division:\n",
      "[8, 9, 14, 15, 18, 20, 22, 23, 24, 25, 26, 27, 28, 29, 30, 31, 32, 33]\n",
      "[0, 1, 2, 3, 4, 5, 6, 7, 10, 11, 12, 13, 16, 17, 19, 21]\n",
      "===========================================\n",
      "===========================================\n",
      "Calculations for graph with 18 nodes, level of recursion: 2\n",
      "===========================================\n",
      "Base community:\n",
      "[8, 9, 14, 15, 18, 20, 22, 23, 24, 25, 26, 27, 28, 29, 30, 31, 32, 33]\n",
      "Community division:\n",
      "[8, 9, 14, 15, 18, 20, 22, 26, 29, 30, 32, 33]\n",
      "[23, 24, 25, 27, 28, 31]\n",
      "===========================================\n",
      "===========================================\n",
      "Calculations for graph with 12 nodes, level of recursion: 3\n",
      "===========================================\n",
      "Base community:\n",
      "[8, 9, 14, 15, 18, 20, 22, 26, 29, 30, 32, 33]\n",
      "Community division:\n",
      "[9]\n",
      "[8, 14, 15, 18, 20, 22, 26, 29, 30, 32, 33]\n",
      "===========================================\n",
      "===========================================\n",
      "Calculations for graph with 11 nodes, level of recursion: 4\n",
      "===========================================\n",
      "Base community:\n",
      "[8, 14, 15, 18, 20, 22, 26, 29, 30, 32, 33]\n",
      "Community division:\n",
      "[8, 14, 15, 18, 20, 22, 26, 29, 30, 32, 33]\n",
      "[]\n",
      "===========================================\n",
      "===========================================\n",
      "Calculations for graph with 6 nodes, level of recursion: 3\n",
      "===========================================\n",
      "Base community:\n",
      "[23, 24, 25, 27, 28, 31]\n",
      "Community division:\n",
      "[23, 24, 25, 27, 28, 31]\n",
      "[]\n",
      "===========================================\n",
      "===========================================\n",
      "Calculations for graph with 16 nodes, level of recursion: 2\n",
      "===========================================\n",
      "Base community:\n",
      "[0, 1, 2, 3, 4, 5, 6, 7, 10, 11, 12, 13, 16, 17, 19, 21]\n",
      "Community division:\n",
      "[0, 1, 2, 3, 7, 11, 12, 13, 17, 19, 21]\n",
      "[4, 5, 6, 10, 16]\n",
      "===========================================\n",
      "===========================================\n",
      "Calculations for graph with 11 nodes, level of recursion: 3\n",
      "===========================================\n",
      "Base community:\n",
      "[0, 1, 2, 3, 7, 11, 12, 13, 17, 19, 21]\n",
      "Community division:\n",
      "[]\n",
      "[0, 1, 2, 3, 7, 11, 12, 13, 17, 19, 21]\n",
      "===========================================\n",
      "===========================================\n",
      "Calculations for graph with 5 nodes, level of recursion: 3\n",
      "===========================================\n",
      "Base community:\n",
      "[4, 5, 6, 10, 16]\n",
      "Community division:\n",
      "[4, 5, 6, 10, 16]\n",
      "[]\n",
      "===========================================\n",
      "Stopping community detection\n",
      "Result: \n",
      "[[9], [8, 14, 15, 18, 20, 22, 26, 29, 30, 32, 33], [23, 24, 25, 27, 28, 31], [0, 1, 2, 3, 7, 11, 12, 13, 17, 19, 21], [4, 5, 6, 10, 16]]\n",
      "Division tree\n",
      "[[0, 1, 2, 3, 4, 5, 6, 7, 8, 9, 10, 11, 12, 13, 14, 15, 16, 17, 18, 19, 20, 21, 22, 23, 24, 25, 26, 27, 28, 29, 30, 31, 32, 33]]\n",
      "[[8, 9, 14, 15, 18, 20, 22, 23, 24, 25, 26, 27, 28, 29, 30, 31, 32, 33], [0, 1, 2, 3, 4, 5, 6, 7, 10, 11, 12, 13, 16, 17, 19, 21]]\n",
      "[[8, 9, 14, 15, 18, 20, 22, 26, 29, 30, 32, 33], [23, 24, 25, 27, 28, 31], [0, 1, 2, 3, 7, 11, 12, 13, 17, 19, 21], [4, 5, 6, 10, 16]]\n",
      "[[9], [8, 14, 15, 18, 20, 22, 26, 29, 30, 32, 33], [23, 24, 25, 27, 28, 31], [0, 1, 2, 3, 7, 11, 12, 13, 17, 19, 21], [4, 5, 6, 10, 16]]\n"
     ]
    }
   ],
   "source": [
    "result, division_tree, division_modularities = searcher.hierarchical_community_search(\n",
    "    verbosity=2, division_tree=True, division_modularities=True\n",
    ")"
   ]
  },
  {
   "cell_type": "markdown",
   "metadata": {},
   "source": [
    "Voila! Here is your division!"
   ]
  },
  {
   "cell_type": "markdown",
   "metadata": {},
   "source": [
    "## DQM and Louvain"
   ]
  },
  {
   "cell_type": "code",
   "execution_count": 16,
   "metadata": {},
   "outputs": [],
   "source": [
    "from samplers.regular.dqm_sampler import DQMSampler\n",
    "from samplers.regular.louvain_sampler import LouvainSampler\n",
    "from searchers.community_searcher import CommunitySearcher\n",
    "\n",
    "\n",
    "dqm = DQMSampler(G, 5, 4)\n",
    "louvain = LouvainSampler(G, 1)\n",
    "\n",
    "dqm_searcher = CommunitySearcher(dqm)\n",
    "louvain_searcher = CommunitySearcher(louvain)"
   ]
  },
  {
   "cell_type": "code",
   "execution_count": 17,
   "metadata": {},
   "outputs": [
    {
     "name": "stdout",
     "output_type": "stream",
     "text": [
      "Starting community detection\n",
      "===========================================\n",
      "Calculations for graph with 34 nodes in community\n",
      "===========================================\n",
      "Base community:\n",
      "[0, 1, 2, 3, 4, 5, 6, 7, 8, 9, 10, 11, 12, 13, 14, 15, 16, 17, 18, 19, 20, 21, 22, 23, 24, 25, 26, 27, 28, 29, 30, 31, 32, 33]\n",
      "Community division:\n",
      "[4, 5, 6, 10, 16]\n",
      "[0, 1, 2, 3, 7, 11, 12, 13, 17, 19, 21]\n",
      "[8, 9, 14, 15, 18, 20, 22, 26, 29, 30, 32, 33]\n",
      "[23, 24, 25, 27, 28, 31]\n",
      "===========================================\n",
      "Stopping community detection\n"
     ]
    },
    {
     "data": {
      "text/plain": [
       "[[4, 5, 6, 10, 16],\n",
       " [0, 1, 2, 3, 7, 11, 12, 13, 17, 19, 21],\n",
       " [8, 9, 14, 15, 18, 20, 22, 26, 29, 30, 32, 33],\n",
       " [23, 24, 25, 27, 28, 31]]"
      ]
     },
     "execution_count": 17,
     "metadata": {},
     "output_type": "execute_result"
    }
   ],
   "source": [
    "dqm_searcher.community_search(2)"
   ]
  },
  {
   "cell_type": "code",
   "execution_count": 18,
   "metadata": {},
   "outputs": [
    {
     "name": "stdout",
     "output_type": "stream",
     "text": [
      "Starting community detection\n",
      "===========================================\n",
      "Calculations for graph with 34 nodes in community\n",
      "===========================================\n",
      "Base community:\n",
      "[0, 1, 2, 3, 4, 5, 6, 7, 8, 9, 10, 11, 12, 13, 14, 15, 16, 17, 18, 19, 20, 21, 22, 23, 24, 25, 26, 27, 28, 29, 30, 31, 32, 33]\n",
      "Community division:\n",
      "['x23', 'x24', 'x25', 'x27', 'x28', 'x31']\n",
      "['x0', 'x1', 'x2', 'x3', 'x7', 'x11', 'x12', 'x13', 'x17', 'x19', 'x21']\n",
      "['x8', 'x9', 'x14', 'x15', 'x18', 'x20', 'x22', 'x26', 'x29', 'x30', 'x32', 'x33']\n",
      "['x4', 'x5', 'x6', 'x10', 'x16']\n",
      "===========================================\n",
      "Stopping community detection\n"
     ]
    },
    {
     "data": {
      "text/plain": [
       "{'x0': 1,\n",
       " 'x1': 1,\n",
       " 'x2': 1,\n",
       " 'x3': 1,\n",
       " 'x4': 3,\n",
       " 'x5': 3,\n",
       " 'x6': 3,\n",
       " 'x7': 1,\n",
       " 'x8': 2,\n",
       " 'x9': 2,\n",
       " 'x10': 3,\n",
       " 'x11': 1,\n",
       " 'x12': 1,\n",
       " 'x13': 1,\n",
       " 'x14': 2,\n",
       " 'x15': 2,\n",
       " 'x16': 3,\n",
       " 'x17': 1,\n",
       " 'x18': 2,\n",
       " 'x19': 1,\n",
       " 'x20': 2,\n",
       " 'x21': 1,\n",
       " 'x22': 2,\n",
       " 'x23': 0,\n",
       " 'x24': 0,\n",
       " 'x25': 0,\n",
       " 'x26': 2,\n",
       " 'x27': 0,\n",
       " 'x28': 0,\n",
       " 'x29': 2,\n",
       " 'x30': 2,\n",
       " 'x31': 0,\n",
       " 'x32': 2,\n",
       " 'x33': 2}"
      ]
     },
     "execution_count": 18,
     "metadata": {},
     "output_type": "execute_result"
    }
   ],
   "source": [
    "dqm_searcher.community_search(2, return_list=False)"
   ]
  },
  {
   "cell_type": "code",
   "execution_count": 19,
   "metadata": {},
   "outputs": [
    {
     "name": "stdout",
     "output_type": "stream",
     "text": [
      "Starting community detection\n",
      "===========================================\n",
      "Calculations for graph with 34 nodes in community\n",
      "===========================================\n",
      "Base community:\n",
      "[0, 1, 2, 3, 4, 5, 6, 7, 8, 9, 10, 11, 12, 13, 14, 15, 16, 17, 18, 19, 20, 21, 22, 23, 24, 25, 26, 27, 28, 29, 30, 31, 32, 33]\n",
      "Community division:\n",
      "[0, 1, 2, 3, 7, 11, 12, 13, 17, 19, 21]\n",
      "[16, 4, 5, 6, 10]\n",
      "[32, 33, 8, 9, 14, 15, 18, 20, 22, 26, 29, 30]\n",
      "[23, 24, 25, 27, 28, 31]\n",
      "===========================================\n",
      "Stopping community detection\n"
     ]
    },
    {
     "data": {
      "text/plain": [
       "[[0, 1, 2, 3, 7, 11, 12, 13, 17, 19, 21],\n",
       " [16, 4, 5, 6, 10],\n",
       " [32, 33, 8, 9, 14, 15, 18, 20, 22, 26, 29, 30],\n",
       " [23, 24, 25, 27, 28, 31]]"
      ]
     },
     "execution_count": 19,
     "metadata": {},
     "output_type": "execute_result"
    }
   ],
   "source": [
    "louvain_searcher.community_search(2)"
   ]
  },
  {
   "cell_type": "code",
   "execution_count": 20,
   "metadata": {},
   "outputs": [
    {
     "name": "stdout",
     "output_type": "stream",
     "text": [
      "Starting community detection\n",
      "===========================================\n",
      "Calculations for graph with 34 nodes in community\n",
      "===========================================\n",
      "Base community:\n",
      "[0, 1, 2, 3, 4, 5, 6, 7, 8, 9, 10, 11, 12, 13, 14, 15, 16, 17, 18, 19, 20, 21, 22, 23, 24, 25, 26, 27, 28, 29, 30, 31, 32, 33]\n",
      "Community division:\n",
      "['x16', 'x4', 'x5', 'x6', 'x10']\n",
      "['x0', 'x1', 'x2', 'x3', 'x7', 'x11', 'x12', 'x13', 'x17', 'x19', 'x21']\n",
      "['x8', 'x9', 'x14', 'x15', 'x18', 'x20', 'x22', 'x23', 'x24', 'x25', 'x26', 'x27', 'x28', 'x29', 'x30', 'x31', 'x32', 'x33']\n",
      "===========================================\n",
      "Stopping community detection\n"
     ]
    },
    {
     "data": {
      "text/plain": [
       "{'x16': 0,\n",
       " 'x4': 0,\n",
       " 'x5': 0,\n",
       " 'x6': 0,\n",
       " 'x10': 0,\n",
       " 'x0': 1,\n",
       " 'x1': 1,\n",
       " 'x2': 1,\n",
       " 'x3': 1,\n",
       " 'x7': 1,\n",
       " 'x11': 1,\n",
       " 'x12': 1,\n",
       " 'x13': 1,\n",
       " 'x17': 1,\n",
       " 'x19': 1,\n",
       " 'x21': 1,\n",
       " 'x8': 2,\n",
       " 'x9': 2,\n",
       " 'x14': 2,\n",
       " 'x15': 2,\n",
       " 'x18': 2,\n",
       " 'x20': 2,\n",
       " 'x22': 2,\n",
       " 'x23': 2,\n",
       " 'x24': 2,\n",
       " 'x25': 2,\n",
       " 'x26': 2,\n",
       " 'x27': 2,\n",
       " 'x28': 2,\n",
       " 'x29': 2,\n",
       " 'x30': 2,\n",
       " 'x31': 2,\n",
       " 'x32': 2,\n",
       " 'x33': 2}"
      ]
     },
     "execution_count": 20,
     "metadata": {},
     "output_type": "execute_result"
    }
   ],
   "source": [
    "louvain_searcher.community_search(2, return_list=False)"
   ]
  },
  {
   "cell_type": "markdown",
   "metadata": {},
   "source": [
    "## Bayan and Leiden"
   ]
  },
  {
   "cell_type": "code",
   "execution_count": 21,
   "metadata": {},
   "outputs": [],
   "source": [
    "from samplers.regular.bayan_sampler import BayanSampler\n",
    "from samplers.regular.leiden import LeidenSampler\n",
    "\n",
    "bayan = BayanSampler(G)\n",
    "leiden = LeidenSampler(G)\n",
    "\n",
    "bayan_searcher = CommunitySearcher(bayan)\n",
    "leiden_searcher = CommunitySearcher(leiden)"
   ]
  },
  {
   "cell_type": "code",
   "execution_count": 24,
   "metadata": {},
   "outputs": [
    {
     "data": {
      "text/plain": [
       "[[0, 1, 2, 3, 7, 11, 12, 13, 17, 19, 21],\n",
       " [4, 5, 6, 10, 16],\n",
       " [8, 9, 14, 15, 18, 20, 22, 26, 29, 30, 32, 33],\n",
       " [23, 24, 25, 27, 28, 31]]"
      ]
     },
     "execution_count": 24,
     "metadata": {},
     "output_type": "execute_result"
    }
   ],
   "source": [
    "bayan_searcher.community_search()"
   ]
  },
  {
   "cell_type": "code",
   "execution_count": 25,
   "metadata": {},
   "outputs": [
    {
     "data": {
      "text/plain": [
       "[[8, 9, 14, 15, 18, 20, 22, 26, 29, 30, 32, 33],\n",
       " [0, 1, 2, 3, 7, 11, 12, 13, 17, 19, 21],\n",
       " [23, 24, 25, 27, 28, 31],\n",
       " [4, 5, 6, 10, 16]]"
      ]
     },
     "execution_count": 25,
     "metadata": {},
     "output_type": "execute_result"
    }
   ],
   "source": [
    "leiden_searcher.community_search()"
   ]
  }
 ],
 "metadata": {
  "kernelspec": {
   "display_name": "Python 3",
   "language": "python",
   "name": "python3"
  },
  "language_info": {
   "codemirror_mode": {
    "name": "ipython",
    "version": 3
   },
   "file_extension": ".py",
   "mimetype": "text/x-python",
   "name": "python",
   "nbconvert_exporter": "python",
   "pygments_lexer": "ipython3",
   "version": "3.10.11"
  }
 },
 "nbformat": 4,
 "nbformat_minor": 2
}
