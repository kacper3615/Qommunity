{
 "cells": [
  {
   "cell_type": "code",
   "execution_count": 1,
   "metadata": {},
   "outputs": [],
   "source": [
    "from QHyper.problems.community_detection import Network, CommunityDetectionProblem\n",
    "import networkx as nx"
   ]
  },
  {
   "cell_type": "markdown",
   "metadata": {},
   "source": [
    "# Important remarks"
   ]
  },
  {
   "cell_type": "markdown",
   "metadata": {},
   "source": [
    "The general experiment we wanted to conduct was to run hierarchical search with Gurobi instead of Advantage.\n",
    "This was to be done to check which component (hierarchical or quantum) to \"blame\" for the high percentage of obtained \"zero\" modularity scores in our hierarchical-quantum approach\n",
    "(in our previous experiments we usually obtained a lot of zero modularity scores).\n",
    "\n",
    "However after having added and used Gurobi in the hierarchical approach a new issue was discovered - it returned a lot of zeros as well, **but** for some other (implemenation) reason."
   ]
  },
  {
   "cell_type": "markdown",
   "metadata": {},
   "source": [
    "### Load prepared sample networks\n",
    "Powerlaw graph family, range of number of nodes [10, 20, ..., 100] prepared for the demonstration."
   ]
  },
  {
   "cell_type": "code",
   "execution_count": 2,
   "metadata": {},
   "outputs": [
    {
     "data": {
      "text/plain": [
       "[10, 20, 30, 40, 50, 60, 70, 80, 90, 100]"
      ]
     },
     "execution_count": 2,
     "metadata": {},
     "output_type": "execute_result"
    }
   ],
   "source": [
    "import numpy as np\n",
    "\n",
    "\n",
    "Graphs = np.load(\"graphs.npy\", allow_pickle=True)\n",
    "\n",
    "num_nodes = [g.number_of_nodes() for g in Graphs]\n",
    "num_nodes"
   ]
  },
  {
   "cell_type": "markdown",
   "metadata": {},
   "source": [
    "### Let's test Hierarchical Search with Gurobi"
   ]
  },
  {
   "cell_type": "markdown",
   "metadata": {},
   "source": [
    "The purpose of what we have talked about last week was to compare hierarchical-quantum approach (hierarchical + Advantage) with hierarchical-nonadvantage approach (hierarchical + ex. Gurobi)\n",
    "to prove (or not, or gain more prior at least) which component of our approach is responsible for getting a lot of 0 modularity scores.\n",
    "\n",
    "Our intuition was that it was Advantage. And that is probably true, HOWEVER, another zero-modularity-score-producing issue was discovered.\n",
    "\n",
    "So this notebook's purpose isn't to compare (hierarchical + Gurobi) with (hierarchical + Advantage) - not yet! - but to present the new issue.\n",
    "\n",
    "That is why I will be using LeidenSampler as a reference method - as, as other classical samplers, it produces \"stable\" (always non-zero modularity-scores) partitioning results."
   ]
  },
  {
   "cell_type": "code",
   "execution_count": 3,
   "metadata": {},
   "outputs": [],
   "source": [
    "from Qommunity.samplers.hierarchical.gurobi_sampler import GurobiSampler\n",
    "from Qommunity.searchers.hierarchical_community_searcher import HierarchicalCommunitySearcher\n",
    "\n",
    "from Qommunity.samplers.regular.leiden_sampler import LeidenSampler\n",
    "from Qommunity.searchers.community_searcher import CommunitySearcher"
   ]
  },
  {
   "cell_type": "code",
   "execution_count": 4,
   "metadata": {},
   "outputs": [
    {
     "data": {
      "image/png": "[encoded data removed]",
      "text/plain": [
       "<Figure size 600x400 with 1 Axes>"
      ]
     },
     "metadata": {},
     "output_type": "display_data"
    }
   ],
   "source": [
    "import matplotlib.pyplot as plt\n",
    "\n",
    "\n",
    "f, ax = plt.subplots(1, figsize=(6, 4))\n",
    "\n",
    "G = Graphs[0]\n",
    "nx.draw(G, with_labels=True, ax=ax)"
   ]
  },
  {
   "cell_type": "markdown",
   "metadata": {},
   "source": [
    "Added custom supress_output flag because Gurobi produces a lot of output - just so that you won't be surprised there's no output with Gurobi running underneath"
   ]
  },
  {
   "cell_type": "code",
   "execution_count": 5,
   "metadata": {},
   "outputs": [
    {
     "name": "stdout",
     "output_type": "stream",
     "text": [
      "Set parameter Username\n",
      "Academic license - for non-commercial use only - expires 2025-03-27\n",
      "Gurobi Optimizer version 10.0.1 build v10.0.1rc0 (win64)\n",
      "\n",
      "CPU model: 11th Gen Intel(R) Core(TM) i7-1165G7 @ 2.80GHz, instruction set [SSE2|AVX|AVX2|AVX512]\n",
      "Thread count: 4 physical cores, 8 logical processors, using up to 8 threads\n",
      "\n",
      "Optimize a model with 0 rows, 10 columns and 0 nonzeros\n",
      "Model fingerprint: 0x640e1840\n",
      "Model has 55 quadratic objective terms\n",
      "Variable types: 0 continuous, 10 integer (10 binary)\n",
      "Coefficient statistics:\n",
      "  Matrix range     [0e+00, 0e+00]\n",
      "  Objective range  [0e+00, 0e+00]\n",
      "  QObjective range [1e-01, 4e+00]\n",
      "  Bounds range     [1e+00, 1e+00]\n",
      "  RHS range        [0e+00, 0e+00]\n",
      "Found heuristic solution: objective 0.0000000\n",
      "Found heuristic solution: objective -3.2777778\n",
      "Presolve removed 0 rows and 10 columns\n",
      "Presolve time: 0.00s\n",
      "Presolve: All rows and columns removed\n",
      "\n",
      "Explored 0 nodes (0 simplex iterations) in 0.01 seconds (0.00 work units)\n",
      "Thread count was 1 (of 8 available processors)\n",
      "\n",
      "Solution count 2: -3.27778 0 \n",
      "No other solutions better than -3.27778\n",
      "\n",
      "Optimal solution found (tolerance 1.00e-04)\n",
      "Best objective -3.277777777778e+00, best bound -3.277777777778e+00, gap 0.0000%\n"
     ]
    },
    {
     "data": {
      "text/plain": [
       "[[3, 4], [2, 5, 6, 7], [0, 1, 8, 9]]"
      ]
     },
     "execution_count": 5,
     "metadata": {},
     "output_type": "execute_result"
    }
   ],
   "source": [
    "# supress_output=False\n",
    "gurobi = GurobiSampler(G, supress_output=False)\n",
    "hierch_searcher = HierarchicalCommunitySearcher(gurobi)\n",
    "res_gurobi = hierch_searcher.hierarchical_community_search()\n",
    "res_gurobi"
   ]
  },
  {
   "cell_type": "code",
   "execution_count": 6,
   "metadata": {},
   "outputs": [
    {
     "data": {
      "text/plain": [
       "[[3, 4], [2, 5, 6, 7], [0, 1, 8, 9]]"
      ]
     },
     "execution_count": 6,
     "metadata": {},
     "output_type": "execute_result"
    }
   ],
   "source": [
    "# supress_output=True\n",
    "gurobi = GurobiSampler(G, supress_output=True)\n",
    "hierch_searcher = HierarchicalCommunitySearcher(gurobi)\n",
    "res_gurobi = hierch_searcher.hierarchical_community_search()\n",
    "res_gurobi"
   ]
  },
  {
   "cell_type": "markdown",
   "metadata": {},
   "source": [
    "### Let's get to see some runs\n",
    "### 1. Simple case - 1 run per each graph"
   ]
  },
  {
   "cell_type": "code",
   "execution_count": 7,
   "metadata": {},
   "outputs": [],
   "source": [
    "comms_leiden = []\n",
    "comms_gurobi = []\n",
    "\n",
    "mods_leiden = []\n",
    "mods_gurobi = []\n",
    "for G in Graphs:\n",
    "    leiden = LeidenSampler(G)\n",
    "    searcher = CommunitySearcher(leiden)\n",
    "    res_leiden = searcher.community_search()\n",
    "\n",
    "    gurobi = GurobiSampler(G, supress_output=True)\n",
    "    hierch_searcher = HierarchicalCommunitySearcher(gurobi)\n",
    "    res_gurobi = hierch_searcher.hierarchical_community_search()\n",
    "\n",
    "    comms_leiden.append(res_leiden)\n",
    "    comms_gurobi.append(res_gurobi)\n",
    "\n",
    "    mod_score_leiden = nx.community.modularity(G, res_leiden)\n",
    "    mod_score_gurobi = nx.community.modularity(G, res_gurobi)\n",
    "\n",
    "    mods_leiden.append(mod_score_leiden)\n",
    "    mods_gurobi.append(mod_score_gurobi)"
   ]
  },
  {
   "cell_type": "code",
   "execution_count": 8,
   "metadata": {},
   "outputs": [
    {
     "data": {
      "text/plain": [
       "array([ True,  True,  True,  True,  True, False,  True, False,  True,\n",
       "        True])"
      ]
     },
     "execution_count": 8,
     "metadata": {},
     "output_type": "execute_result"
    }
   ],
   "source": [
    "np.isclose(np.array(mods_gurobi), np.array(mods_leiden))"
   ]
  },
  {
   "cell_type": "markdown",
   "metadata": {},
   "source": [
    "Not all partitionings, were the same, but generally similar, that's not the point for now anyway..."
   ]
  },
  {
   "cell_type": "code",
   "execution_count": 9,
   "metadata": {},
   "outputs": [
    {
     "data": {
      "image/png": "[encoded data removed]",
      "text/plain": [
       "<Figure size 640x480 with 1 Axes>"
      ]
     },
     "metadata": {},
     "output_type": "display_data"
    }
   ],
   "source": [
    "from matplotlib import pyplot as plt\n",
    "\n",
    "\n",
    "fig, ax = plt.subplots(1)\n",
    "plt.plot(num_nodes, mods_gurobi, '-o', label=\"Gurobi\")\n",
    "plt.plot(num_nodes, mods_leiden, '-o', label=\"Leiden\")\n",
    "plt.legend()\n",
    "ax.set_title(\"Q (in 1 run) in function of Powerlaw network size - Gurobi Hierarchical and Leiden\");\n",
    "ax.set_xlabel(\"N - number of graph nodes\");\n",
    "ax.set_ylabel(\"Q\");"
   ]
  },
  {
   "cell_type": "markdown",
   "metadata": {},
   "source": [
    "### 2. Run N = 100 times"
   ]
  },
  {
   "cell_type": "code",
   "execution_count": 10,
   "metadata": {},
   "outputs": [],
   "source": [
    "import os\n",
    "\n",
    "\n",
    "dir = \"gurobi_test_results/one_instance\"\n",
    "os.makedirs(os.path.dirname(dir+\"/\"), exist_ok=True)\n",
    "\n",
    "\n",
    "def make_dir(dir):\n",
    "    if not os.path.exists(dir):\n",
    "        os.mkdir(dir)"
   ]
  },
  {
   "cell_type": "markdown",
   "metadata": {},
   "source": [
    "#### Gurobi first"
   ]
  },
  {
   "cell_type": "code",
   "execution_count": 11,
   "metadata": {},
   "outputs": [],
   "source": [
    "solver = \"gurobi\"\n",
    "make_dir(f\"{dir}/{solver}\")"
   ]
  },
  {
   "cell_type": "code",
   "execution_count": 12,
   "metadata": {},
   "outputs": [
    {
     "data": {
      "text/plain": [
       "array([ 10.,  20.,  30.,  40.,  50.,  60.,  70.,  80.,  90., 100.])"
      ]
     },
     "execution_count": 12,
     "metadata": {},
     "output_type": "execute_result"
    }
   ],
   "source": [
    "# to recall what num_nodes was\n",
    "# num_nodes = [g.number_of_nodes() for g in Graphs]\n",
    "num_nodes = np.linspace(10, 100, 10)\n",
    "num_nodes"
   ]
  },
  {
   "cell_type": "code",
   "execution_count": 13,
   "metadata": {},
   "outputs": [
    {
     "name": "stderr",
     "output_type": "stream",
     "text": [
      "10it [00:18,  1.86s/it]\n"
     ]
    }
   ],
   "source": [
    "from tqdm import tqdm\n",
    "\n",
    "\n",
    "N_RUNS = 100\n",
    "\n",
    "\n",
    "mods = np.zeros((num_nodes.shape[0], N_RUNS))\n",
    "comms = np.empty((num_nodes.shape[0], N_RUNS), dtype=object)\n",
    "\n",
    "mods_graph_N = np.zeros((N_RUNS))\n",
    "comms_graph_N = np.empty((N_RUNS), dtype=object)\n",
    "for i, G in tqdm(enumerate(Graphs)):\n",
    "    gurobi = GurobiSampler(G, supress_output=True)\n",
    "    hierch_searcher = HierarchicalCommunitySearcher(gurobi)\n",
    "    \n",
    "    for r in range(N_RUNS):\n",
    "        comms_res = hierch_searcher.hierarchical_community_search()\n",
    "        mod_score = nx.community.modularity(G, comms_res)\n",
    "        mods_graph_N[r] = mod_score\n",
    "        comms_graph_N[r] = comms_res\n",
    "\n",
    "    current_net_size = int(num_nodes[i])\n",
    "    mods[i] = mods_graph_N\n",
    "    comms[i] = comms_graph_N\n",
    "    np.save(f\"{dir}/{solver}/network_size_{current_net_size}\", mods_graph_N)\n",
    "    np.save(f\"{dir}/{solver}/network_size_{current_net_size}_comms\", comms_graph_N)\n",
    "\n",
    "np.save(f\"{dir}/{solver}/mods_final\", mods)\n",
    "np.save(f\"{dir}/{solver}/comms_final\", comms)"
   ]
  },
  {
   "cell_type": "markdown",
   "metadata": {},
   "source": [
    "#### Now the same for Leiden"
   ]
  },
  {
   "cell_type": "code",
   "execution_count": 14,
   "metadata": {},
   "outputs": [],
   "source": [
    "solver = \"leiden\"\n",
    "make_dir(f\"{dir}/{solver}\")"
   ]
  },
  {
   "cell_type": "code",
   "execution_count": 15,
   "metadata": {},
   "outputs": [
    {
     "name": "stderr",
     "output_type": "stream",
     "text": [
      "10it [00:00, 13.68it/s]\n"
     ]
    }
   ],
   "source": [
    "from tqdm import tqdm\n",
    "\n",
    "\n",
    "N_RUNS = 100\n",
    "\n",
    "\n",
    "mods = np.zeros((num_nodes.shape[0], N_RUNS))\n",
    "comms = np.empty((num_nodes.shape[0], N_RUNS), dtype=object)\n",
    "\n",
    "mods_graph_N = np.zeros((N_RUNS))\n",
    "comms_graph_N = np.empty((N_RUNS), dtype=object)\n",
    "for i, G in tqdm(enumerate(Graphs)):\n",
    "    leiden = LeidenSampler(G)\n",
    "    searcher = CommunitySearcher(leiden)\n",
    "    \n",
    "    for r in range(N_RUNS):\n",
    "        comms_res = searcher.community_search()\n",
    "        mod_score = nx.community.modularity(G, comms_res)\n",
    "        mods_graph_N[r] = mod_score\n",
    "        comms_graph_N[r] = comms_res\n",
    "\n",
    "    current_net_size = int(num_nodes[i])\n",
    "    mods[i] = mods_graph_N\n",
    "    comms[i] = comms_graph_N\n",
    "    np.save(f\"{dir}/{solver}/network_size_{current_net_size}\", mods_graph_N)\n",
    "    np.save(f\"{dir}/{solver}/network_size_{current_net_size}_comms\", comms_graph_N)\n",
    "\n",
    "np.save(f\"{dir}/{solver}/mods_final\", mods)\n",
    "np.save(f\"{dir}/{solver}/comms_final\", comms)"
   ]
  },
  {
   "cell_type": "markdown",
   "metadata": {},
   "source": [
    "Let's see the results"
   ]
  },
  {
   "cell_type": "code",
   "execution_count": 16,
   "metadata": {},
   "outputs": [],
   "source": [
    "mods_gurobi = np.load(f\"{dir}/gurobi/mods_final.npy\")\n",
    "mods_leiden = np.load(f\"{dir}/leiden/mods_final.npy\")"
   ]
  },
  {
   "cell_type": "code",
   "execution_count": 18,
   "metadata": {},
   "outputs": [
    {
     "data": {
      "image/png": "[encoded data removed]",
      "text/plain": [
       "<Figure size 640x480 with 1 Axes>"
      ]
     },
     "metadata": {},
     "output_type": "display_data"
    }
   ],
   "source": [
    "from matplotlib import pyplot as plt\n",
    "\n",
    "\n",
    "fig, ax = plt.subplots(1)\n",
    "plt.plot(num_nodes, mods_gurobi.max(axis=-1), '-o', label=\"Gurobi Hierarchical - max\")\n",
    "plt.plot(num_nodes, mods_leiden.max(axis=-1), '-o', label=\"Leiden - max\")\n",
    "plt.plot(num_nodes, mods_gurobi.mean(axis=-1), '-o', label=\"Gurobi Hierarchical - mean\")\n",
    "plt.plot(num_nodes, mods_leiden.mean(axis=-1), '-o', label=\"Leiden - mean\")\n",
    "plt.legend()\n",
    "ax.set_title(f\"Max. Q and mean Q after {N_RUNS} runs - oops\");\n",
    "ax.set_xlabel(\"N - number of graph nodes\");\n",
    "ax.set_ylabel(\"Q values\");"
   ]
  },
  {
   "cell_type": "code",
   "execution_count": 19,
   "metadata": {},
   "outputs": [
    {
     "data": {
      "text/plain": [
       "array([[False, False,  True,  True,  True,  True,  True,  True,  True,\n",
       "         True,  True,  True,  True,  True,  True,  True,  True,  True,\n",
       "         True,  True,  True,  True,  True,  True,  True,  True,  True,\n",
       "         True,  True,  True,  True,  True,  True,  True,  True,  True,\n",
       "         True,  True,  True,  True,  True,  True,  True,  True,  True,\n",
       "         True,  True,  True,  True,  True,  True,  True,  True,  True,\n",
       "         True,  True,  True,  True,  True,  True,  True,  True,  True,\n",
       "         True,  True,  True,  True,  True,  True,  True,  True,  True,\n",
       "         True,  True,  True,  True,  True,  True,  True,  True,  True,\n",
       "         True,  True,  True,  True,  True,  True,  True,  True,  True,\n",
       "         True,  True,  True,  True,  True,  True,  True,  True,  True,\n",
       "         True],\n",
       "       [False, False, False, False, False, False, False, False, False,\n",
       "        False, False, False, False, False, False, False, False, False,\n",
       "        False, False, False, False, False, False, False, False, False,\n",
       "        False, False, False, False, False, False, False, False, False,\n",
       "        False, False, False, False, False, False, False, False, False,\n",
       "        False, False, False, False, False, False, False, False, False,\n",
       "        False, False, False, False, False, False, False, False, False,\n",
       "        False, False, False, False, False, False, False, False, False,\n",
       "        False, False, False, False, False, False, False, False, False,\n",
       "        False, False, False, False, False, False, False, False, False,\n",
       "        False, False, False, False, False, False, False, False, False,\n",
       "        False],\n",
       "       [False,  True,  True,  True,  True,  True,  True,  True,  True,\n",
       "         True,  True,  True,  True,  True,  True,  True,  True,  True,\n",
       "         True,  True,  True,  True,  True,  True,  True,  True,  True,\n",
       "         True,  True,  True,  True,  True,  True,  True,  True,  True,\n",
       "         True,  True,  True,  True,  True,  True,  True,  True,  True,\n",
       "         True,  True,  True,  True,  True,  True,  True,  True,  True,\n",
       "         True,  True,  True,  True,  True,  True,  True,  True,  True,\n",
       "         True,  True,  True,  True,  True,  True,  True,  True,  True,\n",
       "         True,  True,  True,  True,  True,  True,  True,  True,  True,\n",
       "         True,  True,  True,  True,  True,  True,  True,  True,  True,\n",
       "         True,  True,  True,  True,  True,  True,  True,  True,  True,\n",
       "         True],\n",
       "       [False, False, False, False, False, False, False, False, False,\n",
       "        False, False, False, False, False, False, False, False, False,\n",
       "        False, False, False, False, False, False, False, False, False,\n",
       "        False, False, False, False, False, False, False, False, False,\n",
       "        False, False, False, False, False, False, False, False, False,\n",
       "        False, False, False, False, False, False, False, False, False,\n",
       "        False, False, False, False, False, False, False, False, False,\n",
       "        False, False, False, False, False, False, False, False, False,\n",
       "        False, False, False, False, False, False, False, False, False,\n",
       "        False, False, False, False, False, False, False, False, False,\n",
       "        False, False, False, False, False, False, False, False, False,\n",
       "        False],\n",
       "       [False,  True,  True,  True,  True,  True,  True,  True,  True,\n",
       "         True,  True,  True,  True,  True,  True,  True,  True,  True,\n",
       "         True,  True,  True,  True,  True,  True,  True,  True,  True,\n",
       "         True,  True,  True,  True,  True,  True,  True,  True,  True,\n",
       "         True,  True,  True,  True,  True,  True,  True,  True,  True,\n",
       "         True,  True,  True,  True,  True,  True,  True,  True,  True,\n",
       "         True,  True,  True,  True,  True,  True,  True,  True,  True,\n",
       "         True,  True,  True,  True,  True,  True,  True,  True,  True,\n",
       "         True,  True,  True,  True,  True,  True,  True,  True,  True,\n",
       "         True,  True,  True,  True,  True,  True,  True,  True,  True,\n",
       "         True,  True,  True,  True,  True,  True,  True,  True,  True,\n",
       "         True],\n",
       "       [False,  True,  True,  True,  True,  True,  True,  True,  True,\n",
       "         True,  True,  True,  True,  True,  True,  True,  True,  True,\n",
       "         True,  True,  True,  True,  True,  True,  True,  True,  True,\n",
       "         True,  True,  True,  True,  True,  True,  True,  True,  True,\n",
       "         True,  True,  True,  True,  True,  True,  True,  True,  True,\n",
       "         True,  True,  True,  True,  True,  True,  True,  True,  True,\n",
       "         True,  True,  True,  True,  True,  True,  True,  True,  True,\n",
       "         True,  True,  True,  True,  True,  True,  True,  True,  True,\n",
       "         True,  True,  True,  True,  True,  True,  True,  True,  True,\n",
       "         True,  True,  True,  True,  True,  True,  True,  True,  True,\n",
       "         True,  True,  True,  True,  True,  True,  True,  True,  True,\n",
       "         True],\n",
       "       [False,  True,  True,  True,  True,  True,  True,  True,  True,\n",
       "         True,  True,  True,  True,  True,  True,  True,  True,  True,\n",
       "         True,  True,  True,  True,  True,  True,  True,  True,  True,\n",
       "         True,  True,  True,  True,  True,  True,  True,  True,  True,\n",
       "         True,  True,  True,  True,  True,  True,  True,  True,  True,\n",
       "         True,  True,  True,  True,  True,  True,  True,  True,  True,\n",
       "         True,  True,  True,  True,  True,  True,  True,  True,  True,\n",
       "         True,  True,  True,  True,  True,  True,  True,  True,  True,\n",
       "         True,  True,  True,  True,  True,  True,  True,  True,  True,\n",
       "         True,  True,  True,  True,  True,  True,  True,  True,  True,\n",
       "         True,  True,  True,  True,  True,  True,  True,  True,  True,\n",
       "         True],\n",
       "       [False, False,  True,  True,  True,  True,  True,  True,  True,\n",
       "         True,  True,  True,  True,  True,  True,  True,  True,  True,\n",
       "         True,  True,  True,  True,  True,  True,  True,  True,  True,\n",
       "         True,  True,  True,  True,  True,  True,  True,  True,  True,\n",
       "         True,  True,  True,  True,  True,  True,  True,  True,  True,\n",
       "         True,  True,  True,  True,  True,  True,  True,  True,  True,\n",
       "         True,  True,  True,  True,  True,  True,  True,  True,  True,\n",
       "         True,  True,  True,  True,  True,  True,  True,  True,  True,\n",
       "         True,  True,  True,  True,  True,  True,  True,  True,  True,\n",
       "         True,  True,  True,  True,  True,  True,  True,  True,  True,\n",
       "         True,  True,  True,  True,  True,  True,  True,  True,  True,\n",
       "         True],\n",
       "       [False,  True,  True,  True,  True,  True,  True,  True,  True,\n",
       "         True,  True,  True,  True,  True,  True,  True,  True,  True,\n",
       "         True,  True,  True,  True,  True,  True,  True,  True,  True,\n",
       "         True,  True,  True,  True,  True,  True,  True,  True,  True,\n",
       "         True,  True,  True,  True,  True,  True,  True,  True,  True,\n",
       "         True,  True,  True,  True,  True,  True,  True,  True,  True,\n",
       "         True,  True,  True,  True,  True,  True,  True,  True,  True,\n",
       "         True,  True,  True,  True,  True,  True,  True,  True,  True,\n",
       "         True,  True,  True,  True,  True,  True,  True,  True,  True,\n",
       "         True,  True,  True,  True,  True,  True,  True,  True,  True,\n",
       "         True,  True,  True,  True,  True,  True,  True,  True,  True,\n",
       "         True],\n",
       "       [False,  True,  True,  True,  True,  True,  True,  True,  True,\n",
       "         True,  True,  True,  True,  True,  True,  True,  True,  True,\n",
       "         True,  True,  True,  True,  True,  True,  True,  True,  True,\n",
       "         True,  True,  True,  True,  True,  True,  True,  True,  True,\n",
       "         True,  True,  True,  True,  True,  True,  True,  True,  True,\n",
       "         True,  True,  True,  True,  True,  True,  True,  True,  True,\n",
       "         True,  True,  True,  True,  True,  True,  True,  True,  True,\n",
       "         True,  True,  True,  True,  True,  True,  True,  True,  True,\n",
       "         True,  True,  True,  True,  True,  True,  True,  True,  True,\n",
       "         True,  True,  True,  True,  True,  True,  True,  True,  True,\n",
       "         True,  True,  True,  True,  True,  True,  True,  True,  True,\n",
       "         True]])"
      ]
     },
     "execution_count": 19,
     "metadata": {},
     "output_type": "execute_result"
    }
   ],
   "source": [
    "np.isclose(mods_gurobi, np.zeros(mods_gurobi.shape))"
   ]
  },
  {
   "cell_type": "code",
   "execution_count": 34,
   "metadata": {},
   "outputs": [
    {
     "data": {
      "text/plain": [
       "array([[4.01234568e-01, 4.01234568e-01, 0.00000000e+00, 0.00000000e+00,\n",
       "        0.00000000e+00, 0.00000000e+00, 0.00000000e+00, 0.00000000e+00,\n",
       "        0.00000000e+00, 0.00000000e+00, 0.00000000e+00, 0.00000000e+00,\n",
       "        0.00000000e+00, 0.00000000e+00, 0.00000000e+00, 0.00000000e+00,\n",
       "        0.00000000e+00, 0.00000000e+00, 0.00000000e+00, 0.00000000e+00,\n",
       "        0.00000000e+00, 0.00000000e+00, 0.00000000e+00, 0.00000000e+00,\n",
       "        0.00000000e+00, 0.00000000e+00, 0.00000000e+00, 0.00000000e+00,\n",
       "        0.00000000e+00, 0.00000000e+00, 0.00000000e+00, 0.00000000e+00,\n",
       "        0.00000000e+00, 0.00000000e+00, 0.00000000e+00, 0.00000000e+00,\n",
       "        0.00000000e+00, 0.00000000e+00, 0.00000000e+00, 0.00000000e+00,\n",
       "        0.00000000e+00, 0.00000000e+00, 0.00000000e+00, 0.00000000e+00,\n",
       "        0.00000000e+00, 0.00000000e+00, 0.00000000e+00, 0.00000000e+00,\n",
       "        0.00000000e+00, 0.00000000e+00, 0.00000000e+00, 0.00000000e+00,\n",
       "        0.00000000e+00, 0.00000000e+00, 0.00000000e+00, 0.00000000e+00,\n",
       "        0.00000000e+00, 0.00000000e+00, 0.00000000e+00, 0.00000000e+00,\n",
       "        0.00000000e+00, 0.00000000e+00, 0.00000000e+00, 0.00000000e+00,\n",
       "        0.00000000e+00, 0.00000000e+00, 0.00000000e+00, 0.00000000e+00,\n",
       "        0.00000000e+00, 0.00000000e+00, 0.00000000e+00, 0.00000000e+00,\n",
       "        0.00000000e+00, 0.00000000e+00, 0.00000000e+00, 0.00000000e+00,\n",
       "        0.00000000e+00, 0.00000000e+00, 0.00000000e+00, 0.00000000e+00,\n",
       "        0.00000000e+00, 0.00000000e+00, 0.00000000e+00, 0.00000000e+00,\n",
       "        0.00000000e+00, 0.00000000e+00, 0.00000000e+00, 0.00000000e+00,\n",
       "        0.00000000e+00, 0.00000000e+00, 0.00000000e+00, 0.00000000e+00,\n",
       "        0.00000000e+00, 0.00000000e+00, 0.00000000e+00, 0.00000000e+00,\n",
       "        0.00000000e+00, 0.00000000e+00, 0.00000000e+00, 0.00000000e+00],\n",
       "       [2.96398892e-01, 2.96398892e-01, 2.96398892e-01, 2.96398892e-01,\n",
       "        2.96398892e-01, 2.96398892e-01, 2.96398892e-01, 2.96398892e-01,\n",
       "        2.96398892e-01, 2.96398892e-01, 2.96398892e-01, 2.96398892e-01,\n",
       "        2.96398892e-01, 2.96398892e-01, 2.96398892e-01, 2.96398892e-01,\n",
       "        2.96398892e-01, 2.96398892e-01, 2.96398892e-01, 2.96398892e-01,\n",
       "        2.96398892e-01, 2.96398892e-01, 2.96398892e-01, 2.96398892e-01,\n",
       "        2.96398892e-01, 2.96398892e-01, 2.96398892e-01, 2.96398892e-01,\n",
       "        2.96398892e-01, 2.96398892e-01, 2.96398892e-01, 2.96398892e-01,\n",
       "        2.96398892e-01, 2.96398892e-01, 2.96398892e-01, 2.96398892e-01,\n",
       "        2.96398892e-01, 2.96398892e-01, 2.96398892e-01, 2.96398892e-01,\n",
       "        2.96398892e-01, 2.96398892e-01, 2.96398892e-01, 2.96398892e-01,\n",
       "        2.96398892e-01, 2.96398892e-01, 2.96398892e-01, 2.96398892e-01,\n",
       "        2.96398892e-01, 2.96398892e-01, 2.96398892e-01, 2.96398892e-01,\n",
       "        2.96398892e-01, 2.96398892e-01, 2.96398892e-01, 2.96398892e-01,\n",
       "        2.96398892e-01, 2.96398892e-01, 2.96398892e-01, 2.96398892e-01,\n",
       "        2.96398892e-01, 2.96398892e-01, 2.96398892e-01, 2.96398892e-01,\n",
       "        2.96398892e-01, 2.96398892e-01, 2.96398892e-01, 2.96398892e-01,\n",
       "        2.96398892e-01, 2.96398892e-01, 2.96398892e-01, 2.96398892e-01,\n",
       "        2.96398892e-01, 2.96398892e-01, 2.96398892e-01, 2.96398892e-01,\n",
       "        2.96398892e-01, 2.96398892e-01, 2.96398892e-01, 2.96398892e-01,\n",
       "        2.96398892e-01, 2.96398892e-01, 2.96398892e-01, 2.96398892e-01,\n",
       "        2.96398892e-01, 2.96398892e-01, 2.96398892e-01, 2.96398892e-01,\n",
       "        2.96398892e-01, 2.96398892e-01, 2.96398892e-01, 2.96398892e-01,\n",
       "        2.96398892e-01, 2.96398892e-01, 2.96398892e-01, 2.96398892e-01,\n",
       "        2.96398892e-01, 2.96398892e-01, 2.96398892e-01, 2.96398892e-01],\n",
       "       [5.63020214e-01, 1.11022302e-16, 1.11022302e-16, 1.11022302e-16,\n",
       "        1.11022302e-16, 1.11022302e-16, 1.11022302e-16, 1.11022302e-16,\n",
       "        1.11022302e-16, 1.11022302e-16, 1.11022302e-16, 1.11022302e-16,\n",
       "        1.11022302e-16, 1.11022302e-16, 1.11022302e-16, 1.11022302e-16,\n",
       "        1.11022302e-16, 1.11022302e-16, 1.11022302e-16, 1.11022302e-16,\n",
       "        1.11022302e-16, 1.11022302e-16, 1.11022302e-16, 1.11022302e-16,\n",
       "        1.11022302e-16, 1.11022302e-16, 1.11022302e-16, 1.11022302e-16,\n",
       "        1.11022302e-16, 1.11022302e-16, 1.11022302e-16, 1.11022302e-16,\n",
       "        1.11022302e-16, 1.11022302e-16, 1.11022302e-16, 1.11022302e-16,\n",
       "        1.11022302e-16, 1.11022302e-16, 1.11022302e-16, 1.11022302e-16,\n",
       "        1.11022302e-16, 1.11022302e-16, 1.11022302e-16, 1.11022302e-16,\n",
       "        1.11022302e-16, 1.11022302e-16, 1.11022302e-16, 1.11022302e-16,\n",
       "        1.11022302e-16, 1.11022302e-16, 1.11022302e-16, 1.11022302e-16,\n",
       "        1.11022302e-16, 1.11022302e-16, 1.11022302e-16, 1.11022302e-16,\n",
       "        1.11022302e-16, 1.11022302e-16, 1.11022302e-16, 1.11022302e-16,\n",
       "        1.11022302e-16, 1.11022302e-16, 1.11022302e-16, 1.11022302e-16,\n",
       "        1.11022302e-16, 1.11022302e-16, 1.11022302e-16, 1.11022302e-16,\n",
       "        1.11022302e-16, 1.11022302e-16, 1.11022302e-16, 1.11022302e-16,\n",
       "        1.11022302e-16, 1.11022302e-16, 1.11022302e-16, 1.11022302e-16,\n",
       "        1.11022302e-16, 1.11022302e-16, 1.11022302e-16, 1.11022302e-16,\n",
       "        1.11022302e-16, 1.11022302e-16, 1.11022302e-16, 1.11022302e-16,\n",
       "        1.11022302e-16, 1.11022302e-16, 1.11022302e-16, 1.11022302e-16,\n",
       "        1.11022302e-16, 1.11022302e-16, 1.11022302e-16, 1.11022302e-16,\n",
       "        1.11022302e-16, 1.11022302e-16, 1.11022302e-16, 1.11022302e-16,\n",
       "        1.11022302e-16, 1.11022302e-16, 1.11022302e-16, 1.11022302e-16],\n",
       "       [6.84089415e-01, 6.84089415e-01, 6.84089415e-01, 6.84089415e-01,\n",
       "        6.84089415e-01, 6.84089415e-01, 6.84089415e-01, 6.84089415e-01,\n",
       "        6.84089415e-01, 6.84089415e-01, 6.84089415e-01, 6.84089415e-01,\n",
       "        6.84089415e-01, 6.84089415e-01, 6.84089415e-01, 6.84089415e-01,\n",
       "        6.84089415e-01, 6.84089415e-01, 6.84089415e-01, 6.84089415e-01,\n",
       "        6.84089415e-01, 6.84089415e-01, 6.84089415e-01, 6.84089415e-01,\n",
       "        6.84089415e-01, 6.84089415e-01, 6.84089415e-01, 6.84089415e-01,\n",
       "        6.84089415e-01, 6.84089415e-01, 6.84089415e-01, 6.84089415e-01,\n",
       "        6.84089415e-01, 6.84089415e-01, 6.84089415e-01, 6.84089415e-01,\n",
       "        6.84089415e-01, 6.84089415e-01, 6.84089415e-01, 6.84089415e-01,\n",
       "        6.84089415e-01, 6.84089415e-01, 6.84089415e-01, 6.84089415e-01,\n",
       "        6.84089415e-01, 6.84089415e-01, 6.84089415e-01, 6.84089415e-01,\n",
       "        6.84089415e-01, 6.84089415e-01, 6.84089415e-01, 6.84089415e-01,\n",
       "        6.84089415e-01, 6.84089415e-01, 6.84089415e-01, 6.84089415e-01,\n",
       "        6.84089415e-01, 6.84089415e-01, 6.84089415e-01, 6.84089415e-01,\n",
       "        6.84089415e-01, 6.84089415e-01, 6.84089415e-01, 6.84089415e-01,\n",
       "        6.84089415e-01, 6.84089415e-01, 6.84089415e-01, 6.84089415e-01,\n",
       "        6.84089415e-01, 6.84089415e-01, 6.84089415e-01, 6.84089415e-01,\n",
       "        6.84089415e-01, 6.84089415e-01, 6.84089415e-01, 6.84089415e-01,\n",
       "        6.84089415e-01, 6.84089415e-01, 6.84089415e-01, 6.84089415e-01,\n",
       "        6.84089415e-01, 6.84089415e-01, 6.84089415e-01, 6.84089415e-01,\n",
       "        6.84089415e-01, 6.84089415e-01, 6.84089415e-01, 6.84089415e-01,\n",
       "        6.84089415e-01, 6.84089415e-01, 6.84089415e-01, 6.84089415e-01,\n",
       "        6.84089415e-01, 6.84089415e-01, 6.84089415e-01, 6.84089415e-01,\n",
       "        6.84089415e-01, 6.84089415e-01, 6.84089415e-01, 6.84089415e-01],\n",
       "       [6.79925031e-01, 0.00000000e+00, 0.00000000e+00, 0.00000000e+00,\n",
       "        0.00000000e+00, 0.00000000e+00, 0.00000000e+00, 0.00000000e+00,\n",
       "        0.00000000e+00, 0.00000000e+00, 0.00000000e+00, 0.00000000e+00,\n",
       "        0.00000000e+00, 0.00000000e+00, 0.00000000e+00, 0.00000000e+00,\n",
       "        0.00000000e+00, 0.00000000e+00, 0.00000000e+00, 0.00000000e+00,\n",
       "        0.00000000e+00, 0.00000000e+00, 0.00000000e+00, 0.00000000e+00,\n",
       "        0.00000000e+00, 0.00000000e+00, 0.00000000e+00, 0.00000000e+00,\n",
       "        0.00000000e+00, 0.00000000e+00, 0.00000000e+00, 0.00000000e+00,\n",
       "        0.00000000e+00, 0.00000000e+00, 0.00000000e+00, 0.00000000e+00,\n",
       "        0.00000000e+00, 0.00000000e+00, 0.00000000e+00, 0.00000000e+00,\n",
       "        0.00000000e+00, 0.00000000e+00, 0.00000000e+00, 0.00000000e+00,\n",
       "        0.00000000e+00, 0.00000000e+00, 0.00000000e+00, 0.00000000e+00,\n",
       "        0.00000000e+00, 0.00000000e+00, 0.00000000e+00, 0.00000000e+00,\n",
       "        0.00000000e+00, 0.00000000e+00, 0.00000000e+00, 0.00000000e+00,\n",
       "        0.00000000e+00, 0.00000000e+00, 0.00000000e+00, 0.00000000e+00,\n",
       "        0.00000000e+00, 0.00000000e+00, 0.00000000e+00, 0.00000000e+00,\n",
       "        0.00000000e+00, 0.00000000e+00, 0.00000000e+00, 0.00000000e+00,\n",
       "        0.00000000e+00, 0.00000000e+00, 0.00000000e+00, 0.00000000e+00,\n",
       "        0.00000000e+00, 0.00000000e+00, 0.00000000e+00, 0.00000000e+00,\n",
       "        0.00000000e+00, 0.00000000e+00, 0.00000000e+00, 0.00000000e+00,\n",
       "        0.00000000e+00, 0.00000000e+00, 0.00000000e+00, 0.00000000e+00,\n",
       "        0.00000000e+00, 0.00000000e+00, 0.00000000e+00, 0.00000000e+00,\n",
       "        0.00000000e+00, 0.00000000e+00, 0.00000000e+00, 0.00000000e+00,\n",
       "        0.00000000e+00, 0.00000000e+00, 0.00000000e+00, 0.00000000e+00,\n",
       "        0.00000000e+00, 0.00000000e+00, 0.00000000e+00, 0.00000000e+00],\n",
       "       [7.30680839e-01, 0.00000000e+00, 0.00000000e+00, 0.00000000e+00,\n",
       "        0.00000000e+00, 0.00000000e+00, 0.00000000e+00, 0.00000000e+00,\n",
       "        0.00000000e+00, 0.00000000e+00, 0.00000000e+00, 0.00000000e+00,\n",
       "        0.00000000e+00, 0.00000000e+00, 0.00000000e+00, 0.00000000e+00,\n",
       "        0.00000000e+00, 0.00000000e+00, 0.00000000e+00, 0.00000000e+00,\n",
       "        0.00000000e+00, 0.00000000e+00, 0.00000000e+00, 0.00000000e+00,\n",
       "        0.00000000e+00, 0.00000000e+00, 0.00000000e+00, 0.00000000e+00,\n",
       "        0.00000000e+00, 0.00000000e+00, 0.00000000e+00, 0.00000000e+00,\n",
       "        0.00000000e+00, 0.00000000e+00, 0.00000000e+00, 0.00000000e+00,\n",
       "        0.00000000e+00, 0.00000000e+00, 0.00000000e+00, 0.00000000e+00,\n",
       "        0.00000000e+00, 0.00000000e+00, 0.00000000e+00, 0.00000000e+00,\n",
       "        0.00000000e+00, 0.00000000e+00, 0.00000000e+00, 0.00000000e+00,\n",
       "        0.00000000e+00, 0.00000000e+00, 0.00000000e+00, 0.00000000e+00,\n",
       "        0.00000000e+00, 0.00000000e+00, 0.00000000e+00, 0.00000000e+00,\n",
       "        0.00000000e+00, 0.00000000e+00, 0.00000000e+00, 0.00000000e+00,\n",
       "        0.00000000e+00, 0.00000000e+00, 0.00000000e+00, 0.00000000e+00,\n",
       "        0.00000000e+00, 0.00000000e+00, 0.00000000e+00, 0.00000000e+00,\n",
       "        0.00000000e+00, 0.00000000e+00, 0.00000000e+00, 0.00000000e+00,\n",
       "        0.00000000e+00, 0.00000000e+00, 0.00000000e+00, 0.00000000e+00,\n",
       "        0.00000000e+00, 0.00000000e+00, 0.00000000e+00, 0.00000000e+00,\n",
       "        0.00000000e+00, 0.00000000e+00, 0.00000000e+00, 0.00000000e+00,\n",
       "        0.00000000e+00, 0.00000000e+00, 0.00000000e+00, 0.00000000e+00,\n",
       "        0.00000000e+00, 0.00000000e+00, 0.00000000e+00, 0.00000000e+00,\n",
       "        0.00000000e+00, 0.00000000e+00, 0.00000000e+00, 0.00000000e+00,\n",
       "        0.00000000e+00, 0.00000000e+00, 0.00000000e+00, 0.00000000e+00],\n",
       "       [7.54253308e-01, 1.11022302e-16, 1.11022302e-16, 1.11022302e-16,\n",
       "        1.11022302e-16, 1.11022302e-16, 1.11022302e-16, 1.11022302e-16,\n",
       "        1.11022302e-16, 1.11022302e-16, 1.11022302e-16, 1.11022302e-16,\n",
       "        1.11022302e-16, 1.11022302e-16, 1.11022302e-16, 1.11022302e-16,\n",
       "        1.11022302e-16, 1.11022302e-16, 1.11022302e-16, 1.11022302e-16,\n",
       "        1.11022302e-16, 1.11022302e-16, 1.11022302e-16, 1.11022302e-16,\n",
       "        1.11022302e-16, 1.11022302e-16, 1.11022302e-16, 1.11022302e-16,\n",
       "        1.11022302e-16, 1.11022302e-16, 1.11022302e-16, 1.11022302e-16,\n",
       "        1.11022302e-16, 1.11022302e-16, 1.11022302e-16, 1.11022302e-16,\n",
       "        1.11022302e-16, 1.11022302e-16, 1.11022302e-16, 1.11022302e-16,\n",
       "        1.11022302e-16, 1.11022302e-16, 1.11022302e-16, 1.11022302e-16,\n",
       "        1.11022302e-16, 1.11022302e-16, 1.11022302e-16, 1.11022302e-16,\n",
       "        1.11022302e-16, 1.11022302e-16, 1.11022302e-16, 1.11022302e-16,\n",
       "        1.11022302e-16, 1.11022302e-16, 1.11022302e-16, 1.11022302e-16,\n",
       "        1.11022302e-16, 1.11022302e-16, 1.11022302e-16, 1.11022302e-16,\n",
       "        1.11022302e-16, 1.11022302e-16, 1.11022302e-16, 1.11022302e-16,\n",
       "        1.11022302e-16, 1.11022302e-16, 1.11022302e-16, 1.11022302e-16,\n",
       "        1.11022302e-16, 1.11022302e-16, 1.11022302e-16, 1.11022302e-16,\n",
       "        1.11022302e-16, 1.11022302e-16, 1.11022302e-16, 1.11022302e-16,\n",
       "        1.11022302e-16, 1.11022302e-16, 1.11022302e-16, 1.11022302e-16,\n",
       "        1.11022302e-16, 1.11022302e-16, 1.11022302e-16, 1.11022302e-16,\n",
       "        1.11022302e-16, 1.11022302e-16, 1.11022302e-16, 1.11022302e-16,\n",
       "        1.11022302e-16, 1.11022302e-16, 1.11022302e-16, 1.11022302e-16,\n",
       "        1.11022302e-16, 1.11022302e-16, 1.11022302e-16, 1.11022302e-16,\n",
       "        1.11022302e-16, 1.11022302e-16, 1.11022302e-16, 1.11022302e-16],\n",
       "       [7.28969716e-01, 7.32815254e-01, 0.00000000e+00, 0.00000000e+00,\n",
       "        0.00000000e+00, 0.00000000e+00, 0.00000000e+00, 0.00000000e+00,\n",
       "        0.00000000e+00, 0.00000000e+00, 0.00000000e+00, 0.00000000e+00,\n",
       "        0.00000000e+00, 0.00000000e+00, 0.00000000e+00, 0.00000000e+00,\n",
       "        0.00000000e+00, 0.00000000e+00, 0.00000000e+00, 0.00000000e+00,\n",
       "        0.00000000e+00, 0.00000000e+00, 0.00000000e+00, 0.00000000e+00,\n",
       "        0.00000000e+00, 0.00000000e+00, 0.00000000e+00, 0.00000000e+00,\n",
       "        0.00000000e+00, 0.00000000e+00, 0.00000000e+00, 0.00000000e+00,\n",
       "        0.00000000e+00, 0.00000000e+00, 0.00000000e+00, 0.00000000e+00,\n",
       "        0.00000000e+00, 0.00000000e+00, 0.00000000e+00, 0.00000000e+00,\n",
       "        0.00000000e+00, 0.00000000e+00, 0.00000000e+00, 0.00000000e+00,\n",
       "        0.00000000e+00, 0.00000000e+00, 0.00000000e+00, 0.00000000e+00,\n",
       "        0.00000000e+00, 0.00000000e+00, 0.00000000e+00, 0.00000000e+00,\n",
       "        0.00000000e+00, 0.00000000e+00, 0.00000000e+00, 0.00000000e+00,\n",
       "        0.00000000e+00, 0.00000000e+00, 0.00000000e+00, 0.00000000e+00,\n",
       "        0.00000000e+00, 0.00000000e+00, 0.00000000e+00, 0.00000000e+00,\n",
       "        0.00000000e+00, 0.00000000e+00, 0.00000000e+00, 0.00000000e+00,\n",
       "        0.00000000e+00, 0.00000000e+00, 0.00000000e+00, 0.00000000e+00,\n",
       "        0.00000000e+00, 0.00000000e+00, 0.00000000e+00, 0.00000000e+00,\n",
       "        0.00000000e+00, 0.00000000e+00, 0.00000000e+00, 0.00000000e+00,\n",
       "        0.00000000e+00, 0.00000000e+00, 0.00000000e+00, 0.00000000e+00,\n",
       "        0.00000000e+00, 0.00000000e+00, 0.00000000e+00, 0.00000000e+00,\n",
       "        0.00000000e+00, 0.00000000e+00, 0.00000000e+00, 0.00000000e+00,\n",
       "        0.00000000e+00, 0.00000000e+00, 0.00000000e+00, 0.00000000e+00,\n",
       "        0.00000000e+00, 0.00000000e+00, 0.00000000e+00, 0.00000000e+00],\n",
       "       [7.84118167e-01, 1.11022302e-16, 1.11022302e-16, 1.11022302e-16,\n",
       "        1.11022302e-16, 1.11022302e-16, 1.11022302e-16, 1.11022302e-16,\n",
       "        1.11022302e-16, 1.11022302e-16, 1.11022302e-16, 1.11022302e-16,\n",
       "        1.11022302e-16, 1.11022302e-16, 1.11022302e-16, 1.11022302e-16,\n",
       "        1.11022302e-16, 1.11022302e-16, 1.11022302e-16, 1.11022302e-16,\n",
       "        1.11022302e-16, 1.11022302e-16, 1.11022302e-16, 1.11022302e-16,\n",
       "        1.11022302e-16, 1.11022302e-16, 1.11022302e-16, 1.11022302e-16,\n",
       "        1.11022302e-16, 1.11022302e-16, 1.11022302e-16, 1.11022302e-16,\n",
       "        1.11022302e-16, 1.11022302e-16, 1.11022302e-16, 1.11022302e-16,\n",
       "        1.11022302e-16, 1.11022302e-16, 1.11022302e-16, 1.11022302e-16,\n",
       "        1.11022302e-16, 1.11022302e-16, 1.11022302e-16, 1.11022302e-16,\n",
       "        1.11022302e-16, 1.11022302e-16, 1.11022302e-16, 1.11022302e-16,\n",
       "        1.11022302e-16, 1.11022302e-16, 1.11022302e-16, 1.11022302e-16,\n",
       "        1.11022302e-16, 1.11022302e-16, 1.11022302e-16, 1.11022302e-16,\n",
       "        1.11022302e-16, 1.11022302e-16, 1.11022302e-16, 1.11022302e-16,\n",
       "        1.11022302e-16, 1.11022302e-16, 1.11022302e-16, 1.11022302e-16,\n",
       "        1.11022302e-16, 1.11022302e-16, 1.11022302e-16, 1.11022302e-16,\n",
       "        1.11022302e-16, 1.11022302e-16, 1.11022302e-16, 1.11022302e-16,\n",
       "        1.11022302e-16, 1.11022302e-16, 1.11022302e-16, 1.11022302e-16,\n",
       "        1.11022302e-16, 1.11022302e-16, 1.11022302e-16, 1.11022302e-16,\n",
       "        1.11022302e-16, 1.11022302e-16, 1.11022302e-16, 1.11022302e-16,\n",
       "        1.11022302e-16, 1.11022302e-16, 1.11022302e-16, 1.11022302e-16,\n",
       "        1.11022302e-16, 1.11022302e-16, 1.11022302e-16, 1.11022302e-16,\n",
       "        1.11022302e-16, 1.11022302e-16, 1.11022302e-16, 1.11022302e-16,\n",
       "        1.11022302e-16, 1.11022302e-16, 1.11022302e-16, 1.11022302e-16],\n",
       "       [7.76145291e-01, 0.00000000e+00, 0.00000000e+00, 0.00000000e+00,\n",
       "        0.00000000e+00, 0.00000000e+00, 0.00000000e+00, 0.00000000e+00,\n",
       "        0.00000000e+00, 0.00000000e+00, 0.00000000e+00, 0.00000000e+00,\n",
       "        0.00000000e+00, 0.00000000e+00, 0.00000000e+00, 0.00000000e+00,\n",
       "        0.00000000e+00, 0.00000000e+00, 0.00000000e+00, 0.00000000e+00,\n",
       "        0.00000000e+00, 0.00000000e+00, 0.00000000e+00, 0.00000000e+00,\n",
       "        0.00000000e+00, 0.00000000e+00, 0.00000000e+00, 0.00000000e+00,\n",
       "        0.00000000e+00, 0.00000000e+00, 0.00000000e+00, 0.00000000e+00,\n",
       "        0.00000000e+00, 0.00000000e+00, 0.00000000e+00, 0.00000000e+00,\n",
       "        0.00000000e+00, 0.00000000e+00, 0.00000000e+00, 0.00000000e+00,\n",
       "        0.00000000e+00, 0.00000000e+00, 0.00000000e+00, 0.00000000e+00,\n",
       "        0.00000000e+00, 0.00000000e+00, 0.00000000e+00, 0.00000000e+00,\n",
       "        0.00000000e+00, 0.00000000e+00, 0.00000000e+00, 0.00000000e+00,\n",
       "        0.00000000e+00, 0.00000000e+00, 0.00000000e+00, 0.00000000e+00,\n",
       "        0.00000000e+00, 0.00000000e+00, 0.00000000e+00, 0.00000000e+00,\n",
       "        0.00000000e+00, 0.00000000e+00, 0.00000000e+00, 0.00000000e+00,\n",
       "        0.00000000e+00, 0.00000000e+00, 0.00000000e+00, 0.00000000e+00,\n",
       "        0.00000000e+00, 0.00000000e+00, 0.00000000e+00, 0.00000000e+00,\n",
       "        0.00000000e+00, 0.00000000e+00, 0.00000000e+00, 0.00000000e+00,\n",
       "        0.00000000e+00, 0.00000000e+00, 0.00000000e+00, 0.00000000e+00,\n",
       "        0.00000000e+00, 0.00000000e+00, 0.00000000e+00, 0.00000000e+00,\n",
       "        0.00000000e+00, 0.00000000e+00, 0.00000000e+00, 0.00000000e+00,\n",
       "        0.00000000e+00, 0.00000000e+00, 0.00000000e+00, 0.00000000e+00,\n",
       "        0.00000000e+00, 0.00000000e+00, 0.00000000e+00, 0.00000000e+00,\n",
       "        0.00000000e+00, 0.00000000e+00, 0.00000000e+00, 0.00000000e+00]])"
      ]
     },
     "execution_count": 34,
     "metadata": {},
     "output_type": "execute_result"
    }
   ],
   "source": [
    "mods_gurobi"
   ]
  },
  {
   "cell_type": "markdown",
   "metadata": {},
   "source": [
    "## As can be seen, an issue has been discovered - our hierarchical method produces a lot of zeros - when run with the same instances of HierarchicalSamplers on the same instances of HierarchicalSearcher multiple times (multiple runs).\n",
    "Why is that? Reason -> \n",
    "https://github.com/kacper3615/Qommunity/blob/204014ae872e33e29bd60fc441664acf36d98792/Qommunity/searchers/hierarchical_community_searcher/hierarchical_community_searcher.py#L153\n",
    "and \n",
    "https://github.com/kacper3615/Qommunity/blob/204014ae872e33e29bd60fc441664acf36d98792/Qommunity/searchers/hierarchical_community_searcher/hierarchical_community_searcher.py#L134\n",
    "Reiniting the sampler when level is not 1 -> every new .hierarchical_search() method call makes sure level is 1 and \"community\" is None, so the new community value is produced, but it is not used (sampler with that community is not reinited), so the new run of our hierarchical recursion method is run with previous community value remembered inside the sampler (community is used inside sampler, when creating the Network class passed later to CommunitDetectionProblem class passed later to QHyper.Advantage or QHyper.Gurobi).\n",
    "\n",
    "To see that's the case let's run with new instance of hierarchical sampler and hierarchical searcher each time:"
   ]
  },
  {
   "cell_type": "markdown",
   "metadata": {},
   "source": [
    "### 3. Run N times - with new instance of hierarchical searcher each time"
   ]
  },
  {
   "cell_type": "code",
   "execution_count": 20,
   "metadata": {},
   "outputs": [],
   "source": [
    "import os\n",
    "\n",
    "\n",
    "dir = \"gurobi_test_results/multiple_instances\"\n",
    "os.makedirs(os.path.dirname(dir+\"/\"), exist_ok=True)\n",
    "\n",
    "\n",
    "def make_dir(dir):\n",
    "    if not os.path.exists(dir):\n",
    "        os.mkdir(dir)"
   ]
  },
  {
   "cell_type": "markdown",
   "metadata": {},
   "source": [
    "#### Gurobi"
   ]
  },
  {
   "cell_type": "code",
   "execution_count": 21,
   "metadata": {},
   "outputs": [],
   "source": [
    "solver = \"gurobi\"\n",
    "make_dir(f\"{dir}/{solver}\")"
   ]
  },
  {
   "cell_type": "code",
   "execution_count": 22,
   "metadata": {},
   "outputs": [
    {
     "name": "stderr",
     "output_type": "stream",
     "text": [
      "10it [07:48, 46.81s/it]\n"
     ]
    }
   ],
   "source": [
    "from tqdm import tqdm\n",
    "\n",
    "\n",
    "N_RUNS = 100\n",
    "\n",
    "\n",
    "mods = np.zeros((num_nodes.shape[0], N_RUNS))\n",
    "comms = np.empty((num_nodes.shape[0], N_RUNS), dtype=object)\n",
    "\n",
    "mods_graph_N = np.zeros((N_RUNS))\n",
    "comms_graph_N = np.empty((N_RUNS), dtype=object)\n",
    "for i, G in tqdm(enumerate(Graphs)):    \n",
    "    for r in range(N_RUNS):\n",
    "        # this time, new instance each time\n",
    "        gurobi = GurobiSampler(G, supress_output=True)\n",
    "        hierch_searcher = HierarchicalCommunitySearcher(gurobi)\n",
    "        comms_res = hierch_searcher.hierarchical_community_search()\n",
    "        \n",
    "        mod_score = nx.community.modularity(G, comms_res)\n",
    "        mods_graph_N[r] = mod_score\n",
    "        comms_graph_N[r] = comms_res\n",
    "\n",
    "    current_net_size = int(num_nodes[i])\n",
    "    mods[i] = mods_graph_N\n",
    "    comms[i] = comms_graph_N\n",
    "    np.save(f\"{dir}/{solver}/network_size_{current_net_size}\", mods_graph_N)\n",
    "    np.save(f\"{dir}/{solver}/network_size_{current_net_size}_comms\", comms_graph_N)\n",
    "\n",
    "np.save(f\"{dir}/{solver}/mods_final\", mods)\n",
    "np.save(f\"{dir}/{solver}/comms_final\", comms)"
   ]
  },
  {
   "cell_type": "markdown",
   "metadata": {},
   "source": [
    "#### Took more time, because now the partitionings have been calculated properly"
   ]
  },
  {
   "cell_type": "markdown",
   "metadata": {},
   "source": [
    "#### Re-run for leiden - but that won't make any difference, there is no such issue in the RegularSearcher.community_search() method"
   ]
  },
  {
   "cell_type": "code",
   "execution_count": 23,
   "metadata": {},
   "outputs": [],
   "source": [
    "solver = \"leiden\"\n",
    "make_dir(f\"{dir}/{solver}\")"
   ]
  },
  {
   "cell_type": "code",
   "execution_count": 24,
   "metadata": {},
   "outputs": [
    {
     "name": "stderr",
     "output_type": "stream",
     "text": [
      "10it [00:00, 17.63it/s]\n"
     ]
    }
   ],
   "source": [
    "from tqdm import tqdm\n",
    "\n",
    "\n",
    "N_RUNS = 100\n",
    "\n",
    "\n",
    "mods = np.zeros((num_nodes.shape[0], N_RUNS))\n",
    "comms = np.empty((num_nodes.shape[0], N_RUNS), dtype=object)\n",
    "\n",
    "mods_graph_N = np.zeros((N_RUNS))\n",
    "comms_graph_N = np.empty((N_RUNS), dtype=object)\n",
    "for i, G in tqdm(enumerate(Graphs)):\n",
    "    leiden = LeidenSampler(G)\n",
    "    searcher = CommunitySearcher(leiden)\n",
    "    \n",
    "    for r in range(N_RUNS):\n",
    "        comms_res = searcher.community_search()\n",
    "        mod_score = nx.community.modularity(G, comms_res)\n",
    "        mods_graph_N[r] = mod_score\n",
    "        comms_graph_N[r] = comms_res\n",
    "\n",
    "    current_net_size = int(num_nodes[i])\n",
    "    mods[i] = mods_graph_N\n",
    "    comms[i] = comms_graph_N\n",
    "    np.save(f\"{dir}/{solver}/network_size_{current_net_size}\", mods_graph_N)\n",
    "    np.save(f\"{dir}/{solver}/network_size_{current_net_size}_comms\", comms_graph_N)\n",
    "\n",
    "np.save(f\"{dir}/{solver}/mods_final\", mods)\n",
    "np.save(f\"{dir}/{solver}/comms_final\", comms)"
   ]
  },
  {
   "cell_type": "markdown",
   "metadata": {},
   "source": [
    "### The results again"
   ]
  },
  {
   "cell_type": "code",
   "execution_count": 25,
   "metadata": {},
   "outputs": [],
   "source": [
    "mods_gurobi_2 = np.load(f\"{dir}/gurobi/mods_final.npy\")\n",
    "mods_leiden_2 = np.load(f\"{dir}/leiden/mods_final.npy\")"
   ]
  },
  {
   "cell_type": "code",
   "execution_count": 26,
   "metadata": {},
   "outputs": [
    {
     "data": {
      "image/png": "[encoded data removed]",
      "text/plain": [
       "<Figure size 640x480 with 1 Axes>"
      ]
     },
     "metadata": {},
     "output_type": "display_data"
    }
   ],
   "source": [
    "from matplotlib import pyplot as plt\n",
    "\n",
    "\n",
    "fig, ax = plt.subplots(1)\n",
    "plt.plot(num_nodes, mods_gurobi_2.max(axis=-1), '-o', label=\"Gurobi Hierarchical - max\")\n",
    "plt.plot(num_nodes, mods_leiden_2.max(axis=-1), '-o', label=\"Leiden - max\")\n",
    "plt.plot(num_nodes, mods_gurobi_2.mean(axis=-1), '-o', label=\"Gurobi Hierarchical - mean\")\n",
    "plt.plot(num_nodes, mods_leiden_2.mean(axis=-1), '-o', label=\"Leiden - mean\")\n",
    "plt.legend()\n",
    "ax.set_title(\"Max. Q and mean Q after 100 runs - oops\");\n",
    "ax.set_xlabel(\"N - number of graph nodes\");\n",
    "ax.set_ylabel(\"Q values\");"
   ]
  },
  {
   "cell_type": "code",
   "execution_count": 27,
   "metadata": {},
   "outputs": [
    {
     "data": {
      "text/plain": [
       "False"
      ]
     },
     "execution_count": 27,
     "metadata": {},
     "output_type": "execute_result"
    }
   ],
   "source": [
    "np.isclose(mods_gurobi_2, np.zeros(mods_gurobi_2.shape)).any()"
   ]
  },
  {
   "cell_type": "markdown",
   "metadata": {},
   "source": [
    "# Now everything looks as it's supposed to.\n",
    "Suggestion on how to fix or omit this issue:\n",
    "1. Fix - Update code\n",
    "https://github.com/kacper3615/Qommunity/blob/204014ae872e33e29bd60fc441664acf36d98792/Qommunity/searchers/hierarchical_community_searcher/hierarchical_community_searcher.py#L153\n",
    "so that the sampler is always reinited\n",
    "\n",
    "or\n",
    "\n",
    "2. Omit - make sure the user always uses a new instance of the hierarchical sampler and hierarchical searcher (ensure it some other way).\n",
    "\n",
    "(I am for option 1.)\n",
    "\n",
    "### Once having ensured that we are always having a reininted sampler and setting the proper num_reads parameter to Advantage, we'll be able to answer the question what is responsible for our modularity zeros (by comparing hierarchical Advantage with hierarchical Gurobi).\n",
    "\n",
    "Conclusions:\n",
    "- as a part-time solution make sure to always! create a new instance of the hierarchical sampler and the hierarchical searcher for the hierarchical method!\n",
    "- make sure to set proper value of num_reads."
   ]
  }
 ],
 "metadata": {
  "kernelspec": {
   "display_name": "Python 3",
   "language": "python",
   "name": "python3"
  },
  "language_info": {
   "codemirror_mode": {
    "name": "ipython",
    "version": 3
   },
   "file_extension": ".py",
   "mimetype": "text/x-python",
   "name": "python",
   "nbconvert_exporter": "python",
   "pygments_lexer": "ipython3",
   "version": "3.10.11"
  }
 },
 "nbformat": 4,
 "nbformat_minor": 2
}
