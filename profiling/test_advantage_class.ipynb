{
 "cells": [
  {
   "cell_type": "markdown",
   "metadata": {},
   "source": [
    "#### Load/generate the graphs first"
   ]
  },
  {
   "cell_type": "code",
   "execution_count": 1,
   "metadata": {},
   "outputs": [],
   "source": [
    "import numpy as np\n",
    "import networkx as nx\n",
    "import os\n",
    "\n",
    "\n",
    "def make_dir(dir):\n",
    "    if not os.path.exists(dir):\n",
    "        os.mkdir(dir)\n",
    "\n",
    "\n",
    "\n",
    "MIN_NODES = 10\n",
    "MAX_NODES = 100\n",
    "\n",
    "num_nodes = np.linspace(MIN_NODES, MAX_NODES, MAX_NODES//MIN_NODES)\n",
    "\n",
    "\n",
    "dir = \"networks/powerlaw_m=1_p=0.2\"\n",
    "os.makedirs(os.path.dirname(dir+\"/\"), exist_ok=True)\n",
    "\n",
    "solver = \"advantage\"\n",
    "\n",
    "\n",
    "try:\n",
    "    Graphs = np.load(f\"{dir}/graphs.npy\", allow_pickle=True)\n",
    "except:\n",
    "    Graphs = np.empty(shape=(len(num_nodes),), dtype=object)\n",
    "    for i, n in enumerate(num_nodes):\n",
    "        Graphs[i] = nx.powerlaw_cluster_graph(n=n, m=1, p=0.2)\n",
    "    np.save(f\"{dir}/graphs.npy\", Graphs)\n",
    "\n",
    "\n",
    "\n",
    "\n",
    "dir = \"output\"\n",
    "os.makedirs(os.path.dirname(dir+\"/\"), exist_ok=True)\n",
    "make_dir(f\"{dir}/{solver}\")"
   ]
  },
  {
   "cell_type": "markdown",
   "metadata": {},
   "source": [
    "#### Our standard \"for loop\""
   ]
  },
  {
   "cell_type": "code",
   "execution_count": 5,
   "metadata": {},
   "outputs": [],
   "source": [
    "from Qommunity.samplers.hierarchical.advantage_sampler import AdvantageSampler\n",
    "from Qommunity.searchers.hierarchical_community_searcher import HierarchicalCommunitySearcher\n",
    "from tqdm import tqdm\n",
    "\n",
    "\n",
    "N_RUNS = 1\n",
    "\n",
    "# Let's only check the graph of 100 nodes (embedding will take more time)\n",
    "# as we remember the bigger the true problems were for graphs of 70+ nodes\n",
    "big_graph_idx = 9\n",
    "\n",
    "\n",
    "def run():\n",
    "    mods = np.zeros((num_nodes[big_graph_idx:].shape[0], N_RUNS))\n",
    "    comms = np.empty((num_nodes[big_graph_idx:].shape[0], N_RUNS), dtype=object)\n",
    "\n",
    "    mods_graph_N = np.zeros((N_RUNS))\n",
    "    comms_graph_N = np.empty((N_RUNS), dtype=object)\n",
    "    for i, G in tqdm(enumerate(Graphs[big_graph_idx:])):\n",
    "        advantage = AdvantageSampler(G, num_reads=100)\n",
    "        hierch_searcher = HierarchicalCommunitySearcher(advantage)\n",
    "        \n",
    "        current_net_size = int(G.number_of_nodes())\n",
    "        for r in range(N_RUNS):\n",
    "            comms_res = hierch_searcher.hierarchical_community_search()\n",
    "            mod_score = nx.community.modularity(G, comms_res)\n",
    "            mods_graph_N[r] = mod_score\n",
    "            comms_graph_N[r] = comms_res\n",
    "\n",
    "            try:\n",
    "                np.save(f\"{dir}/{solver}/{solver}-network_size_{current_net_size}\", mods_graph_N)\n",
    "                np.save(f\"{dir}/{solver}/{solver}-network_size_{current_net_size}_comms\", comms_graph_N)\n",
    "            except Exception as e:\n",
    "                print(f\"iter {i} run {r} npy saving failed:\\n{e}\")\n",
    "\n",
    "        mods[i] = mods_graph_N\n",
    "        comms[i] = comms_graph_N\n",
    "        np.save(f\"{dir}/{solver}/{solver}-network_size_{current_net_size}\", mods_graph_N)\n",
    "        np.save(f\"{dir}/{solver}/{solver}-network_size_{current_net_size}_comms\", comms_graph_N)\n",
    "\n",
    "    np.save(f\"{dir}/{solver}/{solver}-mods_final\", mods)\n",
    "    np.save(f\"{dir}/{solver}/{solver}-comms_final\", comms)"
   ]
  },
  {
   "cell_type": "code",
   "execution_count": 8,
   "metadata": {},
   "outputs": [
    {
     "name": "stdout",
     "output_type": "stream",
     "text": [
      "The line_profiler extension is already loaded. To reload it, use:\n",
      "  %reload_ext line_profiler\n"
     ]
    },
    {
     "name": "stderr",
     "output_type": "stream",
     "text": [
      "1it [02:10, 130.94s/it]\n"
     ]
    },
    {
     "name": "stdout",
     "output_type": "stream",
     "text": [
      "Timer unit: 1e-07 s\n",
      "\n",
      "Total time: 96.4437 s\n",
      "File: C:\\Users\\basia\\Desktop\\Praca_Inzynierska_2024\\QHyper\\QHyper\\solvers\\quantum_annealing\\advantage.py\n",
      "Function: run_advantage at line 51\n",
      "\n",
      "Line #      Hits         Time  Per Hit   % Time  Line Contents\n",
      "==============================================================\n",
      "    51                                               def run_advantage(self, args: npt.NDArray) -> SampleSet:\n",
      "    52        21     344659.0  16412.3      0.0          qubo = Converter.create_qubo(self.problem, args)\n",
      "    53        21     268365.0  12779.3      0.0          qubo_terms, offset = convert_qubo_keys(qubo)\n",
      "    54        21     572979.0  27284.7      0.1          bqm = BinaryQuadraticModel.from_qubo(qubo_terms, offset=offset)\n",
      "    55        42  963250652.0    2e+07     99.9          sampleset = self.embedding_compose.sample(\n",
      "    56        21        127.0      6.0      0.0              bqm, num_reads=self.num_reads, chain_strength=self.chain_strength\n",
      "    57                                                   )\n",
      "    58                                           \n",
      "    59        21         98.0      4.7      0.0          return sampleset"
     ]
    }
   ],
   "source": [
    "%load_ext line_profiler\n",
    "\n",
    "from QHyper.solvers.quantum_annealing.advantage import Advantage, OptimizerFunction\n",
    "\n",
    "%lprun -f OptimizerFunction.run_advantage run()"
   ]
  }
 ],
 "metadata": {
  "kernelspec": {
   "display_name": "Python 3",
   "language": "python",
   "name": "python3"
  },
  "language_info": {
   "codemirror_mode": {
    "name": "ipython",
    "version": 3
   },
   "file_extension": ".py",
   "mimetype": "text/x-python",
   "name": "python",
   "nbconvert_exporter": "python",
   "pygments_lexer": "ipython3",
   "version": "3.10.11"
  }
 },
 "nbformat": 4,
 "nbformat_minor": 2
}
