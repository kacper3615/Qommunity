{
 "cells": [
  {
   "cell_type": "markdown",
   "metadata": {},
   "source": [
    "## Experiments template for different types of networks, 1 sample from each type of network, multiple runs per sample"
   ]
  },
  {
   "cell_type": "code",
   "execution_count": 2,
   "metadata": {},
   "outputs": [],
   "source": [
    "import os\n",
    "\n",
    "\n",
    "dir = \"networks\"\n",
    "os.makedirs(os.path.dirname(dir+\"/\"), exist_ok=True)\n",
    "\n",
    "\n",
    "def make_dir(dir):\n",
    "    if not os.path.exists(dir):\n",
    "        os.mkdir(dir)"
   ]
  },
  {
   "cell_type": "markdown",
   "metadata": {},
   "source": [
    "### Generate networks"
   ]
  },
  {
   "cell_type": "markdown",
   "metadata": {},
   "source": [
    "First fixed Powerlaw networks with m = 1, and p = 0.1.\\\n",
    "Variable number of nodes."
   ]
  },
  {
   "cell_type": "code",
   "execution_count": 2,
   "metadata": {},
   "outputs": [],
   "source": [
    "dir = \"networks/powerlaw_m=1_p=0.1\"\n",
    "os.makedirs(os.path.dirname(dir+\"/\"), exist_ok=True)"
   ]
  },
  {
   "cell_type": "code",
   "execution_count": 3,
   "metadata": {},
   "outputs": [
    {
     "data": {
      "text/plain": [
       "array([ 10.,  20.,  30.,  40.,  50.,  60.,  70.,  80.,  90., 100.])"
      ]
     },
     "execution_count": 3,
     "metadata": {},
     "output_type": "execute_result"
    }
   ],
   "source": [
    "import numpy as np\n",
    "\n",
    "\n",
    "MIN_NODES = 10\n",
    "MAX_NODES = 100\n",
    "\n",
    "num_nodes = np.linspace(MIN_NODES, MAX_NODES, MAX_NODES//MIN_NODES)\n",
    "num_nodes"
   ]
  },
  {
   "cell_type": "code",
   "execution_count": 4,
   "metadata": {},
   "outputs": [],
   "source": [
    "import numpy as np\n",
    "import networkx as nx\n",
    "\n",
    "\n",
    "try:\n",
    "    Graphs = np.load(f\"{dir}/graphs.npy\", allow_pickle=True)\n",
    "except:\n",
    "    Graphs = np.empty(shape=(len(num_nodes),), dtype=object)\n",
    "    for i, n in enumerate(num_nodes):\n",
    "        Graphs[i] = nx.powerlaw_cluster_graph(n=n, m=1, p=0.1)\n",
    "    np.save(f\"{dir}/graphs.npy\", Graphs)"
   ]
  },
  {
   "cell_type": "markdown",
   "metadata": {},
   "source": [
    "#### Hierarchical approach with Gurobi first"
   ]
  },
  {
   "cell_type": "code",
   "execution_count": 5,
   "metadata": {},
   "outputs": [],
   "source": [
    "# output folder\n",
    "dir =dir+\"/output\"\n",
    "os.makedirs(os.path.dirname(dir+\"/\"), exist_ok=True)"
   ]
  },
  {
   "cell_type": "code",
   "execution_count": 6,
   "metadata": {},
   "outputs": [],
   "source": [
    "solver = \"gurobi\"\n",
    "make_dir(f\"{dir}/{solver}\")"
   ]
  },
  {
   "cell_type": "code",
   "execution_count": 7,
   "metadata": {},
   "outputs": [],
   "source": [
    "from Qommunity.samplers.hierarchical.gurobi_sampler import GurobiSampler\n",
    "from Qommunity.searchers.hierarchical_community_searcher.hierarchical_community_searcher import HierarchicalCommunitySearcher"
   ]
  },
  {
   "cell_type": "code",
   "execution_count": 8,
   "metadata": {},
   "outputs": [
    {
     "name": "stderr",
     "output_type": "stream",
     "text": [
      "0it [00:00, ?it/s]"
     ]
    },
    {
     "name": "stdout",
     "output_type": "stream",
     "text": [
      "Set parameter Username\n",
      "Academic license - for non-commercial use only - expires 2025-03-27\n"
     ]
    },
    {
     "name": "stderr",
     "output_type": "stream",
     "text": [
      "10it [06:53, 41.30s/it]\n"
     ]
    }
   ],
   "source": [
    "from tqdm import tqdm\n",
    "\n",
    "\n",
    "N_RUNS = 100\n",
    "\n",
    "\n",
    "mods = np.zeros((num_nodes.shape[0], N_RUNS))\n",
    "comms = np.empty((num_nodes.shape[0], N_RUNS), dtype=object)\n",
    "\n",
    "mods_graph_N = np.zeros((N_RUNS))\n",
    "comms_graph_N = np.empty((N_RUNS), dtype=object)\n",
    "for i, G in tqdm(enumerate(Graphs)):    \n",
    "    for r in range(N_RUNS):\n",
    "        # new instance of the sampler each time\n",
    "        gurobi = GurobiSampler(G, supress_output=True)\n",
    "        hierch_searcher = HierarchicalCommunitySearcher(gurobi)\n",
    "        comms_res = hierch_searcher.hierarchical_community_search()\n",
    "        \n",
    "        mod_score = nx.community.modularity(G, comms_res)\n",
    "        mods_graph_N[r] = mod_score\n",
    "        comms_graph_N[r] = comms_res\n",
    "\n",
    "    current_net_size = int(num_nodes[i])\n",
    "    mods[i] = mods_graph_N\n",
    "    comms[i] = comms_graph_N\n",
    "    np.save(f\"{dir}/{solver}/{solver}-network_size_{current_net_size}\", mods_graph_N)\n",
    "    np.save(f\"{dir}/{solver}/{solver}-network_size_{current_net_size}_comms\", comms_graph_N)\n",
    "\n",
    "np.save(f\"{dir}/{solver}/{solver}-mods_final\", mods)\n",
    "np.save(f\"{dir}/{solver}/{solver}-comms_final\", comms)"
   ]
  },
  {
   "cell_type": "markdown",
   "metadata": {},
   "source": [
    "### Now Leiden"
   ]
  },
  {
   "cell_type": "code",
   "execution_count": 11,
   "metadata": {},
   "outputs": [],
   "source": [
    "solver = \"leiden\"\n",
    "make_dir(f\"{dir}/{solver}\")"
   ]
  },
  {
   "cell_type": "code",
   "execution_count": 12,
   "metadata": {},
   "outputs": [],
   "source": [
    "from Qommunity.samplers.regular.leiden_sampler import LeidenSampler\n",
    "from Qommunity.searchers.community_searcher.community_searcher import CommunitySearcher"
   ]
  },
  {
   "cell_type": "code",
   "execution_count": 13,
   "metadata": {},
   "outputs": [
    {
     "name": "stderr",
     "output_type": "stream",
     "text": [
      "10it [00:00, 21.06it/s]\n"
     ]
    }
   ],
   "source": [
    "from tqdm import tqdm\n",
    "\n",
    "\n",
    "N_RUNS = 100\n",
    "\n",
    "\n",
    "mods = np.zeros((num_nodes.shape[0], N_RUNS))\n",
    "comms = np.empty((num_nodes.shape[0], N_RUNS), dtype=object)\n",
    "\n",
    "mods_graph_N = np.zeros((N_RUNS))\n",
    "comms_graph_N = np.empty((N_RUNS), dtype=object)\n",
    "for i, G in tqdm(enumerate(Graphs)):\n",
    "    leiden = LeidenSampler(G)\n",
    "    searcher = CommunitySearcher(leiden)\n",
    "    \n",
    "    for r in range(N_RUNS):\n",
    "        comms_res = searcher.community_search()\n",
    "        mod_score = nx.community.modularity(G, comms_res)\n",
    "        mods_graph_N[r] = mod_score\n",
    "        comms_graph_N[r] = comms_res\n",
    "\n",
    "    current_net_size = int(num_nodes[i])\n",
    "    mods[i] = mods_graph_N\n",
    "    comms[i] = comms_graph_N\n",
    "    np.save(f\"{dir}/{solver}/{solver}-network_size_{current_net_size}\", mods_graph_N)\n",
    "    np.save(f\"{dir}/{solver}/{solver}-network_size_{current_net_size}_comms\", comms_graph_N)\n",
    "\n",
    "np.save(f\"{dir}/{solver}/{solver}-mods_final\", mods)\n",
    "np.save(f\"{dir}/{solver}/{solver}-comms_final\", comms)"
   ]
  },
  {
   "cell_type": "markdown",
   "metadata": {},
   "source": [
    "#### Louvain"
   ]
  },
  {
   "cell_type": "code",
   "execution_count": 6,
   "metadata": {},
   "outputs": [],
   "source": [
    "solver = \"louvain\"\n",
    "make_dir(f\"{dir}/{solver}\")"
   ]
  },
  {
   "cell_type": "code",
   "execution_count": 7,
   "metadata": {},
   "outputs": [],
   "source": [
    "from Qommunity.samplers.regular.louvain_sampler import LouvainSampler\n",
    "from Qommunity.searchers.community_searcher import CommunitySearcher"
   ]
  },
  {
   "cell_type": "code",
   "execution_count": 8,
   "metadata": {},
   "outputs": [
    {
     "name": "stderr",
     "output_type": "stream",
     "text": [
      "10it [00:01,  5.36it/s]\n"
     ]
    }
   ],
   "source": [
    "from tqdm import tqdm\n",
    "\n",
    "\n",
    "N_RUNS = 100\n",
    "\n",
    "\n",
    "mods = np.zeros((num_nodes.shape[0], N_RUNS))\n",
    "comms = np.empty((num_nodes.shape[0], N_RUNS), dtype=object)\n",
    "\n",
    "mods_graph_N = np.zeros((N_RUNS))\n",
    "comms_graph_N = np.empty((N_RUNS), dtype=object)\n",
    "for i, G in tqdm(enumerate(Graphs)):\n",
    "    louvain = LouvainSampler(G)\n",
    "    searcher = CommunitySearcher(louvain)\n",
    "    \n",
    "    for r in range(N_RUNS):\n",
    "        comms_res = searcher.community_search()\n",
    "        mod_score = nx.community.modularity(G, comms_res)\n",
    "        mods_graph_N[r] = mod_score\n",
    "        comms_graph_N[r] = comms_res\n",
    "\n",
    "    current_net_size = int(num_nodes[i])\n",
    "    mods[i] = mods_graph_N\n",
    "    comms[i] = comms_graph_N\n",
    "    np.save(f\"{dir}/{solver}/{solver}-network_size_{current_net_size}\", mods_graph_N)\n",
    "    np.save(f\"{dir}/{solver}/{solver}-network_size_{current_net_size}_comms\", comms_graph_N)\n",
    "\n",
    "np.save(f\"{dir}/{solver}/{solver}-mods_final\", mods)\n",
    "np.save(f\"{dir}/{solver}/{solver}-comms_final\", comms)"
   ]
  },
  {
   "cell_type": "markdown",
   "metadata": {},
   "source": [
    "### Let's plot the modularity results"
   ]
  },
  {
   "cell_type": "code",
   "execution_count": 10,
   "metadata": {},
   "outputs": [],
   "source": [
    "mods_gurobi = np.load(f\"{dir}/gurobi/gurobi-mods_final.npy\")\n",
    "mods_leiden = np.load(f\"{dir}/leiden/leiden-mods_final.npy\")\n",
    "mods_louvain = np.load(f\"{dir}/louvain/louvain-mods_final.npy\")"
   ]
  },
  {
   "cell_type": "code",
   "execution_count": 17,
   "metadata": {},
   "outputs": [
    {
     "data": {
      "image/png": "[encoded data removed]",
      "text/plain": [
       "<Figure size 640x480 with 1 Axes>"
      ]
     },
     "metadata": {},
     "output_type": "display_data"
    }
   ],
   "source": [
    "from matplotlib import pyplot as plt\n",
    "\n",
    "\n",
    "fig, ax = plt.subplots(1)\n",
    "plt.plot(num_nodes, mods_gurobi.max(axis=-1), '-o', label=\"Gurobi Hierarchical - max\")\n",
    "plt.plot(num_nodes, mods_leiden.max(axis=-1), '-o', label=\"Leiden - max\")\n",
    "plt.plot(num_nodes, mods_louvain.max(axis=-1), '-o', label=\"Louvain - max\")\n",
    "plt.legend()\n",
    "ax.set_title(f\"Max. Q and mean Q after {N_RUNS} runs\");\n",
    "ax.set_xlabel(\"N - number of graph nodes\");\n",
    "ax.set_ylabel(\"Q values\");"
   ]
  }
 ],
 "metadata": {
  "kernelspec": {
   "display_name": "Python 3",
   "language": "python",
   "name": "python3"
  },
  "language_info": {
   "codemirror_mode": {
    "name": "ipython",
    "version": 3
   },
   "file_extension": ".py",
   "mimetype": "text/x-python",
   "name": "python",
   "nbconvert_exporter": "python",
   "pygments_lexer": "ipython3",
   "version": "3.10.11"
  }
 },
 "nbformat": 4,
 "nbformat_minor": 2
}
