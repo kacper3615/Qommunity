{
 "cells": [
  {
   "cell_type": "markdown",
   "metadata": {},
   "source": [
    "## Experiments template for networks of different sizes, multiple sample networks for each size, multiple runs per sample"
   ]
  },
  {
   "cell_type": "code",
   "execution_count": 21,
   "metadata": {},
   "outputs": [],
   "source": [
    "import os\n",
    "\n",
    "\n",
    "dir = \"multiple_network_samples/networks\"\n",
    "os.makedirs(os.path.dirname(dir+\"/\"), exist_ok=True)\n",
    "\n",
    "\n",
    "def make_dir(dir):\n",
    "    if not os.path.exists(dir):\n",
    "        os.mkdir(dir)"
   ]
  },
  {
   "cell_type": "markdown",
   "metadata": {},
   "source": [
    "### Generate networks"
   ]
  },
  {
   "cell_type": "markdown",
   "metadata": {},
   "source": [
    "First fixed Powerlaw networks with m = 1, and p = 0.1.\\\n",
    "Variable number of nodes, fixed number of generated networks per number of nodes."
   ]
  },
  {
   "cell_type": "code",
   "execution_count": 22,
   "metadata": {},
   "outputs": [],
   "source": [
    "dir = dir+\"/powerlaw_m=1_p=0.1\"\n",
    "os.makedirs(os.path.dirname(dir+\"/\"), exist_ok=True)"
   ]
  },
  {
   "cell_type": "code",
   "execution_count": 23,
   "metadata": {},
   "outputs": [
    {
     "data": {
      "text/plain": [
       "array([ 10.,  20.,  30.,  40.,  50.,  60.,  70.,  80.,  90., 100.])"
      ]
     },
     "execution_count": 23,
     "metadata": {},
     "output_type": "execute_result"
    }
   ],
   "source": [
    "import numpy as np\n",
    "\n",
    "\n",
    "MIN_NODES = 10\n",
    "MAX_NODES = 100\n",
    "\n",
    "num_nodes = np.linspace(MIN_NODES, MAX_NODES, MAX_NODES//MIN_NODES)\n",
    "num_nodes"
   ]
  },
  {
   "cell_type": "markdown",
   "metadata": {},
   "source": [
    "Number of networks to produce per each network size"
   ]
  },
  {
   "cell_type": "code",
   "execution_count": 24,
   "metadata": {},
   "outputs": [],
   "source": [
    "NUM_NETWORKS = 10"
   ]
  },
  {
   "cell_type": "code",
   "execution_count": 25,
   "metadata": {},
   "outputs": [],
   "source": [
    "import numpy as np\n",
    "import networkx as nx\n",
    "\n",
    "\n",
    "try:\n",
    "    Graphs = np.load(f\"{dir}/graphs.npy\", allow_pickle=True)\n",
    "except:\n",
    "    Graphs = np.empty(shape=(len(num_nodes),), dtype=object)\n",
    "    for i, n in enumerate(num_nodes):\n",
    "        Graphs[i] = [nx.powerlaw_cluster_graph(n=n, m=1, p=0.1) for _ in range(NUM_NETWORKS)]\n",
    "    np.save(f\"{dir}/graphs.npy\", Graphs)"
   ]
  },
  {
   "cell_type": "code",
   "execution_count": 26,
   "metadata": {},
   "outputs": [],
   "source": [
    "# output folder\n",
    "dir =dir+\"/output\"\n",
    "os.makedirs(os.path.dirname(dir+\"/\"), exist_ok=True)"
   ]
  },
  {
   "cell_type": "markdown",
   "metadata": {},
   "source": [
    "#### Hierarchical approach with Gurobi first"
   ]
  },
  {
   "cell_type": "code",
   "execution_count": 27,
   "metadata": {},
   "outputs": [],
   "source": [
    "solver = \"gurobi\"\n",
    "make_dir(f\"{dir}/{solver}\")"
   ]
  },
  {
   "cell_type": "code",
   "execution_count": 28,
   "metadata": {},
   "outputs": [],
   "source": [
    "from Qommunity.samplers.hierarchical.gurobi_sampler import GurobiSampler\n",
    "from Qommunity.searchers.hierarchical_community_searcher.hierarchical_community_searcher import HierarchicalCommunitySearcher"
   ]
  },
  {
   "cell_type": "code",
   "execution_count": 29,
   "metadata": {},
   "outputs": [
    {
     "name": "stderr",
     "output_type": "stream",
     "text": [
      "10it [03:31, 21.17s/it]\n"
     ]
    }
   ],
   "source": [
    "from tqdm import tqdm\n",
    "\n",
    "\n",
    "N_RUNS = 5\n",
    "\n",
    "\n",
    "mods = np.zeros((num_nodes.shape[0], NUM_NETWORKS, N_RUNS))\n",
    "comms = np.empty((num_nodes.shape[0], NUM_NETWORKS, N_RUNS), dtype=object)\n",
    "\n",
    "mods_graph_N = np.zeros((NUM_NETWORKS, N_RUNS))\n",
    "comms_graph_N = np.empty((NUM_NETWORKS, N_RUNS), dtype=object)\n",
    "for i, graphs_N in tqdm(enumerate(Graphs)):    \n",
    "    mods_graph_N = np.zeros((NUM_NETWORKS, N_RUNS))\n",
    "    for j, G in enumerate(graphs_N):\n",
    "        for r in range(N_RUNS):\n",
    "            # new instance of the sampler each time\n",
    "            gurobi = GurobiSampler(G, supress_output=True)\n",
    "            hierch_searcher = HierarchicalCommunitySearcher(gurobi)\n",
    "            comms_res = hierch_searcher.hierarchical_community_search()\n",
    "        \n",
    "            mod_score = nx.community.modularity(G, comms_res)\n",
    "            mods_graph_N[j, r] = mod_score\n",
    "            comms_graph_N[j, r] = comms_res\n",
    "\n",
    "    current_net_size = int(num_nodes[i])\n",
    "    mods[i] = mods_graph_N\n",
    "    comms[i] = comms_graph_N\n",
    "    np.save(f\"{dir}/{solver}/{solver}-network_size_{current_net_size}\", mods_graph_N)\n",
    "    np.save(f\"{dir}/{solver}/{solver}-network_size_{current_net_size}_comms\", comms_graph_N)\n",
    "\n",
    "np.save(f\"{dir}/{solver}/{solver}-mods_final\", mods)\n",
    "np.save(f\"{dir}/{solver}/{solver}-comms_final\", comms)"
   ]
  },
  {
   "cell_type": "markdown",
   "metadata": {},
   "source": [
    "#### Now Leiden"
   ]
  },
  {
   "cell_type": "code",
   "execution_count": 10,
   "metadata": {},
   "outputs": [],
   "source": [
    "solver = \"leiden\"\n",
    "make_dir(f\"{dir}/{solver}\")"
   ]
  },
  {
   "cell_type": "code",
   "execution_count": 11,
   "metadata": {},
   "outputs": [],
   "source": [
    "from Qommunity.samplers.regular.leiden_sampler import LeidenSampler\n",
    "from Qommunity.searchers.community_searcher.community_searcher import CommunitySearcher"
   ]
  },
  {
   "cell_type": "code",
   "execution_count": 12,
   "metadata": {},
   "outputs": [
    {
     "name": "stderr",
     "output_type": "stream",
     "text": [
      "0it [00:00, ?it/s]"
     ]
    },
    {
     "name": "stderr",
     "output_type": "stream",
     "text": [
      "10it [00:00, 31.24it/s]\n"
     ]
    }
   ],
   "source": [
    "from tqdm import tqdm\n",
    "\n",
    "\n",
    "N_RUNS = 5\n",
    "\n",
    "\n",
    "mods = np.zeros((num_nodes.shape[0], NUM_NETWORKS, N_RUNS))\n",
    "comms = np.empty((num_nodes.shape[0], NUM_NETWORKS, N_RUNS), dtype=object)\n",
    "\n",
    "mods_graph_N = np.zeros((NUM_NETWORKS, N_RUNS))\n",
    "comms_graph_N = np.empty((NUM_NETWORKS, N_RUNS), dtype=object)\n",
    "for i, graphs_N in tqdm(enumerate(Graphs)):    \n",
    "    mods_graph_N = np.zeros((NUM_NETWORKS, N_RUNS))\n",
    "    for j, G in enumerate(graphs_N):\n",
    "        leiden = LeidenSampler(G)\n",
    "        searcher = CommunitySearcher(leiden)\n",
    "        for r in range(N_RUNS):\n",
    "            comms_res = searcher.community_search()\n",
    "            mod_score = nx.community.modularity(G, comms_res)\n",
    "            mods_graph_N[j, r] = mod_score\n",
    "            comms_graph_N[j, r] = comms_res\n",
    "\n",
    "    current_net_size = int(num_nodes[i])\n",
    "    mods[i] = mods_graph_N\n",
    "    comms[i] = comms_graph_N\n",
    "    np.save(f\"{dir}/{solver}/{solver}-network_size_{current_net_size}\", mods_graph_N)\n",
    "    np.save(f\"{dir}/{solver}/{solver}-network_size_{current_net_size}_comms\", comms_graph_N)\n",
    "\n",
    "np.save(f\"{dir}/{solver}/{solver}-mods_final\", mods)\n",
    "np.save(f\"{dir}/{solver}/{solver}-comms_final\", comms)"
   ]
  },
  {
   "cell_type": "markdown",
   "metadata": {},
   "source": [
    "#### Now Louvain"
   ]
  },
  {
   "cell_type": "code",
   "execution_count": 13,
   "metadata": {},
   "outputs": [],
   "source": [
    "solver = \"louvain\"\n",
    "make_dir(f\"{dir}/{solver}\")"
   ]
  },
  {
   "cell_type": "code",
   "execution_count": 14,
   "metadata": {},
   "outputs": [],
   "source": [
    "from Qommunity.samplers.regular.louvain_sampler import LouvainSampler\n",
    "from Qommunity.searchers.community_searcher import CommunitySearcher"
   ]
  },
  {
   "cell_type": "code",
   "execution_count": 15,
   "metadata": {},
   "outputs": [
    {
     "name": "stderr",
     "output_type": "stream",
     "text": [
      "0it [00:00, ?it/s]"
     ]
    },
    {
     "name": "stderr",
     "output_type": "stream",
     "text": [
      "10it [00:01,  8.88it/s]\n"
     ]
    }
   ],
   "source": [
    "from tqdm import tqdm\n",
    "\n",
    "\n",
    "N_RUNS = 5\n",
    "\n",
    "\n",
    "mods = np.zeros((num_nodes.shape[0], NUM_NETWORKS, N_RUNS))\n",
    "comms = np.empty((num_nodes.shape[0], NUM_NETWORKS, N_RUNS), dtype=object)\n",
    "\n",
    "mods_graph_N = np.zeros((NUM_NETWORKS, N_RUNS))\n",
    "comms_graph_N = np.empty((NUM_NETWORKS, N_RUNS), dtype=object)\n",
    "for i, graphs_N in tqdm(enumerate(Graphs)):    \n",
    "    mods_graph_N = np.zeros((NUM_NETWORKS, N_RUNS))\n",
    "    for j, G in enumerate(graphs_N):\n",
    "        louvain = LouvainSampler(G)\n",
    "        searcher = CommunitySearcher(louvain)\n",
    "        \n",
    "        for r in range(N_RUNS):\n",
    "            comms_res = searcher.community_search()\n",
    "            mod_score = nx.community.modularity(G, comms_res)\n",
    "            mods_graph_N[j, r] = mod_score\n",
    "            comms_graph_N[j, r] = comms_res\n",
    "\n",
    "    current_net_size = int(num_nodes[i])\n",
    "    mods[i] = mods_graph_N\n",
    "    comms[i] = comms_graph_N\n",
    "    np.save(f\"{dir}/{solver}/{solver}-network_size_{current_net_size}\", mods_graph_N)\n",
    "    np.save(f\"{dir}/{solver}/{solver}-network_size_{current_net_size}_comms\", comms_graph_N)\n",
    "\n",
    "np.save(f\"{dir}/{solver}/{solver}-mods_final\", mods)\n",
    "np.save(f\"{dir}/{solver}/{solver}-comms_final\", comms)"
   ]
  },
  {
   "cell_type": "markdown",
   "metadata": {},
   "source": [
    "#### Results"
   ]
  },
  {
   "cell_type": "code",
   "execution_count": 30,
   "metadata": {},
   "outputs": [],
   "source": [
    "mods_gurobi = np.load(f\"{dir}/gurobi/gurobi-mods_final.npy\")\n",
    "mods_leiden = np.load(f\"{dir}/leiden/leiden-mods_final.npy\")\n",
    "mods_louvain = np.load(f\"{dir}/louvain/louvain-mods_final.npy\")"
   ]
  },
  {
   "cell_type": "markdown",
   "metadata": {},
   "source": [
    "Get the maxes"
   ]
  },
  {
   "cell_type": "code",
   "execution_count": 31,
   "metadata": {},
   "outputs": [
    {
     "data": {
      "text/plain": [
       "array([0.36419753, 0.48476454, 0.52615933, 0.65023011, 0.65326947,\n",
       "       0.74274634, 0.76170972, 0.7648614 , 0.72351976, 0.74517906])"
      ]
     },
     "execution_count": 31,
     "metadata": {},
     "output_type": "execute_result"
    }
   ],
   "source": [
    "# Joan did plotting maxes this way - incorrect\n",
    "mods_gurobi.max(axis=-1)[:, 0]"
   ]
  },
  {
   "cell_type": "code",
   "execution_count": 32,
   "metadata": {},
   "outputs": [
    {
     "data": {
      "text/plain": [
       "array([0.42592593, 0.58033241, 0.63614744, 0.69888231, 0.72219908,\n",
       "       0.74461362, 0.76170972, 0.77479571, 0.79068299, 0.80410162])"
      ]
     },
     "execution_count": 32,
     "metadata": {},
     "output_type": "execute_result"
    }
   ],
   "source": [
    "# The correct way to get maxes\n",
    "mods_gurobi.max(axis=-1).max(axis=-1)"
   ]
  },
  {
   "cell_type": "code",
   "execution_count": 33,
   "metadata": {},
   "outputs": [
    {
     "name": "stdout",
     "output_type": "stream",
     "text": [
      "True\n",
      "True\n"
     ]
    }
   ],
   "source": [
    "max_mods_gurobi = [mods_per_network_size.max() for mods_per_network_size in mods_gurobi]\n",
    "print((max_mods_gurobi == mods_gurobi.max(axis=-1).max(axis=-1)).all())\n",
    "\n",
    "max_mods_leiden = [mods_per_network_size.max() for mods_per_network_size in mods_leiden]\n",
    "print((max_mods_leiden == mods_leiden.max(axis=-1).max(axis=-1)).all())"
   ]
  },
  {
   "cell_type": "code",
   "execution_count": 34,
   "metadata": {},
   "outputs": [
    {
     "data": {
      "image/png": "[encoded data removed]",
      "text/plain": [
       "<Figure size 640x480 with 1 Axes>"
      ]
     },
     "metadata": {},
     "output_type": "display_data"
    }
   ],
   "source": [
    "from matplotlib import pyplot as plt\n",
    "\n",
    "\n",
    "fig, ax = plt.subplots(1)\n",
    "plt.plot(num_nodes, mods_gurobi.max(axis=-1).max(axis=-1), '-o', label=\"Gurobi Hierarchical\")\n",
    "plt.plot(num_nodes, mods_leiden.max(axis=-1).max(axis=-1), '-o', label=\"Leiden\")\n",
    "plt.plot(num_nodes, mods_louvain.max(axis=-1).max(axis=-1), '-o', label=\"Louvain\")\n",
    "plt.legend()\n",
    "ax.set_title(f\"Max. Q in function of Powerlaw network size\\n\" + \n",
    "             f\"10 networks per size, {N_RUNS} runs per network\");\n",
    "ax.set_xlabel(\"N - number of graph nodes\");\n",
    "ax.set_ylabel(\"Q values\");"
   ]
  }
 ],
 "metadata": {
  "kernelspec": {
   "display_name": "Python 3",
   "language": "python",
   "name": "python3"
  },
  "language_info": {
   "codemirror_mode": {
    "name": "ipython",
    "version": 3
   },
   "file_extension": ".py",
   "mimetype": "text/x-python",
   "name": "python",
   "nbconvert_exporter": "python",
   "pygments_lexer": "ipython3",
   "version": "3.10.11"
  }
 },
 "nbformat": 4,
 "nbformat_minor": 2
}
