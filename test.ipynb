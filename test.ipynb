{
 "cells": [
  {
   "cell_type": "code",
   "execution_count": 2,
   "metadata": {},
   "outputs": [],
   "source": [
    "from Qommunity.samplers.hierarchical.advantage_sampler import AdvantageSampler\n",
    "from Qommunity.searchers.hierarchical_community_searcher import HierarchicalCommunitySearcher"
   ]
  },
  {
   "cell_type": "code",
   "execution_count": 3,
   "metadata": {},
   "outputs": [],
   "source": [
    "import numpy as np\n",
    "import networkx as nx\n",
    "import os\n",
    "\n",
    "\n",
    "def make_dir(dir):\n",
    "    if not os.path.exists(dir):\n",
    "        os.mkdir(dir)\n",
    "\n",
    "\n",
    "\n",
    "MIN_NODES = 10\n",
    "MAX_NODES = 100\n",
    "\n",
    "num_nodes = np.linspace(MIN_NODES, MAX_NODES, MAX_NODES//MIN_NODES)\n",
    "\n",
    "\n",
    "dir = \"networks/powerlaw_m=1_p=0.2\"\n",
    "os.makedirs(os.path.dirname(dir+\"/\"), exist_ok=True)\n",
    "\n",
    "solver = \"advantage\"\n",
    "\n",
    "\n",
    "try:\n",
    "    Graphs = np.load(f\"{dir}/graphs.npy\", allow_pickle=True)\n",
    "except:\n",
    "    Graphs = np.empty(shape=(len(num_nodes),), dtype=object)\n",
    "    for i, n in enumerate(num_nodes):\n",
    "        Graphs[i] = nx.powerlaw_cluster_graph(n=n, m=1, p=0.2)\n",
    "    np.save(f\"{dir}/graphs.npy\", Graphs)\n",
    "\n",
    "\n",
    "\n",
    "\n",
    "dir = \"profiling\"\n",
    "os.makedirs(os.path.dirname(dir+\"/\"), exist_ok=True)\n",
    "make_dir(f\"{dir}/{solver}\")"
   ]
  },
  {
   "cell_type": "code",
   "execution_count": 12,
   "metadata": {},
   "outputs": [],
   "source": [
    "Graphs = np.load(\"networks/powerlaw_m=1_p=0.2/graphs.npy\", allow_pickle=True)"
   ]
  },
  {
   "cell_type": "code",
   "execution_count": 9,
   "metadata": {},
   "outputs": [],
   "source": [
    "N_RUNS = 1"
   ]
  },
  {
   "cell_type": "code",
   "execution_count": 18,
   "metadata": {},
   "outputs": [
    {
     "name": "stdout",
     "output_type": "stream",
     "text": [
      "9\n"
     ]
    },
    {
     "data": {
      "text/plain": [
       "array([<networkx.classes.graph.Graph object at 0x00000200F738E290>],\n",
       "      dtype=object)"
      ]
     },
     "execution_count": 18,
     "metadata": {},
     "output_type": "execute_result"
    }
   ],
   "source": [
    "G_idx = MAX_NODES//MIN_NODES - 1\n",
    "print(G_idx)\n",
    "Graphs[G_idx:]"
   ]
  },
  {
   "cell_type": "code",
   "execution_count": null,
   "metadata": {},
   "outputs": [],
   "source": []
  },
  {
   "cell_type": "code",
   "execution_count": 4,
   "metadata": {},
   "outputs": [],
   "source": [
    "from tqdm import tqdm\n",
    "\n",
    "\n",
    "N_RUNS = 1\n",
    "\n",
    "G_idx = 1\n",
    "\n",
    "def run_adv():\n",
    "    mods = np.zeros((num_nodes[:G_idx].shape[0], N_RUNS))\n",
    "    comms = np.empty((num_nodes[:G_idx].shape[0], N_RUNS), dtype=object)\n",
    "\n",
    "    mods_graph_N = np.zeros((N_RUNS))\n",
    "    comms_graph_N = np.empty((N_RUNS), dtype=object)\n",
    "    for i, G in tqdm(enumerate(Graphs[:G_idx])):\n",
    "        current_net_size = int(G.number_of_nodes())    \n",
    "        for r in range(N_RUNS):\n",
    "            # new instance of the sampler each time\n",
    "            advantage = AdvantageSampler(G, num_reads=100)\n",
    "            hierch_searcher = HierarchicalCommunitySearcher(advantage)\n",
    "            comms_res = hierch_searcher.hierarchical_community_search()\n",
    "            \n",
    "            mod_score = nx.community.modularity(G, comms_res)\n",
    "            mods_graph_N[r] = mod_score\n",
    "            comms_graph_N[r] = comms_res\n",
    "\n",
    "            try:\n",
    "                np.save(f\"{dir}/{solver}/{solver}-network_size_{current_net_size}\", mods_graph_N)\n",
    "                np.save(f\"{dir}/{solver}/{solver}-network_size_{current_net_size}_comms\", comms_graph_N)\n",
    "            except Exception as e:\n",
    "                print(f\"iter: {i} run: {r} saving failed\")\n",
    "                print(e)\n",
    "\n",
    "        # current_net_size = int(num_nodes[i])\n",
    "        current_net_size = int(G.number_of_nodes())\n",
    "        mods[i] = mods_graph_N\n",
    "        comms[i] = comms_graph_N\n",
    "        np.save(f\"{dir}/{solver}/{solver}-network_size_{current_net_size}\", mods_graph_N)\n",
    "        np.save(f\"{dir}/{solver}/{solver}-network_size_{current_net_size}_comms\", comms_graph_N)\n",
    "\n",
    "    np.save(f\"{dir}/{solver}/{solver}-mods_final\", mods)\n",
    "    np.save(f\"{dir}/{solver}/{solver}-comms_final\", comms)"
   ]
  },
  {
   "cell_type": "code",
   "execution_count": 4,
   "metadata": {},
   "outputs": [],
   "source": [
    "%load_ext line_profiler"
   ]
  },
  {
   "cell_type": "code",
   "execution_count": 10,
   "metadata": {},
   "outputs": [],
   "source": [
    "from QHyper.solvers.quantum_annealing.advantage import Advantage, OptimizerFunction"
   ]
  },
  {
   "cell_type": "code",
   "execution_count": 6,
   "metadata": {},
   "outputs": [
    {
     "data": {
      "text/plain": [
       "9"
      ]
     },
     "execution_count": 6,
     "metadata": {},
     "output_type": "execute_result"
    }
   ],
   "source": [
    "np.arange(10)[9]"
   ]
  },
  {
   "cell_type": "code",
   "execution_count": 12,
   "metadata": {},
   "outputs": [
    {
     "name": "stderr",
     "output_type": "stream",
     "text": [
      "1it [00:08,  8.12s/it]\n"
     ]
    },
    {
     "name": "stdout",
     "output_type": "stream",
     "text": [
      "Timer unit: 1e-07 s\n",
      "\n",
      "Total time: 0.565313 s\n",
      "File: C:\\Users\\basia\\Desktop\\Praca_Inzynierska_2024\\QHyper\\QHyper\\solvers\\quantum_annealing\\advantage.py\n",
      "Function: run_advantage at line 51\n",
      "\n",
      "Line #      Hits         Time  Per Hit   % Time  Line Contents\n",
      "==============================================================\n",
      "    51                                               def run_advantage(self, args: npt.NDArray) -> SampleSet:\n",
      "    52         5       5548.0   1109.6      0.1          qubo = Converter.create_qubo(self.problem, args)\n",
      "    53         5       2743.0    548.6      0.0          qubo_terms, offset = convert_qubo_keys(qubo)\n",
      "    54         5      10190.0   2038.0      0.2          bqm = BinaryQuadraticModel.from_qubo(qubo_terms, offset=offset)\n",
      "    55        10    5634609.0 563460.9     99.7          sampleset = self.embedding_compose.sample(\n",
      "    56         5         22.0      4.4      0.0              bqm, num_reads=self.num_reads, chain_strength=self.chain_strength\n",
      "    57                                                   )\n",
      "    58                                           \n",
      "    59         5         19.0      3.8      0.0          return sampleset"
     ]
    }
   ],
   "source": [
    "%lprun -f OptimizerFunction.run_advantage run_adv()"
   ]
  }
 ],
 "metadata": {
  "kernelspec": {
   "display_name": "Python 3",
   "language": "python",
   "name": "python3"
  },
  "language_info": {
   "codemirror_mode": {
    "name": "ipython",
    "version": 3
   },
   "file_extension": ".py",
   "mimetype": "text/x-python",
   "name": "python",
   "nbconvert_exporter": "python",
   "pygments_lexer": "ipython3",
   "version": "3.10.11"
  }
 },
 "nbformat": 4,
 "nbformat_minor": 2
}
