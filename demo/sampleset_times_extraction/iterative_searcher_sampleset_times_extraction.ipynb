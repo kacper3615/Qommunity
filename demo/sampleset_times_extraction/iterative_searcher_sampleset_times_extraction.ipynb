{
 "cells": [
  {
   "cell_type": "code",
   "execution_count": 1,
   "id": "6faf1a22",
   "metadata": {},
   "outputs": [],
   "source": [
    "import numpy as np\n",
    "import networkx as nx\n",
    "import matplotlib.pyplot as plt\n",
    "\n",
    "from Qommunity.samplers.hierarchical.advantage_sampler import AdvantageSampler\n",
    "from Qommunity.searchers.hierarchical_searcher import HierarchicalSearcher\n",
    "from Qommunity.iterative_searcher import IterativeSearcher"
   ]
  },
  {
   "cell_type": "markdown",
   "id": "654446d8",
   "metadata": {},
   "source": [
    "## Please use it with QHyper basiav/sampleset_info_extraction branch\n",
    "https://github.com/qc-lab/QHyper/tree/basiav/sampleset_info_extraction"
   ]
  },
  {
   "cell_type": "code",
   "execution_count": 2,
   "id": "6f6a54f6",
   "metadata": {},
   "outputs": [],
   "source": [
    "import os\n",
    "\n",
    "\n",
    "test_dir = \"test\"\n",
    "os.makedirs(test_dir, exist_ok=True)"
   ]
  },
  {
   "cell_type": "code",
   "execution_count": 3,
   "id": "355ce839",
   "metadata": {},
   "outputs": [
    {
     "name": "stdout",
     "output_type": "stream",
     "text": [
      "Graph loaded from test/graph_powerlaw_n=100_m=1_p=0.1.npy.\n"
     ]
    }
   ],
   "source": [
    "n = 100\n",
    "m = 1\n",
    "p=0.1\n",
    "\n",
    "graph_powerlaw_100_path = f\"{test_dir}/graph_powerlaw_n={n}_m={m}_p={p}.npy\"\n",
    "try:\n",
    "    G = np.load(graph_powerlaw_100_path, allow_pickle=True)[0]\n",
    "    print(f\"Graph loaded from {graph_powerlaw_100_path}.\")\n",
    "except Exception as e:\n",
    "    print(f\"Could not load graph from {graph_powerlaw_100_path}. Generating a new one.\")\n",
    "    G = nx.powerlaw_cluster_graph(n=n, m=m, p=p)\n",
    "    G_arr = np.empty((1,), dtype=object)\n",
    "    G_arr[0] = G\n",
    "    np.save(graph_powerlaw_100_path, G_arr)\n",
    "    print(f\"Graph saved to {graph_powerlaw_100_path}.\")"
   ]
  },
  {
   "cell_type": "markdown",
   "id": "22f9156a",
   "metadata": {},
   "source": [
    "## Usage"
   ]
  },
  {
   "cell_type": "markdown",
   "id": "4c5b6c56",
   "metadata": {},
   "source": [
    "#### 1. For the `AdvantageSampler`, set `return_metadata=True` and `elapse times=True`"
   ]
  },
  {
   "cell_type": "code",
   "execution_count": null,
   "id": "5b0a7d5d",
   "metadata": {},
   "outputs": [],
   "source": [
    "num_reads = 100\n",
    "version = \"\"\n",
    "region = \"na-west-1\"\n",
    "\n",
    "advantage = AdvantageSampler(\n",
    "    G, num_reads=num_reads, version=version, region=region, use_clique_embedding=True, elapse_times=True, return_metadata=True\n",
    ")"
   ]
  },
  {
   "cell_type": "code",
   "execution_count": 9,
   "id": "ce0a356b",
   "metadata": {},
   "outputs": [],
   "source": [
    "iterative_searcher = IterativeSearcher(sampler=advantage)"
   ]
  },
  {
   "cell_type": "markdown",
   "id": "14bc4f03",
   "metadata": {},
   "source": [
    "Quick reminder of IterativeSearcher's usage we have practiced so far for full hierarchical runs info:"
   ]
  },
  {
   "cell_type": "code",
   "execution_count": 105,
   "id": "e3cea177",
   "metadata": {},
   "outputs": [
    {
     "name": "stdout",
     "output_type": "stream",
     "text": [
      "Starting community detection iterations\n"
     ]
    },
    {
     "name": "stderr",
     "output_type": "stream",
     "text": [
      "100%|██████████| 1/1 [02:59<00:00, 179.58s/it]"
     ]
    },
    {
     "name": "stdout",
     "output_type": "stream",
     "text": [
      "Iteration 0 completed\n"
     ]
    },
    {
     "name": "stderr",
     "output_type": "stream",
     "text": [
      "\n"
     ]
    }
   ],
   "source": [
    "res_like_before = iterative_searcher.run_with_sampleset_info(\n",
    "    num_runs=1,\n",
    "    save_results=False,\n",
    "    iterative_verbosity=1,\n",
    "    return_sampleset_metadata=False\n",
    ")"
   ]
  },
  {
   "cell_type": "code",
   "execution_count": 14,
   "id": "be76f93d",
   "metadata": {},
   "outputs": [],
   "source": [
    "res = res_like_before\n",
    "communities, modularities, times, division_trees, division_modularities = res.communities, res.modularity, res.time, res.division_tree, res.division_modularities"
   ]
  },
  {
   "cell_type": "markdown",
   "id": "3f1fef5f",
   "metadata": {},
   "source": [
    "### 2. Set `return_metadata=True` to `ItearativeSearcher`'s run method"
   ]
  },
  {
   "cell_type": "code",
   "execution_count": 10,
   "id": "b2d79efe",
   "metadata": {},
   "outputs": [],
   "source": [
    "dir_adv_clique = f\"{test_dir}/advantage_clique\"\n",
    "os.makedirs(dir_adv_clique, exist_ok=True)"
   ]
  },
  {
   "cell_type": "code",
   "execution_count": null,
   "id": "5fa48d56",
   "metadata": {},
   "outputs": [
    {
     "name": "stdout",
     "output_type": "stream",
     "text": [
      "Starting community detection iterations\n"
     ]
    },
    {
     "name": "stderr",
     "output_type": "stream",
     "text": [
      "  0%|          | 0/5 [00:00<?, ?it/s]"
     ]
    },
    {
     "name": "stderr",
     "output_type": "stream",
     "text": [
      " 20%|██        | 1/5 [02:12<08:50, 132.64s/it]"
     ]
    },
    {
     "name": "stdout",
     "output_type": "stream",
     "text": [
      "Iteration 0 completed\n"
     ]
    },
    {
     "name": "stderr",
     "output_type": "stream",
     "text": [
      " 40%|████      | 2/5 [04:01<05:56, 118.82s/it]"
     ]
    },
    {
     "name": "stdout",
     "output_type": "stream",
     "text": [
      "Iteration 1 completed\n"
     ]
    },
    {
     "name": "stderr",
     "output_type": "stream",
     "text": [
      " 60%|██████    | 3/5 [06:22<04:17, 128.96s/it]"
     ]
    },
    {
     "name": "stdout",
     "output_type": "stream",
     "text": [
      "Iteration 2 completed\n"
     ]
    },
    {
     "name": "stderr",
     "output_type": "stream",
     "text": [
      " 80%|████████  | 4/5 [09:13<02:25, 145.36s/it]"
     ]
    },
    {
     "name": "stdout",
     "output_type": "stream",
     "text": [
      "Iteration 3 completed\n"
     ]
    },
    {
     "name": "stderr",
     "output_type": "stream",
     "text": [
      "100%|██████████| 5/5 [12:20<00:00, 148.10s/it]"
     ]
    },
    {
     "name": "stdout",
     "output_type": "stream",
     "text": [
      "Iteration 4 completed\n"
     ]
    },
    {
     "name": "stderr",
     "output_type": "stream",
     "text": [
      "\n"
     ]
    }
   ],
   "source": [
    "res = iterative_searcher.run_with_sampleset_info(\n",
    "    num_runs=5,\n",
    "    save_results=True,\n",
    "    saving_path=dir_adv_clique,\n",
    "    iterative_verbosity=1,\n",
    "    return_metadata=True,\n",
    ")"
   ]
  },
  {
   "cell_type": "code",
   "execution_count": 12,
   "id": "d5cddf69",
   "metadata": {},
   "outputs": [],
   "source": [
    "communities, modularities, times, division_trees, division_modularities, sampleset_datas = res.communities, res.modularity, res.time, res.division_tree, res.division_modularities, res.samplesets_data"
   ]
  },
  {
   "cell_type": "markdown",
   "id": "7e407be7",
   "metadata": {},
   "source": [
    "## Sampleset data interpretation"
   ]
  },
  {
   "cell_type": "code",
   "execution_count": 66,
   "id": "165f5ffd",
   "metadata": {},
   "outputs": [
    {
     "name": "stdout",
     "output_type": "stream",
     "text": [
      "Data from 5 iteartive runs\n",
      "Number of Problem (QUBO) forumulations in the first run: 26\n",
      "Number of Problem (QUBO) forumulations in the second run: 23\n"
     ]
    }
   ],
   "source": [
    "# Shape interpretation\n",
    "print(f\"Data from {len(sampleset_datas)} iteartive runs\")\n",
    "print(f\"Number of Problem (QUBO) forumulations in the first run: {len(sampleset_datas[0].dwave_sampleset_metadata)}\")\n",
    "print(f\"Number of Problem (QUBO) forumulations in the second run: {len(sampleset_datas[1].dwave_sampleset_metadata)}\")\n",
    "assert len(sampleset_datas[0].dwave_sampleset_metadata) == len(sampleset_datas[0].time_measurements)\n",
    "assert len(sampleset_datas[1].dwave_sampleset_metadata) == len(sampleset_datas[1].time_measurements)"
   ]
  },
  {
   "cell_type": "code",
   "execution_count": 14,
   "id": "15504907",
   "metadata": {},
   "outputs": [
    {
     "data": {
      "text/plain": [
       "array([HierarchicalRunMetadata(dwave_sampleset_metadata=rec.array([(24068., 20., 200.1 , 39832.76, 1213.24, 15764.76, 20.58, 143., 143.),\n",
       "                  (13716., 20.,  96.58, 29479.56, 1157.44, 15763.56, 20.58,  27.,  27.),\n",
       "                  (20638., 20., 165.8 , 36400.36,  713.64, 15762.36, 20.58,  24.,  24.),\n",
       "                  (12660., 20.,  86.02, 28423.56, 1396.44, 15763.56, 20.58,   1.,   1.),\n",
       "                  (12412., 20.,  83.54, 28175.96, 1005.04, 15763.96, 20.58,  14.,  14.),\n",
       "                  (12368., 20.,  83.1 , 28131.96,  767.04, 15763.96, 20.58,   1.,   1.),\n",
       "                  (19750., 20., 156.92, 35513.16, 1403.84, 15763.16, 20.58,   1.,   1.),\n",
       "                  (20638., 20., 165.8 , 36401.16, 1110.84, 15763.16, 20.58,  24.,  24.),\n",
       "                  (14990., 20., 109.32, 30753.56, 1079.44, 15763.56, 20.58,   1.,   1.),\n",
       "                  (12500., 20.,  84.42, 28263.16, 1099.84, 15763.16, 20.58,  16.,  16.),\n",
       "                  (12368., 20.,  83.1 , 28131.96, 1185.04, 15763.96, 20.58,   1.,   1.),\n",
       "                  (10628., 20.,  65.7 , 26391.56, 1573.44, 15763.56, 20.58,   1.,   1.),\n",
       "                  (14990., 20., 109.32, 30753.16,  876.84, 15763.16, 20.58,   1.,   1.),\n",
       "                  ( 6604., 20.,  25.46, 22367.56, 1024.44, 15763.56, 20.58,  28.,  28.),\n",
       "                  (12676., 20.,  86.18, 28439.16,  870.84, 15763.16, 20.58,  25.,  25.),\n",
       "                  (13444., 20.,  93.86, 29207.56, 1114.44, 15763.56, 20.58,  17.,  17.),\n",
       "                  (19972., 20., 159.14, 35734.76, 1457.24, 15762.76, 20.58,   1.,   1.),\n",
       "                  (17362., 20., 133.04, 33125.56,  944.44, 15763.56, 20.58,   1.,   1.),\n",
       "                  (12500., 20.,  84.42, 28263.96, 1291.04, 15763.96, 20.58,  23.,  23.),\n",
       "                  (12456., 20.,  83.98, 28219.96, 1138.04, 15763.96, 20.58,  31.,  31.),\n",
       "                  (12660., 20.,  86.02, 28423.96, 1359.04, 15763.96, 20.58,   1.,   1.),\n",
       "                  (20818., 20., 167.6 , 36580.76, 1396.24, 15762.76, 20.58,   1.,   1.),\n",
       "                  (19972., 20., 159.14, 35735.16,  883.84, 15763.16, 20.58,   1.,   1.),\n",
       "                  (19906., 20., 158.48, 35669.56, 1225.44, 15763.56, 20.58,  44.,  44.),\n",
       "                  ( 8254., 20.,  41.96, 24017.56, 1348.44, 15763.56, 20.58,  37.,  37.),\n",
       "                  (10628., 20.,  65.7 , 26391.56, 1079.44, 15763.56, 20.58,  40.,  40.)],\n",
       "                 dtype=[('qpu_sampling_time_us', '<f8'), ('qpu_anneal_time_per_sample_us', '<f8'), ('qpu_readout_time_per_sample_us', '<f8'), ('qpu_access_time_us', '<f8'), ('qpu_access_overhead_time_us', '<f8'), ('qpu_programming_time_us', '<f8'), ('qpu_delay_time_per_sample_us', '<f8'), ('post_processing_overhead_time_us', '<f8'), ('total_post_processing_time_us', '<f8')]), time_measurements=rec.array([(0.1443974, 0.0266175, 0.0993715),\n",
       "                  (0.1976067, 0.0579474, 0.1170795),\n",
       "                  (0.2738496, 0.0315305, 0.0371049),\n",
       "                  (0.1527682, 0.3362851, 0.0256194),\n",
       "                  (0.2194602, 0.026862 , 0.0324044),\n",
       "                  (0.1354249, 0.0190736, 0.0227821),\n",
       "                  (0.1401513, 0.0208511, 0.0264425),\n",
       "                  (0.1295765, 0.0191886, 0.0270775),\n",
       "                  (0.1489702, 0.0188629, 0.025963 ),\n",
       "                  (0.1450176, 0.0212618, 0.0281077),\n",
       "                  (0.1715421, 0.0272723, 0.030255 ),\n",
       "                  (0.1328004, 0.0162293, 0.0217005),\n",
       "                  (0.1606691, 0.0175149, 0.0205587),\n",
       "                  (0.1528668, 0.0188718, 0.0186495),\n",
       "                  (0.4672844, 0.0181635, 0.0247536),\n",
       "                  (0.4297156, 0.0223982, 0.044612 ),\n",
       "                  (0.1381327, 0.0170944, 0.0231487),\n",
       "                  (0.1936378, 0.0246094, 0.0293207),\n",
       "                  (0.2972434, 0.0373561, 0.0315045),\n",
       "                  (0.2148153, 0.025039 , 0.0244474),\n",
       "                  (0.1903241, 0.0308372, 0.0220878),\n",
       "                  (0.1645188, 0.0301108, 0.0293935),\n",
       "                  (0.1750687, 0.0160645, 0.0239471),\n",
       "                  (0.1620842, 0.0365852, 0.0259552),\n",
       "                  (0.1553091, 0.0224657, 0.021882 ),\n",
       "                  (0.216386 , 0.0300109, 0.0244209)],\n",
       "                 dtype=[('find_clique_embedding_time_s', '<f8'), ('fixed_embedding_composite_time_s', '<f8'), ('sample_func_time_s', '<f8')]))                                                                                                                                                                                                                                                                                                            ,\n",
       "       HierarchicalRunMetadata(dwave_sampleset_metadata=rec.array([(24068., 20., 200.1 , 39832.76, 1293.24, 15764.76, 20.58, 73., 73.),\n",
       "                  (13716., 20.,  96.58, 29479.96, 1073.04, 15763.96, 20.58,  7.,  7.),\n",
       "                  (20638., 20., 165.8 , 36400.36,  874.64, 15762.36, 20.58,  1.,  1.),\n",
       "                  (12660., 20.,  86.02, 28423.56, 1179.44, 15763.56, 20.58,  1.,  1.),\n",
       "                  (12368., 20.,  83.1 , 28131.96, 1330.04, 15763.96, 20.58,  1.,  1.),\n",
       "                  (12412., 20.,  83.54, 28175.96,  851.04, 15763.96, 20.58,  1.,  1.),\n",
       "                  (19906., 20., 158.48, 35669.16, 1332.84, 15763.16, 20.58,  1.,  1.),\n",
       "                  (20434., 20., 163.76, 36197.56,  939.44, 15763.56, 20.58, 42., 42.),\n",
       "                  (12676., 20.,  86.18, 28439.16,  782.84, 15763.16, 20.58,  1.,  1.),\n",
       "                  (17362., 20., 133.04, 33125.16,  958.84, 15763.16, 20.58,  1.,  1.),\n",
       "                  ( 8254., 20.,  41.96, 24017.56,  661.44, 15763.56, 20.58,  1.,  1.),\n",
       "                  (12676., 20.,  86.18, 28439.16,  951.84, 15763.16, 20.58, 20., 20.),\n",
       "                  (13604., 20.,  95.46, 29369.96, 1032.04, 15765.96, 20.58,  1.,  1.),\n",
       "                  (20818., 20., 167.6 , 36580.36, 1412.64, 15762.36, 20.58, 75., 75.),\n",
       "                  (20614., 20., 165.56, 36376.36, 1343.64, 15762.36, 20.58,  1.,  1.),\n",
       "                  ( 8254., 20.,  41.96, 24017.56,  732.44, 15763.56, 20.58,  1.,  1.),\n",
       "                  (20020., 20., 159.62, 35783.16,  654.84, 15763.16, 20.58,  8.,  8.),\n",
       "                  (12412., 20.,  83.54, 28175.96, 1517.04, 15763.96, 20.58,  1.,  1.),\n",
       "                  (20020., 20., 159.62, 35783.96, 1022.04, 15763.96, 20.58,  1.,  1.),\n",
       "                  (12676., 20.,  86.18, 28438.76, 1351.24, 15762.76, 20.58,  1.,  1.),\n",
       "                  (12660., 20.,  86.02, 28423.96,  908.04, 15763.96, 20.58,  1.,  1.),\n",
       "                  (12500., 20.,  84.42, 28263.96,  937.04, 15763.96, 20.58,  1.,  1.),\n",
       "                  ( 6604., 20.,  25.46, 22367.56, 1018.44, 15763.56, 20.58,  1.,  1.)],\n",
       "                 dtype=[('qpu_sampling_time_us', '<f8'), ('qpu_anneal_time_per_sample_us', '<f8'), ('qpu_readout_time_per_sample_us', '<f8'), ('qpu_access_time_us', '<f8'), ('qpu_access_overhead_time_us', '<f8'), ('qpu_programming_time_us', '<f8'), ('qpu_delay_time_per_sample_us', '<f8'), ('post_processing_overhead_time_us', '<f8'), ('total_post_processing_time_us', '<f8')]), time_measurements=rec.array([(0.2555672, 0.042353 , 0.1339756),\n",
       "                  (0.2097353, 0.0605196, 0.0546631),\n",
       "                  (0.175967 , 0.0254375, 0.0276384),\n",
       "                  (0.1797662, 0.0218586, 0.0271623),\n",
       "                  (0.170172 , 0.0235617, 0.0214874),\n",
       "                  (0.1947894, 0.0372277, 0.0232827),\n",
       "                  (0.1916607, 0.0245986, 0.0288797),\n",
       "                  (0.1702719, 0.0336482, 0.0348337),\n",
       "                  (0.1694412, 0.0218849, 0.0243269),\n",
       "                  (0.1944222, 0.0231329, 0.0248282),\n",
       "                  (0.230377 , 0.0337989, 0.0193898),\n",
       "                  (0.1911007, 0.0234882, 0.0226845),\n",
       "                  (0.1832242, 0.0259333, 0.0412055),\n",
       "                  (0.1385274, 0.0215734, 0.0297523),\n",
       "                  (0.1646082, 0.0205899, 0.0269114),\n",
       "                  (0.2115544, 0.0223867, 0.019099 ),\n",
       "                  (0.1574523, 0.0223498, 0.0209825),\n",
       "                  (0.2098734, 0.0283766, 0.0258355),\n",
       "                  (0.2053665, 0.0315475, 0.035727 ),\n",
       "                  (0.1570408, 0.023344 , 0.0224408),\n",
       "                  (0.1710634, 0.0233166, 0.0236184),\n",
       "                  (0.1657096, 0.0204632, 0.0215121),\n",
       "                  (0.1678353, 0.0209216, 0.0208313)],\n",
       "                 dtype=[('find_clique_embedding_time_s', '<f8'), ('fixed_embedding_composite_time_s', '<f8'), ('sample_func_time_s', '<f8')]))                                                                                                                                                                                                                                                                                                            ,\n",
       "       HierarchicalRunMetadata(dwave_sampleset_metadata=rec.array([(24068., 20., 200.1 , 39832.76,  1056.24, 15764.76, 20.58,  61.,  61.),\n",
       "                  (13716., 20.,  96.58, 29478.76,  2106.24, 15762.76, 20.58,   1.,   1.),\n",
       "                  (20638., 20., 165.8 , 36400.36,  1404.64, 15762.36, 20.58,  21.,  21.),\n",
       "                  (12456., 20.,  83.98, 28219.96,  1256.04, 15763.96, 20.58,  16.,  16.),\n",
       "                  (20410., 20., 163.52, 36173.16,  1240.84, 15763.16, 20.58,  10.,  10.),\n",
       "                  ( 8254., 20.,  41.96, 24017.56,  1694.44, 15763.56, 20.58,   1.,   1.),\n",
       "                  (19906., 20., 158.48, 35669.56,   950.44, 15763.56, 20.58,  53.,  53.),\n",
       "                  (20434., 20., 163.76, 36196.36,  1008.64, 15762.36, 20.58,  63.,  63.),\n",
       "                  (12676., 20.,  86.18, 28439.16,  1382.84, 15763.16, 20.58,   1.,   1.),\n",
       "                  (17362., 20., 133.04, 33124.76,  1643.24, 15762.76, 20.58,   1.,   1.),\n",
       "                  (12456., 20.,  83.98, 28219.96,  1015.04, 15763.96, 20.58,  32.,  32.),\n",
       "                  (12500., 20.,  84.42, 28263.56,   957.44, 15763.56, 20.58,  86.,  86.),\n",
       "                  (13444., 20.,  93.86, 29207.56,  1874.44, 15763.56, 20.58,  57.,  57.),\n",
       "                  (20818., 20., 167.6 , 36581.56,  1050.44, 15763.56, 20.58,  15.,  15.),\n",
       "                  (12660., 20.,  86.02, 28423.56,  1123.44, 15763.56, 20.58,   1.,   1.),\n",
       "                  (12368., 20.,  83.1 , 28131.96,   858.04, 15763.96, 20.58, 243., 243.),\n",
       "                  (12368., 20.,  83.1 , 28131.96,  1070.04, 15763.96, 20.58,   7.,   7.),\n",
       "                  (19906., 20., 158.48, 35669.16,   932.84, 15763.16, 20.58,  37.,  37.),\n",
       "                  (20020., 20., 159.62, 35782.76, 39137.24, 15762.76, 20.58,  30.,  30.),\n",
       "                  (12676., 20.,  86.18, 28439.16,  1089.84, 15763.16, 20.58,   1.,   1.),\n",
       "                  (12660., 20.,  86.02, 28423.56,  2406.44, 15763.56, 20.58,  26.,  26.),\n",
       "                  ( 6604., 20.,  25.46, 22367.56,   900.44, 15763.56, 20.58,   1.,   1.),\n",
       "                  (12456., 20.,  83.98, 28219.56,   909.44, 15763.56, 20.58,   1.,   1.)],\n",
       "                 dtype=[('qpu_sampling_time_us', '<f8'), ('qpu_anneal_time_per_sample_us', '<f8'), ('qpu_readout_time_per_sample_us', '<f8'), ('qpu_access_time_us', '<f8'), ('qpu_access_overhead_time_us', '<f8'), ('qpu_programming_time_us', '<f8'), ('qpu_delay_time_per_sample_us', '<f8'), ('post_processing_overhead_time_us', '<f8'), ('total_post_processing_time_us', '<f8')]), time_measurements=rec.array([(0.274478 , 0.0599994, 0.1278462),\n",
       "                  (0.1742539, 0.0299677, 0.0499094),\n",
       "                  (0.1575211, 0.0225869, 0.0280105),\n",
       "                  (0.190718 , 0.0402965, 0.0317657),\n",
       "                  (0.1850694, 0.0189491, 0.0305804),\n",
       "                  (0.1697472, 0.0181321, 0.0189417),\n",
       "                  (0.2013703, 0.0342909, 0.0320805),\n",
       "                  (0.1659067, 0.0170511, 0.0244428),\n",
       "                  (0.178235 , 0.0194661, 0.0213743),\n",
       "                  (0.1713046, 0.016509 , 0.0201887),\n",
       "                  (0.202408 , 0.0176195, 0.0176311),\n",
       "                  (0.1770212, 0.0182357, 0.0180075),\n",
       "                  (0.1914297, 0.0269556, 0.0482852),\n",
       "                  (0.176382 , 0.0411521, 0.0339342),\n",
       "                  (0.2027869, 0.0314062, 0.0327128),\n",
       "                  (0.1921484, 0.0222472, 0.0284956),\n",
       "                  (0.2092247, 0.0296557, 0.0248376),\n",
       "                  (0.2206463, 0.0180984, 0.0227097),\n",
       "                  (0.1861403, 0.017473 , 0.0206937),\n",
       "                  (0.1763927, 0.0185106, 0.0185134),\n",
       "                  (0.1467082, 0.0219275, 0.0208402),\n",
       "                  (0.17712  , 0.0223472, 0.0215508),\n",
       "                  (0.1846118, 0.0191805, 0.0185606)],\n",
       "                 dtype=[('find_clique_embedding_time_s', '<f8'), ('fixed_embedding_composite_time_s', '<f8'), ('sample_func_time_s', '<f8')]))                                                                                                                                                                                                                                                                                                            ,\n",
       "       HierarchicalRunMetadata(dwave_sampleset_metadata=rec.array([(24068., 20., 200.1 , 39832.76, 1200.24, 15764.76, 20.58, 104., 104.),\n",
       "                  (13716., 20.,  96.58, 29480.36,  847.64, 15764.36, 20.58,  82.,  82.),\n",
       "                  (20818., 20., 167.6 , 36580.76,  842.24, 15762.76, 20.58,   1.,   1.),\n",
       "                  (20410., 20., 163.52, 36172.36,  971.64, 15762.36, 20.58,   1.,   1.),\n",
       "                  (20020., 20., 159.62, 35783.16, 1260.84, 15763.16, 20.58,   1.,   1.),\n",
       "                  ( 8254., 20.,  41.96, 24017.56,  669.44, 15763.56, 20.58,  16.,  16.),\n",
       "                  (12368., 20.,  83.1 , 28132.36,  944.64, 15764.36, 20.58,  44.,  44.),\n",
       "                  (20614., 20., 165.56, 36375.96,  701.04, 15761.96, 20.58,  47.,  47.),\n",
       "                  (12676., 20.,  86.18, 28439.16,  869.84, 15763.16, 20.58,  29.,  29.),\n",
       "                  (17362., 20., 133.04, 33125.56,  891.44, 15763.56, 20.58,   1.,   1.),\n",
       "                  (12412., 20.,  83.54, 28175.96,  854.04, 15763.96, 20.58,   1.,   1.),\n",
       "                  (12456., 20.,  83.98, 28219.96,  727.04, 15763.96, 20.58,  51.,  51.),\n",
       "                  (13692., 20.,  96.34, 29455.16, 1569.84, 15763.16, 20.58,   1.,   1.),\n",
       "                  (20638., 20., 165.8 , 36400.36,  873.64, 15762.36, 20.58,  80.,  80.),\n",
       "                  (12660., 20.,  86.02, 28423.56, 1210.44, 15763.56, 20.58,   1.,   1.),\n",
       "                  (12368., 20.,  83.1 , 28131.96,  720.04, 15763.96, 20.58,   1.,   1.),\n",
       "                  (12412., 20.,  83.54, 28175.96,  580.04, 15763.96, 20.58,  14.,  14.),\n",
       "                  (19750., 20., 156.92, 35513.16,  759.84, 15763.16, 20.58,   1.,   1.),\n",
       "                  (20410., 20., 163.52, 36172.76,  862.24, 15762.76, 20.58,  52.,  52.),\n",
       "                  (12676., 20.,  86.18, 28439.16, 1004.84, 15763.16, 20.58,   1.,   1.),\n",
       "                  ( 6604., 20.,  25.46, 22367.56,  665.44, 15763.56, 20.58,   1.,   1.),\n",
       "                  (12568., 20.,  85.1 , 28331.56,  713.44, 15763.56, 20.58,  42.,  42.),\n",
       "                  (12676., 20.,  86.18, 28439.16,  703.84, 15763.16, 20.58,   1.,   1.)],\n",
       "                 dtype=[('qpu_sampling_time_us', '<f8'), ('qpu_anneal_time_per_sample_us', '<f8'), ('qpu_readout_time_per_sample_us', '<f8'), ('qpu_access_time_us', '<f8'), ('qpu_access_overhead_time_us', '<f8'), ('qpu_programming_time_us', '<f8'), ('qpu_delay_time_per_sample_us', '<f8'), ('post_processing_overhead_time_us', '<f8'), ('total_post_processing_time_us', '<f8')]), time_measurements=rec.array([(0.1927426, 0.0403536, 0.1067263),\n",
       "                  (0.2704518, 0.0572926, 0.0990749),\n",
       "                  (0.2010617, 0.023438 , 0.0311879),\n",
       "                  (0.1888339, 0.0238754, 0.0242108),\n",
       "                  (0.1680169, 0.0221937, 0.0240142),\n",
       "                  (0.2049869, 0.0189417, 0.0191996),\n",
       "                  (0.2080773, 0.022822 , 0.0211433),\n",
       "                  (0.2486001, 0.0380365, 0.0395588),\n",
       "                  (0.2001379, 0.0349341, 0.0292148),\n",
       "                  (0.1983228, 0.0185236, 0.0191101),\n",
       "                  (0.165343 , 0.0196683, 0.0189035),\n",
       "                  (0.2180186, 0.0354758, 0.0248792),\n",
       "                  (0.1907881, 0.0243038, 0.0374211),\n",
       "                  (0.197153 , 0.0207197, 0.0288301),\n",
       "                  (0.2116834, 0.0259022, 0.023669 ),\n",
       "                  (0.1870023, 0.0233997, 0.0216185),\n",
       "                  (0.1953844, 0.0230946, 0.0197689),\n",
       "                  (0.2071324, 0.022795 , 0.0248182),\n",
       "                  (0.2012502, 0.0204669, 0.0227078),\n",
       "                  (0.2050587, 0.0202596, 0.0205915),\n",
       "                  (0.5759899, 0.020659 , 0.0247847),\n",
       "                  (0.2580101, 0.0317884, 0.0240932),\n",
       "                  (0.25932  , 0.0310773, 0.0312047)],\n",
       "                 dtype=[('find_clique_embedding_time_s', '<f8'), ('fixed_embedding_composite_time_s', '<f8'), ('sample_func_time_s', '<f8')]))                                                                                                                                                                                                                                                                                                            ,\n",
       "       HierarchicalRunMetadata(dwave_sampleset_metadata=rec.array([(24068., 20., 200.1 , 39832.76,  983.24, 15764.76, 20.58,  44.,  44.),\n",
       "                  (13784., 20.,  97.26, 29548.76, 1292.24, 15764.76, 20.58,   1.,   1.),\n",
       "                  (20818., 20., 167.6 , 36580.36,  716.64, 15762.36, 20.58,  22.,  22.),\n",
       "                  (20410., 20., 163.52, 36172.36, 1084.64, 15762.36, 20.58,   1.,   1.),\n",
       "                  ( 8254., 20.,  41.96, 24017.56, 1544.44, 15763.56, 20.58,   1.,   1.),\n",
       "                  (20020., 20., 159.62, 35783.16,  784.84, 15763.16, 20.58, 284., 284.),\n",
       "                  (12456., 20.,  83.98, 28219.96,  660.04, 15763.96, 20.58,  74.,  74.),\n",
       "                  (20410., 20., 163.52, 36172.36, 1438.64, 15762.36, 20.58,  49.,  49.),\n",
       "                  (12676., 20.,  86.18, 28439.16,  959.84, 15763.16, 20.58,   1.,   1.),\n",
       "                  (10628., 20.,  65.7 , 26391.56, 1003.44, 15763.56, 20.58,   1.,   1.),\n",
       "                  (12456., 20.,  83.98, 28219.96,  912.04, 15763.96, 20.58,   1.,   1.),\n",
       "                  (17362., 20., 133.04, 33124.76, 1688.24, 15762.76, 20.58,  23.,  23.),\n",
       "                  (13444., 20.,  93.86, 29207.96,  654.04, 15763.96, 20.58,  25.,  25.),\n",
       "                  (19972., 20., 159.14, 35736.76,  749.24, 15764.76, 20.58, 153., 153.),\n",
       "                  (12660., 20.,  86.02, 28423.16,  986.84, 15763.16, 20.58,   1.,   1.),\n",
       "                  (12660., 20.,  86.02, 28423.96, 1028.04, 15763.96, 20.58,   1.,   1.),\n",
       "                  (12676., 20.,  86.18, 28439.16, 1066.84, 15763.16, 20.58,   1.,   1.),\n",
       "                  (20818., 20., 167.6 , 36580.36, 1382.64, 15762.36, 20.58,   1.,   1.),\n",
       "                  (12660., 20.,  86.02, 28423.56, 1573.44, 15763.56, 20.58,  30.,  30.),\n",
       "                  (12412., 20.,  83.54, 28175.96,  867.04, 15763.96, 20.58,   6.,   6.),\n",
       "                  (12412., 20.,  83.54, 28175.96,  751.04, 15763.96, 20.58,  17.,  17.),\n",
       "                  (19906., 20., 158.48, 35669.16,  811.84, 15763.16, 20.58,  67.,  67.)],\n",
       "                 dtype=[('qpu_sampling_time_us', '<f8'), ('qpu_anneal_time_per_sample_us', '<f8'), ('qpu_readout_time_per_sample_us', '<f8'), ('qpu_access_time_us', '<f8'), ('qpu_access_overhead_time_us', '<f8'), ('qpu_programming_time_us', '<f8'), ('qpu_delay_time_per_sample_us', '<f8'), ('post_processing_overhead_time_us', '<f8'), ('total_post_processing_time_us', '<f8')]), time_measurements=rec.array([(0.2221483, 0.0574175, 0.1299493),\n",
       "                  (0.2817107, 0.0434287, 0.0535439),\n",
       "                  (0.2217988, 0.0301659, 0.0333397),\n",
       "                  (0.2957374, 0.0252707, 0.0315289),\n",
       "                  (0.3024997, 0.0293857, 0.0287739),\n",
       "                  (0.2286969, 0.0252564, 0.0248892),\n",
       "                  (0.2795888, 0.0470828, 0.0270216),\n",
       "                  (0.2338551, 0.0218317, 0.0324556),\n",
       "                  (0.2252496, 0.0225183, 0.0230374),\n",
       "                  (0.1942752, 0.0214439, 0.0196328),\n",
       "                  (0.2195337, 0.021153 , 0.0187587),\n",
       "                  (0.2201842, 0.019089 , 0.0213912),\n",
       "                  (0.2397456, 0.0479501, 0.0583843),\n",
       "                  (0.271839 , 0.0352917, 1.3919355),\n",
       "                  (0.2202411, 0.0220387, 0.023664 ),\n",
       "                  (0.2220712, 0.0237389, 0.0190875),\n",
       "                  (0.2031049, 0.0244223, 0.022377 ),\n",
       "                  (0.2439868, 0.0297169, 0.0449665),\n",
       "                  (0.2354885, 0.0222359, 0.0208188),\n",
       "                  (0.2234161, 0.0260723, 0.0216494),\n",
       "                  (0.2171151, 0.0254446, 0.0216321),\n",
       "                  (0.2567546, 0.0197   , 0.0207185)],\n",
       "                 dtype=[('find_clique_embedding_time_s', '<f8'), ('fixed_embedding_composite_time_s', '<f8'), ('sample_func_time_s', '<f8')]))                                                                                                                                                                                                                                                                                                            ],\n",
       "      dtype=object)"
      ]
     },
     "execution_count": 14,
     "metadata": {},
     "output_type": "execute_result"
    }
   ],
   "source": [
    "sampleset_datas"
   ]
  },
  {
   "cell_type": "code",
   "execution_count": 15,
   "id": "5cff735a",
   "metadata": {},
   "outputs": [],
   "source": [
    "first_run = sampleset_datas[0]\n",
    "second_run = sampleset_datas[1]"
   ]
  },
  {
   "cell_type": "markdown",
   "id": "dd48051d",
   "metadata": {},
   "source": [
    "## Units"
   ]
  },
  {
   "cell_type": "markdown",
   "id": "f1a9273a",
   "metadata": {},
   "source": [
    "**Microseconds (us)** for DWave sampleset metadata (according to DWave docs 2025 https://docs.dwavequantum.com/en/latest/quantum_research/operation_timing.html#qpu-runtime-estimating):"
   ]
  },
  {
   "cell_type": "code",
   "execution_count": 19,
   "id": "afa2e8b8",
   "metadata": {},
   "outputs": [
    {
     "data": {
      "text/plain": [
       "('qpu_sampling_time_us',\n",
       " 'qpu_anneal_time_per_sample_us',\n",
       " 'qpu_readout_time_per_sample_us',\n",
       " 'qpu_access_time_us',\n",
       " 'qpu_access_overhead_time_us',\n",
       " 'qpu_programming_time_us',\n",
       " 'qpu_delay_time_per_sample_us',\n",
       " 'post_processing_overhead_time_us',\n",
       " 'total_post_processing_time_us')"
      ]
     },
     "execution_count": 19,
     "metadata": {},
     "output_type": "execute_result"
    }
   ],
   "source": [
    "first_run.dwave_sampleset_metadata.dtype.names"
   ]
  },
  {
   "cell_type": "markdown",
   "id": "b145dad4",
   "metadata": {},
   "source": [
    "**Seconds (s)** for custom (embedding and sample function) time measurements:"
   ]
  },
  {
   "cell_type": "code",
   "execution_count": 21,
   "id": "ab82f437",
   "metadata": {},
   "outputs": [
    {
     "data": {
      "text/plain": [
       "('find_clique_embedding_time_s',\n",
       " 'fixed_embedding_composite_time_s',\n",
       " 'sample_func_time_s')"
      ]
     },
     "execution_count": 21,
     "metadata": {},
     "output_type": "execute_result"
    }
   ],
   "source": [
    "first_run.time_measurements.dtype.names"
   ]
  },
  {
   "cell_type": "markdown",
   "id": "51e2c168",
   "metadata": {},
   "source": [
    "# Results structure"
   ]
  },
  {
   "cell_type": "markdown",
   "id": "63a50f8e",
   "metadata": {},
   "source": [
    "The `dwave_sampleset_metdata` field contains information taken from the `sampleset.info[\"timing\"]` field https://docs.dwavequantum.com/en/latest/quantum_research/operation_timing.html#qpu-runtime-estimating. \\\n",
    "The unit is **microseconds (us)**."
   ]
  },
  {
   "cell_type": "code",
   "execution_count": 22,
   "id": "547b7a2f",
   "metadata": {},
   "outputs": [
    {
     "data": {
      "text/plain": [
       "rec.array([(24068., 20., 200.1 , 39832.76, 1213.24, 15764.76, 20.58, 143., 143.),\n",
       "           (13716., 20.,  96.58, 29479.56, 1157.44, 15763.56, 20.58,  27.,  27.),\n",
       "           (20638., 20., 165.8 , 36400.36,  713.64, 15762.36, 20.58,  24.,  24.),\n",
       "           (12660., 20.,  86.02, 28423.56, 1396.44, 15763.56, 20.58,   1.,   1.),\n",
       "           (12412., 20.,  83.54, 28175.96, 1005.04, 15763.96, 20.58,  14.,  14.),\n",
       "           (12368., 20.,  83.1 , 28131.96,  767.04, 15763.96, 20.58,   1.,   1.),\n",
       "           (19750., 20., 156.92, 35513.16, 1403.84, 15763.16, 20.58,   1.,   1.),\n",
       "           (20638., 20., 165.8 , 36401.16, 1110.84, 15763.16, 20.58,  24.,  24.),\n",
       "           (14990., 20., 109.32, 30753.56, 1079.44, 15763.56, 20.58,   1.,   1.),\n",
       "           (12500., 20.,  84.42, 28263.16, 1099.84, 15763.16, 20.58,  16.,  16.),\n",
       "           (12368., 20.,  83.1 , 28131.96, 1185.04, 15763.96, 20.58,   1.,   1.),\n",
       "           (10628., 20.,  65.7 , 26391.56, 1573.44, 15763.56, 20.58,   1.,   1.),\n",
       "           (14990., 20., 109.32, 30753.16,  876.84, 15763.16, 20.58,   1.,   1.),\n",
       "           ( 6604., 20.,  25.46, 22367.56, 1024.44, 15763.56, 20.58,  28.,  28.),\n",
       "           (12676., 20.,  86.18, 28439.16,  870.84, 15763.16, 20.58,  25.,  25.),\n",
       "           (13444., 20.,  93.86, 29207.56, 1114.44, 15763.56, 20.58,  17.,  17.),\n",
       "           (19972., 20., 159.14, 35734.76, 1457.24, 15762.76, 20.58,   1.,   1.),\n",
       "           (17362., 20., 133.04, 33125.56,  944.44, 15763.56, 20.58,   1.,   1.),\n",
       "           (12500., 20.,  84.42, 28263.96, 1291.04, 15763.96, 20.58,  23.,  23.),\n",
       "           (12456., 20.,  83.98, 28219.96, 1138.04, 15763.96, 20.58,  31.,  31.),\n",
       "           (12660., 20.,  86.02, 28423.96, 1359.04, 15763.96, 20.58,   1.,   1.),\n",
       "           (20818., 20., 167.6 , 36580.76, 1396.24, 15762.76, 20.58,   1.,   1.),\n",
       "           (19972., 20., 159.14, 35735.16,  883.84, 15763.16, 20.58,   1.,   1.),\n",
       "           (19906., 20., 158.48, 35669.56, 1225.44, 15763.56, 20.58,  44.,  44.),\n",
       "           ( 8254., 20.,  41.96, 24017.56, 1348.44, 15763.56, 20.58,  37.,  37.),\n",
       "           (10628., 20.,  65.7 , 26391.56, 1079.44, 15763.56, 20.58,  40.,  40.)],\n",
       "          dtype=[('qpu_sampling_time_us', '<f8'), ('qpu_anneal_time_per_sample_us', '<f8'), ('qpu_readout_time_per_sample_us', '<f8'), ('qpu_access_time_us', '<f8'), ('qpu_access_overhead_time_us', '<f8'), ('qpu_programming_time_us', '<f8'), ('qpu_delay_time_per_sample_us', '<f8'), ('post_processing_overhead_time_us', '<f8'), ('total_post_processing_time_us', '<f8')])"
      ]
     },
     "execution_count": 22,
     "metadata": {},
     "output_type": "execute_result"
    }
   ],
   "source": [
    "# DWave metadata extracted from the DWave \"sampleset\" result\n",
    "first_run.dwave_sampleset_metadata"
   ]
  },
  {
   "cell_type": "markdown",
   "id": "be4fd57c",
   "metadata": {},
   "source": [
    "The `time_measurements` field contains custom measurements we performed ourselves:\n",
    "- `find_embedding_time_s` / `find_clique_embedding_time_s` - times of `find_embedding` and `find_clique_embedding` function calls\n",
    "- `fixed_embedding_composite_time_s` - time of the object creation of FixedEmbeddingComposite - constant, quick, just for check\n",
    "- `sample_func_time_s` - **solver communication time** - connection with the solver through the server"
   ]
  },
  {
   "cell_type": "code",
   "execution_count": 23,
   "id": "6a1803ff",
   "metadata": {},
   "outputs": [
    {
     "data": {
      "text/plain": [
       "rec.array([(0.1443974, 0.0266175, 0.0993715),\n",
       "           (0.1976067, 0.0579474, 0.1170795),\n",
       "           (0.2738496, 0.0315305, 0.0371049),\n",
       "           (0.1527682, 0.3362851, 0.0256194),\n",
       "           (0.2194602, 0.026862 , 0.0324044),\n",
       "           (0.1354249, 0.0190736, 0.0227821),\n",
       "           (0.1401513, 0.0208511, 0.0264425),\n",
       "           (0.1295765, 0.0191886, 0.0270775),\n",
       "           (0.1489702, 0.0188629, 0.025963 ),\n",
       "           (0.1450176, 0.0212618, 0.0281077),\n",
       "           (0.1715421, 0.0272723, 0.030255 ),\n",
       "           (0.1328004, 0.0162293, 0.0217005),\n",
       "           (0.1606691, 0.0175149, 0.0205587),\n",
       "           (0.1528668, 0.0188718, 0.0186495),\n",
       "           (0.4672844, 0.0181635, 0.0247536),\n",
       "           (0.4297156, 0.0223982, 0.044612 ),\n",
       "           (0.1381327, 0.0170944, 0.0231487),\n",
       "           (0.1936378, 0.0246094, 0.0293207),\n",
       "           (0.2972434, 0.0373561, 0.0315045),\n",
       "           (0.2148153, 0.025039 , 0.0244474),\n",
       "           (0.1903241, 0.0308372, 0.0220878),\n",
       "           (0.1645188, 0.0301108, 0.0293935),\n",
       "           (0.1750687, 0.0160645, 0.0239471),\n",
       "           (0.1620842, 0.0365852, 0.0259552),\n",
       "           (0.1553091, 0.0224657, 0.021882 ),\n",
       "           (0.216386 , 0.0300109, 0.0244209)],\n",
       "          dtype=[('find_clique_embedding_time_s', '<f8'), ('fixed_embedding_composite_time_s', '<f8'), ('sample_func_time_s', '<f8')])"
      ]
     },
     "execution_count": 23,
     "metadata": {},
     "output_type": "execute_result"
    }
   ],
   "source": [
    "# The times we have explicitly measured in the code\n",
    "first_run.time_measurements"
   ]
  },
  {
   "cell_type": "markdown",
   "id": "8bc339b1",
   "metadata": {},
   "source": [
    "# QPU access times"
   ]
  },
  {
   "cell_type": "markdown",
   "id": "45ac44fd",
   "metadata": {},
   "source": [
    "Each record contains subdivion (subproblem recursive divisions) times of the whole hierarchical run. \\\n",
    "These times unordered! - they do not necessarily reflect the order of subdivision on each recursion level - TODO \\\n",
    "However the first one reflects the time (qpu_access_time_us in this example) of the very first binary division - of the whole problem."
   ]
  },
  {
   "cell_type": "code",
   "execution_count": 25,
   "id": "b970913e",
   "metadata": {},
   "outputs": [
    {
     "data": {
      "text/plain": [
       "array([39832.76, 29479.56, 36400.36, 28423.56, 28175.96, 28131.96,\n",
       "       35513.16, 36401.16, 30753.56, 28263.16, 28131.96, 26391.56,\n",
       "       30753.16, 22367.56, 28439.16, 29207.56, 35734.76, 33125.56,\n",
       "       28263.96, 28219.96, 28423.96, 36580.76, 35735.16, 35669.56,\n",
       "       24017.56, 26391.56])"
      ]
     },
     "execution_count": 25,
     "metadata": {},
     "output_type": "execute_result"
    }
   ],
   "source": [
    "first_run.dwave_sampleset_metadata.qpu_access_time_us"
   ]
  },
  {
   "cell_type": "markdown",
   "id": "53670075",
   "metadata": {},
   "source": [
    "### Qpu access times in the 1st hierarchical community search run"
   ]
  },
  {
   "cell_type": "code",
   "execution_count": 26,
   "id": "55eb940d",
   "metadata": {},
   "outputs": [
    {
     "name": "stdout",
     "output_type": "stream",
     "text": [
      "QPU access time in the first run: 798828.96 microseconds == 0.7988 seconds\n"
     ]
    }
   ],
   "source": [
    "# sum of subproblems (subdivisions) times in the first run\n",
    "first_run_qpu_access_time = first_run.dwave_sampleset_metadata.qpu_access_time_us.sum()\n",
    "print(f\"QPU access time in the first run: {first_run_qpu_access_time:.2f} microseconds == {first_run_qpu_access_time / 1e6:.4f} seconds\")"
   ]
  },
  {
   "cell_type": "markdown",
   "id": "8e20683b",
   "metadata": {},
   "source": [
    "# Getting the embedding from cache \n",
    "Calling the `find_clique_embedding` function time - \"getting\" the embeddings for subproblems from cache"
   ]
  },
  {
   "cell_type": "code",
   "execution_count": 65,
   "id": "148658f6",
   "metadata": {},
   "outputs": [
    {
     "data": {
      "text/plain": [
       "array([0.1443974, 0.1976067, 0.2738496, 0.1527682, 0.2194602, 0.1354249,\n",
       "       0.1401513, 0.1295765, 0.1489702, 0.1450176, 0.1715421, 0.1328004,\n",
       "       0.1606691, 0.1528668, 0.4672844, 0.4297156, 0.1381327, 0.1936378,\n",
       "       0.2972434, 0.2148153, 0.1903241, 0.1645188, 0.1750687, 0.1620842,\n",
       "       0.1553091, 0.216386 ])"
      ]
     },
     "execution_count": 65,
     "metadata": {},
     "output_type": "execute_result"
    }
   ],
   "source": [
    "# .find_clique_embedding() function time for subdivisions in the first hierarchical run\n",
    "first_run.time_measurements.find_clique_embedding_time_s"
   ]
  },
  {
   "cell_type": "markdown",
   "id": "4a5803bb",
   "metadata": {},
   "source": [
    "`sample` function time - communication with the solver"
   ]
  },
  {
   "cell_type": "code",
   "execution_count": null,
   "id": "06e5a209",
   "metadata": {},
   "outputs": [
    {
     "data": {
      "text/plain": [
       "array([0.0993715, 0.1170795, 0.0371049, 0.0256194, 0.0324044, 0.0227821,\n",
       "       0.0264425, 0.0270775, 0.025963 , 0.0281077, 0.030255 , 0.0217005,\n",
       "       0.0205587, 0.0186495, 0.0247536, 0.044612 , 0.0231487, 0.0293207,\n",
       "       0.0315045, 0.0244474, 0.0220878, 0.0293935, 0.0239471, 0.0259552,\n",
       "       0.021882 , 0.0244209])"
      ]
     },
     "execution_count": 63,
     "metadata": {},
     "output_type": "execute_result"
    }
   ],
   "source": [
    "# .sample() function time for subdivisions in the first hierarchical run\n",
    "first_run.time_measurements.sample_func_time_s"
   ]
  },
  {
   "cell_type": "markdown",
   "id": "924fa5d9",
   "metadata": {},
   "source": [
    "### Obtaining the embeddings time from cache for the whole community search run"
   ]
  },
  {
   "cell_type": "code",
   "execution_count": 32,
   "id": "8c51df86",
   "metadata": {},
   "outputs": [
    {
     "name": "stdout",
     "output_type": "stream",
     "text": [
      "Time of taking embeddings from cache in the first run: 5.11 seconds\n",
      "With clique embedding, sampling is fast: 0.86 seconds\n"
     ]
    }
   ],
   "source": [
    "first_run_cl_emb_cache_taking = first_run.time_measurements.find_clique_embedding_time_s.sum()\n",
    "print(f\"Time of taking embeddings from cache in the first run: {first_run_cl_emb_cache_taking:.2f} seconds\")\n",
    "print(f\"With clique embedding, sampling is fast: {first_run.time_measurements.sample_func_time_s.sum():.2f} seconds\")"
   ]
  },
  {
   "cell_type": "markdown",
   "id": "0f8519ba",
   "metadata": {},
   "source": [
    "# QPU times comparison iterative hierarchical search runs"
   ]
  },
  {
   "cell_type": "code",
   "execution_count": 33,
   "id": "682dd845",
   "metadata": {},
   "outputs": [
    {
     "name": "stdout",
     "output_type": "stream",
     "text": [
      "Mean of QPU access times from 5 runs: 725220.42 microseconds\n",
      "STD of QPU access times from 5 runs: 37871.30 microseconds\n"
     ]
    },
    {
     "data": {
      "text/plain": [
       "array([798828.96, 709913.88, 713414.28, 714186.28, 689758.72])"
      ]
     },
     "execution_count": 33,
     "metadata": {},
     "output_type": "execute_result"
    }
   ],
   "source": [
    "qpu_access_times_per_hierarachical_run = np.array([run.dwave_sampleset_metadata.qpu_access_time_us.sum() for run in sampleset_datas])\n",
    "print(f\"Mean of QPU access times from 5 runs: {qpu_access_times_per_hierarachical_run.mean():.2f} microseconds\")\n",
    "print(f\"STD of QPU access times from 5 runs: {qpu_access_times_per_hierarachical_run.std():.2f} microseconds\")\n",
    "qpu_access_times_per_hierarachical_run"
   ]
  },
  {
   "cell_type": "code",
   "execution_count": 34,
   "id": "a0d61aec",
   "metadata": {},
   "outputs": [
    {
     "data": {
      "text/plain": [
       "[14, 12, 12, 12, 12]"
      ]
     },
     "execution_count": 34,
     "metadata": {},
     "output_type": "execute_result"
    }
   ],
   "source": [
    "no_communities_in_runs = [len(communities) for communities in communities]\n",
    "no_communities_in_runs"
   ]
  },
  {
   "cell_type": "code",
   "execution_count": 35,
   "id": "2b424684",
   "metadata": {},
   "outputs": [
    {
     "data": {
      "image/png": "[encoded data removed]",
      "text/plain": [
       "<Figure size 500x300 with 1 Axes>"
      ]
     },
     "metadata": {},
     "output_type": "display_data"
    }
   ],
   "source": [
    "import matplotlib.pyplot as plt\n",
    "\n",
    "\n",
    "fig, ax = plt.subplots(figsize=(5, 3))\n",
    "ax.scatter(no_communities_in_runs, qpu_access_times_per_hierarachical_run);\n",
    "ax.set_xlabel(\"Number of communities detected\");\n",
    "ax.set_ylabel(\"QPU access time (microseconds)\");\n",
    "plt.title(\"More communities detected, higher summary qpu_access_time\", fontsize=10);"
   ]
  },
  {
   "cell_type": "code",
   "execution_count": 37,
   "id": "0aa2fcac",
   "metadata": {},
   "outputs": [
    {
     "data": {
      "image/png": "[encoded data removed]",
      "text/plain": [
       "<Figure size 640x480 with 1 Axes>"
      ]
     },
     "metadata": {},
     "output_type": "display_data"
    }
   ],
   "source": [
    "qpu_access_times_first_divisions = [run.dwave_sampleset_metadata.qpu_access_time_us[0] for run in sampleset_datas]\n",
    "qpu_access_times_first_divisions\n",
    "\n",
    "plt.plot(qpu_access_times_first_divisions, marker=\"o\")\n",
    "plt.title(\"QPU access time of the first division (whole network division into two) in each run \\n looks stable (as expected) but the last one\", fontsize=10);"
   ]
  },
  {
   "cell_type": "markdown",
   "id": "68a97e74",
   "metadata": {},
   "source": [
    "### Heuristic"
   ]
  },
  {
   "cell_type": "code",
   "execution_count": 38,
   "id": "955cba29",
   "metadata": {},
   "outputs": [],
   "source": [
    "advantage = AdvantageSampler(\n",
    "    G, num_reads=num_reads, version=version, region=region, use_clique_embedding=False, elapse_times=True, return_sampleset_metadata=True\n",
    ")"
   ]
  },
  {
   "cell_type": "code",
   "execution_count": 39,
   "id": "79d4ea41",
   "metadata": {},
   "outputs": [],
   "source": [
    "iterative_searcher = IterativeSearcher(advantage)"
   ]
  },
  {
   "cell_type": "code",
   "execution_count": 40,
   "id": "529fcb0f",
   "metadata": {},
   "outputs": [],
   "source": [
    "os.makedirs(f\"{test_dir}/heuristic\", exist_ok=True)"
   ]
  },
  {
   "cell_type": "code",
   "execution_count": 41,
   "id": "68524cfb",
   "metadata": {},
   "outputs": [
    {
     "name": "stdout",
     "output_type": "stream",
     "text": [
      "Starting community detection iterations\n"
     ]
    },
    {
     "name": "stderr",
     "output_type": "stream",
     "text": [
      " 20%|██        | 1/5 [07:26<29:45, 446.26s/it]"
     ]
    },
    {
     "name": "stdout",
     "output_type": "stream",
     "text": [
      "Iteration 0 completed\n"
     ]
    },
    {
     "name": "stderr",
     "output_type": "stream",
     "text": [
      " 40%|████      | 2/5 [12:48<18:40, 373.35s/it]"
     ]
    },
    {
     "name": "stdout",
     "output_type": "stream",
     "text": [
      "Iteration 1 completed\n"
     ]
    },
    {
     "name": "stderr",
     "output_type": "stream",
     "text": [
      " 60%|██████    | 3/5 [21:20<14:32, 436.44s/it]"
     ]
    },
    {
     "name": "stdout",
     "output_type": "stream",
     "text": [
      "Iteration 2 completed\n"
     ]
    },
    {
     "name": "stderr",
     "output_type": "stream",
     "text": [
      " 80%|████████  | 4/5 [24:25<05:37, 337.39s/it]"
     ]
    },
    {
     "name": "stdout",
     "output_type": "stream",
     "text": [
      "Iteration 3 completed\n"
     ]
    },
    {
     "name": "stderr",
     "output_type": "stream",
     "text": [
      "100%|██████████| 5/5 [34:27<00:00, 413.59s/it]"
     ]
    },
    {
     "name": "stdout",
     "output_type": "stream",
     "text": [
      "Iteration 4 completed\n"
     ]
    },
    {
     "name": "stderr",
     "output_type": "stream",
     "text": [
      "\n"
     ]
    }
   ],
   "source": [
    "res_heu = iterative_searcher.run_with_sampleset_info(\n",
    "    num_runs=5,\n",
    "    save_results=True,\n",
    "    saving_path=f\"{test_dir}/heuristic/adv_heuristic\",\n",
    "    iterative_verbosity=1,\n",
    "    return_sampleset_metadata=True,\n",
    ")"
   ]
  },
  {
   "cell_type": "code",
   "execution_count": 42,
   "id": "8e8b34b1",
   "metadata": {},
   "outputs": [],
   "source": [
    "communities_heu, modularities_heu, times_heu, division_trees_heu, division_modularities_heu, sampleset_datas_heu = res_heu.communities, res_heu.modularity, res_heu.time, res_heu.division_tree, res_heu.division_modularities, res_heu.samplesets_data"
   ]
  },
  {
   "cell_type": "markdown",
   "id": "f45f8a80",
   "metadata": {},
   "source": [
    "`find_embedding` - heuristic embedding time"
   ]
  },
  {
   "cell_type": "code",
   "execution_count": 54,
   "id": "679e1092",
   "metadata": {},
   "outputs": [
    {
     "data": {
      "text/plain": [
       "array([180.3938653,  18.6414687,   2.0937769,   1.3365376,   0.212603 ,\n",
       "         0.8925314,   0.2529952,   1.0206537,   0.260631 ,   0.224771 ,\n",
       "         0.2351557,   0.3418358,  11.4603253,   1.939379 ,   0.3559219,\n",
       "         0.3140257,   0.3786017,   1.4273488,   0.2729576,   0.2385284,\n",
       "         0.366778 ,   0.5525911])"
      ]
     },
     "execution_count": 54,
     "metadata": {},
     "output_type": "execute_result"
    }
   ],
   "source": [
    "# find_embedding times for subdivisions in the first hierarchical run\n",
    "first_run = sampleset_datas_heu[0]\n",
    "first_run.time_measurements.find_heuristic_embedding_time_s"
   ]
  },
  {
   "cell_type": "markdown",
   "id": "1309fa72",
   "metadata": {},
   "source": [
    "`sample` function - communication with the solver"
   ]
  },
  {
   "cell_type": "code",
   "execution_count": 56,
   "id": "12742aff",
   "metadata": {},
   "outputs": [
    {
     "data": {
      "text/plain": [
       "array([0.1636481, 0.0431659, 0.0289183, 0.0279749, 0.0173655, 0.0258077,\n",
       "       0.0220367, 0.027769 , 0.0193952, 0.0207995, 0.0238114, 0.0202728,\n",
       "       0.0563187, 0.0270137, 0.0230981, 0.0201787, 0.0190755, 0.0271363,\n",
       "       0.023578 , 0.0182567, 0.0402263, 0.0308277])"
      ]
     },
     "execution_count": 56,
     "metadata": {},
     "output_type": "execute_result"
    }
   ],
   "source": [
    "first_run = sampleset_datas_heu[0]\n",
    "first_run.time_measurements.sample_func_time_s"
   ]
  },
  {
   "cell_type": "markdown",
   "id": "396015bd",
   "metadata": {},
   "source": [
    "Results heuristic embedding qpu_access_time"
   ]
  },
  {
   "cell_type": "code",
   "execution_count": 44,
   "id": "1f89040f",
   "metadata": {},
   "outputs": [
    {
     "data": {
      "text/plain": [
       "array([38002.76, 32587.16, 27372.76, 25192.36, 24209.96, 24630.76,\n",
       "       26503.56, 27692.36, 30662.36, 25495.96, 26767.96, 25691.96,\n",
       "       27411.96, 27394.76, 29082.76, 34311.96, 24251.96, 23491.96,\n",
       "       26910.36, 31259.96, 25163.96, 29028.36, 23139.96, 26447.96])"
      ]
     },
     "execution_count": 44,
     "metadata": {},
     "output_type": "execute_result"
    }
   ],
   "source": [
    "it_searcher_iteration_to_consider = 2\n",
    "\n",
    "res_heu.samplesets_data[it_searcher_iteration_to_consider].dwave_sampleset_metadata.qpu_access_time_us"
   ]
  },
  {
   "cell_type": "code",
   "execution_count": 45,
   "id": "42ceafba",
   "metadata": {},
   "outputs": [
    {
     "name": "stdout",
     "output_type": "stream",
     "text": [
      "Total QPU access time for the iteration: 2: 662705.84 microseconds == 0.6627 seconds\n"
     ]
    }
   ],
   "source": [
    "total_qpu_time_iteration_i = res_heu.samplesets_data[it_searcher_iteration_to_consider].dwave_sampleset_metadata.qpu_access_time_us.sum()\n",
    "print(f\"Total QPU access time for the iteration: {it_searcher_iteration_to_consider}: {total_qpu_time_iteration_i:.2f} microseconds == {total_qpu_time_iteration_i / 1e6:.4f} seconds\")"
   ]
  },
  {
   "cell_type": "code",
   "execution_count": 46,
   "id": "e3d66616",
   "metadata": {},
   "outputs": [
    {
     "data": {
      "text/plain": [
       "[612521.12, 661713.04, 662705.84, 535441.24, 620261.9199999999]"
      ]
     },
     "execution_count": 46,
     "metadata": {},
     "output_type": "execute_result"
    }
   ],
   "source": [
    "qpu_access_times_from_5_hierarchical_runs_heu_emb = [run.samplesets_data.dwave_sampleset_metadata.qpu_access_time_us.sum() for run in res_heu]\n",
    "qpu_access_times_from_5_hierarchical_runs_heu_emb"
   ]
  },
  {
   "cell_type": "code",
   "execution_count": 47,
   "id": "f91d10b2",
   "metadata": {},
   "outputs": [
    {
     "data": {
      "text/plain": [
       "[612521.12, 661713.04, 662705.84, 535441.24, 620261.9199999999]"
      ]
     },
     "execution_count": 47,
     "metadata": {},
     "output_type": "execute_result"
    }
   ],
   "source": [
    "qpu_access_times_from_5_hierarchical_runs_heu_emb"
   ]
  },
  {
   "cell_type": "markdown",
   "id": "4156ded7",
   "metadata": {},
   "source": [
    "Let's compare them against clique embedding times"
   ]
  },
  {
   "cell_type": "code",
   "execution_count": 49,
   "id": "2701bc87",
   "metadata": {},
   "outputs": [
    {
     "data": {
      "text/plain": [
       "[798828.9600000001,\n",
       " 709913.8799999999,\n",
       " 713414.2800000003,\n",
       " 714186.2800000003,\n",
       " 689758.72]"
      ]
     },
     "execution_count": 49,
     "metadata": {},
     "output_type": "execute_result"
    }
   ],
   "source": [
    "# previous runs with clique embedding from top of this notebook\n",
    "samplesets_metadata_cl_emb_5_runs = np.load(f\"{test_dir}/advantage_clique_samplesets_data.pkl\", allow_pickle=True)\n",
    "qpu_access_times_from_5_hierarchical_runs_cl_emb = [run.dwave_sampleset_metadata.qpu_access_time_us.sum() for run in samplesets_metadata_cl_emb_5_runs]\n",
    "qpu_access_times_from_5_hierarchical_runs_cl_emb"
   ]
  },
  {
   "cell_type": "code",
   "execution_count": 50,
   "id": "2352ee07",
   "metadata": {},
   "outputs": [
    {
     "data": {
      "image/png": "[encoded data removed]",
      "text/plain": [
       "<Figure size 640x480 with 1 Axes>"
      ]
     },
     "metadata": {},
     "output_type": "display_data"
    }
   ],
   "source": [
    "plt.plot(qpu_access_times_from_5_hierarchical_runs_heu_emb, marker=\"o\", label=\"Heuristic embedding\")\n",
    "plt.plot(qpu_access_times_from_5_hierarchical_runs_cl_emb, marker=\"o\", label=\"Clique embedding\")\n",
    "plt.legend()\n",
    "plt.xlabel(\"Hierarchical search number (iteration)\");\n",
    "plt.ylabel(\"QPU access time (microseconds) of a given run\");\n",
    "plt.title(\"QPU access times in 5 runs of community search with Advantage heuristic embedding vs. clique embedding\");"
   ]
  }
 ],
 "metadata": {
  "kernelspec": {
   "display_name": "qomm_env",
   "language": "python",
   "name": "python3"
  },
  "language_info": {
   "codemirror_mode": {
    "name": "ipython",
    "version": 3
   },
   "file_extension": ".py",
   "mimetype": "text/x-python",
   "name": "python",
   "nbconvert_exporter": "python",
   "pygments_lexer": "ipython3",
   "version": "3.10.14"
  }
 },
 "nbformat": 4,
 "nbformat_minor": 5
}
