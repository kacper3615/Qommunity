{
 "cells": [
  {
   "cell_type": "code",
   "execution_count": 1,
   "id": "6faf1a22",
   "metadata": {},
   "outputs": [],
   "source": [
    "import numpy as np\n",
    "import networkx as nx\n",
    "import matplotlib.pyplot as plt\n",
    "\n",
    "from Qommunity.samplers.hierarchical.advantage_sampler import AdvantageSampler\n",
    "from Qommunity.searchers.hierarchical_searcher import HierarchicalSearcher\n",
    "from Qommunity.iterative_searcher import IterativeSearcher"
   ]
  },
  {
   "cell_type": "markdown",
   "id": "654446d8",
   "metadata": {},
   "source": [
    "## Please use it with QHyper basiav/sampleset_info_extraction branch\n",
    "https://github.com/qc-lab/QHyper/tree/basiav/sampleset_info_extraction"
   ]
  },
  {
   "cell_type": "code",
   "execution_count": 2,
   "id": "6f6a54f6",
   "metadata": {},
   "outputs": [],
   "source": [
    "import os\n",
    "\n",
    "\n",
    "test_dir = \"test\"\n",
    "os.makedirs(test_dir, exist_ok=True)"
   ]
  },
  {
   "cell_type": "code",
   "execution_count": 3,
   "id": "355ce839",
   "metadata": {},
   "outputs": [
    {
     "name": "stdout",
     "output_type": "stream",
     "text": [
      "Graph loaded from test/graph_powerlaw_n=100_m=1_p=0.1.npy.\n"
     ]
    }
   ],
   "source": [
    "n = 100\n",
    "m = 1\n",
    "p=0.1\n",
    "\n",
    "graph_powerlaw_100_path = f\"{test_dir}/graph_powerlaw_n={n}_m={m}_p={p}.npy\"\n",
    "try:\n",
    "    G = np.load(graph_powerlaw_100_path, allow_pickle=True)[0]\n",
    "    print(f\"Graph loaded from {graph_powerlaw_100_path}.\")\n",
    "except Exception as e:\n",
    "    print(f\"Could not load graph from {graph_powerlaw_100_path}. Generating a new one.\")\n",
    "    G = nx.powerlaw_cluster_graph(n=n, m=m, p=p)\n",
    "    G_arr = np.empty((1,), dtype=object)\n",
    "    G_arr[0] = G\n",
    "    np.save(graph_powerlaw_100_path, G_arr)\n",
    "    print(f\"Graph saved to {graph_powerlaw_100_path}.\")"
   ]
  },
  {
   "cell_type": "markdown",
   "id": "22f9156a",
   "metadata": {},
   "source": [
    "## Usage"
   ]
  },
  {
   "cell_type": "markdown",
   "id": "4c5b6c56",
   "metadata": {},
   "source": [
    "#### 1. For the `AdvantageSampler`, set `return_metadata=True` and `elapse times=True`"
   ]
  },
  {
   "cell_type": "code",
   "execution_count": 44,
   "id": "5b0a7d5d",
   "metadata": {},
   "outputs": [],
   "source": [
    "num_reads = 100\n",
    "version = \"\"\n",
    "region = \"na-west-1\"\n",
    "\n",
    "advantage = AdvantageSampler(\n",
    "    G, num_reads=num_reads, version=version, region=region, use_clique_embedding=True, elapse_times=True, return_metadata=True\n",
    ")"
   ]
  },
  {
   "cell_type": "code",
   "execution_count": 45,
   "id": "ce0a356b",
   "metadata": {},
   "outputs": [],
   "source": [
    "iterative_searcher = IterativeSearcher(sampler=advantage)"
   ]
  },
  {
   "cell_type": "markdown",
   "id": "14bc4f03",
   "metadata": {},
   "source": [
    "Quick reminder of IterativeSearcher's usage we have practiced so far for full hierarchical runs info:"
   ]
  },
  {
   "cell_type": "code",
   "execution_count": 47,
   "id": "e3cea177",
   "metadata": {},
   "outputs": [
    {
     "name": "stdout",
     "output_type": "stream",
     "text": [
      "Starting community detection iterations\n"
     ]
    },
    {
     "name": "stderr",
     "output_type": "stream",
     "text": [
      "100%|██████████| 1/1 [02:32<00:00, 152.20s/it]"
     ]
    },
    {
     "name": "stdout",
     "output_type": "stream",
     "text": [
      "Iteration 0 completed\n"
     ]
    },
    {
     "name": "stderr",
     "output_type": "stream",
     "text": [
      "\n"
     ]
    }
   ],
   "source": [
    "res_like_before = iterative_searcher.run_with_sampleset_info(\n",
    "    num_runs=1,\n",
    "    save_results=False,\n",
    "    iterative_verbosity=1,\n",
    "    return_metadata=False\n",
    ")"
   ]
  },
  {
   "cell_type": "code",
   "execution_count": 48,
   "id": "be76f93d",
   "metadata": {},
   "outputs": [],
   "source": [
    "res = res_like_before\n",
    "communities, modularities, times, division_trees, division_modularities = res.communities, res.modularity, res.time, res.division_tree, res.division_modularities"
   ]
  },
  {
   "cell_type": "markdown",
   "id": "3f1fef5f",
   "metadata": {},
   "source": [
    "### 2. Set `return_metadata=True` to `ItearativeSearcher`'s run method"
   ]
  },
  {
   "cell_type": "code",
   "execution_count": 50,
   "id": "b2d79efe",
   "metadata": {},
   "outputs": [],
   "source": [
    "dir_adv_clique = f\"{test_dir}/advantage_clique\"\n",
    "os.makedirs(dir_adv_clique, exist_ok=True)"
   ]
  },
  {
   "cell_type": "code",
   "execution_count": 73,
   "id": "5fa48d56",
   "metadata": {},
   "outputs": [
    {
     "name": "stdout",
     "output_type": "stream",
     "text": [
      "Starting community detection iterations\n"
     ]
    },
    {
     "name": "stderr",
     "output_type": "stream",
     "text": [
      " 20%|██        | 1/5 [04:09<16:39, 249.93s/it]"
     ]
    },
    {
     "name": "stdout",
     "output_type": "stream",
     "text": [
      "Iteration 0 completed\n"
     ]
    },
    {
     "name": "stderr",
     "output_type": "stream",
     "text": [
      " 40%|████      | 2/5 [08:39<13:04, 261.50s/it]"
     ]
    },
    {
     "name": "stdout",
     "output_type": "stream",
     "text": [
      "Iteration 1 completed\n"
     ]
    },
    {
     "name": "stderr",
     "output_type": "stream",
     "text": [
      " 60%|██████    | 3/5 [11:38<07:27, 223.93s/it]"
     ]
    },
    {
     "name": "stdout",
     "output_type": "stream",
     "text": [
      "Iteration 2 completed\n"
     ]
    },
    {
     "name": "stderr",
     "output_type": "stream",
     "text": [
      " 80%|████████  | 4/5 [16:48<04:17, 257.97s/it]"
     ]
    },
    {
     "name": "stdout",
     "output_type": "stream",
     "text": [
      "Iteration 3 completed\n"
     ]
    },
    {
     "name": "stderr",
     "output_type": "stream",
     "text": [
      "100%|██████████| 5/5 [19:01<00:00, 228.33s/it]"
     ]
    },
    {
     "name": "stdout",
     "output_type": "stream",
     "text": [
      "Iteration 4 completed\n"
     ]
    },
    {
     "name": "stderr",
     "output_type": "stream",
     "text": [
      "\n"
     ]
    }
   ],
   "source": [
    "res = iterative_searcher.run_with_sampleset_info(\n",
    "    num_runs=5,\n",
    "    save_results=True,\n",
    "    saving_path=dir_adv_clique,\n",
    "    iterative_verbosity=1,\n",
    "    return_metadata=True,\n",
    ")"
   ]
  },
  {
   "cell_type": "code",
   "execution_count": 74,
   "id": "d5cddf69",
   "metadata": {},
   "outputs": [],
   "source": [
    "communities, modularities, times, division_trees, division_modularities, sampleset_datas = res.communities, res.modularity, res.time, res.division_tree, res.division_modularities, res.samplesets_data"
   ]
  },
  {
   "cell_type": "markdown",
   "id": "7e407be7",
   "metadata": {},
   "source": [
    "## Sampleset data interpretation"
   ]
  },
  {
   "cell_type": "code",
   "execution_count": 75,
   "id": "165f5ffd",
   "metadata": {},
   "outputs": [
    {
     "name": "stdout",
     "output_type": "stream",
     "text": [
      "Data from 5 iteartive runs\n",
      "Number of Problem (QUBO) forumulations in the first run: 21\n",
      "Number of Problem (QUBO) forumulations in the second run: 22\n"
     ]
    }
   ],
   "source": [
    "# Shape interpretation\n",
    "print(f\"Data from {len(sampleset_datas)} iteartive runs\")\n",
    "print(f\"Number of Problem (QUBO) forumulations in the first run: {len(sampleset_datas[0].dwave_sampleset_metadata)}\")\n",
    "print(f\"Number of Problem (QUBO) forumulations in the second run: {len(sampleset_datas[1].dwave_sampleset_metadata)}\")\n",
    "assert len(sampleset_datas[0].dwave_sampleset_metadata) == len(sampleset_datas[0].time_measurements)\n",
    "assert len(sampleset_datas[1].dwave_sampleset_metadata) == len(sampleset_datas[1].time_measurements)"
   ]
  },
  {
   "cell_type": "code",
   "execution_count": 76,
   "id": "15504907",
   "metadata": {},
   "outputs": [
    {
     "data": {
      "text/plain": [
       "array([HierarchicalRunMetadata(dwave_sampleset_metadata=rec.array([(24068., 20., 200.1 , 39831.96, 2004.04, 15763.96, 20.58, 44., 44.),\n",
       "                  (13716., 20.,  96.58, 29478.36, 1773.64, 15762.36, 20.58,  1.,  1.),\n",
       "                  (20584., 20., 165.26, 36345.96, 1762.04, 15761.96, 20.58,  1.,  1.),\n",
       "                  (12676., 20.,  86.18, 28438.36, 1283.64, 15762.36, 20.58, 19., 19.),\n",
       "                  (12368., 20.,  83.1 , 28131.16, 1612.84, 15763.16, 20.58,  1.,  1.),\n",
       "                  (12412., 20.,  83.54, 28174.76, 1118.24, 15762.76, 20.58,  1.,  1.),\n",
       "                  (20410., 20., 163.52, 36172.36, 1432.64, 15762.36, 20.58, 12., 12.),\n",
       "                  ( 8254., 20.,  41.96, 24016.36, 1284.64, 15762.36, 20.58, 20., 20.),\n",
       "                  (19996., 20., 159.38, 35758.36, 1059.64, 15762.36, 20.58, 33., 33.),\n",
       "                  (20020., 20., 159.62, 35782.36,  973.64, 15762.36, 20.58, 31., 31.),\n",
       "                  (12500., 20.,  84.42, 28262.76, 1047.24, 15762.76, 20.58,  1.,  1.),\n",
       "                  (17248., 20., 131.9 , 33010.36, 1133.64, 15762.36, 20.58,  1.,  1.),\n",
       "                  (13604., 20.,  95.46, 29366.76, 1879.24, 15762.76, 20.58, 26., 26.),\n",
       "                  (20884., 20., 168.26, 36646.76, 2018.24, 15762.76, 20.58, 25., 25.),\n",
       "                  (12660., 20.,  86.02, 28422.76, 1173.24, 15762.76, 20.58,  1.,  1.),\n",
       "                  (12368., 20.,  83.1 , 28130.76,  966.24, 15762.76, 20.58,  1.,  1.),\n",
       "                  (12368., 20.,  83.1 , 28130.76, 1331.24, 15762.76, 20.58, 23., 23.),\n",
       "                  (19996., 20., 159.38, 35758.36, 1661.64, 15762.36, 20.58,  1.,  1.),\n",
       "                  (20020., 20., 159.62, 35782.76, 1662.24, 15762.76, 20.58,  1.,  1.),\n",
       "                  (12676., 20.,  86.18, 28438.36, 1141.64, 15762.36, 20.58,  1.,  1.),\n",
       "                  (12568., 20.,  85.1 , 28330.76,  877.24, 15762.76, 20.58,  1.,  1.)],\n",
       "                 dtype=[('qpu_sampling_time_us', '<f8'), ('qpu_anneal_time_per_sample_us', '<f8'), ('qpu_readout_time_per_sample_us', '<f8'), ('qpu_access_time_us', '<f8'), ('qpu_access_overhead_time_us', '<f8'), ('qpu_programming_time_us', '<f8'), ('qpu_delay_time_per_sample_us', '<f8'), ('post_processing_overhead_time_us', '<f8'), ('total_post_processing_time_us', '<f8')]), time_measurements=rec.array([(0.247684 , 0.1376587, 2.9718806),\n",
       "                  (0.2540695, 0.0356778, 2.6504482),\n",
       "                  (0.2504923, 0.032104 , 2.3924583),\n",
       "                  (0.3374908, 0.0279631, 2.4195196),\n",
       "                  (0.478029 , 0.0238401, 2.4063147),\n",
       "                  (0.3077752, 0.0324132, 2.223445 ),\n",
       "                  (0.3550274, 0.0397207, 2.5169144),\n",
       "                  (0.306795 , 0.0415756, 2.3477869),\n",
       "                  (0.3534258, 0.0298674, 2.4503669),\n",
       "                  (0.3390644, 0.0307112, 2.4663934),\n",
       "                  (0.418873 , 0.0379173, 2.2039093),\n",
       "                  (0.3148978, 0.0350636, 2.2300016),\n",
       "                  (0.2881641, 0.0559644, 2.4509671),\n",
       "                  (0.3188598, 0.0409921, 2.2179991),\n",
       "                  (0.3225909, 0.0263294, 2.4197283),\n",
       "                  (0.3075401, 0.030299 , 2.2017732),\n",
       "                  (0.4514666, 0.034196 , 2.3438064),\n",
       "                  (0.3438105, 0.031682 , 2.2879339),\n",
       "                  (0.3947134, 0.0487461, 2.5256719),\n",
       "                  (0.2862384, 0.0300028, 2.3952467),\n",
       "                  (0.2785697, 0.0277644, 2.2586182)],\n",
       "                 dtype=[('find_clique_embedding_time_s', '<f8'), ('fixed_embedding_composite_time_s', '<f8'), ('sample_func_time_s', '<f8')]))                                                                                                                                                                                                                                                                                                            ,\n",
       "       HierarchicalRunMetadata(dwave_sampleset_metadata=rec.array([(24068., 20., 200.1 , 39831.96, 1569.04, 15763.96, 20.58, 114., 114.),\n",
       "                  (13604., 20.,  95.46, 29366.76, 1954.24, 15762.76, 20.58,   1.,   1.),\n",
       "                  (19996., 20., 159.38, 35758.36, 1673.64, 15762.36, 20.58,  30.,  30.),\n",
       "                  (12676., 20.,  86.18, 28438.36, 1104.64, 15762.36, 20.58,  56.,  56.),\n",
       "                  (12500., 20.,  84.42, 28262.76, 1177.24, 15762.76, 20.58,  20.,  20.),\n",
       "                  ( 8254., 20.,  41.96, 24016.36, 1343.64, 15762.36, 20.58,  41.,  41.),\n",
       "                  ( 6604., 20.,  25.46, 22366.76,  955.24, 15762.76, 20.58,  35.,  35.),\n",
       "                  (12368., 20.,  83.1 , 28130.76, 1031.24, 15762.76, 20.58,   1.,   1.),\n",
       "                  (20884., 20., 168.26, 36646.76, 1573.24, 15762.76, 20.58,  34.,  34.),\n",
       "                  (12660., 20.,  86.02, 28422.76, 1308.24, 15762.76, 20.58,   1.,   1.),\n",
       "                  (12368., 20.,  83.1 , 28130.76, 1014.24, 15762.76, 20.58,  42.,  42.),\n",
       "                  (12368., 20.,  83.1 , 28130.76,  928.24, 15762.76, 20.58,   1.,   1.),\n",
       "                  (19996., 20., 159.38, 35758.36, 1154.64, 15762.36, 20.58,   1.,   1.),\n",
       "                  (13876., 20.,  98.18, 29638.36, 1344.64, 15762.36, 20.58,   1.,   1.),\n",
       "                  (20884., 20., 168.26, 36646.36, 2179.64, 15762.36, 20.58,   1.,   1.),\n",
       "                  (12456., 20.,  83.98, 28218.76, 1056.24, 15762.76, 20.58,   1.,   1.),\n",
       "                  (20410., 20., 163.52, 36171.56, 1130.44, 15761.56, 20.58,  24.,  24.),\n",
       "                  ( 8254., 20.,  41.96, 24016.36, 1528.64, 15762.36, 20.58,   5.,   5.),\n",
       "                  (19996., 20., 159.38, 35758.36, 1406.64, 15762.36, 20.58,   1.,   1.),\n",
       "                  (20434., 20., 163.76, 36196.36, 1187.64, 15762.36, 20.58,  29.,  29.),\n",
       "                  (12676., 20.,  86.18, 28438.36, 1328.64, 15762.36, 20.58,   1.,   1.),\n",
       "                  (17476., 20., 134.18, 33238.36, 1000.64, 15762.36, 20.58,  26.,  26.)],\n",
       "                 dtype=[('qpu_sampling_time_us', '<f8'), ('qpu_anneal_time_per_sample_us', '<f8'), ('qpu_readout_time_per_sample_us', '<f8'), ('qpu_access_time_us', '<f8'), ('qpu_access_overhead_time_us', '<f8'), ('qpu_programming_time_us', '<f8'), ('qpu_delay_time_per_sample_us', '<f8'), ('post_processing_overhead_time_us', '<f8'), ('total_post_processing_time_us', '<f8')]), time_measurements=rec.array([(0.3414138, 0.098331 , 2.5809463),\n",
       "                  (0.2913824, 0.0453698, 2.3029342),\n",
       "                  (0.3009175, 0.0436926, 2.2688024),\n",
       "                  (0.3696981, 0.0445655, 2.2645213),\n",
       "                  (0.3979852, 0.0311429, 2.3832248),\n",
       "                  (0.3938245, 0.0510172, 2.2252934),\n",
       "                  (0.382435 , 0.0356533, 2.3838067),\n",
       "                  (0.3194706, 0.0466384, 2.2610877),\n",
       "                  (0.2896767, 0.0356767, 2.2625787),\n",
       "                  (0.2914786, 0.0298353, 2.2833981),\n",
       "                  (0.3463133, 0.034184 , 2.1951152),\n",
       "                  (0.3072876, 0.0324923, 2.2170414),\n",
       "                  (0.3344139, 0.033743 , 2.2614056),\n",
       "                  (0.3453327, 0.0728375, 2.2614563),\n",
       "                  (0.4727699, 0.0459326, 2.4640111),\n",
       "                  (0.3270646, 0.0336795, 2.188717 ),\n",
       "                  (0.3304704, 0.0319232, 2.301042 ),\n",
       "                  (0.3382173, 0.0310383, 2.2436494),\n",
       "                  (0.3947082, 0.0405967, 2.497708 ),\n",
       "                  (0.3414577, 0.0338185, 2.3023561),\n",
       "                  (0.3918624, 0.0259271, 2.5320504),\n",
       "                  (0.3364587, 0.0278795, 2.3283973)],\n",
       "                 dtype=[('find_clique_embedding_time_s', '<f8'), ('fixed_embedding_composite_time_s', '<f8'), ('sample_func_time_s', '<f8')]))                                                                                                                                                                                                                                                                                                            ,\n",
       "       HierarchicalRunMetadata(dwave_sampleset_metadata=rec.array([(24068., 20., 200.1 , 39831.96, 2261.04, 15763.96, 20.58, 30., 30.),\n",
       "                  (13604., 20.,  95.46, 29367.56, 1265.44, 15763.56, 20.58, 42., 42.),\n",
       "                  (20434., 20., 163.76, 36195.96, 1262.04, 15761.96, 20.58,  1.,  1.),\n",
       "                  (10628., 20.,  65.7 , 26390.36, 1314.64, 15762.36, 20.58,  1.,  1.),\n",
       "                  (20410., 20., 163.52, 36172.36, 1456.64, 15762.36, 20.58,  1.,  1.),\n",
       "                  ( 8254., 20.,  41.96, 24016.36, 1530.64, 15762.36, 20.58, 11., 11.),\n",
       "                  (19996., 20., 159.38, 35758.36, 1675.64, 15762.36, 20.58, 45., 45.),\n",
       "                  (20410., 20., 163.52, 36172.36, 2496.64, 15762.36, 20.58,  1.,  1.),\n",
       "                  (12676., 20.,  86.18, 28438.36,  925.64, 15762.36, 20.58,  1.,  1.),\n",
       "                  (14990., 20., 109.32, 30752.36,  811.64, 15762.36, 20.58,  1.,  1.),\n",
       "                  (12500., 20.,  84.42, 28262.76, 1030.24, 15762.76, 20.58, 34., 34.),\n",
       "                  (12412., 20.,  83.54, 28174.76,  643.24, 15762.76, 20.58,  1.,  1.),\n",
       "                  (13672., 20.,  96.14, 29434.36, 1155.64, 15762.36, 20.58, 27., 27.),\n",
       "                  (20884., 20., 168.26, 36646.76, 1044.24, 15762.76, 20.58, 29., 29.),\n",
       "                  (12660., 20.,  86.02, 28422.76,  817.24, 15762.76, 20.58,  1.,  1.),\n",
       "                  (12368., 20.,  83.1 , 28130.76,  690.24, 15762.76, 20.58,  1.,  1.),\n",
       "                  (12368., 20.,  83.1 , 28130.76,  621.24, 15762.76, 20.58,  1.,  1.),\n",
       "                  (19996., 20., 159.38, 35758.36, 1151.64, 15762.36, 20.58, 10., 10.),\n",
       "                  (20410., 20., 163.52, 36172.36, 1141.64, 15762.36, 20.58, 32., 32.),\n",
       "                  (12676., 20.,  86.18, 28438.36, 1335.64, 15762.36, 20.58, 31., 31.),\n",
       "                  (10628., 20.,  65.7 , 26390.76, 1684.24, 15762.76, 20.58,  1.,  1.),\n",
       "                  ( 6604., 20.,  25.46, 22366.76, 1702.24, 15762.76, 20.58, 23., 23.),\n",
       "                  ( 6604., 20.,  25.46, 22366.76, 2073.24, 15762.76, 20.58,  1.,  1.),\n",
       "                  (12544., 20.,  84.86, 28306.76, 1512.24, 15762.76, 20.58, 27., 27.),\n",
       "                  (12676., 20.,  86.18, 28438.36, 2653.64, 15762.36, 20.58,  1.,  1.)],\n",
       "                 dtype=[('qpu_sampling_time_us', '<f8'), ('qpu_anneal_time_per_sample_us', '<f8'), ('qpu_readout_time_per_sample_us', '<f8'), ('qpu_access_time_us', '<f8'), ('qpu_access_overhead_time_us', '<f8'), ('qpu_programming_time_us', '<f8'), ('qpu_delay_time_per_sample_us', '<f8'), ('post_processing_overhead_time_us', '<f8'), ('total_post_processing_time_us', '<f8')]), time_measurements=rec.array([(0.419875 , 0.1028467, 2.7840646),\n",
       "                  (0.4568579, 0.0551354, 2.5192022),\n",
       "                  (0.399696 , 0.042547 , 2.282164 ),\n",
       "                  (0.321652 , 0.0316894, 2.3512927),\n",
       "                  (0.3573915, 0.0348461, 2.2230088),\n",
       "                  (0.4388407, 0.0404795, 2.2081284),\n",
       "                  (0.4441864, 0.0298088, 2.1851432),\n",
       "                  (0.4169165, 0.0419145, 2.3079314),\n",
       "                  (0.4586926, 0.0708393, 2.3801973),\n",
       "                  (0.3172454, 0.0352874, 2.2545926),\n",
       "                  (0.482841 , 0.0338923, 2.2902674),\n",
       "                  (0.3627365, 0.0341889, 2.339991 ),\n",
       "                  (0.4467909, 0.0589697, 2.2704279),\n",
       "                  (0.4144335, 0.0463675, 2.2918464),\n",
       "                  (0.2751992, 0.0381324, 2.4965919),\n",
       "                  (0.4997109, 0.0269045, 2.3103851),\n",
       "                  (0.2712568, 0.0264545, 2.4321851),\n",
       "                  (0.2793615, 0.0263232, 2.4339184),\n",
       "                  (0.3573541, 0.0307408, 2.2113057),\n",
       "                  (0.3899274, 0.0267477, 2.969432 ),\n",
       "                  (0.4120617, 0.0309321, 2.1840257),\n",
       "                  (0.2670404, 0.0265844, 2.2043135),\n",
       "                  (0.3423215, 0.0402147, 2.641987 ),\n",
       "                  (0.362233 , 0.0313648, 2.3956611),\n",
       "                  (0.4189966, 0.0420173, 2.7397983)],\n",
       "                 dtype=[('find_clique_embedding_time_s', '<f8'), ('fixed_embedding_composite_time_s', '<f8'), ('sample_func_time_s', '<f8')]))                                                                                                                                                                                                                                                                                                            ,\n",
       "       HierarchicalRunMetadata(dwave_sampleset_metadata=rec.array([(24068., 20., 200.1 , 39831.96, 1757.04, 15763.96, 20.58, 26., 26.),\n",
       "                  (13628., 20.,  95.7 , 29388.76, 2353.24, 15760.76, 20.58, 10., 10.),\n",
       "                  (20410., 20., 163.52, 36173.16, 1256.84, 15763.16, 20.58,  1.,  1.),\n",
       "                  (12676., 20.,  86.18, 28438.36,  898.64, 15762.36, 20.58,  1.,  1.),\n",
       "                  (12412., 20.,  83.54, 28174.76,  995.24, 15762.76, 20.58,  1.,  1.),\n",
       "                  (12368., 20.,  83.1 , 28130.76,  998.24, 15762.76, 20.58,  1.,  1.),\n",
       "                  (10628., 20.,  65.7 , 26390.76, 1101.24, 15762.76, 20.58,  1.,  1.),\n",
       "                  (12676., 20.,  86.18, 28438.36, 1272.64, 15762.36, 20.58, 27., 27.),\n",
       "                  (20884., 20., 168.26, 36646.76, 1631.24, 15762.76, 20.58, 41., 41.),\n",
       "                  (12660., 20.,  86.02, 28422.76, 1067.24, 15762.76, 20.58,  1.,  1.),\n",
       "                  (12368., 20.,  83.1 , 28130.76, 1138.24, 15762.76, 20.58,  1.,  1.),\n",
       "                  (12368., 20.,  83.1 , 28130.76,  916.24, 15762.76, 20.58, 80., 80.),\n",
       "                  (19996., 20., 159.38, 35758.36, 1186.64, 15762.36, 20.58, 57., 57.),\n",
       "                  (13628., 20.,  95.7 , 29391.16, 1522.84, 15763.16, 20.58, 61., 61.),\n",
       "                  (20884., 20., 168.26, 36647.16, 1371.84, 15763.16, 20.58, 41., 41.),\n",
       "                  (12456., 20.,  83.98, 28218.76, 1252.24, 15762.76, 20.58,  1.,  1.),\n",
       "                  (20020., 20., 159.62, 35782.36, 1107.64, 15762.36, 20.58,  1.,  1.),\n",
       "                  (20410., 20., 163.52, 36173.16, 1671.84, 15763.16, 20.58,  1.,  1.),\n",
       "                  (12660., 20.,  86.02, 28422.76, 1311.24, 15762.76, 20.58,  1.,  1.),\n",
       "                  (17476., 20., 134.18, 33238.36, 1373.64, 15762.36, 20.58,  1.,  1.)],\n",
       "                 dtype=[('qpu_sampling_time_us', '<f8'), ('qpu_anneal_time_per_sample_us', '<f8'), ('qpu_readout_time_per_sample_us', '<f8'), ('qpu_access_time_us', '<f8'), ('qpu_access_overhead_time_us', '<f8'), ('qpu_programming_time_us', '<f8'), ('qpu_delay_time_per_sample_us', '<f8'), ('post_processing_overhead_time_us', '<f8'), ('total_post_processing_time_us', '<f8')]), time_measurements=rec.array([(0.3149011, 6.97189000e-02, 2.8666686),\n",
       "                  (0.3072971, 4.79825000e-02, 2.2864064),\n",
       "                  (0.3810053, 5.77901000e-02, 2.4556515),\n",
       "                  (0.3202671, 3.21541000e-02, 2.3647495),\n",
       "                  (0.3170758, 1.79347365e+02, 2.6374294),\n",
       "                  (0.4375487, 4.09142000e-02, 2.4098273),\n",
       "                  (0.533484 , 4.63051000e-02, 2.6806216),\n",
       "                  (0.3578295, 3.06391000e-02, 2.1918901),\n",
       "                  (1.6670967, 1.10377300e-01, 2.3507521),\n",
       "                  (0.5077373, 4.11487000e-02, 2.1864101),\n",
       "                  (0.3775774, 3.49394000e-02, 2.4409718),\n",
       "                  (0.3924529, 3.18086000e-02, 2.401467 ),\n",
       "                  (0.3438902, 3.12441000e-02, 2.3290488),\n",
       "                  (0.3169665, 5.09082000e-02, 2.3012158),\n",
       "                  (0.3804136, 3.31736000e-02, 2.5214816),\n",
       "                  (0.5043312, 4.13190000e-02, 2.4400697),\n",
       "                  (0.6437274, 4.36426000e-02, 2.2413958),\n",
       "                  (0.4646786, 4.70326000e-02, 2.4143687),\n",
       "                  (0.4982439, 3.74523000e-02, 2.3575696),\n",
       "                  (0.3477105, 3.23962000e-02, 2.4220152)],\n",
       "                 dtype=[('find_clique_embedding_time_s', '<f8'), ('fixed_embedding_composite_time_s', '<f8'), ('sample_func_time_s', '<f8')]))                                                                                                                                                                                                                                                                                                                 ,\n",
       "       HierarchicalRunMetadata(dwave_sampleset_metadata=rec.array([(24068., 20., 200.1 , 39831.96, 1507.04, 15763.96, 20.58, 21., 21.),\n",
       "                  (13628., 20.,  95.7 , 29390.36, 1934.64, 15762.36, 20.58, 53., 53.),\n",
       "                  (20410., 20., 163.52, 36171.96, 1414.04, 15761.96, 20.58,  1.,  1.),\n",
       "                  (12676., 20.,  86.18, 28438.76, 1482.24, 15762.76, 20.58,  1.,  1.),\n",
       "                  (12368., 20.,  83.1 , 28130.76, 1150.24, 15762.76, 20.58,  1.,  1.),\n",
       "                  (12412., 20.,  83.54, 28174.76, 1074.24, 15762.76, 20.58,  1.,  1.),\n",
       "                  (17248., 20., 131.9 , 33010.36, 1157.64, 15762.36, 20.58, 11., 11.),\n",
       "                  (20884., 20., 168.26, 36646.36, 1606.64, 15762.36, 20.58,  1.,  1.),\n",
       "                  (12368., 20.,  83.1 , 28131.16, 1294.84, 15763.16, 20.58, 23., 23.),\n",
       "                  (20410., 20., 163.52, 36172.36, 1214.64, 15762.36, 20.58,  1.,  1.),\n",
       "                  ( 8254., 20.,  41.96, 24016.36, 2188.64, 15762.36, 20.58, 35., 35.),\n",
       "                  (19996., 20., 159.38, 35758.36, 1120.64, 15762.36, 20.58,  1.,  1.),\n",
       "                  (13628., 20.,  95.7 , 29391.56, 1399.44, 15763.56, 20.58, 76., 76.),\n",
       "                  (20884., 20., 168.26, 36646.36, 1964.64, 15762.36, 20.58, 37., 37.),\n",
       "                  (12676., 20.,  86.18, 28438.36, 1101.64, 15762.36, 20.58,  1.,  1.),\n",
       "                  (17476., 20., 134.18, 33238.36, 1139.64, 15762.36, 20.58,  1.,  1.),\n",
       "                  (12500., 20.,  84.42, 28262.76, 1436.24, 15762.76, 20.58,  1.,  1.),\n",
       "                  (12660., 20.,  86.02, 28422.76, 1166.24, 15762.76, 20.58, 47., 47.),\n",
       "                  (20410., 20., 163.52, 36172.76, 1464.24, 15762.76, 20.58, 44., 44.),\n",
       "                  (19996., 20., 159.38, 35758.36, 1325.64, 15762.36, 20.58,  1.,  1.),\n",
       "                  (12368., 20.,  83.1 , 28130.76, 1512.24, 15762.76, 20.58,  1.,  1.)],\n",
       "                 dtype=[('qpu_sampling_time_us', '<f8'), ('qpu_anneal_time_per_sample_us', '<f8'), ('qpu_readout_time_per_sample_us', '<f8'), ('qpu_access_time_us', '<f8'), ('qpu_access_overhead_time_us', '<f8'), ('qpu_programming_time_us', '<f8'), ('qpu_delay_time_per_sample_us', '<f8'), ('post_processing_overhead_time_us', '<f8'), ('total_post_processing_time_us', '<f8')]), time_measurements=rec.array([(0.726683 , 0.2148293, 3.0045454),\n",
       "                  (0.5781419, 0.0968219, 2.3648212),\n",
       "                  (0.3424679, 0.0380829, 2.2305188),\n",
       "                  (0.4290513, 0.0499563, 2.4181013),\n",
       "                  (0.6081093, 0.036986 , 2.2355886),\n",
       "                  (0.4772388, 0.0505779, 2.3664704),\n",
       "                  (0.4951649, 0.0360483, 2.1769539),\n",
       "                  (0.4697327, 0.0504998, 2.2483888),\n",
       "                  (0.3808875, 0.0404635, 2.2022356),\n",
       "                  (0.3770095, 0.0366513, 2.2309298),\n",
       "                  (0.4637644, 0.0399969, 2.1968027),\n",
       "                  (0.37234  , 0.030738 , 2.1847951),\n",
       "                  (0.4712259, 0.0527402, 2.2852546),\n",
       "                  (0.3915138, 0.041634 , 2.2757831),\n",
       "                  (0.5152248, 0.033904 , 2.4405076),\n",
       "                  (0.3663822, 0.0293452, 2.4178867),\n",
       "                  (0.5159117, 0.0470797, 2.4414534),\n",
       "                  (0.6875311, 0.0345345, 2.3775347),\n",
       "                  (0.5895634, 0.0491443, 2.3781782),\n",
       "                  (0.5097849, 0.0398605, 2.3579306),\n",
       "                  (0.4873797, 0.0525795, 2.4641821)],\n",
       "                 dtype=[('find_clique_embedding_time_s', '<f8'), ('fixed_embedding_composite_time_s', '<f8'), ('sample_func_time_s', '<f8')]))                                                                                                                                                                                                                                                                                                            ],\n",
       "      dtype=object)"
      ]
     },
     "execution_count": 76,
     "metadata": {},
     "output_type": "execute_result"
    }
   ],
   "source": [
    "sampleset_datas"
   ]
  },
  {
   "cell_type": "code",
   "execution_count": 77,
   "id": "5cff735a",
   "metadata": {},
   "outputs": [],
   "source": [
    "first_run = sampleset_datas[0]\n",
    "second_run = sampleset_datas[1]"
   ]
  },
  {
   "cell_type": "markdown",
   "id": "dd48051d",
   "metadata": {},
   "source": [
    "## Units"
   ]
  },
  {
   "cell_type": "markdown",
   "id": "f1a9273a",
   "metadata": {},
   "source": [
    "**Microseconds (us)** for DWave sampleset metadata (according to DWave docs 2025 https://docs.dwavequantum.com/en/latest/quantum_research/operation_timing.html#qpu-runtime-estimating):"
   ]
  },
  {
   "cell_type": "code",
   "execution_count": 78,
   "id": "afa2e8b8",
   "metadata": {},
   "outputs": [
    {
     "data": {
      "text/plain": [
       "('qpu_sampling_time_us',\n",
       " 'qpu_anneal_time_per_sample_us',\n",
       " 'qpu_readout_time_per_sample_us',\n",
       " 'qpu_access_time_us',\n",
       " 'qpu_access_overhead_time_us',\n",
       " 'qpu_programming_time_us',\n",
       " 'qpu_delay_time_per_sample_us',\n",
       " 'post_processing_overhead_time_us',\n",
       " 'total_post_processing_time_us')"
      ]
     },
     "execution_count": 78,
     "metadata": {},
     "output_type": "execute_result"
    }
   ],
   "source": [
    "first_run.dwave_sampleset_metadata.dtype.names"
   ]
  },
  {
   "cell_type": "markdown",
   "id": "b145dad4",
   "metadata": {},
   "source": [
    "**Seconds (s)** for custom (embedding and sample function) time measurements:"
   ]
  },
  {
   "cell_type": "code",
   "execution_count": 79,
   "id": "ab82f437",
   "metadata": {},
   "outputs": [
    {
     "data": {
      "text/plain": [
       "('find_clique_embedding_time_s',\n",
       " 'fixed_embedding_composite_time_s',\n",
       " 'sample_func_time_s')"
      ]
     },
     "execution_count": 79,
     "metadata": {},
     "output_type": "execute_result"
    }
   ],
   "source": [
    "first_run.time_measurements.dtype.names"
   ]
  },
  {
   "cell_type": "markdown",
   "id": "51e2c168",
   "metadata": {},
   "source": [
    "# Results structure"
   ]
  },
  {
   "cell_type": "markdown",
   "id": "63a50f8e",
   "metadata": {},
   "source": [
    "The `dwave_sampleset_metdata` field contains information taken from the `sampleset.info[\"timing\"]` field https://docs.dwavequantum.com/en/latest/quantum_research/operation_timing.html#qpu-runtime-estimating. \\\n",
    "The unit is **microseconds (us)**."
   ]
  },
  {
   "cell_type": "code",
   "execution_count": 80,
   "id": "547b7a2f",
   "metadata": {},
   "outputs": [
    {
     "data": {
      "text/plain": [
       "rec.array([(24068., 20., 200.1 , 39831.96, 2004.04, 15763.96, 20.58, 44., 44.),\n",
       "           (13716., 20.,  96.58, 29478.36, 1773.64, 15762.36, 20.58,  1.,  1.),\n",
       "           (20584., 20., 165.26, 36345.96, 1762.04, 15761.96, 20.58,  1.,  1.),\n",
       "           (12676., 20.,  86.18, 28438.36, 1283.64, 15762.36, 20.58, 19., 19.),\n",
       "           (12368., 20.,  83.1 , 28131.16, 1612.84, 15763.16, 20.58,  1.,  1.),\n",
       "           (12412., 20.,  83.54, 28174.76, 1118.24, 15762.76, 20.58,  1.,  1.),\n",
       "           (20410., 20., 163.52, 36172.36, 1432.64, 15762.36, 20.58, 12., 12.),\n",
       "           ( 8254., 20.,  41.96, 24016.36, 1284.64, 15762.36, 20.58, 20., 20.),\n",
       "           (19996., 20., 159.38, 35758.36, 1059.64, 15762.36, 20.58, 33., 33.),\n",
       "           (20020., 20., 159.62, 35782.36,  973.64, 15762.36, 20.58, 31., 31.),\n",
       "           (12500., 20.,  84.42, 28262.76, 1047.24, 15762.76, 20.58,  1.,  1.),\n",
       "           (17248., 20., 131.9 , 33010.36, 1133.64, 15762.36, 20.58,  1.,  1.),\n",
       "           (13604., 20.,  95.46, 29366.76, 1879.24, 15762.76, 20.58, 26., 26.),\n",
       "           (20884., 20., 168.26, 36646.76, 2018.24, 15762.76, 20.58, 25., 25.),\n",
       "           (12660., 20.,  86.02, 28422.76, 1173.24, 15762.76, 20.58,  1.,  1.),\n",
       "           (12368., 20.,  83.1 , 28130.76,  966.24, 15762.76, 20.58,  1.,  1.),\n",
       "           (12368., 20.,  83.1 , 28130.76, 1331.24, 15762.76, 20.58, 23., 23.),\n",
       "           (19996., 20., 159.38, 35758.36, 1661.64, 15762.36, 20.58,  1.,  1.),\n",
       "           (20020., 20., 159.62, 35782.76, 1662.24, 15762.76, 20.58,  1.,  1.),\n",
       "           (12676., 20.,  86.18, 28438.36, 1141.64, 15762.36, 20.58,  1.,  1.),\n",
       "           (12568., 20.,  85.1 , 28330.76,  877.24, 15762.76, 20.58,  1.,  1.)],\n",
       "          dtype=[('qpu_sampling_time_us', '<f8'), ('qpu_anneal_time_per_sample_us', '<f8'), ('qpu_readout_time_per_sample_us', '<f8'), ('qpu_access_time_us', '<f8'), ('qpu_access_overhead_time_us', '<f8'), ('qpu_programming_time_us', '<f8'), ('qpu_delay_time_per_sample_us', '<f8'), ('post_processing_overhead_time_us', '<f8'), ('total_post_processing_time_us', '<f8')])"
      ]
     },
     "execution_count": 80,
     "metadata": {},
     "output_type": "execute_result"
    }
   ],
   "source": [
    "# DWave metadata extracted from the DWave \"sampleset\" result\n",
    "first_run.dwave_sampleset_metadata"
   ]
  },
  {
   "cell_type": "markdown",
   "id": "be4fd57c",
   "metadata": {},
   "source": [
    "The `time_measurements` field contains custom measurements we performed ourselves:\n",
    "1. `find_embedding_time_s` / `find_clique_embedding_time_s` - times of `find_embedding` and `find_clique_embedding` function calls.\n",
    "- `find_embedding` computes the heuristic embedding for the problem https://docs.dwavequantum.com/en/latest/ocean/api_ref_system/generated/minorminer.find_embedding.html,\n",
    "- `find_clique_embedding` - the first time it is run after dimod package installment on the computer, it computes the clique embedding for the maximum possible fitting problem size (169 variables as of 2025) in polynomial time and creates a cache file with it. Each subsequent call to the function retrieves the result from this cache in constant time https://docs.dwavequantum.com/en/latest/ocean/api_ref_system/generated/dwave.embedding.pegasus.find_clique_embedding.html#dwave.embedding.pegasus.find_clique_embedding, until the cache is cleared https://docs.dwavequantum.com/en/latest/ocean/api_ref_minorminer/source/clique_embedding.html#minorminer.busclique.busgraph_cache. If the cache is cleared, the next call to the function will recompute the embedding and store it in the cache, and so the process repeats.\n",
    "2. `fixed_embedding_composite_time_s` - time of the object creation of FixedEmbeddingComposite - constant, quick, just for check\n",
    "3. `sample_func_time_s` - D-Wave user service time + internet latencies in both directions of communication with the solver the server. https://docs.dwavequantum.com/en/latest/quantum_research/operation_timing.html#highlevel-timing"
   ]
  },
  {
   "cell_type": "code",
   "execution_count": 81,
   "id": "6a1803ff",
   "metadata": {},
   "outputs": [
    {
     "data": {
      "text/plain": [
       "rec.array([(0.247684 , 0.1376587, 2.9718806),\n",
       "           (0.2540695, 0.0356778, 2.6504482),\n",
       "           (0.2504923, 0.032104 , 2.3924583),\n",
       "           (0.3374908, 0.0279631, 2.4195196),\n",
       "           (0.478029 , 0.0238401, 2.4063147),\n",
       "           (0.3077752, 0.0324132, 2.223445 ),\n",
       "           (0.3550274, 0.0397207, 2.5169144),\n",
       "           (0.306795 , 0.0415756, 2.3477869),\n",
       "           (0.3534258, 0.0298674, 2.4503669),\n",
       "           (0.3390644, 0.0307112, 2.4663934),\n",
       "           (0.418873 , 0.0379173, 2.2039093),\n",
       "           (0.3148978, 0.0350636, 2.2300016),\n",
       "           (0.2881641, 0.0559644, 2.4509671),\n",
       "           (0.3188598, 0.0409921, 2.2179991),\n",
       "           (0.3225909, 0.0263294, 2.4197283),\n",
       "           (0.3075401, 0.030299 , 2.2017732),\n",
       "           (0.4514666, 0.034196 , 2.3438064),\n",
       "           (0.3438105, 0.031682 , 2.2879339),\n",
       "           (0.3947134, 0.0487461, 2.5256719),\n",
       "           (0.2862384, 0.0300028, 2.3952467),\n",
       "           (0.2785697, 0.0277644, 2.2586182)],\n",
       "          dtype=[('find_clique_embedding_time_s', '<f8'), ('fixed_embedding_composite_time_s', '<f8'), ('sample_func_time_s', '<f8')])"
      ]
     },
     "execution_count": 81,
     "metadata": {},
     "output_type": "execute_result"
    }
   ],
   "source": [
    "# The times we have explicitly measured in the code\n",
    "first_run.time_measurements"
   ]
  },
  {
   "cell_type": "markdown",
   "id": "8bc339b1",
   "metadata": {},
   "source": [
    "# QPU access times"
   ]
  },
  {
   "cell_type": "markdown",
   "id": "45ac44fd",
   "metadata": {},
   "source": [
    "Each record contains subdivion (subproblem recursive divisions) times of the whole hierarchical run. \\\n",
    "These times unordered! - they do not necessarily reflect the order of subdivision on each recursion level - TODO \\\n",
    "However the first one reflects the time (qpu_access_time_us in this example) of the very first binary division - of the whole problem."
   ]
  },
  {
   "cell_type": "code",
   "execution_count": 82,
   "id": "b970913e",
   "metadata": {},
   "outputs": [
    {
     "data": {
      "text/plain": [
       "array([39831.96, 29478.36, 36345.96, 28438.36, 28131.16, 28174.76,\n",
       "       36172.36, 24016.36, 35758.36, 35782.36, 28262.76, 33010.36,\n",
       "       29366.76, 36646.76, 28422.76, 28130.76, 28130.76, 35758.36,\n",
       "       35782.76, 28438.36, 28330.76])"
      ]
     },
     "execution_count": 82,
     "metadata": {},
     "output_type": "execute_result"
    }
   ],
   "source": [
    "first_run.dwave_sampleset_metadata.qpu_access_time_us"
   ]
  },
  {
   "cell_type": "markdown",
   "id": "53670075",
   "metadata": {},
   "source": [
    "### Qpu access times in the 1st hierarchical community search run"
   ]
  },
  {
   "cell_type": "code",
   "execution_count": 83,
   "id": "55eb940d",
   "metadata": {},
   "outputs": [
    {
     "name": "stdout",
     "output_type": "stream",
     "text": [
      "QPU access time in the first run: 662411.16 microseconds == 0.6624 seconds\n"
     ]
    }
   ],
   "source": [
    "# sum of subproblems (subdivisions) times in the first run\n",
    "first_run_qpu_access_time = first_run.dwave_sampleset_metadata.qpu_access_time_us.sum()\n",
    "print(f\"QPU access time in the first run: {first_run_qpu_access_time:.2f} microseconds == {first_run_qpu_access_time / 1e6:.4f} seconds\")"
   ]
  },
  {
   "cell_type": "markdown",
   "id": "8e20683b",
   "metadata": {},
   "source": [
    "# Getting the embedding from cache \n",
    "Calling the `find_clique_embedding` function time - \"getting\" the embeddings for subproblems from cache"
   ]
  },
  {
   "cell_type": "code",
   "execution_count": 84,
   "id": "148658f6",
   "metadata": {},
   "outputs": [
    {
     "data": {
      "text/plain": [
       "array([0.247684 , 0.2540695, 0.2504923, 0.3374908, 0.478029 , 0.3077752,\n",
       "       0.3550274, 0.306795 , 0.3534258, 0.3390644, 0.418873 , 0.3148978,\n",
       "       0.2881641, 0.3188598, 0.3225909, 0.3075401, 0.4514666, 0.3438105,\n",
       "       0.3947134, 0.2862384, 0.2785697])"
      ]
     },
     "execution_count": 84,
     "metadata": {},
     "output_type": "execute_result"
    }
   ],
   "source": [
    "# .find_clique_embedding() function time for subdivisions in the first hierarchical run\n",
    "first_run.time_measurements.find_clique_embedding_time_s"
   ]
  },
  {
   "cell_type": "markdown",
   "id": "4a5803bb",
   "metadata": {},
   "source": [
    "`sample` function time - communication with the solver"
   ]
  },
  {
   "cell_type": "code",
   "execution_count": 86,
   "id": "06e5a209",
   "metadata": {},
   "outputs": [
    {
     "data": {
      "text/plain": [
       "array([2.9718806, 2.6504482, 2.3924583, 2.4195196, 2.4063147, 2.223445 ,\n",
       "       2.5169144, 2.3477869, 2.4503669, 2.4663934, 2.2039093, 2.2300016,\n",
       "       2.4509671, 2.2179991, 2.4197283, 2.2017732, 2.3438064, 2.2879339,\n",
       "       2.5256719, 2.3952467, 2.2586182])"
      ]
     },
     "execution_count": 86,
     "metadata": {},
     "output_type": "execute_result"
    }
   ],
   "source": [
    "# .sample() function time for subdivisions in the first hierarchical run\n",
    "first_run.time_measurements.sample_func_time_s"
   ]
  },
  {
   "cell_type": "markdown",
   "id": "924fa5d9",
   "metadata": {},
   "source": [
    "### Obtaining the embeddings time from cache for the whole community search run"
   ]
  },
  {
   "cell_type": "code",
   "execution_count": 87,
   "id": "8c51df86",
   "metadata": {},
   "outputs": [
    {
     "name": "stdout",
     "output_type": "stream",
     "text": [
      "Time of taking embeddings from cache in the first run: 6.96 seconds\n",
      "Elapsed time of the .sample function in the first run: 50.38 seconds\n"
     ]
    }
   ],
   "source": [
    "first_run_cl_emb_cache_taking = first_run.time_measurements.find_clique_embedding_time_s.sum()\n",
    "print(f\"Time of taking embeddings from cache in the first run: {first_run_cl_emb_cache_taking:.2f} seconds\")\n",
    "print(f\"Elapsed time of the .sample function in the first run: {first_run.time_measurements.sample_func_time_s.sum():.2f} seconds\")"
   ]
  },
  {
   "cell_type": "markdown",
   "id": "0f8519ba",
   "metadata": {},
   "source": [
    "# QPU times comparison accross iterative hierarchical search runs"
   ]
  },
  {
   "cell_type": "code",
   "execution_count": 88,
   "id": "682dd845",
   "metadata": {},
   "outputs": [
    {
     "name": "stdout",
     "output_type": "stream",
     "text": [
      "Mean of QPU access times from 5 runs: 680159.69 microseconds == 0.6802 seconds\n",
      "STD of QPU access times from 5 runs: 42715.19 microseconds == 0.0427 seconds\n"
     ]
    },
    {
     "data": {
      "text/plain": [
       "array([662411.16, 681584.32, 758537.4 , 629930.  , 668335.56])"
      ]
     },
     "execution_count": 88,
     "metadata": {},
     "output_type": "execute_result"
    }
   ],
   "source": [
    "qpu_access_times_per_hierarachical_run = np.array([run.dwave_sampleset_metadata.qpu_access_time_us.sum() for run in sampleset_datas])\n",
    "print(f\"Mean of QPU access times from 5 runs: {qpu_access_times_per_hierarachical_run.mean():.2f} microseconds == {qpu_access_times_per_hierarachical_run.mean() / 1e6:.4f} seconds\")\n",
    "print(f\"STD of QPU access times from 5 runs: {qpu_access_times_per_hierarachical_run.std():.2f} microseconds == {qpu_access_times_per_hierarachical_run.std() / 1e6:.4f} seconds\")\n",
    "qpu_access_times_per_hierarachical_run"
   ]
  },
  {
   "cell_type": "code",
   "execution_count": 89,
   "id": "a0d61aec",
   "metadata": {},
   "outputs": [
    {
     "data": {
      "text/plain": [
       "[11, 12, 13, 11, 11]"
      ]
     },
     "execution_count": 89,
     "metadata": {},
     "output_type": "execute_result"
    }
   ],
   "source": [
    "no_communities_in_runs = [len(communities) for communities in communities]\n",
    "no_communities_in_runs"
   ]
  },
  {
   "cell_type": "code",
   "execution_count": 90,
   "id": "2b424684",
   "metadata": {},
   "outputs": [
    {
     "data": {
      "image/png": "[encoded data removed]",
      "text/plain": [
       "<Figure size 500x300 with 1 Axes>"
      ]
     },
     "metadata": {},
     "output_type": "display_data"
    }
   ],
   "source": [
    "import matplotlib.pyplot as plt\n",
    "\n",
    "\n",
    "fig, ax = plt.subplots(figsize=(5, 3))\n",
    "ax.scatter(no_communities_in_runs, qpu_access_times_per_hierarachical_run);\n",
    "ax.set_xlabel(\"Number of communities detected\");\n",
    "ax.set_ylabel(\"QPU access time (microseconds)\");\n",
    "plt.title(\"More communities detected, higher summary qpu_access_time\", fontsize=10);"
   ]
  },
  {
   "cell_type": "code",
   "execution_count": 92,
   "id": "0997660e",
   "metadata": {},
   "outputs": [
    {
     "data": {
      "text/plain": [
       "[39831.96, 39831.96, 39831.96, 39831.96, 39831.96]"
      ]
     },
     "execution_count": 92,
     "metadata": {},
     "output_type": "execute_result"
    }
   ],
   "source": [
    "qpu_access_times_first_divisions"
   ]
  },
  {
   "cell_type": "code",
   "execution_count": 97,
   "id": "0aa2fcac",
   "metadata": {},
   "outputs": [
    {
     "data": {
      "image/png": "[encoded data removed]",
      "text/plain": [
       "<Figure size 640x480 with 1 Axes>"
      ]
     },
     "metadata": {},
     "output_type": "display_data"
    }
   ],
   "source": [
    "qpu_access_times_first_divisions = [run.dwave_sampleset_metadata.qpu_access_time_us[0] for run in sampleset_datas]\n",
    "qpu_access_times_first_divisions\n",
    "\n",
    "plt.plot(qpu_access_times_first_divisions, marker=\"o\")\n",
    "plt.title(\"QPU access time of the first division (whole network division into two) in each run \\n looks stable (as expected) but the last one\", fontsize=10);"
   ]
  },
  {
   "cell_type": "markdown",
   "id": "68a97e74",
   "metadata": {},
   "source": [
    "### Heuristic"
   ]
  },
  {
   "cell_type": "code",
   "execution_count": 99,
   "id": "955cba29",
   "metadata": {},
   "outputs": [],
   "source": [
    "advantage = AdvantageSampler(\n",
    "    G, num_reads=num_reads, version=version, region=region, use_clique_embedding=False, elapse_times=True, return_metadata=True\n",
    ")"
   ]
  },
  {
   "cell_type": "code",
   "execution_count": 101,
   "id": "79d4ea41",
   "metadata": {},
   "outputs": [],
   "source": [
    "iterative_searcher = IterativeSearcher(advantage)"
   ]
  },
  {
   "cell_type": "code",
   "execution_count": 102,
   "id": "529fcb0f",
   "metadata": {},
   "outputs": [],
   "source": [
    "os.makedirs(f\"{test_dir}/heuristic\", exist_ok=True)"
   ]
  },
  {
   "cell_type": "code",
   "execution_count": null,
   "id": "68524cfb",
   "metadata": {},
   "outputs": [
    {
     "name": "stdout",
     "output_type": "stream",
     "text": [
      "Starting community detection iterations\n"
     ]
    },
    {
     "name": "stderr",
     "output_type": "stream",
     "text": [
      " 20%|██        | 1/5 [09:08<36:32, 548.02s/it]"
     ]
    },
    {
     "name": "stdout",
     "output_type": "stream",
     "text": [
      "Iteration 0 completed\n"
     ]
    },
    {
     "name": "stderr",
     "output_type": "stream",
     "text": [
      " 40%|████      | 2/5 [14:58<21:35, 431.79s/it]"
     ]
    },
    {
     "name": "stdout",
     "output_type": "stream",
     "text": [
      "Iteration 1 completed\n"
     ]
    },
    {
     "name": "stderr",
     "output_type": "stream",
     "text": [
      " 60%|██████    | 3/5 [25:06<17:04, 512.27s/it]"
     ]
    },
    {
     "name": "stdout",
     "output_type": "stream",
     "text": [
      "Iteration 2 completed\n"
     ]
    }
   ],
   "source": [
    "res_heu = iterative_searcher.run_with_sampleset_info(\n",
    "    num_runs=5,\n",
    "    save_results=True,\n",
    "    saving_path=f\"{test_dir}/heuristic/adv_heuristic\",\n",
    "    iterative_verbosity=1,\n",
    "    return_metadata=True,\n",
    ")"
   ]
  },
  {
   "cell_type": "code",
   "execution_count": 42,
   "id": "8e8b34b1",
   "metadata": {},
   "outputs": [],
   "source": [
    "communities_heu, modularities_heu, times_heu, division_trees_heu, division_modularities_heu, sampleset_datas_heu = res_heu.communities, res_heu.modularity, res_heu.time, res_heu.division_tree, res_heu.division_modularities, res_heu.samplesets_data"
   ]
  },
  {
   "cell_type": "markdown",
   "id": "f45f8a80",
   "metadata": {},
   "source": [
    "`find_embedding` - heuristic embedding time"
   ]
  },
  {
   "cell_type": "code",
   "execution_count": 54,
   "id": "679e1092",
   "metadata": {},
   "outputs": [
    {
     "data": {
      "text/plain": [
       "array([180.3938653,  18.6414687,   2.0937769,   1.3365376,   0.212603 ,\n",
       "         0.8925314,   0.2529952,   1.0206537,   0.260631 ,   0.224771 ,\n",
       "         0.2351557,   0.3418358,  11.4603253,   1.939379 ,   0.3559219,\n",
       "         0.3140257,   0.3786017,   1.4273488,   0.2729576,   0.2385284,\n",
       "         0.366778 ,   0.5525911])"
      ]
     },
     "execution_count": 54,
     "metadata": {},
     "output_type": "execute_result"
    }
   ],
   "source": [
    "# find_embedding times for subdivisions in the first hierarchical run\n",
    "first_run = sampleset_datas_heu[0]\n",
    "first_run.time_measurements.find_heuristic_embedding_time_s"
   ]
  },
  {
   "cell_type": "markdown",
   "id": "1309fa72",
   "metadata": {},
   "source": [
    "`sample` function - communication with the solver"
   ]
  },
  {
   "cell_type": "code",
   "execution_count": 56,
   "id": "12742aff",
   "metadata": {},
   "outputs": [
    {
     "data": {
      "text/plain": [
       "array([0.1636481, 0.0431659, 0.0289183, 0.0279749, 0.0173655, 0.0258077,\n",
       "       0.0220367, 0.027769 , 0.0193952, 0.0207995, 0.0238114, 0.0202728,\n",
       "       0.0563187, 0.0270137, 0.0230981, 0.0201787, 0.0190755, 0.0271363,\n",
       "       0.023578 , 0.0182567, 0.0402263, 0.0308277])"
      ]
     },
     "execution_count": 56,
     "metadata": {},
     "output_type": "execute_result"
    }
   ],
   "source": [
    "first_run = sampleset_datas_heu[0]\n",
    "first_run.time_measurements.sample_func_time_s"
   ]
  },
  {
   "cell_type": "markdown",
   "id": "396015bd",
   "metadata": {},
   "source": [
    "Results heuristic embedding qpu_access_time"
   ]
  },
  {
   "cell_type": "code",
   "execution_count": 44,
   "id": "1f89040f",
   "metadata": {},
   "outputs": [
    {
     "data": {
      "text/plain": [
       "array([38002.76, 32587.16, 27372.76, 25192.36, 24209.96, 24630.76,\n",
       "       26503.56, 27692.36, 30662.36, 25495.96, 26767.96, 25691.96,\n",
       "       27411.96, 27394.76, 29082.76, 34311.96, 24251.96, 23491.96,\n",
       "       26910.36, 31259.96, 25163.96, 29028.36, 23139.96, 26447.96])"
      ]
     },
     "execution_count": 44,
     "metadata": {},
     "output_type": "execute_result"
    }
   ],
   "source": [
    "it_searcher_iteration_to_consider = 2\n",
    "\n",
    "res_heu.samplesets_data[it_searcher_iteration_to_consider].dwave_sampleset_metadata.qpu_access_time_us"
   ]
  },
  {
   "cell_type": "code",
   "execution_count": 45,
   "id": "42ceafba",
   "metadata": {},
   "outputs": [
    {
     "name": "stdout",
     "output_type": "stream",
     "text": [
      "Total QPU access time for the iteration: 2: 662705.84 microseconds == 0.6627 seconds\n"
     ]
    }
   ],
   "source": [
    "total_qpu_time_iteration_i = res_heu.samplesets_data[it_searcher_iteration_to_consider].dwave_sampleset_metadata.qpu_access_time_us.sum()\n",
    "print(f\"Total QPU access time for the iteration: {it_searcher_iteration_to_consider}: {total_qpu_time_iteration_i:.2f} microseconds == {total_qpu_time_iteration_i / 1e6:.4f} seconds\")"
   ]
  },
  {
   "cell_type": "code",
   "execution_count": 46,
   "id": "e3d66616",
   "metadata": {},
   "outputs": [
    {
     "data": {
      "text/plain": [
       "[612521.12, 661713.04, 662705.84, 535441.24, 620261.9199999999]"
      ]
     },
     "execution_count": 46,
     "metadata": {},
     "output_type": "execute_result"
    }
   ],
   "source": [
    "qpu_access_times_from_5_hierarchical_runs_heu_emb = [run.samplesets_data.dwave_sampleset_metadata.qpu_access_time_us.sum() for run in res_heu]\n",
    "qpu_access_times_from_5_hierarchical_runs_heu_emb"
   ]
  },
  {
   "cell_type": "code",
   "execution_count": 47,
   "id": "f91d10b2",
   "metadata": {},
   "outputs": [
    {
     "data": {
      "text/plain": [
       "[612521.12, 661713.04, 662705.84, 535441.24, 620261.9199999999]"
      ]
     },
     "execution_count": 47,
     "metadata": {},
     "output_type": "execute_result"
    }
   ],
   "source": [
    "qpu_access_times_from_5_hierarchical_runs_heu_emb"
   ]
  },
  {
   "cell_type": "markdown",
   "id": "4156ded7",
   "metadata": {},
   "source": [
    "Let's compare them against clique embedding times"
   ]
  },
  {
   "cell_type": "code",
   "execution_count": 49,
   "id": "2701bc87",
   "metadata": {},
   "outputs": [
    {
     "data": {
      "text/plain": [
       "[798828.9600000001,\n",
       " 709913.8799999999,\n",
       " 713414.2800000003,\n",
       " 714186.2800000003,\n",
       " 689758.72]"
      ]
     },
     "execution_count": 49,
     "metadata": {},
     "output_type": "execute_result"
    }
   ],
   "source": [
    "# previous runs with clique embedding from top of this notebook\n",
    "samplesets_metadata_cl_emb_5_runs = np.load(f\"{test_dir}/advantage_clique_samplesets_data.pkl\", allow_pickle=True)\n",
    "qpu_access_times_from_5_hierarchical_runs_cl_emb = [run.dwave_sampleset_metadata.qpu_access_time_us.sum() for run in samplesets_metadata_cl_emb_5_runs]\n",
    "qpu_access_times_from_5_hierarchical_runs_cl_emb"
   ]
  },
  {
   "cell_type": "code",
   "execution_count": 50,
   "id": "2352ee07",
   "metadata": {},
   "outputs": [
    {
     "data": {
      "image/png": "[encoded data removed]",
      "text/plain": [
       "<Figure size 640x480 with 1 Axes>"
      ]
     },
     "metadata": {},
     "output_type": "display_data"
    }
   ],
   "source": [
    "plt.plot(qpu_access_times_from_5_hierarchical_runs_heu_emb, marker=\"o\", label=\"Heuristic embedding\")\n",
    "plt.plot(qpu_access_times_from_5_hierarchical_runs_cl_emb, marker=\"o\", label=\"Clique embedding\")\n",
    "plt.legend()\n",
    "plt.xlabel(\"Hierarchical search number (iteration)\");\n",
    "plt.ylabel(\"QPU access time (microseconds) of a given run\");\n",
    "plt.title(\"QPU access times in 5 runs of community search with Advantage heuristic embedding vs. clique embedding\");"
   ]
  }
 ],
 "metadata": {
  "kernelspec": {
   "display_name": "qomm_env",
   "language": "python",
   "name": "python3"
  },
  "language_info": {
   "codemirror_mode": {
    "name": "ipython",
    "version": 3
   },
   "file_extension": ".py",
   "mimetype": "text/x-python",
   "name": "python",
   "nbconvert_exporter": "python",
   "pygments_lexer": "ipython3",
   "version": "3.10.14"
  }
 },
 "nbformat": 4,
 "nbformat_minor": 5
}
