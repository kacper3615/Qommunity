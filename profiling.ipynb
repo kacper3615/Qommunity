{
 "cells": [
  {
   "cell_type": "code",
   "execution_count": 3,
   "metadata": {},
   "outputs": [],
   "source": [
    "from tqdm import tqdm\n",
    "import numpy as np\n",
    "import networkx as nx\n",
    "import os\n",
    "\n",
    "from Qommunity.samplers.hierarchical.advantage_sampler import AdvantageSampler\n",
    "# from Qommunity.samplers.hierarchical.gurobi_sampler import GurobiSampler\n",
    "from Qommunity.searchers.hierarchical_community_searcher import HierarchicalCommunitySearcher\n",
    "\n",
    "\n",
    "\n",
    "def make_dir(dir):\n",
    "    if not os.path.exists(dir):\n",
    "        os.mkdir(dir)\n",
    "\n",
    "\n",
    "\n",
    "MIN_NODES = 10\n",
    "MAX_NODES = 100\n",
    "\n",
    "num_nodes = np.linspace(MIN_NODES, MAX_NODES, MAX_NODES//MIN_NODES)\n",
    "\n",
    "\n",
    "dir = \"networks/powerlaw_m=1_p=0.2\"\n",
    "os.makedirs(os.path.dirname(dir+\"/\"), exist_ok=True)\n",
    "\n",
    "solver = \"advantage\"\n",
    "\n",
    "\n",
    "try:\n",
    "    Graphs = np.load(f\"{dir}/graphs.npy\", allow_pickle=True)\n",
    "except:\n",
    "    Graphs = np.empty(shape=(len(num_nodes),), dtype=object)\n",
    "    for i, n in enumerate(num_nodes):\n",
    "        Graphs[i] = nx.powerlaw_cluster_graph(n=n, m=1, p=0.2)\n",
    "    np.save(f\"{dir}/graphs.npy\", Graphs)\n",
    "\n",
    "\n",
    "\n",
    "\n",
    "dir = \"profiling\"\n",
    "os.makedirs(os.path.dirname(dir+\"/\"), exist_ok=True)\n",
    "make_dir(f\"{dir}/{solver}\")"
   ]
  },
  {
   "cell_type": "code",
   "execution_count": 4,
   "metadata": {},
   "outputs": [],
   "source": [
    "N_RUNS = 1\n",
    "\n",
    "G_idx = 1\n",
    "\n",
    "def run_adv():\n",
    "    mods = np.zeros((num_nodes[:G_idx].shape[0], N_RUNS))\n",
    "    comms = np.empty((num_nodes[:G_idx].shape[0], N_RUNS), dtype=object)\n",
    "\n",
    "    mods_graph_N = np.zeros((N_RUNS))\n",
    "    comms_graph_N = np.empty((N_RUNS), dtype=object)\n",
    "    for i, G in tqdm(enumerate(Graphs[:G_idx])):\n",
    "        current_net_size = int(G.number_of_nodes())    \n",
    "        for r in range(N_RUNS):\n",
    "            # new instance of the sampler each time\n",
    "            advantage = AdvantageSampler(G, num_reads=100)\n",
    "            hierch_searcher = HierarchicalCommunitySearcher(advantage)\n",
    "            comms_res = hierch_searcher.hierarchical_community_search()\n",
    "            \n",
    "            mod_score = nx.community.modularity(G, comms_res)\n",
    "            mods_graph_N[r] = mod_score\n",
    "            comms_graph_N[r] = comms_res\n",
    "\n",
    "            try:\n",
    "                np.save(f\"{dir}/{solver}/{solver}-network_size_{current_net_size}\", mods_graph_N)\n",
    "                np.save(f\"{dir}/{solver}/{solver}-network_size_{current_net_size}_comms\", comms_graph_N)\n",
    "            except Exception as e:\n",
    "                print(f\"iter: {i} run: {r} saving failed\")\n",
    "                print(e)\n",
    "\n",
    "        # current_net_size = int(num_nodes[i])\n",
    "        current_net_size = int(G.number_of_nodes())\n",
    "        mods[i] = mods_graph_N\n",
    "        comms[i] = comms_graph_N\n",
    "        np.save(f\"{dir}/{solver}/{solver}-network_size_{current_net_size}\", mods_graph_N)\n",
    "        np.save(f\"{dir}/{solver}/{solver}-network_size_{current_net_size}_comms\", comms_graph_N)\n",
    "\n",
    "    np.save(f\"{dir}/{solver}/{solver}-mods_final\", mods)\n",
    "    np.save(f\"{dir}/{solver}/{solver}-comms_final\", comms)"
   ]
  },
  {
   "cell_type": "code",
   "execution_count": 7,
   "metadata": {},
   "outputs": [
    {
     "name": "stderr",
     "output_type": "stream",
     "text": [
      "1it [00:09,  9.54s/it]"
     ]
    },
    {
     "name": "stdout",
     "output_type": "stream",
     "text": [
      " "
     ]
    },
    {
     "name": "stderr",
     "output_type": "stream",
     "text": [
      "\n"
     ]
    },
    {
     "name": "stdout",
     "output_type": "stream",
     "text": [
      "         2517294 function calls (2459329 primitive calls) in 9.541 seconds\n",
      "\n",
      "   Ordered by: cumulative time\n",
      "   List reduced from 1305 to 7 due to restriction <7>\n",
      "\n",
      "   ncalls  tottime  percall  cumtime  percall filename:lineno(function)\n",
      "        1    0.000    0.000    9.541    9.541 {built-in method builtins.exec}\n",
      "        1    0.000    0.000    9.541    9.541 2671447358.py:5(run_adv)\n",
      "        1    0.000    0.000    9.527    9.527 hierarchical_community_searcher.py:40(hierarchical_community_search)\n",
      "      5/1    0.000    0.000    9.527    9.527 hierarchical_community_searcher.py:126(_hierarchical_search_recursion)\n",
      "        5    0.015    0.003    9.517    1.903 advantage_sampler.py:34(sample_qubo_to_dict)\n",
      "        5    0.000    0.000    9.502    1.900 advantage.py:123(solve)\n",
      "       75    0.000    0.000    5.728    0.076 threading.py:589(wait)"
     ]
    }
   ],
   "source": [
    "%prun -l 7 -s cumulative run_adv()"
   ]
  }
 ],
 "metadata": {
  "kernelspec": {
   "display_name": "Python 3",
   "language": "python",
   "name": "python3"
  },
  "language_info": {
   "codemirror_mode": {
    "name": "ipython",
    "version": 3
   },
   "file_extension": ".py",
   "mimetype": "text/x-python",
   "name": "python",
   "nbconvert_exporter": "python",
   "pygments_lexer": "ipython3",
   "version": "3.10.11"
  }
 },
 "nbformat": 4,
 "nbformat_minor": 2
}
