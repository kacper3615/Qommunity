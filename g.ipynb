{
 "cells": [
  {
   "cell_type": "code",
   "execution_count": 1,
   "id": "890e3201",
   "metadata": {},
   "outputs": [],
   "source": [
    "from Qommunity.samplers.hierarchical.gurobi_sampler import GurobiSampler\n",
    "from Qommunity.searchers.hierarchical_searcher import HierarchicalSearcher\n",
    "from Qommunity.iterative_searcher import IterativeSearcher"
   ]
  },
  {
   "cell_type": "code",
   "execution_count": 2,
   "id": "176c5be4",
   "metadata": {},
   "outputs": [],
   "source": [
    "import numpy as np\n",
    "import networkx as nx\n",
    "import matplotlib.pyplot as plt"
   ]
  },
  {
   "cell_type": "code",
   "execution_count": 3,
   "id": "405e531b",
   "metadata": {},
   "outputs": [],
   "source": [
    "G = nx.powerlaw_cluster_graph(n=100, m=1, p=0.1)"
   ]
  },
  {
   "cell_type": "code",
   "execution_count": 4,
   "id": "ee28e4dc",
   "metadata": {},
   "outputs": [],
   "source": [
    "gurobi = GurobiSampler(G)"
   ]
  },
  {
   "cell_type": "code",
   "execution_count": null,
   "id": "714be7ce",
   "metadata": {},
   "outputs": [],
   "source": []
  },
  {
   "cell_type": "code",
   "execution_count": 5,
   "id": "3c0efed6",
   "metadata": {},
   "outputs": [
    {
     "name": "stdout",
     "output_type": "stream",
     "text": [
      "SolverResult(probabilities=rec.array([(1, 1, 0, 1, 0, 1, 1, 1, 1, 0, 1, 1, 0, 1, 0, 0, 0, 0, 0, 0, 1, 1, 0, 0, 0, 0, 1, 0, 0, 0, 1, 0, 1, 0, 0, 1, 1, 1, 1, 1, 1, 0, 1, 1, 1, 0, 0, 0, 1, 1, 0, 1, 1, 0, 0, 0, 0, 0, 0, 0, 1, 0, 0, 0, 0, 0, 1, 1, 1, 0, 1, 1, 0, 0, 1, 1, 0, 0, 1, 1, 1, 1, 1, 0, 0, 1, 0, 1, 1, 1, 1, 0, 0, 0, 0, 0, 0, 1, 0, 1, 1.)],\n",
      "          dtype=[('x11', '<i4'), ('x34', '<i4'), ('x51', '<i4'), ('x87', '<i4'), ('x7', '<i4'), ('x82', '<i4'), ('x68', '<i4'), ('x37', '<i4'), ('x25', '<i4'), ('x9', '<i4'), ('x27', '<i4'), ('x77', '<i4'), ('x15', '<i4'), ('x81', '<i4'), ('x60', '<i4'), ('x5', '<i4'), ('x93', '<i4'), ('x17', '<i4'), ('x16', '<i4'), ('x48', '<i4'), ('x96', '<i4'), ('x4', '<i4'), ('x23', '<i4'), ('x54', '<i4'), ('x57', '<i4'), ('x26', '<i4'), ('x63', '<i4'), ('x24', '<i4'), ('x69', '<i4'), ('x94', '<i4'), ('x41', '<i4'), ('x18', '<i4'), ('x71', '<i4'), ('x0', '<i4'), ('x42', '<i4'), ('x64', '<i4'), ('x66', '<i4'), ('x85', '<i4'), ('x22', '<i4'), ('x47', '<i4'), ('x28', '<i4'), ('x86', '<i4'), ('x59', '<i4'), ('x31', '<i4'), ('x83', '<i4'), ('x79', '<i4'), ('x21', '<i4'), ('x50', '<i4'), ('x1', '<i4'), ('x20', '<i4'), ('x65', '<i4'), ('x44', '<i4'), ('x46', '<i4'), ('x10', '<i4'), ('x19', '<i4'), ('x62', '<i4'), ('x97', '<i4'), ('x13', '<i4'), ('x52', '<i4'), ('x32', '<i4'), ('x30', '<i4'), ('x33', '<i4'), ('x74', '<i4'), ('x95', '<i4'), ('x75', '<i4'), ('x40', '<i4'), ('x61', '<i4'), ('x98', '<i4'), ('x78', '<i4'), ('x35', '<i4'), ('x3', '<i4'), ('x36', '<i4'), ('x8', '<i4'), ('x58', '<i4'), ('x12', '<i4'), ('x88', '<i4'), ('x56', '<i4'), ('x39', '<i4'), ('x43', '<i4'), ('x6', '<i4'), ('x76', '<i4'), ('x53', '<i4'), ('x99', '<i4'), ('x90', '<i4'), ('x55', '<i4'), ('x29', '<i4'), ('x70', '<i4'), ('x72', '<i4'), ('x89', '<i4'), ('x38', '<i4'), ('x45', '<i4'), ('x80', '<i4'), ('x91', '<i4'), ('x73', '<i4'), ('x84', '<i4'), ('x14', '<i4'), ('x67', '<i4'), ('x2', '<i4'), ('x49', '<i4'), ('x92', '<i4'), ('probability', '<f8')]), params={}, history=[], sampleset_info=None)\n"
     ]
    },
    {
     "ename": "AttributeError",
     "evalue": "'SolverResult' object has no attribute 'get'",
     "output_type": "error",
     "traceback": [
      "\u001b[1;31m---------------------------------------------------------------------------\u001b[0m",
      "\u001b[1;31mAttributeError\u001b[0m                            Traceback (most recent call last)",
      "Cell \u001b[1;32mIn[5], line 2\u001b[0m\n\u001b[0;32m      1\u001b[0m hierarchal_searcher \u001b[38;5;241m=\u001b[39m HierarchicalSearcher(gurobi)\n\u001b[1;32m----> 2\u001b[0m res \u001b[38;5;241m=\u001b[39m \u001b[43mhierarchal_searcher\u001b[49m\u001b[38;5;241;43m.\u001b[39;49m\u001b[43mhierarchical_community_search\u001b[49m\u001b[43m(\u001b[49m\u001b[43m)\u001b[49m\n",
      "File \u001b[1;32m~\\Desktop\\Praca_Inzynierska_2024\\Qommunity\\Qommunity\\searchers\\hierarchical_searcher\\hierarchical_searcher.py:61\u001b[0m, in \u001b[0;36mHierarchicalSearcher.hierarchical_community_search\u001b[1;34m(self, verbosity, max_depth, division_tree, return_modularities, return_sampleset_info)\u001b[0m\n\u001b[0;32m     57\u001b[0m     division_tree \u001b[38;5;241m=\u001b[39m []\n\u001b[0;32m     59\u001b[0m samples \u001b[38;5;241m=\u001b[39m []\n\u001b[1;32m---> 61\u001b[0m result \u001b[38;5;241m=\u001b[39m \u001b[38;5;28;43mself\u001b[39;49m\u001b[38;5;241;43m.\u001b[39;49m\u001b[43m_hierarchical_search_recursion\u001b[49m\u001b[43m(\u001b[49m\n\u001b[0;32m     62\u001b[0m \u001b[43m    \u001b[49m\u001b[43mverbosity\u001b[49m\u001b[38;5;241;43m=\u001b[39;49m\u001b[43mverbosity\u001b[49m\u001b[43m,\u001b[49m\n\u001b[0;32m     63\u001b[0m \u001b[43m    \u001b[49m\u001b[43mlevel\u001b[49m\u001b[38;5;241;43m=\u001b[39;49m\u001b[38;5;241;43m1\u001b[39;49m\u001b[43m,\u001b[49m\n\u001b[0;32m     64\u001b[0m \u001b[43m    \u001b[49m\u001b[43mmax_depth\u001b[49m\u001b[38;5;241;43m=\u001b[39;49m\u001b[43mmax_depth\u001b[49m\u001b[43m,\u001b[49m\n\u001b[0;32m     65\u001b[0m \u001b[43m    \u001b[49m\u001b[43mdivision_tree\u001b[49m\u001b[38;5;241;43m=\u001b[39;49m\u001b[43mdivision_tree\u001b[49m\u001b[43m,\u001b[49m\n\u001b[0;32m     66\u001b[0m \u001b[43m    \u001b[49m\u001b[43msamples\u001b[49m\u001b[38;5;241;43m=\u001b[39;49m\u001b[43msamples\u001b[49m\u001b[43m,\u001b[49m\n\u001b[0;32m     67\u001b[0m \u001b[43m    \u001b[49m\u001b[43mreturn_sampleset_info\u001b[49m\u001b[38;5;241;43m=\u001b[39;49m\u001b[43mreturn_sampleset_info\u001b[49m\u001b[43m,\u001b[49m\n\u001b[0;32m     68\u001b[0m \u001b[43m\u001b[49m\u001b[43m)\u001b[49m\n\u001b[0;32m     70\u001b[0m \u001b[38;5;28;01mif\u001b[39;00m division_tree:\n\u001b[0;32m     71\u001b[0m     \u001b[38;5;28;01mfor\u001b[39;00m i \u001b[38;5;129;01min\u001b[39;00m \u001b[38;5;28mrange\u001b[39m(\u001b[38;5;241m1\u001b[39m, \u001b[38;5;28mlen\u001b[39m(division_tree)):\n\u001b[0;32m     72\u001b[0m         \u001b[38;5;66;03m# Flatten the list\u001b[39;00m\n",
      "File \u001b[1;32m~\\Desktop\\Praca_Inzynierska_2024\\Qommunity\\Qommunity\\searchers\\hierarchical_searcher\\hierarchical_searcher.py:177\u001b[0m, in \u001b[0;36mHierarchicalSearcher._hierarchical_search_recursion\u001b[1;34m(self, verbosity, max_depth, level, community, division_tree, samples, return_sampleset_info)\u001b[0m\n\u001b[0;32m    173\u001b[0m     sample \u001b[38;5;241m=\u001b[39m \u001b[38;5;28mself\u001b[39m\u001b[38;5;241m.\u001b[39msampler\u001b[38;5;241m.\u001b[39msample_qubo_to_dict()\n\u001b[0;32m    175\u001b[0m \u001b[38;5;28mprint\u001b[39m(sample)\n\u001b[1;32m--> 177\u001b[0m c0, c1 \u001b[38;5;241m=\u001b[39m \u001b[38;5;28;43mself\u001b[39;49m\u001b[38;5;241;43m.\u001b[39;49m\u001b[43m_split_dict_to_lists\u001b[49m\u001b[43m(\u001b[49m\u001b[43msample\u001b[49m\u001b[43m,\u001b[49m\u001b[43m \u001b[49m\u001b[43mcommunity\u001b[49m\u001b[43m)\u001b[49m\n\u001b[0;32m    179\u001b[0m \u001b[38;5;28;01mif\u001b[39;00m verbosity \u001b[38;5;241m>\u001b[39m\u001b[38;5;241m=\u001b[39m \u001b[38;5;241m2\u001b[39m:\n\u001b[0;32m    180\u001b[0m     \u001b[38;5;28mprint\u001b[39m(\u001b[38;5;124m\"\u001b[39m\u001b[38;5;124mBase community:\u001b[39m\u001b[38;5;124m\"\u001b[39m, community, sep\u001b[38;5;241m=\u001b[39m\u001b[38;5;124m\"\u001b[39m\u001b[38;5;130;01m\\n\u001b[39;00m\u001b[38;5;124m\"\u001b[39m)\n",
      "File \u001b[1;32m~\\Desktop\\Praca_Inzynierska_2024\\Qommunity\\Qommunity\\searchers\\hierarchical_searcher\\hierarchical_searcher.py:229\u001b[0m, in \u001b[0;36mHierarchicalSearcher._split_dict_to_lists\u001b[1;34m(self, dictionary, community)\u001b[0m\n\u001b[0;32m    227\u001b[0m c0, c1 \u001b[38;5;241m=\u001b[39m [], []\n\u001b[0;32m    228\u001b[0m \u001b[38;5;28;01mfor\u001b[39;00m i \u001b[38;5;129;01min\u001b[39;00m community:\n\u001b[1;32m--> 229\u001b[0m     value \u001b[38;5;241m=\u001b[39m \u001b[43mdictionary\u001b[49m\u001b[38;5;241;43m.\u001b[39;49m\u001b[43mget\u001b[49m(\u001b[38;5;124mf\u001b[39m\u001b[38;5;124m\"\u001b[39m\u001b[38;5;124mx\u001b[39m\u001b[38;5;132;01m{\u001b[39;00mi\u001b[38;5;132;01m}\u001b[39;00m\u001b[38;5;124m\"\u001b[39m, \u001b[38;5;28;01mNone\u001b[39;00m)\n\u001b[0;32m    230\u001b[0m     \u001b[38;5;28;01mif\u001b[39;00m value \u001b[38;5;241m==\u001b[39m \u001b[38;5;241m0\u001b[39m:\n\u001b[0;32m    231\u001b[0m         c0\u001b[38;5;241m.\u001b[39mappend(i)\n",
      "\u001b[1;31mAttributeError\u001b[0m: 'SolverResult' object has no attribute 'get'"
     ]
    }
   ],
   "source": [
    "hierarchal_searcher = HierarchicalSearcher(gurobi)\n",
    "res = hierarchal_searcher.hierarchical_community_search()"
   ]
  }
 ],
 "metadata": {
  "kernelspec": {
   "display_name": "qomm_env",
   "language": "python",
   "name": "python3"
  },
  "language_info": {
   "codemirror_mode": {
    "name": "ipython",
    "version": 3
   },
   "file_extension": ".py",
   "mimetype": "text/x-python",
   "name": "python",
   "nbconvert_exporter": "python",
   "pygments_lexer": "ipython3",
   "version": "3.10.14"
  }
 },
 "nbformat": 4,
 "nbformat_minor": 5
}
